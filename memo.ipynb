{
 "cells": [
  {
   "cell_type": "code",
   "execution_count": 93,
   "id": "7af7bc81-4585-44a2-933c-a2db0f5565be",
   "metadata": {
    "tags": []
   },
   "outputs": [],
   "source": [
    "text1 = \"Hello World\"\n",
    "text2 = \"UPPER\"\n",
    "text3 = \"lower\""
   ]
  },
  {
   "cell_type": "code",
   "execution_count": 96,
   "id": "15e52748-835e-433f-a5a4-38a6e75d4139",
   "metadata": {
    "tags": []
   },
   "outputs": [
    {
     "name": "stdout",
     "output_type": "stream",
     "text": [
      "False\n",
      "True\n",
      "False\n"
     ]
    }
   ],
   "source": [
    "print(text1.isupper())\n",
    "print(text2.isupper())\n",
    "print(text3.isupper())"
   ]
  },
  {
   "cell_type": "code",
   "execution_count": 97,
   "id": "407a55d4-7114-4547-b738-5f1f7dacef47",
   "metadata": {
    "tags": []
   },
   "outputs": [
    {
     "name": "stdout",
     "output_type": "stream",
     "text": [
      "False\n",
      "False\n",
      "True\n"
     ]
    }
   ],
   "source": [
    "print(text1.islower())\n",
    "print(text2.islower())\n",
    "print(text3.islower())"
   ]
  },
  {
   "cell_type": "code",
   "execution_count": 98,
   "id": "c59c49ef-ce4c-4bba-9820-4533f13836cc",
   "metadata": {
    "tags": []
   },
   "outputs": [
    {
     "name": "stdout",
     "output_type": "stream",
     "text": [
      "HELLO WORLD\n",
      "UPPER\n",
      "LOWER\n"
     ]
    }
   ],
   "source": [
    "print(text1.upper())\n",
    "print(text2.upper())\n",
    "print(text3.upper())"
   ]
  },
  {
   "cell_type": "code",
   "execution_count": 99,
   "id": "4a0150f3-e0f6-49cc-bde8-75cc03f2a4ce",
   "metadata": {
    "tags": []
   },
   "outputs": [
    {
     "name": "stdout",
     "output_type": "stream",
     "text": [
      "hello world\n",
      "upper\n",
      "lower\n"
     ]
    }
   ],
   "source": [
    "print(text1.lower())\n",
    "print(text2.lower())\n",
    "print(text3.lower())"
   ]
  },
  {
   "cell_type": "code",
   "execution_count": null,
   "id": "7690b2e8-895a-4287-98dc-b8746be6b986",
   "metadata": {},
   "outputs": [],
   "source": []
  }
 ],
 "metadata": {
  "kernelspec": {
   "display_name": "Python 3 (ipykernel)",
   "language": "python",
   "name": "python3"
  },
  "language_info": {
   "codemirror_mode": {
    "name": "ipython",
    "version": 3
   },
   "file_extension": ".py",
   "mimetype": "text/x-python",
   "name": "python",
   "nbconvert_exporter": "python",
   "pygments_lexer": "ipython3",
   "version": "3.10.0"
  }
 },
 "nbformat": 4,
 "nbformat_minor": 5
}
