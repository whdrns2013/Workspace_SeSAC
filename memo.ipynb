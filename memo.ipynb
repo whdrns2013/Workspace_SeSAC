{
 "cells": [
  {
   "cell_type": "code",
   "execution_count": 2,
   "id": "b271c0f5-7240-4903-b0c3-7790d4d33453",
   "metadata": {},
   "outputs": [],
   "source": [
    "import pandas\n",
    "import random"
   ]
  },
  {
   "cell_type": "code",
   "execution_count": 4,
   "id": "5e17daee-5085-431b-9328-a1bf473cd20b",
   "metadata": {
    "tags": []
   },
   "outputs": [
    {
     "data": {
      "text/plain": [
       "7"
      ]
     },
     "execution_count": 4,
     "metadata": {},
     "output_type": "execute_result"
    }
   ],
   "source": [
    "ran = random.randint(0, 10)\n",
    "ran"
   ]
  },
  {
   "cell_type": "code",
   "execution_count": 5,
   "id": "115addc4-c150-4ceb-83f2-031284dc41f8",
   "metadata": {
    "tags": []
   },
   "outputs": [],
   "source": [
    "df = pandas.DataFrame()"
   ]
  },
  {
   "cell_type": "code",
   "execution_count": 16,
   "id": "806e9a38-3b29-4cb6-82b7-cd0b2322e6f2",
   "metadata": {
    "tags": []
   },
   "outputs": [
    {
     "name": "stdout",
     "output_type": "stream",
     "text": [
      "[[9, 10, 5], [5, 7, 3], [9, 6, 0], [2, 10, 1], [4, 9, 1]]\n",
      "       1열    2열   3열\n",
      "첫번째   9.0  10.0  5.0\n",
      "두번째   5.0   7.0  3.0\n",
      "세번째   9.0   6.0  0.0\n",
      "네번째   2.0  10.0  1.0\n",
      "다섯번째  4.0   9.0  1.0\n"
     ]
    }
   ],
   "source": [
    "import pandas as pd\n",
    "import random\n",
    "\n",
    "ls_list = []\n",
    "\n",
    "for i in range(5):\n",
    "    ls = []\n",
    "    for j in range(3):\n",
    "        ls.append(random.randint(0, 10))\n",
    "    ls_list.append(ls)\n",
    "\n",
    "print(ls_list)\n",
    "\n",
    "\n",
    "df = pd.DataFrame(data = ls_list, index = [\"첫번째\",\"두번째\",\"세번째\",\"네번째\",\"다섯번째\"],\n",
    "                 columns=[\"1열\",\"2열\",\"3열\"],\n",
    "                 dtype=float,\n",
    "                 copy=)\n",
    "print(df)"
   ]
  },
  {
   "cell_type": "code",
   "execution_count": 23,
   "id": "fd4f5e0a-f503-4d54-8695-cec0220d9df6",
   "metadata": {
    "tags": []
   },
   "outputs": [
    {
     "name": "stdout",
     "output_type": "stream",
     "text": [
      "[[1000, 10, 5], [5, 7, 3], [9, 6, 0]]\n",
      "   0   1  2\n",
      "0  9  10  5\n",
      "1  5   7  3\n",
      "2  9   6  0\n",
      "   0   1  2\n",
      "0  9  10  5\n",
      "1  5   7  3\n",
      "2  9   6  0\n"
     ]
    }
   ],
   "source": [
    "ls_list = [[9, 10, 5], [5, 7, 3], [9, 6, 0]]\n",
    "\n",
    "df_copy = pd.DataFrame(ls_list, copy=True)\n",
    "df_nocopy = pd.DataFrame(ls_list, copy=False)\n",
    "\n",
    "ls_list[0][0] = 1000\n",
    "print(ls_list)\n",
    "\n",
    "print(df_copy)\n",
    "print(df_nocopy)"
   ]
  },
  {
   "cell_type": "code",
   "execution_count": 3,
   "id": "507861b3-7342-45a5-ad27-3cbf4d7b79f9",
   "metadata": {
    "tags": []
   },
   "outputs": [
    {
     "name": "stdout",
     "output_type": "stream",
     "text": [
      "      0  1\n",
      "0  1000  6\n",
      "1     0  0\n",
      "   0  1\n",
      "0  0  6\n",
      "1  0  0\n",
      "      0  1\n",
      "0  1000  6\n",
      "1     0  0\n"
     ]
    }
   ],
   "source": [
    "import pandas as pd\n",
    "import numpy as np\n",
    "\n",
    "arr = np.random.randint(10, size=(2, 2))\n",
    "\n",
    "df_nocopy = pd.DataFrame(arr, copy=False)\n",
    "df_copy = pd.DataFrame(arr, copy=True)\n",
    "df_default = pd.DataFrame(arr)\n",
    "\n",
    "arr[0,0] = 1000\n",
    "print(df_nocopy)\n",
    "print(df_copy)\n",
    "print(df_default)\n"
   ]
  },
  {
   "cell_type": "code",
   "execution_count": 80,
   "id": "62ae4431-e779-4d2e-9dfa-60f7f2216895",
   "metadata": {
    "tags": []
   },
   "outputs": [
    {
     "name": "stdout",
     "output_type": "stream",
     "text": [
      "RangeIndex(start=0, stop=7, step=1)\n",
      "Index(['번호', '자동차명', '연비', '가격', '판매량'], dtype='object')\n",
      "[[1 '1번자동차' 15 1500 900]\n",
      " [2 '2번자동차' 14 2100 800]\n",
      " [3 '3번자동차' 2 3500 100]\n",
      " [4 '4번자동차' 8 2000 200]\n",
      " [5 '5번자동차' 8 1200 100]\n",
      " [6 '6번자동차' 5 1000 300]\n",
      " [7 '7번자동차' 10 1100 400]]\n",
      "<bound method NDFrame.keys of    번호   자동차명  연비    가격  판매량\n",
      "0   1  1번자동차  15  1500  900\n",
      "1   2  2번자동차  14  2100  800\n",
      "2   3  3번자동차   2  3500  100\n",
      "3   4  4번자동차   8  2000  200\n",
      "4   5  5번자동차   8  1200  100\n",
      "5   6  6번자동차   5  1000  300\n",
      "6   7  7번자동차  10  1100  400>\n"
     ]
    }
   ],
   "source": [
    "import pandas as pd\n",
    "\n",
    "path = \"./car.xlsx\"\n",
    "df = pd.read_excel(path)\n",
    "\n",
    "print(df.index)\n",
    "print(df.columns)\n",
    "print(df.values)\n",
    "print(df.keys)"
   ]
  },
  {
   "cell_type": "code",
   "execution_count": 92,
   "id": "e7946bb9-d9ba-4ce7-b3c1-772268829184",
   "metadata": {
    "tags": []
   },
   "outputs": [
    {
     "name": "stdout",
     "output_type": "stream",
     "text": [
      "('번호', 0    1\n",
      "1    2\n",
      "2    3\n",
      "3    4\n",
      "4    5\n",
      "5    6\n",
      "6    7\n",
      "Name: 번호, dtype: int64)\n",
      "('자동차명', 0    1번자동차\n",
      "1    2번자동차\n",
      "2    3번자동차\n",
      "3    4번자동차\n",
      "4    5번자동차\n",
      "5    6번자동차\n",
      "6    7번자동차\n",
      "Name: 자동차명, dtype: object)\n",
      "('연비', 0    15\n",
      "1    14\n",
      "2     2\n",
      "3     8\n",
      "4     8\n",
      "5     5\n",
      "6    10\n",
      "Name: 연비, dtype: int64)\n",
      "('가격', 0    1500\n",
      "1    2100\n",
      "2    3500\n",
      "3    2000\n",
      "4    1200\n",
      "5    1000\n",
      "6    1100\n",
      "Name: 가격, dtype: int64)\n",
      "('판매량', 0    900\n",
      "1    800\n",
      "2    100\n",
      "3    200\n",
      "4    100\n",
      "5    300\n",
      "6    400\n",
      "Name: 판매량, dtype: int64)\n"
     ]
    }
   ],
   "source": [
    "tt = df.items()\n",
    "\n",
    "for t in tt:\n",
    "    print(t)"
   ]
  },
  {
   "cell_type": "code",
   "execution_count": 3,
   "id": "96e8c184-0070-466a-b98f-39e64e6994f5",
   "metadata": {
    "tags": []
   },
   "outputs": [
    {
     "name": "stdout",
     "output_type": "stream",
     "text": [
      "   번호   자동차명  연비    가격  판매량\n",
      "0   1  1번자동차  15  1500  900\n",
      "1   2  2번자동차  14  2100  800\n",
      "   번호   자동차명  연비    가격  판매량\n",
      "5   6  6번자동차   5  1000  300\n",
      "6   7  7번자동차  10  1100  400\n",
      "   번호   자동차명  연비    가격  판매량\n",
      "6   7  7번자동차  10  1100  400\n",
      "4   5  5번자동차   8  1200  100\n"
     ]
    }
   ],
   "source": [
    "print(df.head(2))\n",
    "print(df.tail(2))\n",
    "print(df.sample(2))"
   ]
  },
  {
   "cell_type": "code",
   "execution_count": 12,
   "id": "f2c6cb49-10b3-4b44-a980-d4977a4c5cd7",
   "metadata": {
    "tags": []
   },
   "outputs": [],
   "source": [
    "import pandas as pd\n",
    "\n",
    "path = \"./car_export\"\n",
    "\n",
    "df.to_csv(path + \".csv\")\n",
    "df.to_excel(path + \".xlsx\")\n",
    "df.to_json(path + \".json\")"
   ]
  },
  {
   "cell_type": "code",
   "execution_count": 23,
   "id": "70927920-afe5-42a5-8ef0-8cb1b74cd3ec",
   "metadata": {
    "tags": []
   },
   "outputs": [
    {
     "name": "stdout",
     "output_type": "stream",
     "text": [
      "0    1500\n",
      "1    2100\n",
      "2    3500\n",
      "3    2000\n",
      "4    1200\n",
      "5    1000\n",
      "6    1100\n",
      "Name: 가격, dtype: int64\n",
      "     가격  판매량\n",
      "0  1500  900\n",
      "1  2100  800\n",
      "2  3500  100\n",
      "3  2000  200\n",
      "4  1200  100\n",
      "5  1000  300\n",
      "6  1100  400\n",
      "번호          1\n",
      "자동차명    1번자동차\n",
      "연비         15\n",
      "가격       1500\n",
      "판매량       900\n",
      "Name: 0, dtype: object\n",
      "   번호   자동차명  연비    가격  판매량\n",
      "0   1  1번자동차  15  1500  900\n",
      "1   2  2번자동차  14  2100  800\n",
      "2   3  3번자동차   2  3500  100\n",
      "번호          1\n",
      "자동차명    1번자동차\n",
      "연비         15\n",
      "가격       1500\n",
      "판매량       900\n",
      "Name: 0, dtype: object\n",
      "   번호   자동차명  연비    가격  판매량\n",
      "0   1  1번자동차  15  1500  900\n",
      "1   2  2번자동차  14  2100  800\n",
      "   번호   자동차명  연비    가격  판매량\n",
      "2   3  3번자동차   2  3500  100\n",
      "4   5  5번자동차   8  1200  100\n"
     ]
    }
   ],
   "source": [
    "import pandas as pd\n",
    "\n",
    "path = \"./car.xlsx\"\n",
    "df = pd.read_excel(path)\n",
    "\n",
    "print(df[\"가격\"])\n",
    "print(df[[\"가격\", \"판매량\"]])\n",
    "print(df.loc[0])\n",
    "print(df.loc[0:2])\n",
    "print(df.iloc[0])\n",
    "print(df.iloc[0:2])\n",
    "print(df[df[\"판매량\"] == 100])"
   ]
  },
  {
   "cell_type": "code",
   "execution_count": 47,
   "id": "c6a61dbb-f4c6-4f05-b868-370507fb450f",
   "metadata": {
    "tags": []
   },
   "outputs": [
    {
     "name": "stdout",
     "output_type": "stream",
     "text": [
      "    1번열  2번열  3번열  4번열\n",
      "1번    7    0    0    1\n",
      "2번    1    7    4    7\n",
      "3번    0    9    6    0\n",
      "4번    3    0    7    1\n",
      "5번    5    4    1    5\n",
      "===============\n",
      "\n",
      "\n",
      "\n",
      "    1번열  2번열  3번열  4번열\n",
      "2번    1    7    4    7\n",
      "3번    0    9    6    0\n",
      "1번열    False\n",
      "2번열     True\n",
      "3번열     True\n",
      "4번열    False\n",
      "Name: 1번, dtype: bool\n"
     ]
    }
   ],
   "source": [
    "import pandas as pd\n",
    "import numpy as np\n",
    "\n",
    "ls_columns = [\"1번열\", \"2번열\", \"3번열\", \"4번열\"]\n",
    "ls_indices = [\"1번\", \"2번\", \"3번\", \"4번\", \"5번\"]\n",
    "value_arry = [[7, 0, 0, 1], [1, 7, 4, 7], [0, 9, 6, 0], [3, 0, 7, 1], [5, 4, 1, 5]]\n",
    "\n",
    "df = pd.DataFrame(value_arry, columns = ls_columns, index = ls_indices, copy = True)\n",
    "print(df)\n",
    "print(\"===============\\n\\n\\n\")\n",
    "\n",
    "print(df[df[\"2번열\"] > 5])\n",
    "print(df.loc[\"1번\"] == 0)"
   ]
  },
  {
   "cell_type": "code",
   "execution_count": 53,
   "id": "6d0b2b64-ed8f-408c-8b3d-2569139b0eca",
   "metadata": {
    "tags": []
   },
   "outputs": [
    {
     "name": "stdout",
     "output_type": "stream",
     "text": [
      "    1번열  2번열  3번열  4번열\n",
      "1번    7    0    0    1\n",
      "2번    1    7    4    7\n",
      "3번    0    9    6    0\n",
      "4번    3    0    7    1\n",
      "5번    5    4    1    5\n",
      "1번열    16\n",
      "2번열    20\n",
      "3번열    18\n",
      "4번열    14\n",
      "dtype: int64\n",
      "16\n",
      "1번열    10\n",
      "2번열     0\n",
      "3번열     7\n",
      "4번열     2\n",
      "dtype: int64\n"
     ]
    }
   ],
   "source": [
    "import pandas as pd\n",
    "import numpy as np\n",
    "\n",
    "ls_columns = [\"1번열\", \"2번열\", \"3번열\", \"4번열\"]\n",
    "ls_indices = [\"1번\", \"2번\", \"3번\", \"4번\", \"5번\"]\n",
    "value_arry = [[7, 0, 0, 1], [1, 7, 4, 7], [0, 9, 6, 0], [3, 0, 7, 1], [5, 4, 1, 5]]\n",
    "\n",
    "df = pd.DataFrame(value_arry, columns = ls_columns, index = ls_indices, copy = True)\n",
    "print(df)\n",
    "\n",
    "print(df.sum())\n",
    "print(df[\"1번열\"].sum())\n",
    "print(df[df[\"2번열\"] == 0].sum())"
   ]
  },
  {
   "cell_type": "code",
   "execution_count": 69,
   "id": "f26e0057-7f75-47fa-8925-d74de7abb0f1",
   "metadata": {
    "tags": []
   },
   "outputs": [
    {
     "name": "stdout",
     "output_type": "stream",
     "text": [
      "1번열    2.863564\n",
      "2번열    4.062019\n",
      "3번열    3.049590\n",
      "4번열    3.033150\n",
      "dtype: float64\n",
      "1번열     8.2\n",
      "2번열    16.5\n",
      "3번열     9.3\n",
      "4번열     9.2\n",
      "dtype: float64\n",
      "1번열    3.0\n",
      "2번열    4.0\n",
      "3번열    4.0\n",
      "4번열    1.0\n",
      "dtype: float64\n",
      "1번열    1.0\n",
      "2번열    0.0\n",
      "3번열    1.0\n",
      "4번열    1.0\n",
      "Name: 0.25, dtype: float64\n"
     ]
    }
   ],
   "source": [
    "print(df.std())\n",
    "print(df.var())\n",
    "print(df.median())\n",
    "print(df.quantile(0.25))\n"
   ]
  },
  {
   "cell_type": "code",
   "execution_count": 70,
   "id": "4d93db66-14c2-4e4e-b7e2-0463e128788f",
   "metadata": {
    "tags": []
   },
   "outputs": [
    {
     "data": {
      "text/plain": [
       "Index(['1번열', '2번열', '3번열', '4번열'], dtype='object')"
      ]
     },
     "execution_count": 70,
     "metadata": {},
     "output_type": "execute_result"
    }
   ],
   "source": [
    "df.keys()"
   ]
  },
  {
   "cell_type": "code",
   "execution_count": 72,
   "id": "3dfed9b1-001b-4065-a5f6-3056c7ad7210",
   "metadata": {
    "tags": []
   },
   "outputs": [
    {
     "data": {
      "text/plain": [
       "array([[7, 0, 0, 1],\n",
       "       [1, 7, 4, 7],\n",
       "       [0, 9, 6, 0],\n",
       "       [3, 0, 7, 1],\n",
       "       [5, 4, 1, 5]])"
      ]
     },
     "execution_count": 72,
     "metadata": {},
     "output_type": "execute_result"
    }
   ],
   "source": [
    "df.values"
   ]
  },
  {
   "cell_type": "code",
   "execution_count": null,
   "id": "9d3de05e-4533-4562-b8a3-eb0da1922e0d",
   "metadata": {},
   "outputs": [],
   "source": []
  }
 ],
 "metadata": {
  "kernelspec": {
   "display_name": "Python 3 (ipykernel)",
   "language": "python",
   "name": "python3"
  },
  "language_info": {
   "codemirror_mode": {
    "name": "ipython",
    "version": 3
   },
   "file_extension": ".py",
   "mimetype": "text/x-python",
   "name": "python",
   "nbconvert_exporter": "python",
   "pygments_lexer": "ipython3",
   "version": "3.10.0"
  }
 },
 "nbformat": 4,
 "nbformat_minor": 5
}
