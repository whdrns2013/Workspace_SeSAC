{
 "cells": [
  {
   "cell_type": "markdown",
   "id": "6bfb93db-e524-43cd-ae7a-4afb9dfb3e21",
   "metadata": {},
   "source": [
    "# 기억할 것\n",
    "\n",
    "> 뭔가 안될 때\n",
    ">* 호출이 안되면 s를 붙이거나 떼보기\n",
    ">* 호출이 안되면 axis를 붙이거나 떼보기\n",
    ">* 타입명을 쓸 때 따옴표를 붙이거나 떼보기\n",
    "  \n",
    "> 데이터 탐색\n",
    ">* head, describe, info 모두 쓰기\n",
    "  \n",
    "> 개념 정리\n",
    ">* axis = 0 : 행\n",
    ">* axis = 1 : 열\n",
    ">* std : 표준편차\n",
    ">* var : \n",
    "  \n",
    "> 실수하는 것  \n",
    "> random.randn  \n",
    "  \n",
    "> t검증 결과 통계값, p-value  \n",
    "> import scipy.stats  \n",
    "> scipy.stats.ttest_ind(그룹1, 그룹2, equal_var=True/False) # equal_var = 등분산성\n",
    "\n",
    "* df[Col].value_counts() : 열의 각 값들의 갯수 반환"
   ]
  },
  {
   "cell_type": "markdown",
   "id": "8d9a3190-d1d6-406e-9d00-5667fea404fd",
   "metadata": {},
   "source": [
    "# 파이썬 기본"
   ]
  },
  {
   "cell_type": "markdown",
   "id": "418b15f2-55cf-40df-b758-dd6d3a2dffa4",
   "metadata": {},
   "source": [
    "## 숫자형"
   ]
  },
  {
   "cell_type": "markdown",
   "id": "5ab2db26-6aac-4eca-aff1-8b0dd6b19f89",
   "metadata": {},
   "source": [
    ">숫자형의 사칙연산\n",
    ">* +, -, * , / 사칙연산이 가능하다.  \n",
    ">* ** = 제곱  \n",
    ">* // = 몫만 반환  \n",
    ">* % = 나머지만 반환  \n",
    ">* ^ = 제곱수  "
   ]
  },
  {
   "cell_type": "markdown",
   "id": "d4fab126-cf7d-4a8d-844b-4e0c01fba577",
   "metadata": {},
   "source": [
    "## 문자형 자료"
   ]
  },
  {
   "cell_type": "markdown",
   "id": "87f03ca1-f7af-4fe4-8d4b-5c9310c3d783",
   "metadata": {},
   "source": [
    ">문자열의 사칙연산  \n",
    ">* +(더하기) : 문자열을 더한다. 꼭 변수로 선언되지 않아도 연산 가능\n",
    ">* *(곱하기) : 문자열을 n 번만큼 반복"
   ]
  },
  {
   "cell_type": "markdown",
   "id": "3553ac04-a152-4902-8a0b-6e6a7d41295a",
   "metadata": {},
   "source": [
    ">문자열 인덱싱과 슬라이싱\n",
    ">문자열은 리스트형과 같이 인덱싱과 슬라이싱이 가능  \n",
    ">슬라이싱은 끝번호 -1 해야함을 주의\n",
    ">* 문자열[0]\n",
    ">* 문자열[:4]"
   ]
  },
  {
   "cell_type": "markdown",
   "id": "3c7e9e70-e09a-4961-88ea-7aa350a88eae",
   "metadata": {},
   "source": [
    ">문자열 포맷팅\n",
    ">* %s : 문자열 string\n",
    ">* %c : 단일 문자 character\n",
    ">* %d : 정수 integer\n",
    ">* %f : 실수 floating-point\n",
    ">* %o : 8진수\n",
    ">* %x : 16진수"
   ]
  },
  {
   "cell_type": "markdown",
   "id": "d1593b74-6953-4245-bc21-5f2a9a46cdae",
   "metadata": {},
   "source": [
    ">문자열 내장함수\n",
    ">문자열.내장함수() 의 형태로 사용\n",
    ">count() : 문자열 내 특정 문자열의 개수 세기\n",
    ">join() : 앞의 문자를 괄호 안의 문자열에 삽입\n",
    ">find() : 특정 문자열이 문자열 내 몇 번째에 나오는지 반환\n",
    ">upper() : 소문자를 대문자로 변환\n",
    ">lower() : 대문자를 소문자로 변환\n",
    ">replace(a,b) : 문자열 내 a라는 문자열을 b라는 문자열로 대치\n",
    ">split(a) : 문자열을 a라는 문자를 구분자로 하여 분리"
   ]
  },
  {
   "cell_type": "markdown",
   "id": "faf331af-c08f-4a4f-9716-993ed4044a93",
   "metadata": {},
   "source": [
    "## 연산자"
   ]
  },
  {
   "cell_type": "markdown",
   "id": "8b3673a7-e4fc-4b8e-b866-1036f75966da",
   "metadata": {},
   "source": [
    ">논리 연산자\n",
    ">* a and b : 논리 곱\n",
    ">* a or b : 논리 합\n",
    ">* not a : 논리 부정 (a = True 일때 not a = False)"
   ]
  },
  {
   "cell_type": "markdown",
   "id": "3bcfe641-2310-4487-9692-a07f293351be",
   "metadata": {},
   "source": [
    "## 조건문"
   ]
  },
  {
   "cell_type": "markdown",
   "id": "7785e382-7843-4753-a5d9-1f1da0d5fd38",
   "metadata": {},
   "source": [
    ">if\n",
    ">elif\n",
    ">else"
   ]
  },
  {
   "cell_type": "markdown",
   "id": "7f5aaeab-1d03-4648-a22e-327738b4995b",
   "metadata": {},
   "source": [
    "## 반복문"
   ]
  },
  {
   "cell_type": "markdown",
   "id": "ee1d74b0-1ab1-4326-bef6-ecaac51aa537",
   "metadata": {},
   "source": [
    ">for i in rang\n",
    ">for i in range(5) 수행문 -> 수행문에 i가 들어가지 않아도 단순 반복을 시킬 수 있다."
   ]
  },
  {
   "cell_type": "markdown",
   "id": "5d22f302-5287-452a-bc28-c796c760ab8b",
   "metadata": {},
   "source": [
    ">while 조건 : 수행문\n",
    ">조건을 만족할 때까지 수행문을 실행"
   ]
  },
  {
   "cell_type": "markdown",
   "id": "bf20de5d-46b7-4d94-afe8-6425ae9dd5ee",
   "metadata": {},
   "source": [
    "## 리스트"
   ]
  },
  {
   "cell_type": "markdown",
   "id": "cdd9e95c-33f5-4e63-97fe-90d5e506c341",
   "metadata": {},
   "source": [
    ">리스트의 내장함수\n",
    ">* list.append() : 리스트 마지막에 원소 추가\n",
    ">* list.insert(n, obj) : 특정 인덱스(n)에 원소(obj)를 추가\n",
    ">* list.index(x) : 원소 x가 위치한 인덱스 값 반환\n",
    ">* list.sort(reverse = True/False) : 원소를 순서대로 정렬한 후 저장\n",
    ">* list.count(x) : 리스트에 포함된 x값 데이터의 개수를 반환\n",
    ">* list.remove(x) : 리스트에서 첫 번째로 나오는 x값을 삭제\n"
   ]
  },
  {
   "cell_type": "markdown",
   "id": "1596d959-92bd-40e9-ad21-053d62a61828",
   "metadata": {},
   "source": [
    "## 딕셔너리"
   ]
  },
  {
   "cell_type": "markdown",
   "id": "c8907886-8368-4108-846b-fe3b812bede2",
   "metadata": {},
   "source": [
    "* dict.keys() : key들만을 모아서 객체로 반환  \n",
    "* dict.values() : value들만을 모아서 객체로 반환  \n",
    "* dict.items() : key와 value를 튜플로 묶은 값을 모아서 객체로 반환  \n",
    "* dict.get(key) : key에 해당하는 value를 반환  \n",
    "* if a in dict : a라는 key가 dict 안에 있으면"
   ]
  },
  {
   "cell_type": "markdown",
   "id": "5301e1a7-e2db-4df6-b609-e5698f682c4b",
   "metadata": {},
   "source": [
    "## 기본 내장 함수"
   ]
  },
  {
   "cell_type": "code",
   "execution_count": null,
   "id": "ad8b940c-b6a4-4c58-a096-25add8ffa8a5",
   "metadata": {},
   "outputs": [],
   "source": [
    "* print() : 화면에 데이터 출력\n",
    "* input() : 키보드 통해 데이터 입력받음\n",
    "* range() : 정수의 범위를 설정\n",
    "* list() : 리스트를 생성\n",
    "* abs() : 숫자의 절대값을 구함\n",
    "* len() : 문자열 혹은 집합형 자료의 원소으 개수를 반환  \n",
    "* round() : 소수점 이하 반올림\n",
    "* int() : 문자열이나 실수를 정수로 변환\n",
    "* float() : 문자열이나 정수를 실수로 변환\n",
    "* str() : 객체를 문자로 변환\n",
    "* type() 데이터의 자료형을 변환"
   ]
  },
  {
   "cell_type": "markdown",
   "id": "b6a39cd3-0228-4bc2-9776-fad32b4c3d80",
   "metadata": {},
   "source": [
    "# Library"
   ]
  },
  {
   "cell_type": "markdown",
   "id": "0ec5264e-dfb7-418d-b7c4-df7a59d9244f",
   "metadata": {},
   "source": [
    "## Numpy"
   ]
  },
  {
   "cell_type": "markdown",
   "id": "c3acbbe2-7b69-4958-88dc-55758b3af5e1",
   "metadata": {},
   "source": [
    "### Numpy 객체 생성\n",
    "* np.array(obj) : 리스트나 튜플을 ndarray 형태로 생성  \n",
    "* np.random.randn(차원1, 차원2) : 가우시안 정규분포를 갖는 난수를 생성  \n",
    "* np.zeros(div1, div2) : ndarray 생성 후 값들을 0으로 초기화  \n",
    "* np.ones(div1, div2) : ndarray 생성 후 값들을 1로 초기화  \n",
    "* np.arange(시작, 끝수, 공차) : 내장함수 range() 와 동일한 기능  \n",
    "  \n",
    "* np.reshape(div1, div2) : ndarray의 차원을 재배열\n",
    "* NP.transpose() : 배열의 행과 열을 바꿈\n",
    "* np.flip(배열) : 배열의 순서를 뒤집어줌 (sort는 아니고, 뒤집기)\n",
    "  \n",
    "* np.concatenate(배열1, 배열2 ... 배열n, axis=정렬기준행) : 배열들을 행 혹은 열로 붙임\n",
    "* np.vstack(붙일 배열들) : 수직으로 배열들을 붙임\n",
    "* np.hstack(붙일 배열들) : 수평으로 배열들을 붙임\n",
    "  \n",
    "* np.vsplit(나눌 배열) : 배열을 수직으로 등분\n",
    "* np.hsplit(나눌 배열) : 배열을 수평으로 등분\n",
    "\n",
    "* np.unique(배열) : 해당 배열의 유니크 값을 반환"
   ]
  },
  {
   "cell_type": "markdown",
   "id": "36ce9e74-6ba7-427a-b576-88dc6b7ffe05",
   "metadata": {},
   "source": [
    "### Numpy 속성\n",
    "* NP.dtype : 배열 내 원소의 데이터 타입을 반환  \n",
    "* NP.ndim : 배열의 차원을 반환\n",
    "* NP.shape : 행렬의 형태를 반환 (n차 * m차)..\n",
    "* NP.size : 행렬의 사이즈를 반환"
   ]
  },
  {
   "cell_type": "markdown",
   "id": "625f98e6-017d-47c3-948b-1436cca76482",
   "metadata": {},
   "source": [
    "★★★★★이 부분 복습 필요★★★★★\n",
    "### 메서드\n",
    "* NP.sum() : 배열의 모든 요소들의 합계\n",
    "* NP.mean() : 배열의 모든 요소들의 평균\n",
    "* NP.max() : 배열의 모든 요소 중 최대값\n",
    "* NP.min() : 배열의 모든 요소 중 최소값\n",
    "* NP.argmax() : 열 또는 행의 요소 중 최대값을 가지는 요소의 인덱스 반환\n",
    "* NP.argmin() : 열 또는 행의 요소 중 최소값을 가지는 요소의 인덱스 반환\n",
    "* where() : 배열의 요소 값을 특정 값으로 변경\n",
    "* sort() 배열을 오름차순으로 변경"
   ]
  },
  {
   "cell_type": "markdown",
   "id": "42a31110-d50a-4d36-a8fc-9777f62c40b7",
   "metadata": {},
   "source": [
    "## Pandas"
   ]
  },
  {
   "cell_type": "markdown",
   "id": "0372abfd-e2e0-41e5-9d52-4e10e04400b6",
   "metadata": {},
   "source": [
    "### 시리즈"
   ]
  },
  {
   "cell_type": "markdown",
   "id": "c9d1832f-4092-4ca7-af05-a9ab994eb646",
   "metadata": {},
   "source": [
    "* import pandas 를 통해 판다스 라이브러리를 임포트할 수 있다.\n",
    "* import pandas as pd : 보통 pd 라는 약어로 쓴다."
   ]
  },
  {
   "cell_type": "markdown",
   "id": "824ed1d6-331c-41d4-959b-6cbf743bd60c",
   "metadata": {},
   "source": [
    "* pd.Series(1차원 ndarray 혹은 리스트) : 시리즈 만들기\n",
    "\n",
    "* SR.index : 시리즈의 인덱스값 확인\n",
    "* SR.values : 시리즈의 value 확인\n",
    "* SR[n] : 시리즈의 n번째 값 확인"
   ]
  },
  {
   "cell_type": "markdown",
   "id": "6e654a77-2f6a-4bdf-b885-6853a5bf32cc",
   "metadata": {},
   "source": [
    "### 데이터 프레임"
   ]
  },
  {
   "cell_type": "markdown",
   "id": "a3996757-0ebe-401d-8298-06afd8958266",
   "metadata": {},
   "source": [
    "* pd.DataFrame([리스트들 혹은 시리즈들]) : 리스트를 이용한 데이터프레임 생성\n",
    "* pd.DataFrame(딕셔너리) : 딕셔너리를 이용한 데이터프레임 생성\n",
    "* pd.DataFrame(리스트들 혹은 시리즈들 혹은 딕셔너리, index=[인덱스값들]) : 인덱스값을 주면서 생성"
   ]
  },
  {
   "cell_type": "markdown",
   "id": "7bba95ed-b2e6-4ed5-9020-8e64bbcce399",
   "metadata": {},
   "source": [
    "* df.rename(columns={old1:new1, old2:new2 ... oldn:newn}) : 칼럼명 변경\n",
    "* df.rename(index={old1:new1, old2:new2 ... oldn:newn}) : 인덱스명 변경"
   ]
  },
  {
   "cell_type": "markdown",
   "id": "235a77c1-3f7d-499c-87be-d7fd70ca51dc",
   "metadata": {},
   "source": [
    "* df = pd.read_csv('파일명 확장자포함') : 해당 csv 파일을 읽어와 데이터프레임화"
   ]
  },
  {
   "cell_type": "markdown",
   "id": "708037ed-50d6-4d8a-934a-b61f6702fd1b",
   "metadata": {},
   "source": [
    "* df.head(n) : 앞의 n개 데이터 탐색\n",
    "* df.shape : 행과 열을 개수 튜플로 나타내기\n",
    "* df.info() : 데이터프레임 기본 정보를 출력\n",
    "* df.describe() : 데이터프레임의 주요 기술통계 출력\n",
    "* df['열'].unique() : 해당 열의 unique값 반환"
   ]
  },
  {
   "cell_type": "markdown",
   "id": "81aaf390-a5e0-46d4-bd3d-698ac254ef17",
   "metadata": {},
   "source": [
    "* df[Col].count() : 데이터프레임의 열에 몇 개의 데이터가 있는지 출력 / 칼럼명은 옵션\n",
    "* df[Col].mean() : 열의 평균값 출력 / 칼럼명은 옵션\n",
    "* df[Col].min() : 열의 최소값 출력 / 칼럼명은 옵션\n",
    "* df[Col].max() : 열의 최대값 출력 / 칼럼명은 옵션\n",
    "* df[Col].median() : 열별 중간값 출력 / 칼럼명은 옵션\n",
    "* df[Col].std() : 열별 표준편차 출력 / 칼럼명은 옵션\n",
    "* df[Col].var() : 열별 분산 출력 / 칼럼명은 옵션"
   ]
  },
  {
   "cell_type": "markdown",
   "id": "cbf2b6b3-3d94-439c-af88-dc1314ac6be8",
   "metadata": {},
   "source": [
    "★★★★★ 이거 기억하기 ★★★★★\n",
    "* df[Col].value_counts() : 열의 각 값들의 갯수 반환\n",
    "* df[[Col1, Col2]].corr() : 열간 상관계수 구하기. 칼럼 주어지지 않으면 모든 열에 대해 계산"
   ]
  },
  {
   "cell_type": "markdown",
   "id": "f0227b4b-bc79-4939-89c8-eec5f6781a7b",
   "metadata": {},
   "source": [
    "★인덱스★\n",
    "* df.set_index('Col', inplace='') : 해당 열을 인덱스로 세팅 (열은 삭제)\n",
    "* df.index = df['Col'] : 해당 열을 인덱스로 세팅 (열은 유지)\n",
    "* df.reset_index(drop=True/False) : 인덱스를 초기화. Drop=True면 과거 index는 삭제"
   ]
  },
  {
   "cell_type": "markdown",
   "id": "54d3c2cc-4198-40d1-a3d2-7e7f7dcaba13",
   "metadata": {},
   "source": [
    "★원소, 행, 열 선택★\n",
    "* df.loc['인덱스명', '칼럼명'] : 해당 index * column 에 해당하는 값 반환\n",
    "* df.iloc['인덱스순서', '칼럼순서'] : 해당 index순서 및 column순서에 해당하는 값 반환\n",
    "\n",
    "* df.loc['인덱스명'] : 해당 인덱스명에 해당하는 행 반환\n",
    "* df.iloc['인덱스번호'] : 해당 인덱스번호에 해당하는 행 반환\n",
    "\n",
    "* df['칼럼명'] : 해당 칼럼명에 해당하는 열 반환\n",
    "* df.칼럼명 : 해당 칼럼명에 해당하는 열 반환\n",
    "\n",
    "* df.drop(인덱스번호, axis=0) : 해당 인덱스번호에 해당하는 행 삭제\n",
    "* df.drop(칼럼명, axis=1) : 해당 칼럼명에 해당하는 열 삭제"
   ]
  },
  {
   "cell_type": "markdown",
   "id": "c74e1c71-8784-4260-af9c-69492e90ef40",
   "metadata": {},
   "source": [
    "★정렬★\n",
    "* df.sort_index(ascending=True/False) : 인덱스를 기준으로 정렬\n",
    "* df.sort_values(by='칼럼명', ascending=True/False) : 칼럼의 value값을 기준으로 정렬"
   ]
  },
  {
   "cell_type": "markdown",
   "id": "ed58aa18-1458-4119-9064-4f00737f15e6",
   "metadata": {},
   "source": [
    "★데이터 요약★\n",
    "* df.groupby('열이름') : 해당 열의 동일값들을 그루핑하여 집계. 뒤에 평균이나 합을 넣음\n",
    "* df.groupby().count() : 그루핑 후 해당하는 개수 반환\n",
    "* df.groupby().연산함수() : 그루핑 후 연산한 값을 반환. sum, mean 등"
   ]
  },
  {
   "cell_type": "markdown",
   "id": "fa9e7737-ee36-45b1-91a0-dc86607abb38",
   "metadata": {},
   "source": [
    "★함수 적용★\n",
    "* df['열'].apply(함수명) : 해당 열에 함수 적용한 값을 반환"
   ]
  },
  {
   "cell_type": "markdown",
   "id": "38c3b0b9-7d4d-4839-b5d7-5b8a4d18ffc2",
   "metadata": {},
   "source": [
    "★파생변수의 생성★\n",
    "* df['새로운열'] = df['기존열1'] + df['기존열2'] : 더한 값으로 파생변수 생성"
   ]
  },
  {
   "cell_type": "markdown",
   "id": "d8246905-14e5-44db-9df8-eae4234e7052",
   "metadata": {},
   "source": [
    "★결측값/이상값 처리★\n",
    "* df.isnull() : 데이터프레임에 null 값 존재 여부 반환\n",
    "* df.notnull() : 데이터프레임에 null 값 비존재 여부 반환\n",
    "* df.dropna(axis=0) : null이 있는 행 삭제\n",
    "* df['열'].dropna() : 열에서 null이 있는 행 삭제\n",
    "* df['열'].fillna(값, inplace=True/False) : 열에서 null을 특정 값으로 대체\n",
    "\n",
    "* df.quantile(p) : 사분위수 함수 / p 0:최소값, 1:최대값, 0.25:1사분위수...\n",
    "* 이상값은 IQR = df.quantile(0.75) - df.quantile(0.25)... 로 하면 되겠다."
   ]
  },
  {
   "cell_type": "code",
   "execution_count": null,
   "id": "facb7944-fa79-4e8f-88f1-1d20bf482e3d",
   "metadata": {},
   "outputs": [],
   "source": [
    "★열의 변수 타입 변환★\n",
    "* df['열'] = df['열'].astype(타입명)"
   ]
  },
  {
   "cell_type": "markdown",
   "id": "b0074a2e-599b-4afa-b2ce-058abc2921c1",
   "metadata": {},
   "source": [
    "# 데이터 전처리"
   ]
  },
  {
   "cell_type": "markdown",
   "id": "8ffc46ed-26d8-41a7-b6cf-1f1036598caf",
   "metadata": {},
   "source": [
    "## 데이터 탐색"
   ]
  },
  {
   "cell_type": "markdown",
   "id": "053a3ab4-aea5-426c-9425-5802606ef8ba",
   "metadata": {},
   "source": [
    "* df.info() : 요약\n",
    "* df.describe(include='all') : 통계 요약\n",
    "* df.unique() : 유니크값\n",
    "* df.head(n) : 앞쪽 자료\n",
    "* df.groupby('Col') : 그룹화"
   ]
  },
  {
   "cell_type": "markdown",
   "id": "4ee05b43-c2d3-4dec-ac00-aae8482b8ae6",
   "metadata": {},
   "source": [
    "## 데이터 변환"
   ]
  },
  {
   "cell_type": "markdown",
   "id": "a0a91b11-095e-468a-950c-88b8dc4b4388",
   "metadata": {},
   "source": [
    "### 표준 정규화\n",
    "* 정규분포를 따르는 데이터를 만들 때 사용\n",
    "* 평균 = mean / 표준편차 = p / 샘플크기 = size 라고 했을 때\n",
    "* df = np.random.randn(size)*p + mean"
   ]
  },
  {
   "cell_type": "code",
   "execution_count": 34,
   "id": "e6b5d966-892e-4ad4-ba2e-1e358e1a825c",
   "metadata": {
    "collapsed": true,
    "jupyter": {
     "outputs_hidden": true
    },
    "tags": []
   },
   "outputs": [
    {
     "data": {
      "text/html": [
       "<div>\n",
       "<style scoped>\n",
       "    .dataframe tbody tr th:only-of-type {\n",
       "        vertical-align: middle;\n",
       "    }\n",
       "\n",
       "    .dataframe tbody tr th {\n",
       "        vertical-align: top;\n",
       "    }\n",
       "\n",
       "    .dataframe thead th {\n",
       "        text-align: right;\n",
       "    }\n",
       "</style>\n",
       "<table border=\"1\" class=\"dataframe\">\n",
       "  <thead>\n",
       "    <tr style=\"text-align: right;\">\n",
       "      <th></th>\n",
       "      <th>육류 소비량</th>\n",
       "    </tr>\n",
       "  </thead>\n",
       "  <tbody>\n",
       "    <tr>\n",
       "      <th>0</th>\n",
       "      <td>52.951643</td>\n",
       "    </tr>\n",
       "    <tr>\n",
       "      <th>1</th>\n",
       "      <td>50.884328</td>\n",
       "    </tr>\n",
       "    <tr>\n",
       "      <th>2</th>\n",
       "      <td>55.852564</td>\n",
       "    </tr>\n",
       "    <tr>\n",
       "      <th>3</th>\n",
       "      <td>50.195230</td>\n",
       "    </tr>\n",
       "    <tr>\n",
       "      <th>4</th>\n",
       "      <td>59.731810</td>\n",
       "    </tr>\n",
       "    <tr>\n",
       "      <th>...</th>\n",
       "      <td>...</td>\n",
       "    </tr>\n",
       "    <tr>\n",
       "      <th>995</th>\n",
       "      <td>52.368800</td>\n",
       "    </tr>\n",
       "    <tr>\n",
       "      <th>996</th>\n",
       "      <td>58.398327</td>\n",
       "    </tr>\n",
       "    <tr>\n",
       "      <th>997</th>\n",
       "      <td>46.594215</td>\n",
       "    </tr>\n",
       "    <tr>\n",
       "      <th>998</th>\n",
       "      <td>52.508924</td>\n",
       "    </tr>\n",
       "    <tr>\n",
       "      <th>999</th>\n",
       "      <td>61.825262</td>\n",
       "    </tr>\n",
       "  </tbody>\n",
       "</table>\n",
       "<p>1000 rows × 1 columns</p>\n",
       "</div>"
      ],
      "text/plain": [
       "        육류 소비량\n",
       "0    52.951643\n",
       "1    50.884328\n",
       "2    55.852564\n",
       "3    50.195230\n",
       "4    59.731810\n",
       "..         ...\n",
       "995  52.368800\n",
       "996  58.398327\n",
       "997  46.594215\n",
       "998  52.508924\n",
       "999  61.825262\n",
       "\n",
       "[1000 rows x 1 columns]"
      ]
     },
     "execution_count": 34,
     "metadata": {},
     "output_type": "execute_result"
    }
   ],
   "source": [
    "# 한국인 1000명, 연간 육류 소비량 평균 53.65kg, 표준편차 5.39kg\n",
    "import pandas as pd\n",
    "import numpy as np\n",
    "\n",
    "df = pd.DataFrame(np.random.randn(1000)*5.39 + 53.65, columns=['육류 소비량'])\n",
    "df"
   ]
  },
  {
   "cell_type": "markdown",
   "id": "8f31f861-d5aa-47ee-b03b-79be20caf415",
   "metadata": {},
   "source": [
    "### Z-표준화"
   ]
  },
  {
   "cell_type": "markdown",
   "id": "83a0b366-dfbd-45f6-98dc-f273ade3c2b8",
   "metadata": {},
   "source": [
    "### 정규분포 변환"
   ]
  },
  {
   "cell_type": "markdown",
   "id": "88dd9864-2c49-4102-83b9-5070f4936d2f",
   "metadata": {},
   "source": [
    "### 범주화, 이산형 변환"
   ]
  },
  {
   "cell_type": "markdown",
   "id": "e83b8dc7-f3bc-4db7-ad81-46a9dd081ec2",
   "metadata": {},
   "source": [
    "## 차원 축소 : PCA(주성분 분석)"
   ]
  },
  {
   "cell_type": "markdown",
   "id": "473c0ba3-0500-44c6-9e8b-745c7919aac3",
   "metadata": {},
   "source": [
    "## 결측치 처리"
   ]
  },
  {
   "cell_type": "markdown",
   "id": "e4c9c7cd-075d-4f70-a1e3-2392a560513a",
   "metadata": {},
   "source": [
    "## 이상치 처리"
   ]
  },
  {
   "cell_type": "markdown",
   "id": "11eb712e-c490-42ed-a8be-5d7eb5a67359",
   "metadata": {},
   "source": [
    "## 평활화 smoothing"
   ]
  },
  {
   "cell_type": "markdown",
   "id": "6615b87d-1a11-44b7-b3b2-538d13e3c9f1",
   "metadata": {},
   "source": []
  },
  {
   "cell_type": "markdown",
   "id": "cd2ca3ae-c5c7-472f-9580-6ae15007da02",
   "metadata": {},
   "source": []
  },
  {
   "cell_type": "markdown",
   "id": "1a3cd4ff-0c4e-4fb6-905a-de1c8075262c",
   "metadata": {},
   "source": []
  },
  {
   "cell_type": "markdown",
   "id": "405f18f8-daf7-4e86-91bc-c89987500be3",
   "metadata": {},
   "source": []
  },
  {
   "cell_type": "markdown",
   "id": "38729f95-c54a-4dba-8852-2ed36c0a2abc",
   "metadata": {},
   "source": []
  }
 ],
 "metadata": {
  "kernelspec": {
   "display_name": "Python 3 (ipykernel)",
   "language": "python",
   "name": "python3"
  },
  "language_info": {
   "codemirror_mode": {
    "name": "ipython",
    "version": 3
   },
   "file_extension": ".py",
   "mimetype": "text/x-python",
   "name": "python",
   "nbconvert_exporter": "python",
   "pygments_lexer": "ipython3",
   "version": "3.9.12"
  },
  "vscode": {
   "interpreter": {
    "hash": "a077222d77dfe082b8f1dd562ad70e458ac2ab76993a0b248ab0476e32e9e8dd"
   }
  }
 },
 "nbformat": 4,
 "nbformat_minor": 5
}
