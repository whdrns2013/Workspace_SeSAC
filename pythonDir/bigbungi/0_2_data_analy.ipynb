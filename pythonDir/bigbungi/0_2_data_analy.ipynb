{
 "cells": [
  {
   "cell_type": "markdown",
   "id": "bb24e293-5c3b-46ea-8f87-541e65e43267",
   "metadata": {},
   "source": [
    "# 데이터 불러오기"
   ]
  },
  {
   "cell_type": "markdown",
   "id": "670942a2-25b8-4bef-8b7c-a3b39fb671f6",
   "metadata": {},
   "source": [
    "# 평가지표"
   ]
  },
  {
   "cell_type": "markdown",
   "id": "9c1c6e51-3e0b-498a-8821-445bc49e6d11",
   "metadata": {},
   "source": [
    "# 지도학습 - 분류"
   ]
  },
  {
   "cell_type": "markdown",
   "id": "d886886b-c416-45a9-809f-5b2b734cb75a",
   "metadata": {},
   "source": [
    "## 의사결정나무"
   ]
  },
  {
   "cell_type": "markdown",
   "id": "11154611-55e6-4165-9b81-d784020d06f6",
   "metadata": {},
   "source": [
    "## KNN"
   ]
  },
  {
   "cell_type": "markdown",
   "id": "a1b5d321-5453-4e22-9844-7e443ac7bba4",
   "metadata": {},
   "source": [
    "## SVM"
   ]
  },
  {
   "cell_type": "markdown",
   "id": "dd222ef4-8c6d-4d47-9f0e-ed4b712a9e32",
   "metadata": {},
   "source": [
    "## 로지스틱 회귀"
   ]
  },
  {
   "cell_type": "markdown",
   "id": "343972b6-1603-4a63-81be-63e4711e1821",
   "metadata": {},
   "source": [
    "## 랜덤 포레스트"
   ]
  },
  {
   "cell_type": "markdown",
   "id": "3268ad17-d625-406c-ace7-de06b9f55d6e",
   "metadata": {},
   "source": [
    "# 지도학습 - 회귀(예측)"
   ]
  },
  {
   "cell_type": "markdown",
   "id": "9379194e-7065-4802-a838-8607d684767f",
   "metadata": {},
   "source": [
    "## 단순 선형 회귀분석"
   ]
  },
  {
   "cell_type": "markdown",
   "id": "f68a6ed4-c6d9-48d6-9ad9-e2bad7541379",
   "metadata": {},
   "source": [
    "## 다중 선형 회귀분석"
   ]
  },
  {
   "cell_type": "markdown",
   "id": "03345eae-106b-44b9-82cf-4bc9bae0adc6",
   "metadata": {},
   "source": [
    "## 의사결정나무를 통한 예측"
   ]
  },
  {
   "cell_type": "markdown",
   "id": "87551823-7d8b-420e-ba32-a99ecf519270",
   "metadata": {},
   "source": [
    "## 랜덤포레스트를 통한 예측"
   ]
  },
  {
   "cell_type": "markdown",
   "id": "bf32463e-f35d-4a3e-bb79-bda6afcb6531",
   "metadata": {},
   "source": [
    "# 비지도학습"
   ]
  },
  {
   "cell_type": "markdown",
   "id": "64c7c6e8-232d-43e2-b03b-95688d4d17b0",
   "metadata": {},
   "source": [
    "## 군집분석"
   ]
  },
  {
   "cell_type": "markdown",
   "id": "7de82193-bc00-4747-b40c-7b1d4c6964c7",
   "metadata": {},
   "source": [
    "## 연관분석 "
   ]
  },
  {
   "cell_type": "markdown",
   "id": "96b8362e-bf6b-4fd6-979f-6e88ccc17cad",
   "metadata": {},
   "source": []
  },
  {
   "cell_type": "markdown",
   "id": "a70bdfd0-e045-4585-af4a-166454ec8dcf",
   "metadata": {},
   "source": []
  }
 ],
 "metadata": {
  "kernelspec": {
   "display_name": "Python 3 (ipykernel)",
   "language": "python",
   "name": "python3"
  },
  "language_info": {
   "codemirror_mode": {
    "name": "ipython",
    "version": 3
   },
   "file_extension": ".py",
   "mimetype": "text/x-python",
   "name": "python",
   "nbconvert_exporter": "python",
   "pygments_lexer": "ipython3",
   "version": "3.9.13"
  }
 },
 "nbformat": 4,
 "nbformat_minor": 5
}
