{
 "cells": [
  {
   "cell_type": "markdown",
   "id": "0ec5264e-dfb7-418d-b7c4-df7a59d9244f",
   "metadata": {},
   "source": [
    "# Pandas"
   ]
  },
  {
   "cell_type": "code",
   "execution_count": 2,
   "id": "c8619683-8fdc-41ae-8679-7f8714a615a6",
   "metadata": {},
   "outputs": [
    {
     "data": {
      "text/html": [
       "<div>\n",
       "<style scoped>\n",
       "    .dataframe tbody tr th:only-of-type {\n",
       "        vertical-align: middle;\n",
       "    }\n",
       "\n",
       "    .dataframe tbody tr th {\n",
       "        vertical-align: top;\n",
       "    }\n",
       "\n",
       "    .dataframe thead th {\n",
       "        text-align: right;\n",
       "    }\n",
       "</style>\n",
       "<table border=\"1\" class=\"dataframe\">\n",
       "  <thead>\n",
       "    <tr style=\"text-align: right;\">\n",
       "      <th></th>\n",
       "      <th>time</th>\n",
       "      <th>이화동강수</th>\n",
       "      <th>이화동기온</th>\n",
       "      <th>수영동강수</th>\n",
       "      <th>수영동기온</th>\n",
       "    </tr>\n",
       "  </thead>\n",
       "  <tbody>\n",
       "    <tr>\n",
       "      <th>0</th>\n",
       "      <td>2020-01-01 00:00:00</td>\n",
       "      <td>0.1</td>\n",
       "      <td>-3.9</td>\n",
       "      <td>0.0</td>\n",
       "      <td>2.5</td>\n",
       "    </tr>\n",
       "    <tr>\n",
       "      <th>1</th>\n",
       "      <td>2020-01-01 01:00:00</td>\n",
       "      <td>0.0</td>\n",
       "      <td>-3.1</td>\n",
       "      <td>0.0</td>\n",
       "      <td>3.4</td>\n",
       "    </tr>\n",
       "    <tr>\n",
       "      <th>2</th>\n",
       "      <td>2020-01-01 02:00:00</td>\n",
       "      <td>0.0</td>\n",
       "      <td>-1.8</td>\n",
       "      <td>0.0</td>\n",
       "      <td>3.8</td>\n",
       "    </tr>\n",
       "    <tr>\n",
       "      <th>3</th>\n",
       "      <td>2020-01-01 03:00:00</td>\n",
       "      <td>0.0</td>\n",
       "      <td>-0.8</td>\n",
       "      <td>0.0</td>\n",
       "      <td>4.6</td>\n",
       "    </tr>\n",
       "    <tr>\n",
       "      <th>4</th>\n",
       "      <td>2020-01-01 04:00:00</td>\n",
       "      <td>0.0</td>\n",
       "      <td>-0.1</td>\n",
       "      <td>0.0</td>\n",
       "      <td>5.1</td>\n",
       "    </tr>\n",
       "    <tr>\n",
       "      <th>...</th>\n",
       "      <td>...</td>\n",
       "      <td>...</td>\n",
       "      <td>...</td>\n",
       "      <td>...</td>\n",
       "      <td>...</td>\n",
       "    </tr>\n",
       "    <tr>\n",
       "      <th>8779</th>\n",
       "      <td>2020-12-31 19:00:00</td>\n",
       "      <td>0.0</td>\n",
       "      <td>-9.5</td>\n",
       "      <td>0.0</td>\n",
       "      <td>-4.5</td>\n",
       "    </tr>\n",
       "    <tr>\n",
       "      <th>8780</th>\n",
       "      <td>2020-12-31 20:00:00</td>\n",
       "      <td>0.0</td>\n",
       "      <td>-9.5</td>\n",
       "      <td>0.0</td>\n",
       "      <td>-5.0</td>\n",
       "    </tr>\n",
       "    <tr>\n",
       "      <th>8781</th>\n",
       "      <td>2020-12-31 21:00:00</td>\n",
       "      <td>0.0</td>\n",
       "      <td>-9.3</td>\n",
       "      <td>0.0</td>\n",
       "      <td>-6.5</td>\n",
       "    </tr>\n",
       "    <tr>\n",
       "      <th>8782</th>\n",
       "      <td>2020-12-31 22:00:00</td>\n",
       "      <td>0.0</td>\n",
       "      <td>-9.2</td>\n",
       "      <td>0.0</td>\n",
       "      <td>-4.6</td>\n",
       "    </tr>\n",
       "    <tr>\n",
       "      <th>8783</th>\n",
       "      <td>2020-12-31 23:00:00</td>\n",
       "      <td>0.0</td>\n",
       "      <td>-7.8</td>\n",
       "      <td>0.0</td>\n",
       "      <td>-0.2</td>\n",
       "    </tr>\n",
       "  </tbody>\n",
       "</table>\n",
       "<p>8784 rows × 5 columns</p>\n",
       "</div>"
      ],
      "text/plain": [
       "                     time  이화동강수  이화동기온  수영동강수  수영동기온\n",
       "0     2020-01-01 00:00:00    0.1   -3.9    0.0    2.5\n",
       "1     2020-01-01 01:00:00    0.0   -3.1    0.0    3.4\n",
       "2     2020-01-01 02:00:00    0.0   -1.8    0.0    3.8\n",
       "3     2020-01-01 03:00:00    0.0   -0.8    0.0    4.6\n",
       "4     2020-01-01 04:00:00    0.0   -0.1    0.0    5.1\n",
       "...                   ...    ...    ...    ...    ...\n",
       "8779  2020-12-31 19:00:00    0.0   -9.5    0.0   -4.5\n",
       "8780  2020-12-31 20:00:00    0.0   -9.5    0.0   -5.0\n",
       "8781  2020-12-31 21:00:00    0.0   -9.3    0.0   -6.5\n",
       "8782  2020-12-31 22:00:00    0.0   -9.2    0.0   -4.6\n",
       "8783  2020-12-31 23:00:00    0.0   -7.8    0.0   -0.2\n",
       "\n",
       "[8784 rows x 5 columns]"
      ]
     },
     "execution_count": 2,
     "metadata": {},
     "output_type": "execute_result"
    }
   ],
   "source": [
    "# 예제\n",
    "import pandas as pd\n",
    "df = pd.read_csv('https://raw.githubusercontent.com/Datamanim/datarepo/main/weather/weather2.csv')\n",
    "df"
   ]
  },
  {
   "cell_type": "markdown",
   "id": "bb9a51f9-6748-4fe4-9ebd-1eb1569f5513",
   "metadata": {},
   "source": [
    "## 데이터프레임 일반"
   ]
  },
  {
   "cell_type": "markdown",
   "id": "cd622266-2d9a-45fc-b85a-5f5de845d05e",
   "metadata": {},
   "source": [
    "### 데이터프레임 선택"
   ]
  },
  {
   "cell_type": "code",
   "execution_count": null,
   "id": "75fad3b7-cca2-4094-b793-c7aafdd37b54",
   "metadata": {},
   "outputs": [],
   "source": [
    "# 데이터프레임 칼럼명으로 선택\n",
    "df['time']\n",
    "\n",
    "# 객체 attribute 명으로 선택\n",
    "df.time\n",
    "\n"
   ]
  },
  {
   "cell_type": "markdown",
   "id": "f4182716-7eac-499f-bcb0-8d65bc75c9dd",
   "metadata": {},
   "source": [
    "### 조건에 맞는 데이터프레임 선택"
   ]
  },
  {
   "cell_type": "code",
   "execution_count": null,
   "id": "a097b57b-8d28-41d8-875f-34dea4458867",
   "metadata": {},
   "outputs": [],
   "source": [
    "# loc 사용\n",
    "df.loc[df.time.to_datetime(]"
   ]
  },
  {
   "cell_type": "markdown",
   "id": "d0796d4e-ecf1-4111-9a02-bddae4541881",
   "metadata": {},
   "source": [
    "## 데이터 타입"
   ]
  },
  {
   "cell_type": "code",
   "execution_count": null,
   "id": "6577623c-81a8-495e-aa5d-e6776e4bd6b0",
   "metadata": {},
   "outputs": [],
   "source": []
  }
 ],
 "metadata": {
  "kernelspec": {
   "display_name": "Python 3 (ipykernel)",
   "language": "python",
   "name": "python3"
  },
  "language_info": {
   "codemirror_mode": {
    "name": "ipython",
    "version": 3
   },
   "file_extension": ".py",
   "mimetype": "text/x-python",
   "name": "python",
   "nbconvert_exporter": "python",
   "pygments_lexer": "ipython3",
   "version": "3.9.13"
  }
 },
 "nbformat": 4,
 "nbformat_minor": 5
}
