{
 "cells": [
  {
   "cell_type": "markdown",
   "id": "50b22ed0-2d48-41ea-9520-ce66977b145b",
   "metadata": {
    "tags": []
   },
   "source": [
    "# 풀이 전략"
   ]
  },
  {
   "cell_type": "markdown",
   "id": "702c5d36-2f5b-44c5-a14c-7657ccfbb96a",
   "metadata": {},
   "source": [
    "====== 모델 흐름 ======  \n",
    "(1) 글자 개수가 몇개인지 판단하는 모델 하나  \n",
    "(2) 각 글자를 자르는 툴 하나  \n",
    "(3) 각 글자가 무엇인지 판단하는 모델 하나  \n",
    "(4) 각 글자를 이어서 단어를 만드는 툴 하나  \n",
    "\n",
    "====== 필요 툴 ======\n",
    "* 글자인지 여백인지 판단하는 툴 : 열이 모두 0이면 여백 (마 등 여백이 포함된 글자는 주의)  \n",
    "* 각 글자를 자르는 툴  \n",
    "* 밑단 기준으로 평행을 맞추는 툴 : 한 글자에 값이 있는 셀 중 가장 밑단 인식 -> 후 다른 글자와 밑단이 맞게끔 당김  \n",
    "* 각 글자를 이어 단어를 만드는 툴  \n",
    "\n",
    "====== overview 파일 ======\n",
    "* 이미지 경로  \n",
    "* 레이블  \n",
    "* 글자수  \n"
   ]
  },
  {
   "cell_type": "markdown",
   "id": "bf1e1f79-b7e2-4d1d-abb7-35cac44c1d4e",
   "metadata": {},
   "source": [
    "## 정확도 높이기"
   ]
  },
  {
   "cell_type": "markdown",
   "id": "4718e2e6-4cdd-4bbd-a482-92224cab0561",
   "metadata": {},
   "source": [
    "(1) 글자 섞기  \n",
    "- 원래 있는 글자들을 이어서 새로운 데이터처럼 만들기  \n",
    "- 당연히 label 도 이어야 하고  \n",
    "- 데이터 늘어남에 따라 학습수 많아짐  \n",
    "  \n",
    "(2-1) 흐린 글자 명확하게 만들기 - 제곱  \n",
    "- 흐린 글자 명료도 높이는 방법 확인  \n",
    "- 각 픽셀의 채널값을 제곱화하면 -> 낮은 수는 낮고, 높은 수는 상대적으로 상승폭이 늘어날 것.  \n",
    "- 그러면 명료도가 올라가겠지!  \n",
    "- 제곱 후 특정 수로 나눠주고, 최대값 제한하여 다시 한 번 처리하기  \n",
    "- 특정 값 이하인 경우에서는 자동으로 실행하도록 해야 할 듯.  \n",
    "  \n",
    "(2-2) 흐린 글자 명확하게 만들기 - PIL 패키지  \n",
    "- PIL 패키지 내 contour 메서드  \n",
    "- PIL 패키지 내 Sharpen 메서드  \n",
    "\n",
    "(3) 노이즈가 존재하는 이미지  \n",
    "- 노이즈는 색깔이 있는 걸로 인식되어.. 위 단계 명확하게 만들기에서 오히려 악영향을 받을 수 있음  \n",
    "- 반복되는 행렬의 흐름 (=노이즈)를 제거하는 방법 고민 필요  \n",
    "\n",
    "(4) 기울어진 글자 존재  \n",
    "- 기울어진 글자 -> 똑바로 조절 필요  \n",
    "- PIL.transpose.rotate 존재. 하지만 기울어졌는지에 대한 인지와 평가 기준은?  "
   ]
  },
  {
   "cell_type": "markdown",
   "id": "34d16bf0-60c6-42a2-abd4-18cb0004e901",
   "metadata": {},
   "source": [
    "## 참고사항 / 읽을거리"
   ]
  },
  {
   "cell_type": "markdown",
   "id": "c2c24f6a-d4ce-48a6-bf07-4689b718db29",
   "metadata": {},
   "source": [
    "(1) 대회 페이지 : https://dacon.io/competitions/official/236042/overview/description  \n",
    "(2) PIL 패키지 : https://pillow.readthedocs.io/en/stable/reference/index.html  \n",
    "(3) text generator : https://github.com/Belval/TextRecognitionDataGenerator  "
   ]
  },
  {
   "cell_type": "markdown",
   "id": "68d3aaa2-2a76-413f-8bca-9c17f9b4ee55",
   "metadata": {},
   "source": [
    "(1) 한글 및 한국어 정보처리 학술대회 2019 : https://koreascience.kr/article/CFKO201930060791848.pdf  \n",
    "(2) 한글 및 한국어 정보처리 학술대회 : http://www.hclt.kr/symp/?lnb=conference  "
   ]
  },
  {
   "cell_type": "markdown",
   "id": "c9558a9b-9747-4928-a29e-a3e637107a25",
   "metadata": {},
   "source": [
    "## 정리할 사항"
   ]
  },
  {
   "cell_type": "code",
   "execution_count": null,
   "id": "c7feef4e-12ba-4569-91ee-1233416164ae",
   "metadata": {},
   "outputs": [],
   "source": [
    "# (1) 문자열을 한 글자씩 자르기\n",
    "# str = '안녕하세요'\n",
    "# ls = list(str)\n",
    "# ls 출력 : ['안', '녕', '하', '세', '요']"
   ]
  },
  {
   "cell_type": "code",
   "execution_count": null,
   "id": "ba938d31-3cbe-445c-b2df-60a4468f5e39",
   "metadata": {},
   "outputs": [],
   "source": [
    "# (2) 이미지 흑백전환 PIL 패키지 이용\n",
    "# img = Image.read(path)\n",
    "# img_gray = img.convert('L')\n",
    "# 참고 : https://coding-kindergarten.tistory.com/159"
   ]
  },
  {
   "cell_type": "markdown",
   "id": "e8dd010a-a643-4902-8a42-fb61323042a1",
   "metadata": {},
   "source": [
    "## 오류"
   ]
  },
  {
   "cell_type": "code",
   "execution_count": null,
   "id": "e556d910-3a65-4980-9207-1825f675694f",
   "metadata": {},
   "outputs": [],
   "source": [
    "# (1) PIL이미지\n",
    "# 오류메세지 : Cannot handle this data type: (1, 1, 3), <f8\n",
    "# 상황 : 이미지를 뚜렷하게 만들기 위해 ndarray를 float화 해준 후, 제곱. 이후 Image.fromarray()\n",
    "# 원인 : PIL 패키지는 array안의 데이터의 타입이 uint8이어야 함\n",
    "# 해결 : np.astype(uint8) 메서드를 이용해 해결\n",
    "# 참고 : https://yjs-program.tistory.com/248"
   ]
  },
  {
   "cell_type": "markdown",
   "id": "ac91898e-cc36-474e-a886-ef4e0c8ce328",
   "metadata": {},
   "source": [
    "# Import"
   ]
  },
  {
   "cell_type": "code",
   "execution_count": 336,
   "id": "4e532419-839f-4398-9628-a1e3c5c3393e",
   "metadata": {},
   "outputs": [],
   "source": [
    "import pandas as pd\n",
    "import numpy as np\n",
    "import glob as glob\n",
    "import tensorflow as tf\n",
    "from tqdm import tqdm\n",
    "import matplotlib.pyplot as plt\n",
    "from PIL import Image\n",
    "from keras.preprocessing.image import ImageDataGenerator\n",
    "import cv2\n",
    "\n",
    "from sklearn.preprocessing import MinMaxScaler"
   ]
  },
  {
   "cell_type": "markdown",
   "id": "d53a75f7-8cb5-4b25-91bc-8fb964f79900",
   "metadata": {},
   "source": [
    "# Dataset"
   ]
  },
  {
   "cell_type": "code",
   "execution_count": 27,
   "id": "5852ff76-f412-48df-991f-2af474d5b532",
   "metadata": {},
   "outputs": [],
   "source": [
    "# train, test 데이터셋 선언\n",
    "\n",
    "x_train = pd.DataFrame(pd.read_csv('train.csv')['img_path'])\n",
    "x_test = pd.DataFrame(pd.read_csv('test.csv')['img_path'])\n",
    "y_train = pd.DataFrame(pd.read_csv('train.csv')['label'])"
   ]
  },
  {
   "cell_type": "markdown",
   "id": "00f8c9b5-bfc1-4b0d-87b4-2b4f104652b9",
   "metadata": {},
   "source": [
    "# EDA"
   ]
  },
  {
   "cell_type": "markdown",
   "id": "eb1b8ebd-857a-4bbd-9ae4-4718fd924a38",
   "metadata": {},
   "source": [
    "## unique 단어"
   ]
  },
  {
   "cell_type": "code",
   "execution_count": 43,
   "id": "c6313c03-827e-42d8-b2df-6a874eb1044e",
   "metadata": {},
   "outputs": [
    {
     "name": "stdout",
     "output_type": "stream",
     "text": [
      "◼︎◼︎◼︎ train - 모든 단어 개수 :  76888\n",
      "◼︎◼︎◼︎ train - unique 단어 개수 :  5628\n"
     ]
    }
   ],
   "source": [
    "print(\"◼︎◼︎◼︎ train - 모든 단어 개수 : \", len(y_train['label']))\n",
    "print(\"◼︎◼︎◼︎ train - unique 단어 개수 : \", len(y_train['label'].unique()))"
   ]
  },
  {
   "cell_type": "markdown",
   "id": "4c7ea74a-878d-4594-87ea-8a4676754a58",
   "metadata": {},
   "source": [
    "## 글자 개수"
   ]
  },
  {
   "cell_type": "code",
   "execution_count": 180,
   "id": "18e8e2f6-be63-485f-82d9-0a7627732126",
   "metadata": {},
   "outputs": [
    {
     "data": {
      "image/png": "[encoded data removed]",
      "text/plain": [
       "<Figure size 640x480 with 1 Axes>"
      ]
     },
     "metadata": {},
     "output_type": "display_data"
    },
    {
     "data": {
      "text/plain": [
       "['1글자 : 23703개',\n",
       " '2글자 : 28631개',\n",
       " '3글자 : 13514개',\n",
       " '4글자 : 9988개',\n",
       " '5글자 : 1026개',\n",
       " '6글자 : 26개']"
      ]
     },
     "execution_count": 180,
     "metadata": {},
     "output_type": "execute_result"
    }
   ],
   "source": [
    "# train 데이터 글자수 파악\n",
    "length_set = {len(x) for x in y_train['label'].unique()}\n",
    "length_list = [len(x) for x in y_train['label']]\n",
    "\n",
    "# 시각화\n",
    "plt.hist(length_list)\n",
    "plt.title('train text length')\n",
    "plt.show()\n",
    "[f'{i+1}글자 : {length_list.count(i+1)}개' for i in range(len(list(length_set)))]"
   ]
  },
  {
   "cell_type": "markdown",
   "id": "d9479637-1f23-47ca-94e9-d5c49a86dc78",
   "metadata": {},
   "source": [
    "## 등장 글자와 빈도수"
   ]
  },
  {
   "cell_type": "code",
   "execution_count": 213,
   "id": "104de3d5-3b7a-49ba-af2d-ac32358714ca",
   "metadata": {
    "tags": []
   },
   "outputs": [
    {
     "name": "stdout",
     "output_type": "stream",
     "text": [
      "빈도수 높은 글자\n",
      " [('다', 17863), ('하', 6150), ('지', 2602), ('이', 2233), ('기', 2159), ('리', 2110), ('가', 1636), ('사', 1519), ('어', 1436), ('자', 1414), ('대', 1372), ('아', 1344), ('적', 1338), ('시', 1209), ('되', 1105)] \n",
      "...\n",
      " 빈도수 낮은 글자\n",
      " [('푿', 2), ('엾', 2), ('셨', 2), ('쳉', 2), ('껀', 2), ('꾼', 2), ('츱', 1), ('었', 1), ('삔', 1), ('뎬', 1), ('롑', 1), ('꽈', 1), ('딤', 1), ('빔', 1), ('쥘', 1), ('풉', 1), ('샹', 1), ('뚬', 1), ('봔', 1), ('쟉', 1)]\n"
     ]
    }
   ],
   "source": [
    "# 등장하는 글자와 빈도수 파악\n",
    "\n",
    "words_list = y_train['label'].to_list()\n",
    "word_list = []\n",
    "\n",
    "for i in words_list:\n",
    "    for j in list(i):\n",
    "        word_list.append(j)\n",
    "    \n",
    "word_unique = list(set(word_list))\n",
    "word_dict = {key : word_list.count(key) for key in word_unique}\n",
    "word_dict = sorted(word_dict.items(), key = lambda x:x[1], reverse=True)\n",
    "\n",
    "# 빈도수 출력\n",
    "# print(word_dict)\n",
    "print('빈도수 높은 글자\\n', word_dict[:15], '\\n...\\n', '빈도수 낮은 글자\\n', word_dict[-20:])"
   ]
  },
  {
   "cell_type": "markdown",
   "id": "737889ec-a683-471d-8013-54199a9c5892",
   "metadata": {},
   "source": [
    "# 툴"
   ]
  },
  {
   "cell_type": "markdown",
   "id": "12ad9822-2e1c-446b-af69-e7b72469ad89",
   "metadata": {},
   "source": [
    "## Overview"
   ]
  },
  {
   "cell_type": "code",
   "execution_count": 74,
   "id": "04423bae-60df-4377-bfc9-64124ce9df82",
   "metadata": {},
   "outputs": [
    {
     "data": {
      "text/html": [
       "<div>\n",
       "<style scoped>\n",
       "    .dataframe tbody tr th:only-of-type {\n",
       "        vertical-align: middle;\n",
       "    }\n",
       "\n",
       "    .dataframe tbody tr th {\n",
       "        vertical-align: top;\n",
       "    }\n",
       "\n",
       "    .dataframe thead th {\n",
       "        text-align: right;\n",
       "    }\n",
       "</style>\n",
       "<table border=\"1\" class=\"dataframe\">\n",
       "  <thead>\n",
       "    <tr style=\"text-align: right;\">\n",
       "      <th></th>\n",
       "      <th>id</th>\n",
       "      <th>img_path</th>\n",
       "      <th>label</th>\n",
       "      <th>text_length</th>\n",
       "    </tr>\n",
       "  </thead>\n",
       "  <tbody>\n",
       "    <tr>\n",
       "      <th>0</th>\n",
       "      <td>TRAIN_00000</td>\n",
       "      <td>./train/TRAIN_00000.png</td>\n",
       "      <td>빨간색</td>\n",
       "      <td>3</td>\n",
       "    </tr>\n",
       "    <tr>\n",
       "      <th>1</th>\n",
       "      <td>TRAIN_00001</td>\n",
       "      <td>./train/TRAIN_00001.png</td>\n",
       "      <td>머</td>\n",
       "      <td>1</td>\n",
       "    </tr>\n",
       "    <tr>\n",
       "      <th>2</th>\n",
       "      <td>TRAIN_00002</td>\n",
       "      <td>./train/TRAIN_00002.png</td>\n",
       "      <td>차차</td>\n",
       "      <td>2</td>\n",
       "    </tr>\n",
       "    <tr>\n",
       "      <th>3</th>\n",
       "      <td>TRAIN_00003</td>\n",
       "      <td>./train/TRAIN_00003.png</td>\n",
       "      <td>써</td>\n",
       "      <td>1</td>\n",
       "    </tr>\n",
       "    <tr>\n",
       "      <th>4</th>\n",
       "      <td>TRAIN_00004</td>\n",
       "      <td>./train/TRAIN_00004.png</td>\n",
       "      <td>놓치다</td>\n",
       "      <td>3</td>\n",
       "    </tr>\n",
       "    <tr>\n",
       "      <th>...</th>\n",
       "      <td>...</td>\n",
       "      <td>...</td>\n",
       "      <td>...</td>\n",
       "      <td>...</td>\n",
       "    </tr>\n",
       "    <tr>\n",
       "      <th>76883</th>\n",
       "      <td>TRAIN_76883</td>\n",
       "      <td>./train/TRAIN_76883.png</td>\n",
       "      <td>회</td>\n",
       "      <td>1</td>\n",
       "    </tr>\n",
       "    <tr>\n",
       "      <th>76884</th>\n",
       "      <td>TRAIN_76884</td>\n",
       "      <td>./train/TRAIN_76884.png</td>\n",
       "      <td>겪다</td>\n",
       "      <td>2</td>\n",
       "    </tr>\n",
       "    <tr>\n",
       "      <th>76885</th>\n",
       "      <td>TRAIN_76885</td>\n",
       "      <td>./train/TRAIN_76885.png</td>\n",
       "      <td>벨트</td>\n",
       "      <td>2</td>\n",
       "    </tr>\n",
       "    <tr>\n",
       "      <th>76886</th>\n",
       "      <td>TRAIN_76886</td>\n",
       "      <td>./train/TRAIN_76886.png</td>\n",
       "      <td>톼</td>\n",
       "      <td>1</td>\n",
       "    </tr>\n",
       "    <tr>\n",
       "      <th>76887</th>\n",
       "      <td>TRAIN_76887</td>\n",
       "      <td>./train/TRAIN_76887.png</td>\n",
       "      <td>자리</td>\n",
       "      <td>2</td>\n",
       "    </tr>\n",
       "  </tbody>\n",
       "</table>\n",
       "<p>76888 rows × 4 columns</p>\n",
       "</div>"
      ],
      "text/plain": [
       "                id                 img_path label  text_length\n",
       "0      TRAIN_00000  ./train/TRAIN_00000.png   빨간색            3\n",
       "1      TRAIN_00001  ./train/TRAIN_00001.png     머            1\n",
       "2      TRAIN_00002  ./train/TRAIN_00002.png    차차            2\n",
       "3      TRAIN_00003  ./train/TRAIN_00003.png     써            1\n",
       "4      TRAIN_00004  ./train/TRAIN_00004.png   놓치다            3\n",
       "...            ...                      ...   ...          ...\n",
       "76883  TRAIN_76883  ./train/TRAIN_76883.png     회            1\n",
       "76884  TRAIN_76884  ./train/TRAIN_76884.png    겪다            2\n",
       "76885  TRAIN_76885  ./train/TRAIN_76885.png    벨트            2\n",
       "76886  TRAIN_76886  ./train/TRAIN_76886.png     톼            1\n",
       "76887  TRAIN_76887  ./train/TRAIN_76887.png    자리            2\n",
       "\n",
       "[76888 rows x 4 columns]"
      ]
     },
     "execution_count": 74,
     "metadata": {},
     "output_type": "execute_result"
    }
   ],
   "source": [
    "# 편하게 데이터 살펴볼 수 있는 데이터프레임\n",
    "# -> 이후 클래스화\n",
    "\n",
    "overview = pd.read_csv('train.csv')\n",
    "\n",
    "overview['text_length'] = list_length\n",
    "\n",
    "overview\n",
    "\n",
    "class OverView:"
   ]
  },
  {
   "cell_type": "markdown",
   "id": "e17d57e1-4e88-404b-8a85-a94055a46059",
   "metadata": {},
   "source": [
    "## Show Image"
   ]
  },
  {
   "cell_type": "code",
   "execution_count": 729,
   "id": "98f03963-b44d-4aa2-9436-234844916fd8",
   "metadata": {},
   "outputs": [],
   "source": [
    "num=6129\n",
    "\n",
    "id = str('0'*(5-len(str(num))) + str(num))\n",
    "path = ('./train/TRAIN_'+str(id)+'.png')"
   ]
  },
  {
   "cell_type": "code",
   "execution_count": 730,
   "id": "73fde3ae-2d6f-4f6e-b708-82488ae35a09",
   "metadata": {},
   "outputs": [
    {
     "name": "stdout",
     "output_type": "stream",
     "text": [
      "출력 이미지 :  06129\n",
      "글자 :  뽀\n",
      "글자 수 :  1\n"
     ]
    },
    {
     "data": {
      "image/png": "[encoded data removed]",
      "text/plain": [
       "<PIL.PngImagePlugin.PngImageFile image mode=RGB size=43x64>"
      ]
     },
     "execution_count": 730,
     "metadata": {},
     "output_type": "execute_result"
    }
   ],
   "source": [
    "# 이미지를 보여주는 툴\n",
    "\n",
    "def show_img(num):\n",
    "    id = str('0'*(5-len(str(num))) + str(num))\n",
    "    x = Image.open('./train/TRAIN_'+str(id)+'.png')\n",
    "    print('출력 이미지 : ', id)\n",
    "    print('글자 : ', overview['label'][int(id)])\n",
    "    print('글자 수 : ', overview['text_length'][int(id)])\n",
    "    return x\n",
    "\n",
    "show_img(id)"
   ]
  },
  {
   "cell_type": "code",
   "execution_count": 731,
   "id": "dd97c049-eb6b-44cc-99dd-238c97244a95",
   "metadata": {},
   "outputs": [
    {
     "name": "stdout",
     "output_type": "stream",
     "text": [
      "출력 이미지 :  06129\n",
      "글자 :  뽀\n",
      "글자 수 :  1\n",
      "(64, 43)\n"
     ]
    },
    {
     "data": {
      "image/png": "[encoded data removed]",
      "text/plain": [
       "<PIL.Image.Image image mode=L size=43x64>"
      ]
     },
     "execution_count": 731,
     "metadata": {},
     "output_type": "execute_result"
    }
   ],
   "source": [
    "# 이미지 전처리\n",
    "# (1) 흑백 전환\n",
    "# (2) 노이즈 없애기\n",
    "# (3) sharpenning\n",
    "\n",
    "show_img(num)\n",
    "x = Image.open(path).convert('L')\n",
    "x = np.array(x)\n",
    "print(x.shape)\n",
    "\n",
    "x = abs(x - 255.)\n",
    "x = x/x.max()\n",
    "cal = np.sum(x)/np.count_nonzero(x)\n",
    "weight = (1/cal)*0.9\n",
    "x = x*x*100*weight\n",
    "x = np.around(x, -2)*255/100\n",
    "\n",
    "Image.fromarray(x.astype(np.uint8))"
   ]
  },
  {
   "cell_type": "code",
   "execution_count": 732,
   "id": "6c2c7155-f24d-454b-9fde-16c11f594d62",
   "metadata": {},
   "outputs": [
    {
     "name": "stdout",
     "output_type": "stream",
     "text": [
      "출력 이미지 :  06129\n",
      "글자 :  뽀\n",
      "글자 수 :  1\n",
      "(64, 43)\n",
      "max :  0.9176470588235294\n",
      "cal :  0.21270048529955826\n"
     ]
    }
   ],
   "source": [
    "show_img(num)\n",
    "x = Image.open(path).convert('L')\n",
    "x = np.array(x)\n",
    "print(x.shape)\n",
    "\n",
    "x = abs(x - 255.)\n",
    "x = x/255\n",
    "\n",
    "print(\"max : \", x.max())\n",
    "print(\"cal : \", np.sum(x)/np.count_nonzero(x))"
   ]
  },
  {
   "cell_type": "markdown",
   "id": "3d912245-ac03-4c94-9398-8f393d24b704",
   "metadata": {},
   "source": [
    "|id|max|cal|weight|explain|\n",
    "|--|--|--|--|--|\n",
    "|24029|0.5215|0.0970|20|weight = cal / max x 100|\n",
    "|14029|0.6745|0.1267|20|weight = cal / max x 100|\n",
    "|31029|0.8431|0.1570|20|weight = cal / max x 100|\n",
    "|1029|0.9058|0.1423|25|weight = cal / max x 150|\n",
    "|3029|0.8078|0.1453|20|weight = |\n",
    "|6029|0.8313|0.3886|3|weight = |\n",
    "|7029|0.8431|0.2063|10|weight = |\n",
    "|8029|0.7529|0.2363|10|\n",
    "|9029|0.8431|0.2790|5|\n",
    "|5029|0.6196|0.1230|22|\n",
    "|15029|0.9686|0.3606|3|\n",
    "|3329|0.8431|0.2370|20|\n",
    "\n",
    "\n",
    "\n",
    "\n",
    "\n",
    "\n",
    "```python\n",
    "show_img(num)\n",
    "x = Image.open(path).convert('L')\n",
    "x = np.array(x)\n",
    "print(x.shape)\n",
    "\n",
    "x = abs(x - 255.)\n",
    "x = x/255\n",
    "\n",
    "print(\"max : \", x.max())\n",
    "print(\"cal : \", np.sum(x)/np.count_nonzero(x))\n",
    "```\n",
    "\n",
    "\n",
    "\n",
    "\n",
    "\n"
   ]
  },
  {
   "cell_type": "code",
   "execution_count": 733,
   "id": "05331e7c-c548-44e5-9bf2-a03530e5c360",
   "metadata": {},
   "outputs": [],
   "source": [
    "import pytesseract"
   ]
  },
  {
   "cell_type": "code",
   "execution_count": 734,
   "id": "a18547c0-822d-4be3-bbf0-6f0156434309",
   "metadata": {},
   "outputs": [
    {
     "data": {
      "text/plain": [
       "''"
      ]
     },
     "execution_count": 734,
     "metadata": {},
     "output_type": "execute_result"
    }
   ],
   "source": [
    "img = Image.open(path)\n",
    "pytesseract.image_to_string(img, lang='kor').replace('\\n','')"
   ]
  },
  {
   "cell_type": "code",
   "execution_count": 735,
   "id": "8e784bf4-79aa-4f77-a7f3-545f3c1f264e",
   "metadata": {},
   "outputs": [
    {
     "ename": "SyntaxError",
     "evalue": "invalid syntax (1761970143.py, line 1)",
     "output_type": "error",
     "traceback": [
      "\u001b[0;36m  Cell \u001b[0;32mIn[735], line 1\u001b[0;36m\u001b[0m\n\u001b[0;31m    pytesseract.pytesseract.\u001b[0m\n\u001b[0m                            ^\u001b[0m\n\u001b[0;31mSyntaxError\u001b[0m\u001b[0;31m:\u001b[0m invalid syntax\n"
     ]
    }
   ],
   "source": []
  },
  {
   "cell_type": "code",
   "execution_count": null,
   "id": "10e3e185-f6b4-4807-bb0c-cf178a445e3d",
   "metadata": {},
   "outputs": [],
   "source": []
  }
 ],
 "metadata": {
  "kernelspec": {
   "display_name": "Python 3 (ipykernel)",
   "language": "python",
   "name": "python3"
  },
  "language_info": {
   "codemirror_mode": {
    "name": "ipython",
    "version": 3
   },
   "file_extension": ".py",
   "mimetype": "text/x-python",
   "name": "python",
   "nbconvert_exporter": "python",
   "pygments_lexer": "ipython3",
   "version": "3.8.15"
  }
 },
 "nbformat": 4,
 "nbformat_minor": 5
}
