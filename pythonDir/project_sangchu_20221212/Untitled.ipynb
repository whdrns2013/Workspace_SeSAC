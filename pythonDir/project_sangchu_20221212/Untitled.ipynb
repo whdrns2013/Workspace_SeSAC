{
 "cells": [
  {
   "cell_type": "code",
   "execution_count": 1,
   "id": "c844e4fd-1a35-460e-ad07-52dd538036dd",
   "metadata": {},
   "outputs": [],
   "source": [
    "import pandas as pd\n",
    "import numpy as np\n",
    "import tensorflow as tf\n",
    "import glob\n",
    "\n",
    "from sklearn.preprocessing import MinMaxScaler\n",
    "\n",
    "from keras.models import Sequential\n",
    "from keras.layers import Dense, Flatten\n",
    "from keras.optimizers import SGD, Adam, RMSprop\n",
    "from keras.losses import mse # mean squared error 평가 지표"
   ]
  },
  {
   "cell_type": "code",
   "execution_count": 2,
   "id": "2e9d39d9-302e-4b71-ab70-84854a87122a",
   "metadata": {},
   "outputs": [],
   "source": [
    "# 모델 생성 및 컴파일\n",
    "model = Sequential()\n",
    "model.add(Dense(64, activation='relu', input_shape=(13,)))\n",
    "model.add(Dense(32, activation='relu'))\n",
    "model.add(Dense(1)) # 회귀는 최종 출력값이 1개임, 활성화 함수 없이 그대로 출력하면 됨\n",
    "\n",
    "model.compile(optimizer = 'adam',\n",
    "              loss = 'mse',\n",
    "              metrics = ['mae'])"
   ]
  },
  {
   "cell_type": "code",
   "execution_count": 3,
   "id": "baa51573-c265-44f9-a584-87e3264c52f8",
   "metadata": {},
   "outputs": [
    {
     "name": "stdout",
     "output_type": "stream",
     "text": [
      "Model: \"sequential\"\n",
      "_________________________________________________________________\n",
      "Layer (type)                 Output Shape              Param #   \n",
      "=================================================================\n",
      "dense (Dense)                (None, 64)                896       \n",
      "_________________________________________________________________\n",
      "dense_1 (Dense)              (None, 32)                2080      \n",
      "_________________________________________________________________\n",
      "dense_2 (Dense)              (None, 1)                 33        \n",
      "=================================================================\n",
      "Total params: 3,009\n",
      "Trainable params: 3,009\n",
      "Non-trainable params: 0\n",
      "_________________________________________________________________\n"
     ]
    }
   ],
   "source": [
    "model.summary()"
   ]
  },
  {
   "cell_type": "code",
   "execution_count": null,
   "id": "c35d5b9c-c3cf-4fcb-8c74-32d0b94cc4b6",
   "metadata": {},
   "outputs": [],
   "source": []
  }
 ],
 "metadata": {
  "kernelspec": {
   "display_name": "Python 3 (ipykernel)",
   "language": "python",
   "name": "python3"
  },
  "language_info": {
   "codemirror_mode": {
    "name": "ipython",
    "version": 3
   },
   "file_extension": ".py",
   "mimetype": "text/x-python",
   "name": "python",
   "nbconvert_exporter": "python",
   "pygments_lexer": "ipython3",
   "version": "3.8.15"
  }
 },
 "nbformat": 4,
 "nbformat_minor": 5
}
