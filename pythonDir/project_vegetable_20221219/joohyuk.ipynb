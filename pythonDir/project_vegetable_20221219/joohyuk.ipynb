{
 "cells": [
  {
   "cell_type": "markdown",
   "metadata": {
    "id": "TpOUrN0gox4D"
   },
   "source": [
    "# Do / To Do"
   ]
  },
  {
   "cell_type": "code",
   "execution_count": 1,
   "metadata": {
    "id": "cIkVCtmAo1Ru"
   },
   "outputs": [],
   "source": [
    "# 2022-12-21\n",
    "## Do - 오전 : 데이터탐색 리뷰, 프로젝트 주제 타당성 검토, 데이터 및 기술타당성 검토, 계획서 작성 및 제출\n",
    "## Do - 오후 : 딥러닝 모델 준비 - OutPut이 2종류인 이미지 분류 Sequential 모델 작성 (중)\n",
    "## To Do : 딥러닝 Sequential 모델 완성 / CNN 모델 추가 / 객체탐지 attatch / Mobile - Code 간 연동\n",
    "\n",
    "# 2022-12-22\n",
    "## Do - 오전 : 이미지 리사이징 기술 탐색\n",
    "## Do - 오후 : 다중 출력 딥러닝 모델 (Dense) 완성\n",
    "## To Do : 다중출력모델 - CNN 모델 추가 / 테스트 데이터 크롤링 / 객체탐지 attatch / Mobile - Code 간 연동"
   ]
  },
  {
   "cell_type": "markdown",
   "metadata": {
    "id": "U3ZVFEHxuQhZ"
   },
   "source": [
    "# 배움"
   ]
  },
  {
   "cell_type": "code",
   "execution_count": 2,
   "metadata": {
    "id": "uI7uyx60uS3O"
   },
   "outputs": [],
   "source": [
    "# softmax : 모든 변수 확률값의 합이 1\n",
    "# sigmoid : 0 ~ 1 사이 값을 가짐??"
   ]
  },
  {
   "cell_type": "code",
   "execution_count": 3,
   "metadata": {
    "id": "8eWIZG0-czaY"
   },
   "outputs": [],
   "source": [
    "# loss 함수\n",
    "## spares_..._crossentropy : 원 핫 인코딩에 대한 로스\n",
    "## ..._crossentropy : 레이블 인코딩에 대한 로스"
   ]
  },
  {
   "cell_type": "markdown",
   "metadata": {
    "id": "Td08r56G_V1i"
   },
   "source": [
    "# 사전 준비 (Import, Mount)"
   ]
  },
  {
   "cell_type": "code",
   "execution_count": 1,
   "metadata": {
    "id": "gGecCFpE9Jto"
   },
   "outputs": [],
   "source": [
    "import numpy as np\n",
    "import pandas as pd\n",
    "import tensorflow as tf\n",
    "import glob as glob\n",
    "import cv2\n"
   ]
  },
  {
   "cell_type": "code",
   "execution_count": 2,
   "metadata": {
    "colab": {
     "base_uri": "https://localhost:8080/"
    },
    "executionInfo": {
     "elapsed": 19581,
     "status": "ok",
     "timestamp": 1671704536365,
     "user": {
      "displayName": "박종혁",
      "userId": "01273926726268184184"
     },
     "user_tz": -540
    },
    "id": "fQvFOQ0q9Zwj",
    "outputId": "556d6791-8d1a-42a6-ac9e-beba65334270"
   },
   "outputs": [
    {
     "ename": "ModuleNotFoundError",
     "evalue": "No module named 'google.colab'",
     "output_type": "error",
     "traceback": [
      "\u001b[0;31m---------------------------------------------------------------------------\u001b[0m",
      "\u001b[0;31mModuleNotFoundError\u001b[0m                       Traceback (most recent call last)",
      "Cell \u001b[0;32mIn[2], line 3\u001b[0m\n\u001b[1;32m      1\u001b[0m \u001b[38;5;66;03m# 마운트 및 데이터 경로 선언 (코랩)\u001b[39;00m\n\u001b[0;32m----> 3\u001b[0m \u001b[38;5;28;01mfrom\u001b[39;00m \u001b[38;5;21;01mgoogle\u001b[39;00m\u001b[38;5;21;01m.\u001b[39;00m\u001b[38;5;21;01mcolab\u001b[39;00m \u001b[38;5;28;01mimport\u001b[39;00m drive\n\u001b[1;32m      4\u001b[0m drive\u001b[38;5;241m.\u001b[39mmount(\u001b[38;5;124m'\u001b[39m\u001b[38;5;124m/content/drive\u001b[39m\u001b[38;5;124m'\u001b[39m)\n\u001b[1;32m      6\u001b[0m path \u001b[38;5;241m=\u001b[39m \u001b[38;5;124m'\u001b[39m\u001b[38;5;124m/content/drive/MyDrive/딥러닝_프로젝트_과채어때컴퍼니조/data/\u001b[39m\u001b[38;5;124m'\u001b[39m\n",
      "\u001b[0;31mModuleNotFoundError\u001b[0m: No module named 'google.colab'"
     ]
    }
   ],
   "source": [
    "# 마운트 및 데이터 경로 선언 (코랩)\n",
    "\n",
    "from google.colab import drive\n",
    "drive.mount('/content/drive')\n",
    "\n",
    "path = '/content/drive/MyDrive/딥러닝_프로젝트_과채어때컴퍼니조/data/'\n",
    "\n",
    "# 구글 드라이브 공유 드라이브 마운트 방법\n",
    "# 구글 드라이브 -> 공유드라이브 오른쪽 클릭 -> 바로가기 추가 -> My Drive에 추가\n",
    "# https://sundries-in-myidea.tistory.com/96"
   ]
  },
  {
   "cell_type": "code",
   "execution_count": 2,
   "metadata": {},
   "outputs": [],
   "source": [
    "# 데이터 경로 선언 (Local)\n",
    "\n",
    "path = '/Users/jongya/Desktop/data/data/'"
   ]
  },
  {
   "cell_type": "markdown",
   "metadata": {
    "id": "C2IJ0451_Kc2"
   },
   "source": [
    "# 데이터 준비"
   ]
  },
  {
   "cell_type": "markdown",
   "metadata": {
    "id": "skFFF6LRkyTc"
   },
   "source": [
    "## data preperence"
   ]
  },
  {
   "cell_type": "code",
   "execution_count": 3,
   "metadata": {
    "id": "ZKwqCbsy_bw-"
   },
   "outputs": [],
   "source": [
    "class dataset:\n",
    "\n",
    "  # 인코딩 값 Notice\n",
    "  fresh = ['stale', 'fresh']\n",
    "  kind = ['apple', 'banana', 'bittergourd', 'capsicum', 'orange', 'tomato']\n",
    "\n",
    "\n",
    "  def load_data():\n",
    "    # 모든 이미지 경로명 데이터를 리스트로 담아 뽑기\n",
    "    img_list_png = glob.glob(path + '*/*/*.png', recursive=True)\n",
    "    img_list_jpg = glob.glob(path + '*/*/*.jpg', recursive=True)\n",
    "    img_list_jpeg = glob.glob(path + '*/*/*.jpeg', recursive=True)\n",
    "    img_list = img_list_png + img_list_jpg + img_list_jpeg\n",
    "    return img_list\n",
    "  \n",
    "\n",
    "  def label_split(img_list):\n",
    "    # 레이블 종류별로 나누기 (fresh, kind)\n",
    "    fresh_list =  []\n",
    "    kind_list =  []\n",
    "    for i in img_list:\n",
    "      fresh_list.append(i.split('/')[7].split('_')[0])\n",
    "      kind_list.append(i.split('/')[7].split('_')[1])\n",
    "    return fresh_list, kind_list\n",
    "  \n",
    "\n",
    "  def label_encoding(kind_or_fresh_list):\n",
    "    # 레이블 인코딩\n",
    "    label = list(set(kind_or_fresh_list))\n",
    "    df = kind_or_fresh_list.copy()\n",
    "    for i, j in enumerate(df):\n",
    "      for n, m in enumerate(label):\n",
    "        if j == m:\n",
    "          df[i] = n\n",
    "    return np.array(df)\n",
    "\n",
    "  \n",
    "  def train_val_test(img_list, train_test_rate=0.3, train_val_rate=0.2):\n",
    "    # train - val - test 데이터셋 분리\n",
    "    from sklearn.model_selection import train_test_split\n",
    "    import numpy as np\n",
    "\n",
    "    img_list = dataset.load_data()\n",
    "    globals()['fresh_list'], globals()['kind_list'] = dataset.label_split(img_list)\n",
    "\n",
    "    ## x data\n",
    "    x_train, x_test = train_test_split(img_list, test_size = train_test_rate)\n",
    "    x_train, x_val = train_test_split(x_train, test_size = train_val_rate)\n",
    "\n",
    "    y_train_fresh, y_train_kind = dataset.label_split(x_train)\n",
    "    y_val_fresh, y_val_kind = dataset.label_split(x_val)\n",
    "    y_test_fresh, y_test_kind = dataset.label_split(x_test)\n",
    "\n",
    "    ## y data\n",
    "    y_train_fresh = dataset.label_encoding(y_train_fresh)\n",
    "    y_train_kind = dataset.label_encoding(y_train_kind)\n",
    "    y_val_fresh = dataset.label_encoding(y_val_fresh)\n",
    "    y_val_kind = dataset.label_encoding(y_val_kind)\n",
    "    y_test_fresh = dataset.label_encoding(y_test_fresh)\n",
    "    y_test_kind = dataset.label_encoding(y_test_kind)\n",
    "\n",
    "    return x_train, x_val, x_test, y_train_fresh, y_val_fresh, y_test_fresh, y_train_kind, y_val_kind, y_test_kind\n",
    "\n",
    "\n",
    "  def view_sample_img(img_list, sample_size=6):\n",
    "    # img list에서 샘플 이미지 보기\n",
    "    import random\n",
    "    import matplotlib.pyplot as plt\n",
    "    from keras.utils import img_to_array\n",
    "    from PIL import Image\n",
    "    rand_idx = random.sample(img_list, sample_size)\n",
    "    fig = plt.figure(figsize=(10,10))\n",
    "    fig.suptitle(f'samples / size = {sample_size}')\n",
    "    for i, j in enumerate(rand_idx):\n",
    "      img_path = j\n",
    "      plt.subplot(sample_size/3,3,i+1)\n",
    "      plt.xticks([])\n",
    "      plt.yticks([])\n",
    "      plt.imshow(Image.open(j))\n",
    "    plt.tight_layout()\n",
    "    plt.show()\n"
   ]
  },
  {
   "cell_type": "code",
   "execution_count": 419,
   "metadata": {
    "id": "SNekjPVObazX"
   },
   "outputs": [],
   "source": [
    "img_list = dataset.load_data()\n",
    "x_train, x_val, x_test, y_train_fresh, y_val_fresh, y_test_fresh, y_train_kind, y_val_kind, y_test_kind = dataset.train_val_test(img_list,0.01,0.2)"
   ]
  },
  {
   "cell_type": "markdown",
   "metadata": {
    "id": "s8YP469Ka0vI"
   },
   "source": [
    "## Image Generator"
   ]
  },
  {
   "cell_type": "code",
   "execution_count": 488,
   "metadata": {},
   "outputs": [],
   "source": [
    "# 이미지 사이즈\n",
    "\n",
    "width = 256\n",
    "height = 256\n",
    "channel = 3"
   ]
  },
  {
   "cell_type": "code",
   "execution_count": 489,
   "metadata": {
    "id": "qAfIoCVyk4QS",
    "tags": []
   },
   "outputs": [
    {
     "name": "stdout",
     "output_type": "stream",
     "text": [
      "Found 1293 validated image filenames.\n",
      "Found 324 validated image filenames.\n"
     ]
    }
   ],
   "source": [
    "from keras.preprocessing.image import ImageDataGenerator\n",
    "\n",
    "# 이미지 제너레이터 선언\n",
    "train_datagen = ImageDataGenerator(rescale = 1./255)\n",
    "val_datagen = ImageDataGenerator(rescale = 1./255)\n",
    "test_datagen = ImageDataGenerator(rescale = 1./255)\n",
    "\n",
    "# 데이터프레임화\n",
    "x_train_df = pd.DataFrame([x_train, y_train_fresh]).T\n",
    "x_val_df = pd.DataFrame([x_val, y_val_fresh]).T\n",
    "x_test_df = pd.DataFrame([x_test, y_test_fresh]).T\n",
    "\n",
    "# train, validataion 제너레이터 선언\n",
    "train_generator = train_datagen.flow_from_dataframe(x_train_df,\n",
    "                                                    target_size=(width, height),\n",
    "                                                    x_col=0,\n",
    "                                                    y_col=1,\n",
    "                                                    color_mode = 'rgb',\n",
    "                                                    class_mode = 'raw',\n",
    "                                                    batch_size = 2,\n",
    "                                                    shuffle = True)\n",
    "\n",
    "\n",
    "val_generator = val_datagen.flow_from_dataframe(x_val_df,  \n",
    "                                                target_size=(width, height),\n",
    "                                                x_col=0,\n",
    "                                                y_col=1,\n",
    "                                                color_mode = 'rgb',\n",
    "                                                class_mode = 'raw',\n",
    "                                                batch_size = 2,\n",
    "                                                shuffle = True)"
   ]
  },
  {
   "cell_type": "code",
   "execution_count": 490,
   "metadata": {
    "id": "R2fouy_aN41I"
   },
   "outputs": [],
   "source": [
    "class image_prep:\n",
    "    \n",
    "    def img_resize_and_array(img_path_list, size=(width, height)):\n",
    "        # 이미지 리사이징 함수\n",
    "        resized = []\n",
    "        for i in img_path_list:\n",
    "            from PIL import Image\n",
    "            img = Image.open(i)\n",
    "            resized.append(np.array(img.resize(size).convert('RGB'))*1./255)\n",
    "        return resized"
   ]
  },
  {
   "cell_type": "markdown",
   "metadata": {
    "id": "9qs2SyQkUoJ9"
   },
   "source": [
    "# 모델 선언"
   ]
  },
  {
   "cell_type": "code",
   "execution_count": 491,
   "metadata": {
    "id": "X1TbMZgvUs1f"
   },
   "outputs": [],
   "source": [
    "def Sequential_Dense_Model_1():\n",
    "    from keras.layers import Input, Dense, Flatten, Concatenate\n",
    "    # from keras.layers import Resizing\n",
    "    from keras.models import Model\n",
    "\n",
    "    # inputs = Resizing(width, height, name='inputs')\n",
    "\n",
    "    inputs = Input((width, height, channel), name='inputs')\n",
    "\n",
    "    flat = Flatten()(inputs)\n",
    "\n",
    "    fresh_1 = Dense(1024, activation='relu')(flat)\n",
    "    fresh_2 = Dense(256, activation='relu')(fresh_1)\n",
    "\n",
    "    kind_1 = Dense(1024, activation='relu')(flat)\n",
    "    kind_2 = Dense(256, activation='relu')(kind_1)\n",
    "\n",
    "    concat = Concatenate()([fresh_2, kind_2])\n",
    "\n",
    "    fresh_output = Dense(len(set(fresh_list))-1, activation='sigmoid', name='fresh_output')(concat)\n",
    "    kind_output = Dense(len(set(kind_list)), activation='sigmoid', name='kind_output')(kind_2)\n",
    "\n",
    "    return Model(inputs = inputs, outputs = [fresh_output, kind_output])"
   ]
  },
  {
   "cell_type": "code",
   "execution_count": 492,
   "metadata": {},
   "outputs": [],
   "source": [
    "def Sequential_Dense_Model_2():\n",
    "    \n",
    "    # score (val-fresh-acc / val-kind-acc)\n",
    "    # activation : fresh : sigmoid, kind : sigmoid\n",
    "    ## fresh264-264, kind1024-128 : 7424  / 6245\n",
    "    ## fresh256-128, kind1024-128 :7380 / 8122\n",
    "    \n",
    "    # fresh-rotten은 유닛을 적당히 가져가는 게 정확도 높음\n",
    "    # kind는 유닛을 많이 가져가는 게 정확도 높음\n",
    "    # Sequential1 모델보다 2 모델의 정확도 높음\n",
    "    \n",
    "    from keras.layers import Input, Dense, Flatten, Concatenate\n",
    "    # from keras.layers import Resizing\n",
    "    from keras.models import Model\n",
    "\n",
    "    # inputs = Resizing(width, height, name='inputs')\n",
    "\n",
    "    inputs = Input((width, height, channel), name='inputs')\n",
    "\n",
    "    flat = Flatten()(inputs)\n",
    "\n",
    "    fresh_1 = Dense(256, activation='relu')(flat)\n",
    "    fresh_2 = Dense(128, activation='relu')(fresh_1)\n",
    "\n",
    "    kind_1 = Dense(1024, activation='relu')(flat)\n",
    "    kind_2 = Dense(128, activation='relu')(kind_1)\n",
    "\n",
    "    # concat = Concatenate()([fresh_2, kind_2])\n",
    "\n",
    "    fresh_output = Dense(len(set(fresh_list))-1, activation='sigmoid', name='fresh_output')(fresh_2)\n",
    "    kind_output = Dense(len(set(kind_list)), activation='sigmoid', name='kind_output')(kind_2)\n",
    "\n",
    "    return Model(inputs = inputs, outputs = [fresh_output, kind_output])"
   ]
  },
  {
   "cell_type": "code",
   "execution_count": 493,
   "metadata": {},
   "outputs": [],
   "source": [
    "def CNN_Model_1():\n",
    "    from keras.layers import Conv2D, MaxPool2D, Flatten, Concatenate, Input, Dense\n",
    "    from keras.models import Model\n",
    "    \n",
    "    # score (val-fresh-acc / val-kind-acc)\n",
    "    # activation : fresh - softmax / kind - sigmoid\n",
    "    ## 배치사이즈 32 : 6245 / 2838\n",
    "    ## 배치사이즈 128 : 5153 / 3362\n",
    "    \n",
    "    inputs = Input(shape=(width, height, channel),name='inputs')\n",
    "\n",
    "    conv = Conv2D(128,(3,3),activation='relu',name='conv2d')(inputs)\n",
    "    pool = MaxPool2D((2,2),name='maxpool')(conv)\n",
    "    flat = Flatten(name='flatten')(pool)\n",
    "\n",
    "    flat_inputs = Flatten()(inputs)\n",
    "    concat = Concatenate()([flat,flat_inputs])\n",
    "    fresh_output = Dense(len(set(fresh_list))-1,activation='softmax',name='fresh_output')(flat_inputs)\n",
    "    kind_output = Dense(len(set(kind_list)),activation='sigmoid',name='kind_output')(concat)\n",
    "\n",
    "    return Model(inputs=inputs,outputs=[fresh_output,kind_output])"
   ]
  },
  {
   "cell_type": "code",
   "execution_count": 494,
   "metadata": {},
   "outputs": [],
   "source": [
    "def CNN_Model_2():\n",
    "    from keras.layers import Conv2D, MaxPool2D, Flatten, Concatenate, Input, Dense\n",
    "    from keras.models import Model\n",
    "    \n",
    "    # score (val-fresh-acc / val-kind-acc)\n",
    "    # activation : fresh - softmax / kind - sigmoid\n",
    "    ## 배치사이즈 32 : 6245 / 2838\n",
    "    ## 배치사이즈 128 : 5153 / 3362\n",
    "    \n",
    "    inputs = Input(shape=(width, height, channel),name='inputs')\n",
    "\n",
    "    conv = Conv2D(128,(3,3),activation='relu',name='conv2d')(inputs)\n",
    "    pool = MaxPool2D((2,2),name='maxpool')(conv)\n",
    "    \n",
    "    conv2 = Conv2D(64,(3,3),activation='relu',name='conv2d2')(pool)\n",
    "    pool2 = MaxPool2D((2,2),name='maxpool2')(conv2)\n",
    "    flat2 = Flatten(name='flatten2')(pool2)\n",
    "\n",
    "    conv3 = Conv2D(64,(3,3),activation='relu',name='conv2d3')(inputs)\n",
    "    pool3 = MaxPool2D((2,2),name='maxpool3')(conv3)\n",
    "    flat3 = Flatten(name='flatten3')(pool3)\n",
    "    dense = Dense(10, activation='relu', name='dense')(flat3)\n",
    "    \n",
    "    concat = Concatenate()([flat2,dense])\n",
    "    fresh_output = Dense(len(set(fresh_list))-1,activation='softmax',name='fresh_output')(dense)\n",
    "    kind_output = Dense(len(set(kind_list)),activation='sigmoid',name='kind_output')(concat)\n",
    "\n",
    "    return Model(inputs=inputs,outputs=[fresh_output,kind_output])"
   ]
  },
  {
   "cell_type": "markdown",
   "metadata": {
    "id": "f--b4l1JUtEH"
   },
   "source": [
    "# 모델 선택"
   ]
  },
  {
   "cell_type": "code",
   "execution_count": 495,
   "metadata": {
    "colab": {
     "base_uri": "https://localhost:8080/",
     "height": 169
    },
    "executionInfo": {
     "elapsed": 9,
     "status": "error",
     "timestamp": 1671708893372,
     "user": {
      "displayName": "박종혁",
      "userId": "01273926726268184184"
     },
     "user_tz": -540
    },
    "id": "lCHy5B2EdEq0",
    "outputId": "052e1453-6606-4a8c-939e-071e9d044aa7"
   },
   "outputs": [],
   "source": [
    "model = CNN_Model_2()"
   ]
  },
  {
   "cell_type": "code",
   "execution_count": 496,
   "metadata": {
    "colab": {
     "base_uri": "https://localhost:8080/",
     "height": 644
    },
    "executionInfo": {
     "elapsed": 9,
     "status": "ok",
     "timestamp": 1671706256240,
     "user": {
      "displayName": "박종혁",
      "userId": "01273926726268184184"
     },
     "user_tz": -540
    },
    "id": "lN4NNcBXdKIe",
    "outputId": "c759c103-e304-4db4-a9c6-e5b7c1473632",
    "tags": []
   },
   "outputs": [
    {
     "data": {
      "image/png": "[encoded data removed]",
      "text/plain": [
       "<IPython.core.display.Image object>"
      ]
     },
     "execution_count": 496,
     "metadata": {},
     "output_type": "execute_result"
    }
   ],
   "source": [
    "# 모델 살펴보기\n",
    "from keras.utils import plot_model\n",
    "plot_model(model, show_shapes=True, show_layer_names=True)"
   ]
  },
  {
   "cell_type": "markdown",
   "metadata": {
    "id": "v7N8qK9zeT_S"
   },
   "source": [
    "# 컴파일"
   ]
  },
  {
   "cell_type": "code",
   "execution_count": 497,
   "metadata": {
    "id": "uUwhl-8ne9EV"
   },
   "outputs": [],
   "source": [
    "# 하이퍼 파라미터\n",
    "\n",
    "from keras.optimizers import Adam, RMSprop, Adadelta, Adagrad, Adamax\n",
    "from keras.metrics import RootMeanSquaredError\n",
    "\n",
    "optimizer = Adam(learning_rate = 0.001)\n",
    "\n",
    "fresh_loss = 'binary_crossentropy'\n",
    "kind_loss = 'sparse_categorical_crossentropy'\n",
    "metrics = ['acc']"
   ]
  },
  {
   "cell_type": "code",
   "execution_count": 498,
   "metadata": {
    "id": "NW5zhx3wfeTT"
   },
   "outputs": [],
   "source": [
    "model.compile(optimizer = optimizer,\n",
    "              loss = {'fresh_output' : fresh_loss, 'kind_output' : kind_loss},\n",
    "              metrics = metrics)"
   ]
  },
  {
   "cell_type": "markdown",
   "metadata": {
    "id": "VBzvmQxkfZi5"
   },
   "source": [
    "# 학습"
   ]
  },
  {
   "cell_type": "code",
   "execution_count": 499,
   "metadata": {
    "id": "TQ1n9Rc9fc0-"
   },
   "outputs": [],
   "source": [
    "# 하이퍼 파라미터\n",
    "\n",
    "epochs = 50\n",
    "batch_size = 16\n",
    "spe = len(x_train)/batch_size if len(x_train)%batch_size == 0 else len(x_train)/batch_size + 1"
   ]
  },
  {
   "cell_type": "code",
   "execution_count": 500,
   "metadata": {
    "id": "Dn05aqr_h99Q",
    "tags": []
   },
   "outputs": [
    {
     "name": "stdout",
     "output_type": "stream",
     "text": [
      "Epoch 1/50\n",
      "41/41 [==============================] - 73s 2s/step - loss: 2.7611 - fresh_output_loss: 1.7007 - kind_output_loss: 1.0604 - fresh_output_acc: 0.5514 - kind_output_acc: 0.6458 - val_loss: 1.8406 - val_fresh_output_loss: 1.3548 - val_kind_output_loss: 0.4858 - val_fresh_output_acc: 0.4259 - val_kind_output_acc: 0.8395\n",
      "Epoch 2/50\n",
      "41/41 [==============================] - 74s 2s/step - loss: 0.7359 - fresh_output_loss: 0.3810 - kind_output_loss: 0.3548 - fresh_output_acc: 0.5514 - kind_output_acc: 0.8755 - val_loss: 2.4926 - val_fresh_output_loss: 2.0864 - val_kind_output_loss: 0.4062 - val_fresh_output_acc: 0.4259 - val_kind_output_acc: 0.8302\n",
      "Epoch 3/50\n",
      "41/41 [==============================] - 77s 2s/step - loss: 0.5403 - fresh_output_loss: 0.2931 - kind_output_loss: 0.2472 - fresh_output_acc: 0.5514 - kind_output_acc: 0.9103 - val_loss: 2.5780 - val_fresh_output_loss: 2.2946 - val_kind_output_loss: 0.2834 - val_fresh_output_acc: 0.4259 - val_kind_output_acc: 0.9012\n",
      "Epoch 4/50\n",
      "41/41 [==============================] - 90s 2s/step - loss: 0.4241 - fresh_output_loss: 0.2335 - kind_output_loss: 0.1906 - fresh_output_acc: 0.5514 - kind_output_acc: 0.9281 - val_loss: 2.8037 - val_fresh_output_loss: 2.5714 - val_kind_output_loss: 0.2323 - val_fresh_output_acc: 0.4259 - val_kind_output_acc: 0.9259\n",
      "Epoch 5/50\n",
      "41/41 [==============================] - 89s 2s/step - loss: 0.3444 - fresh_output_loss: 0.2222 - kind_output_loss: 0.1222 - fresh_output_acc: 0.5514 - kind_output_acc: 0.9621 - val_loss: 3.3208 - val_fresh_output_loss: 2.9409 - val_kind_output_loss: 0.3799 - val_fresh_output_acc: 0.4259 - val_kind_output_acc: 0.8735\n",
      "Epoch 6/50\n",
      "41/41 [==============================] - 89s 2s/step - loss: 0.2787 - fresh_output_loss: 0.1669 - kind_output_loss: 0.1118 - fresh_output_acc: 0.5514 - kind_output_acc: 0.9598 - val_loss: 4.2860 - val_fresh_output_loss: 4.0094 - val_kind_output_loss: 0.2767 - val_fresh_output_acc: 0.4259 - val_kind_output_acc: 0.9352\n",
      "Epoch 7/50\n",
      "41/41 [==============================] - 90s 2s/step - loss: 0.3678 - fresh_output_loss: 0.2731 - kind_output_loss: 0.0947 - fresh_output_acc: 0.5514 - kind_output_acc: 0.9644 - val_loss: 3.2746 - val_fresh_output_loss: 3.0202 - val_kind_output_loss: 0.2544 - val_fresh_output_acc: 0.4259 - val_kind_output_acc: 0.9259\n",
      "Epoch 8/50\n",
      "41/41 [==============================] - 91s 2s/step - loss: 0.2060 - fresh_output_loss: 0.1534 - kind_output_loss: 0.0526 - fresh_output_acc: 0.5514 - kind_output_acc: 0.9830 - val_loss: 3.8073 - val_fresh_output_loss: 3.4070 - val_kind_output_loss: 0.4002 - val_fresh_output_acc: 0.4259 - val_kind_output_acc: 0.8858\n",
      "Epoch 9/50\n",
      "41/41 [==============================] - 92s 2s/step - loss: 0.1573 - fresh_output_loss: 0.1231 - kind_output_loss: 0.0341 - fresh_output_acc: 0.5514 - kind_output_acc: 0.9923 - val_loss: 4.1063 - val_fresh_output_loss: 3.7935 - val_kind_output_loss: 0.3128 - val_fresh_output_acc: 0.4259 - val_kind_output_acc: 0.9321\n",
      "Epoch 10/50\n",
      "41/41 [==============================] - 94s 2s/step - loss: 0.1204 - fresh_output_loss: 0.1050 - kind_output_loss: 0.0154 - fresh_output_acc: 0.5514 - kind_output_acc: 0.9969 - val_loss: 4.4111 - val_fresh_output_loss: 4.0363 - val_kind_output_loss: 0.3748 - val_fresh_output_acc: 0.4259 - val_kind_output_acc: 0.9012\n",
      "Epoch 11/50\n",
      "41/41 [==============================] - 93s 2s/step - loss: 0.1741 - fresh_output_loss: 0.1472 - kind_output_loss: 0.0269 - fresh_output_acc: 0.5514 - kind_output_acc: 0.9899 - val_loss: 3.7841 - val_fresh_output_loss: 3.4147 - val_kind_output_loss: 0.3694 - val_fresh_output_acc: 0.4259 - val_kind_output_acc: 0.9043\n",
      "Epoch 12/50\n",
      "41/41 [==============================] - 93s 2s/step - loss: 0.1020 - fresh_output_loss: 0.0848 - kind_output_loss: 0.0172 - fresh_output_acc: 0.5514 - kind_output_acc: 0.9946 - val_loss: 5.4360 - val_fresh_output_loss: 5.1411 - val_kind_output_loss: 0.2949 - val_fresh_output_acc: 0.4259 - val_kind_output_acc: 0.9321\n",
      "Epoch 13/50\n",
      "41/41 [==============================] - 94s 2s/step - loss: 0.0607 - fresh_output_loss: 0.0567 - kind_output_loss: 0.0040 - fresh_output_acc: 0.5514 - kind_output_acc: 1.0000 - val_loss: 5.4422 - val_fresh_output_loss: 5.0587 - val_kind_output_loss: 0.3835 - val_fresh_output_acc: 0.4259 - val_kind_output_acc: 0.9167\n",
      "Epoch 14/50\n",
      "41/41 [==============================] - 95s 2s/step - loss: 0.0656 - fresh_output_loss: 0.0619 - kind_output_loss: 0.0037 - fresh_output_acc: 0.5514 - kind_output_acc: 1.0000 - val_loss: 5.3536 - val_fresh_output_loss: 4.9688 - val_kind_output_loss: 0.3848 - val_fresh_output_acc: 0.4259 - val_kind_output_acc: 0.9167\n",
      "Epoch 15/50\n",
      "41/41 [==============================] - 94s 2s/step - loss: 0.0503 - fresh_output_loss: 0.0492 - kind_output_loss: 0.0011 - fresh_output_acc: 0.5514 - kind_output_acc: 1.0000 - val_loss: 5.5814 - val_fresh_output_loss: 5.1718 - val_kind_output_loss: 0.4096 - val_fresh_output_acc: 0.4259 - val_kind_output_acc: 0.9167\n",
      "Epoch 16/50\n",
      "41/41 [==============================] - 95s 2s/step - loss: 0.0400 - fresh_output_loss: 0.0392 - kind_output_loss: 7.4484e-04 - fresh_output_acc: 0.5514 - kind_output_acc: 1.0000 - val_loss: 6.1418 - val_fresh_output_loss: 5.7215 - val_kind_output_loss: 0.4203 - val_fresh_output_acc: 0.4259 - val_kind_output_acc: 0.9105\n",
      "Epoch 17/50\n",
      "41/41 [==============================] - 95s 2s/step - loss: 0.0380 - fresh_output_loss: 0.0375 - kind_output_loss: 5.2480e-04 - fresh_output_acc: 0.5514 - kind_output_acc: 1.0000 - val_loss: 5.8982 - val_fresh_output_loss: 5.4724 - val_kind_output_loss: 0.4258 - val_fresh_output_acc: 0.4259 - val_kind_output_acc: 0.9105\n",
      "Epoch 18/50\n",
      "41/41 [==============================] - 97s 2s/step - loss: 0.0346 - fresh_output_loss: 0.0342 - kind_output_loss: 4.6414e-04 - fresh_output_acc: 0.5514 - kind_output_acc: 1.0000 - val_loss: 6.1781 - val_fresh_output_loss: 5.7476 - val_kind_output_loss: 0.4305 - val_fresh_output_acc: 0.4259 - val_kind_output_acc: 0.9105\n",
      "Epoch 19/50\n",
      "41/41 [==============================] - 96s 2s/step - loss: 0.0216 - fresh_output_loss: 0.0212 - kind_output_loss: 3.9665e-04 - fresh_output_acc: 0.5514 - kind_output_acc: 1.0000 - val_loss: 6.9231 - val_fresh_output_loss: 6.4994 - val_kind_output_loss: 0.4237 - val_fresh_output_acc: 0.4259 - val_kind_output_acc: 0.9074\n",
      "Epoch 20/50\n",
      "41/41 [==============================] - 97s 2s/step - loss: 0.0167 - fresh_output_loss: 0.0164 - kind_output_loss: 3.4396e-04 - fresh_output_acc: 0.5514 - kind_output_acc: 1.0000 - val_loss: 6.7251 - val_fresh_output_loss: 6.2994 - val_kind_output_loss: 0.4257 - val_fresh_output_acc: 0.4259 - val_kind_output_acc: 0.9105\n",
      "Epoch 21/50\n",
      "41/41 [==============================] - 97s 2s/step - loss: 0.0142 - fresh_output_loss: 0.0139 - kind_output_loss: 2.9875e-04 - fresh_output_acc: 0.5514 - kind_output_acc: 1.0000 - val_loss: 7.1483 - val_fresh_output_loss: 6.7078 - val_kind_output_loss: 0.4405 - val_fresh_output_acc: 0.4259 - val_kind_output_acc: 0.9105\n",
      "Epoch 22/50\n",
      "41/41 [==============================] - 96s 2s/step - loss: 0.0127 - fresh_output_loss: 0.0124 - kind_output_loss: 2.9015e-04 - fresh_output_acc: 0.5514 - kind_output_acc: 1.0000 - val_loss: 7.1799 - val_fresh_output_loss: 6.7475 - val_kind_output_loss: 0.4324 - val_fresh_output_acc: 0.4259 - val_kind_output_acc: 0.9105\n",
      "Epoch 23/50\n",
      "41/41 [==============================] - 96s 2s/step - loss: 0.0082 - fresh_output_loss: 0.0080 - kind_output_loss: 2.4234e-04 - fresh_output_acc: 0.5514 - kind_output_acc: 1.0000 - val_loss: 7.7998 - val_fresh_output_loss: 7.3660 - val_kind_output_loss: 0.4338 - val_fresh_output_acc: 0.4259 - val_kind_output_acc: 0.9105\n",
      "Epoch 24/50\n",
      "41/41 [==============================] - 96s 2s/step - loss: 0.0069 - fresh_output_loss: 0.0067 - kind_output_loss: 2.2644e-04 - fresh_output_acc: 0.5514 - kind_output_acc: 1.0000 - val_loss: 7.9282 - val_fresh_output_loss: 7.4886 - val_kind_output_loss: 0.4396 - val_fresh_output_acc: 0.4259 - val_kind_output_acc: 0.9105\n",
      "Epoch 25/50\n",
      "41/41 [==============================] - 96s 2s/step - loss: 0.0066 - fresh_output_loss: 0.0064 - kind_output_loss: 2.0356e-04 - fresh_output_acc: 0.5514 - kind_output_acc: 1.0000 - val_loss: 8.4570 - val_fresh_output_loss: 8.0176 - val_kind_output_loss: 0.4395 - val_fresh_output_acc: 0.4259 - val_kind_output_acc: 0.9105\n",
      "Epoch 26/50\n",
      "41/41 [==============================] - 96s 2s/step - loss: 0.0071 - fresh_output_loss: 0.0069 - kind_output_loss: 1.9307e-04 - fresh_output_acc: 0.5514 - kind_output_acc: 1.0000 - val_loss: 8.2945 - val_fresh_output_loss: 7.8452 - val_kind_output_loss: 0.4493 - val_fresh_output_acc: 0.4259 - val_kind_output_acc: 0.9136\n",
      "Epoch 27/50\n",
      "41/41 [==============================] - 95s 2s/step - loss: 0.0043 - fresh_output_loss: 0.0041 - kind_output_loss: 1.7630e-04 - fresh_output_acc: 0.5514 - kind_output_acc: 1.0000 - val_loss: 8.4772 - val_fresh_output_loss: 8.0321 - val_kind_output_loss: 0.4450 - val_fresh_output_acc: 0.4259 - val_kind_output_acc: 0.9105\n",
      "Epoch 28/50\n",
      "41/41 [==============================] - 97s 2s/step - loss: 0.0038 - fresh_output_loss: 0.0036 - kind_output_loss: 1.6262e-04 - fresh_output_acc: 0.5514 - kind_output_acc: 1.0000 - val_loss: 8.2481 - val_fresh_output_loss: 7.7950 - val_kind_output_loss: 0.4531 - val_fresh_output_acc: 0.4259 - val_kind_output_acc: 0.9136\n",
      "Epoch 29/50\n",
      "41/41 [==============================] - 95s 2s/step - loss: 0.0037 - fresh_output_loss: 0.0035 - kind_output_loss: 1.5468e-04 - fresh_output_acc: 0.5514 - kind_output_acc: 1.0000 - val_loss: 8.6287 - val_fresh_output_loss: 8.1677 - val_kind_output_loss: 0.4610 - val_fresh_output_acc: 0.4259 - val_kind_output_acc: 0.9136\n",
      "Epoch 30/50\n",
      "41/41 [==============================] - 97s 2s/step - loss: 0.0031 - fresh_output_loss: 0.0029 - kind_output_loss: 1.4835e-04 - fresh_output_acc: 0.5514 - kind_output_acc: 1.0000 - val_loss: 8.7937 - val_fresh_output_loss: 8.3281 - val_kind_output_loss: 0.4656 - val_fresh_output_acc: 0.4259 - val_kind_output_acc: 0.9136\n",
      "Epoch 31/50\n",
      "41/41 [==============================] - 101s 2s/step - loss: 0.0028 - fresh_output_loss: 0.0027 - kind_output_loss: 1.3285e-04 - fresh_output_acc: 0.5514 - kind_output_acc: 1.0000 - val_loss: 9.2139 - val_fresh_output_loss: 8.7523 - val_kind_output_loss: 0.4616 - val_fresh_output_acc: 0.4259 - val_kind_output_acc: 0.9105\n",
      "Epoch 32/50\n",
      "41/41 [==============================] - 100s 2s/step - loss: 0.0026 - fresh_output_loss: 0.0025 - kind_output_loss: 1.2850e-04 - fresh_output_acc: 0.5514 - kind_output_acc: 1.0000 - val_loss: 9.0571 - val_fresh_output_loss: 8.5926 - val_kind_output_loss: 0.4645 - val_fresh_output_acc: 0.4259 - val_kind_output_acc: 0.9136\n",
      "Epoch 33/50\n",
      "41/41 [==============================] - 89s 2s/step - loss: 0.0024 - fresh_output_loss: 0.0022 - kind_output_loss: 1.1702e-04 - fresh_output_acc: 0.5514 - kind_output_acc: 1.0000 - val_loss: 9.1492 - val_fresh_output_loss: 8.6837 - val_kind_output_loss: 0.4655 - val_fresh_output_acc: 0.4259 - val_kind_output_acc: 0.9136\n",
      "Epoch 34/50\n",
      "41/41 [==============================] - 96s 2s/step - loss: 0.0024 - fresh_output_loss: 0.0023 - kind_output_loss: 1.0960e-04 - fresh_output_acc: 0.5514 - kind_output_acc: 1.0000 - val_loss: 9.0144 - val_fresh_output_loss: 8.5469 - val_kind_output_loss: 0.4674 - val_fresh_output_acc: 0.4259 - val_kind_output_acc: 0.9105\n",
      "Epoch 35/50\n",
      "41/41 [==============================] - 89s 2s/step - loss: 0.0022 - fresh_output_loss: 0.0021 - kind_output_loss: 1.0468e-04 - fresh_output_acc: 0.5514 - kind_output_acc: 1.0000 - val_loss: 9.2929 - val_fresh_output_loss: 8.8172 - val_kind_output_loss: 0.4756 - val_fresh_output_acc: 0.4259 - val_kind_output_acc: 0.9136\n",
      "Epoch 36/50\n",
      "41/41 [==============================] - 86s 2s/step - loss: 0.0020 - fresh_output_loss: 0.0019 - kind_output_loss: 9.7872e-05 - fresh_output_acc: 0.5514 - kind_output_acc: 1.0000 - val_loss: 9.6315 - val_fresh_output_loss: 9.1610 - val_kind_output_loss: 0.4706 - val_fresh_output_acc: 0.4259 - val_kind_output_acc: 0.9105\n",
      "Epoch 37/50\n",
      "41/41 [==============================] - 86s 2s/step - loss: 0.0019 - fresh_output_loss: 0.0018 - kind_output_loss: 9.4533e-05 - fresh_output_acc: 0.5514 - kind_output_acc: 1.0000 - val_loss: 9.4981 - val_fresh_output_loss: 9.0224 - val_kind_output_loss: 0.4757 - val_fresh_output_acc: 0.4259 - val_kind_output_acc: 0.9136\n",
      "Epoch 38/50\n",
      "41/41 [==============================] - 87s 2s/step - loss: 0.0017 - fresh_output_loss: 0.0016 - kind_output_loss: 8.8399e-05 - fresh_output_acc: 0.5514 - kind_output_acc: 1.0000 - val_loss: 9.7423 - val_fresh_output_loss: 9.2641 - val_kind_output_loss: 0.4783 - val_fresh_output_acc: 0.4259 - val_kind_output_acc: 0.9136\n",
      "Epoch 39/50\n",
      "41/41 [==============================] - 85s 2s/step - loss: 0.0017 - fresh_output_loss: 0.0016 - kind_output_loss: 8.2594e-05 - fresh_output_acc: 0.5514 - kind_output_acc: 1.0000 - val_loss: 9.7838 - val_fresh_output_loss: 9.3013 - val_kind_output_loss: 0.4825 - val_fresh_output_acc: 0.4259 - val_kind_output_acc: 0.9136\n",
      "Epoch 40/50\n",
      "41/41 [==============================] - 85s 2s/step - loss: 0.0016 - fresh_output_loss: 0.0015 - kind_output_loss: 7.8238e-05 - fresh_output_acc: 0.5514 - kind_output_acc: 1.0000 - val_loss: 9.7227 - val_fresh_output_loss: 9.2422 - val_kind_output_loss: 0.4805 - val_fresh_output_acc: 0.4259 - val_kind_output_acc: 0.9136\n",
      "Epoch 41/50\n",
      "41/41 [==============================] - 82s 2s/step - loss: 0.0016 - fresh_output_loss: 0.0016 - kind_output_loss: 7.6107e-05 - fresh_output_acc: 0.5514 - kind_output_acc: 1.0000 - val_loss: 9.9503 - val_fresh_output_loss: 9.4620 - val_kind_output_loss: 0.4883 - val_fresh_output_acc: 0.4259 - val_kind_output_acc: 0.9136\n",
      "Epoch 42/50\n",
      "41/41 [==============================] - 82s 2s/step - loss: 0.0015 - fresh_output_loss: 0.0014 - kind_output_loss: 7.0033e-05 - fresh_output_acc: 0.5514 - kind_output_acc: 1.0000 - val_loss: 9.9792 - val_fresh_output_loss: 9.4989 - val_kind_output_loss: 0.4802 - val_fresh_output_acc: 0.4259 - val_kind_output_acc: 0.9105\n",
      "Epoch 43/50\n",
      "41/41 [==============================] - 86s 2s/step - loss: 0.0014 - fresh_output_loss: 0.0014 - kind_output_loss: 6.7701e-05 - fresh_output_acc: 0.5514 - kind_output_acc: 1.0000 - val_loss: 10.0835 - val_fresh_output_loss: 9.5955 - val_kind_output_loss: 0.4880 - val_fresh_output_acc: 0.4259 - val_kind_output_acc: 0.9136\n",
      "Epoch 44/50\n",
      "41/41 [==============================] - 90s 2s/step - loss: 0.0014 - fresh_output_loss: 0.0013 - kind_output_loss: 6.4079e-05 - fresh_output_acc: 0.5514 - kind_output_acc: 1.0000 - val_loss: 10.0476 - val_fresh_output_loss: 9.5563 - val_kind_output_loss: 0.4913 - val_fresh_output_acc: 0.4259 - val_kind_output_acc: 0.9136\n",
      "Epoch 45/50\n",
      "41/41 [==============================] - 88s 2s/step - loss: 0.0013 - fresh_output_loss: 0.0013 - kind_output_loss: 6.2414e-05 - fresh_output_acc: 0.5514 - kind_output_acc: 1.0000 - val_loss: 10.1262 - val_fresh_output_loss: 9.6344 - val_kind_output_loss: 0.4917 - val_fresh_output_acc: 0.4259 - val_kind_output_acc: 0.9136\n",
      "Epoch 46/50\n",
      "41/41 [==============================] - 86s 2s/step - loss: 0.0014 - fresh_output_loss: 0.0013 - kind_output_loss: 5.9879e-05 - fresh_output_acc: 0.5514 - kind_output_acc: 1.0000 - val_loss: 10.0866 - val_fresh_output_loss: 9.5958 - val_kind_output_loss: 0.4907 - val_fresh_output_acc: 0.4259 - val_kind_output_acc: 0.9136\n",
      "Epoch 47/50\n",
      "41/41 [==============================] - 86s 2s/step - loss: 0.0013 - fresh_output_loss: 0.0012 - kind_output_loss: 5.6750e-05 - fresh_output_acc: 0.5514 - kind_output_acc: 1.0000 - val_loss: 10.2072 - val_fresh_output_loss: 9.7156 - val_kind_output_loss: 0.4916 - val_fresh_output_acc: 0.4259 - val_kind_output_acc: 0.9136\n",
      "Epoch 48/50\n",
      "41/41 [==============================] - 88s 2s/step - loss: 0.0012 - fresh_output_loss: 0.0011 - kind_output_loss: 5.3742e-05 - fresh_output_acc: 0.5514 - kind_output_acc: 1.0000 - val_loss: 10.3777 - val_fresh_output_loss: 9.8743 - val_kind_output_loss: 0.5034 - val_fresh_output_acc: 0.4259 - val_kind_output_acc: 0.9136\n",
      "Epoch 49/50\n",
      "41/41 [==============================] - 90s 2s/step - loss: 0.0011 - fresh_output_loss: 0.0011 - kind_output_loss: 5.1861e-05 - fresh_output_acc: 0.5514 - kind_output_acc: 1.0000 - val_loss: 10.5611 - val_fresh_output_loss: 10.0633 - val_kind_output_loss: 0.4978 - val_fresh_output_acc: 0.4259 - val_kind_output_acc: 0.9136\n",
      "Epoch 50/50\n",
      "41/41 [==============================] - 89s 2s/step - loss: 0.0011 - fresh_output_loss: 0.0011 - kind_output_loss: 4.8939e-05 - fresh_output_acc: 0.5514 - kind_output_acc: 1.0000 - val_loss: 10.5093 - val_fresh_output_loss: 10.0065 - val_kind_output_loss: 0.5028 - val_fresh_output_acc: 0.4259 - val_kind_output_acc: 0.9136\n"
     ]
    }
   ],
   "source": [
    "# resize 사용\n",
    "history = model.fit({'inputs' : np.array(image_prep.img_resize_and_array(x_train))},\n",
    "                    {'fresh_output' : np.array(y_train_fresh),\n",
    "                     'kind_output' : np.array(y_train_kind)},\n",
    "                    validation_data = ({'inputs' : np.array(image_prep.img_resize_and_array(x_val))},\n",
    "                                       {'fresh_output' : np.array(y_val_fresh), 'kind_output' : np.array(y_val_kind)}),\n",
    "                    epochs = epochs,)"
   ]
  },
  {
   "cell_type": "markdown",
   "metadata": {},
   "source": [
    "# Score"
   ]
  },
  {
   "cell_type": "markdown",
   "metadata": {},
   "source": [
    "<center>차수</center>\n",
    "\n",
    "|차수|이미지사이즈|dt_split|epochs|최고모델|fresh_acc|kind_acc|비고|\n",
    "|--|--|--|--|--|--|--|--|\n",
    "|1차|112x112|0.56:0.14:0.3|50|CNN_1|4323|2707|데이터 부족으로 최고, 최저점 차이 큼|\n",
    "|2차|112x112|0.56:0.14:0.3|50|CNN_1|4279|9258|운좋게 데이터셋 잘 분류된 것으로 보임|\n",
    "|3차|112x112|0.8:0.2:0.01|50|CNN_1|4630|3241|데이터 부족으로 최고, 최저점 차이 큼|\n",
    "|4차|112x112|0.8:0.2:0.01|50|CNN_1|4259|9290|운좋게 데이터셋 잘 분류된 것으로 보임|\n",
    "|5차|112x112|0.8:0.2:0.01|50|CNN_1|4259|9321|조금의 성능 상승이 있으나.. 양질 데이터 대량 필요|\n",
    "|6차|256x256|0.8:0.2:0.01|50|CNN_1|4259|9136|3600s|\n",
    "\n",
    "\n",
    "<center>Dense</center>\n",
    "\n",
    "|차수|모델|1층|유닛수|활성화 함수|2층|유닛수|활성화 함수|3층|유닛수|활성화 함수|출력층|활성화 함수|점수|fresh_acc|kind_acc|time(s)|\n",
    "|--|--|--|--|--|--|--|--|--|--|--|--|--|--|--|--|--|\n",
    "|1차|Sequential_2|Dense|(256, 1024)|(relu, relu)|Dense|(128,128)|(relu, relu)|NA|NA|NA|Dense|(sigmoid,sigmoid)|점수|2183|2707|150s|\n",
    "|2차|Sequential_2|Dense|(256, 1024)|(relu, relu)|Dense|(128,128)|(relu, relu)|NA|NA|NA|Dense|(sigmoid,sigmoid)|점수|2183|7686|150s|\n",
    "|3차|Sequential_2|Dense|(256, 1024)|(relu, relu)|Dense|(128,128)|(relu, relu)|NA|NA|NA|Dense|(sigmoid,sigmoid)|점수|1420|2623|150s|\n",
    "|4차|Sequential_2|Dense|(256, 1024)|(relu, relu)|Dense|(128,128)|(relu, relu)|NA|NA|NA|Dense|(sigmoid,sigmoid)|점수|1667|7315|150s|\n",
    "\n",
    "\n",
    "<center>CNN</center>\n",
    "\n",
    "|차수|모델|1층|배치사이즈|활성화 함수|2층|배치사이즈|활성화 함수|3층|배치사이즈|활성화 함수|출력층|활성화 함수|점수|fresh_acc|kind_acc|time(s)|\n",
    "|--|--|--|--|--|--|--|--|--|--|--|--|--|--|--|--|--|\n",
    "|1차|CNN_1|Conv2D|128|relu|MaxPool2D|NA|NA|NA|NA|NA|Dense|(softmax,sigmoid)|점수|4323|2707|150s|\n",
    "|2차|CNN_1|Conv2D|128|relu|MaxPool2D|NA|NA|NA|NA|NA|Dense|(softmax,sigmoid)|점수|4279|9258|150s|\n",
    "|3차|CNN_1|Conv2D|128|relu|MaxPool2D|NA|NA|NA|NA|NA|Dense|(softmax,sigmoid)|점수|4630|3241|210s|\n",
    "|4차|CNN_1|Conv2D|128|relu|MaxPool2D|NA|NA|NA|NA|NA|Dense|(softmax,sigmoid)|점수|4259|9290|210s|\n",
    "|5차|CNN_1|Conv2D|128|relu|MaxPool2D|NA|NA|(Conv2D, Dense)|(64,10)|relu|Dense|(softmax,sigmoid)|점수|4259|9290|210s|\n",
    "|5차|CNN_1|Conv2D|128|relu|MaxPool2D|NA|NA|(Conv2D, Dense)|(64,10)|relu|Dense|(softmax,sigmoid)|점수|4259|9136|3600s|"
   ]
  },
  {
   "cell_type": "markdown",
   "metadata": {
    "id": "ahMKEcQTxTff"
   },
   "source": [
    "# test"
   ]
  },
  {
   "cell_type": "code",
   "execution_count": null,
   "metadata": {},
   "outputs": [],
   "source": []
  }
 ],
 "metadata": {
  "colab": {
   "collapsed_sections": [
    "U3ZVFEHxuQhZ"
   ],
   "provenance": []
  },
  "gpuClass": "standard",
  "kernelspec": {
   "display_name": "Python 3 (ipykernel)",
   "language": "python",
   "name": "python3"
  },
  "language_info": {
   "codemirror_mode": {
    "name": "ipython",
    "version": 3
   },
   "file_extension": ".py",
   "mimetype": "text/x-python",
   "name": "python",
   "nbconvert_exporter": "python",
   "pygments_lexer": "ipython3",
   "version": "3.8.15"
  }
 },
 "nbformat": 4,
 "nbformat_minor": 4
}
