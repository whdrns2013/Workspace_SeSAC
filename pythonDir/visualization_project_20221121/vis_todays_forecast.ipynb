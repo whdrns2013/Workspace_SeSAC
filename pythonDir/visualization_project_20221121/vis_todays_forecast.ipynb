{
 "cells": [
  {
   "cell_type": "markdown",
   "id": "cb4d32cc-4e20-4b5f-b6f8-6d4fa67c0ec2",
   "metadata": {},
   "source": [
    "# 오늘의 날씨\n",
    "\n",
    "(1) 날씨 데이터 : `todays_forecast.xlsx`\n",
    "(2) 아이콘 데이터 : \n"
   ]
  },
  {
   "cell_type": "code",
   "execution_count": 5,
   "id": "56bafab9-cf51-44d6-9d11-af286f28a662",
   "metadata": {},
   "outputs": [
    {
     "data": {
      "text/html": [
       "<div style=\"width:100%;\"><div style=\"position:relative;width:100%;height:0;padding-bottom:60%;\"><span style=\"color:#565656\">Make this Notebook Trusted to load map: File -> Trust Notebook</span><iframe srcdoc=\"&lt;!DOCTYPE html&gt;\n",
       "&lt;html&gt;\n",
       "&lt;head&gt;\n",
       "    \n",
       "    &lt;meta http-equiv=&quot;content-type&quot; content=&quot;text/html; charset=UTF-8&quot; /&gt;\n",
       "    \n",
       "        &lt;script&gt;\n",
       "            L_NO_TOUCH = false;\n",
       "            L_DISABLE_3D = false;\n",
       "        &lt;/script&gt;\n",
       "    \n",
       "    &lt;style&gt;html, body {width: 100%;height: 100%;margin: 0;padding: 0;}&lt;/style&gt;\n",
       "    &lt;style&gt;#map {position:absolute;top:0;bottom:0;right:0;left:0;}&lt;/style&gt;\n",
       "    &lt;script src=&quot;https://cdn.jsdelivr.net/npm/leaflet@1.6.0/dist/leaflet.js&quot;&gt;&lt;/script&gt;\n",
       "    &lt;script src=&quot;https://code.jquery.com/jquery-1.12.4.min.js&quot;&gt;&lt;/script&gt;\n",
       "    &lt;script src=&quot;https://maxcdn.bootstrapcdn.com/bootstrap/3.2.0/js/bootstrap.min.js&quot;&gt;&lt;/script&gt;\n",
       "    &lt;script src=&quot;https://cdnjs.cloudflare.com/ajax/libs/Leaflet.awesome-markers/2.0.2/leaflet.awesome-markers.js&quot;&gt;&lt;/script&gt;\n",
       "    &lt;link rel=&quot;stylesheet&quot; href=&quot;https://cdn.jsdelivr.net/npm/leaflet@1.6.0/dist/leaflet.css&quot;/&gt;\n",
       "    &lt;link rel=&quot;stylesheet&quot; href=&quot;https://maxcdn.bootstrapcdn.com/bootstrap/3.2.0/css/bootstrap.min.css&quot;/&gt;\n",
       "    &lt;link rel=&quot;stylesheet&quot; href=&quot;https://maxcdn.bootstrapcdn.com/bootstrap/3.2.0/css/bootstrap-theme.min.css&quot;/&gt;\n",
       "    &lt;link rel=&quot;stylesheet&quot; href=&quot;https://maxcdn.bootstrapcdn.com/font-awesome/4.6.3/css/font-awesome.min.css&quot;/&gt;\n",
       "    &lt;link rel=&quot;stylesheet&quot; href=&quot;https://cdnjs.cloudflare.com/ajax/libs/Leaflet.awesome-markers/2.0.2/leaflet.awesome-markers.css&quot;/&gt;\n",
       "    &lt;link rel=&quot;stylesheet&quot; href=&quot;https://cdn.jsdelivr.net/gh/python-visualization/folium/folium/templates/leaflet.awesome.rotate.min.css&quot;/&gt;\n",
       "    \n",
       "            &lt;meta name=&quot;viewport&quot; content=&quot;width=device-width,\n",
       "                initial-scale=1.0, maximum-scale=1.0, user-scalable=no&quot; /&gt;\n",
       "            &lt;style&gt;\n",
       "                #map_76333dcc5b81bb699df756827de6600e {\n",
       "                    position: relative;\n",
       "                    width: 100.0%;\n",
       "                    height: 100.0%;\n",
       "                    left: 0.0%;\n",
       "                    top: 0.0%;\n",
       "                }\n",
       "            &lt;/style&gt;\n",
       "        \n",
       "&lt;/head&gt;\n",
       "&lt;body&gt;\n",
       "    \n",
       "    \n",
       "            &lt;div class=&quot;folium-map&quot; id=&quot;map_76333dcc5b81bb699df756827de6600e&quot; &gt;&lt;/div&gt;\n",
       "        \n",
       "&lt;/body&gt;\n",
       "&lt;script&gt;\n",
       "    \n",
       "    \n",
       "            var map_76333dcc5b81bb699df756827de6600e = L.map(\n",
       "                &quot;map_76333dcc5b81bb699df756827de6600e&quot;,\n",
       "                {\n",
       "                    center: [35.815669, 127.7865791],\n",
       "                    crs: L.CRS.EPSG3857,\n",
       "                    zoom: 7,\n",
       "                    zoomControl: true,\n",
       "                    preferCanvas: false,\n",
       "                }\n",
       "            );\n",
       "\n",
       "            \n",
       "\n",
       "        \n",
       "    \n",
       "            var tile_layer_49fce44897a676ac5a099ff45207fb6e = L.tileLayer(\n",
       "                &quot;https://{s}.tile.openstreetmap.org/{z}/{x}/{y}.png&quot;,\n",
       "                {&quot;attribution&quot;: &quot;Data by \\u0026copy; \\u003ca href=\\&quot;http://openstreetmap.org\\&quot;\\u003eOpenStreetMap\\u003c/a\\u003e, under \\u003ca href=\\&quot;http://www.openstreetmap.org/copyright\\&quot;\\u003eODbL\\u003c/a\\u003e.&quot;, &quot;detectRetina&quot;: false, &quot;maxNativeZoom&quot;: 18, &quot;maxZoom&quot;: 18, &quot;minZoom&quot;: 0, &quot;noWrap&quot;: false, &quot;opacity&quot;: 1, &quot;subdomains&quot;: &quot;abc&quot;, &quot;tms&quot;: false}\n",
       "            ).addTo(map_76333dcc5b81bb699df756827de6600e);\n",
       "        \n",
       "&lt;/script&gt;\n",
       "&lt;/html&gt;\" style=\"position:absolute;width:100%;height:100%;left:0;top:0;border:none !important;\" allowfullscreen webkitallowfullscreen mozallowfullscreen></iframe></div></div>"
      ],
      "text/plain": [
       "<folium.folium.Map at 0x29cba6c3910>"
      ]
     },
     "execution_count": 5,
     "metadata": {},
     "output_type": "execute_result"
    }
   ],
   "source": [
    "# 맵 생성, 지역별 구분\n",
    "\n",
    "import folium\n",
    "m = folium.Map([35.815669,127.7865791], zoom_start=7)\n",
    "m"
   ]
  },
  {
   "cell_type": "code",
   "execution_count": null,
   "id": "5dcf2c89-9072-4268-b232-eadf726a11b9",
   "metadata": {},
   "outputs": [],
   "source": [
    "# 일기예보 지역 리스트\n",
    "region = [\n",
    "{\"name\" : \"강릉\", loc : [37.62585944357624,127.01847823823798]},\n",
    "{\"name\" : \"수원\", loc : [37.54248103738589,126.84414659211494]},\n",
    "{\"name\" : \"부산\", loc : [37.5447438346992,126.95223862043447]},\n",
    "{\"name\" : \"안동\", loc : [37.47943673430032,126.98346178441342]},\n",
    "{\"name\" : \"광주\", loc : [37.61432815661055,127.0415039221072]},\n",
    "{\"name\" : \"대구\", loc : [37.570756251987575,127.00235901546226]},\n",
    "{\"name\" : \"대전\", loc : [35.91885025656432,128.55034430109828]},\n",
    "{\"name\" : \"서울\", loc : [37.47627910055104,126.63147671205866]},\n",
    "{\"name\" : \"울산\", loc : [35.14814807640179,126.90555219336346]},\n",
    "{\"name\" : \"인천\", loc : [35.148338888178,126.93203920504686]},\n",
    "{\"name\" : \"광주\", loc : [37.63618838692431,127.21107884503209]},\n",
    "{\"name\" : \"전주\", loc : [37.42889361993242,127.10232604117991]},\n",
    "{\"name\" : \"제주\", loc : [37.418353650942116,127.12640523182601]},\n",
    "{\"name\" : \"예산\", loc : [37.34532813934063,126.73627994929885]},\n",
    "{\"name\" : \"청주\", loc : [37.84401249737699,127.06236893072152]},\n",
    "]\n",
    "\n",
    "\n",
    "# 마커 추가\n",
    "for i in region:\n",
    "    folium.Marker(i.get(\"loc\"), popup=i.get(\"store\"), tooltip=i.get(\"store\")).add_to(m)\n"
   ]
  }
 ],
 "metadata": {
  "kernelspec": {
   "display_name": "Python 3 (ipykernel)",
   "language": "python",
   "name": "python3"
  },
  "language_info": {
   "codemirror_mode": {
    "name": "ipython",
    "version": 3
   },
   "file_extension": ".py",
   "mimetype": "text/x-python",
   "name": "python",
   "nbconvert_exporter": "python",
   "pygments_lexer": "ipython3",
   "version": "3.9.13"
  }
 },
 "nbformat": 4,
 "nbformat_minor": 5
}
