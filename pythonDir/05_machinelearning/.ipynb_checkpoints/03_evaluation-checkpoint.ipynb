{
 "cells": [
  {
   "cell_type": "markdown",
   "id": "49d8c063-091f-4f3b-9b87-89a142e238df",
   "metadata": {},
   "source": [
    "# 숙제\n",
    "MNIST 살펴보기 \n",
    "사용한 함수들 정리  "
   ]
  },
  {
   "cell_type": "markdown",
   "id": "b1158dac-84a9-4fcd-a01d-9c568d9f1923",
   "metadata": {},
   "source": [
    "# 평가"
   ]
  },
  {
   "cell_type": "markdown",
   "id": "b69b7b00-4ca6-456e-b878-f6c02f3c1141",
   "metadata": {},
   "source": [
    "## 정확도 Accuracy  \n",
    "  \n",
    "* 정확도 = `예측 결과가 동일한 데이터 건수 (TP + TN) / 전체 예측 데이터 건수 (TP + FP + TN + FN)`  "
   ]
  },
  {
   "cell_type": "code",
   "execution_count": 11,
   "id": "02976b83-513f-46c4-a419-86480ee111e3",
   "metadata": {},
   "outputs": [],
   "source": [
    "from sklearn.base import BaseEstimator\n",
    "from sklearn.model_selection import train_test_split\n",
    "import pandas as pd\n",
    "from sklearn.metrics import accuracy_score\n",
    "import numpy as np"
   ]
  },
  {
   "cell_type": "code",
   "execution_count": 16,
   "id": "a4b2a124-86f4-4817-9f26-4f90d1e01071",
   "metadata": {},
   "outputs": [],
   "source": [
    "# 예측 모델 -> 남성이면 사망할 것이고, 여성이면 생존할 것이다 라는 예측 모델\n",
    "\n",
    "class MyDummyClassifier(BaseEstimator):\n",
    "    def fit(self, X, y = None):\n",
    "        pass\n",
    "    \n",
    "    def predict(self, X):\n",
    "        pred = np.zeros((X.shape[0], 1))\n",
    "        for i in range(X.shape[0]):\n",
    "            if X['Sex'].iloc[i] == 1: # 성별 남성이면\n",
    "                pred[i] = 0\n",
    "            else:\n",
    "                pred[i] = 1\n",
    "        return pred"
   ]
  },
  {
   "cell_type": "code",
   "execution_count": 17,
   "id": "7e5ae3c4-54d2-4580-98f7-b42aaf083ad6",
   "metadata": {
    "tags": []
   },
   "outputs": [
    {
     "name": "stdout",
     "output_type": "stream",
     "text": [
      "['female' 'male']\n",
      "['A' 'B' 'C' 'D' 'E' 'F' 'G' 'N' 'T']\n",
      "['C' 'N' 'Q' 'S']\n"
     ]
    },
    {
     "data": {
      "text/html": [
       "<div>\n",
       "<style scoped>\n",
       "    .dataframe tbody tr th:only-of-type {\n",
       "        vertical-align: middle;\n",
       "    }\n",
       "\n",
       "    .dataframe tbody tr th {\n",
       "        vertical-align: top;\n",
       "    }\n",
       "\n",
       "    .dataframe thead th {\n",
       "        text-align: right;\n",
       "    }\n",
       "</style>\n",
       "<table border=\"1\" class=\"dataframe\">\n",
       "  <thead>\n",
       "    <tr style=\"text-align: right;\">\n",
       "      <th></th>\n",
       "      <th>Pclass</th>\n",
       "      <th>Sex</th>\n",
       "      <th>Age</th>\n",
       "      <th>SibSp</th>\n",
       "      <th>Parch</th>\n",
       "      <th>Fare</th>\n",
       "      <th>Cabin</th>\n",
       "      <th>Embarked</th>\n",
       "    </tr>\n",
       "  </thead>\n",
       "  <tbody>\n",
       "    <tr>\n",
       "      <th>0</th>\n",
       "      <td>3</td>\n",
       "      <td>1</td>\n",
       "      <td>22.0</td>\n",
       "      <td>1</td>\n",
       "      <td>0</td>\n",
       "      <td>7.2500</td>\n",
       "      <td>7</td>\n",
       "      <td>3</td>\n",
       "    </tr>\n",
       "    <tr>\n",
       "      <th>1</th>\n",
       "      <td>1</td>\n",
       "      <td>0</td>\n",
       "      <td>38.0</td>\n",
       "      <td>1</td>\n",
       "      <td>0</td>\n",
       "      <td>71.2833</td>\n",
       "      <td>2</td>\n",
       "      <td>0</td>\n",
       "    </tr>\n",
       "  </tbody>\n",
       "</table>\n",
       "</div>"
      ],
      "text/plain": [
       "   Pclass  Sex   Age  SibSp  Parch     Fare  Cabin  Embarked\n",
       "0       3    1  22.0      1      0   7.2500      7         3\n",
       "1       1    0  38.0      1      0  71.2833      2         0"
      ]
     },
     "execution_count": 17,
     "metadata": {},
     "output_type": "execute_result"
    }
   ],
   "source": [
    "# 타이타닉 함수 불러왔음\n",
    "\n",
    "def fillna(data):\n",
    "    data['Age'].fillna(data['Age'].mean(), inplace = True)\n",
    "    data['Cabin'].fillna('N', inplace = True)\n",
    "    data['Embarked'].fillna('N', inplace = True)\n",
    "    data['Fare'].fillna(0, inplace = True)\n",
    "    return data\n",
    "def format_features(data):\n",
    "    from sklearn.preprocessing import LabelEncoder\n",
    "    data['Cabin'] = data['Cabin'].str[:1]\n",
    "    features = ['Sex', 'Cabin', 'Embarked']\n",
    "    for feature in features :\n",
    "        le = LabelEncoder()\n",
    "        data[feature] = le.fit_transform(data[feature])\n",
    "        print(le.classes_)\n",
    "    return data\n",
    "\n",
    "def drop_features(data):\n",
    "    data.drop(['PassengerId', 'Name', 'Ticket'], axis=1, inplace=True)\n",
    "    return data\n",
    "\n",
    "def transform_features(data):\n",
    "    data = fillna(data)\n",
    "    data = drop_features(data)\n",
    "    data = format_features(data)\n",
    "    return data\n",
    "\n",
    "data = pd.read_csv('titanic.csv')\n",
    "y = data['Survived']\n",
    "X = data.drop(columns=['Survived'])\n",
    "X = transform_features(X)\n",
    "X_train, X_test, y_train, y_test = train_test_split(X, y, test_size = 0.2, random_state=11)\n",
    "\n",
    "X.head(2)"
   ]
  },
  {
   "cell_type": "code",
   "execution_count": 18,
   "id": "d307e0aa-e85d-4fa4-bd1d-b0986ea7d722",
   "metadata": {},
   "outputs": [
    {
     "data": {
      "text/plain": [
       "0.8324022346368715"
      ]
     },
     "execution_count": 18,
     "metadata": {},
     "output_type": "execute_result"
    }
   ],
   "source": [
    "# 예측 모델 평가\n",
    "# 예측 모델 : 여성이면 살고, 남성이면 죽는다\n",
    "\n",
    "myclf = MyDummyClassifier()\n",
    "myclf.fit(X_train, y_train)\n",
    "pred = myclf.predict(X_test)\n",
    "accuracy_score(y_test, pred)\n",
    "\n",
    "# 평가 결과 : 83%의 정확도"
   ]
  },
  {
   "cell_type": "markdown",
   "id": "5007c178-d139-4898-b3f8-3ef473f476ad",
   "metadata": {},
   "source": [
    "## (숙제) MNIST"
   ]
  },
  {
   "attachments": {
    "357ea982-c6c8-4d62-891f-50a53b22b705.png": {
     "image/png": "[encoded data removed]"
    }
   },
   "cell_type": "markdown",
   "id": "5521006b-8bec-4ffa-a998-09784c25bd11",
   "metadata": {},
   "source": [
    "## 오차 행렬 Confusion Matrix  \n",
    "\n",
    "![image.png](attachment:357ea982-c6c8-4d62-891f-50a53b22b705.png)"
   ]
  },
  {
   "cell_type": "code",
   "execution_count": 19,
   "id": "1e457d36-7d5f-485c-9148-1abff16bdc5b",
   "metadata": {},
   "outputs": [],
   "source": [
    "from sklearn.metrics import confusion_matrix"
   ]
  },
  {
   "cell_type": "code",
   "execution_count": 20,
   "id": "a0815e57-4eca-47c7-95f3-165347ae0ae4",
   "metadata": {},
   "outputs": [
    {
     "data": {
      "text/plain": [
       "array([[103,  15],\n",
       "       [ 15,  46]], dtype=int64)"
      ]
     },
     "execution_count": 20,
     "metadata": {},
     "output_type": "execute_result"
    }
   ],
   "source": [
    "confusion_matrix(y_test, pred)"
   ]
  },
  {
   "cell_type": "markdown",
   "id": "93fad7d5-dabc-48b1-93bd-5795ed591942",
   "metadata": {},
   "source": [
    "## 정밀도와 재현율  \n",
    "  \n",
    "* 정밀도 = TP / (FP + TP) : True라고 예측한 값 중 실제 True 인 값의 비율  \n",
    "* 재현율 = TP / (FN + TP) : 실제 정답이 True 인 값 중 True 인 값의 비율  \n",
    "* 정밀도를 올리면 재현율은 떨어지고, 재현율을 올리면 정밀도는 떨어진다.  \n",
    "-> 두 가지가 균형잡힌 수치가 좋다.  "
   ]
  },
  {
   "cell_type": "code",
   "execution_count": 62,
   "id": "de446db8-09f2-4908-8afa-168e5cd333ed",
   "metadata": {},
   "outputs": [],
   "source": [
    "# 오차행렬, 정확도, 정밀도, 재현율 print 함수 선언\n",
    "\n",
    "def get_clf_eval(y_test, pred):\n",
    "    from sklearn.metrics import accuracy_score\n",
    "    from sklearn.metrics import precision_score\n",
    "    from sklearn.metrics import recall_score\n",
    "    from sklearn.metrics import confusion_matrix\n",
    "    \n",
    "    confusion = confusion_matrix(y_test, pred)\n",
    "    accuracy = accuracy_score(y_test, pred)\n",
    "    precision = precision_score(y_test, pred)\n",
    "    recall = recall_score(y_test, pred)\n",
    "    \n",
    "    print(\"==오차행렬==\")\n",
    "    print(confusion, '\\n')\n",
    "    print(\"==Score==\")\n",
    "    print(f\"정확도 : {accuracy}, 정밀도 : {precision}, 재현율 : {recall}\")\n",
    "    "
   ]
  },
  {
   "cell_type": "code",
   "execution_count": 63,
   "id": "8c33e0b2-4f4d-44c4-bf20-dd642066577b",
   "metadata": {},
   "outputs": [],
   "source": [
    "# 타이타닉 자료 간소화 함수\n",
    "\n",
    "def format_features(data):\n",
    "    from sklearn.preprocessing import LabelEncoder\n",
    "    data['Cabin'] = data['Cabin'].str[:1]\n",
    "    features = ['Sex', 'Cabin', 'Embarked']\n",
    "    for feature in features :\n",
    "        le = LabelEncoder()\n",
    "        data[feature] = le.fit_transform(data[feature])\n",
    "        print(le.classes_)\n",
    "    return data\n",
    "\n",
    "def drop_features(data):\n",
    "    data.drop(['PassengerId', 'Name', 'Ticket'], axis=1, inplace=True)\n",
    "    return data\n",
    "\n",
    "def transform_features(data):\n",
    "    import numpy as np\n",
    "    data = fillna(data)\n",
    "    data = drop_features(data)\n",
    "    data = format_features(data)\n",
    "    return data\n",
    "\n",
    "def fillna(data):\n",
    "    data['Age'].fillna(data['Age'].mean(), inplace = True)\n",
    "    data['Cabin'].fillna('N', inplace = True)\n",
    "    data['Embarked'].fillna('N', inplace = True)\n",
    "    data['Fare'].fillna(0, inplace = True)\n",
    "    return data"
   ]
  },
  {
   "cell_type": "code",
   "execution_count": 70,
   "id": "36cbade1-198c-477d-b906-a58a1fcaa705",
   "metadata": {},
   "outputs": [
    {
     "name": "stdout",
     "output_type": "stream",
     "text": [
      "['female' 'male']\n",
      "['A' 'B' 'C' 'D' 'E' 'F' 'G' 'N' 'T']\n",
      "['C' 'N' 'Q' 'S']\n"
     ]
    }
   ],
   "source": [
    "# 타이타닉 자료 불러오기\n",
    "# 레이블(y)에 Survived (답안 : 생존여부)를 담아주고\n",
    "# x 답안을 제외한 데이터를 학습/훈련 데이터셋으로 넘긴다.\n",
    "\n",
    "import pandas as pd\n",
    "import numpy as np\n",
    "from sklearn.model_selection import train_test_split\n",
    "from sklearn.linear_model import LogisticRegression\n",
    "\n",
    "df = pd.read_csv(\"titanic.csv\")\n",
    "y = df['Survived']\n",
    "X = df.drop(columns=['Survived'])\n",
    "X = transform_features(X)"
   ]
  },
  {
   "cell_type": "code",
   "execution_count": 65,
   "id": "c53d6e14-ab65-47e6-ac4f-e7aec88cd9bc",
   "metadata": {},
   "outputs": [],
   "source": [
    "# 트레이닝 자료, 테스트 자료 나누기\n",
    "\n",
    "X_train, X_test, y_train, y_test = train_test_split(X, y, test_size = 0.2, random_state=11)"
   ]
  },
  {
   "cell_type": "code",
   "execution_count": 66,
   "id": "fe58eac1-c698-419a-b775-24bbb5da2e32",
   "metadata": {},
   "outputs": [
    {
     "name": "stdout",
     "output_type": "stream",
     "text": [
      "==오차행렬==\n",
      "[[108  10]\n",
      " [ 14  47]] \n",
      "\n",
      "==Score==\n",
      "정확도 : 0.8659217877094972, 정밀도 : 0.8245614035087719, 재현율 : 0.7704918032786885\n"
     ]
    }
   ],
   "source": [
    "lr_clf = LogisticRegression(solver='liblinear')\n",
    "lr_clf.fit(X_train, y_train)\n",
    "pred = lr_clf.predict(X_test)\n",
    "get_clf_eval(y_test, pred)"
   ]
  },
  {
   "cell_type": "code",
   "execution_count": 73,
   "id": "fa8d5219-d977-4885-b41a-14fbef69bafe",
   "metadata": {
    "collapsed": true,
    "jupyter": {
     "outputs_hidden": true
    },
    "tags": []
   },
   "outputs": [
    {
     "name": "stdout",
     "output_type": "stream",
     "text": [
      "[1 0 0 0 0 0 0 1 0 1 0 0 0 0 0 0 0 0 0 1 0 0 0 0 0 0 0 0 0 0 1 1 0 1 0 0 0\n",
      " 1 0 0 0 0 1 1 1 1 1 0 1 0 0 0 0 1 0 0 0 0 0 0 0 0 0 0 0 0 1 1 1 0 0 0 0 1\n",
      " 0 0 0 0 1 0 1 1 1 0 1 1 0 0 1 0 0 0 0 0 1 0 1 0 0 1 1 0 1 0 1 0 0 0 0 0 0\n",
      " 0 0 1 0 0 0 0 1 0 0 0 0 0 0 0 0 0 1 0 1 0 1 1 1 0 1 0 0 1 1 0 0 0 0 1 0 0\n",
      " 1 0 0 1 1 0 1 1 0 0 1 1 0 1 0 1 0 1 1 0 0 1 0 1 0 0 0 0 0 0 1]\n",
      "[[0.44935225 0.55064775]\n",
      " [0.86335511 0.13664489]\n",
      " [0.86429643 0.13570357]\n",
      " [0.84968519 0.15031481]\n",
      " [0.82343409 0.17656591]\n",
      " [0.84231224 0.15768776]\n",
      " [0.87095489 0.12904511]\n",
      " [0.27228603 0.72771397]\n",
      " [0.78185128 0.21814872]\n",
      " [0.33185998 0.66814002]\n",
      " [0.86178763 0.13821237]\n",
      " [0.87058097 0.12941903]\n",
      " [0.8642595  0.1357405 ]\n",
      " [0.87065944 0.12934056]\n",
      " [0.56033544 0.43966456]\n",
      " [0.85003022 0.14996978]\n",
      " [0.88954172 0.11045828]\n",
      " [0.74250732 0.25749268]\n",
      " [0.71120224 0.28879776]\n",
      " [0.23776278 0.76223722]\n",
      " [0.75684107 0.24315893]\n",
      " [0.62428169 0.37571831]\n",
      " [0.84655246 0.15344754]\n",
      " [0.82711256 0.17288744]\n",
      " [0.86825628 0.13174372]\n",
      " [0.77003828 0.22996172]\n",
      " [0.82946349 0.17053651]\n",
      " [0.90336131 0.09663869]\n",
      " [0.73372049 0.26627951]\n",
      " [0.68847387 0.31152613]\n",
      " [0.07646869 0.92353131]\n",
      " [0.2253212  0.7746788 ]\n",
      " [0.87161939 0.12838061]\n",
      " [0.24075418 0.75924582]\n",
      " [0.62711731 0.37288269]\n",
      " [0.77003828 0.22996172]\n",
      " [0.90554276 0.09445724]\n",
      " [0.40602574 0.59397426]\n",
      " [0.93043584 0.06956416]\n",
      " [0.8765052  0.1234948 ]\n",
      " [0.69797422 0.30202578]\n",
      " [0.89664595 0.10335405]\n",
      " [0.21993379 0.78006621]\n",
      " [0.31565713 0.68434287]\n",
      " [0.37942228 0.62057772]\n",
      " [0.37932891 0.62067109]\n",
      " [0.07161281 0.92838719]\n",
      " [0.55777586 0.44222414]\n",
      " [0.07914487 0.92085513]\n",
      " [0.86803082 0.13196918]\n",
      " [0.50790057 0.49209943]\n",
      " [0.87065944 0.12934056]\n",
      " [0.85576405 0.14423595]\n",
      " [0.34870129 0.65129871]\n",
      " [0.71558417 0.28441583]\n",
      " [0.78853206 0.21146794]\n",
      " [0.7461921  0.2538079 ]\n",
      " [0.86429    0.13571   ]\n",
      " [0.84079003 0.15920997]\n",
      " [0.59838066 0.40161934]\n",
      " [0.73532081 0.26467919]\n",
      " [0.88705596 0.11294404]\n",
      " [0.545528   0.454472  ]\n",
      " [0.55326343 0.44673657]\n",
      " [0.62583522 0.37416478]\n",
      " [0.88363277 0.11636723]\n",
      " [0.35181256 0.64818744]\n",
      " [0.39903352 0.60096648]\n",
      " [0.08300815 0.91699185]\n",
      " [0.85072522 0.14927478]\n",
      " [0.86778819 0.13221181]\n",
      " [0.83070924 0.16929076]\n",
      " [0.87649042 0.12350958]\n",
      " [0.05959915 0.94040085]\n",
      " [0.78735759 0.21264241]\n",
      " [0.87065944 0.12934056]\n",
      " [0.716541   0.283459  ]\n",
      " [0.79159804 0.20840196]\n",
      " [0.20303098 0.79696902]\n",
      " [0.86429    0.13571   ]\n",
      " [0.2400505  0.7599495 ]\n",
      " [0.37123587 0.62876413]\n",
      " [0.08369626 0.91630374]\n",
      " [0.84018612 0.15981388]\n",
      " [0.07766719 0.92233281]\n",
      " [0.08973248 0.91026752]\n",
      " [0.84723076 0.15276924]\n",
      " [0.8624153  0.1375847 ]\n",
      " [0.16539734 0.83460266]\n",
      " [0.87065944 0.12934056]\n",
      " [0.87065944 0.12934056]\n",
      " [0.77003828 0.22996172]\n",
      " [0.75416744 0.24583256]\n",
      " [0.87065944 0.12934056]\n",
      " [0.37932891 0.62067109]\n",
      " [0.89883889 0.10116111]\n",
      " [0.07361403 0.92638597]\n",
      " [0.87897226 0.12102774]\n",
      " [0.60197825 0.39802175]\n",
      " [0.06738996 0.93261004]\n",
      " [0.47948281 0.52051719]\n",
      " [0.9046927  0.0953073 ]\n",
      " [0.05673721 0.94326279]\n",
      " [0.88180787 0.11819213]\n",
      " [0.45587969 0.54412031]\n",
      " [0.86133437 0.13866563]\n",
      " [0.84974929 0.15025071]\n",
      " [0.85072697 0.14927303]\n",
      " [0.55502751 0.44497249]\n",
      " [0.88426898 0.11573102]\n",
      " [0.84747418 0.15252582]\n",
      " [0.87269562 0.12730438]\n",
      " [0.67538692 0.32461308]\n",
      " [0.48275247 0.51724753]\n",
      " [0.86825628 0.13174372]\n",
      " [0.9159719  0.0840281 ]\n",
      " [0.84194204 0.15805796]\n",
      " [0.78872838 0.21127162]\n",
      " [0.11141754 0.88858246]\n",
      " [0.90534855 0.09465145]\n",
      " [0.87071643 0.12928357]\n",
      " [0.86905438 0.13094562]\n",
      " [0.91525793 0.08474207]\n",
      " [0.58196827 0.41803173]\n",
      " [0.98025012 0.01974988]\n",
      " [0.87071643 0.12928357]\n",
      " [0.87219019 0.12780981]\n",
      " [0.7119464  0.2880536 ]\n",
      " [0.34348899 0.65651101]\n",
      " [0.70226693 0.29773307]\n",
      " [0.06738996 0.93261004]\n",
      " [0.59805546 0.40194454]\n",
      " [0.3288534  0.6711466 ]\n",
      " [0.48644765 0.51355235]\n",
      " [0.42864813 0.57135187]\n",
      " [0.56346572 0.43653428]\n",
      " [0.25853148 0.74146852]\n",
      " [0.77643225 0.22356775]\n",
      " [0.87632447 0.12367553]\n",
      " [0.15009277 0.84990723]\n",
      " [0.13434695 0.86565305]\n",
      " [0.85072697 0.14927303]\n",
      " [0.86772102 0.13227898]\n",
      " [0.89628756 0.10371244]\n",
      " [0.88613339 0.11386661]\n",
      " [0.34797639 0.65202361]\n",
      " [0.89917048 0.10082952]\n",
      " [0.72997342 0.27002658]\n",
      " [0.12221446 0.87778554]\n",
      " [0.8171969  0.1828031 ]\n",
      " [0.61865112 0.38134888]\n",
      " [0.37370305 0.62629695]\n",
      " [0.38348341 0.61651659]\n",
      " [0.86463298 0.13536702]\n",
      " [0.25161298 0.74838702]\n",
      " [0.10388332 0.89611668]\n",
      " [0.57648057 0.42351943]\n",
      " [0.85476848 0.14523152]\n",
      " [0.31415125 0.68584875]\n",
      " [0.33907972 0.66092028]\n",
      " [0.84347719 0.15652281]\n",
      " [0.23261134 0.76738866]\n",
      " [0.88859273 0.11140727]\n",
      " [0.35220567 0.64779433]\n",
      " [0.58554858 0.41445142]\n",
      " [0.36143288 0.63856712]\n",
      " [0.1363406  0.8636594 ]\n",
      " [0.67797005 0.32202995]\n",
      " [0.88600083 0.11399917]\n",
      " [0.13946115 0.86053885]\n",
      " [0.87095489 0.12904511]\n",
      " [0.20616022 0.79383978]\n",
      " [0.76719902 0.23280098]\n",
      " [0.77437244 0.22562756]\n",
      " [0.50324048 0.49675952]\n",
      " [0.91079838 0.08920162]\n",
      " [0.84970738 0.15029262]\n",
      " [0.54874087 0.45125913]\n",
      " [0.48192063 0.51807937]]\n"
     ]
    }
   ],
   "source": [
    "# 테스트값에 대한 결과값을 보자 (0=사망, 1=생존)\n",
    "print(pred)\n",
    "\n",
    "# 생존 확률값을 보여주는 함수 LogisticRegression.predict_proba(데이터)\n",
    "print(lr_clf.predict_proba(X_test))\n",
    "pred_proba = lr_clf.predict_proba(X_test)"
   ]
  },
  {
   "cell_type": "code",
   "execution_count": 75,
   "id": "968f6485-a690-4995-b576-e3ec856ef982",
   "metadata": {
    "collapsed": true,
    "jupyter": {
     "outputs_hidden": true
    },
    "tags": []
   },
   "outputs": [
    {
     "data": {
      "text/plain": [
       "array([[1.        , 0.44935225, 0.55064775],\n",
       "       [0.        , 0.86335511, 0.13664489],\n",
       "       [0.        , 0.86429643, 0.13570357],\n",
       "       [0.        , 0.84968519, 0.15031481],\n",
       "       [0.        , 0.82343409, 0.17656591],\n",
       "       [0.        , 0.84231224, 0.15768776],\n",
       "       [0.        , 0.87095489, 0.12904511],\n",
       "       [1.        , 0.27228603, 0.72771397],\n",
       "       [0.        , 0.78185128, 0.21814872],\n",
       "       [1.        , 0.33185998, 0.66814002],\n",
       "       [0.        , 0.86178763, 0.13821237],\n",
       "       [0.        , 0.87058097, 0.12941903],\n",
       "       [0.        , 0.8642595 , 0.1357405 ],\n",
       "       [0.        , 0.87065944, 0.12934056],\n",
       "       [0.        , 0.56033544, 0.43966456],\n",
       "       [0.        , 0.85003022, 0.14996978],\n",
       "       [0.        , 0.88954172, 0.11045828],\n",
       "       [0.        , 0.74250732, 0.25749268],\n",
       "       [0.        , 0.71120224, 0.28879776],\n",
       "       [1.        , 0.23776278, 0.76223722],\n",
       "       [0.        , 0.75684107, 0.24315893],\n",
       "       [0.        , 0.62428169, 0.37571831],\n",
       "       [0.        , 0.84655246, 0.15344754],\n",
       "       [0.        , 0.82711256, 0.17288744],\n",
       "       [0.        , 0.86825628, 0.13174372],\n",
       "       [0.        , 0.77003828, 0.22996172],\n",
       "       [0.        , 0.82946349, 0.17053651],\n",
       "       [0.        , 0.90336131, 0.09663869],\n",
       "       [0.        , 0.73372049, 0.26627951],\n",
       "       [0.        , 0.68847387, 0.31152613],\n",
       "       [1.        , 0.07646869, 0.92353131],\n",
       "       [1.        , 0.2253212 , 0.7746788 ],\n",
       "       [0.        , 0.87161939, 0.12838061],\n",
       "       [1.        , 0.24075418, 0.75924582],\n",
       "       [0.        , 0.62711731, 0.37288269],\n",
       "       [0.        , 0.77003828, 0.22996172],\n",
       "       [0.        , 0.90554276, 0.09445724],\n",
       "       [1.        , 0.40602574, 0.59397426],\n",
       "       [0.        , 0.93043584, 0.06956416],\n",
       "       [0.        , 0.8765052 , 0.1234948 ],\n",
       "       [0.        , 0.69797422, 0.30202578],\n",
       "       [0.        , 0.89664595, 0.10335405],\n",
       "       [1.        , 0.21993379, 0.78006621],\n",
       "       [1.        , 0.31565713, 0.68434287],\n",
       "       [1.        , 0.37942228, 0.62057772],\n",
       "       [1.        , 0.37932891, 0.62067109],\n",
       "       [1.        , 0.07161281, 0.92838719],\n",
       "       [0.        , 0.55777586, 0.44222414],\n",
       "       [1.        , 0.07914487, 0.92085513],\n",
       "       [0.        , 0.86803082, 0.13196918],\n",
       "       [0.        , 0.50790057, 0.49209943],\n",
       "       [0.        , 0.87065944, 0.12934056],\n",
       "       [0.        , 0.85576405, 0.14423595],\n",
       "       [1.        , 0.34870129, 0.65129871],\n",
       "       [0.        , 0.71558417, 0.28441583],\n",
       "       [0.        , 0.78853206, 0.21146794],\n",
       "       [0.        , 0.7461921 , 0.2538079 ],\n",
       "       [0.        , 0.86429   , 0.13571   ],\n",
       "       [0.        , 0.84079003, 0.15920997],\n",
       "       [0.        , 0.59838066, 0.40161934],\n",
       "       [0.        , 0.73532081, 0.26467919],\n",
       "       [0.        , 0.88705596, 0.11294404],\n",
       "       [0.        , 0.545528  , 0.454472  ],\n",
       "       [0.        , 0.55326343, 0.44673657],\n",
       "       [0.        , 0.62583522, 0.37416478],\n",
       "       [0.        , 0.88363277, 0.11636723],\n",
       "       [1.        , 0.35181256, 0.64818744],\n",
       "       [1.        , 0.39903352, 0.60096648],\n",
       "       [1.        , 0.08300815, 0.91699185],\n",
       "       [0.        , 0.85072522, 0.14927478],\n",
       "       [0.        , 0.86778819, 0.13221181],\n",
       "       [0.        , 0.83070924, 0.16929076],\n",
       "       [0.        , 0.87649042, 0.12350958],\n",
       "       [1.        , 0.05959915, 0.94040085],\n",
       "       [0.        , 0.78735759, 0.21264241],\n",
       "       [0.        , 0.87065944, 0.12934056],\n",
       "       [0.        , 0.716541  , 0.283459  ],\n",
       "       [0.        , 0.79159804, 0.20840196],\n",
       "       [1.        , 0.20303098, 0.79696902],\n",
       "       [0.        , 0.86429   , 0.13571   ],\n",
       "       [1.        , 0.2400505 , 0.7599495 ],\n",
       "       [1.        , 0.37123587, 0.62876413],\n",
       "       [1.        , 0.08369626, 0.91630374],\n",
       "       [0.        , 0.84018612, 0.15981388],\n",
       "       [1.        , 0.07766719, 0.92233281],\n",
       "       [1.        , 0.08973248, 0.91026752],\n",
       "       [0.        , 0.84723076, 0.15276924],\n",
       "       [0.        , 0.8624153 , 0.1375847 ],\n",
       "       [1.        , 0.16539734, 0.83460266],\n",
       "       [0.        , 0.87065944, 0.12934056],\n",
       "       [0.        , 0.87065944, 0.12934056],\n",
       "       [0.        , 0.77003828, 0.22996172],\n",
       "       [0.        , 0.75416744, 0.24583256],\n",
       "       [0.        , 0.87065944, 0.12934056],\n",
       "       [1.        , 0.37932891, 0.62067109],\n",
       "       [0.        , 0.89883889, 0.10116111],\n",
       "       [1.        , 0.07361403, 0.92638597],\n",
       "       [0.        , 0.87897226, 0.12102774],\n",
       "       [0.        , 0.60197825, 0.39802175],\n",
       "       [1.        , 0.06738996, 0.93261004],\n",
       "       [1.        , 0.47948281, 0.52051719],\n",
       "       [0.        , 0.9046927 , 0.0953073 ],\n",
       "       [1.        , 0.05673721, 0.94326279],\n",
       "       [0.        , 0.88180787, 0.11819213],\n",
       "       [1.        , 0.45587969, 0.54412031],\n",
       "       [0.        , 0.86133437, 0.13866563],\n",
       "       [0.        , 0.84974929, 0.15025071],\n",
       "       [0.        , 0.85072697, 0.14927303],\n",
       "       [0.        , 0.55502751, 0.44497249],\n",
       "       [0.        , 0.88426898, 0.11573102],\n",
       "       [0.        , 0.84747418, 0.15252582],\n",
       "       [0.        , 0.87269562, 0.12730438],\n",
       "       [0.        , 0.67538692, 0.32461308],\n",
       "       [1.        , 0.48275247, 0.51724753],\n",
       "       [0.        , 0.86825628, 0.13174372],\n",
       "       [0.        , 0.9159719 , 0.0840281 ],\n",
       "       [0.        , 0.84194204, 0.15805796],\n",
       "       [0.        , 0.78872838, 0.21127162],\n",
       "       [1.        , 0.11141754, 0.88858246],\n",
       "       [0.        , 0.90534855, 0.09465145],\n",
       "       [0.        , 0.87071643, 0.12928357],\n",
       "       [0.        , 0.86905438, 0.13094562],\n",
       "       [0.        , 0.91525793, 0.08474207],\n",
       "       [0.        , 0.58196827, 0.41803173],\n",
       "       [0.        , 0.98025012, 0.01974988],\n",
       "       [0.        , 0.87071643, 0.12928357],\n",
       "       [0.        , 0.87219019, 0.12780981],\n",
       "       [0.        , 0.7119464 , 0.2880536 ],\n",
       "       [1.        , 0.34348899, 0.65651101],\n",
       "       [0.        , 0.70226693, 0.29773307],\n",
       "       [1.        , 0.06738996, 0.93261004],\n",
       "       [0.        , 0.59805546, 0.40194454],\n",
       "       [1.        , 0.3288534 , 0.6711466 ],\n",
       "       [1.        , 0.48644765, 0.51355235],\n",
       "       [1.        , 0.42864813, 0.57135187],\n",
       "       [0.        , 0.56346572, 0.43653428],\n",
       "       [1.        , 0.25853148, 0.74146852],\n",
       "       [0.        , 0.77643225, 0.22356775],\n",
       "       [0.        , 0.87632447, 0.12367553],\n",
       "       [1.        , 0.15009277, 0.84990723],\n",
       "       [1.        , 0.13434695, 0.86565305],\n",
       "       [0.        , 0.85072697, 0.14927303],\n",
       "       [0.        , 0.86772102, 0.13227898],\n",
       "       [0.        , 0.89628756, 0.10371244],\n",
       "       [0.        , 0.88613339, 0.11386661],\n",
       "       [1.        , 0.34797639, 0.65202361],\n",
       "       [0.        , 0.89917048, 0.10082952],\n",
       "       [0.        , 0.72997342, 0.27002658],\n",
       "       [1.        , 0.12221446, 0.87778554],\n",
       "       [0.        , 0.8171969 , 0.1828031 ],\n",
       "       [0.        , 0.61865112, 0.38134888],\n",
       "       [1.        , 0.37370305, 0.62629695],\n",
       "       [1.        , 0.38348341, 0.61651659],\n",
       "       [0.        , 0.86463298, 0.13536702],\n",
       "       [1.        , 0.25161298, 0.74838702],\n",
       "       [1.        , 0.10388332, 0.89611668],\n",
       "       [0.        , 0.57648057, 0.42351943],\n",
       "       [0.        , 0.85476848, 0.14523152],\n",
       "       [1.        , 0.31415125, 0.68584875],\n",
       "       [1.        , 0.33907972, 0.66092028],\n",
       "       [0.        , 0.84347719, 0.15652281],\n",
       "       [1.        , 0.23261134, 0.76738866],\n",
       "       [0.        , 0.88859273, 0.11140727],\n",
       "       [1.        , 0.35220567, 0.64779433],\n",
       "       [0.        , 0.58554858, 0.41445142],\n",
       "       [1.        , 0.36143288, 0.63856712],\n",
       "       [1.        , 0.1363406 , 0.8636594 ],\n",
       "       [0.        , 0.67797005, 0.32202995],\n",
       "       [0.        , 0.88600083, 0.11399917],\n",
       "       [1.        , 0.13946115, 0.86053885],\n",
       "       [0.        , 0.87095489, 0.12904511],\n",
       "       [1.        , 0.20616022, 0.79383978],\n",
       "       [0.        , 0.76719902, 0.23280098],\n",
       "       [0.        , 0.77437244, 0.22562756],\n",
       "       [0.        , 0.50324048, 0.49675952],\n",
       "       [0.        , 0.91079838, 0.08920162],\n",
       "       [0.        , 0.84970738, 0.15029262],\n",
       "       [0.        , 0.54874087, 0.45125913],\n",
       "       [1.        , 0.48192063, 0.51807937]])"
      ]
     },
     "execution_count": 75,
     "metadata": {},
     "output_type": "execute_result"
    }
   ],
   "source": [
    "# 데이터 통합해서 생존 확률값과 실제 반환값(생존 1,0)을 보자\n",
    "ttl = np.concatenate([pred.reshape(-1,1), pred_proba], axis=1)\n",
    "ttl"
   ]
  },
  {
   "cell_type": "markdown",
   "id": "01a93604-a58d-44ef-b47a-e641f4b2ed2a",
   "metadata": {},
   "source": [
    "## 임계값 (Threshold)  \n",
    "\n",
    "* threshold 값 이하는 0ㅇ로  \n",
    "* threshold 값 초과는 1로 반환되게끔 하는 설정값  "
   ]
  },
  {
   "cell_type": "code",
   "execution_count": 78,
   "id": "4e3bfd15-5cf5-41fe-8e9a-c4c06ee2d194",
   "metadata": {},
   "outputs": [],
   "source": [
    "from sklearn.preprocessing import Binarizer"
   ]
  },
  {
   "cell_type": "markdown",
   "id": "6a92cf11-d317-4d7c-b769-0c21a5afd602",
   "metadata": {},
   "source": [
    "### 임계값 간단 예시"
   ]
  },
  {
   "cell_type": "code",
   "execution_count": 82,
   "id": "347b6436-7fe7-4261-91e9-c369e58ae885",
   "metadata": {},
   "outputs": [],
   "source": [
    "# 간단한 데이터셋 만들기\n",
    "X = [[1, -1, 2],\n",
    "     [2, 0, 0],\n",
    "     [0, 1.1, 1.2]]"
   ]
  },
  {
   "cell_type": "code",
   "execution_count": 83,
   "id": "924bf525-89e6-4aac-b386-c53d9a565e03",
   "metadata": {},
   "outputs": [],
   "source": [
    "# binarizer 선언\n",
    "# threshold는 1.1 로 선언했다.\n",
    "binarizer = Binarizer(threshold=1.1)\n",
    "\n",
    "# threshold의 값 = 1.1\n",
    "# 1.1 이하는 0으로\n",
    "# 1.1 초과는 1로 표기가 된다.\n"
   ]
  },
  {
   "cell_type": "code",
   "execution_count": 84,
   "id": "eb379bc2-3290-41d6-b13b-6bd44d1368d5",
   "metadata": {},
   "outputs": [
    {
     "data": {
      "text/plain": [
       "array([[0., 0., 1.],\n",
       "       [1., 0., 0.],\n",
       "       [0., 0., 1.]])"
      ]
     },
     "execution_count": 84,
     "metadata": {},
     "output_type": "execute_result"
    }
   ],
   "source": [
    "# X를 스레숄드를 적용해서 반환해보면?\n",
    "binarizer.fit_transform(X)"
   ]
  },
  {
   "cell_type": "markdown",
   "id": "556f05a3-fe7c-408e-92a9-dce3886da224",
   "metadata": {},
   "source": [
    "### 임계값 -> 타이타닉에 적용"
   ]
  },
  {
   "cell_type": "code",
   "execution_count": 93,
   "id": "9b9af11a-d046-45d3-91ef-04eb420c55d1",
   "metadata": {},
   "outputs": [],
   "source": [
    "from sklearn.preprocessing import Binarizer\n",
    "\n",
    "# 스레숄드 선언\n",
    "custom_threshold = 0.5\n",
    "binarizer = Binarizer(threshold = custom_threshold)\n",
    "\n",
    "# 타이타닉 생존률 값 가져오기\n",
    "pred_proba1 = pred_proba[:,1].reshape(-1,1)\n",
    "custom_predict = binarizer.fit_transform(pred_proba1)"
   ]
  },
  {
   "cell_type": "code",
   "execution_count": 94,
   "id": "3e83fde5-618b-40cc-b638-431459555b8b",
   "metadata": {},
   "outputs": [
    {
     "name": "stdout",
     "output_type": "stream",
     "text": [
      "==오차행렬==\n",
      "[[108  10]\n",
      " [ 14  47]] \n",
      "\n",
      "==Score==\n",
      "정확도 : 0.8659217877094972, 정밀도 : 0.8245614035087719, 재현율 : 0.7704918032786885\n"
     ]
    }
   ],
   "source": [
    "# 오차행렬, 정확도, 정밀도, 재현율 가져오기 (임계값 = 0.5)\n",
    "custom_threshold = 0.5\n",
    "binarizer = Binarizer(threshold = custom_threshold)\n",
    "custom_predict = binarizer.fit_transform(pred_proba1)\n",
    "\n",
    "get_clf_eval(y_test, custom_predict)"
   ]
  },
  {
   "cell_type": "code",
   "execution_count": 95,
   "id": "6b0020ce-5bae-4110-ba8e-d9db23d04ff0",
   "metadata": {},
   "outputs": [
    {
     "name": "stdout",
     "output_type": "stream",
     "text": [
      "==오차행렬==\n",
      "[[97 21]\n",
      " [11 50]] \n",
      "\n",
      "==Score==\n",
      "정확도 : 0.8212290502793296, 정밀도 : 0.704225352112676, 재현율 : 0.819672131147541\n"
     ]
    }
   ],
   "source": [
    "# 오차행렬, 정확도, 정밀도, 재현율 가져오기 (임계값 = 0.4)\n",
    "# 정확도 떨어지고, 정밀도 떨어지고, 재현율 올라감\n",
    "custom_threshold = 0.4\n",
    "binarizer = Binarizer(threshold = custom_threshold)\n",
    "custom_predict = binarizer.fit_transform(pred_proba1)\n",
    "\n",
    "print(f\"TN : {confusion[0][1]} TP : {confusion[2][2]} FP : {confusion[1][2]} FN : {confusion[1][2]}\n",
    "\n",
    "get_clf_eval(y_test, custom_predict)"
   ]
  },
  {
   "cell_type": "code",
   "execution_count": 96,
   "id": "465b7087-8506-48b5-a5ef-281e88fae2b5",
   "metadata": {},
   "outputs": [
    {
     "name": "stdout",
     "output_type": "stream",
     "text": [
      "==오차행렬==\n",
      "[[113   5]\n",
      " [ 17  44]] \n",
      "\n",
      "==Score==\n",
      "정확도 : 0.8770949720670391, 정밀도 : 0.8979591836734694, 재현율 : 0.7213114754098361\n"
     ]
    }
   ],
   "source": [
    "# 오차행렬, 정확도, 정밀도, 재현율 가져오기 (임계값 = 0.6)\n",
    "# 정확도 올라가고, 정밀도 올라가고, 재현율 떨어지고\n",
    "custom_threshold = 0.6\n",
    "binarizer = Binarizer(threshold = custom_threshold)\n",
    "custom_predict = binarizer.fit_transform(pred_proba1)\n",
    "\n",
    "get_clf_eval(y_test, custom_predict)"
   ]
  },
  {
   "cell_type": "markdown",
   "id": "67883fd3-2197-4faa-9df9-4ea668861430",
   "metadata": {},
   "source": [
    "### 여러 임계값일 때의 평가값 반환해보기 (for문 이용)"
   ]
  },
  {
   "cell_type": "code",
   "execution_count": 100,
   "id": "8b2cea05-9b3e-47d7-8c9e-76cca3c0a392",
   "metadata": {
    "collapsed": true,
    "jupyter": {
     "outputs_hidden": true
    },
    "tags": []
   },
   "outputs": [
    {
     "name": "stdout",
     "output_type": "stream",
     "text": [
      "==오차행렬==\n",
      "[[97 21]\n",
      " [11 50]] \n",
      "\n",
      "==Score==\n",
      "정확도 : 0.8212290502793296, 정밀도 : 0.704225352112676, 재현율 : 0.819672131147541\n",
      "==오차행렬==\n",
      "[[105  13]\n",
      " [ 13  48]] \n",
      "\n",
      "==Score==\n",
      "정확도 : 0.8547486033519553, 정밀도 : 0.7868852459016393, 재현율 : 0.7868852459016393\n",
      "==오차행렬==\n",
      "[[108  10]\n",
      " [ 14  47]] \n",
      "\n",
      "==Score==\n",
      "정확도 : 0.8659217877094972, 정밀도 : 0.8245614035087719, 재현율 : 0.7704918032786885\n",
      "==오차행렬==\n",
      "[[111   7]\n",
      " [ 16  45]] \n",
      "\n",
      "==Score==\n",
      "정확도 : 0.8715083798882681, 정밀도 : 0.8653846153846154, 재현율 : 0.7377049180327869\n",
      "==오차행렬==\n",
      "[[113   5]\n",
      " [ 17  44]] \n",
      "\n",
      "==Score==\n",
      "정확도 : 0.8770949720670391, 정밀도 : 0.8979591836734694, 재현율 : 0.7213114754098361\n"
     ]
    }
   ],
   "source": [
    "thresholds = [0.4, 0.45, 0.5, 0.55, 0.6]\n",
    "\n",
    "def get_eval_by_threshold (y_test, pred_proba1, thresholds):\n",
    "    for custom_threshold in thresholds:\n",
    "        binarizer = Binarizer(threshold = custom_threshold)\n",
    "        custom_predict = binarizer.fit_transform(pred_proba1)\n",
    "        get_clf_eval(y_test, custom_predict)\n",
    "        \n",
    "        \n",
    "get_eval_by_threshold(y_test, pred_proba1, thresholds)"
   ]
  },
  {
   "cell_type": "markdown",
   "id": "5dd762f7-cdc9-4aa5-a139-a170d1943804",
   "metadata": {},
   "source": [
    "### ㅇㅇㅇ"
   ]
  },
  {
   "cell_type": "code",
   "execution_count": 106,
   "id": "b9ffd1e6-174a-4242-aa21-4de36fe3812d",
   "metadata": {},
   "outputs": [],
   "source": [
    "from sklearn.metrics import precision_recall_curve"
   ]
  },
  {
   "cell_type": "code",
   "execution_count": 112,
   "id": "ec30d86a-f315-4ecc-b380-1e49e3a4d914",
   "metadata": {
    "collapsed": true,
    "jupyter": {
     "outputs_hidden": true
    },
    "tags": []
   },
   "outputs": [
    {
     "name": "stdout",
     "output_type": "stream",
     "text": [
      "(array([0.37888199, 0.375     , 0.37735849, 0.37974684, 0.38216561,\n",
      "       0.37820513, 0.38064516, 0.38311688, 0.38562092, 0.38815789,\n",
      "       0.39072848, 0.39597315, 0.40136054, 0.41843972, 0.42142857,\n",
      "       0.42446043, 0.43065693, 0.43382353, 0.43703704, 0.44029851,\n",
      "       0.44360902, 0.4469697 , 0.44615385, 0.4496124 , 0.4453125 ,\n",
      "       0.44094488, 0.44444444, 0.44      , 0.44354839, 0.44715447,\n",
      "       0.45454545, 0.45833333, 0.46218487, 0.46610169, 0.47008547,\n",
      "       0.47413793, 0.47826087, 0.48245614, 0.48672566, 0.49107143,\n",
      "       0.4954955 , 0.5       , 0.50458716, 0.50925926, 0.51401869,\n",
      "       0.51886792, 0.52380952, 0.52884615, 0.53398058, 0.53921569,\n",
      "       0.54455446, 0.55      , 0.55555556, 0.56122449, 0.56701031,\n",
      "       0.57291667, 0.59139785, 0.59782609, 0.6043956 , 0.61111111,\n",
      "       0.61797753, 0.625     , 0.63218391, 0.63953488, 0.64705882,\n",
      "       0.64285714, 0.65060241, 0.65853659, 0.66666667, 0.675     ,\n",
      "       0.6835443 , 0.69230769, 0.68831169, 0.68421053, 0.68      ,\n",
      "       0.67567568, 0.68493151, 0.69444444, 0.70422535, 0.71428571,\n",
      "       0.71014493, 0.72058824, 0.73134328, 0.74242424, 0.75384615,\n",
      "       0.765625  , 0.76190476, 0.77419355, 0.78688525, 0.8       ,\n",
      "       0.79661017, 0.81034483, 0.8245614 , 0.83928571, 0.83636364,\n",
      "       0.83333333, 0.8490566 , 0.86538462, 0.8627451 , 0.88      ,\n",
      "       0.89795918, 0.89583333, 0.91489362, 0.93478261, 0.93181818,\n",
      "       0.93023256, 0.92857143, 0.95121951, 0.95      , 0.94871795,\n",
      "       0.94736842, 0.94594595, 0.94444444, 0.94285714, 0.94117647,\n",
      "       0.93939394, 0.9375    , 0.96774194, 0.96666667, 0.96551724,\n",
      "       0.96428571, 0.96296296, 0.96153846, 0.96      , 0.95833333,\n",
      "       0.95652174, 0.95454545, 0.95238095, 0.95      , 0.94736842,\n",
      "       0.94444444, 0.94117647, 0.9375    , 1.        , 1.        ,\n",
      "       1.        , 1.        , 1.        , 1.        , 1.        ,\n",
      "       1.        , 1.        , 1.        , 1.        , 1.        ,\n",
      "       1.        , 1.        , 1.        ]), array([1.        , 0.98360656, 0.98360656, 0.98360656, 0.98360656,\n",
      "       0.96721311, 0.96721311, 0.96721311, 0.96721311, 0.96721311,\n",
      "       0.96721311, 0.96721311, 0.96721311, 0.96721311, 0.96721311,\n",
      "       0.96721311, 0.96721311, 0.96721311, 0.96721311, 0.96721311,\n",
      "       0.96721311, 0.96721311, 0.95081967, 0.95081967, 0.93442623,\n",
      "       0.91803279, 0.91803279, 0.90163934, 0.90163934, 0.90163934,\n",
      "       0.90163934, 0.90163934, 0.90163934, 0.90163934, 0.90163934,\n",
      "       0.90163934, 0.90163934, 0.90163934, 0.90163934, 0.90163934,\n",
      "       0.90163934, 0.90163934, 0.90163934, 0.90163934, 0.90163934,\n",
      "       0.90163934, 0.90163934, 0.90163934, 0.90163934, 0.90163934,\n",
      "       0.90163934, 0.90163934, 0.90163934, 0.90163934, 0.90163934,\n",
      "       0.90163934, 0.90163934, 0.90163934, 0.90163934, 0.90163934,\n",
      "       0.90163934, 0.90163934, 0.90163934, 0.90163934, 0.90163934,\n",
      "       0.8852459 , 0.8852459 , 0.8852459 , 0.8852459 , 0.8852459 ,\n",
      "       0.8852459 , 0.8852459 , 0.86885246, 0.85245902, 0.83606557,\n",
      "       0.81967213, 0.81967213, 0.81967213, 0.81967213, 0.81967213,\n",
      "       0.80327869, 0.80327869, 0.80327869, 0.80327869, 0.80327869,\n",
      "       0.80327869, 0.78688525, 0.78688525, 0.78688525, 0.78688525,\n",
      "       0.7704918 , 0.7704918 , 0.7704918 , 0.7704918 , 0.75409836,\n",
      "       0.73770492, 0.73770492, 0.73770492, 0.72131148, 0.72131148,\n",
      "       0.72131148, 0.70491803, 0.70491803, 0.70491803, 0.67213115,\n",
      "       0.6557377 , 0.63934426, 0.63934426, 0.62295082, 0.60655738,\n",
      "       0.59016393, 0.57377049, 0.55737705, 0.54098361, 0.52459016,\n",
      "       0.50819672, 0.49180328, 0.49180328, 0.47540984, 0.45901639,\n",
      "       0.44262295, 0.42622951, 0.40983607, 0.39344262, 0.37704918,\n",
      "       0.36065574, 0.3442623 , 0.32786885, 0.31147541, 0.29508197,\n",
      "       0.27868852, 0.26229508, 0.24590164, 0.24590164, 0.2295082 ,\n",
      "       0.21311475, 0.19672131, 0.18032787, 0.16393443, 0.14754098,\n",
      "       0.13114754, 0.1147541 , 0.09836066, 0.08196721, 0.06557377,\n",
      "       0.03278689, 0.01639344, 0.        ]), array([0.11573102, 0.11636723, 0.11819213, 0.12102774, 0.1234948 ,\n",
      "       0.12350958, 0.12367553, 0.12730438, 0.12780981, 0.12838061,\n",
      "       0.12904511, 0.12928357, 0.12934056, 0.12941903, 0.13094562,\n",
      "       0.13174372, 0.13196918, 0.13221181, 0.13227898, 0.13536702,\n",
      "       0.13570357, 0.13571   , 0.1357405 , 0.13664489, 0.1375847 ,\n",
      "       0.13821237, 0.13866563, 0.14423595, 0.14523152, 0.14927303,\n",
      "       0.14927478, 0.14996978, 0.15025071, 0.15029262, 0.15031481,\n",
      "       0.15252582, 0.15276924, 0.15344754, 0.15652281, 0.15768776,\n",
      "       0.15805796, 0.15920997, 0.15981388, 0.16929076, 0.17053651,\n",
      "       0.17288744, 0.17656591, 0.1828031 , 0.20840196, 0.21127162,\n",
      "       0.21146794, 0.21264241, 0.21814872, 0.22356775, 0.22562756,\n",
      "       0.22996172, 0.23280098, 0.24315893, 0.24583256, 0.2538079 ,\n",
      "       0.25749268, 0.26467919, 0.26627951, 0.27002658, 0.283459  ,\n",
      "       0.28441583, 0.2880536 , 0.28879776, 0.29773307, 0.30202578,\n",
      "       0.31152613, 0.32202995, 0.32461308, 0.37288269, 0.37416478,\n",
      "       0.37571831, 0.38134888, 0.39802175, 0.40161934, 0.40194454,\n",
      "       0.41445142, 0.41803173, 0.42351943, 0.43653428, 0.43966456,\n",
      "       0.44222414, 0.44497249, 0.44673657, 0.45125913, 0.454472  ,\n",
      "       0.49209943, 0.49675952, 0.51355235, 0.51724753, 0.51807937,\n",
      "       0.52051719, 0.54412031, 0.55064775, 0.57135187, 0.59397426,\n",
      "       0.60096648, 0.61651659, 0.62057772, 0.62067109, 0.62629695,\n",
      "       0.62876413, 0.63856712, 0.64779433, 0.64818744, 0.65129871,\n",
      "       0.65202361, 0.65651101, 0.66092028, 0.66814002, 0.6711466 ,\n",
      "       0.68434287, 0.68584875, 0.72771397, 0.74146852, 0.74838702,\n",
      "       0.75924582, 0.7599495 , 0.76223722, 0.76738866, 0.7746788 ,\n",
      "       0.78006621, 0.79383978, 0.79696902, 0.83460266, 0.84990723,\n",
      "       0.86053885, 0.8636594 , 0.86565305, 0.87778554, 0.88858246,\n",
      "       0.89611668, 0.91026752, 0.91630374, 0.91699185, 0.92085513,\n",
      "       0.92233281, 0.92353131, 0.92638597, 0.92838719, 0.93261004,\n",
      "       0.94040085, 0.94326279]))\n"
     ]
    }
   ],
   "source": [
    "# precision recall curve 만들기\n",
    "print(precision_recall_curve(y_test, pred_proba1))\n",
    "\n",
    "# recall curve의 각각의 대상을 변수에 담기\n",
    "precisions, recalls, thresholds = precision_recall_curve(y_test, pred_proba1)"
   ]
  },
  {
   "cell_type": "code",
   "execution_count": 113,
   "id": "1ab13bbf-128c-4a5a-b0db-f04ae599508f",
   "metadata": {},
   "outputs": [
    {
     "data": {
      "text/plain": [
       "((148,), (148,), (147,))"
      ]
     },
     "execution_count": 113,
     "metadata": {},
     "output_type": "execute_result"
    }
   ],
   "source": [
    "# 각각의 변수들 크기 보기\n",
    "precisions.shape, recalls.shape, thresholds.shape"
   ]
  },
  {
   "cell_type": "code",
   "execution_count": 116,
   "id": "452c3d01-5071-4c35-8cb2-55bdbc0f8b66",
   "metadata": {},
   "outputs": [],
   "source": [
    "# 스레숄드 갯수를 15개로 나누기 (연속값을 -> 15단위로 잘라서 표로 보기 위한 준비)\n",
    "thr_index = np.arange(0,thresholds.shape[0], 15)\n",
    "thr_index"
   ]
  },
  {
   "cell_type": "code",
   "execution_count": 129,
   "id": "efe46582-eb6a-4f77-abe5-ed752a0e4714",
   "metadata": {},
   "outputs": [
    {
     "data": {
      "text/html": [
       "<div>\n",
       "<style scoped>\n",
       "    .dataframe tbody tr th:only-of-type {\n",
       "        vertical-align: middle;\n",
       "    }\n",
       "\n",
       "    .dataframe tbody tr th {\n",
       "        vertical-align: top;\n",
       "    }\n",
       "\n",
       "    .dataframe thead tr th {\n",
       "        text-align: left;\n",
       "    }\n",
       "</style>\n",
       "<table border=\"1\" class=\"dataframe\">\n",
       "  <thead>\n",
       "    <tr>\n",
       "      <th></th>\n",
       "      <th>0</th>\n",
       "      <th>15</th>\n",
       "      <th>30</th>\n",
       "      <th>45</th>\n",
       "      <th>60</th>\n",
       "      <th>75</th>\n",
       "      <th>90</th>\n",
       "      <th>105</th>\n",
       "      <th>120</th>\n",
       "      <th>135</th>\n",
       "    </tr>\n",
       "    <tr>\n",
       "      <th></th>\n",
       "      <th>0.379</th>\n",
       "      <th>0.424</th>\n",
       "      <th>0.455</th>\n",
       "      <th>0.519</th>\n",
       "      <th>0.618</th>\n",
       "      <th>0.676</th>\n",
       "      <th>0.797</th>\n",
       "      <th>0.930</th>\n",
       "      <th>0.964</th>\n",
       "      <th>1.000</th>\n",
       "    </tr>\n",
       "    <tr>\n",
       "      <th></th>\n",
       "      <th>1.000</th>\n",
       "      <th>0.967</th>\n",
       "      <th>0.902</th>\n",
       "      <th>0.902</th>\n",
       "      <th>0.902</th>\n",
       "      <th>0.820</th>\n",
       "      <th>0.770</th>\n",
       "      <th>0.656</th>\n",
       "      <th>0.443</th>\n",
       "      <th>0.213</th>\n",
       "    </tr>\n",
       "  </thead>\n",
       "  <tbody>\n",
       "  </tbody>\n",
       "</table>\n",
       "</div>"
      ],
      "text/plain": [
       "Empty DataFrame\n",
       "Columns: [(0, 0.379, 1.0), (15, 0.424, 0.967), (30, 0.455, 0.902), (45, 0.519, 0.902), (60, 0.618, 0.902), (75, 0.676, 0.82), (90, 0.797, 0.77), (105, 0.93, 0.656), (120, 0.964, 0.443), (135, 1.0, 0.213)]\n",
       "Index: []"
      ]
     },
     "execution_count": 129,
     "metadata": {},
     "output_type": "execute_result"
    }
   ],
   "source": [
    "# 스레숄드 인덱스에 해당하는 값들 불러와 DF로 살펴보자\n",
    "\n",
    "# 인덱스\n",
    "thr_index = np.arange(0,thresholds.shape[0], 15)\n",
    "\n",
    "# precision 정밀도 ( 소수점 3자리까지 )\n",
    "np.round(precisions[thr_index], 3)\n",
    "\n",
    "# recall 재현율 ( 소수점 3자리까지 )\n",
    "np.round(recalls[thr_index], 3)\n",
    "\n",
    "# DF 만들기\n",
    "df = pd.DataFrame([thr_index, np.round(precisions[thr_index], 3), np.round(recalls[thr_index], 3)])\n",
    "df"
   ]
  },
  {
   "cell_type": "code",
   "execution_count": 145,
   "id": "8ec0dc37-7805-4972-99a6-941f68165f50",
   "metadata": {},
   "outputs": [
    {
     "data": {
      "text/plain": [
       "<function matplotlib.pyplot.figure(num=None, figsize=None, dpi=None, facecolor=None, edgecolor=None, frameon=True, FigureClass=<class 'matplotlib.figure.Figure'>, clear=False, **kwargs)>"
      ]
     },
     "execution_count": 145,
     "metadata": {},
     "output_type": "execute_result"
    }
   ],
   "source": [
    "import matplotlib.pyplot as plt"
   ]
  },
  {
   "cell_type": "code",
   "execution_count": 146,
   "id": "d983ef9b-cafa-408d-b490-d4b4ceb803a2",
   "metadata": {},
   "outputs": [],
   "source": [
    "# precision_recall_curve_plot 생성하는 함수 만들기\n",
    "\n",
    "def precision_recall_curve_plot (y_test, pred_proba1):\n",
    "    import matplotlib.pyplot as plt\n",
    "    from sklearn.metrics import precision_recall_curve\n",
    "    precisions, recalls, thresholds = precision_recall_curve(y_test,pred_proba1)\n",
    "    plt.figure(figsize=(8,6))\n",
    "    threshold_boundary = thresholds.shape[0]\n",
    "    plt.plot(thresholds, precisions[0:threshold_boundary], linestyle='--', label = 'precision')\n",
    "    plt.plot(thresholds, recalls[0:threshold_boundary], label = 'recall')\n",
    "    start, end = plt.xlim()\n",
    "    plt.xticks(np.round(np.arange(start, end, 0.1) ,2))\n",
    "    plt.xlabel('임계값')\n",
    "    plt.ylabel('정밀도와 재현율')\n",
    "    plt.legend()\n",
    "    plt.grid()\n",
    "    plt.show()\n"
   ]
  },
  {
   "cell_type": "code",
   "execution_count": 147,
   "id": "ac9dfdcb-0cd6-4fe5-ab28-e838f8d81b13",
   "metadata": {},
   "outputs": [
    {
     "data": {
      "image/png": "[encoded data removed]",
      "text/plain": [
       "<Figure size 800x600 with 1 Axes>"
      ]
     },
     "metadata": {},
     "output_type": "display_data"
    }
   ],
   "source": [
    "precision_recall_curve_plot(y_test, pred_proba1)\n"
   ]
  },
  {
   "cell_type": "code",
   "execution_count": null,
   "id": "9c3e8eea-a1a5-4f2d-8542-e299b6ca4740",
   "metadata": {},
   "outputs": [],
   "source": []
  }
 ],
 "metadata": {
  "kernelspec": {
   "display_name": "Python 3 (ipykernel)",
   "language": "python",
   "name": "python3"
  },
  "language_info": {
   "codemirror_mode": {
    "name": "ipython",
    "version": 3
   },
   "file_extension": ".py",
   "mimetype": "text/x-python",
   "name": "python",
   "nbconvert_exporter": "python",
   "pygments_lexer": "ipython3",
   "version": "3.9.13"
  }
 },
 "nbformat": 4,
 "nbformat_minor": 5
}
