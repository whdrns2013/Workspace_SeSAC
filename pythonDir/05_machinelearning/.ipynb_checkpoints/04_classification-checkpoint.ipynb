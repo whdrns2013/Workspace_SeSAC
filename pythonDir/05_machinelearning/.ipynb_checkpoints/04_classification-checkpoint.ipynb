{
 "cells": [
  {
   "cell_type": "markdown",
   "id": "2eb0947c-15ba-4f76-9876-69cd140089da",
   "metadata": {},
   "source": [
    "# 기타 참고"
   ]
  },
  {
   "cell_type": "markdown",
   "id": "b0a7a905-77b8-47c7-971f-137a675ea788",
   "metadata": {},
   "source": [
    "## 자주 사용하는 함수 저장해놔서 사용하기  \n",
    "\n",
    "python 파일로 디렉토리에 저장 후    \n",
    "import python파일명 을 해주면 된다.  "
   ]
  },
  {
   "cell_type": "code",
   "execution_count": 1,
   "id": "704e2d3d-f4ac-4685-8ee4-747bbabacb88",
   "metadata": {},
   "outputs": [],
   "source": [
    "# 타이타닉에서 많이 사용하는 다음 함수를 func01.py 파일에 저장하였다.\n",
    "\n",
    "def fillna(data):\n",
    "    data['Age'].fillna(data['Age'].mean(), inplace = True)\n",
    "    data['Cabin'].fillna('N', inplace = True)\n",
    "    data['Embarked'].fillna('N', inplace = True)\n",
    "    data['Fare'].fillna(0, inplace = True)\n",
    "    return data\n",
    "def format_features(data):\n",
    "    from sklearn.preprocessing import LabelEncoder\n",
    "    data['Cabin'] = data['Cabin'].str[:1]\n",
    "    features = ['Sex', 'Cabin', 'Embarked']\n",
    "    for feature in features :\n",
    "        le = LabelEncoder()\n",
    "        data[feature] = le.fit_transform(data[feature])\n",
    "        print(le.classes_)\n",
    "    return data\n",
    "\n",
    "def drop_features(data):\n",
    "    data.drop(['PassengerId', 'Name', 'Ticket'], axis=1, inplace=True)\n",
    "    return data\n",
    "\n",
    "def transform_features(data):\n",
    "    data = fillna(data)\n",
    "    data = drop_features(data)\n",
    "    data = format_features(data)\n",
    "    return data"
   ]
  },
  {
   "cell_type": "code",
   "execution_count": 2,
   "id": "c723224c-1431-4b07-99df-6b4c45ed737b",
   "metadata": {},
   "outputs": [],
   "source": [
    "import func01"
   ]
  },
  {
   "cell_type": "code",
   "execution_count": 3,
   "id": "79015b59-7626-4387-8d3c-1548b1b437a2",
   "metadata": {},
   "outputs": [
    {
     "ename": "NameError",
     "evalue": "name 'data' is not defined",
     "output_type": "error",
     "traceback": [
      "\u001b[1;31m---------------------------------------------------------------------------\u001b[0m",
      "\u001b[1;31mNameError\u001b[0m                                 Traceback (most recent call last)",
      "\u001b[1;32m~\\AppData\\Local\\Temp\\ipykernel_29348\\3511923115.py\u001b[0m in \u001b[0;36m<module>\u001b[1;34m\u001b[0m\n\u001b[0;32m      1\u001b[0m \u001b[1;31m# 다음부터 해당 파일에 있는 함수는 아래와 같이 불러올 수 있다.\u001b[0m\u001b[1;33m\u001b[0m\u001b[1;33m\u001b[0m\u001b[0m\n\u001b[0;32m      2\u001b[0m \u001b[1;33m\u001b[0m\u001b[0m\n\u001b[1;32m----> 3\u001b[1;33m \u001b[0mfunc01\u001b[0m\u001b[1;33m.\u001b[0m\u001b[0mdrop_features\u001b[0m\u001b[1;33m(\u001b[0m\u001b[0mdata\u001b[0m\u001b[1;33m)\u001b[0m\u001b[1;33m\u001b[0m\u001b[1;33m\u001b[0m\u001b[0m\n\u001b[0m",
      "\u001b[1;31mNameError\u001b[0m: name 'data' is not defined"
     ]
    }
   ],
   "source": [
    "# 다음부터 해당 파일에 있는 함수는 아래와 같이 불러올 수 있다.\n",
    "\n",
    "func01.drop_features(data)"
   ]
  },
  {
   "cell_type": "markdown",
   "id": "2a005009-b1e1-481f-9a11-c2f37fea2e50",
   "metadata": {},
   "source": [
    "# 분류 머신러닝\n",
    "\n",
    "* `나이브 베이즈(Naive Bayes)` : 베이즈(Bayes) 통계와 생성 모델에 기반한  \n",
    "* `로지스틱 회귀(Logistic Regression)` : 독립변수와 종속변수의 선형 관계성에 기반한  \n",
    "* `결정 트리(Decision Tree)` : 데이터 균일도에 따른 규칙 기반의  \n",
    "* `서포트 벡터 머신(Support Vector Machine)` : 개별 클래스 간의 최대 분류 마진을 효과적으로 찾아주는  \n",
    "* `최소 근접(Nearest Neighbor)` 알고리즘 : 근접 거리를 기준으로 하는  \n",
    "* `신경망(Neural Network)` : 심층 연결 기반의  \n",
    "* `앙상블(Ensemble)` : 서로 다른(또는 같은) 머신러닝 알고리즘을 결합한  "
   ]
  },
  {
   "cell_type": "markdown",
   "id": "40d404b7-ed35-4531-900d-c00201d50cab",
   "metadata": {},
   "source": [
    "## 분류 관련 개념\n",
    "\n",
    "* 엔트로피 : 데이터 집합의 혼잡도. 불균일할 수록 엔트로피가 높다.  \n",
    "* 지니 계수 : 불평등 지수. 데이터의 불균일도를 (혼잡도)를 나타내며 불균일할 수록 지니 계수가 높다.  \n",
    "* 정보 이득 : 1 - 엔트로피  "
   ]
  },
  {
   "cell_type": "markdown",
   "id": "efe050c7-f902-438b-a5b9-e0ef59995c24",
   "metadata": {},
   "source": [
    "## 결정 트리  \n",
    "\n",
    "* 과대적합 문제가 쉽게 발생할 수 있다.  \n",
    "* 하이퍼파라미터를 어떻게 설정하느냐에 따라 성능이 크게 좌지우지 된다.  \n",
    "* 데이터량이 같다면 결정 트리의 분화(분기)가 많을 수록 각 분류된 leaf들은 순수도가 높겠지만, 모델 전체적으로는 과적합이 되어 성능이 낮아진다.  \n",
    "  \n",
    "> 사용 방법  \n",
    "> `from sklearn.tree import DecisionTressClassifier` : 결정 트리 모델 import  \n",
    "> \n",
    "  \n",
    "> 파라미터  \n",
    "> `min_samples_split` : 노드를 분할하기 위한 최소한의 샘플 데이터 수. 과적합을 제어하는 데 사용된다. 디폴트는 2. 본 노드에서 n개 이상인 경우에만 분기가 진행된다.     \n",
    "> `min_samples_leaf` : 분할 후의 자식 노드가 가져야 할 최소한의 샘플 데이터 수. 값이 커질수록 분기가 억제된다. min_samples_leaf와 같이 과적합 방지 용.  \n",
    "> `max_features` : 분할의 기준이 되는 피쳐(변수=칼럼)의 수를 제한한다.  \n",
    "> `max_depth` : 최대 깊이값. 루트로부터 최대 몇 단계까지 갈 수 있는지(분화할 수 있는지)를 제한한다. 최대값 제한이 없으면 과적합이 발생할 수 있다.   \n",
    "> `max_leaf_nodes` : 말단 노드(Leaf)의 최대 개수.  \n"
   ]
  },
  {
   "cell_type": "code",
   "execution_count": null,
   "id": "a73756c6-1c65-4a23-b9dc-d7189264e24e",
   "metadata": {},
   "outputs": [],
   "source": [
    "from sklearn.tree import DecisionTreeClassifier\n",
    "from sklearn.datasets import load_iris\n",
    "from sklearn.model_selection import train_test_split\n",
    "import pandas as pd"
   ]
  },
  {
   "cell_type": "code",
   "execution_count": null,
   "id": "722fa577-23e6-448d-973d-ff1d58570e08",
   "metadata": {},
   "outputs": [],
   "source": [
    "dt_clf = DecisionTreeClassifier(random_state=156)\n",
    "iris = load_iris()\n",
    "\n",
    "X_train, X_test, y_train, y_test = train_test_split(iris.data, iris.target, test_size=0.2, random_state=12)\n",
    "dt_clf.fit(X_train, y_train)\n"
   ]
  },
  {
   "cell_type": "code",
   "execution_count": null,
   "id": "33c0d2de-adba-4974-bd76-bd1508598df3",
   "metadata": {},
   "outputs": [],
   "source": [
    "from sklearn.tree import export_graphviz\n",
    "import graphviz"
   ]
  },
  {
   "cell_type": "code",
   "execution_count": null,
   "id": "bff8fcc4-4141-4ce9-ad08-01f00f522863",
   "metadata": {},
   "outputs": [],
   "source": [
    "export_graphviz(dt_clf, 'iris.dot',\n",
    "                class_names=iris.target_names,\n",
    "                feature_names=iris.feature_names,\n",
    "                filled=True)"
   ]
  },
  {
   "cell_type": "code",
   "execution_count": null,
   "id": "202a7461-262d-422d-b56c-91a9b0b27f79",
   "metadata": {
    "tags": []
   },
   "outputs": [],
   "source": [
    "with open('iris.dot') as f:    # iris.dot을 불러와 f라는 변수에 담음\n",
    "    dot_graph = f.read()\n",
    "    \n",
    "graphviz.Source(dot_graph)"
   ]
  },
  {
   "cell_type": "markdown",
   "id": "8e02205e-b108-473c-a589-d2ea61031c55",
   "metadata": {},
   "source": [
    "### 옵션 1. min_samples_split : 데이터가 min 개수 이상이어야 split을 할 수 있다."
   ]
  },
  {
   "cell_type": "code",
   "execution_count": null,
   "id": "c61fe22e-2548-4a32-9292-16425be97a88",
   "metadata": {
    "tags": []
   },
   "outputs": [],
   "source": [
    "dt_clf = DecisionTreeClassifier(random_state=156, min_samples_split=20)\n",
    "dt_clf.fit(X_train, y_train)\n",
    "\n",
    "export_graphviz(dt_clf, 'iris1.dot',\n",
    "                class_names=iris.target_names,\n",
    "                feature_names=iris.feature_names,\n",
    "                filled=True)\n",
    "\n",
    "with open('iris1.dot') as f:    # iris.dot을 불러와 f라는 변수에 담음\n",
    "    dot_graph = f.read()\n",
    "    \n",
    "graphviz.Source(dot_graph)"
   ]
  },
  {
   "cell_type": "markdown",
   "id": "5819383c-4e53-4ebb-829b-3396dd614397",
   "metadata": {},
   "source": [
    "### 옵션 2. max_depth : 분기 깊이 최대가 n을 넘어가지 않는다."
   ]
  },
  {
   "cell_type": "code",
   "execution_count": null,
   "id": "2fc74b89-dc26-4f5c-8f8a-96381d2e986a",
   "metadata": {
    "tags": []
   },
   "outputs": [],
   "source": [
    "dt_clf = DecisionTreeClassifier(random_state=156, max_depth=3)\n",
    "dt_clf.fit(X_train, y_train)\n",
    "\n",
    "export_graphviz(dt_clf, 'iris1.dot',\n",
    "                class_names=iris.target_names,\n",
    "                feature_names=iris.feature_names,\n",
    "                filled=True)\n",
    "\n",
    "with open('iris1.dot') as f:    # iris.dot을 불러와 f라는 변수에 담음\n",
    "    dot_graph = f.read()\n",
    "    \n",
    "graphviz.Source(dot_graph)"
   ]
  },
  {
   "cell_type": "markdown",
   "id": "b3f626cb-b51a-4dc0-b1b9-df6dfeb86889",
   "metadata": {},
   "source": [
    "### 옵션 3. min_samples_leaf : 자식 노드에 포함된 자료 개수가 최소 min 값 이상이어야 한다."
   ]
  },
  {
   "cell_type": "code",
   "execution_count": null,
   "id": "101d5b38-5375-40ee-bd80-534cbf275024",
   "metadata": {
    "tags": []
   },
   "outputs": [],
   "source": [
    "dt_clf = DecisionTreeClassifier(random_state=156, min_samples_leaf=3)\n",
    "dt_clf.fit(X_train, y_train)\n",
    "\n",
    "export_graphviz(dt_clf, 'iris1.dot',\n",
    "                class_names=iris.target_names,\n",
    "                feature_names=iris.feature_names,\n",
    "                filled=True)\n",
    "\n",
    "with open('iris1.dot') as f:    # iris.dot을 불러와 f라는 변수에 담음\n",
    "    dot_graph = f.read()\n",
    "    \n",
    "graphviz.Source(dot_graph)"
   ]
  },
  {
   "cell_type": "markdown",
   "id": "59204dd7-29a5-4dd6-ab85-0466b88269ff",
   "metadata": {},
   "source": [
    "### 옵션 4. MAX_features : 고려할 feature(변수)의 개수 제한"
   ]
  },
  {
   "cell_type": "code",
   "execution_count": null,
   "id": "13febe4a-9fb2-4374-a80b-23a072fa9e2e",
   "metadata": {
    "tags": []
   },
   "outputs": [],
   "source": [
    "dt_clf = DecisionTreeClassifier(random_state=156, max_features=3)\n",
    "dt_clf.fit(X_train, y_train)\n",
    "\n",
    "export_graphviz(dt_clf, 'iris1.dot',\n",
    "                class_names=iris.target_names,\n",
    "                feature_names=iris.feature_names,\n",
    "                filled=True)\n",
    "\n",
    "with open('iris1.dot') as f:    # iris.dot을 불러와 f라는 변수에 담음\n",
    "    dot_graph = f.read()\n",
    "    \n",
    "graphviz.Source(dot_graph)"
   ]
  },
  {
   "cell_type": "markdown",
   "id": "9ff90b82-cc4a-49da-8445-63f16c4a436c",
   "metadata": {},
   "source": [
    "### Decision Tree에서 주요한 변수 확인\n",
    "\n",
    "* `분류모델.feature_importances` : 주요한 변수 확인  \n",
    "* 트리 분할 시 정보 이득이나 지니 계수를 얼마나 효율적으로 잘 개선시켰는지를 표현한 값임  "
   ]
  },
  {
   "cell_type": "code",
   "execution_count": null,
   "id": "d5bc48c1-98e7-4091-87c3-9788818d94da",
   "metadata": {},
   "outputs": [],
   "source": [
    "show = pd.DataFrame([iris.feature_names,dt_clf.feature_importances_])\n",
    "show"
   ]
  },
  {
   "cell_type": "markdown",
   "id": "11027a52-1272-4c54-a588-a2c393b0711c",
   "metadata": {},
   "source": [
    "### barplot으로 중요도 확인"
   ]
  },
  {
   "cell_type": "code",
   "execution_count": null,
   "id": "c6806333-9a7b-4ede-9228-7fbce6445d2b",
   "metadata": {},
   "outputs": [],
   "source": [
    "import seaborn as sns"
   ]
  },
  {
   "cell_type": "code",
   "execution_count": null,
   "id": "de2306bc-5c6f-4d5d-aa3f-31f69fa87a93",
   "metadata": {
    "tags": []
   },
   "outputs": [],
   "source": [
    "sns.barplot(x=dt_clf.feature_importances_, y=iris.feature_names)"
   ]
  },
  {
   "cell_type": "markdown",
   "id": "d3beb6fb-f7b8-4b60-b985-525184522457",
   "metadata": {},
   "source": [
    "### Titanic 시각화 하기"
   ]
  },
  {
   "cell_type": "code",
   "execution_count": null,
   "id": "5fbacaea-bbf0-47fa-a7fe-51f8e7c32b5e",
   "metadata": {},
   "outputs": [],
   "source": [
    "# import\n",
    "from sklearn.tree import DecisionTreeClassifier\n",
    "from sklearn.datasets import load_iris\n",
    "from sklearn.model_selection import train_test_split\n",
    "import pandas as pd\n",
    "import func01"
   ]
  },
  {
   "cell_type": "code",
   "execution_count": null,
   "id": "eebf5fb5-0d2c-471f-9f4d-3552bfac261f",
   "metadata": {},
   "outputs": [],
   "source": [
    "# 타이타닉 함수 불러와 사용\n",
    "\n",
    "data = pd.read_csv('titanic.csv')\n",
    "y = data['Survived']\n",
    "X = data.drop(columns=['Survived'])\n",
    "X = func01.transform_features(X)"
   ]
  },
  {
   "cell_type": "code",
   "execution_count": null,
   "id": "89ca3067-90ec-485e-8a11-afb8af9e5558",
   "metadata": {},
   "outputs": [],
   "source": [
    "dt_clf = DecisionTreeClassifier(random_state=156)\n",
    "\n",
    "# 테스트 셋 나누기\n",
    "X_train, X_test, y_train, y_test = train_test_split(X, y, test_size = 0.2, random_state=11)\n",
    "dt_clf.fit(X_train, y_train)\n"
   ]
  },
  {
   "cell_type": "code",
   "execution_count": null,
   "id": "a85e1964-b1ed-46d3-bde9-b70b18549642",
   "metadata": {
    "tags": []
   },
   "outputs": [],
   "source": [
    "export_graphviz(dt_clf, 'titanic1.dot',\n",
    "                class_names = ['사망', '생존'],     # 0일 때에는 사망 , 1일 때에는 생존\n",
    "                feature_names = None,\n",
    "                filled=True)\n",
    "\n",
    "with open('titanic1.dot', encoding='utf8') as f:\n",
    "    dot_graph = f.read()\n",
    "    \n",
    "graphviz.Source(dot_graph)"
   ]
  },
  {
   "cell_type": "markdown",
   "id": "f8874703-280e-49bc-809a-f35a5b339493",
   "metadata": {},
   "source": [
    "### 결정 트리 과적합"
   ]
  },
  {
   "cell_type": "code",
   "execution_count": 22,
   "id": "03be74fb-116b-4f20-9bba-25f71c8f9809",
   "metadata": {},
   "outputs": [],
   "source": [
    "from sklearn.datasets import make_classification\n",
    "import matplotlib.pyplot as plt\n",
    "import func01"
   ]
  },
  {
   "cell_type": "code",
   "execution_count": 23,
   "id": "d2d8408d-c216-435c-a897-0e259affe87d",
   "metadata": {
    "tags": []
   },
   "outputs": [],
   "source": [
    "X, y = make_classification(n_features=2, n_redundant=0, n_informative=2, n_classes=3, n_clusters_per_class=1, random_state=0)"
   ]
  },
  {
   "cell_type": "code",
   "execution_count": 24,
   "id": "fe505e13-5fc9-4f8c-9a8a-ddc250606056",
   "metadata": {},
   "outputs": [
    {
     "data": {
      "image/png": "[encoded data removed]",
      "text/plain": [
       "<Figure size 640x480 with 1 Axes>"
      ]
     },
     "metadata": {},
     "output_type": "display_data"
    }
   ],
   "source": [
    "dt_clf = plt.scatter(X[:,0], X[:,1], marker='o', c=y, s=25, edgecolor='k')"
   ]
  },
  {
   "cell_type": "code",
   "execution_count": 25,
   "id": "348ad352-fd7a-4a89-ae33-6686784f387e",
   "metadata": {},
   "outputs": [
    {
     "ename": "NameError",
     "evalue": "name 'plt' is not defined",
     "output_type": "error",
     "traceback": [
      "\u001b[1;31m---------------------------------------------------------------------------\u001b[0m",
      "\u001b[1;31mNameError\u001b[0m                                 Traceback (most recent call last)",
      "\u001b[1;32m~\\AppData\\Local\\Temp\\ipykernel_29348\\48423941.py\u001b[0m in \u001b[0;36m<module>\u001b[1;34m\u001b[0m\n\u001b[1;32m----> 1\u001b[1;33m \u001b[0mfunc01\u001b[0m\u001b[1;33m.\u001b[0m\u001b[0mvisualize_boundary\u001b[0m\u001b[1;33m(\u001b[0m\u001b[0mdt_clf\u001b[0m\u001b[1;33m,\u001b[0m\u001b[0mX\u001b[0m\u001b[1;33m,\u001b[0m\u001b[0my\u001b[0m\u001b[1;33m)\u001b[0m\u001b[1;33m\u001b[0m\u001b[1;33m\u001b[0m\u001b[0m\n\u001b[0m",
      "\u001b[1;32mC:\\Workspace\\pythonDir\\05_machinelearning\\func01.py\u001b[0m in \u001b[0;36mvisualize_boundary\u001b[1;34m(model, X, y)\u001b[0m\n\u001b[0;32m     29\u001b[0m \u001b[1;31m# Classifier의 Decision Boundary를 시각화 하는 함수\u001b[0m\u001b[1;33m\u001b[0m\u001b[1;33m\u001b[0m\u001b[0m\n\u001b[0;32m     30\u001b[0m \u001b[1;32mdef\u001b[0m \u001b[0mvisualize_boundary\u001b[0m\u001b[1;33m(\u001b[0m\u001b[0mmodel\u001b[0m\u001b[1;33m,\u001b[0m \u001b[0mX\u001b[0m\u001b[1;33m,\u001b[0m \u001b[0my\u001b[0m\u001b[1;33m)\u001b[0m\u001b[1;33m:\u001b[0m\u001b[1;33m\u001b[0m\u001b[1;33m\u001b[0m\u001b[0m\n\u001b[1;32m---> 31\u001b[1;33m     \u001b[1;32mimport\u001b[0m \u001b[0mmatplotlib\u001b[0m\u001b[1;33m.\u001b[0m\u001b[0mpyplot\u001b[0m \u001b[1;32mas\u001b[0m \u001b[0mplt\u001b[0m\u001b[1;33m\u001b[0m\u001b[1;33m\u001b[0m\u001b[0m\n\u001b[0m\u001b[0;32m     32\u001b[0m \u001b[1;33m\u001b[0m\u001b[0m\n\u001b[0;32m     33\u001b[0m     \u001b[0mfig\u001b[0m\u001b[1;33m,\u001b[0m\u001b[0max\u001b[0m \u001b[1;33m=\u001b[0m \u001b[0mplt\u001b[0m\u001b[1;33m.\u001b[0m\u001b[0msubplots\u001b[0m\u001b[1;33m(\u001b[0m\u001b[1;33m)\u001b[0m\u001b[1;33m\u001b[0m\u001b[1;33m\u001b[0m\u001b[0m\n",
      "\u001b[1;31mNameError\u001b[0m: name 'plt' is not defined"
     ]
    }
   ],
   "source": [
    "func01.visualize_boundary(dt_clf,X,y)"
   ]
  },
  {
   "cell_type": "code",
   "execution_count": null,
   "id": "ab6e91ac-c573-433c-a0a4-cf78f3082bdc",
   "metadata": {},
   "outputs": [],
   "source": []
  }
 ],
 "metadata": {
  "kernelspec": {
   "display_name": "Python 3 (ipykernel)",
   "language": "python",
   "name": "python3"
  },
  "language_info": {
   "codemirror_mode": {
    "name": "ipython",
    "version": 3
   },
   "file_extension": ".py",
   "mimetype": "text/x-python",
   "name": "python",
   "nbconvert_exporter": "python",
   "pygments_lexer": "ipython3",
   "version": "3.9.13"
  }
 },
 "nbformat": 4,
 "nbformat_minor": 5
}
