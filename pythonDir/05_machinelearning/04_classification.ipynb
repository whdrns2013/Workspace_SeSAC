{
 "cells": [
  {
   "cell_type": "markdown",
   "id": "2a005009-b1e1-481f-9a11-c2f37fea2e50",
   "metadata": {},
   "source": [
    "# 분류 머신러닝\n",
    "\n",
    "* `나이브 베이즈(Naive Bayes)` : 베이즈(Bayes) 통계와 생성 모델에 기반한  \n",
    "* `로지스틱 회귀(Logistic Regression)` : 독립변수와 종속변수의 선형 관계성에 기반한  \n",
    "* `결정 트리(Decision Tree)` : 데이터 균일도에 따른 규칙 기반의  \n",
    "* `서포트 벡터 머신(Support Vector Machine)` : 개별 클래스 간의 최대 분류 마진을 효과적으로 찾아주는  \n",
    "* `최소 근접(Nearest Neighbor)` 알고리즘 : 근접 거리를 기준으로 하는  \n",
    "* `신경망(Neural Network)` : 심층 연결 기반의  \n",
    "* `앙상블(Ensemble)` : 서로 다른(또는 같은) 머신러닝 알고리즘을 결합한  "
   ]
  },
  {
   "cell_type": "markdown",
   "id": "efe050c7-f902-438b-a5b9-e0ef59995c24",
   "metadata": {},
   "source": [
    "## 결정 트리  "
   ]
  }
 ],
 "metadata": {
  "kernelspec": {
   "display_name": "Python 3 (ipykernel)",
   "language": "python",
   "name": "python3"
  },
  "language_info": {
   "codemirror_mode": {
    "name": "ipython",
    "version": 3
   },
   "file_extension": ".py",
   "mimetype": "text/x-python",
   "name": "python",
   "nbconvert_exporter": "python",
   "pygments_lexer": "ipython3",
   "version": "3.9.13"
  }
 },
 "nbformat": 4,
 "nbformat_minor": 5
}
