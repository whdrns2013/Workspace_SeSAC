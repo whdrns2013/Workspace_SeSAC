{
 "cells": [
  {
   "cell_type": "markdown",
   "id": "8a7ee511-d22c-4bbc-a268-451f24d85314",
   "metadata": {},
   "source": [
    "인공지능  \n",
    "\n",
    "- 인공지능 : 사람과 같은 학습, 사고가 가능한 기계를 만들기 위한  \n",
    "- 머신러닝 : 기계가 스스로 학습하는  \n",
    "- 딥러닝 : 사람의 뉴런과 같은 학습 방법  "
   ]
  },
  {
   "cell_type": "markdown",
   "id": "844ed10d-e72a-4e7c-b022-24803817ac24",
   "metadata": {},
   "source": [
    "머신러닝"
   ]
  }
 ],
 "metadata": {
  "kernelspec": {
   "display_name": "Python 3 (ipykernel)",
   "language": "python",
   "name": "python3"
  },
  "language_info": {
   "codemirror_mode": {
    "name": "ipython",
    "version": 3
   },
   "file_extension": ".py",
   "mimetype": "text/x-python",
   "name": "python",
   "nbconvert_exporter": "python",
   "pygments_lexer": "ipython3",
   "version": "3.9.13"
  }
 },
 "nbformat": 4,
 "nbformat_minor": 5
}
