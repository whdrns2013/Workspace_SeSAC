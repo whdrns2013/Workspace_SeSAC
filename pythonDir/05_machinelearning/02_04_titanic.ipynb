{
 "cells": [
  {
   "cell_type": "markdown",
   "id": "cc480ddd-2a98-453d-9937-16b55562ab59",
   "metadata": {},
   "source": [
    "# 사이킷런으로 수행하는 타이타닉 생존자 예측 (p.129)\n"
   ]
  },
  {
   "cell_type": "markdown",
   "id": "0edde094-95ed-4323-bca2-3358468b58ba",
   "metadata": {},
   "source": [
    "## 데이터와 라이브러리 import"
   ]
  },
  {
   "cell_type": "code",
   "execution_count": 1,
   "id": "3e141ac3-4b18-483d-8b48-c395d0c06fff",
   "metadata": {},
   "outputs": [],
   "source": [
    "import pandas as pd\n",
    "import numpy as np\n",
    "import matplotlib.pyplot as plt\n",
    "import seaborn as sns"
   ]
  },
  {
   "cell_type": "code",
   "execution_count": 2,
   "id": "aa42068b-f74d-4366-b82a-205ed20a87e1",
   "metadata": {},
   "outputs": [
    {
     "data": {
      "text/html": [
       "<div>\n",
       "<style scoped>\n",
       "    .dataframe tbody tr th:only-of-type {\n",
       "        vertical-align: middle;\n",
       "    }\n",
       "\n",
       "    .dataframe tbody tr th {\n",
       "        vertical-align: top;\n",
       "    }\n",
       "\n",
       "    .dataframe thead th {\n",
       "        text-align: right;\n",
       "    }\n",
       "</style>\n",
       "<table border=\"1\" class=\"dataframe\">\n",
       "  <thead>\n",
       "    <tr style=\"text-align: right;\">\n",
       "      <th></th>\n",
       "      <th>PassengerId</th>\n",
       "      <th>Survived</th>\n",
       "      <th>Pclass</th>\n",
       "      <th>Name</th>\n",
       "      <th>Sex</th>\n",
       "      <th>Age</th>\n",
       "      <th>SibSp</th>\n",
       "      <th>Parch</th>\n",
       "      <th>Ticket</th>\n",
       "      <th>Fare</th>\n",
       "      <th>Cabin</th>\n",
       "      <th>Embarked</th>\n",
       "    </tr>\n",
       "  </thead>\n",
       "  <tbody>\n",
       "    <tr>\n",
       "      <th>0</th>\n",
       "      <td>1</td>\n",
       "      <td>0</td>\n",
       "      <td>3</td>\n",
       "      <td>Braund, Mr. Owen Harris</td>\n",
       "      <td>male</td>\n",
       "      <td>22.0</td>\n",
       "      <td>1</td>\n",
       "      <td>0</td>\n",
       "      <td>A/5 21171</td>\n",
       "      <td>7.2500</td>\n",
       "      <td>NaN</td>\n",
       "      <td>S</td>\n",
       "    </tr>\n",
       "    <tr>\n",
       "      <th>1</th>\n",
       "      <td>2</td>\n",
       "      <td>1</td>\n",
       "      <td>1</td>\n",
       "      <td>Cumings, Mrs. John Bradley (Florence Briggs Th...</td>\n",
       "      <td>female</td>\n",
       "      <td>38.0</td>\n",
       "      <td>1</td>\n",
       "      <td>0</td>\n",
       "      <td>PC 17599</td>\n",
       "      <td>71.2833</td>\n",
       "      <td>C85</td>\n",
       "      <td>C</td>\n",
       "    </tr>\n",
       "    <tr>\n",
       "      <th>2</th>\n",
       "      <td>3</td>\n",
       "      <td>1</td>\n",
       "      <td>3</td>\n",
       "      <td>Heikkinen, Miss. Laina</td>\n",
       "      <td>female</td>\n",
       "      <td>26.0</td>\n",
       "      <td>0</td>\n",
       "      <td>0</td>\n",
       "      <td>STON/O2. 3101282</td>\n",
       "      <td>7.9250</td>\n",
       "      <td>NaN</td>\n",
       "      <td>S</td>\n",
       "    </tr>\n",
       "    <tr>\n",
       "      <th>3</th>\n",
       "      <td>4</td>\n",
       "      <td>1</td>\n",
       "      <td>1</td>\n",
       "      <td>Futrelle, Mrs. Jacques Heath (Lily May Peel)</td>\n",
       "      <td>female</td>\n",
       "      <td>35.0</td>\n",
       "      <td>1</td>\n",
       "      <td>0</td>\n",
       "      <td>113803</td>\n",
       "      <td>53.1000</td>\n",
       "      <td>C123</td>\n",
       "      <td>S</td>\n",
       "    </tr>\n",
       "    <tr>\n",
       "      <th>4</th>\n",
       "      <td>5</td>\n",
       "      <td>0</td>\n",
       "      <td>3</td>\n",
       "      <td>Allen, Mr. William Henry</td>\n",
       "      <td>male</td>\n",
       "      <td>35.0</td>\n",
       "      <td>0</td>\n",
       "      <td>0</td>\n",
       "      <td>373450</td>\n",
       "      <td>8.0500</td>\n",
       "      <td>NaN</td>\n",
       "      <td>S</td>\n",
       "    </tr>\n",
       "    <tr>\n",
       "      <th>...</th>\n",
       "      <td>...</td>\n",
       "      <td>...</td>\n",
       "      <td>...</td>\n",
       "      <td>...</td>\n",
       "      <td>...</td>\n",
       "      <td>...</td>\n",
       "      <td>...</td>\n",
       "      <td>...</td>\n",
       "      <td>...</td>\n",
       "      <td>...</td>\n",
       "      <td>...</td>\n",
       "      <td>...</td>\n",
       "    </tr>\n",
       "    <tr>\n",
       "      <th>886</th>\n",
       "      <td>887</td>\n",
       "      <td>0</td>\n",
       "      <td>2</td>\n",
       "      <td>Montvila, Rev. Juozas</td>\n",
       "      <td>male</td>\n",
       "      <td>27.0</td>\n",
       "      <td>0</td>\n",
       "      <td>0</td>\n",
       "      <td>211536</td>\n",
       "      <td>13.0000</td>\n",
       "      <td>NaN</td>\n",
       "      <td>S</td>\n",
       "    </tr>\n",
       "    <tr>\n",
       "      <th>887</th>\n",
       "      <td>888</td>\n",
       "      <td>1</td>\n",
       "      <td>1</td>\n",
       "      <td>Graham, Miss. Margaret Edith</td>\n",
       "      <td>female</td>\n",
       "      <td>19.0</td>\n",
       "      <td>0</td>\n",
       "      <td>0</td>\n",
       "      <td>112053</td>\n",
       "      <td>30.0000</td>\n",
       "      <td>B42</td>\n",
       "      <td>S</td>\n",
       "    </tr>\n",
       "    <tr>\n",
       "      <th>888</th>\n",
       "      <td>889</td>\n",
       "      <td>0</td>\n",
       "      <td>3</td>\n",
       "      <td>Johnston, Miss. Catherine Helen \"Carrie\"</td>\n",
       "      <td>female</td>\n",
       "      <td>NaN</td>\n",
       "      <td>1</td>\n",
       "      <td>2</td>\n",
       "      <td>W./C. 6607</td>\n",
       "      <td>23.4500</td>\n",
       "      <td>NaN</td>\n",
       "      <td>S</td>\n",
       "    </tr>\n",
       "    <tr>\n",
       "      <th>889</th>\n",
       "      <td>890</td>\n",
       "      <td>1</td>\n",
       "      <td>1</td>\n",
       "      <td>Behr, Mr. Karl Howell</td>\n",
       "      <td>male</td>\n",
       "      <td>26.0</td>\n",
       "      <td>0</td>\n",
       "      <td>0</td>\n",
       "      <td>111369</td>\n",
       "      <td>30.0000</td>\n",
       "      <td>C148</td>\n",
       "      <td>C</td>\n",
       "    </tr>\n",
       "    <tr>\n",
       "      <th>890</th>\n",
       "      <td>891</td>\n",
       "      <td>0</td>\n",
       "      <td>3</td>\n",
       "      <td>Dooley, Mr. Patrick</td>\n",
       "      <td>male</td>\n",
       "      <td>32.0</td>\n",
       "      <td>0</td>\n",
       "      <td>0</td>\n",
       "      <td>370376</td>\n",
       "      <td>7.7500</td>\n",
       "      <td>NaN</td>\n",
       "      <td>Q</td>\n",
       "    </tr>\n",
       "  </tbody>\n",
       "</table>\n",
       "<p>891 rows × 12 columns</p>\n",
       "</div>"
      ],
      "text/plain": [
       "     PassengerId  Survived  Pclass  \\\n",
       "0              1         0       3   \n",
       "1              2         1       1   \n",
       "2              3         1       3   \n",
       "3              4         1       1   \n",
       "4              5         0       3   \n",
       "..           ...       ...     ...   \n",
       "886          887         0       2   \n",
       "887          888         1       1   \n",
       "888          889         0       3   \n",
       "889          890         1       1   \n",
       "890          891         0       3   \n",
       "\n",
       "                                                  Name     Sex   Age  SibSp  \\\n",
       "0                              Braund, Mr. Owen Harris    male  22.0      1   \n",
       "1    Cumings, Mrs. John Bradley (Florence Briggs Th...  female  38.0      1   \n",
       "2                               Heikkinen, Miss. Laina  female  26.0      0   \n",
       "3         Futrelle, Mrs. Jacques Heath (Lily May Peel)  female  35.0      1   \n",
       "4                             Allen, Mr. William Henry    male  35.0      0   \n",
       "..                                                 ...     ...   ...    ...   \n",
       "886                              Montvila, Rev. Juozas    male  27.0      0   \n",
       "887                       Graham, Miss. Margaret Edith  female  19.0      0   \n",
       "888           Johnston, Miss. Catherine Helen \"Carrie\"  female   NaN      1   \n",
       "889                              Behr, Mr. Karl Howell    male  26.0      0   \n",
       "890                                Dooley, Mr. Patrick    male  32.0      0   \n",
       "\n",
       "     Parch            Ticket     Fare Cabin Embarked  \n",
       "0        0         A/5 21171   7.2500   NaN        S  \n",
       "1        0          PC 17599  71.2833   C85        C  \n",
       "2        0  STON/O2. 3101282   7.9250   NaN        S  \n",
       "3        0            113803  53.1000  C123        S  \n",
       "4        0            373450   8.0500   NaN        S  \n",
       "..     ...               ...      ...   ...      ...  \n",
       "886      0            211536  13.0000   NaN        S  \n",
       "887      0            112053  30.0000   B42        S  \n",
       "888      2        W./C. 6607  23.4500   NaN        S  \n",
       "889      0            111369  30.0000  C148        C  \n",
       "890      0            370376   7.7500   NaN        Q  \n",
       "\n",
       "[891 rows x 12 columns]"
      ]
     },
     "execution_count": 2,
     "metadata": {},
     "output_type": "execute_result"
    }
   ],
   "source": [
    "data = pd.read_csv('titanic.csv')\n",
    "data\n",
    "# PassengerId : 탑승 승객 번호\n",
    "# Survived : 생존 여부 (1=생존 0=사망)\n",
    "# Passengerid: 탑승자 데이터 일련번호\n",
    "# survived: 생존 여부, 0= 사망, 1= 생존\n",
    "# pclass: 티켓의 선실 등급, 1= 일등석, 2 = 이등석, 3 = 삼등석\n",
    "# sex: 탑승자 성별\n",
    "# name: 탑승자 이름\n",
    "# Age: 탑승자 나이\n",
    "# sibsp: 같이 탑승한 형제자매 또는 배우자 인원수\n",
    "# parch: 같이 탑승한 부모님 또는 어린이 인원수\n",
    "# ticket: 티켓 번호\n",
    "# fare : 요금\n",
    "# cabin : 선실 번호\n",
    "# embarked : 중간 정착 항구"
   ]
  },
  {
   "cell_type": "code",
   "execution_count": 3,
   "id": "9264d86a-31e3-451e-96d6-a13469a36f18",
   "metadata": {
    "tags": []
   },
   "outputs": [
    {
     "name": "stdout",
     "output_type": "stream",
     "text": [
      "<class 'pandas.core.frame.DataFrame'>\n",
      "RangeIndex: 891 entries, 0 to 890\n",
      "Data columns (total 12 columns):\n",
      " #   Column       Non-Null Count  Dtype  \n",
      "---  ------       --------------  -----  \n",
      " 0   PassengerId  891 non-null    int64  \n",
      " 1   Survived     891 non-null    int64  \n",
      " 2   Pclass       891 non-null    int64  \n",
      " 3   Name         891 non-null    object \n",
      " 4   Sex          891 non-null    object \n",
      " 5   Age          714 non-null    float64\n",
      " 6   SibSp        891 non-null    int64  \n",
      " 7   Parch        891 non-null    int64  \n",
      " 8   Ticket       891 non-null    object \n",
      " 9   Fare         891 non-null    float64\n",
      " 10  Cabin        204 non-null    object \n",
      " 11  Embarked     889 non-null    object \n",
      "dtypes: float64(2), int64(5), object(5)\n",
      "memory usage: 83.7+ KB\n"
     ]
    }
   ],
   "source": [
    "data.info()"
   ]
  },
  {
   "cell_type": "markdown",
   "id": "86fb133c-335f-4c43-831c-c07d0f39f105",
   "metadata": {},
   "source": [
    "## 전처리"
   ]
  },
  {
   "cell_type": "markdown",
   "id": "68f4fcd3-faaa-4625-8e74-3296d49fcee8",
   "metadata": {},
   "source": [
    "### (1) Null 값 처리"
   ]
  },
  {
   "cell_type": "code",
   "execution_count": 4,
   "id": "1619b7a6-e509-4099-958a-1dd1ca6b75c6",
   "metadata": {},
   "outputs": [
    {
     "data": {
      "text/plain": [
       "PassengerId      0\n",
       "Survived         0\n",
       "Pclass           0\n",
       "Name             0\n",
       "Sex              0\n",
       "Age            177\n",
       "SibSp            0\n",
       "Parch            0\n",
       "Ticket           0\n",
       "Fare             0\n",
       "Cabin          687\n",
       "Embarked         2\n",
       "dtype: int64"
      ]
     },
     "execution_count": 4,
     "metadata": {},
     "output_type": "execute_result"
    }
   ],
   "source": [
    "# Null 값 살펴보기\n",
    "\n",
    "data.isnull().sum()\n",
    "\n",
    "# Age 에 Null 값이 177개 있음 -> 평균값으로 대치할 것임\n",
    "# Cabin 에 Null 값 687개 -> N이라는 값으로 대치할 것임\n",
    "# Embarked 에 Null 값 2개 있음 -> N이라는 값으로 대치할 것임"
   ]
  },
  {
   "cell_type": "code",
   "execution_count": 5,
   "id": "31ce77fc-0eb8-4125-88bf-c4d1758b81b5",
   "metadata": {},
   "outputs": [],
   "source": [
    "# (1) Age 에 Null 값이 177개 있음 -> 평균값으로 대치할 것임\n",
    "# (2) Cabin 에 Null 값 687개 -> N이라는 값으로 대치할 것임\n",
    "# (3) Embarked 에 Null 값 2개 있음 -> N이라는 값으로 대치할 것임\n",
    "\n",
    "data['Age'].fillna(data['Age'].mean(), inplace=True)\n",
    "data['Cabin'].fillna('N', inplace=True)\n",
    "data['Embarked'].fillna('N', inplace=True)\n"
   ]
  },
  {
   "cell_type": "code",
   "execution_count": 6,
   "id": "5f010f83-daa1-4148-8d20-a99c01dcb021",
   "metadata": {},
   "outputs": [
    {
     "name": "stdout",
     "output_type": "stream",
     "text": [
      "<class 'pandas.core.frame.DataFrame'>\n",
      "RangeIndex: 891 entries, 0 to 890\n",
      "Data columns (total 12 columns):\n",
      " #   Column       Non-Null Count  Dtype  \n",
      "---  ------       --------------  -----  \n",
      " 0   PassengerId  891 non-null    int64  \n",
      " 1   Survived     891 non-null    int64  \n",
      " 2   Pclass       891 non-null    int64  \n",
      " 3   Name         891 non-null    object \n",
      " 4   Sex          891 non-null    object \n",
      " 5   Age          891 non-null    float64\n",
      " 6   SibSp        891 non-null    int64  \n",
      " 7   Parch        891 non-null    int64  \n",
      " 8   Ticket       891 non-null    object \n",
      " 9   Fare         891 non-null    float64\n",
      " 10  Cabin        891 non-null    object \n",
      " 11  Embarked     891 non-null    object \n",
      "dtypes: float64(2), int64(5), object(5)\n",
      "memory usage: 83.7+ KB\n"
     ]
    }
   ],
   "source": [
    "# 대치 확인\n",
    "\n",
    "data.info()"
   ]
  },
  {
   "cell_type": "markdown",
   "id": "49d97feb-b5eb-45de-8178-c55ad61cd9a8",
   "metadata": {},
   "source": [
    "### (2) 다른 값들 둘러보기"
   ]
  },
  {
   "cell_type": "code",
   "execution_count": 7,
   "id": "9656bed7-bcbe-4e1e-8601-de8cb6528a2d",
   "metadata": {},
   "outputs": [
    {
     "name": "stdout",
     "output_type": "stream",
     "text": [
      "Sex 칼럼\n",
      "male      577\n",
      "female    314\n",
      "Name: Sex, dtype: int64\n",
      "\n",
      "\n",
      "Cabin 칼럼\n",
      "N              687\n",
      "C23 C25 C27      4\n",
      "G6               4\n",
      "B96 B98          4\n",
      "C22 C26          3\n",
      "              ... \n",
      "E34              1\n",
      "C7               1\n",
      "C54              1\n",
      "E36              1\n",
      "C148             1\n",
      "Name: Cabin, Length: 148, dtype: int64\n",
      "\n",
      "\n",
      "Embarked 칼럼\n",
      "S    644\n",
      "C    168\n",
      "Q     77\n",
      "N      2\n",
      "Name: Embarked, dtype: int64\n",
      "\n",
      "\n"
     ]
    }
   ],
   "source": [
    "print('Sex 칼럼')\n",
    "print(data['Sex'].value_counts())\n",
    "print('\\n')\n",
    "\n",
    "print('Cabin 칼럼')\n",
    "print(data['Cabin'].value_counts())\n",
    "print('\\n')\n",
    "\n",
    "print('Embarked 칼럼')\n",
    "print(data['Embarked'].value_counts())\n",
    "print('\\n')"
   ]
  },
  {
   "cell_type": "markdown",
   "id": "b596a65c-3cee-4e0e-87ee-9cbbe9e3c2d0",
   "metadata": {},
   "source": [
    "### (3) Cabin 칼럼 전처리\n",
    "\n",
    "* Cabin 칼럼은 선실 번호로, 동일 레이블에는 동일 캐빈 클래스 (A, B, C, ...) 가 기록되어 있다.  \n",
    "* 이를 수월한 처리를 위해 앞 글자만을 따올 것이다.  "
   ]
  },
  {
   "cell_type": "code",
   "execution_count": 8,
   "id": "a41d5ea8-ddf7-4571-b3f2-1c05e6f39169",
   "metadata": {},
   "outputs": [
    {
     "data": {
      "text/plain": [
       "0      N\n",
       "1      C\n",
       "2      N\n",
       "3      C\n",
       "4      N\n",
       "      ..\n",
       "886    N\n",
       "887    B\n",
       "888    N\n",
       "889    C\n",
       "890    N\n",
       "Name: Cabin, Length: 891, dtype: object"
      ]
     },
     "execution_count": 8,
     "metadata": {},
     "output_type": "execute_result"
    }
   ],
   "source": [
    "data['Cabin'] = data['Cabin'].str[:1]\n",
    "data['Cabin']"
   ]
  },
  {
   "cell_type": "markdown",
   "id": "b68fe086-6428-4c3b-b913-af580c0297c6",
   "metadata": {},
   "source": [
    "## 탐색적 데이터 분석 \n",
    "\n",
    "* 생존에 영향을 주는 항목이 무엇인지에 대해 탐색적 데이터 분석을 진행한다.  \n",
    "* 여기에서는 상황별 데이터 살펴보기 미 시각화 등을 진행한다.  "
   ]
  },
  {
   "cell_type": "markdown",
   "id": "aea81cf1-2890-4726-a8a8-7d0965e43bb6",
   "metadata": {},
   "source": [
    "### 성별에 따른 생존율"
   ]
  },
  {
   "cell_type": "code",
   "execution_count": 9,
   "id": "2232affb-f8ed-4cc1-ab10-521ce72d04df",
   "metadata": {},
   "outputs": [
    {
     "data": {
      "text/html": [
       "<div>\n",
       "<style scoped>\n",
       "    .dataframe tbody tr th:only-of-type {\n",
       "        vertical-align: middle;\n",
       "    }\n",
       "\n",
       "    .dataframe tbody tr th {\n",
       "        vertical-align: top;\n",
       "    }\n",
       "\n",
       "    .dataframe thead th {\n",
       "        text-align: right;\n",
       "    }\n",
       "</style>\n",
       "<table border=\"1\" class=\"dataframe\">\n",
       "  <thead>\n",
       "    <tr style=\"text-align: right;\">\n",
       "      <th></th>\n",
       "      <th></th>\n",
       "      <th>Survived</th>\n",
       "    </tr>\n",
       "    <tr>\n",
       "      <th>Sex</th>\n",
       "      <th>Survived</th>\n",
       "      <th></th>\n",
       "    </tr>\n",
       "  </thead>\n",
       "  <tbody>\n",
       "    <tr>\n",
       "      <th rowspan=\"2\" valign=\"top\">female</th>\n",
       "      <th>0</th>\n",
       "      <td>81</td>\n",
       "    </tr>\n",
       "    <tr>\n",
       "      <th>1</th>\n",
       "      <td>233</td>\n",
       "    </tr>\n",
       "    <tr>\n",
       "      <th rowspan=\"2\" valign=\"top\">male</th>\n",
       "      <th>0</th>\n",
       "      <td>468</td>\n",
       "    </tr>\n",
       "    <tr>\n",
       "      <th>1</th>\n",
       "      <td>109</td>\n",
       "    </tr>\n",
       "  </tbody>\n",
       "</table>\n",
       "</div>"
      ],
      "text/plain": [
       "                 Survived\n",
       "Sex    Survived          \n",
       "female 0               81\n",
       "       1              233\n",
       "male   0              468\n",
       "       1              109"
      ]
     },
     "execution_count": 9,
     "metadata": {},
     "output_type": "execute_result"
    }
   ],
   "source": [
    "# '성별'이 '생존률'에 영향을 미치는지\n",
    "# 성별과 생존여부로 그룹바이 후 -> 이에 해당하는 행의 갯수를 count\n",
    "sex_surv = data.groupby(['Sex','Survived'])['Survived'].count()\n",
    "pd.DataFrame(sex_surv)"
   ]
  },
  {
   "cell_type": "code",
   "execution_count": 10,
   "id": "7fd50067-b1d6-4edf-9011-3d01cda1f073",
   "metadata": {},
   "outputs": [
    {
     "data": {
      "text/plain": [
       "<AxesSubplot:xlabel='Sex', ylabel='Survived'>"
      ]
     },
     "execution_count": 10,
     "metadata": {},
     "output_type": "execute_result"
    },
    {
     "data": {
      "image/png": "[encoded data removed]",
      "text/plain": [
       "<Figure size 640x480 with 1 Axes>"
      ]
     },
     "metadata": {},
     "output_type": "display_data"
    }
   ],
   "source": [
    "# 성별의 영향도를 더 명확히 보기 위해 시각화\n",
    "# 성별에 따른 '생존율' 을 구해보는 것\n",
    "sns.barplot(data = data, x = 'Sex', y = 'Survived')"
   ]
  },
  {
   "cell_type": "markdown",
   "id": "72f58ee1-f126-49e4-99e2-a79bfb2cc24f",
   "metadata": {},
   "source": [
    "### 선실 등급별 생존율"
   ]
  },
  {
   "cell_type": "code",
   "execution_count": 11,
   "id": "f0c55f2b-1d08-4084-98fd-66db9b669cc7",
   "metadata": {},
   "outputs": [
    {
     "data": {
      "text/plain": [
       "<AxesSubplot:xlabel='Pclass', ylabel='Survived'>"
      ]
     },
     "execution_count": 11,
     "metadata": {},
     "output_type": "execute_result"
    },
    {
     "data": {
      "image/png": "[encoded data removed]",
      "text/plain": [
       "<Figure size 640x480 with 1 Axes>"
      ]
     },
     "metadata": {},
     "output_type": "display_data"
    }
   ],
   "source": [
    "sns.barplot(data = data, x ='Pclass' , y = 'Survived')"
   ]
  },
  {
   "cell_type": "markdown",
   "id": "00431696-d4bc-4c43-a7f6-03772e0e4c98",
   "metadata": {},
   "source": [
    "### 성별 X 선실 등급별 생존율"
   ]
  },
  {
   "cell_type": "code",
   "execution_count": 12,
   "id": "baacae5e-45b7-414a-8436-50d32e0006b9",
   "metadata": {},
   "outputs": [
    {
     "data": {
      "text/plain": [
       "<AxesSubplot:xlabel='Pclass', ylabel='Survived'>"
      ]
     },
     "execution_count": 12,
     "metadata": {},
     "output_type": "execute_result"
    },
    {
     "data": {
      "image/png": "[encoded data removed]",
      "text/plain": [
       "<Figure size 640x480 with 1 Axes>"
      ]
     },
     "metadata": {},
     "output_type": "display_data"
    }
   ],
   "source": [
    "sns.barplot(data = data, x = 'Pclass', y = 'Survived', hue = 'Sex')"
   ]
  },
  {
   "cell_type": "markdown",
   "id": "cd4b4ef3-bca3-4103-9cee-0034152fab0c",
   "metadata": {},
   "source": [
    "### 연령대에 따른 생존율"
   ]
  },
  {
   "cell_type": "code",
   "execution_count": 13,
   "id": "b1f0977e-3aa8-4450-b7dd-9fa84b9c56f6",
   "metadata": {},
   "outputs": [
    {
     "name": "stdout",
     "output_type": "stream",
     "text": [
      "29.699118    177\n",
      "24.000000     30\n",
      "22.000000     27\n",
      "18.000000     26\n",
      "28.000000     25\n",
      "            ... \n",
      "36.500000      1\n",
      "55.500000      1\n",
      "0.920000       1\n",
      "23.500000      1\n",
      "74.000000      1\n",
      "Name: Age, Length: 89, dtype: int64\n"
     ]
    }
   ],
   "source": [
    "# 나이 데이터 살펴보기\n",
    "print(data['Age'].value_counts())"
   ]
  },
  {
   "cell_type": "code",
   "execution_count": 14,
   "id": "d0a53b36-bcf5-48d4-b90d-54d1c9913556",
   "metadata": {},
   "outputs": [],
   "source": [
    "# 나이 데이터 그룹으로 묶을 수 있도록 함수 선언\n",
    "\n",
    "def get_category(age):\n",
    "    cat = ''\n",
    "    if age <= -1: cat = 'Unknown'\n",
    "    elif age <= 5 : cat = 'Baby'\n",
    "    elif age <= 12: cat = 'Child'\n",
    "    elif age <= 18 : cat = 'Teenager'\n",
    "    elif age <= 25 : cat = 'Student'\n",
    "    elif age <= 35 : cat = 'Young Adult'\n",
    "    elif age <= 60 : cat = 'Adult'\n",
    "    else : cat = 'Elderly'\n",
    "    return cat"
   ]
  },
  {
   "cell_type": "code",
   "execution_count": 15,
   "id": "471f6f96-ea5b-4568-8a74-11b4d974ac4e",
   "metadata": {},
   "outputs": [
    {
     "data": {
      "text/html": [
       "<div>\n",
       "<style scoped>\n",
       "    .dataframe tbody tr th:only-of-type {\n",
       "        vertical-align: middle;\n",
       "    }\n",
       "\n",
       "    .dataframe tbody tr th {\n",
       "        vertical-align: top;\n",
       "    }\n",
       "\n",
       "    .dataframe thead th {\n",
       "        text-align: right;\n",
       "    }\n",
       "</style>\n",
       "<table border=\"1\" class=\"dataframe\">\n",
       "  <thead>\n",
       "    <tr style=\"text-align: right;\">\n",
       "      <th></th>\n",
       "      <th>PassengerId</th>\n",
       "      <th>Survived</th>\n",
       "      <th>Pclass</th>\n",
       "      <th>Name</th>\n",
       "      <th>Sex</th>\n",
       "      <th>Age</th>\n",
       "      <th>SibSp</th>\n",
       "      <th>Parch</th>\n",
       "      <th>Ticket</th>\n",
       "      <th>Fare</th>\n",
       "      <th>Cabin</th>\n",
       "      <th>Embarked</th>\n",
       "      <th>Age_CAT</th>\n",
       "    </tr>\n",
       "  </thead>\n",
       "  <tbody>\n",
       "    <tr>\n",
       "      <th>0</th>\n",
       "      <td>1</td>\n",
       "      <td>0</td>\n",
       "      <td>3</td>\n",
       "      <td>Braund, Mr. Owen Harris</td>\n",
       "      <td>male</td>\n",
       "      <td>22.000000</td>\n",
       "      <td>1</td>\n",
       "      <td>0</td>\n",
       "      <td>A/5 21171</td>\n",
       "      <td>7.2500</td>\n",
       "      <td>N</td>\n",
       "      <td>S</td>\n",
       "      <td>Student</td>\n",
       "    </tr>\n",
       "    <tr>\n",
       "      <th>1</th>\n",
       "      <td>2</td>\n",
       "      <td>1</td>\n",
       "      <td>1</td>\n",
       "      <td>Cumings, Mrs. John Bradley (Florence Briggs Th...</td>\n",
       "      <td>female</td>\n",
       "      <td>38.000000</td>\n",
       "      <td>1</td>\n",
       "      <td>0</td>\n",
       "      <td>PC 17599</td>\n",
       "      <td>71.2833</td>\n",
       "      <td>C</td>\n",
       "      <td>C</td>\n",
       "      <td>Adult</td>\n",
       "    </tr>\n",
       "    <tr>\n",
       "      <th>2</th>\n",
       "      <td>3</td>\n",
       "      <td>1</td>\n",
       "      <td>3</td>\n",
       "      <td>Heikkinen, Miss. Laina</td>\n",
       "      <td>female</td>\n",
       "      <td>26.000000</td>\n",
       "      <td>0</td>\n",
       "      <td>0</td>\n",
       "      <td>STON/O2. 3101282</td>\n",
       "      <td>7.9250</td>\n",
       "      <td>N</td>\n",
       "      <td>S</td>\n",
       "      <td>Young Adult</td>\n",
       "    </tr>\n",
       "    <tr>\n",
       "      <th>3</th>\n",
       "      <td>4</td>\n",
       "      <td>1</td>\n",
       "      <td>1</td>\n",
       "      <td>Futrelle, Mrs. Jacques Heath (Lily May Peel)</td>\n",
       "      <td>female</td>\n",
       "      <td>35.000000</td>\n",
       "      <td>1</td>\n",
       "      <td>0</td>\n",
       "      <td>113803</td>\n",
       "      <td>53.1000</td>\n",
       "      <td>C</td>\n",
       "      <td>S</td>\n",
       "      <td>Young Adult</td>\n",
       "    </tr>\n",
       "    <tr>\n",
       "      <th>4</th>\n",
       "      <td>5</td>\n",
       "      <td>0</td>\n",
       "      <td>3</td>\n",
       "      <td>Allen, Mr. William Henry</td>\n",
       "      <td>male</td>\n",
       "      <td>35.000000</td>\n",
       "      <td>0</td>\n",
       "      <td>0</td>\n",
       "      <td>373450</td>\n",
       "      <td>8.0500</td>\n",
       "      <td>N</td>\n",
       "      <td>S</td>\n",
       "      <td>Young Adult</td>\n",
       "    </tr>\n",
       "    <tr>\n",
       "      <th>...</th>\n",
       "      <td>...</td>\n",
       "      <td>...</td>\n",
       "      <td>...</td>\n",
       "      <td>...</td>\n",
       "      <td>...</td>\n",
       "      <td>...</td>\n",
       "      <td>...</td>\n",
       "      <td>...</td>\n",
       "      <td>...</td>\n",
       "      <td>...</td>\n",
       "      <td>...</td>\n",
       "      <td>...</td>\n",
       "      <td>...</td>\n",
       "    </tr>\n",
       "    <tr>\n",
       "      <th>886</th>\n",
       "      <td>887</td>\n",
       "      <td>0</td>\n",
       "      <td>2</td>\n",
       "      <td>Montvila, Rev. Juozas</td>\n",
       "      <td>male</td>\n",
       "      <td>27.000000</td>\n",
       "      <td>0</td>\n",
       "      <td>0</td>\n",
       "      <td>211536</td>\n",
       "      <td>13.0000</td>\n",
       "      <td>N</td>\n",
       "      <td>S</td>\n",
       "      <td>Young Adult</td>\n",
       "    </tr>\n",
       "    <tr>\n",
       "      <th>887</th>\n",
       "      <td>888</td>\n",
       "      <td>1</td>\n",
       "      <td>1</td>\n",
       "      <td>Graham, Miss. Margaret Edith</td>\n",
       "      <td>female</td>\n",
       "      <td>19.000000</td>\n",
       "      <td>0</td>\n",
       "      <td>0</td>\n",
       "      <td>112053</td>\n",
       "      <td>30.0000</td>\n",
       "      <td>B</td>\n",
       "      <td>S</td>\n",
       "      <td>Student</td>\n",
       "    </tr>\n",
       "    <tr>\n",
       "      <th>888</th>\n",
       "      <td>889</td>\n",
       "      <td>0</td>\n",
       "      <td>3</td>\n",
       "      <td>Johnston, Miss. Catherine Helen \"Carrie\"</td>\n",
       "      <td>female</td>\n",
       "      <td>29.699118</td>\n",
       "      <td>1</td>\n",
       "      <td>2</td>\n",
       "      <td>W./C. 6607</td>\n",
       "      <td>23.4500</td>\n",
       "      <td>N</td>\n",
       "      <td>S</td>\n",
       "      <td>Young Adult</td>\n",
       "    </tr>\n",
       "    <tr>\n",
       "      <th>889</th>\n",
       "      <td>890</td>\n",
       "      <td>1</td>\n",
       "      <td>1</td>\n",
       "      <td>Behr, Mr. Karl Howell</td>\n",
       "      <td>male</td>\n",
       "      <td>26.000000</td>\n",
       "      <td>0</td>\n",
       "      <td>0</td>\n",
       "      <td>111369</td>\n",
       "      <td>30.0000</td>\n",
       "      <td>C</td>\n",
       "      <td>C</td>\n",
       "      <td>Young Adult</td>\n",
       "    </tr>\n",
       "    <tr>\n",
       "      <th>890</th>\n",
       "      <td>891</td>\n",
       "      <td>0</td>\n",
       "      <td>3</td>\n",
       "      <td>Dooley, Mr. Patrick</td>\n",
       "      <td>male</td>\n",
       "      <td>32.000000</td>\n",
       "      <td>0</td>\n",
       "      <td>0</td>\n",
       "      <td>370376</td>\n",
       "      <td>7.7500</td>\n",
       "      <td>N</td>\n",
       "      <td>Q</td>\n",
       "      <td>Young Adult</td>\n",
       "    </tr>\n",
       "  </tbody>\n",
       "</table>\n",
       "<p>891 rows × 13 columns</p>\n",
       "</div>"
      ],
      "text/plain": [
       "     PassengerId  Survived  Pclass  \\\n",
       "0              1         0       3   \n",
       "1              2         1       1   \n",
       "2              3         1       3   \n",
       "3              4         1       1   \n",
       "4              5         0       3   \n",
       "..           ...       ...     ...   \n",
       "886          887         0       2   \n",
       "887          888         1       1   \n",
       "888          889         0       3   \n",
       "889          890         1       1   \n",
       "890          891         0       3   \n",
       "\n",
       "                                                  Name     Sex        Age  \\\n",
       "0                              Braund, Mr. Owen Harris    male  22.000000   \n",
       "1    Cumings, Mrs. John Bradley (Florence Briggs Th...  female  38.000000   \n",
       "2                               Heikkinen, Miss. Laina  female  26.000000   \n",
       "3         Futrelle, Mrs. Jacques Heath (Lily May Peel)  female  35.000000   \n",
       "4                             Allen, Mr. William Henry    male  35.000000   \n",
       "..                                                 ...     ...        ...   \n",
       "886                              Montvila, Rev. Juozas    male  27.000000   \n",
       "887                       Graham, Miss. Margaret Edith  female  19.000000   \n",
       "888           Johnston, Miss. Catherine Helen \"Carrie\"  female  29.699118   \n",
       "889                              Behr, Mr. Karl Howell    male  26.000000   \n",
       "890                                Dooley, Mr. Patrick    male  32.000000   \n",
       "\n",
       "     SibSp  Parch            Ticket     Fare Cabin Embarked      Age_CAT  \n",
       "0        1      0         A/5 21171   7.2500     N        S      Student  \n",
       "1        1      0          PC 17599  71.2833     C        C        Adult  \n",
       "2        0      0  STON/O2. 3101282   7.9250     N        S  Young Adult  \n",
       "3        1      0            113803  53.1000     C        S  Young Adult  \n",
       "4        0      0            373450   8.0500     N        S  Young Adult  \n",
       "..     ...    ...               ...      ...   ...      ...          ...  \n",
       "886      0      0            211536  13.0000     N        S  Young Adult  \n",
       "887      0      0            112053  30.0000     B        S      Student  \n",
       "888      1      2        W./C. 6607  23.4500     N        S  Young Adult  \n",
       "889      0      0            111369  30.0000     C        C  Young Adult  \n",
       "890      0      0            370376   7.7500     N        Q  Young Adult  \n",
       "\n",
       "[891 rows x 13 columns]"
      ]
     },
     "execution_count": 15,
     "metadata": {},
     "output_type": "execute_result"
    }
   ],
   "source": [
    "data['Age_CAT'] = data['Age'].apply(lambda x : get_category(x))\n",
    "data"
   ]
  },
  {
   "cell_type": "code",
   "execution_count": 16,
   "id": "4a7ef69c-fa58-4815-9558-5aa24fc0bf89",
   "metadata": {},
   "outputs": [
    {
     "data": {
      "text/plain": [
       "<AxesSubplot:xlabel='Age_CAT', ylabel='Survived'>"
      ]
     },
     "execution_count": 16,
     "metadata": {},
     "output_type": "execute_result"
    },
    {
     "data": {
      "image/png": "[encoded data removed]",
      "text/plain": [
       "<Figure size 640x480 with 1 Axes>"
      ]
     },
     "metadata": {},
     "output_type": "display_data"
    }
   ],
   "source": [
    "# 시각화\n",
    "# 원하는 순서(어린 -> 나이 많은)로 노출\n",
    "\n",
    "sns.barplot(data = data, x = 'Age_CAT', y = 'Survived',\n",
    "            order=['Baby', 'Child', 'Teenager', 'Student', 'Young Adult', 'Adult', 'Elderly'])"
   ]
  },
  {
   "cell_type": "markdown",
   "id": "02c993fe-7cd6-4d32-b266-5adb4dab8660",
   "metadata": {},
   "source": [
    "### 연령대 X 성별 생존율"
   ]
  },
  {
   "cell_type": "code",
   "execution_count": 17,
   "id": "04273119-02be-49d0-a1ab-0f80b5402816",
   "metadata": {},
   "outputs": [
    {
     "data": {
      "text/plain": [
       "<AxesSubplot:xlabel='Age_CAT', ylabel='Survived'>"
      ]
     },
     "execution_count": 17,
     "metadata": {},
     "output_type": "execute_result"
    },
    {
     "data": {
      "image/png": "[encoded data removed]",
      "text/plain": [
       "<Figure size 640x480 with 1 Axes>"
      ]
     },
     "metadata": {},
     "output_type": "display_data"
    }
   ],
   "source": [
    "# 시각화\n",
    "# 성별 X 나이대 별 생존율\n",
    "\n",
    "sns.barplot(data = data, x = 'Age_CAT', y = 'Survived',\n",
    "            order=['Baby', 'Child', 'Teenager', 'Student', 'Young Adult', 'Adult', 'Elderly'],\n",
    "            hue='Sex')"
   ]
  },
  {
   "cell_type": "markdown",
   "id": "32123f2a-4fd9-43cb-b90e-378596b623eb",
   "metadata": {},
   "source": [
    "## 데이터 인코딩"
   ]
  },
  {
   "cell_type": "markdown",
   "id": "28c79e1d-3c95-45e6-8067-138159319ca8",
   "metadata": {},
   "source": [
    "### 인코딩이 필요한 데이터가 무엇인지 탐색"
   ]
  },
  {
   "cell_type": "code",
   "execution_count": 18,
   "id": "48379dfd-4dc4-4357-b189-907c09c8fe31",
   "metadata": {},
   "outputs": [
    {
     "name": "stdout",
     "output_type": "stream",
     "text": [
      "<class 'pandas.core.frame.DataFrame'>\n",
      "RangeIndex: 891 entries, 0 to 890\n",
      "Data columns (total 13 columns):\n",
      " #   Column       Non-Null Count  Dtype  \n",
      "---  ------       --------------  -----  \n",
      " 0   PassengerId  891 non-null    int64  \n",
      " 1   Survived     891 non-null    int64  \n",
      " 2   Pclass       891 non-null    int64  \n",
      " 3   Name         891 non-null    object \n",
      " 4   Sex          891 non-null    object \n",
      " 5   Age          891 non-null    float64\n",
      " 6   SibSp        891 non-null    int64  \n",
      " 7   Parch        891 non-null    int64  \n",
      " 8   Ticket       891 non-null    object \n",
      " 9   Fare         891 non-null    float64\n",
      " 10  Cabin        891 non-null    object \n",
      " 11  Embarked     891 non-null    object \n",
      " 12  Age_CAT      891 non-null    object \n",
      "dtypes: float64(2), int64(5), object(6)\n",
      "memory usage: 90.6+ KB\n",
      "None\n",
      "N    687\n",
      "C     59\n",
      "B     47\n",
      "D     33\n",
      "E     32\n",
      "A     15\n",
      "F     13\n",
      "G      4\n",
      "T      1\n",
      "Name: Cabin, dtype: int64\n",
      "male      577\n",
      "female    314\n",
      "Name: Sex, dtype: int64\n",
      "347082      7\n",
      "CA. 2343    7\n",
      "1601        7\n",
      "3101295     6\n",
      "CA 2144     6\n",
      "           ..\n",
      "9234        1\n",
      "19988       1\n",
      "2693        1\n",
      "PC 17612    1\n",
      "370376      1\n",
      "Name: Ticket, Length: 681, dtype: int64\n"
     ]
    }
   ],
   "source": [
    "print(data.info())\n",
    "print(data['Cabin'].value_counts())\n",
    "print(data['Sex'].value_counts())\n",
    "print(data['Ticket'].value_counts())"
   ]
  },
  {
   "cell_type": "markdown",
   "id": "61443357-2134-44ca-b2e3-a9075803be1b",
   "metadata": {},
   "source": [
    "### 데이터 인코딩 함수 만들기"
   ]
  },
  {
   "cell_type": "code",
   "execution_count": 19,
   "id": "26b7dc34-ab85-46a6-8f24-17ff5a17a785",
   "metadata": {},
   "outputs": [],
   "source": [
    "# 인코딩 라이브러리 import와 인코딩 함수 생성\n",
    "from sklearn.preprocessing import LabelEncoder"
   ]
  },
  {
   "cell_type": "code",
   "execution_count": 20,
   "id": "b40b8697-ea86-4cb1-9a95-7e38e224fbf7",
   "metadata": {},
   "outputs": [],
   "source": [
    "# 인코딩 함수 선언\n",
    "def encode_features(dataDF):\n",
    "    features=['Sex', 'Cabin', 'Embarked']\n",
    "    for feature in features:\n",
    "        le = LabelEncoder()\n",
    "        dataDF[feature] = le.fit_transform(dataDF[feature])\n",
    "        \n",
    "        print(le.classes_)\n",
    "        \n",
    "    return dataDF"
   ]
  },
  {
   "cell_type": "code",
   "execution_count": 21,
   "id": "764da6d1-8e50-4add-9a9f-6339b8a24be2",
   "metadata": {},
   "outputs": [
    {
     "name": "stdout",
     "output_type": "stream",
     "text": [
      "['female' 'male']\n",
      "['A' 'B' 'C' 'D' 'E' 'F' 'G' 'N' 'T']\n",
      "['C' 'N' 'Q' 'S']\n"
     ]
    },
    {
     "data": {
      "text/html": [
       "<div>\n",
       "<style scoped>\n",
       "    .dataframe tbody tr th:only-of-type {\n",
       "        vertical-align: middle;\n",
       "    }\n",
       "\n",
       "    .dataframe tbody tr th {\n",
       "        vertical-align: top;\n",
       "    }\n",
       "\n",
       "    .dataframe thead th {\n",
       "        text-align: right;\n",
       "    }\n",
       "</style>\n",
       "<table border=\"1\" class=\"dataframe\">\n",
       "  <thead>\n",
       "    <tr style=\"text-align: right;\">\n",
       "      <th></th>\n",
       "      <th>PassengerId</th>\n",
       "      <th>Survived</th>\n",
       "      <th>Pclass</th>\n",
       "      <th>Name</th>\n",
       "      <th>Sex</th>\n",
       "      <th>Age</th>\n",
       "      <th>SibSp</th>\n",
       "      <th>Parch</th>\n",
       "      <th>Ticket</th>\n",
       "      <th>Fare</th>\n",
       "      <th>Cabin</th>\n",
       "      <th>Embarked</th>\n",
       "      <th>Age_CAT</th>\n",
       "    </tr>\n",
       "  </thead>\n",
       "  <tbody>\n",
       "    <tr>\n",
       "      <th>0</th>\n",
       "      <td>1</td>\n",
       "      <td>0</td>\n",
       "      <td>3</td>\n",
       "      <td>Braund, Mr. Owen Harris</td>\n",
       "      <td>1</td>\n",
       "      <td>22.0</td>\n",
       "      <td>1</td>\n",
       "      <td>0</td>\n",
       "      <td>A/5 21171</td>\n",
       "      <td>7.2500</td>\n",
       "      <td>7</td>\n",
       "      <td>3</td>\n",
       "      <td>Student</td>\n",
       "    </tr>\n",
       "    <tr>\n",
       "      <th>1</th>\n",
       "      <td>2</td>\n",
       "      <td>1</td>\n",
       "      <td>1</td>\n",
       "      <td>Cumings, Mrs. John Bradley (Florence Briggs Th...</td>\n",
       "      <td>0</td>\n",
       "      <td>38.0</td>\n",
       "      <td>1</td>\n",
       "      <td>0</td>\n",
       "      <td>PC 17599</td>\n",
       "      <td>71.2833</td>\n",
       "      <td>2</td>\n",
       "      <td>0</td>\n",
       "      <td>Adult</td>\n",
       "    </tr>\n",
       "  </tbody>\n",
       "</table>\n",
       "</div>"
      ],
      "text/plain": [
       "   PassengerId  Survived  Pclass  \\\n",
       "0            1         0       3   \n",
       "1            2         1       1   \n",
       "\n",
       "                                                Name  Sex   Age  SibSp  Parch  \\\n",
       "0                            Braund, Mr. Owen Harris    1  22.0      1      0   \n",
       "1  Cumings, Mrs. John Bradley (Florence Briggs Th...    0  38.0      1      0   \n",
       "\n",
       "      Ticket     Fare  Cabin  Embarked  Age_CAT  \n",
       "0  A/5 21171   7.2500      7         3  Student  \n",
       "1   PC 17599  71.2833      2         0    Adult  "
      ]
     },
     "execution_count": 21,
     "metadata": {},
     "output_type": "execute_result"
    }
   ],
   "source": [
    "# 인코딩 진행\n",
    "\n",
    "data_encoded = encode_features(data)\n",
    "data_encoded.head(2)"
   ]
  },
  {
   "cell_type": "markdown",
   "id": "b019728c-15ba-4060-b4f8-1ffebf1b7dae",
   "metadata": {},
   "source": [
    "### 데이터 결측치 해결 함수 작성"
   ]
  },
  {
   "cell_type": "code",
   "execution_count": 27,
   "id": "b9a9fed9-4f79-45ee-8f1c-02a3c4fd2363",
   "metadata": {},
   "outputs": [],
   "source": [
    "def fillna(data):\n",
    "    data['Age'].fillna(data['Age'].mean(), inplace = True)\n",
    "    data['Cabin'].fillna('N', inplace = True)\n",
    "    data['Embarked'].fillna('N', inplace = True)\n",
    "    data['Fare'].fillna(0, inplace = True)\n",
    "    return data"
   ]
  },
  {
   "cell_type": "markdown",
   "id": "5eb5287f-4b50-4a5f-bef6-36feaa940cbf",
   "metadata": {},
   "source": [
    "### 데이터 간소화 함수 작성"
   ]
  },
  {
   "cell_type": "code",
   "execution_count": 29,
   "id": "78788b80-fd0c-4f3b-919a-2f74983afe4a",
   "metadata": {},
   "outputs": [],
   "source": [
    "def format_features(data):\n",
    "    from sklearn.preprocessing import LabelEncoder\n",
    "    data['Cabin'] = data['Cabin'].str[:1]\n",
    "    features = ['Sex', 'Cabin', 'Embarked']\n",
    "    for feature in features :\n",
    "        le = LabelEncoder()\n",
    "        data[feature] = le.fit_transform(data[feature])\n",
    "        print(le.classes_)\n",
    "    return data"
   ]
  },
  {
   "cell_type": "code",
   "execution_count": 24,
   "id": "175bddd6-edb7-477c-8c99-3d943308e649",
   "metadata": {},
   "outputs": [],
   "source": [
    "def drop_features(data):\n",
    "    data.drop(['PassengerId', 'Name', 'Ticket'], axis=1, inplace=True)\n",
    "    return data"
   ]
  },
  {
   "cell_type": "code",
   "execution_count": 25,
   "id": "876fe456-2b4a-4094-8e06-c8d775ecc3ec",
   "metadata": {},
   "outputs": [],
   "source": [
    "def transform_features(data):\n",
    "    data = fillna(data)\n",
    "    data = drop_features(data)\n",
    "    data = format_features(data)\n",
    "    return data"
   ]
  },
  {
   "cell_type": "markdown",
   "id": "2f649d05-5fe2-4798-9b04-a9bdaada3528",
   "metadata": {},
   "source": [
    "### 데이터 인코딩 적용"
   ]
  },
  {
   "cell_type": "code",
   "execution_count": 32,
   "id": "9aa7b14a-e16c-4c51-8c40-6c6a370227f0",
   "metadata": {},
   "outputs": [
    {
     "name": "stdout",
     "output_type": "stream",
     "text": [
      "['female' 'male']\n",
      "['A' 'B' 'C' 'D' 'E' 'F' 'G' 'N' 'T']\n",
      "['C' 'N' 'Q' 'S']\n"
     ]
    },
    {
     "data": {
      "text/html": [
       "<div>\n",
       "<style scoped>\n",
       "    .dataframe tbody tr th:only-of-type {\n",
       "        vertical-align: middle;\n",
       "    }\n",
       "\n",
       "    .dataframe tbody tr th {\n",
       "        vertical-align: top;\n",
       "    }\n",
       "\n",
       "    .dataframe thead th {\n",
       "        text-align: right;\n",
       "    }\n",
       "</style>\n",
       "<table border=\"1\" class=\"dataframe\">\n",
       "  <thead>\n",
       "    <tr style=\"text-align: right;\">\n",
       "      <th></th>\n",
       "      <th>Pclass</th>\n",
       "      <th>Sex</th>\n",
       "      <th>Age</th>\n",
       "      <th>SibSp</th>\n",
       "      <th>Parch</th>\n",
       "      <th>Fare</th>\n",
       "      <th>Cabin</th>\n",
       "      <th>Embarked</th>\n",
       "    </tr>\n",
       "  </thead>\n",
       "  <tbody>\n",
       "    <tr>\n",
       "      <th>0</th>\n",
       "      <td>3</td>\n",
       "      <td>1</td>\n",
       "      <td>22.0</td>\n",
       "      <td>1</td>\n",
       "      <td>0</td>\n",
       "      <td>7.2500</td>\n",
       "      <td>7</td>\n",
       "      <td>3</td>\n",
       "    </tr>\n",
       "    <tr>\n",
       "      <th>1</th>\n",
       "      <td>1</td>\n",
       "      <td>0</td>\n",
       "      <td>38.0</td>\n",
       "      <td>1</td>\n",
       "      <td>0</td>\n",
       "      <td>71.2833</td>\n",
       "      <td>2</td>\n",
       "      <td>0</td>\n",
       "    </tr>\n",
       "  </tbody>\n",
       "</table>\n",
       "</div>"
      ],
      "text/plain": [
       "   Pclass  Sex   Age  SibSp  Parch     Fare  Cabin  Embarked\n",
       "0       3    1  22.0      1      0   7.2500      7         3\n",
       "1       1    0  38.0      1      0  71.2833      2         0"
      ]
     },
     "execution_count": 32,
     "metadata": {},
     "output_type": "execute_result"
    }
   ],
   "source": [
    "data = pd.read_csv('titanic.csv')\n",
    "y = data['Survived']\n",
    "X = data.drop(columns=['Survived'])\n",
    "X = transform_features(X)\n",
    "\n",
    "X.head(2)"
   ]
  },
  {
   "cell_type": "markdown",
   "id": "7b02b81d-5d21-40ec-8ca7-6e07483d5280",
   "metadata": {},
   "source": [
    "## 데이터셋 나누기 : 훈련, 테스트"
   ]
  },
  {
   "cell_type": "code",
   "execution_count": null,
   "id": "2c051735-0c6d-410b-8ef6-c103891d5f16",
   "metadata": {},
   "outputs": [],
   "source": [
    "# 라이브러리 import\n",
    "from sklearn.model_selection import train_test_split"
   ]
  },
  {
   "cell_type": "code",
   "execution_count": null,
   "id": "2ed7179e-98c5-4636-bd08-1d74530dd1e4",
   "metadata": {},
   "outputs": [],
   "source": [
    "# 테스트 셋 나누기\n",
    "X_train, X_test, y_train, y_test = train_test_split(X, y, test_size = 0.2, random_state=11)"
   ]
  },
  {
   "cell_type": "code",
   "execution_count": 58,
   "id": "b2926581-c1a8-44da-8999-cd690f134af0",
   "metadata": {},
   "outputs": [],
   "source": [
    "# 라이브러리 import\n",
    "from sklearn.tree import DecisionTreeClassifier       # 의사결정나무 모델\n",
    "from sklearn.ensemble import RandomForestClassifier   # 랜덤포레스트 모델\n",
    "from sklearn.linear_model import LogisticRegression  # 로지스틱 회귀 모델\n",
    "from sklearn.metrics import accuracy_score            # 모델 평가"
   ]
  },
  {
   "cell_type": "markdown",
   "id": "f8d18cb5-4c97-4d19-b2ba-658a6dbf8b4f",
   "metadata": {},
   "source": [
    "## 데이터 머신러닝 모델"
   ]
  },
  {
   "cell_type": "code",
   "execution_count": 59,
   "id": "33eb89dd-58c1-426b-b6d2-b202ae874670",
   "metadata": {},
   "outputs": [],
   "source": [
    "dt_clf = DecisionTreeClassifier(random_state=11)\n",
    "rf_clf = RandomForestClassifier(random_state=11)\n",
    "lr_clf = LogisticRegression(solver='liblinear')"
   ]
  },
  {
   "cell_type": "markdown",
   "id": "43c12805-c5b0-4ba6-a6b6-c4b46be2ec90",
   "metadata": {},
   "source": [
    "### Decision Tree 모델"
   ]
  },
  {
   "cell_type": "code",
   "execution_count": 60,
   "id": "64a1063d-4c0d-4670-845b-86097045cff5",
   "metadata": {},
   "outputs": [
    {
     "data": {
      "text/plain": [
       "0.7877094972067039"
      ]
     },
     "execution_count": 60,
     "metadata": {},
     "output_type": "execute_result"
    }
   ],
   "source": [
    "dt_clf.fit(X_train, y_train)     # 학습 시키기\n",
    "dt_pred = dt_clf.predict(X_test) # 예측 값 구하기\n",
    "accuracy_score(y_test, dt_pred)  # 모델 평가"
   ]
  },
  {
   "cell_type": "markdown",
   "id": "eca01aa6-b892-4c23-b94d-8be8cadac718",
   "metadata": {},
   "source": [
    "### Random Forest 모델 "
   ]
  },
  {
   "cell_type": "code",
   "execution_count": 63,
   "id": "31a2d2ad-20a5-406d-b6eb-9036e217dfff",
   "metadata": {},
   "outputs": [
    {
     "data": {
      "text/plain": [
       "0.8547486033519553"
      ]
     },
     "execution_count": 63,
     "metadata": {},
     "output_type": "execute_result"
    }
   ],
   "source": [
    "rf_clf.fit(X_train, y_train)     # 학습 시키기\n",
    "rf_pred = rf_clf.predict(X_test) # 예측 값 구하기\n",
    "accuracy_score(y_test, rf_pred)  # 모델 평가"
   ]
  },
  {
   "cell_type": "markdown",
   "id": "e860b4a7-fa5e-4f3e-b903-cfdf999fd95d",
   "metadata": {},
   "source": [
    "### Logistic Regression 모델"
   ]
  },
  {
   "cell_type": "code",
   "execution_count": 64,
   "id": "0dd87388-c3aa-430b-88ed-393c4d69a7f0",
   "metadata": {},
   "outputs": [
    {
     "data": {
      "text/plain": [
       "0.8659217877094972"
      ]
     },
     "execution_count": 64,
     "metadata": {},
     "output_type": "execute_result"
    }
   ],
   "source": [
    "lr_clf.fit(X_train, y_train)     # 학습 시키기\n",
    "lr_pred = lr_clf.predict(X_test) # 예측 값 구하기\n",
    "accuracy_score(y_test, lr_pred)  # 모델 평가"
   ]
  },
  {
   "cell_type": "markdown",
   "id": "3a734664-fc34-423c-b634-4ab9f86dd19b",
   "metadata": {},
   "source": [
    "## 검증"
   ]
  },
  {
   "cell_type": "markdown",
   "id": "de3e8bd1-fc58-49af-8836-c57c52c4dfff",
   "metadata": {},
   "source": [
    "### K-fold : 직접 해보기"
   ]
  },
  {
   "cell_type": "markdown",
   "id": "d62d94ca-4b2f-4916-95b3-bcb995939b8c",
   "metadata": {},
   "source": [
    "### GridSearchCV"
   ]
  },
  {
   "cell_type": "code",
   "execution_count": 67,
   "id": "f681693c-098e-4c52-94b7-8b85d6e5740a",
   "metadata": {},
   "outputs": [],
   "source": [
    "### GridSearchCV import와 세팅\n",
    "\n",
    "from sklearn.model_selection import GridSearchCV\n",
    "from sklearn.model_selection import train_test_split\n",
    "\n",
    "# Grid param 세팅\n",
    "param = {\n",
    "    'max_depth' : [2, 3, 5, 10],\n",
    "    'min_samples_split' : [2, 3, 5],\n",
    "    'min_samples_leaf' : [1, 5, 8]\n",
    "}"
   ]
  },
  {
   "cell_type": "code",
   "execution_count": 70,
   "id": "3cb042c1-a4eb-4548-ab82-1fccd9a1439e",
   "metadata": {},
   "outputs": [
    {
     "data": {
      "text/plain": [
       "GridSearchCV(cv=5, estimator=DecisionTreeClassifier(random_state=11),\n",
       "             param_grid={'max_depth': [2, 3, 5, 10],\n",
       "                         'min_samples_leaf': [1, 5, 8],\n",
       "                         'min_samples_split': [2, 3, 5]},\n",
       "             scoring='accuracy')"
      ]
     },
     "execution_count": 70,
     "metadata": {},
     "output_type": "execute_result"
    }
   ],
   "source": [
    "### Grid CV로 DecisionTree 모델 검증하기\n",
    "\n",
    "grid = GridSearchCV(dt_clf, param, cv=5, scoring='accuracy')\n",
    "grid.fit(X_train, y_train)  # 데이터셋 학습 시키기"
   ]
  },
  {
   "cell_type": "code",
   "execution_count": 71,
   "id": "9191a5b5-0b33-4abe-b074-c58fd387d4dd",
   "metadata": {},
   "outputs": [
    {
     "data": {
      "text/plain": [
       "0.8715083798882681"
      ]
     },
     "execution_count": 71,
     "metadata": {},
     "output_type": "execute_result"
    }
   ],
   "source": [
    "### Grid 로 검증한 정확도\n",
    "\n",
    "pred = grid.predict(X_test)\n",
    "accuracy_score(y_test, pred)"
   ]
  },
  {
   "cell_type": "code",
   "execution_count": 74,
   "id": "727592c0-7701-47c0-beef-2cf96b075a48",
   "metadata": {
    "collapsed": true,
    "jupyter": {
     "outputs_hidden": true
    },
    "tags": []
   },
   "outputs": [
    {
     "name": "stdout",
     "output_type": "stream",
     "text": [
      "== best param ==\n",
      "{'max_depth': 3, 'min_samples_leaf': 5, 'min_samples_split': 2}\n",
      "\n",
      "\n",
      "== best param ==\n",
      "{'mean_fit_time': array([0.00300088, 0.00180874, 0.00327654, 0.00289035, 0.00242901,\n",
      "       0.00187349, 0.00264592, 0.        , 0.0031271 , 0.00041237,\n",
      "       0.0031652 , 0.00101023, 0.        , 0.00113683, 0.00297379,\n",
      "       0.00365877, 0.        , 0.00312595, 0.        , 0.        ,\n",
      "       0.00329022, 0.00314403, 0.00312462, 0.00312414, 0.        ,\n",
      "       0.00352197, 0.        , 0.        , 0.        , 0.        ,\n",
      "       0.00625081, 0.00312271, 0.00311103, 0.00397105, 0.00496502,\n",
      "       0.00238976]), 'std_fit_time': array([6.34250434e-04, 4.03346391e-04, 1.62181199e-03, 1.56705769e-04,\n",
      "       8.28358514e-04, 7.80747265e-04, 7.07959077e-04, 0.00000000e+00,\n",
      "       6.25419617e-03, 8.24737549e-04, 6.94690085e-04, 1.54433143e-03,\n",
      "       0.00000000e+00, 1.39554526e-03, 6.31114632e-04, 6.10860776e-03,\n",
      "       0.00000000e+00, 6.25190735e-03, 0.00000000e+00, 0.00000000e+00,\n",
      "       6.58044815e-03, 6.28805161e-03, 6.24923706e-03, 6.24828339e-03,\n",
      "       0.00000000e+00, 6.09972005e-03, 0.00000000e+00, 0.00000000e+00,\n",
      "       0.00000000e+00, 0.00000000e+00, 7.65564938e-03, 6.24542236e-03,\n",
      "       6.22205734e-03, 6.04996323e-03, 3.12164132e-05, 1.00105797e-03]), 'mean_score_time': array([1.79471970e-03, 1.18904114e-03, 1.70736313e-03, 1.46055222e-03,\n",
      "       9.12904739e-04, 1.39284134e-03, 1.19791031e-03, 3.13892365e-03,\n",
      "       0.00000000e+00, 2.58903503e-03, 2.02102661e-03, 3.98874283e-04,\n",
      "       0.00000000e+00, 3.77941132e-03, 1.39541626e-03, 0.00000000e+00,\n",
      "       3.12271118e-03, 0.00000000e+00, 3.10864449e-03, 0.00000000e+00,\n",
      "       0.00000000e+00, 0.00000000e+00, 0.00000000e+00, 0.00000000e+00,\n",
      "       0.00000000e+00, 3.58104706e-04, 3.14259529e-03, 3.12337875e-03,\n",
      "       3.12495232e-03, 6.24818802e-03, 0.00000000e+00, 0.00000000e+00,\n",
      "       0.00000000e+00, 9.94682312e-05, 2.54197121e-03, 1.21068954e-03]), 'std_score_time': array([4.01772548e-04, 4.02923432e-04, 6.27166485e-04, 4.11305786e-04,\n",
      "       5.10673162e-04, 7.85239515e-04, 7.45757135e-04, 6.27784729e-03,\n",
      "       0.00000000e+00, 4.69522070e-03, 5.66887791e-05, 7.97748566e-04,\n",
      "       0.00000000e+00, 6.01197582e-03, 5.20720661e-04, 0.00000000e+00,\n",
      "       6.24542236e-03, 0.00000000e+00, 6.21728897e-03, 0.00000000e+00,\n",
      "       0.00000000e+00, 0.00000000e+00, 0.00000000e+00, 0.00000000e+00,\n",
      "       0.00000000e+00, 7.16209412e-04, 6.28519058e-03, 6.24675751e-03,\n",
      "       6.24990463e-03, 7.65243757e-03, 0.00000000e+00, 0.00000000e+00,\n",
      "       0.00000000e+00, 1.98936462e-04, 4.44777675e-04, 3.92240461e-04]), 'param_max_depth': masked_array(data=[2, 2, 2, 2, 2, 2, 2, 2, 2, 3, 3, 3, 3, 3, 3, 3, 3, 3,\n",
      "                   5, 5, 5, 5, 5, 5, 5, 5, 5, 10, 10, 10, 10, 10, 10, 10,\n",
      "                   10, 10],\n",
      "             mask=[False, False, False, False, False, False, False, False,\n",
      "                   False, False, False, False, False, False, False, False,\n",
      "                   False, False, False, False, False, False, False, False,\n",
      "                   False, False, False, False, False, False, False, False,\n",
      "                   False, False, False, False],\n",
      "       fill_value='?',\n",
      "            dtype=object), 'param_min_samples_leaf': masked_array(data=[1, 1, 1, 5, 5, 5, 8, 8, 8, 1, 1, 1, 5, 5, 5, 8, 8, 8,\n",
      "                   1, 1, 1, 5, 5, 5, 8, 8, 8, 1, 1, 1, 5, 5, 5, 8, 8, 8],\n",
      "             mask=[False, False, False, False, False, False, False, False,\n",
      "                   False, False, False, False, False, False, False, False,\n",
      "                   False, False, False, False, False, False, False, False,\n",
      "                   False, False, False, False, False, False, False, False,\n",
      "                   False, False, False, False],\n",
      "       fill_value='?',\n",
      "            dtype=object), 'param_min_samples_split': masked_array(data=[2, 3, 5, 2, 3, 5, 2, 3, 5, 2, 3, 5, 2, 3, 5, 2, 3, 5,\n",
      "                   2, 3, 5, 2, 3, 5, 2, 3, 5, 2, 3, 5, 2, 3, 5, 2, 3, 5],\n",
      "             mask=[False, False, False, False, False, False, False, False,\n",
      "                   False, False, False, False, False, False, False, False,\n",
      "                   False, False, False, False, False, False, False, False,\n",
      "                   False, False, False, False, False, False, False, False,\n",
      "                   False, False, False, False],\n",
      "       fill_value='?',\n",
      "            dtype=object), 'params': [{'max_depth': 2, 'min_samples_leaf': 1, 'min_samples_split': 2}, {'max_depth': 2, 'min_samples_leaf': 1, 'min_samples_split': 3}, {'max_depth': 2, 'min_samples_leaf': 1, 'min_samples_split': 5}, {'max_depth': 2, 'min_samples_leaf': 5, 'min_samples_split': 2}, {'max_depth': 2, 'min_samples_leaf': 5, 'min_samples_split': 3}, {'max_depth': 2, 'min_samples_leaf': 5, 'min_samples_split': 5}, {'max_depth': 2, 'min_samples_leaf': 8, 'min_samples_split': 2}, {'max_depth': 2, 'min_samples_leaf': 8, 'min_samples_split': 3}, {'max_depth': 2, 'min_samples_leaf': 8, 'min_samples_split': 5}, {'max_depth': 3, 'min_samples_leaf': 1, 'min_samples_split': 2}, {'max_depth': 3, 'min_samples_leaf': 1, 'min_samples_split': 3}, {'max_depth': 3, 'min_samples_leaf': 1, 'min_samples_split': 5}, {'max_depth': 3, 'min_samples_leaf': 5, 'min_samples_split': 2}, {'max_depth': 3, 'min_samples_leaf': 5, 'min_samples_split': 3}, {'max_depth': 3, 'min_samples_leaf': 5, 'min_samples_split': 5}, {'max_depth': 3, 'min_samples_leaf': 8, 'min_samples_split': 2}, {'max_depth': 3, 'min_samples_leaf': 8, 'min_samples_split': 3}, {'max_depth': 3, 'min_samples_leaf': 8, 'min_samples_split': 5}, {'max_depth': 5, 'min_samples_leaf': 1, 'min_samples_split': 2}, {'max_depth': 5, 'min_samples_leaf': 1, 'min_samples_split': 3}, {'max_depth': 5, 'min_samples_leaf': 1, 'min_samples_split': 5}, {'max_depth': 5, 'min_samples_leaf': 5, 'min_samples_split': 2}, {'max_depth': 5, 'min_samples_leaf': 5, 'min_samples_split': 3}, {'max_depth': 5, 'min_samples_leaf': 5, 'min_samples_split': 5}, {'max_depth': 5, 'min_samples_leaf': 8, 'min_samples_split': 2}, {'max_depth': 5, 'min_samples_leaf': 8, 'min_samples_split': 3}, {'max_depth': 5, 'min_samples_leaf': 8, 'min_samples_split': 5}, {'max_depth': 10, 'min_samples_leaf': 1, 'min_samples_split': 2}, {'max_depth': 10, 'min_samples_leaf': 1, 'min_samples_split': 3}, {'max_depth': 10, 'min_samples_leaf': 1, 'min_samples_split': 5}, {'max_depth': 10, 'min_samples_leaf': 5, 'min_samples_split': 2}, {'max_depth': 10, 'min_samples_leaf': 5, 'min_samples_split': 3}, {'max_depth': 10, 'min_samples_leaf': 5, 'min_samples_split': 5}, {'max_depth': 10, 'min_samples_leaf': 8, 'min_samples_split': 2}, {'max_depth': 10, 'min_samples_leaf': 8, 'min_samples_split': 3}, {'max_depth': 10, 'min_samples_leaf': 8, 'min_samples_split': 5}], 'split0_test_score': array([0.73426573, 0.73426573, 0.73426573, 0.73426573, 0.73426573,\n",
      "       0.73426573, 0.73426573, 0.73426573, 0.73426573, 0.79020979,\n",
      "       0.79020979, 0.79020979, 0.79020979, 0.79020979, 0.79020979,\n",
      "       0.79020979, 0.79020979, 0.79020979, 0.72727273, 0.72727273,\n",
      "       0.72727273, 0.72027972, 0.72027972, 0.72027972, 0.72727273,\n",
      "       0.72727273, 0.72727273, 0.76223776, 0.76223776, 0.76923077,\n",
      "       0.72727273, 0.72727273, 0.72727273, 0.74825175, 0.74825175,\n",
      "       0.74825175]), 'split1_test_score': array([0.76923077, 0.76923077, 0.76923077, 0.76923077, 0.76923077,\n",
      "       0.76923077, 0.76923077, 0.76923077, 0.76923077, 0.7972028 ,\n",
      "       0.7972028 , 0.7972028 , 0.79020979, 0.79020979, 0.79020979,\n",
      "       0.79020979, 0.79020979, 0.79020979, 0.78321678, 0.78321678,\n",
      "       0.77622378, 0.78321678, 0.78321678, 0.78321678, 0.8041958 ,\n",
      "       0.8041958 , 0.8041958 , 0.74125874, 0.73426573, 0.73426573,\n",
      "       0.72027972, 0.72027972, 0.72027972, 0.75524476, 0.75524476,\n",
      "       0.75524476]), 'split2_test_score': array([0.75352113, 0.75352113, 0.75352113, 0.75352113, 0.75352113,\n",
      "       0.75352113, 0.75352113, 0.75352113, 0.75352113, 0.83098592,\n",
      "       0.83098592, 0.83098592, 0.83098592, 0.83098592, 0.83098592,\n",
      "       0.82394366, 0.82394366, 0.82394366, 0.8028169 , 0.82394366,\n",
      "       0.83802817, 0.83802817, 0.83802817, 0.83802817, 0.82394366,\n",
      "       0.82394366, 0.82394366, 0.81690141, 0.81690141, 0.81690141,\n",
      "       0.83802817, 0.83802817, 0.83802817, 0.83802817, 0.83802817,\n",
      "       0.83802817]), 'split3_test_score': array([0.78873239, 0.78873239, 0.78873239, 0.78873239, 0.78873239,\n",
      "       0.78873239, 0.78873239, 0.78873239, 0.78873239, 0.8028169 ,\n",
      "       0.8028169 , 0.8028169 , 0.8028169 , 0.8028169 , 0.8028169 ,\n",
      "       0.8028169 , 0.8028169 , 0.8028169 , 0.8028169 , 0.8028169 ,\n",
      "       0.8028169 , 0.81690141, 0.81690141, 0.81690141, 0.81690141,\n",
      "       0.81690141, 0.81690141, 0.81690141, 0.83098592, 0.83098592,\n",
      "       0.85915493, 0.85915493, 0.85915493, 0.83098592, 0.83098592,\n",
      "       0.83098592]), 'split4_test_score': array([0.74647887, 0.74647887, 0.74647887, 0.74647887, 0.74647887,\n",
      "       0.74647887, 0.74647887, 0.74647887, 0.74647887, 0.77464789,\n",
      "       0.77464789, 0.77464789, 0.78169014, 0.78169014, 0.78169014,\n",
      "       0.73239437, 0.73239437, 0.73239437, 0.78873239, 0.78169014,\n",
      "       0.78169014, 0.78873239, 0.78873239, 0.78873239, 0.77464789,\n",
      "       0.77464789, 0.77464789, 0.74647887, 0.76760563, 0.76760563,\n",
      "       0.78873239, 0.78873239, 0.78873239, 0.77464789, 0.77464789,\n",
      "       0.77464789]), 'mean_test_score': array([0.75844578, 0.75844578, 0.75844578, 0.75844578, 0.75844578,\n",
      "       0.75844578, 0.75844578, 0.75844578, 0.75844578, 0.79917266,\n",
      "       0.79917266, 0.79917266, 0.79918251, 0.79918251, 0.79918251,\n",
      "       0.7879149 , 0.7879149 , 0.7879149 , 0.78097114, 0.78378804,\n",
      "       0.78520634, 0.7894317 , 0.7894317 , 0.7894317 , 0.7893923 ,\n",
      "       0.7893923 , 0.7893923 , 0.77675564, 0.78239929, 0.78379789,\n",
      "       0.78669359, 0.78669359, 0.78669359, 0.7894317 , 0.7894317 ,\n",
      "       0.7894317 ]), 'std_test_score': array([0.0188983 , 0.0188983 , 0.0188983 , 0.0188983 , 0.0188983 ,\n",
      "       0.0188983 , 0.0188983 , 0.0188983 , 0.0188983 , 0.01849887,\n",
      "       0.01849887, 0.01849887, 0.01727233, 0.01727233, 0.01727233,\n",
      "       0.030375  , 0.030375  , 0.030375  , 0.0279402 , 0.03216607,\n",
      "       0.0361929 , 0.03984297, 0.03984297, 0.03984297, 0.03534383,\n",
      "       0.03534383, 0.03534383, 0.0334988 , 0.03603675, 0.03535641,\n",
      "       0.05627021, 0.05627021, 0.05627021, 0.03787206, 0.03787206,\n",
      "       0.03787206]), 'rank_test_score': array([28, 28, 28, 28, 28, 28, 28, 28, 28,  4,  4,  4,  1,  1,  1, 16, 16,\n",
      "       16, 26, 24, 22,  7,  7,  7, 13, 13, 13, 27, 25, 23, 19, 19, 19,  7,\n",
      "        7,  7])}\n",
      "\n",
      "\n"
     ]
    }
   ],
   "source": [
    "print(\"== best param ==\")\n",
    "print(grid.best_params_) # 가장 성능이 좋았을 때의 파라미터 값\n",
    "print(\"\\n\")\n",
    "\n",
    "print(\"== best param ==\")\n",
    "print(grid.cv_results_) # result\n",
    "print(\"\\n\")"
   ]
  }
 ],
 "metadata": {
  "kernelspec": {
   "display_name": "Python 3 (ipykernel)",
   "language": "python",
   "name": "python3"
  },
  "language_info": {
   "codemirror_mode": {
    "name": "ipython",
    "version": 3
   },
   "file_extension": ".py",
   "mimetype": "text/x-python",
   "name": "python",
   "nbconvert_exporter": "python",
   "pygments_lexer": "ipython3",
   "version": "3.9.13"
  }
 },
 "nbformat": 4,
 "nbformat_minor": 5
}
