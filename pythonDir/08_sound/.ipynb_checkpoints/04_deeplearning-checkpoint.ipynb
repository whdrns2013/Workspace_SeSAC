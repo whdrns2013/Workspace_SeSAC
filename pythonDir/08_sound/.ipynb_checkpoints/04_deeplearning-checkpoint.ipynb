{
 "cells": [
  {
   "cell_type": "markdown",
   "id": "cf77a972-8bcf-44dc-aa40-a097eb45328b",
   "metadata": {},
   "source": [
    "# 논문들"
   ]
  },
  {
   "cell_type": "markdown",
   "id": "03393da3-b609-4e28-9207-935a71b2fe10",
   "metadata": {},
   "source": [
    "## 타코트론"
   ]
  },
  {
   "cell_type": "markdown",
   "id": "2ebf7adb-27b4-42c1-8ef2-2c438a0a87b3",
   "metadata": {},
   "source": [
    "## 타코트론2"
   ]
  },
  {
   "cell_type": "code",
   "execution_count": null,
   "id": "0438d99a-ad36-4b69-abed-35459c0c86c3",
   "metadata": {},
   "outputs": [],
   "source": [
    "Nc : https://nc-ai.github.io/speech/publications/vocgan/index.html"
   ]
  }
 ],
 "metadata": {
  "kernelspec": {
   "display_name": "Python 3 (ipykernel)",
   "language": "python",
   "name": "python3"
  },
  "language_info": {
   "codemirror_mode": {
    "name": "ipython",
    "version": 3
   },
   "file_extension": ".py",
   "mimetype": "text/x-python",
   "name": "python",
   "nbconvert_exporter": "python",
   "pygments_lexer": "ipython3",
   "version": "3.8.15"
  }
 },
 "nbformat": 4,
 "nbformat_minor": 5
}
