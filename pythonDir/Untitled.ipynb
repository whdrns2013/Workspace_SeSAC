{
 "cells": [
  {
   "cell_type": "code",
   "execution_count": null,
   "id": "1e173d3b-80bf-46b0-aa6c-93cb910c0127",
   "metadata": {},
   "outputs": [],
   "source": [
    "# 선 그리기"
   ]
  },
  {
   "cell_type": "code",
   "execution_count": 1,
   "id": "80ccd987-f738-4144-8a27-44d8b0766c26",
   "metadata": {},
   "outputs": [
    {
     "data": {
      "text/plain": [
       "100"
      ]
     },
     "execution_count": 1,
     "metadata": {},
     "output_type": "execute_result"
    }
   ],
   "source": [
    "import numpy as np\n",
    "import cv2\n",
    "\n",
    "# create a black image\n",
    "img = np.zeros((500, 500, 3), dtype=np.uint8)\n",
    "\n",
    "# draw a line\n",
    "# cv2.line(원본 이미지, (x시작점, y시작점), (x끝점, y끝점), (b, g, r), thickness-pixel)\n",
    "cv2.line(img, (100, 0), (500, 500), (255, 0, 0), 5)\n",
    "cv2.line(img, (50, 250), (450, 0), (0, 0, 255), 5)\n",
    "\n",
    "cv2.imshow('img', img)\n",
    "cv2.waitKey()"
   ]
  },
  {
   "cell_type": "code",
   "execution_count": 1,
   "id": "00029d93-e2a3-4973-b148-047e58fe5ce7",
   "metadata": {},
   "outputs": [],
   "source": [
    "# 사각형 그리기"
   ]
  },
  {
   "cell_type": "code",
   "execution_count": null,
   "id": "4e3423fd-a4e6-496d-945f-6f20e67dff75",
   "metadata": {},
   "outputs": [],
   "source": [
    "import numpy as np\n",
    "import cv2\n",
    "\n",
    "img = np.zeros((500, 500, 3), dtype=np.uint8)\n",
    "\n",
    "# draw a rectangle\n",
    "# cv2.rectangle(img, (point1_x, point1_y), (point2_x, point2_y), (b, g, r), thickness-pixel)\n",
    "# thickness 는 선 두께이며, -1을 주면 채우기가 된다 (가장 큰)\n",
    "cv2.rectangle(img, (40, 40), (150, 150), (255, 0, 0), 5)\n",
    "cv2.rectangle(img, (120, 120), (200, 200), (0, 0, 255), 5)\n",
    "cv2.rectangle(img, (300, 300), (400, 400), (0, 255, 0), -1)\n",
    "\n",
    "cv2.imshow('img', img)\n",
    "cv2.waitKey()"
   ]
  },
  {
   "cell_type": "code",
   "execution_count": 2,
   "id": "63d15c99-115a-4758-954a-f9eae5976c1e",
   "metadata": {},
   "outputs": [],
   "source": [
    "# 원 그리기"
   ]
  },
  {
   "cell_type": "code",
   "execution_count": 3,
   "id": "e58d8f7c-a55b-42c3-8c92-199ef36c9d91",
   "metadata": {},
   "outputs": [
    {
     "data": {
      "text/plain": [
       "100"
      ]
     },
     "execution_count": 3,
     "metadata": {},
     "output_type": "execute_result"
    }
   ],
   "source": [
    "import numpy as np\n",
    "import cv2\n",
    "\n",
    "img = np.zeros((500, 500, 3), dtype=np.uint8)\n",
    "\n",
    "# draw a circle\n",
    "# cv2.circle(img, (center_x, center_y), radius, (b, g, r), thickness-pixel)\n",
    "cv2.circle(img, (250, 250), 50, (255, 0, 0), -1)\n",
    "cv2.circle(img, (300, 300), 100, (0, 0, 255), 0)\n",
    "cv2.circle(img, (100, 100), 40, (0, 255, 0), 1)\n",
    "cv2.circle(img, (100, 400), 70, (255, 255, 255), 10)\n",
    "\n",
    "cv2.imshow('img', img)\n",
    "cv2.waitKey()"
   ]
  },
  {
   "cell_type": "code",
   "execution_count": 1,
   "id": "0fde45c7-d06b-498e-917e-a3b131f8e53c",
   "metadata": {},
   "outputs": [],
   "source": [
    "# 호 그리기"
   ]
  },
  {
   "cell_type": "code",
   "execution_count": 9,
   "id": "5dc4af80-e646-4c64-aa77-7df1ec210e57",
   "metadata": {},
   "outputs": [
    {
     "data": {
      "text/plain": [
       "100"
      ]
     },
     "execution_count": 9,
     "metadata": {},
     "output_type": "execute_result"
    }
   ],
   "source": [
    "import numpy as np\n",
    "import cv2\n",
    "\n",
    "img = np.zeros((500, 500, 3), dtype=np.uint8)\n",
    "\n",
    "# cv2.ellipse(img, (center_x, center_y), (axes_width, axes_height), angle, startAngle, endAngle, (b, g, r), thickness)\n",
    "# img, 호의 중심점, 호의 크기, 시작angle, angle시작점, angle끝점, clolor, 두께)\n",
    "# 시작 angle 은 ndarray의 자료 흐름에 맞게 생각해야 한다. 그림 참조.\n",
    "cv2.ellipse(img, (250, 250), (100, 50), 0, 0, 180, 255, -1)\n",
    "cv2.ellipse(img, (100, 100), (30, 30), 10, 50, 180, (0, 0, 255), 10)\n",
    "cv2.ellipse(img, (400, 400), (100, 100), 45, 0, 180, (0, 255, 0), 10)\n",
    "\n",
    "cv2.imshow('img', img)\n",
    "cv2.waitKey()"
   ]
  },
  {
   "cell_type": "code",
   "execution_count": null,
   "id": "74d9d999-427a-4fed-9538-460f6ed1fbe8",
   "metadata": {},
   "outputs": [],
   "source": [
    "# 호 설명 그림 그리기"
   ]
  },
  {
   "cell_type": "code",
   "execution_count": 25,
   "id": "52cc80a6-7be6-4e5c-9517-3b646e7e3be1",
   "metadata": {},
   "outputs": [
    {
     "data": {
      "text/plain": [
       "71"
      ]
     },
     "execution_count": 25,
     "metadata": {},
     "output_type": "execute_result"
    }
   ],
   "source": [
    "import numpy as np\n",
    "import cv2\n",
    "\n",
    "img = np.zeros((500, 500, 3), dtype=np.uint8)\n",
    "\n",
    "cv2.ellipse(img, (250, 250), (100, 100), 0, 0, 45, (255, 0, 0), -1)\n",
    "cv2.ellipse(img, (250, 250), (100, 100), 45, 0, 180, (0, 150, 150), -1)\n",
    "\n",
    "cv2.line(img, (250, 250), (500, 250), (255, 255, 255), 3)\n",
    "cv2.line(img, (250, 250), (250, 500), (255, 255, 255), 3)\n",
    "\n",
    "cv2.line(img, (250, 250), (110, 110), (150, 150, 150), 3)\n",
    "cv2.line(img, (250, 250), (390, 390), (150, 150, 150), 3)\n",
    "\n",
    "cv2.circle(img, (250, 250), 4, (0, 0, 255), -1)\n",
    "\n",
    "cv2.ellipse(img, (250, 250), (200, 200), 45, 0, 180, (0, 255, 0), 10)\n",
    "\n",
    "cv2.imshow('img', img)\n",
    "cv2.waitKey()"
   ]
  },
  {
   "cell_type": "code",
   "execution_count": 1,
   "id": "241cf316-5478-48b6-8dc6-a50abe5c1e19",
   "metadata": {},
   "outputs": [],
   "source": [
    "# 다각형 그리기"
   ]
  },
  {
   "cell_type": "code",
   "execution_count": 5,
   "id": "eddbcad3-0b5e-41fe-8ee5-56cf902d4b90",
   "metadata": {},
   "outputs": [
    {
     "data": {
      "text/plain": [
       "100"
      ]
     },
     "execution_count": 5,
     "metadata": {},
     "output_type": "execute_result"
    }
   ],
   "source": [
    "import numpy as np\n",
    "import cv2\n",
    "\n",
    "img = np.zeros((500, 500, 3), dtype=np.uint8)\n",
    "\n",
    "pts1 = np.array([[110, 50], [200, 300], [470, 420], [450, 110]], np.int32)\n",
    "pts1 = pts1.reshape((-1, 1, 2))\n",
    "\n",
    "pts2 = np.array([[50, 50], [50, 400], [400, 400]], np.int32)\n",
    "pts2 = pts2.reshape(-1, 1, 2)\n",
    "\n",
    "cv2.polylines(img, [pts1], True, (255, 0, 0), 10)\n",
    "cv2.polylines(img, [pts2], True, (0, 0, 250), 10)\n",
    "\n",
    "cv2.imshow('img', img)\n",
    "cv2.waitKey()"
   ]
  },
  {
   "cell_type": "code",
   "execution_count": 1,
   "id": "fb29455b-99ab-4abd-a3ff-c1cebf56ecc2",
   "metadata": {},
   "outputs": [],
   "source": [
    "# 다각형 그리기 (속이 채워진)"
   ]
  },
  {
   "cell_type": "code",
   "execution_count": 6,
   "id": "a9fb135b-d074-41f6-9fed-16bdffdbc383",
   "metadata": {},
   "outputs": [
    {
     "data": {
      "text/plain": [
       "100"
      ]
     },
     "execution_count": 6,
     "metadata": {},
     "output_type": "execute_result"
    }
   ],
   "source": [
    "import numpy as np\n",
    "import cv2\n",
    "\n",
    "img = np.zeros((500, 500, 3), dtype=np.uint8)\n",
    "\n",
    "pts1 = np.array([[110, 50], [200, 300], [470, 420], [450, 110]], np.int32)\n",
    "pts1 = pts1.reshape((-1, 1, 2))\n",
    "\n",
    "pts2 = np.array([[50, 50], [50, 400], [400, 400]], np.int32)\n",
    "pts2 = pts2.reshape(-1, 1, 2)\n",
    "\n",
    "cv2.fillPoly(img, [pts1], (255, 0, 0), 0)\n",
    "cv2.fillPoly(img, [pts2], (0, 0, 250), 0)\n",
    "\n",
    "cv2.imshow('img', img)\n",
    "cv2.waitKey()"
   ]
  },
  {
   "cell_type": "code",
   "execution_count": 1,
   "id": "a434bc0c-4c64-48e7-9e06-675ffa2fd846",
   "metadata": {},
   "outputs": [],
   "source": [
    "# 텍스트 추가하기"
   ]
  },
  {
   "cell_type": "code",
   "execution_count": null,
   "id": "a7c82b6f-83f7-4267-95f4-7c3d1cd64514",
   "metadata": {},
   "outputs": [],
   "source": []
  },
  {
   "cell_type": "code",
   "execution_count": null,
   "id": "735ceb4f-8dd8-46b3-8938-db8417447d08",
   "metadata": {},
   "outputs": [],
   "source": [
    "# 객체 추적 경로 그리기\n",
    "\n",
    "# bounding_box : 객체가 검출된 바운딩박스의 [x1, y1] [x2, y2] 좌표\n",
    "# bounding_box_list : 객체가 검출된 바운딩박스 리스트"
   ]
  },
  {
   "cell_type": "code",
   "execution_count": 1,
   "id": "ba79b4a9-c53c-4963-a5eb-95626f28a136",
   "metadata": {},
   "outputs": [
    {
     "data": {
      "text/plain": [
       "115"
      ]
     },
     "execution_count": 1,
     "metadata": {},
     "output_type": "execute_result"
    }
   ],
   "source": [
    "import numpy as np\n",
    "import cv2\n",
    "\n",
    "img = np.zeros((500, 500, 3), dtype=np.uint8)\n",
    "\n",
    "bounding_box_list = [[[0, 100], [100, 200]],\n",
    "                     [[50, 150], [150, 250]],\n",
    "                     [[75, 175], [175, 275]],\n",
    "                     [[100, 100], [200, 200]],\n",
    "                     [[150, 120], [250, 220]],\n",
    "                     [[200, 150], [300, 250]],\n",
    "                     [[240, 170], [340, 270]],\n",
    "                     [[240, 200], [340, 300]],\n",
    "                     [[200, 250], [300, 350]],\n",
    "                     [[250, 250], [350, 350]],\n",
    "                     [[260, 300], [360, 400]],\n",
    "                     [[280, 350], [380, 450]],\n",
    "                     [[300, 400], [400, 500]]]\n",
    "\n",
    "cv2.line(img, (0, 160), (500, 160), (100, 100, 100), 5)\n",
    "cv2.line(img, (0, 320), (500, 320), (100, 100, 100), 5)\n",
    "\n",
    "for i, bounding_box in enumerate(bounding_box_list):\n",
    "    cv2.rectangle(img, (bounding_box[0][0], bounding_box[0][1]), (bounding_box[1][0], bounding_box[1][1]),\n",
    "                  (255, 0, 0), 5)\n",
    "\n",
    "for i, bounding_box in enumerate(bounding_box_list):\n",
    "    point_x = int((bounding_box[0][0] + bounding_box[1][0])/2)\n",
    "    point_y = max(bounding_box[0][1], bounding_box[1][1])\n",
    "    \n",
    "    try:\n",
    "        cv2.line(img, (point_x, point_y), (old_x, old_y), (255, 255, 255), 3)\n",
    "    except:\n",
    "        pass\n",
    "    \n",
    "    old_x = point_x\n",
    "    old_y = point_y\n",
    "\n",
    "for i, bounding_box in enumerate(bounding_box_list):\n",
    "    if i == 0:\n",
    "        cv2.circle(img, (int((bounding_box[0][0] + bounding_box[1][0])/2), max(bounding_box[0][1], bounding_box[1][1])), 7, (0, 255, 255), 3)\n",
    "    if i == (len(bounding_box_list)-1):\n",
    "        cv2.circle(img, (int((bounding_box[0][0] + bounding_box[1][0])/2), max(bounding_box[0][1], bounding_box[1][1])), 7, (255, 255, 0), 3)\n",
    "    else:\n",
    "        cv2.circle(img, (int((bounding_box[0][0] + bounding_box[1][0])/2), max(bounding_box[0][1], bounding_box[1][1])), 3, (0, 0, 255), 3)\n",
    "\n",
    "cv2.imshow('img', img)\n",
    "cv2.waitKey()"
   ]
  },
  {
   "cell_type": "code",
   "execution_count": 19,
   "id": "cd530cd0-dd03-42bd-b759-6ba5d85d35c3",
   "metadata": {},
   "outputs": [
    {
     "name": "stdout",
     "output_type": "stream",
     "text": [
      "(3024, 4032, 3)\n"
     ]
    },
    {
     "data": {
      "text/plain": [
       "27"
      ]
     },
     "execution_count": 19,
     "metadata": {},
     "output_type": "execute_result"
    }
   ],
   "source": [
    "import numpy as np\n",
    "import cv2\n",
    "\n",
    "img = cv2.imread(\"/Users/jongya/Desktop/IMG_5326.JPG\")\n",
    "print(img.shape)\n",
    "\n",
    "cv2.circle(img, (int(4032/2), 1590), 3, (0, 0, 255), 3)\n",
    "cv2.line(img, (0, 1590), (4032, 1590), (0, 0, 255), 3)\n",
    "cv2.circle(img, (int(4032/2), int(3024/2)), 3, (255, 0, 0), 3)\n",
    "cv2.line(img, (0, int(3024/2)), (4032, int(3024/2)), (255, 0, 0), 3)\n",
    "cv2.line(img, (0, int(1440)), (4032, int(1440)), (255, 255, 255), 3)\n",
    "\n",
    "cv2.imshow('img', img)\n",
    "cv2.waitKey()"
   ]
  },
  {
   "cell_type": "code",
   "execution_count": null,
   "id": "850bdbf1-81f0-4353-bfee-d18a483464b1",
   "metadata": {},
   "outputs": [],
   "source": [
    "# y : 3024 \n",
    "# 중앙값 : 1590\n",
    "# 비율 : 52.58% (위에서부터)\n",
    "-- 중앙으로부터 2.58%"
   ]
  },
  {
   "cell_type": "code",
   "execution_count": 1,
   "id": "36d25808-c68d-4b49-b9bd-9c7bb8ee0ca5",
   "metadata": {},
   "outputs": [
    {
     "data": {
      "text/plain": [
       "(100, 500, 3)"
      ]
     },
     "execution_count": 1,
     "metadata": {},
     "output_type": "execute_result"
    }
   ],
   "source": [
    "import numpy as np\n",
    "import cv2\n",
    "\n",
    "img = np.zeros((100, 500, 3), dtype=np.uint8)\n",
    "\n",
    "img.shape\n",
    "\n",
    "# cv2.imshow('img', img)\n",
    "# cv2.waitKey()"
   ]
  },
  {
   "cell_type": "code",
   "execution_count": 1,
   "id": "e7651688-f976-4703-9d45-8068907d749d",
   "metadata": {},
   "outputs": [
    {
     "data": {
      "text/plain": [
       "116"
      ]
     },
     "execution_count": 1,
     "metadata": {},
     "output_type": "execute_result"
    }
   ],
   "source": [
    "import numpy as np\n",
    "import cv2\n",
    "\n",
    "img = np.zeros((100, 500, 3), dtype=np.uint8)\n",
    "dr = np.copy(img).astype(np.uint8)\n",
    "\n",
    "dr = cv2.rectangle(dr, (0, int(img.shape[0]/2)), (img.shape[1], img.shape[0]), (0, 0, 255), -1)\n",
    "\n",
    "img = cv2.addWeighted(img, 1.0, dr, 0.1, 50)\n",
    "\n",
    "cv2.imshow('img', img)\n",
    "cv2.waitKey()"
   ]
  },
  {
   "cell_type": "code",
   "execution_count": 6,
   "id": "4d57498e-a685-4c8e-bd14-6a5dc4c0cd4b",
   "metadata": {},
   "outputs": [
    {
     "data": {
      "text/plain": [
       "50.0"
      ]
     },
     "execution_count": 6,
     "metadata": {},
     "output_type": "execute_result"
    }
   ],
   "source": [
    "dr.shape[0] * 0.5"
   ]
  },
  {
   "cell_type": "code",
   "execution_count": 1,
   "id": "b7de43ed-d1e5-4752-84ea-641a8f16da14",
   "metadata": {},
   "outputs": [
    {
     "name": "stdin",
     "output_type": "stream",
     "text": [
      "danger_range_ratio 입력 : [0.0 - 1.0] 0.4\n"
     ]
    }
   ],
   "source": [
    "# (1) 탐지 되지 않는 쇼잉 화면 보여주기 코드 만들기 -> 율이형님 요청\n",
    "# (2) 파란 눈금선 좌측으로 이동\n",
    "\n",
    "import numpy as np\n",
    "import cv2\n",
    "\n",
    "capture = cv2.VideoCapture(0)\n",
    "\n",
    "w = capture.get(cv2.CAP_PROP_FRAME_WIDTH)\n",
    "h = capture.get(cv2.CAP_PROP_FRAME_HEIGHT)\n",
    "\n",
    "danger_range_ratio = float(input(\"danger_range_ratio 입력 : [0.0 - 1.0]\"))\n",
    "danger_range_ratio = 1.0 - danger_range_ratio\n",
    "\n",
    "while True:\n",
    "    ret, frame = capture.read()    \n",
    "   \n",
    "    danger_range_img = np.zeros((frame.shape[0], frame.shape[1], 3), dtype=np.uint8)\n",
    "    cv2.rectangle(danger_range_img, (0,int(h*danger_range_ratio)), (int(w), int(h)), (0, 0, 255), -1)\n",
    "    \n",
    "    cv2.line(frame, (int(w/2), 0), (int(w/2), int(h)), (255, 255, 255), 3)\n",
    "    cv2.line(frame, (0, int(h/2)), (int(w), int(h/2)), (255, 255, 255), 3)\n",
    "    \n",
    "    for i in range(11):\n",
    "        recog = int(frame.shape[0]/10)\n",
    "        cv2.line(frame, (0, recog*i), (int(w/20), recog*i), (255, 0, 0), 3)\n",
    "        cv2.line(frame, (int(w), recog*i), (int(w) - int(w/20), recog*i), (255, 0, 0), 3)\n",
    "    \n",
    "    frame = cv2.addWeighted(frame, 1.0, danger_range_img, 0.2, 0.0)\n",
    "    \n",
    "    cv2.imshow('cam', frame)\n",
    "    if cv2.waitKey(30) == ord('q'):\n",
    "        break\n",
    "\n",
    "cv2.destroyAllWindows()"
   ]
  },
  {
   "cell_type": "code",
   "execution_count": 4,
   "id": "c8bbf98a-4fb6-462c-bcff-85a3ae51d5f2",
   "metadata": {},
   "outputs": [
    {
     "data": {
      "text/plain": [
       "array([[1., 2., 3., 4., 5., 6.]])"
      ]
     },
     "execution_count": 4,
     "metadata": {},
     "output_type": "execute_result"
    }
   ],
   "source": [
    "import numpy as np\n",
    "\n",
    "det_to_sort = np.empty((0,6))\n",
    "add_1 = np.array([1, 2, 3, 4, 5, 6])\n",
    "det_to_sort = np.vstack((det_to_sort, add_1))\n",
    "\n",
    "det_to_sort"
   ]
  },
  {
   "cell_type": "code",
   "execution_count": 5,
   "id": "6a130fab-3d56-4849-be7c-21f2fc273e14",
   "metadata": {},
   "outputs": [
    {
     "name": "stdout",
     "output_type": "stream",
     "text": [
      "1679743123.067217\n",
      "1679743128.069358\n"
     ]
    }
   ],
   "source": [
    "import datetime\n",
    "import time\n",
    "\n",
    "print(datetime.datetime.now().timestamp())\n",
    "\n",
    "time.sleep(5)\n",
    "\n",
    "print(datetime.datetime.now().timestamp())\n"
   ]
  },
  {
   "cell_type": "code",
   "execution_count": null,
   "id": "aaa1ea2a-5506-4052-ac17-a0c1d11e8582",
   "metadata": {},
   "outputs": [],
   "source": []
  }
 ],
 "metadata": {
  "kernelspec": {
   "display_name": "Python 3 (ipykernel)",
   "language": "python",
   "name": "python3"
  },
  "language_info": {
   "codemirror_mode": {
    "name": "ipython",
    "version": 3
   },
   "file_extension": ".py",
   "mimetype": "text/x-python",
   "name": "python",
   "nbconvert_exporter": "python",
   "pygments_lexer": "ipython3",
   "version": "3.8.16"
  }
 },
 "nbformat": 4,
 "nbformat_minor": 5
}
