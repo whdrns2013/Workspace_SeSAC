{
 "cells": [
  {
   "cell_type": "code",
   "execution_count": 1,
   "id": "907da5aa-c3a8-48c9-9546-9ec74e496fa6",
   "metadata": {},
   "outputs": [],
   "source": [
    "from selenium import webdriver\n",
    "from selenium.webdriver.common.keys import Keys \n",
    "import time \n",
    "import urllib.request \n",
    "import os"
   ]
  },
  {
   "cell_type": "code",
   "execution_count": 2,
   "id": "1bdbf975-7181-46af-810b-1d12a9a32991",
   "metadata": {},
   "outputs": [],
   "source": [
    "search = \"banana\"   # 이미지 이름\n",
    "count = 100    # 크롤링할 이미지 개수\n",
    "saveurl = \"/data\"  # 이미지들을 저장할 폴더 주소"
   ]
  },
  {
   "cell_type": "code",
   "execution_count": 4,
   "id": "ea37d371-d63c-4755-bb10-9651b5526f3f",
   "metadata": {},
   "outputs": [
    {
     "ename": "AttributeError",
     "evalue": "'WebDriver' object has no attribute 'find_element_by_name'",
     "output_type": "error",
     "traceback": [
      "\u001b[1;31m---------------------------------------------------------------------------\u001b[0m",
      "\u001b[1;31mAttributeError\u001b[0m                            Traceback (most recent call last)",
      "\u001b[1;32m~\\AppData\\Local\\Temp\\ipykernel_15900\\4271805168.py\u001b[0m in \u001b[0;36m<module>\u001b[1;34m\u001b[0m\n\u001b[0;32m      7\u001b[0m \u001b[0mdriver\u001b[0m \u001b[1;33m=\u001b[0m \u001b[0mwebdriver\u001b[0m\u001b[1;33m.\u001b[0m\u001b[0mChrome\u001b[0m\u001b[1;33m(\u001b[0m\u001b[0moptions\u001b[0m\u001b[1;33m=\u001b[0m\u001b[0moptions\u001b[0m\u001b[1;33m)\u001b[0m  \u001b[1;31m#options=options\u001b[0m\u001b[1;33m\u001b[0m\u001b[1;33m\u001b[0m\u001b[0m\n\u001b[0;32m      8\u001b[0m \u001b[0mdriver\u001b[0m\u001b[1;33m.\u001b[0m\u001b[0mget\u001b[0m\u001b[1;33m(\u001b[0m\u001b[1;34m\"https://www.google.co.kr/imghp?hl=ko&tab=wi&ogbl\"\u001b[0m\u001b[1;33m)\u001b[0m\u001b[1;33m\u001b[0m\u001b[1;33m\u001b[0m\u001b[0m\n\u001b[1;32m----> 9\u001b[1;33m \u001b[0melem\u001b[0m \u001b[1;33m=\u001b[0m \u001b[0mdriver\u001b[0m\u001b[1;33m.\u001b[0m\u001b[0mfind_element_by_name\u001b[0m\u001b[1;33m(\u001b[0m\u001b[1;34m\"banana\"\u001b[0m\u001b[1;33m)\u001b[0m\u001b[1;33m\u001b[0m\u001b[1;33m\u001b[0m\u001b[0m\n\u001b[0m\u001b[0;32m     10\u001b[0m \u001b[0melem\u001b[0m\u001b[1;33m.\u001b[0m\u001b[0msend_keys\u001b[0m\u001b[1;33m(\u001b[0m\u001b[0msearch\u001b[0m\u001b[1;33m)\u001b[0m\u001b[1;33m\u001b[0m\u001b[1;33m\u001b[0m\u001b[0m\n\u001b[0;32m     11\u001b[0m \u001b[1;33m\u001b[0m\u001b[0m\n",
      "\u001b[1;31mAttributeError\u001b[0m: 'WebDriver' object has no attribute 'find_element_by_name'"
     ]
    }
   ],
   "source": [
    "## 셀레니움으로 구글 이미지 접속 후 이미지 검색\n",
    "\n",
    "options = webdriver.ChromeOptions()\n",
    "options.headless = True\n",
    "options.add_argument(\"window-size=1920x1080\")\n",
    "\n",
    "driver = webdriver.Chrome(options=options)  #options=options \n",
    "driver.get(\"https://www.google.co.kr/imghp?hl=ko&tab=wi&ogbl\") \n",
    "elem = driver.find_element_by_name(\"banana\") \n",
    "elem.send_keys(search)\n",
    "\n",
    "elem.send_keys(Keys.RETURN) "
   ]
  },
  {
   "cell_type": "code",
   "execution_count": null,
   "id": "50f4f70f-5237-4e96-a0fa-0ea51e2e16b1",
   "metadata": {},
   "outputs": [],
   "source": [
    "# 페이지 끝까지 스크롤 내리기 \n",
    "SCROLL_PAUSE_TIME = 1 \n",
    "# 스크롤 깊이 측정하기 \n",
    "last_height = driver.execute_script(\"return document.body.scrollHeight\") \n",
    "\n",
    "# 스크롤 끝까지 내리기 \n",
    "\n",
    "while True:  \n",
    "\n",
    "    driver.execute_script(\"window.scrollTo(0, document.body.scrollHeight);\") \n",
    "    # 페이지 로딩 기다리기 \n",
    "    time.sleep(SCROLL_PAUSE_TIME) \n",
    "    # 더 보기 요소 있을 경우 클릭하기 \n",
    "\n",
    "    new_height = driver.execute_script(\"return document.body.scrollHeight\") \n",
    "\n",
    "    if new_height == last_height: \n",
    "\n",
    "        try: \n",
    "            driver.find_element_by_css_selector(\".mye4qd\").click() \n",
    "\n",
    "        except: \n",
    "            break \n",
    "\n",
    "    last_height = new_height "
   ]
  },
  {
   "cell_type": "code",
   "execution_count": null,
   "id": "c8a4141c-f2e2-4449-8a7c-db8e9ac3de8d",
   "metadata": {},
   "outputs": [],
   "source": [
    "#이미지 찾고 다운받기\n",
    "images = driver.find_elements_by_css_selector(\".rg_i.Q4LuWd\")\n",
    "\n",
    "for i in range(count):\n",
    "\n",
    "    try: \n",
    "        images[i].click() # 이미지 클릭\n",
    "        time.sleep(1)\n",
    "\n",
    "        imgUrl = driver.find_element_by_css_selector(\".n3VNCb\").get_attribute(\"src\")\n",
    "        urllib.request.urlretrieve(imgUrl, saveurl + str(i) + \".jpg\")    # 이미지 다운\n",
    "\n",
    "    except:\n",
    "        pass\n",
    "driver.close()"
   ]
  },
  {
   "cell_type": "code",
   "execution_count": null,
   "id": "c159569c-fc1a-49f6-b18e-b08f07f9543f",
   "metadata": {},
   "outputs": [],
   "source": []
  },
  {
   "cell_type": "code",
   "execution_count": null,
   "id": "fd683a7d-90a8-4743-931d-fdb1afb50c98",
   "metadata": {},
   "outputs": [],
   "source": []
  },
  {
   "cell_type": "code",
   "execution_count": null,
   "id": "49bd5a3e-3e46-42ee-9ff4-a7d32bd3c7ab",
   "metadata": {},
   "outputs": [],
   "source": []
  },
  {
   "cell_type": "code",
   "execution_count": null,
   "id": "ecec6b1d-1470-41fa-a30c-3c7dd7ffca87",
   "metadata": {},
   "outputs": [],
   "source": []
  }
 ],
 "metadata": {
  "kernelspec": {
   "display_name": "Python 3 (ipykernel)",
   "language": "python",
   "name": "python3"
  },
  "language_info": {
   "codemirror_mode": {
    "name": "ipython",
    "version": 3
   },
   "file_extension": ".py",
   "mimetype": "text/x-python",
   "name": "python",
   "nbconvert_exporter": "python",
   "pygments_lexer": "ipython3",
   "version": "3.9.13"
  }
 },
 "nbformat": 4,
 "nbformat_minor": 5
}
