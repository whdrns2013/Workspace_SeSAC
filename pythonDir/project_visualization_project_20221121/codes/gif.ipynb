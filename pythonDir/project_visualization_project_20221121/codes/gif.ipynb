{
 "cells": [
  {
   "cell_type": "code",
   "execution_count": 18,
   "id": "a1465719-2087-4453-8015-9f0b1a83ae41",
   "metadata": {},
   "outputs": [],
   "source": [
    "from PIL import Image\n",
    "import imageio\n",
    "import os\n",
    "# path = [f\"./월별 지역별 PM10 농도/{i}\" for i in os.listdir(\"./월별 지역별 PM10 농도\")]\n",
    "# imgs = [ Image.open(i) for i in path]\n",
    "# imageio.mimsave('./월별 지역별 PM10 농도/test.gif', imgs, fps=1.0)\n",
    "\n",
    "path = [f\"./p25/{i}\" for i in os.listdir(\"./p25\")]\n",
    "imgs = [ Image.open(i) for i in path]\n",
    "imageio.mimsave('./p25/PM2.5M_2016.gif', imgs, fps=1.0)\n"
   ]
  },
  {
   "cell_type": "code",
   "execution_count": null,
   "id": "3327a2a8-3f81-4ccb-8eb9-ddd5bcb11928",
   "metadata": {},
   "outputs": [],
   "source": []
  }
 ],
 "metadata": {
  "kernelspec": {
   "display_name": "Python 3 (ipykernel)",
   "language": "python",
   "name": "python3"
  },
  "language_info": {
   "codemirror_mode": {
    "name": "ipython",
    "version": 3
   },
   "file_extension": ".py",
   "mimetype": "text/x-python",
   "name": "python",
   "nbconvert_exporter": "python",
   "pygments_lexer": "ipython3",
   "version": "3.9.13"
  }
 },
 "nbformat": 4,
 "nbformat_minor": 5
}
