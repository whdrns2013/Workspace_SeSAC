{
 "cells": [
  {
   "cell_type": "markdown",
   "metadata": {
    "toc": true
   },
   "source": [
    "<h1>Table of Contents<span class=\"tocSkip\"></span></h1>\n",
    "<div class=\"toc\"><ul class=\"toc-item\"><li><span><a href=\"#모듈-불러오기\" data-toc-modified-id=\"모듈-불러오기-1\"><span class=\"toc-item-num\">1&nbsp;&nbsp;</span>모듈 불러오기</a></span></li><li><span><a href=\"#시각화-함수\" data-toc-modified-id=\"시각화-함수-2\"><span class=\"toc-item-num\">2&nbsp;&nbsp;</span>시각화 함수</a></span></li><li><span><a href=\"#학습-데이터-경로-정의\" data-toc-modified-id=\"학습-데이터-경로-정의-3\"><span class=\"toc-item-num\">3&nbsp;&nbsp;</span>학습 데이터 경로 정의</a></span></li><li><span><a href=\"#랜덤-시드-고정\" data-toc-modified-id=\"랜덤-시드-고정-4\"><span class=\"toc-item-num\">4&nbsp;&nbsp;</span>랜덤 시드 고정</a></span></li><li><span><a href=\"#파일-로드\" data-toc-modified-id=\"파일-로드-5\"><span class=\"toc-item-num\">5&nbsp;&nbsp;</span>파일 로드</a></span></li><li><span><a href=\"#모델-하이퍼파라메터-정의\" data-toc-modified-id=\"모델-하이퍼파라메터-정의-6\"><span class=\"toc-item-num\">6&nbsp;&nbsp;</span>모델 하이퍼파라메터 정의</a></span></li><li><span><a href=\"#모델-선언-및-컴파일\" data-toc-modified-id=\"모델-선언-및-컴파일-7\"><span class=\"toc-item-num\">7&nbsp;&nbsp;</span>모델 선언 및 컴파일</a></span><ul class=\"toc-item\"><li><span><a href=\"#패딩-및-포워드-마스킹\" data-toc-modified-id=\"패딩-및-포워드-마스킹-7.1\"><span class=\"toc-item-num\">7.1&nbsp;&nbsp;</span>패딩 및 포워드 마스킹</a></span></li><li><span><a href=\"#포지셔널-인코딩\" data-toc-modified-id=\"포지셔널-인코딩-7.2\"><span class=\"toc-item-num\">7.2&nbsp;&nbsp;</span>포지셔널 인코딩</a></span></li><li><span><a href=\"#어텐션\" data-toc-modified-id=\"어텐션-7.3\"><span class=\"toc-item-num\">7.3&nbsp;&nbsp;</span>어텐션</a></span></li><li><span><a href=\"#멀티헤드-어텐션\" data-toc-modified-id=\"멀티헤드-어텐션-7.4\"><span class=\"toc-item-num\">7.4&nbsp;&nbsp;</span>멀티헤드 어텐션</a></span></li><li><span><a href=\"#포인트-와이즈-피드포워드-네트워크\" data-toc-modified-id=\"포인트-와이즈-피드포워드-네트워크-7.5\"><span class=\"toc-item-num\">7.5&nbsp;&nbsp;</span>포인트 와이즈 피드포워드 네트워크</a></span></li><li><span><a href=\"#인코더-레이어\" data-toc-modified-id=\"인코더-레이어-7.6\"><span class=\"toc-item-num\">7.6&nbsp;&nbsp;</span>인코더 레이어</a></span></li><li><span><a href=\"#디코더-레이어\" data-toc-modified-id=\"디코더-레이어-7.7\"><span class=\"toc-item-num\">7.7&nbsp;&nbsp;</span>디코더 레이어</a></span></li><li><span><a href=\"#인코더\" data-toc-modified-id=\"인코더-7.8\"><span class=\"toc-item-num\">7.8&nbsp;&nbsp;</span>인코더</a></span></li><li><span><a href=\"#디코더\" data-toc-modified-id=\"디코더-7.9\"><span class=\"toc-item-num\">7.9&nbsp;&nbsp;</span>디코더</a></span></li><li><span><a href=\"#트렌스포머-모델\" data-toc-modified-id=\"트렌스포머-모델-7.10\"><span class=\"toc-item-num\">7.10&nbsp;&nbsp;</span>트렌스포머 모델</a></span></li><li><span><a href=\"#모델-로스-정의\" data-toc-modified-id=\"모델-로스-정의-7.11\"><span class=\"toc-item-num\">7.11&nbsp;&nbsp;</span>모델 로스 정의</a></span></li></ul></li><li><span><a href=\"#Callback-선언\" data-toc-modified-id=\"Callback-선언-8\"><span class=\"toc-item-num\">8&nbsp;&nbsp;</span>Callback 선언</a></span></li><li><span><a href=\"#모델-학습\" data-toc-modified-id=\"모델-학습-9\"><span class=\"toc-item-num\">9&nbsp;&nbsp;</span>모델 학습</a></span></li><li><span><a href=\"#결과-플롯\" data-toc-modified-id=\"결과-플롯-10\"><span class=\"toc-item-num\">10&nbsp;&nbsp;</span>결과 플롯</a></span></li><li><span><a href=\"#베스트-모델-불러오기\" data-toc-modified-id=\"베스트-모델-불러오기-11\"><span class=\"toc-item-num\">11&nbsp;&nbsp;</span>베스트 모델 불러오기</a></span></li><li><span><a href=\"#모델-결과-출력하기\" data-toc-modified-id=\"모델-결과-출력하기-12\"><span class=\"toc-item-num\">12&nbsp;&nbsp;</span>모델 결과 출력하기</a></span></li></ul></div>"
   ]
  },
  {
   "cell_type": "markdown",
   "metadata": {},
   "source": [
    "# 모듈 불러오기"
   ]
  },
  {
   "cell_type": "code",
   "execution_count": 1,
   "metadata": {},
   "outputs": [],
   "source": [
    "import tensorflow as tf\n",
    "import numpy as np\n",
    "\n",
    "from konlpy.tag import Twitter\n",
    "import pandas as pd\n",
    "import tensorflow as tf\n",
    "import enum\n",
    "import os\n",
    "import re\n",
    "import json\n",
    "from sklearn.model_selection import train_test_split\n",
    "\n",
    "from tensorflow.keras.callbacks import EarlyStopping, ModelCheckpoint\n",
    "import matplotlib.pyplot as plt\n",
    "\n",
    "from preprocess import *"
   ]
  },
  {
   "cell_type": "markdown",
   "metadata": {},
   "source": [
    "# 시각화 함수"
   ]
  },
  {
   "cell_type": "code",
   "execution_count": 2,
   "metadata": {},
   "outputs": [],
   "source": [
    "def plot_graphs(history, string):\n",
    "    plt.plot(history.history[string])\n",
    "    plt.plot(history.history['val_'+string], '')\n",
    "    plt.xlabel(\"Epochs\")\n",
    "    plt.ylabel(string)\n",
    "    plt.legend([string, 'val_'+string])\n",
    "    plt.show()"
   ]
  },
  {
   "cell_type": "markdown",
   "metadata": {},
   "source": [
    "# 학습 데이터 경로 정의"
   ]
  },
  {
   "cell_type": "code",
   "execution_count": 3,
   "metadata": {},
   "outputs": [],
   "source": [
    "DATA_IN_PATH = './data_in/'\n",
    "DATA_OUT_PATH = './data_out/'\n",
    "TRAIN_INPUTS = 'train_inputs.npy'\n",
    "TRAIN_OUTPUTS = 'train_outputs.npy'\n",
    "TRAIN_TARGETS = 'train_targets.npy'\n",
    "DATA_CONFIGS = 'data_configs.json'"
   ]
  },
  {
   "cell_type": "markdown",
   "metadata": {},
   "source": [
    "# 랜덤 시드 고정"
   ]
  },
  {
   "cell_type": "code",
   "execution_count": 4,
   "metadata": {},
   "outputs": [],
   "source": [
    "SEED_NUM = 1234\n",
    "tf.random.set_seed(SEED_NUM)"
   ]
  },
  {
   "cell_type": "markdown",
   "metadata": {},
   "source": [
    "# 파일 로드"
   ]
  },
  {
   "cell_type": "code",
   "execution_count": 5,
   "metadata": {},
   "outputs": [],
   "source": [
    "index_inputs = np.load(open(DATA_IN_PATH + TRAIN_INPUTS, 'rb'))\n",
    "index_outputs = np.load(open(DATA_IN_PATH + TRAIN_OUTPUTS , 'rb'))\n",
    "index_targets = np.load(open(DATA_IN_PATH + TRAIN_TARGETS , 'rb'))\n",
    "prepro_configs = json.load(open(DATA_IN_PATH + DATA_CONFIGS, 'r'))"
   ]
  },
  {
   "cell_type": "markdown",
   "metadata": {},
   "source": [
    "# 모델 하이퍼파라메터 정의"
   ]
  },
  {
   "cell_type": "code",
   "execution_count": 6,
   "metadata": {},
   "outputs": [],
   "source": [
    "char2idx = prepro_configs['char2idx']\n",
    "end_index = prepro_configs['end_symbol']\n",
    "model_name = 'transformer'\n",
    "vocab_size = prepro_configs['vocab_size']\n",
    "BATCH_SIZE = 2\n",
    "MAX_SEQUENCE = 25\n",
    "EPOCHS = 30\n",
    "VALID_SPLIT = 0.1\n",
    "\n",
    "kargs = {'model_name': model_name,\n",
    "         'num_layers': 2,\n",
    "         'd_model': 512,\n",
    "         'num_heads': 8,\n",
    "         'dff': 2048,\n",
    "         'input_vocab_size': vocab_size,\n",
    "         'target_vocab_size': vocab_size,\n",
    "         'maximum_position_encoding': MAX_SEQUENCE,\n",
    "         'end_token_idx': char2idx[end_index],\n",
    "         'rate': 0.1\n",
    "        }"
   ]
  },
  {
   "cell_type": "markdown",
   "metadata": {},
   "source": [
    "# 모델 선언 및 컴파일"
   ]
  },
  {
   "cell_type": "markdown",
   "metadata": {},
   "source": [
    "## 패딩 및 포워드 마스킹 "
   ]
  },
  {
   "cell_type": "code",
   "execution_count": 7,
   "metadata": {},
   "outputs": [],
   "source": [
    "def create_padding_mask(seq):\n",
    "    seq = tf.cast(tf.math.equal(seq, 0), tf.float32)\n",
    "\n",
    "    # add extra dimensions to add the padding\n",
    "    # to the attention logits.\n",
    "    return seq[:, tf.newaxis, tf.newaxis, :]  # (batch_size, 1, 1, seq_len)"
   ]
  },
  {
   "cell_type": "code",
   "execution_count": 8,
   "metadata": {},
   "outputs": [],
   "source": [
    "def create_look_ahead_mask(size):\n",
    "    mask = 1 - tf.linalg.band_part(tf.ones((size, size)), -1, 0)\n",
    "    return mask  # (seq_len, seq_len)"
   ]
  },
  {
   "cell_type": "code",
   "execution_count": 9,
   "metadata": {},
   "outputs": [],
   "source": [
    "def create_masks(inp, tar):\n",
    "    # Encoder padding mask\n",
    "    enc_padding_mask = create_padding_mask(inp)\n",
    "\n",
    "    # Used in the 2nd attention block in the decoder.\n",
    "    # This padding mask is used to mask the encoder outputs.\n",
    "    dec_padding_mask = create_padding_mask(inp)\n",
    "\n",
    "    # Used in the 1st attention block in the decoder.\n",
    "    # It is used to pad and mask future tokens in the input received by \n",
    "    # the decoder.\n",
    "    look_ahead_mask = create_look_ahead_mask(tf.shape(tar)[1])\n",
    "    dec_target_padding_mask = create_padding_mask(tar)\n",
    "    combined_mask = tf.maximum(dec_target_padding_mask, look_ahead_mask)\n",
    "\n",
    "    return enc_padding_mask, combined_mask, dec_padding_mask"
   ]
  },
  {
   "cell_type": "code",
   "execution_count": 10,
   "metadata": {},
   "outputs": [],
   "source": [
    "enc_padding_mask, look_ahead_mask, dec_padding_mask = create_masks(index_inputs, index_outputs)"
   ]
  },
  {
   "cell_type": "markdown",
   "metadata": {},
   "source": [
    "## 포지셔널 인코딩"
   ]
  },
  {
   "cell_type": "code",
   "execution_count": 11,
   "metadata": {},
   "outputs": [],
   "source": [
    "def get_angles(pos, i, d_model):\n",
    "    angle_rates = 1 / np.power(10000, (2 * i//2) / np.float32(d_model))\n",
    "    return pos * angle_rates"
   ]
  },
  {
   "cell_type": "code",
   "execution_count": 12,
   "metadata": {},
   "outputs": [],
   "source": [
    "def positional_encoding(position, d_model):\n",
    "    angle_rads = get_angles(np.arange(position)[:, np.newaxis],\n",
    "                          np.arange(d_model)[np.newaxis, :],\n",
    "                          d_model)\n",
    "\n",
    "    # apply sin to even indices in the array; 2i\n",
    "    angle_rads[:, 0::2] = np.sin(angle_rads[:, 0::2])\n",
    "\n",
    "    # apply cos to odd indices in the array; 2i+1\n",
    "    angle_rads[:, 1::2] = np.cos(angle_rads[:, 1::2])\n",
    "\n",
    "    pos_encoding = angle_rads[np.newaxis, ...]\n",
    "\n",
    "    return tf.cast(pos_encoding, dtype=tf.float32)"
   ]
  },
  {
   "cell_type": "code",
   "execution_count": 13,
   "metadata": {},
   "outputs": [
    {
     "name": "stdout",
     "output_type": "stream",
     "text": [
      "(1, 50, 512)\n"
     ]
    },
    {
     "data": {
      "image/png": "[encoded data removed]",
      "text/plain": [
       "<Figure size 640x480 with 2 Axes>"
      ]
     },
     "metadata": {},
     "output_type": "display_data"
    }
   ],
   "source": [
    "pos_encoding = positional_encoding(50, 512)\n",
    "print (pos_encoding.shape)\n",
    "\n",
    "plt.pcolormesh(pos_encoding[0], cmap='RdBu')\n",
    "plt.xlabel('Depth')\n",
    "plt.xlim((0, 512))\n",
    "plt.ylabel('Position')\n",
    "plt.colorbar()\n",
    "plt.show()"
   ]
  },
  {
   "cell_type": "markdown",
   "metadata": {},
   "source": [
    "## 어텐션"
   ]
  },
  {
   "cell_type": "code",
   "execution_count": 14,
   "metadata": {},
   "outputs": [],
   "source": [
    "def scaled_dot_product_attention(q, k, v, mask):\n",
    "    \"\"\"Calculate the attention weights.\n",
    "    q, k, v must have matching leading dimensions.\n",
    "    k, v must have matching penultimate dimension, i.e.: seq_len_k = seq_len_v.\n",
    "    The mask has different shapes depending on its type(padding or look ahead) \n",
    "    but it must be broadcastable for addition.\n",
    "\n",
    "    Args:\n",
    "    q: query shape == (..., seq_len_q, depth)\n",
    "    k: key shape == (..., seq_len_k, depth)\n",
    "    v: value shape == (..., seq_len_v, depth_v)\n",
    "    mask: Float tensor with shape broadcastable \n",
    "          to (..., seq_len_q, seq_len_k). Defaults to None.\n",
    "\n",
    "    Returns:\n",
    "    output, attention_weights\n",
    "    \"\"\"\n",
    "\n",
    "    matmul_qk = tf.matmul(q, k, transpose_b=True)  # (..., seq_len_q, seq_len_k)\n",
    "\n",
    "    # scale matmul_qk\n",
    "    dk = tf.cast(tf.shape(k)[-1], tf.float32)\n",
    "    scaled_attention_logits = matmul_qk / tf.math.sqrt(dk)\n",
    "\n",
    "    # add the mask to the scaled tensor.\n",
    "    if mask is not None:\n",
    "        scaled_attention_logits += (mask * -1e9)  \n",
    "\n",
    "    # softmax is normalized on the last axis (seq_len_k) so that the scores\n",
    "    # add up to 1.\n",
    "    attention_weights = tf.nn.softmax(scaled_attention_logits, axis=-1)  # (..., seq_len_q, seq_len_k)\n",
    "\n",
    "    output = tf.matmul(attention_weights, v)  # (..., seq_len_q, depth_v)\n",
    "\n",
    "    return output, attention_weights"
   ]
  },
  {
   "cell_type": "markdown",
   "metadata": {},
   "source": [
    "## 멀티헤드 어텐션"
   ]
  },
  {
   "cell_type": "code",
   "execution_count": 15,
   "metadata": {},
   "outputs": [],
   "source": [
    "class MultiHeadAttention(tf.keras.layers.Layer):\n",
    "    def __init__(self, **kargs):\n",
    "        super(MultiHeadAttention, self).__init__()\n",
    "        self.num_heads = kargs['num_heads']\n",
    "        self.d_model = kargs['d_model']\n",
    "\n",
    "        assert self.d_model % self.num_heads == 0\n",
    "\n",
    "        self.depth = self.d_model // self.num_heads\n",
    "\n",
    "        self.wq = tf.keras.layers.Dense(kargs['d_model'])\n",
    "        self.wk = tf.keras.layers.Dense(kargs['d_model'])\n",
    "        self.wv = tf.keras.layers.Dense(kargs['d_model'])\n",
    "\n",
    "        self.dense = tf.keras.layers.Dense(kargs['d_model'])\n",
    "\n",
    "    def split_heads(self, x, batch_size):\n",
    "        \"\"\"Split the last dimension into (num_heads, depth).\n",
    "        Transpose the result such that the shape is (batch_size, num_heads, seq_len, depth)\n",
    "        \"\"\"\n",
    "        x = tf.reshape(x, (batch_size, -1, self.num_heads, self.depth))\n",
    "        return tf.transpose(x, perm=[0, 2, 1, 3])\n",
    "\n",
    "    def call(self, v, k, q, mask):\n",
    "        batch_size = tf.shape(q)[0]\n",
    "\n",
    "        q = self.wq(q)  # (batch_size, seq_len, d_model)\n",
    "        k = self.wk(k)  # (batch_size, seq_len, d_model)\n",
    "        v = self.wv(v)  # (batch_size, seq_len, d_model)\n",
    "\n",
    "        q = self.split_heads(q, batch_size)  # (batch_size, num_heads, seq_len_q, depth)\n",
    "        k = self.split_heads(k, batch_size)  # (batch_size, num_heads, seq_len_k, depth)\n",
    "        v = self.split_heads(v, batch_size)  # (batch_size, num_heads, seq_len_v, depth)\n",
    "\n",
    "        # scaled_attention.shape == (batch_size, num_heads, seq_len_q, depth)\n",
    "        # attention_weights.shape == (batch_size, num_heads, seq_len_q, seq_len_k)\n",
    "        scaled_attention, attention_weights = scaled_dot_product_attention(\n",
    "            q, k, v, mask)\n",
    "\n",
    "        scaled_attention = tf.transpose(scaled_attention, perm=[0, 2, 1, 3])  # (batch_size, seq_len_q, num_heads, depth)\n",
    "\n",
    "        concat_attention = tf.reshape(scaled_attention, \n",
    "                                      (batch_size, -1, self.d_model))  # (batch_size, seq_len_q, d_model)\n",
    "\n",
    "        output = self.dense(concat_attention)  # (batch_size, seq_len_q, d_model)\n",
    "\n",
    "        return output, attention_weights"
   ]
  },
  {
   "cell_type": "markdown",
   "metadata": {},
   "source": [
    "## 포인트 와이즈 피드포워드 네트워크 "
   ]
  },
  {
   "cell_type": "code",
   "execution_count": 16,
   "metadata": {},
   "outputs": [],
   "source": [
    "def point_wise_feed_forward_network(**kargs):\n",
    "    return tf.keras.Sequential([\n",
    "      tf.keras.layers.Dense(kargs['dff'], activation='relu'),  # (batch_size, seq_len, dff)\n",
    "      tf.keras.layers.Dense(kargs['d_model'])  # (batch_size, seq_len, d_model)\n",
    "    ])\n"
   ]
  },
  {
   "cell_type": "markdown",
   "metadata": {},
   "source": [
    "## 인코더 레이어"
   ]
  },
  {
   "cell_type": "code",
   "execution_count": 17,
   "metadata": {},
   "outputs": [],
   "source": [
    "class EncoderLayer(tf.keras.layers.Layer):\n",
    "    def __init__(self, **kargs):\n",
    "        super(EncoderLayer, self).__init__()\n",
    "\n",
    "        self.mha = MultiHeadAttention(**kargs)\n",
    "        self.ffn = point_wise_feed_forward_network(**kargs)\n",
    "\n",
    "        self.layernorm1 = tf.keras.layers.LayerNormalization(epsilon=1e-6)\n",
    "        self.layernorm2 = tf.keras.layers.LayerNormalization(epsilon=1e-6)\n",
    "\n",
    "        self.dropout1 = tf.keras.layers.Dropout(kargs['rate'])\n",
    "        self.dropout2 = tf.keras.layers.Dropout(kargs['rate'])\n",
    "\n",
    "    def call(self, x, mask):\n",
    "        attn_output, _ = self.mha(x, x, x, mask)  # (batch_size, input_seq_len, d_model)\n",
    "        attn_output = self.dropout1(attn_output)\n",
    "        out1 = self.layernorm1(x + attn_output)  # (batch_size, input_seq_len, d_model)\n",
    "\n",
    "        ffn_output = self.ffn(out1)  # (batch_size, input_seq_len, d_model)\n",
    "        ffn_output = self.dropout2(ffn_output)\n",
    "        out2 = self.layernorm2(out1 + ffn_output)  # (batch_size, input_seq_len, d_model)\n",
    "\n",
    "        return out2"
   ]
  },
  {
   "cell_type": "markdown",
   "metadata": {},
   "source": [
    "## 디코더 레이어"
   ]
  },
  {
   "cell_type": "code",
   "execution_count": 18,
   "metadata": {},
   "outputs": [],
   "source": [
    "class DecoderLayer(tf.keras.layers.Layer):\n",
    "    def __init__(self, **kargs):\n",
    "        super(DecoderLayer, self).__init__()\n",
    "\n",
    "        self.mha1 = MultiHeadAttention(**kargs)\n",
    "        self.mha2 = MultiHeadAttention(**kargs)\n",
    "\n",
    "        self.ffn = point_wise_feed_forward_network(**kargs)\n",
    "\n",
    "        self.layernorm1 = tf.keras.layers.LayerNormalization(epsilon=1e-6)\n",
    "        self.layernorm2 = tf.keras.layers.LayerNormalization(epsilon=1e-6)\n",
    "        self.layernorm3 = tf.keras.layers.LayerNormalization(epsilon=1e-6)\n",
    "\n",
    "        self.dropout1 = tf.keras.layers.Dropout(kargs['rate'])\n",
    "        self.dropout2 = tf.keras.layers.Dropout(kargs['rate'])\n",
    "        self.dropout3 = tf.keras.layers.Dropout(kargs['rate'])\n",
    "    \n",
    "    \n",
    "    def call(self, x, enc_output, look_ahead_mask, padding_mask):\n",
    "        # enc_output.shape == (batch_size, input_seq_len, d_model)\n",
    "        attn1, attn_weights_block1 = self.mha1(x, x, x, look_ahead_mask)  # (batch_size, target_seq_len, d_model)\n",
    "        attn1 = self.dropout1(attn1)\n",
    "        out1 = self.layernorm1(attn1 + x)\n",
    "\n",
    "        attn2, attn_weights_block2 = self.mha2(\n",
    "            enc_output, enc_output, out1, padding_mask)  # (batch_size, target_seq_len, d_model)\n",
    "        attn2 = self.dropout2(attn2)\n",
    "        out2 = self.layernorm2(attn2 + out1)  # (batch_size, target_seq_len, d_model)\n",
    "\n",
    "        ffn_output = self.ffn(out2)  # (batch_size, target_seq_len, d_model)\n",
    "        ffn_output = self.dropout3(ffn_output)\n",
    "        out3 = self.layernorm3(ffn_output + out2)  # (batch_size, target_seq_len, d_model)\n",
    "\n",
    "        return out3, attn_weights_block1, attn_weights_block2"
   ]
  },
  {
   "cell_type": "markdown",
   "metadata": {},
   "source": [
    "## 인코더"
   ]
  },
  {
   "cell_type": "code",
   "execution_count": 19,
   "metadata": {},
   "outputs": [],
   "source": [
    "class Encoder(tf.keras.layers.Layer):\n",
    "    def __init__(self, **kargs):\n",
    "        super(Encoder, self).__init__()\n",
    "\n",
    "        self.d_model = kargs['d_model']\n",
    "        self.num_layers = kargs['num_layers']\n",
    "\n",
    "        self.embedding = tf.keras.layers.Embedding(kargs['input_vocab_size'], self.d_model)\n",
    "        self.pos_encoding = positional_encoding(kargs['maximum_position_encoding'], \n",
    "                                                self.d_model)\n",
    "\n",
    "\n",
    "        self.enc_layers = [EncoderLayer(**kargs) \n",
    "                           for _ in range(self.num_layers)]\n",
    "\n",
    "        self.dropout = tf.keras.layers.Dropout(kargs['rate'])\n",
    "\n",
    "    def call(self, x, mask):\n",
    "\n",
    "        seq_len = tf.shape(x)[1]\n",
    "\n",
    "        # adding embedding and position encoding.\n",
    "        x = self.embedding(x)  # (batch_size, input_seq_len, d_model)\n",
    "        x *= tf.math.sqrt(tf.cast(self.d_model, tf.float32))\n",
    "        x += self.pos_encoding[:, :seq_len, :]\n",
    "\n",
    "        x = self.dropout(x)\n",
    "\n",
    "        for i in range(self.num_layers):\n",
    "            x = self.enc_layers[i](x, mask)\n",
    "\n",
    "        return x  # (batch_size, input_seq_len, d_model)"
   ]
  },
  {
   "cell_type": "markdown",
   "metadata": {},
   "source": [
    "## 디코더"
   ]
  },
  {
   "cell_type": "code",
   "execution_count": 20,
   "metadata": {},
   "outputs": [],
   "source": [
    "class Decoder(tf.keras.layers.Layer):\n",
    "    def __init__(self, **kargs):\n",
    "        super(Decoder, self).__init__()\n",
    "\n",
    "        self.d_model = kargs['d_model']\n",
    "        self.num_layers = kargs['num_layers']\n",
    "\n",
    "        self.embedding = tf.keras.layers.Embedding(kargs['target_vocab_size'], self.d_model)\n",
    "        self.pos_encoding = positional_encoding(kargs['maximum_position_encoding'], self.d_model)\n",
    "\n",
    "        self.dec_layers = [DecoderLayer(**kargs) \n",
    "                           for _ in range(self.num_layers)]\n",
    "        self.dropout = tf.keras.layers.Dropout(kargs['rate'])\n",
    "\n",
    "    def call(self, x, enc_output, look_ahead_mask, padding_mask):\n",
    "        seq_len = tf.shape(x)[1]\n",
    "        attention_weights = {}\n",
    "\n",
    "        x = self.embedding(x)  # (batch_size, target_seq_len, d_model)\n",
    "        x *= tf.math.sqrt(tf.cast(self.d_model, tf.float32))\n",
    "        x += self.pos_encoding[:, :seq_len, :]\n",
    "\n",
    "        x = self.dropout(x)\n",
    "\n",
    "        for i in range(self.num_layers):\n",
    "            x, block1, block2 = self.dec_layers[i](x, enc_output, look_ahead_mask, padding_mask)\n",
    "\n",
    "            attention_weights['decoder_layer{}_block1'.format(i+1)] = block1\n",
    "            attention_weights['decoder_layer{}_block2'.format(i+1)] = block2\n",
    "\n",
    "        # x.shape == (batch_size, target_seq_len, d_model)\n",
    "        return x, attention_weights"
   ]
  },
  {
   "cell_type": "markdown",
   "metadata": {},
   "source": [
    "## 트렌스포머 모델"
   ]
  },
  {
   "cell_type": "code",
   "execution_count": 21,
   "metadata": {},
   "outputs": [],
   "source": [
    "class Transformer(tf.keras.Model):\n",
    "    def __init__(self, **kargs):\n",
    "        super(Transformer, self).__init__(name=kargs['model_name'])\n",
    "        self.end_token_idx = kargs['end_token_idx']\n",
    "        \n",
    "        self.encoder = Encoder(**kargs)\n",
    "        self.decoder = Decoder(**kargs)\n",
    "\n",
    "        self.final_layer = tf.keras.layers.Dense(kargs['target_vocab_size'])\n",
    "\n",
    "    def call(self, x):\n",
    "        inp, tar = x\n",
    "\n",
    "        enc_padding_mask, look_ahead_mask, dec_padding_mask = create_masks(inp, tar)\n",
    "        enc_output = self.encoder(inp, enc_padding_mask)  # (batch_size, inp_seq_len, d_model)\n",
    "\n",
    "        # dec_output.shape == (batch_size, tar_seq_len, d_model)\n",
    "        dec_output, _ = self.decoder(\n",
    "            tar, enc_output, look_ahead_mask, dec_padding_mask)\n",
    "\n",
    "        final_output = self.final_layer(dec_output)  # (batch_size, tar_seq_len, target_vocab_size)\n",
    "\n",
    "        return final_output\n",
    "    \n",
    "    def inference(self, x):\n",
    "        inp = x\n",
    "        tar = tf.expand_dims([STD_INDEX], 0)\n",
    "\n",
    "        enc_padding_mask, look_ahead_mask, dec_padding_mask = create_masks(inp, tar)        \n",
    "        enc_output = self.encoder(inp, enc_padding_mask)\n",
    "        \n",
    "        predict_tokens = list()\n",
    "        for t in range(0, MAX_SEQUENCE):\n",
    "            dec_output, _ = self.decoder(tar, enc_output, look_ahead_mask, dec_padding_mask)\n",
    "            final_output = self.final_layer(dec_output)\n",
    "            outputs = tf.argmax(final_output, -1).numpy()\n",
    "            pred_token = outputs[0][-1]\n",
    "            if pred_token == self.end_token_idx:\n",
    "                break\n",
    "            predict_tokens.append(pred_token)\n",
    "            tar = tf.expand_dims([STD_INDEX] + predict_tokens, 0)\n",
    "            _, look_ahead_mask, dec_padding_mask = create_masks(inp, tar)\n",
    "            \n",
    "        return predict_tokens"
   ]
  },
  {
   "cell_type": "markdown",
   "metadata": {},
   "source": [
    "## 모델 로스 정의"
   ]
  },
  {
   "cell_type": "code",
   "execution_count": 22,
   "metadata": {},
   "outputs": [],
   "source": [
    "loss_object = tf.keras.losses.SparseCategoricalCrossentropy(\n",
    "    from_logits=True, reduction='none')\n",
    "\n",
    "train_accuracy = tf.keras.metrics.SparseCategoricalAccuracy(name='accuracy')\n",
    "\n",
    "def loss(real, pred):\n",
    "    mask = tf.math.logical_not(tf.math.equal(real, 0))\n",
    "    loss_ = loss_object(real, pred)\n",
    "\n",
    "    mask = tf.cast(mask, dtype=loss_.dtype)\n",
    "    loss_ *= mask\n",
    "\n",
    "    return tf.reduce_mean(loss_)\n",
    "\n",
    "def accuracy(real, pred):\n",
    "    mask = tf.math.logical_not(tf.math.equal(real, 0))\n",
    "    mask = tf.expand_dims(tf.cast(mask, dtype=pred.dtype), axis=-1)\n",
    "    pred *= mask    \n",
    "    acc = train_accuracy(real, pred)\n",
    "\n",
    "    return tf.reduce_mean(acc)"
   ]
  },
  {
   "cell_type": "code",
   "execution_count": 23,
   "metadata": {},
   "outputs": [],
   "source": [
    "model = Transformer(**kargs)\n",
    "model.compile(optimizer=tf.keras.optimizers.Adam(1e-4),\n",
    "              loss=loss,\n",
    "              metrics=[accuracy])"
   ]
  },
  {
   "cell_type": "markdown",
   "metadata": {},
   "source": [
    "# Callback 선언"
   ]
  },
  {
   "cell_type": "code",
   "execution_count": 24,
   "metadata": {
    "scrolled": false
   },
   "outputs": [
    {
     "name": "stdout",
     "output_type": "stream",
     "text": [
      "./data_out/transformer -- Folder create complete \n",
      "\n"
     ]
    }
   ],
   "source": [
    "# overfitting을 막기 위한 ealrystop 추가\n",
    "earlystop_callback = EarlyStopping(monitor='val_accuracy', min_delta=0.0001, patience=10)\n",
    "# min_delta: the threshold that triggers the termination (acc should at least improve 0.0001)\n",
    "# patience: no improvment epochs (patience = 1, 1번 이상 상승이 없으면 종료)\n",
    "\n",
    "checkpoint_path = DATA_OUT_PATH + model_name + '/weights.h5'\n",
    "checkpoint_dir = os.path.dirname(checkpoint_path)\n",
    "\n",
    "# Create path if exists\n",
    "if os.path.exists(checkpoint_dir):\n",
    "    print(\"{} -- Folder already exists \\n\".format(checkpoint_dir))\n",
    "else:\n",
    "    os.makedirs(checkpoint_dir, exist_ok=True)\n",
    "    print(\"{} -- Folder create complete \\n\".format(checkpoint_dir))\n",
    "    \n",
    "\n",
    "cp_callback = ModelCheckpoint(\n",
    "    checkpoint_path, monitor='val_accuracy', verbose=1, save_best_only=True, save_weights_only=True)"
   ]
  },
  {
   "cell_type": "markdown",
   "metadata": {},
   "source": [
    "# 모델 학습"
   ]
  },
  {
   "cell_type": "code",
   "execution_count": 25,
   "metadata": {},
   "outputs": [
    {
     "name": "stdout",
     "output_type": "stream",
     "text": [
      "Epoch 1/30\n",
      "9/9 [==============================] - ETA: 0s - loss: 0.9656 - accuracy: 0.8319\n",
      "Epoch 1: val_accuracy improved from -inf to 0.85200, saving model to ./data_out/transformer\\weights.h5\n",
      "9/9 [==============================] - 12s 258ms/step - loss: 0.9656 - accuracy: 0.8319 - val_loss: 0.5265 - val_accuracy: 0.8520\n",
      "Epoch 2/30\n",
      "9/9 [==============================] - ETA: 0s - loss: 0.6803 - accuracy: 0.8519\n",
      "Epoch 2: val_accuracy improved from 0.85200 to 0.85600, saving model to ./data_out/transformer\\weights.h5\n",
      "9/9 [==============================] - 1s 127ms/step - loss: 0.6803 - accuracy: 0.8519 - val_loss: 0.6013 - val_accuracy: 0.8560\n",
      "Epoch 3/30\n",
      "9/9 [==============================] - ETA: 0s - loss: 0.5524 - accuracy: 0.8575\n",
      "Epoch 3: val_accuracy improved from 0.85600 to 0.85867, saving model to ./data_out/transformer\\weights.h5\n",
      "9/9 [==============================] - 1s 124ms/step - loss: 0.5524 - accuracy: 0.8575 - val_loss: 0.5196 - val_accuracy: 0.8587\n",
      "Epoch 4/30\n",
      "9/9 [==============================] - ETA: 0s - loss: 0.3733 - accuracy: 0.8655\n",
      "Epoch 4: val_accuracy improved from 0.85867 to 0.86900, saving model to ./data_out/transformer\\weights.h5\n",
      "9/9 [==============================] - 1s 124ms/step - loss: 0.3733 - accuracy: 0.8655 - val_loss: 0.6040 - val_accuracy: 0.8690\n",
      "Epoch 5/30\n",
      "9/9 [==============================] - ETA: 0s - loss: 0.2379 - accuracy: 0.8752\n",
      "Epoch 5: val_accuracy improved from 0.86900 to 0.87960, saving model to ./data_out/transformer\\weights.h5\n",
      "9/9 [==============================] - 1s 129ms/step - loss: 0.2379 - accuracy: 0.8752 - val_loss: 0.6266 - val_accuracy: 0.8796\n",
      "Epoch 6/30\n",
      "9/9 [==============================] - ETA: 0s - loss: 0.2389 - accuracy: 0.8830\n",
      "Epoch 6: val_accuracy improved from 0.87960 to 0.88633, saving model to ./data_out/transformer\\weights.h5\n",
      "9/9 [==============================] - 1s 128ms/step - loss: 0.2389 - accuracy: 0.8830 - val_loss: 0.4649 - val_accuracy: 0.8863\n",
      "Epoch 7/30\n",
      "9/9 [==============================] - ETA: 0s - loss: 0.2179 - accuracy: 0.8892\n",
      "Epoch 7: val_accuracy improved from 0.88633 to 0.89086, saving model to ./data_out/transformer\\weights.h5\n",
      "9/9 [==============================] - 1s 127ms/step - loss: 0.2179 - accuracy: 0.8892 - val_loss: 0.5247 - val_accuracy: 0.8909\n",
      "Epoch 8/30\n",
      "9/9 [==============================] - ETA: 0s - loss: 0.1851 - accuracy: 0.8949\n",
      "Epoch 8: val_accuracy improved from 0.89086 to 0.89700, saving model to ./data_out/transformer\\weights.h5\n",
      "9/9 [==============================] - 1s 125ms/step - loss: 0.1851 - accuracy: 0.8949 - val_loss: 0.5020 - val_accuracy: 0.8970\n",
      "Epoch 9/30\n",
      "9/9 [==============================] - ETA: 0s - loss: 0.1191 - accuracy: 0.9007\n",
      "Epoch 9: val_accuracy improved from 0.89700 to 0.90333, saving model to ./data_out/transformer\\weights.h5\n",
      "9/9 [==============================] - 1s 125ms/step - loss: 0.1191 - accuracy: 0.9007 - val_loss: 0.4808 - val_accuracy: 0.9033\n",
      "Epoch 10/30\n",
      "9/9 [==============================] - ETA: 0s - loss: 0.0719 - accuracy: 0.9074\n",
      "Epoch 10: val_accuracy improved from 0.90333 to 0.91020, saving model to ./data_out/transformer\\weights.h5\n",
      "9/9 [==============================] - 1s 133ms/step - loss: 0.0719 - accuracy: 0.9074 - val_loss: 0.2493 - val_accuracy: 0.9102\n",
      "Epoch 11/30\n",
      "9/9 [==============================] - ETA: 0s - loss: 0.0471 - accuracy: 0.9139\n",
      "Epoch 11: val_accuracy improved from 0.91020 to 0.91709, saving model to ./data_out/transformer\\weights.h5\n",
      "9/9 [==============================] - 1s 123ms/step - loss: 0.0471 - accuracy: 0.9139 - val_loss: 0.1713 - val_accuracy: 0.9171\n",
      "Epoch 12/30\n",
      "9/9 [==============================] - ETA: 0s - loss: 0.0233 - accuracy: 0.9205\n",
      "Epoch 12: val_accuracy improved from 0.91709 to 0.92333, saving model to ./data_out/transformer\\weights.h5\n",
      "9/9 [==============================] - 1s 129ms/step - loss: 0.0233 - accuracy: 0.9205 - val_loss: 0.2476 - val_accuracy: 0.9233\n",
      "Epoch 13/30\n",
      "9/9 [==============================] - ETA: 0s - loss: 0.0292 - accuracy: 0.9262\n",
      "Epoch 13: val_accuracy improved from 0.92333 to 0.92846, saving model to ./data_out/transformer\\weights.h5\n",
      "9/9 [==============================] - 1s 124ms/step - loss: 0.0292 - accuracy: 0.9262 - val_loss: 0.2743 - val_accuracy: 0.9285\n",
      "Epoch 14/30\n",
      "9/9 [==============================] - ETA: 0s - loss: 0.0213 - accuracy: 0.9311\n",
      "Epoch 14: val_accuracy improved from 0.92846 to 0.93314, saving model to ./data_out/transformer\\weights.h5\n",
      "9/9 [==============================] - 1s 125ms/step - loss: 0.0213 - accuracy: 0.9311 - val_loss: 0.2326 - val_accuracy: 0.9331\n",
      "Epoch 15/30\n",
      "9/9 [==============================] - ETA: 0s - loss: 0.0149 - accuracy: 0.9353\n",
      "Epoch 15: val_accuracy improved from 0.93314 to 0.93707, saving model to ./data_out/transformer\\weights.h5\n",
      "9/9 [==============================] - 1s 128ms/step - loss: 0.0149 - accuracy: 0.9353 - val_loss: 0.2467 - val_accuracy: 0.9371\n",
      "Epoch 16/30\n",
      "9/9 [==============================] - ETA: 0s - loss: 0.0114 - accuracy: 0.9390\n",
      "Epoch 16: val_accuracy improved from 0.93707 to 0.94063, saving model to ./data_out/transformer\\weights.h5\n",
      "9/9 [==============================] - 1s 133ms/step - loss: 0.0114 - accuracy: 0.9390 - val_loss: 0.2242 - val_accuracy: 0.9406\n",
      "Epoch 17/30\n",
      "9/9 [==============================] - ETA: 0s - loss: 0.0097 - accuracy: 0.9424\n",
      "Epoch 17: val_accuracy improved from 0.94063 to 0.94376, saving model to ./data_out/transformer\\weights.h5\n",
      "9/9 [==============================] - 1s 128ms/step - loss: 0.0097 - accuracy: 0.9424 - val_loss: 0.2082 - val_accuracy: 0.9438\n",
      "Epoch 18/30\n",
      "9/9 [==============================] - ETA: 0s - loss: 0.0065 - accuracy: 0.9454\n",
      "Epoch 18: val_accuracy improved from 0.94376 to 0.94667, saving model to ./data_out/transformer\\weights.h5\n",
      "9/9 [==============================] - 1s 132ms/step - loss: 0.0065 - accuracy: 0.9454 - val_loss: 0.1984 - val_accuracy: 0.9467\n",
      "Epoch 19/30\n",
      "9/9 [==============================] - ETA: 0s - loss: 0.0064 - accuracy: 0.9481\n",
      "Epoch 19: val_accuracy improved from 0.94667 to 0.94926, saving model to ./data_out/transformer\\weights.h5\n",
      "9/9 [==============================] - 1s 126ms/step - loss: 0.0064 - accuracy: 0.9481 - val_loss: 0.1881 - val_accuracy: 0.9493\n",
      "Epoch 20/30\n",
      "9/9 [==============================] - ETA: 0s - loss: 0.0042 - accuracy: 0.9506\n",
      "Epoch 20: val_accuracy improved from 0.94926 to 0.95160, saving model to ./data_out/transformer\\weights.h5\n",
      "9/9 [==============================] - 1s 128ms/step - loss: 0.0042 - accuracy: 0.9506 - val_loss: 0.1826 - val_accuracy: 0.9516\n",
      "Epoch 21/30\n",
      "9/9 [==============================] - ETA: 0s - loss: 0.0038 - accuracy: 0.9528\n",
      "Epoch 21: val_accuracy improved from 0.95160 to 0.95371, saving model to ./data_out/transformer\\weights.h5\n",
      "9/9 [==============================] - 1s 127ms/step - loss: 0.0038 - accuracy: 0.9528 - val_loss: 0.1897 - val_accuracy: 0.9537\n",
      "Epoch 22/30\n",
      "9/9 [==============================] - ETA: 0s - loss: 0.0027 - accuracy: 0.9548\n",
      "Epoch 22: val_accuracy improved from 0.95371 to 0.95564, saving model to ./data_out/transformer\\weights.h5\n",
      "9/9 [==============================] - 1s 139ms/step - loss: 0.0027 - accuracy: 0.9548 - val_loss: 0.1909 - val_accuracy: 0.9556\n",
      "Epoch 23/30\n",
      "9/9 [==============================] - ETA: 0s - loss: 0.0020 - accuracy: 0.9566\n",
      "Epoch 23: val_accuracy improved from 0.95564 to 0.95739, saving model to ./data_out/transformer\\weights.h5\n",
      "9/9 [==============================] - 1s 137ms/step - loss: 0.0020 - accuracy: 0.9566 - val_loss: 0.2053 - val_accuracy: 0.9574\n",
      "Epoch 24/30\n",
      "9/9 [==============================] - ETA: 0s - loss: 0.0016 - accuracy: 0.9583\n",
      "Epoch 24: val_accuracy improved from 0.95739 to 0.95900, saving model to ./data_out/transformer\\weights.h5\n",
      "9/9 [==============================] - 1s 127ms/step - loss: 0.0016 - accuracy: 0.9583 - val_loss: 0.2093 - val_accuracy: 0.9590\n",
      "Epoch 25/30\n",
      "9/9 [==============================] - ETA: 0s - loss: 0.0019 - accuracy: 0.9598\n",
      "Epoch 25: val_accuracy improved from 0.95900 to 0.96048, saving model to ./data_out/transformer\\weights.h5\n",
      "9/9 [==============================] - 1s 123ms/step - loss: 0.0019 - accuracy: 0.9598 - val_loss: 0.2122 - val_accuracy: 0.9605\n"
     ]
    },
    {
     "name": "stdout",
     "output_type": "stream",
     "text": [
      "Epoch 26/30\n",
      "9/9 [==============================] - ETA: 0s - loss: 0.0013 - accuracy: 0.9613\n",
      "Epoch 26: val_accuracy improved from 0.96048 to 0.96185, saving model to ./data_out/transformer\\weights.h5\n",
      "9/9 [==============================] - 1s 126ms/step - loss: 0.0013 - accuracy: 0.9613 - val_loss: 0.2141 - val_accuracy: 0.9618\n",
      "Epoch 27/30\n",
      "9/9 [==============================] - ETA: 0s - loss: 0.0014 - accuracy: 0.9626\n",
      "Epoch 27: val_accuracy improved from 0.96185 to 0.96311, saving model to ./data_out/transformer\\weights.h5\n",
      "9/9 [==============================] - 1s 128ms/step - loss: 0.0014 - accuracy: 0.9626 - val_loss: 0.2173 - val_accuracy: 0.9631\n",
      "Epoch 28/30\n",
      "9/9 [==============================] - ETA: 0s - loss: 0.0015 - accuracy: 0.9638\n",
      "Epoch 28: val_accuracy improved from 0.96311 to 0.96429, saving model to ./data_out/transformer\\weights.h5\n",
      "9/9 [==============================] - 1s 123ms/step - loss: 0.0015 - accuracy: 0.9638 - val_loss: 0.2212 - val_accuracy: 0.9643\n",
      "Epoch 29/30\n",
      "9/9 [==============================] - ETA: 0s - loss: 0.0013 - accuracy: 0.9649\n",
      "Epoch 29: val_accuracy improved from 0.96429 to 0.96538, saving model to ./data_out/transformer\\weights.h5\n",
      "9/9 [==============================] - 1s 125ms/step - loss: 0.0013 - accuracy: 0.9649 - val_loss: 0.2269 - val_accuracy: 0.9654\n",
      "Epoch 30/30\n",
      "9/9 [==============================] - ETA: 0s - loss: 0.0012 - accuracy: 0.9660\n",
      "Epoch 30: val_accuracy improved from 0.96538 to 0.96640, saving model to ./data_out/transformer\\weights.h5\n",
      "9/9 [==============================] - 1s 125ms/step - loss: 0.0012 - accuracy: 0.9660 - val_loss: 0.2288 - val_accuracy: 0.9664\n"
     ]
    }
   ],
   "source": [
    "history = model.fit([index_inputs, index_outputs], index_targets, \n",
    "                    batch_size=BATCH_SIZE, epochs=EPOCHS,\n",
    "                    validation_split=VALID_SPLIT, callbacks=[earlystop_callback, cp_callback])"
   ]
  },
  {
   "cell_type": "markdown",
   "metadata": {},
   "source": [
    "# 결과 플롯"
   ]
  },
  {
   "cell_type": "code",
   "execution_count": 26,
   "metadata": {},
   "outputs": [
    {
     "data": {
      "image/png": "[encoded data removed]",
      "text/plain": [
       "<Figure size 640x480 with 1 Axes>"
      ]
     },
     "metadata": {},
     "output_type": "display_data"
    }
   ],
   "source": [
    "plot_graphs(history, 'accuracy')"
   ]
  },
  {
   "cell_type": "code",
   "execution_count": 27,
   "metadata": {},
   "outputs": [
    {
     "data": {
      "image/png": "[encoded data removed]",
      "text/plain": [
       "<Figure size 640x480 with 1 Axes>"
      ]
     },
     "metadata": {},
     "output_type": "display_data"
    }
   ],
   "source": [
    "plot_graphs(history, 'loss')"
   ]
  },
  {
   "cell_type": "markdown",
   "metadata": {},
   "source": [
    "# 베스트 모델 불러오기"
   ]
  },
  {
   "cell_type": "code",
   "execution_count": 28,
   "metadata": {},
   "outputs": [],
   "source": [
    "DATA_OUT_PATH = './data_out/'\n",
    "SAVE_FILE_NM = 'weights.h5'\n",
    "\n",
    "model.load_weights(os.path.join(DATA_OUT_PATH, model_name, SAVE_FILE_NM))"
   ]
  },
  {
   "cell_type": "markdown",
   "metadata": {},
   "source": [
    "# 모델 결과 출력하기"
   ]
  },
  {
   "cell_type": "code",
   "execution_count": 29,
   "metadata": {},
   "outputs": [],
   "source": [
    "char2idx = prepro_configs['char2idx']\n",
    "idx2char = prepro_configs['idx2char']"
   ]
  },
  {
   "cell_type": "code",
   "execution_count": 30,
   "metadata": {},
   "outputs": [
    {
     "name": "stdout",
     "output_type": "stream",
     "text": [
      "평소에 필요했던 게 좋을 것 같아요\n"
     ]
    }
   ],
   "source": [
    "text = \"남자친구 승진 선물로 뭐가 좋을까?\"\n",
    "test_index_inputs, _ = enc_processing([text], char2idx)\n",
    "outputs = model.inference(test_index_inputs)\n",
    "\n",
    "print(' '.join([idx2char[str(o)] for o in outputs]))"
   ]
  },
  {
   "cell_type": "code",
   "execution_count": null,
   "metadata": {},
   "outputs": [],
   "source": []
  }
 ],
 "metadata": {
  "kernelspec": {
   "display_name": "Python 3 (ipykernel)",
   "language": "python",
   "name": "python3"
  },
  "language_info": {
   "codemirror_mode": {
    "name": "ipython",
    "version": 3
   },
   "file_extension": ".py",
   "mimetype": "text/x-python",
   "name": "python",
   "nbconvert_exporter": "python",
   "pygments_lexer": "ipython3",
   "version": "3.8.15"
  },
  "toc": {
   "base_numbering": 1,
   "nav_menu": {},
   "number_sections": true,
   "sideBar": true,
   "skip_h1_title": false,
   "title_cell": "Table of Contents",
   "title_sidebar": "Contents",
   "toc_cell": true,
   "toc_position": {},
   "toc_section_display": true,
   "toc_window_display": true
  }
 },
 "nbformat": 4,
 "nbformat_minor": 2
}
