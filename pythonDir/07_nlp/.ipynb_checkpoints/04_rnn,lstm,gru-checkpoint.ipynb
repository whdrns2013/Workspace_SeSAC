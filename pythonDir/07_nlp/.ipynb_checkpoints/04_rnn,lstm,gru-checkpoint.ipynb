{
 "cells": [
  {
   "cell_type": "markdown",
   "id": "09dde943-cb01-4aea-93e2-4e9fc383082d",
   "metadata": {},
   "source": [
    "# 강사님 생각"
   ]
  },
  {
   "cell_type": "markdown",
   "id": "8bb9b81a-fbef-43f1-ab9a-40b1d92e99cd",
   "metadata": {},
   "source": [
    "## 좋은 회사란??  \n",
    "* 세미나를 많이 하는 회사라고 생각한다.  \n",
    "* 이는, 계속 성장하려는 회사라는 것이고  \n",
    "* 직원들이 공부할 수 있게 하는 회사라는 것이다.  \n",
    "* 규모의 문제가 아님  \n",
    "* 계속 외부 인재를 통한 인사이트 업그레이드는 불가능하다.  \n",
    "* 내부 인재들에게 성장하게 하고, 이를 세미나를 통해 발표하는 것. 아주 바람직하다.  "
   ]
  },
  {
   "cell_type": "markdown",
   "id": "b2aacb0c-4c38-430c-9afe-35b9ed0df094",
   "metadata": {},
   "source": [
    "# 텍스트 딥러닝"
   ]
  },
  {
   "cell_type": "markdown",
   "id": "d72d6930-0d93-4c36-b1ed-badc078205c8",
   "metadata": {},
   "source": [
    "* 텍스트 딥러닝에서 알아둘 개념 : RNN, LSTM, GRU\n",
    "* LSTM, GRU는 RNN의 파생형\n",
    "* Seq2seq : 문장 to 문장. RNN을 사용하는 개념이다. 이를 통해 번역이나 챗봇, 요약 등이 가능하다.  \n",
    "* 그런데 하다 보면, RNN이 필요가 없고 Transformer 구조로 간다. RNN이 아닌, Attention의 개념으로 가게 된다.??? 이게 무엇???  \n",
    "* 그러면 우리가 매번 학습을 시켜야 하나? 그럴 필요가 없음. 이에 pre-trained(fine-tuning) 사전학습 된 것을 전이학습으로 사용하는 것으로 충분하게 된다.  \n",
    "* 여기서 나오는 것들이 BERT, GPT(챗 GPT로 알려진) 것들이다.  "
   ]
  },
  {
   "cell_type": "markdown",
   "id": "1531dc35-1c65-45be-b9e0-72a6a2ab78eb",
   "metadata": {},
   "source": [
    "* speach 음성인식 쪽은 이미 많이 개발이 되었고, 더이상 더 좋은 기술이 필요가 없을 정도이다. 라고 강사님은 본다.  \n",
    "* 그래서 굳이 speach를 진행해야할까... 라는 생각이 있다.  "
   ]
  },
  {
   "cell_type": "markdown",
   "id": "c87853d3-a8b9-4380-8e25-f410ba14d0c7",
   "metadata": {},
   "source": [
    "## RNN으로 가사 분석해보기"
   ]
  },
  {
   "cell_type": "code",
   "execution_count": 24,
   "id": "731b3e82-18d8-4100-8f52-dea01406b213",
   "metadata": {},
   "outputs": [],
   "source": [
    "text = '''저 별을 따다가 니 귀에 걸어주고파\n",
    "저 달 따다가 니 목에 걸어주고파\n",
    "세상 모든 좋은 것만 해주고 싶은\n",
    "이런 내 맘을 그댄 아나요.'''"
   ]
  },
  {
   "cell_type": "code",
   "execution_count": 25,
   "id": "c2170828-61bb-434e-bf5d-9739f9b2bad3",
   "metadata": {},
   "outputs": [
    {
     "data": {
      "text/plain": [
       "\"\\n저? -> '별을' 을 출력\\n저 별을? -> '따다가' 를 출력\\n\""
      ]
     },
     "execution_count": 25,
     "metadata": {},
     "output_type": "execute_result"
    }
   ],
   "source": [
    "# 학습 목표\n",
    "# 위 텍스트를 학습시켰을 때\n",
    "\n",
    "'''\n",
    "저? -> '별을' 을 출력\n",
    "저 별을? -> '따다가' 를 출력\n",
    "'''\n",
    "\n",
    "# 이런 식으로, 운을 띄웠을 때 그 다음 문장을 예측하거나 추천할 수 있는 것."
   ]
  },
  {
   "cell_type": "code",
   "execution_count": 26,
   "id": "7de63e08-606e-4f9f-9c92-65104df825f2",
   "metadata": {},
   "outputs": [],
   "source": [
    "import numpy as np\n",
    "from tensorflow.keras.preprocessing.text import Tokenizer\n",
    "from tensorflow.keras.preprocessing.sequence import pad_sequences\n",
    "from tensorflow.keras.utils import to_categorical"
   ]
  },
  {
   "cell_type": "code",
   "execution_count": 27,
   "id": "a8be0569-4155-4f16-9cb6-9ea71b0d5445",
   "metadata": {},
   "outputs": [
    {
     "data": {
      "text/plain": [
       "{'저': 1,\n",
       " '따다가': 2,\n",
       " '니': 3,\n",
       " '걸어주고파': 4,\n",
       " '별을': 5,\n",
       " '귀에': 6,\n",
       " '달': 7,\n",
       " '목에': 8,\n",
       " '세상': 9,\n",
       " '모든': 10,\n",
       " '좋은': 11,\n",
       " '것만': 12,\n",
       " '해주고': 13,\n",
       " '싶은': 14,\n",
       " '이런': 15,\n",
       " '내': 16,\n",
       " '맘을': 17,\n",
       " '그댄': 18,\n",
       " '아나요': 19}"
      ]
     },
     "execution_count": 27,
     "metadata": {},
     "output_type": "execute_result"
    }
   ],
   "source": [
    "# 단어 인덱싱\n",
    "tok = Tokenizer()\n",
    "tok.fit_on_texts([text])\n",
    "tok.word_index"
   ]
  },
  {
   "cell_type": "code",
   "execution_count": 28,
   "id": "284c98e7-27f0-4081-b5df-b06d2930d493",
   "metadata": {},
   "outputs": [
    {
     "data": {
      "text/plain": [
       "20"
      ]
     },
     "execution_count": 28,
     "metadata": {},
     "output_type": "execute_result"
    }
   ],
   "source": [
    "# vocab size\n",
    "vocab_size = len(tok.word_index) + 1 # +1 : zero padding용\n",
    "vocab_size"
   ]
  },
  {
   "cell_type": "code",
   "execution_count": 59,
   "id": "62e700e9-f7f5-4f63-90e7-0672142180dc",
   "metadata": {},
   "outputs": [
    {
     "data": {
      "text/plain": [
       "[[1, 5],\n",
       " [1, 5, 2],\n",
       " [1, 5, 2, 3],\n",
       " [1, 5, 2, 3, 6],\n",
       " [1, 5, 2, 3, 6, 4],\n",
       " [1, 7],\n",
       " [1, 7, 2],\n",
       " [1, 7, 2, 3],\n",
       " [1, 7, 2, 3, 8],\n",
       " [1, 7, 2, 3, 8, 4],\n",
       " [9, 10],\n",
       " [9, 10, 11],\n",
       " [9, 10, 11, 12],\n",
       " [9, 10, 11, 12, 13],\n",
       " [9, 10, 11, 12, 13, 14],\n",
       " [15, 16],\n",
       " [15, 16, 17],\n",
       " [15, 16, 17, 18],\n",
       " [15, 16, 17, 18, 19]]"
      ]
     },
     "execution_count": 59,
     "metadata": {},
     "output_type": "execute_result"
    }
   ],
   "source": [
    "# 문장으로 나눈 후\n",
    "# 각 문장이 전개되는 순서가 담긴 리스트 만들기\n",
    "\n",
    "seq_list = []\n",
    "\n",
    "for sentence in text.split('\\n'):\n",
    "    res = tok.texts_to_sequences([sentence])[0]\n",
    "    for i in range(1, len(res)):\n",
    "        seq = res[:i+1]\n",
    "        seq_list.append(seq)\n",
    "\n",
    "seq_list"
   ]
  },
  {
   "cell_type": "markdown",
   "id": "c23526ab-b746-4926-b00e-3eb4a8f50a5c",
   "metadata": {},
   "source": [
    "* 위 코드 결과값 설명\n",
    "\n",
    "[1, 5], 저 별을  \n",
    "[1, 5, 2], 저 별을 따다가  \n",
    "[1, 5, 2, 3], 저 별을 따다가 니  \n",
    "[1, 5, 2, 3, 6], 저 별을 따다가 니 귀에  \n",
    "[1, 5, 2, 3, 6, 4], 저 별을 따다가 니 귀에 걸어주고파  \n",
    "..."
   ]
  },
  {
   "cell_type": "code",
   "execution_count": 60,
   "id": "01d79005-cd64-4548-9b2e-5127e657a80e",
   "metadata": {},
   "outputs": [
    {
     "data": {
      "text/plain": [
       "array([[ 0,  0,  0,  0,  1,  5],\n",
       "       [ 0,  0,  0,  1,  5,  2],\n",
       "       [ 0,  0,  1,  5,  2,  3],\n",
       "       [ 0,  1,  5,  2,  3,  6],\n",
       "       [ 1,  5,  2,  3,  6,  4],\n",
       "       [ 0,  0,  0,  0,  1,  7],\n",
       "       [ 0,  0,  0,  1,  7,  2],\n",
       "       [ 0,  0,  1,  7,  2,  3],\n",
       "       [ 0,  1,  7,  2,  3,  8],\n",
       "       [ 1,  7,  2,  3,  8,  4],\n",
       "       [ 0,  0,  0,  0,  9, 10],\n",
       "       [ 0,  0,  0,  9, 10, 11],\n",
       "       [ 0,  0,  9, 10, 11, 12],\n",
       "       [ 0,  9, 10, 11, 12, 13],\n",
       "       [ 9, 10, 11, 12, 13, 14],\n",
       "       [ 0,  0,  0,  0, 15, 16],\n",
       "       [ 0,  0,  0, 15, 16, 17],\n",
       "       [ 0,  0, 15, 16, 17, 18],\n",
       "       [ 0, 15, 16, 17, 18, 19]])"
      ]
     },
     "execution_count": 60,
     "metadata": {},
     "output_type": "execute_result"
    }
   ],
   "source": [
    "# zero_padding 진행\n",
    "\n",
    "max_len = max(len(sent) for sent in seq_list)\n",
    "max_len # 결과값 : 6\n",
    "\n",
    "seq_padded = pad_sequences(seq_list, maxlen=max_len)\n",
    "seq_padded # 일반적으로 패딩 0은 값의 앞쪽에 위치한다."
   ]
  },
  {
   "cell_type": "code",
   "execution_count": 69,
   "id": "aa46ae33-4aaa-4671-9e92-37cd2d50d845",
   "metadata": {},
   "outputs": [
    {
     "data": {
      "text/plain": [
       "(19, 5)"
      ]
     },
     "execution_count": 69,
     "metadata": {},
     "output_type": "execute_result"
    }
   ],
   "source": [
    "# X와 y 나누기\n",
    "\n",
    "X = seq_padded[:, :-1] # X는 각 리스트에서 최종 단어 하나를 뺀 전부\n",
    "y = seq_padded[:, -1] # y는 각 리스트의 가장 마지막 값\n",
    "\n",
    "X.shape"
   ]
  },
  {
   "cell_type": "code",
   "execution_count": 68,
   "id": "4928d564-0c73-4e02-ab9c-97376ffff40c",
   "metadata": {},
   "outputs": [
    {
     "data": {
      "text/plain": [
       "(19, 20)"
      ]
     },
     "execution_count": 68,
     "metadata": {},
     "output_type": "execute_result"
    }
   ],
   "source": [
    "# y 원핫인코딩\n",
    "y_hot = to_categorical(y, num_classes = vocab_size)\n",
    "y_hot.shape"
   ]
  },
  {
   "cell_type": "code",
   "execution_count": 105,
   "id": "eec1f3cf-2ec6-406e-bf44-ae3d8947ae29",
   "metadata": {},
   "outputs": [],
   "source": [
    "# 모델 만들기\n",
    "from tensorflow.keras.models import Sequential\n",
    "from tensorflow.keras.layers import Embedding, Dense, SimpleRNN\n",
    "\n",
    "model = Sequential([\n",
    "    Embedding(vocab_size, 10), # 이만큼의 vocab_size가 들어갈거야, 그리고 각 단어들을 10개 차원으로 나눠서 (분석?) 해줘\n",
    "    SimpleRNN(32),\n",
    "    Dense(vocab_size, activation='softmax')]) # 원핫인코딩이므로 소프트맥스"
   ]
  },
  {
   "cell_type": "code",
   "execution_count": 106,
   "id": "cc60524e-8919-43ae-b241-a41cf9e1874a",
   "metadata": {
    "tags": []
   },
   "outputs": [
    {
     "name": "stdout",
     "output_type": "stream",
     "text": [
      "Model: \"sequential_7\"\n",
      "_________________________________________________________________\n",
      " Layer (type)                Output Shape              Param #   \n",
      "=================================================================\n",
      " embedding_7 (Embedding)     (None, None, 10)          200       \n",
      "                                                                 \n",
      " simple_rnn_7 (SimpleRNN)    (None, 32)                1376      \n",
      "                                                                 \n",
      " dense_7 (Dense)             (None, 20)                660       \n",
      "                                                                 \n",
      "=================================================================\n",
      "Total params: 2,236\n",
      "Trainable params: 2,236\n",
      "Non-trainable params: 0\n",
      "_________________________________________________________________\n"
     ]
    }
   ],
   "source": [
    "# 모델 둘러보기\n",
    "model.summary()"
   ]
  },
  {
   "cell_type": "code",
   "execution_count": 110,
   "id": "be328965-cc8f-40d2-8b7a-ce6323b90465",
   "metadata": {
    "collapsed": true,
    "jupyter": {
     "outputs_hidden": true
    },
    "tags": []
   },
   "outputs": [
    {
     "name": "stdout",
     "output_type": "stream",
     "text": [
      "Epoch 1/150\n",
      "1/1 [==============================] - 3s 3s/step - loss: 0.4326 - accuracy: 0.9474\n",
      "Epoch 2/150\n",
      "1/1 [==============================] - 0s 14ms/step - loss: 0.4248 - accuracy: 0.9474\n",
      "Epoch 3/150\n",
      "1/1 [==============================] - 0s 15ms/step - loss: 0.4178 - accuracy: 0.9474\n",
      "Epoch 4/150\n",
      "1/1 [==============================] - 0s 14ms/step - loss: 0.4100 - accuracy: 0.9474\n",
      "Epoch 5/150\n",
      "1/1 [==============================] - 0s 13ms/step - loss: 0.4032 - accuracy: 0.9474\n",
      "Epoch 6/150\n",
      "1/1 [==============================] - 0s 11ms/step - loss: 0.3962 - accuracy: 0.9474\n",
      "Epoch 7/150\n",
      "1/1 [==============================] - 0s 10ms/step - loss: 0.3891 - accuracy: 0.9474\n",
      "Epoch 8/150\n",
      "1/1 [==============================] - 0s 10ms/step - loss: 0.3825 - accuracy: 0.9474\n",
      "Epoch 9/150\n",
      "1/1 [==============================] - 0s 11ms/step - loss: 0.3760 - accuracy: 0.9474\n",
      "Epoch 10/150\n",
      "1/1 [==============================] - 0s 11ms/step - loss: 0.3693 - accuracy: 0.9474\n",
      "Epoch 11/150\n",
      "1/1 [==============================] - 0s 13ms/step - loss: 0.3630 - accuracy: 0.9474\n",
      "Epoch 12/150\n",
      "1/1 [==============================] - 0s 13ms/step - loss: 0.3569 - accuracy: 0.9474\n",
      "Epoch 13/150\n",
      "1/1 [==============================] - 0s 12ms/step - loss: 0.3507 - accuracy: 0.9474\n",
      "Epoch 14/150\n",
      "1/1 [==============================] - 0s 11ms/step - loss: 0.3446 - accuracy: 0.9474\n",
      "Epoch 15/150\n",
      "1/1 [==============================] - 0s 12ms/step - loss: 0.3388 - accuracy: 0.9474\n",
      "Epoch 16/150\n",
      "1/1 [==============================] - 0s 13ms/step - loss: 0.3331 - accuracy: 0.9474\n",
      "Epoch 17/150\n",
      "1/1 [==============================] - 0s 12ms/step - loss: 0.3274 - accuracy: 0.9474\n",
      "Epoch 18/150\n",
      "1/1 [==============================] - 0s 11ms/step - loss: 0.3219 - accuracy: 0.9474\n",
      "Epoch 19/150\n",
      "1/1 [==============================] - 0s 11ms/step - loss: 0.3166 - accuracy: 0.9474\n",
      "Epoch 20/150\n",
      "1/1 [==============================] - 0s 12ms/step - loss: 0.3113 - accuracy: 0.9474\n",
      "Epoch 21/150\n",
      "1/1 [==============================] - 0s 10ms/step - loss: 0.3061 - accuracy: 0.9474\n",
      "Epoch 22/150\n",
      "1/1 [==============================] - 0s 10ms/step - loss: 0.3011 - accuracy: 0.9474\n",
      "Epoch 23/150\n",
      "1/1 [==============================] - 0s 12ms/step - loss: 0.2962 - accuracy: 0.9474\n",
      "Epoch 24/150\n",
      "1/1 [==============================] - 0s 13ms/step - loss: 0.2914 - accuracy: 0.9474\n",
      "Epoch 25/150\n",
      "1/1 [==============================] - 0s 11ms/step - loss: 0.2867 - accuracy: 0.9474\n",
      "Epoch 26/150\n",
      "1/1 [==============================] - 0s 10ms/step - loss: 0.2821 - accuracy: 0.9474\n",
      "Epoch 27/150\n",
      "1/1 [==============================] - 0s 11ms/step - loss: 0.2776 - accuracy: 0.9474\n",
      "Epoch 28/150\n",
      "1/1 [==============================] - 0s 10ms/step - loss: 0.2732 - accuracy: 0.9474\n",
      "Epoch 29/150\n",
      "1/1 [==============================] - 0s 13ms/step - loss: 0.2689 - accuracy: 0.9474\n",
      "Epoch 30/150\n",
      "1/1 [==============================] - 0s 12ms/step - loss: 0.2648 - accuracy: 0.9474\n",
      "Epoch 31/150\n",
      "1/1 [==============================] - 0s 12ms/step - loss: 0.2607 - accuracy: 0.9474\n",
      "Epoch 32/150\n",
      "1/1 [==============================] - 0s 11ms/step - loss: 0.2567 - accuracy: 0.9474\n",
      "Epoch 33/150\n",
      "1/1 [==============================] - 0s 12ms/step - loss: 0.2528 - accuracy: 0.9474\n",
      "Epoch 34/150\n",
      "1/1 [==============================] - 0s 12ms/step - loss: 0.2490 - accuracy: 0.9474\n",
      "Epoch 35/150\n",
      "1/1 [==============================] - 0s 10ms/step - loss: 0.2453 - accuracy: 0.9474\n",
      "Epoch 36/150\n",
      "1/1 [==============================] - 0s 10ms/step - loss: 0.2417 - accuracy: 0.9474\n",
      "Epoch 37/150\n",
      "1/1 [==============================] - 0s 11ms/step - loss: 0.2382 - accuracy: 0.9474\n",
      "Epoch 38/150\n",
      "1/1 [==============================] - 0s 11ms/step - loss: 0.2347 - accuracy: 0.9474\n",
      "Epoch 39/150\n",
      "1/1 [==============================] - 0s 13ms/step - loss: 0.2313 - accuracy: 0.9474\n",
      "Epoch 40/150\n",
      "1/1 [==============================] - 0s 13ms/step - loss: 0.2281 - accuracy: 0.9474\n",
      "Epoch 41/150\n",
      "1/1 [==============================] - 0s 11ms/step - loss: 0.2248 - accuracy: 0.9474\n",
      "Epoch 42/150\n",
      "1/1 [==============================] - 0s 10ms/step - loss: 0.2217 - accuracy: 0.9474\n",
      "Epoch 43/150\n",
      "1/1 [==============================] - 0s 12ms/step - loss: 0.2187 - accuracy: 0.9474\n",
      "Epoch 44/150\n",
      "1/1 [==============================] - 0s 11ms/step - loss: 0.2157 - accuracy: 0.9474\n",
      "Epoch 45/150\n",
      "1/1 [==============================] - 0s 10ms/step - loss: 0.2128 - accuracy: 0.9474\n",
      "Epoch 46/150\n",
      "1/1 [==============================] - 0s 12ms/step - loss: 0.2099 - accuracy: 0.9474\n",
      "Epoch 47/150\n",
      "1/1 [==============================] - 0s 14ms/step - loss: 0.2071 - accuracy: 0.9474\n",
      "Epoch 48/150\n",
      "1/1 [==============================] - 0s 13ms/step - loss: 0.2044 - accuracy: 0.9474\n",
      "Epoch 49/150\n",
      "1/1 [==============================] - 0s 13ms/step - loss: 0.2018 - accuracy: 0.9474\n",
      "Epoch 50/150\n",
      "1/1 [==============================] - 0s 11ms/step - loss: 0.1992 - accuracy: 0.9474\n",
      "Epoch 51/150\n",
      "1/1 [==============================] - 0s 10ms/step - loss: 0.1967 - accuracy: 0.9474\n",
      "Epoch 52/150\n",
      "1/1 [==============================] - 0s 15ms/step - loss: 0.1942 - accuracy: 0.9474\n",
      "Epoch 53/150\n",
      "1/1 [==============================] - 0s 11ms/step - loss: 0.1918 - accuracy: 0.9474\n",
      "Epoch 54/150\n",
      "1/1 [==============================] - 0s 9ms/step - loss: 0.1895 - accuracy: 0.9474\n",
      "Epoch 55/150\n",
      "1/1 [==============================] - 0s 12ms/step - loss: 0.1872 - accuracy: 0.9474\n",
      "Epoch 56/150\n",
      "1/1 [==============================] - 0s 11ms/step - loss: 0.1850 - accuracy: 0.9474\n",
      "Epoch 57/150\n",
      "1/1 [==============================] - 0s 11ms/step - loss: 0.1828 - accuracy: 0.9474\n",
      "Epoch 58/150\n",
      "1/1 [==============================] - 0s 11ms/step - loss: 0.1806 - accuracy: 0.9474\n",
      "Epoch 59/150\n",
      "1/1 [==============================] - 0s 9ms/step - loss: 0.1786 - accuracy: 0.9474\n",
      "Epoch 60/150\n",
      "1/1 [==============================] - 0s 12ms/step - loss: 0.1765 - accuracy: 0.9474\n",
      "Epoch 61/150\n",
      "1/1 [==============================] - 0s 13ms/step - loss: 0.1745 - accuracy: 0.9474\n",
      "Epoch 62/150\n",
      "1/1 [==============================] - 0s 13ms/step - loss: 0.1726 - accuracy: 0.9474\n",
      "Epoch 63/150\n",
      "1/1 [==============================] - 0s 13ms/step - loss: 0.1707 - accuracy: 0.9474\n",
      "Epoch 64/150\n",
      "1/1 [==============================] - 0s 11ms/step - loss: 0.1689 - accuracy: 0.9474\n",
      "Epoch 65/150\n",
      "1/1 [==============================] - 0s 10ms/step - loss: 0.1671 - accuracy: 0.9474\n",
      "Epoch 66/150\n",
      "1/1 [==============================] - 0s 13ms/step - loss: 0.1653 - accuracy: 0.9474\n",
      "Epoch 67/150\n",
      "1/1 [==============================] - 0s 11ms/step - loss: 0.1636 - accuracy: 0.9474\n",
      "Epoch 68/150\n",
      "1/1 [==============================] - 0s 11ms/step - loss: 0.1619 - accuracy: 0.9474\n",
      "Epoch 69/150\n",
      "1/1 [==============================] - 0s 12ms/step - loss: 0.1603 - accuracy: 0.9474\n",
      "Epoch 70/150\n",
      "1/1 [==============================] - 0s 10ms/step - loss: 0.1587 - accuracy: 0.9474\n",
      "Epoch 71/150\n",
      "1/1 [==============================] - 0s 11ms/step - loss: 0.1571 - accuracy: 0.9474\n",
      "Epoch 72/150\n",
      "1/1 [==============================] - 0s 12ms/step - loss: 0.1556 - accuracy: 0.9474\n",
      "Epoch 73/150\n",
      "1/1 [==============================] - 0s 15ms/step - loss: 0.1541 - accuracy: 0.9474\n",
      "Epoch 74/150\n",
      "1/1 [==============================] - 0s 13ms/step - loss: 0.1526 - accuracy: 0.9474\n",
      "Epoch 75/150\n",
      "1/1 [==============================] - 0s 11ms/step - loss: 0.1512 - accuracy: 0.9474\n",
      "Epoch 76/150\n",
      "1/1 [==============================] - 0s 9ms/step - loss: 0.1498 - accuracy: 0.9474\n",
      "Epoch 77/150\n",
      "1/1 [==============================] - 0s 13ms/step - loss: 0.1484 - accuracy: 0.9474\n",
      "Epoch 78/150\n",
      "1/1 [==============================] - 0s 10ms/step - loss: 0.1471 - accuracy: 0.9474\n",
      "Epoch 79/150\n",
      "1/1 [==============================] - 0s 11ms/step - loss: 0.1458 - accuracy: 0.9474\n",
      "Epoch 80/150\n",
      "1/1 [==============================] - 0s 13ms/step - loss: 0.1445 - accuracy: 0.9474\n",
      "Epoch 81/150\n",
      "1/1 [==============================] - 0s 10ms/step - loss: 0.1432 - accuracy: 0.9474\n",
      "Epoch 82/150\n",
      "1/1 [==============================] - 0s 13ms/step - loss: 0.1420 - accuracy: 0.9474\n",
      "Epoch 83/150\n",
      "1/1 [==============================] - 0s 13ms/step - loss: 0.1408 - accuracy: 0.9474\n",
      "Epoch 84/150\n",
      "1/1 [==============================] - 0s 12ms/step - loss: 0.1397 - accuracy: 0.9474\n",
      "Epoch 85/150\n",
      "1/1 [==============================] - 0s 12ms/step - loss: 0.1385 - accuracy: 0.9474\n",
      "Epoch 86/150\n",
      "1/1 [==============================] - 0s 10ms/step - loss: 0.1374 - accuracy: 0.9474\n",
      "Epoch 87/150\n",
      "1/1 [==============================] - 0s 11ms/step - loss: 0.1363 - accuracy: 0.9474\n",
      "Epoch 88/150\n",
      "1/1 [==============================] - 0s 8ms/step - loss: 0.1353 - accuracy: 0.9474\n",
      "Epoch 89/150\n",
      "1/1 [==============================] - 0s 10ms/step - loss: 0.1342 - accuracy: 0.9474\n",
      "Epoch 90/150\n",
      "1/1 [==============================] - 0s 10ms/step - loss: 0.1332 - accuracy: 0.9474\n",
      "Epoch 91/150\n",
      "1/1 [==============================] - 0s 10ms/step - loss: 0.1322 - accuracy: 0.9474\n",
      "Epoch 92/150\n",
      "1/1 [==============================] - 0s 8ms/step - loss: 0.1312 - accuracy: 0.9474\n",
      "Epoch 93/150\n",
      "1/1 [==============================] - 0s 11ms/step - loss: 0.1303 - accuracy: 0.9474\n",
      "Epoch 94/150\n",
      "1/1 [==============================] - 0s 13ms/step - loss: 0.1293 - accuracy: 0.9474\n",
      "Epoch 95/150\n",
      "1/1 [==============================] - 0s 11ms/step - loss: 0.1284 - accuracy: 0.9474\n",
      "Epoch 96/150\n",
      "1/1 [==============================] - 0s 10ms/step - loss: 0.1275 - accuracy: 0.9474\n",
      "Epoch 97/150\n",
      "1/1 [==============================] - 0s 14ms/step - loss: 0.1267 - accuracy: 0.9474\n",
      "Epoch 98/150\n",
      "1/1 [==============================] - 0s 13ms/step - loss: 0.1258 - accuracy: 0.9474\n",
      "Epoch 99/150\n",
      "1/1 [==============================] - 0s 11ms/step - loss: 0.1250 - accuracy: 0.9474\n",
      "Epoch 100/150\n",
      "1/1 [==============================] - 0s 11ms/step - loss: 0.1242 - accuracy: 0.9474\n",
      "Epoch 101/150\n",
      "1/1 [==============================] - 0s 12ms/step - loss: 0.1234 - accuracy: 0.9474\n",
      "Epoch 102/150\n",
      "1/1 [==============================] - 0s 13ms/step - loss: 0.1226 - accuracy: 0.9474\n",
      "Epoch 103/150\n",
      "1/1 [==============================] - 0s 11ms/step - loss: 0.1218 - accuracy: 0.9474\n",
      "Epoch 104/150\n",
      "1/1 [==============================] - 0s 10ms/step - loss: 0.1211 - accuracy: 0.9474\n",
      "Epoch 105/150\n",
      "1/1 [==============================] - 0s 13ms/step - loss: 0.1203 - accuracy: 0.9474\n",
      "Epoch 106/150\n",
      "1/1 [==============================] - 0s 10ms/step - loss: 0.1196 - accuracy: 0.9474\n",
      "Epoch 107/150\n",
      "1/1 [==============================] - 0s 11ms/step - loss: 0.1189 - accuracy: 0.9474\n",
      "Epoch 108/150\n",
      "1/1 [==============================] - 0s 11ms/step - loss: 0.1182 - accuracy: 0.9474\n",
      "Epoch 109/150\n",
      "1/1 [==============================] - 0s 11ms/step - loss: 0.1175 - accuracy: 0.9474\n",
      "Epoch 110/150\n",
      "1/1 [==============================] - 0s 11ms/step - loss: 0.1169 - accuracy: 0.9474\n",
      "Epoch 111/150\n",
      "1/1 [==============================] - 0s 11ms/step - loss: 0.1162 - accuracy: 0.9474\n",
      "Epoch 112/150\n",
      "1/1 [==============================] - 0s 12ms/step - loss: 0.1156 - accuracy: 0.9474\n",
      "Epoch 113/150\n",
      "1/1 [==============================] - 0s 10ms/step - loss: 0.1150 - accuracy: 0.9474\n",
      "Epoch 114/150\n",
      "1/1 [==============================] - 0s 12ms/step - loss: 0.1144 - accuracy: 0.9474\n",
      "Epoch 115/150\n",
      "1/1 [==============================] - 0s 21ms/step - loss: 0.1138 - accuracy: 0.9474\n",
      "Epoch 116/150\n",
      "1/1 [==============================] - 0s 19ms/step - loss: 0.1132 - accuracy: 0.9474\n",
      "Epoch 117/150\n",
      "1/1 [==============================] - 0s 8ms/step - loss: 0.1126 - accuracy: 0.9474\n",
      "Epoch 118/150\n",
      "1/1 [==============================] - 0s 11ms/step - loss: 0.1120 - accuracy: 0.9474\n",
      "Epoch 119/150\n",
      "1/1 [==============================] - 0s 10ms/step - loss: 0.1115 - accuracy: 0.9474\n",
      "Epoch 120/150\n",
      "1/1 [==============================] - 0s 9ms/step - loss: 0.1110 - accuracy: 0.9474\n",
      "Epoch 121/150\n",
      "1/1 [==============================] - 0s 9ms/step - loss: 0.1104 - accuracy: 0.9474\n",
      "Epoch 122/150\n",
      "1/1 [==============================] - 0s 10ms/step - loss: 0.1099 - accuracy: 0.9474\n",
      "Epoch 123/150\n",
      "1/1 [==============================] - 0s 10ms/step - loss: 0.1094 - accuracy: 0.9474\n",
      "Epoch 124/150\n",
      "1/1 [==============================] - 0s 10ms/step - loss: 0.1089 - accuracy: 0.9474\n",
      "Epoch 125/150\n",
      "1/1 [==============================] - 0s 11ms/step - loss: 0.1084 - accuracy: 0.9474\n",
      "Epoch 126/150\n",
      "1/1 [==============================] - 0s 12ms/step - loss: 0.1079 - accuracy: 0.9474\n",
      "Epoch 127/150\n",
      "1/1 [==============================] - 0s 11ms/step - loss: 0.1075 - accuracy: 0.9474\n",
      "Epoch 128/150\n",
      "1/1 [==============================] - 0s 11ms/step - loss: 0.1070 - accuracy: 0.9474\n",
      "Epoch 129/150\n",
      "1/1 [==============================] - 0s 10ms/step - loss: 0.1066 - accuracy: 0.9474\n",
      "Epoch 130/150\n",
      "1/1 [==============================] - 0s 13ms/step - loss: 0.1061 - accuracy: 0.9474\n",
      "Epoch 131/150\n",
      "1/1 [==============================] - 0s 10ms/step - loss: 0.1057 - accuracy: 0.9474\n",
      "Epoch 132/150\n",
      "1/1 [==============================] - 0s 11ms/step - loss: 0.1053 - accuracy: 0.9474\n",
      "Epoch 133/150\n",
      "1/1 [==============================] - 0s 8ms/step - loss: 0.1049 - accuracy: 0.9474\n",
      "Epoch 134/150\n",
      "1/1 [==============================] - 0s 10ms/step - loss: 0.1044 - accuracy: 0.9474\n",
      "Epoch 135/150\n",
      "1/1 [==============================] - 0s 10ms/step - loss: 0.1040 - accuracy: 0.9474\n",
      "Epoch 136/150\n",
      "1/1 [==============================] - 0s 11ms/step - loss: 0.1037 - accuracy: 0.9474\n",
      "Epoch 137/150\n",
      "1/1 [==============================] - 0s 12ms/step - loss: 0.1033 - accuracy: 0.9474\n",
      "Epoch 138/150\n",
      "1/1 [==============================] - 0s 13ms/step - loss: 0.1029 - accuracy: 0.9474\n",
      "Epoch 139/150\n",
      "1/1 [==============================] - 0s 12ms/step - loss: 0.1025 - accuracy: 0.9474\n",
      "Epoch 140/150\n",
      "1/1 [==============================] - 0s 12ms/step - loss: 0.1022 - accuracy: 0.9474\n",
      "Epoch 141/150\n",
      "1/1 [==============================] - 0s 10ms/step - loss: 0.1018 - accuracy: 0.9474\n",
      "Epoch 142/150\n",
      "1/1 [==============================] - 0s 10ms/step - loss: 0.1014 - accuracy: 0.9474\n",
      "Epoch 143/150\n",
      "1/1 [==============================] - 0s 12ms/step - loss: 0.1011 - accuracy: 0.9474\n",
      "Epoch 144/150\n",
      "1/1 [==============================] - 0s 11ms/step - loss: 0.1008 - accuracy: 0.9474\n",
      "Epoch 145/150\n",
      "1/1 [==============================] - 0s 10ms/step - loss: 0.1004 - accuracy: 0.9474\n",
      "Epoch 146/150\n",
      "1/1 [==============================] - 0s 13ms/step - loss: 0.1001 - accuracy: 0.9474\n",
      "Epoch 147/150\n",
      "1/1 [==============================] - 0s 13ms/step - loss: 0.0998 - accuracy: 0.9474\n",
      "Epoch 148/150\n",
      "1/1 [==============================] - 0s 11ms/step - loss: 0.0995 - accuracy: 0.9474\n",
      "Epoch 149/150\n",
      "1/1 [==============================] - 0s 12ms/step - loss: 0.0992 - accuracy: 0.9474\n",
      "Epoch 150/150\n",
      "1/1 [==============================] - 0s 11ms/step - loss: 0.0989 - accuracy: 0.9474\n"
     ]
    }
   ],
   "source": [
    "#### 모델 컴파일\n",
    "model.compile(loss = 'categorical_crossentropy', # 로스는 어떻게 할거냐\n",
    "              optimizer = 'adam', # 로스는 어떻게 찾아갈거냐\n",
    "              metrics = ['accuracy']) # 성능 측정은 어떻게 할 거냐\n",
    "\n",
    "# 학습\n",
    "history = model.fit(X, y_hot, epochs = 150, verbose = 1)\n",
    "\n",
    "## label_encoding : sparse_categorical_crossentropy / 0.8947\n",
    "## one-hot_encoding : categorical_crossentropy / 0.9474"
   ]
  },
  {
   "cell_type": "code",
   "execution_count": 108,
   "id": "ed04e9ee-97e1-408f-b0a9-bc3de3801ad1",
   "metadata": {},
   "outputs": [
    {
     "data": {
      "text/plain": [
       "[<matplotlib.lines.Line2D at 0x1e7bb173d00>]"
      ]
     },
     "execution_count": 108,
     "metadata": {},
     "output_type": "execute_result"
    },
    {
     "data": {
      "image/png": "[encoded data removed]",
      "text/plain": [
       "<Figure size 640x480 with 1 Axes>"
      ]
     },
     "metadata": {},
     "output_type": "display_data"
    }
   ],
   "source": [
    "import matplotlib.pyplot as plt\n",
    "plt.plot(history.history['accuracy'])"
   ]
  },
  {
   "cell_type": "code",
   "execution_count": 123,
   "id": "4adf7304-3705-4c41-8687-9d8e204e1979",
   "metadata": {},
   "outputs": [
    {
     "data": {
      "text/plain": [
       "{15: '이런', 16: '내', 17: '맘을', 18: '그댄'}"
      ]
     },
     "execution_count": 123,
     "metadata": {},
     "output_type": "execute_result"
    }
   ],
   "source": [
    "# 예측하고 싶은 텍스트 인코딩\n",
    "start_text = '이런 내 맘을 그댄'\n",
    "encoded = tok.texts_to_sequences([start_text])\n",
    "encoded_dic = { y : x for x, y in zip(start_text.split(), encoded[0])}\n",
    "\n",
    "\n",
    "# 예측하고 싶은 텍스트 패딩\n",
    "padded = pad_sequences(encoded, maxlen = max_len)\n",
    "padded\n",
    "\n",
    "## 패딩하는 이유 : 다시 한 번 상기해보자면, 입력값의 모양이 일정해야 분석이 가능하기 때문"
   ]
  },
  {
   "cell_type": "code",
   "execution_count": 124,
   "id": "8ebcc7b7-f6c3-47b1-a3ea-50fe56485d23",
   "metadata": {},
   "outputs": [
    {
     "name": "stdout",
     "output_type": "stream",
     "text": [
      "1/1 [==============================] - 0s 52ms/step\n"
     ]
    }
   ],
   "source": [
    "# 예측\n",
    "res = model.predict(padded, verbose=1)\n",
    "tok.word_index.get(res.argmax())"
   ]
  },
  {
   "cell_type": "code",
   "execution_count": null,
   "id": "2a4710ae-fded-4179-a1d5-cd4a2b49aaa0",
   "metadata": {},
   "outputs": [],
   "source": [
    "# 마무리\n",
    "## 임베딩\n",
    "## RNN을 이용한 학습 : RNN는 Sequence, 흐름이 있는 것을 분석하는 것에 적합하다.\n",
    "## Dense 학습 후 출력\n",
    "\n",
    "\n",
    "## 반댓말, 동의어 등 유사도 찾기는 : word2vec"
   ]
  },
  {
   "cell_type": "markdown",
   "id": "57134a76-2359-4325-af43-d5a5c77ee854",
   "metadata": {},
   "source": [
    "## 삼각함수를 이용한 시계열 분석 흐름 보기 ???\n",
    "\n",
    "* 이해보다는 일단 눈에 익히는 걸 목표로 수업 진행  "
   ]
  },
  {
   "cell_type": "code",
   "execution_count": 151,
   "id": "9ef58c2d-d27e-4e07-8f23-a725c4958900",
   "metadata": {},
   "outputs": [
    {
     "data": {
      "image/png": "[encoded data removed]",
      "text/plain": [
       "<Figure size 1500x400 with 1 Axes>"
      ]
     },
     "metadata": {},
     "output_type": "display_data"
    }
   ],
   "source": [
    "steps_per_cycle  = 20\n",
    "number_of_cycles = 176\n",
    "noise_factor = 0.1\n",
    "plot_num_cycles = 20\n",
    "\n",
    "seq_len = steps_per_cycle * number_of_cycles\n",
    "t = np.arange(seq_len)\n",
    "sin_t_noisy = np.sin(2*np.pi/steps_per_cycle*t + noise_factor * np.random.uniform(-1.0, 1.0, seq_len))\n",
    "sin_t_clean = np.sin(2*np.pi/steps_per_cycle*t)    \n",
    "    \n",
    "upto = plot_num_cycles * steps_per_cycle\n",
    "fig = plt.figure(figsize = (15, 4))\n",
    "plt.plot(t[:upto], sin_t_noisy[:upto], label='noisy')\n",
    "plt.plot(t[:upto], sin_t_clean[:upto], label='clean')\n",
    "plt.show()"
   ]
  },
  {
   "cell_type": "markdown",
   "id": "3880c342-513d-477b-8e1a-f3392cb3e51b",
   "metadata": {},
   "source": [
    "## 시계열자료 패킹\n",
    "\n",
    "* 시계열 자료는 이러이러하게 생겼으니\n",
    "* 시계열 자료의 데이터셋 준비는 이러이러하게 하면 된다~ 라는 내용인 듯"
   ]
  },
  {
   "cell_type": "code",
   "execution_count": null,
   "id": "7279885d-8dc9-4da8-959b-c3fe83c71112",
   "metadata": {},
   "outputs": [],
   "source": [
    "def pack_truncated_data(data, num_prev = 100):\n",
    "    X, Y = [], []\n",
    "    for i in range(len(data) - num_prev):\n",
    "        X.append(data[i:i+num_prev])\n",
    "        Y.append(data[i+num_prev])\n",
    "    \n",
    "    X = np.array(X)[:, :, np.newaxis] #[[2,3]]  keras가 요구하는 형태로\n",
    "    Y = np.array(Y)[:, np.newaxis]    #[[4]]  keras가 요구하는 형태로\n",
    "    return X, Y"
   ]
  },
  {
   "cell_type": "markdown",
   "id": "dfc892e7-172a-49aa-9442-0baa6c90ba1b",
   "metadata": {},
   "source": [
    "## 시계열자료 데이터셋 준비"
   ]
  },
  {
   "cell_type": "code",
   "execution_count": 152,
   "id": "f6e81770-00c7-47ae-8e55-f39d864425b4",
   "metadata": {},
   "outputs": [
    {
     "data": {
      "text/plain": [
       "(3520, (2630, 10, 1), (2630, 1), (2630, 10, 1), (2630, 1))"
      ]
     },
     "execution_count": 152,
     "metadata": {},
     "output_type": "execute_result"
    }
   ],
   "source": [
    "truncated_seq_len = 10\n",
    "test_split = 0.25\n",
    "\n",
    "data = sin_t_noisy\n",
    "data_len = data.shape[0]\n",
    "num_train = int(data_len*(1-test_split))\n",
    "\n",
    "train_data = data[:num_train]\n",
    "test_data = data[num_train:]\n",
    "\n",
    "X_train, y_train = pack_truncated_data(train_data, truncated_seq_len)\n",
    "X_test, y_test = pack_truncated_data(train_data, truncated_seq_len)\n",
    "\n",
    "data_len, X_train.shape, y_train.shape, X_test.shape, y_test.shape"
   ]
  },
  {
   "cell_type": "code",
   "execution_count": 158,
   "id": "9ad44e1e-4cdb-4eff-9f91-29d82edaf2c4",
   "metadata": {},
   "outputs": [],
   "source": [
    "def define_model(truncated_seq_len):\n",
    "    import tensorflow as tf\n",
    "    from keras.models import Sequential\n",
    "    from keras.layers import SimpleRNN, Dense\n",
    "    \n",
    "    input_dimension = 1 # input 차원. 우선 1개로 지정\n",
    "    output_dimension = 1 # output 차원. 우선 1개로 지정\n",
    "    hidden_dimension = 1 # 은닉층 차원수. 우선 1개로 지정\n",
    "    \n",
    "    model = Sequential(name='SEQ_RNN_1')\n",
    "    model.add(SimpleRNN(input_shape = (truncated_seq_len, input_dimension),\n",
    "                        units = hidden_dimension,\n",
    "                        return_sequences = False))\n",
    "    model.add(Dense(output_dimension))\n",
    "    \n",
    "    my_adam = tf.keras.optimizers.Adam(learning_rate=1e-3) # 오 이렇게 쓸 수도 있구나! 1e-3\n",
    "    \n",
    "    model.compile(loss = 'mse', # 다음값을 예측하는 것이기 때문에 회귀와 비슷하다. 회귀에 어울리는 mse\n",
    "                  optimizer = 'adam')\n",
    "    \n",
    "    return model"
   ]
  },
  {
   "cell_type": "code",
   "execution_count": 159,
   "id": "ce53bf05-34db-40eb-b5cc-a43e1e5bad7c",
   "metadata": {},
   "outputs": [
    {
     "name": "stdout",
     "output_type": "stream",
     "text": [
      "Model: \"SEQ_RNN_1\"\n",
      "_________________________________________________________________\n",
      " Layer (type)                Output Shape              Param #   \n",
      "=================================================================\n",
      " simple_rnn_10 (SimpleRNN)   (None, 1)                 3         \n",
      "                                                                 \n",
      " dense_10 (Dense)            (None, 1)                 2         \n",
      "                                                                 \n",
      "=================================================================\n",
      "Total params: 5\n",
      "Trainable params: 5\n",
      "Non-trainable params: 0\n",
      "_________________________________________________________________\n"
     ]
    }
   ],
   "source": [
    "model = define_model(X_train.shape[1]) # 10개\n",
    "model.summary()"
   ]
  },
  {
   "cell_type": "code",
   "execution_count": null,
   "id": "7de2eef6-77e6-4e64-abf4-092675576b77",
   "metadata": {},
   "outputs": [],
   "source": []
  }
 ],
 "metadata": {
  "kernelspec": {
   "display_name": "Python 3 (ipykernel)",
   "language": "python",
   "name": "python3"
  },
  "language_info": {
   "codemirror_mode": {
    "name": "ipython",
    "version": 3
   },
   "file_extension": ".py",
   "mimetype": "text/x-python",
   "name": "python",
   "nbconvert_exporter": "python",
   "pygments_lexer": "ipython3",
   "version": "3.8.15"
  }
 },
 "nbformat": 4,
 "nbformat_minor": 5
}
