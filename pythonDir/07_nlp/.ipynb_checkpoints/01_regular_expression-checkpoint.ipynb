{
 "cells": [
  {
   "cell_type": "markdown",
   "id": "e5f482d8-7f8f-4c9b-aa20-f376b8fd3d37",
   "metadata": {},
   "source": [
    "# 정규표현식 : RE 패키지"
   ]
  },
  {
   "cell_type": "markdown",
   "id": "ab4f96a2-1e04-45e6-ac63-79059983dbc0",
   "metadata": {},
   "source": [
    "Regular Expression : 정규 표현식"
   ]
  },
  {
   "cell_type": "markdown",
   "id": "feb628b6-cd68-445a-98ed-ffeadd246369",
   "metadata": {},
   "source": [
    "## re 패키지의 기본 개념"
   ]
  },
  {
   "cell_type": "markdown",
   "id": "c6090891-8974-40a0-8d29-d001abeb07ad",
   "metadata": {},
   "source": [
    "### compile과 search"
   ]
  },
  {
   "cell_type": "code",
   "execution_count": 7,
   "id": "5314aee3-1c81-41b8-aca8-1a4c2e866ac2",
   "metadata": {},
   "outputs": [],
   "source": [
    "import re"
   ]
  },
  {
   "cell_type": "code",
   "execution_count": 18,
   "id": "891224d7-b84b-4b94-b959-3e717af8deae",
   "metadata": {},
   "outputs": [],
   "source": [
    "r = re.compile(\"abc\")"
   ]
  },
  {
   "cell_type": "code",
   "execution_count": 19,
   "id": "77e5a9c3-af17-4472-81f9-0f8fb8173aad",
   "metadata": {},
   "outputs": [
    {
     "data": {
      "text/plain": [
       "<re.Match object; span=(0, 3), match='abc'>"
      ]
     },
     "execution_count": 19,
     "metadata": {},
     "output_type": "execute_result"
    }
   ],
   "source": [
    "r.search(\"abc\")"
   ]
  },
  {
   "cell_type": "markdown",
   "id": "3e4b0062-c7f9-47ba-8846-1f1ed3165c4c",
   "metadata": {},
   "source": [
    "### 기호 마침표 (.)\n",
    "\n",
    "* 미정의 어떠한 문자를 1개를 뜻함.  "
   ]
  },
  {
   "cell_type": "code",
   "execution_count": 22,
   "id": "692da371-8a4d-496f-a99e-ace80b3424e4",
   "metadata": {},
   "outputs": [],
   "source": [
    "r = re.compile(\"a.c\")"
   ]
  },
  {
   "cell_type": "code",
   "execution_count": 23,
   "id": "e18551d6-8935-4715-8546-a11b4979fd07",
   "metadata": {},
   "outputs": [
    {
     "data": {
      "text/plain": [
       "<re.Match object; span=(0, 3), match='abc'>"
      ]
     },
     "execution_count": 23,
     "metadata": {},
     "output_type": "execute_result"
    }
   ],
   "source": [
    "r.search(\"abc\")"
   ]
  },
  {
   "cell_type": "code",
   "execution_count": 24,
   "id": "15513cae-e392-4ab0-9807-c9537bf37840",
   "metadata": {},
   "outputs": [
    {
     "data": {
      "text/plain": [
       "<re.Match object; span=(0, 3), match='axc'>"
      ]
     },
     "execution_count": 24,
     "metadata": {},
     "output_type": "execute_result"
    }
   ],
   "source": [
    "r.search(\"axc\")"
   ]
  },
  {
   "cell_type": "code",
   "execution_count": 25,
   "id": "d4cd572c-8918-4961-8b9d-0d68fd995b93",
   "metadata": {},
   "outputs": [],
   "source": [
    "r.search(\"abbc\")"
   ]
  },
  {
   "cell_type": "code",
   "execution_count": 26,
   "id": "f1fa099d-cc55-4723-8feb-422750ba1bf6",
   "metadata": {},
   "outputs": [],
   "source": [
    "r = re.compile(\"a..c\")"
   ]
  },
  {
   "cell_type": "code",
   "execution_count": 27,
   "id": "990313c6-cd8f-4516-a0b9-e5b349bf153b",
   "metadata": {},
   "outputs": [],
   "source": [
    "r.search(\"abc\")"
   ]
  },
  {
   "cell_type": "code",
   "execution_count": 28,
   "id": "f3d2a573-ca97-4cb0-8088-2cd4f144ccb1",
   "metadata": {},
   "outputs": [
    {
     "data": {
      "text/plain": [
       "<re.Match object; span=(0, 4), match='abbc'>"
      ]
     },
     "execution_count": 28,
     "metadata": {},
     "output_type": "execute_result"
    }
   ],
   "source": [
    "r.search(\"abbc\")"
   ]
  },
  {
   "cell_type": "code",
   "execution_count": 29,
   "id": "2ad9b7f0-45ea-46e9-a440-a1506882d030",
   "metadata": {},
   "outputs": [],
   "source": [
    "r = re.compile(\"a..c\")"
   ]
  },
  {
   "cell_type": "code",
   "execution_count": 30,
   "id": "92e92344-9fe5-4038-b2ec-219d83a72787",
   "metadata": {},
   "outputs": [
    {
     "data": {
      "text/plain": [
       "<re.Match object; span=(0, 4), match='a12c'>"
      ]
     },
     "execution_count": 30,
     "metadata": {},
     "output_type": "execute_result"
    }
   ],
   "source": [
    "r.search(\"a12c\")"
   ]
  },
  {
   "cell_type": "code",
   "execution_count": 31,
   "id": "b4f68cee-bfc1-414a-874d-41b57d71ec00",
   "metadata": {},
   "outputs": [],
   "source": [
    "r.search(\"a1c\")"
   ]
  },
  {
   "cell_type": "markdown",
   "id": "ec654cdf-3e58-4321-ac46-bb323853b495",
   "metadata": {},
   "source": [
    "### 기호 물음표 (?)\n",
    "\n",
    "* 앞에 붙은 문자가 0개이거나 1개인 경우를 찾아 반환함\n",
    "* eg. \"ab?c\" -> a와 c 사이에 b가 1개나 0개인 경우를 반환. 다른 문자가 들어오면 다른 것으로 인식하여, 반환하지 아니함"
   ]
  },
  {
   "cell_type": "code",
   "execution_count": 33,
   "id": "9f4f4132-6806-4869-a891-b1be278f022d",
   "metadata": {},
   "outputs": [],
   "source": [
    "r = re.compile(\"ab?c\")"
   ]
  },
  {
   "cell_type": "code",
   "execution_count": 34,
   "id": "088bdb2e-9a52-425f-b18a-3c5d36365026",
   "metadata": {},
   "outputs": [
    {
     "data": {
      "text/plain": [
       "<re.Match object; span=(0, 3), match='abc'>"
      ]
     },
     "execution_count": 34,
     "metadata": {},
     "output_type": "execute_result"
    }
   ],
   "source": [
    "r.search(\"abc\")"
   ]
  },
  {
   "cell_type": "code",
   "execution_count": 35,
   "id": "c174ef18-0371-4b41-aca0-01580e969e06",
   "metadata": {},
   "outputs": [],
   "source": [
    "r.search(\"axc\")"
   ]
  },
  {
   "cell_type": "code",
   "execution_count": 36,
   "id": "fd431e05-891c-431f-9062-f681fd3f7079",
   "metadata": {},
   "outputs": [
    {
     "data": {
      "text/plain": [
       "<re.Match object; span=(0, 2), match='ac'>"
      ]
     },
     "execution_count": 36,
     "metadata": {},
     "output_type": "execute_result"
    }
   ],
   "source": [
    "r.search(\"ac\")"
   ]
  },
  {
   "cell_type": "markdown",
   "id": "b2094f62-eeba-47c3-9905-e551089322c4",
   "metadata": {},
   "source": [
    "### 기호 별표 (*)  \n",
    "* 앞에 있는 문자가 n개인 경우를 반환 (0개부터 가능).  \n",
    "* 다른 문자가 있으면 반환하지 아니함."
   ]
  },
  {
   "cell_type": "code",
   "execution_count": 37,
   "id": "d9c86325-2f49-49e2-80cf-6c59082bdc15",
   "metadata": {},
   "outputs": [],
   "source": [
    "r = re.compile(\"ab*c\")"
   ]
  },
  {
   "cell_type": "code",
   "execution_count": 38,
   "id": "0c2641f7-a86b-455e-a99b-c11d55e9cf17",
   "metadata": {},
   "outputs": [
    {
     "data": {
      "text/plain": [
       "<re.Match object; span=(0, 3), match='abc'>"
      ]
     },
     "execution_count": 38,
     "metadata": {},
     "output_type": "execute_result"
    }
   ],
   "source": [
    "r.search(\"abc\")"
   ]
  },
  {
   "cell_type": "code",
   "execution_count": 43,
   "id": "47f9e29b-7bde-4f18-b2cc-6c0e7100de16",
   "metadata": {},
   "outputs": [
    {
     "data": {
      "text/plain": [
       "<re.Match object; span=(0, 4), match='abbc'>"
      ]
     },
     "execution_count": 43,
     "metadata": {},
     "output_type": "execute_result"
    }
   ],
   "source": [
    "r.search(\"abbc\")"
   ]
  },
  {
   "cell_type": "code",
   "execution_count": 44,
   "id": "4dc477e5-bf78-45ac-af1a-982bb346a154",
   "metadata": {},
   "outputs": [
    {
     "data": {
      "text/plain": [
       "<re.Match object; span=(0, 2), match='ac'>"
      ]
     },
     "execution_count": 44,
     "metadata": {},
     "output_type": "execute_result"
    }
   ],
   "source": [
    "r.search(\"ac\")"
   ]
  },
  {
   "cell_type": "code",
   "execution_count": 41,
   "id": "d944c05c-4e0c-4217-8feb-be6b143ca18e",
   "metadata": {},
   "outputs": [],
   "source": [
    "r.search(\"axc\")"
   ]
  },
  {
   "cell_type": "code",
   "execution_count": 42,
   "id": "7b0e3aea-2e62-42f4-bf03-66b64381d345",
   "metadata": {},
   "outputs": [],
   "source": [
    "r.search(\"abxc\")"
   ]
  },
  {
   "cell_type": "markdown",
   "id": "42c5d091-b2c5-4303-96b2-9b00f3ef7af7",
   "metadata": {},
   "source": [
    "### 하나만 써보기\n",
    "* 아래는 기호 하나에 대한 ? 이므로, 모든 상황에서 값 반환이 있다."
   ]
  },
  {
   "cell_type": "code",
   "execution_count": 45,
   "id": "7b5e4e4f-affd-4f49-87bf-6688bed041df",
   "metadata": {},
   "outputs": [],
   "source": [
    "r = re.compile(\"b?\")"
   ]
  },
  {
   "cell_type": "code",
   "execution_count": 47,
   "id": "b83b500f-d3a7-4628-acd5-3c8e67755069",
   "metadata": {},
   "outputs": [
    {
     "data": {
      "text/plain": [
       "<re.Match object; span=(0, 1), match='b'>"
      ]
     },
     "execution_count": 47,
     "metadata": {},
     "output_type": "execute_result"
    }
   ],
   "source": [
    "r.search(\"b\")"
   ]
  },
  {
   "cell_type": "code",
   "execution_count": 48,
   "id": "70ff386c-1e1a-4d0b-89e5-0684ffbe6f83",
   "metadata": {},
   "outputs": [
    {
     "data": {
      "text/plain": [
       "<re.Match object; span=(0, 0), match=''>"
      ]
     },
     "execution_count": 48,
     "metadata": {},
     "output_type": "execute_result"
    }
   ],
   "source": [
    "r.search(\"\")"
   ]
  },
  {
   "cell_type": "code",
   "execution_count": 49,
   "id": "411a979c-241c-4ca6-9210-2f41ca607e36",
   "metadata": {},
   "outputs": [
    {
     "data": {
      "text/plain": [
       "<re.Match object; span=(0, 1), match='b'>"
      ]
     },
     "execution_count": 49,
     "metadata": {},
     "output_type": "execute_result"
    }
   ],
   "source": [
    "r.search(\"bb\")"
   ]
  },
  {
   "cell_type": "code",
   "execution_count": 50,
   "id": "c8e4d6a5-6e05-4f63-867d-6f1315a08793",
   "metadata": {},
   "outputs": [
    {
     "data": {
      "text/plain": [
       "<re.Match object; span=(0, 0), match=''>"
      ]
     },
     "execution_count": 50,
     "metadata": {},
     "output_type": "execute_result"
    }
   ],
   "source": [
    "r.search(\"a\")"
   ]
  },
  {
   "cell_type": "markdown",
   "id": "88506b4b-d98e-414e-b373-371e1567bf2b",
   "metadata": {},
   "source": [
    "### 기호 플러스 (+)\n",
    "* 붙은 문자가 1개 이상은 있는 경우를 반환함.  \n",
    "* 즉, 기호 별표의 n >=1 버전."
   ]
  },
  {
   "cell_type": "code",
   "execution_count": 51,
   "id": "96492662-8834-4d4d-9316-d6efa5bb8c9d",
   "metadata": {},
   "outputs": [],
   "source": [
    "r = re.compile(\"ab+c\")"
   ]
  },
  {
   "cell_type": "code",
   "execution_count": 52,
   "id": "00f65c27-24bf-48ce-8182-8d4979fd6388",
   "metadata": {},
   "outputs": [],
   "source": [
    "r.search(\"ac\")"
   ]
  },
  {
   "cell_type": "code",
   "execution_count": 53,
   "id": "d3ef011d-4cae-499b-9f55-421ccd3a4863",
   "metadata": {},
   "outputs": [
    {
     "data": {
      "text/plain": [
       "<re.Match object; span=(0, 3), match='abc'>"
      ]
     },
     "execution_count": 53,
     "metadata": {},
     "output_type": "execute_result"
    }
   ],
   "source": [
    "r.search(\"abc\")"
   ]
  },
  {
   "cell_type": "code",
   "execution_count": 54,
   "id": "d9d0bcb0-575e-450f-ac67-4746b9e76209",
   "metadata": {},
   "outputs": [
    {
     "data": {
      "text/plain": [
       "<re.Match object; span=(0, 4), match='abbc'>"
      ]
     },
     "execution_count": 54,
     "metadata": {},
     "output_type": "execute_result"
    }
   ],
   "source": [
    "r.search(\"abbc\")"
   ]
  },
  {
   "cell_type": "code",
   "execution_count": 55,
   "id": "d2356d32-64b2-4b70-a1cc-9b0b31806b0a",
   "metadata": {},
   "outputs": [],
   "source": [
    "r.search(\"axc\")"
   ]
  },
  {
   "cell_type": "code",
   "execution_count": 56,
   "id": "5040c352-f290-4eb7-a5bf-67d2466ba767",
   "metadata": {},
   "outputs": [],
   "source": [
    "r.search(\"abxc\")"
   ]
  },
  {
   "cell_type": "markdown",
   "id": "33e86afd-5a04-4c6b-9f82-0edf3b8b248b",
   "metadata": {},
   "source": [
    "### 기호 꺽쇠 (^)  \n",
    "* ab로 시작되는 문자열을 찾아 반환  \n",
    "* ~로 끝나는 문자는 안되네.."
   ]
  },
  {
   "cell_type": "code",
   "execution_count": 57,
   "id": "92a8c4b2-7e01-4eac-9b1f-c0a1ca654c69",
   "metadata": {},
   "outputs": [],
   "source": [
    "r = re.compile(\"^ab\")"
   ]
  },
  {
   "cell_type": "code",
   "execution_count": 58,
   "id": "025fa55f-445a-4dfe-901f-915955a675f4",
   "metadata": {},
   "outputs": [
    {
     "data": {
      "text/plain": [
       "<re.Match object; span=(0, 2), match='ab'>"
      ]
     },
     "execution_count": 58,
     "metadata": {},
     "output_type": "execute_result"
    }
   ],
   "source": [
    "r.search(\"ab\")"
   ]
  },
  {
   "cell_type": "code",
   "execution_count": 60,
   "id": "02eee729-c8dc-46c5-aba2-95397e3a7c85",
   "metadata": {},
   "outputs": [],
   "source": [
    "r.search(\"aab\")"
   ]
  },
  {
   "cell_type": "code",
   "execution_count": 61,
   "id": "cf8d98fb-97cb-40d6-b5df-6350ce59b249",
   "metadata": {},
   "outputs": [
    {
     "data": {
      "text/plain": [
       "<re.Match object; span=(0, 2), match='ab'>"
      ]
     },
     "execution_count": 61,
     "metadata": {},
     "output_type": "execute_result"
    }
   ],
   "source": [
    "r.search(\"abc\")"
   ]
  },
  {
   "cell_type": "code",
   "execution_count": 62,
   "id": "03d3434f-4a2f-4d4b-bc5f-c0b8f04b99ec",
   "metadata": {},
   "outputs": [
    {
     "data": {
      "text/plain": [
       "<re.Match object; span=(0, 2), match='ab'>"
      ]
     },
     "execution_count": 62,
     "metadata": {},
     "output_type": "execute_result"
    }
   ],
   "source": [
    "r.search(\"abbbbb\")"
   ]
  },
  {
   "cell_type": "code",
   "execution_count": 68,
   "id": "dbdd492f-21e9-4ae3-9ea8-531d3a6e3e78",
   "metadata": {},
   "outputs": [],
   "source": [
    "r = re.compile(\"ab^\")"
   ]
  },
  {
   "cell_type": "code",
   "execution_count": 69,
   "id": "1e558607-9ced-41f2-a6f4-555a56f13548",
   "metadata": {},
   "outputs": [],
   "source": [
    "r.search(\"ab\")"
   ]
  },
  {
   "cell_type": "markdown",
   "id": "5a4aa258-5b7c-4157-8fd3-0b0e7659294d",
   "metadata": {},
   "source": [
    "### 기호 {숫자}\n",
    "* 붙은 문자가 {숫자}개 있는 문자열을 반환"
   ]
  },
  {
   "cell_type": "code",
   "execution_count": 76,
   "id": "f21345eb-c608-4f5f-a854-37397a11a4f5",
   "metadata": {},
   "outputs": [],
   "source": [
    "r = re.compile(\"ab{2}c\")"
   ]
  },
  {
   "cell_type": "code",
   "execution_count": 77,
   "id": "1b599e3b-3924-434d-947b-c8d9a0a0cc06",
   "metadata": {},
   "outputs": [],
   "source": [
    "r.search(\"abc\")"
   ]
  },
  {
   "cell_type": "code",
   "execution_count": 78,
   "id": "cfb5dbdf-0f14-402a-a07b-f8d3f38da6b2",
   "metadata": {},
   "outputs": [
    {
     "data": {
      "text/plain": [
       "<re.Match object; span=(0, 4), match='abbc'>"
      ]
     },
     "execution_count": 78,
     "metadata": {},
     "output_type": "execute_result"
    }
   ],
   "source": [
    "r.search(\"abbc\")"
   ]
  },
  {
   "cell_type": "code",
   "execution_count": 79,
   "id": "73ff3f42-38ee-49ab-850a-80355686f186",
   "metadata": {},
   "outputs": [],
   "source": [
    "r.search(\"abbbc\")"
   ]
  },
  {
   "cell_type": "code",
   "execution_count": 80,
   "id": "acb9cf1a-7d12-4ba7-b372-90a541658e0f",
   "metadata": {},
   "outputs": [
    {
     "data": {
      "text/plain": [
       "<re.Match object; span=(1, 5), match='abbc'>"
      ]
     },
     "execution_count": 80,
     "metadata": {},
     "output_type": "execute_result"
    }
   ],
   "source": [
    "r.search(\"cabbc\")"
   ]
  },
  {
   "cell_type": "markdown",
   "id": "d40b4df3-9079-4ac6-8276-2407bf024d36",
   "metadata": {},
   "source": [
    "### 기호 {숫자1, 숫자2}\n",
    "* 붙은 문자가 숫자1번 반복되는 문자열 ~ 숫자 n번 반복되는 문자열을 찾아 반환"
   ]
  },
  {
   "cell_type": "code",
   "execution_count": 81,
   "id": "fdd35346-2558-4e9e-8616-e458ba436bf3",
   "metadata": {},
   "outputs": [],
   "source": [
    "r = re.compile(\"ab{2,4}c\")"
   ]
  },
  {
   "cell_type": "code",
   "execution_count": 82,
   "id": "a8aaa462-98e7-4c4b-8f4f-cc5ba8450712",
   "metadata": {},
   "outputs": [
    {
     "data": {
      "text/plain": [
       "<re.Match object; span=(0, 4), match='abbc'>"
      ]
     },
     "execution_count": 82,
     "metadata": {},
     "output_type": "execute_result"
    }
   ],
   "source": [
    "r.search(\"abbc\")"
   ]
  },
  {
   "cell_type": "code",
   "execution_count": 84,
   "id": "40edbc23-7297-4219-a877-140a4b830cbb",
   "metadata": {},
   "outputs": [
    {
     "data": {
      "text/plain": [
       "<re.Match object; span=(0, 6), match='abbbbc'>"
      ]
     },
     "execution_count": 84,
     "metadata": {},
     "output_type": "execute_result"
    }
   ],
   "source": [
    "r.search(\"abbbbc\")"
   ]
  },
  {
   "cell_type": "code",
   "execution_count": 85,
   "id": "3574f6d2-69e7-4799-9ddd-7def794cce43",
   "metadata": {},
   "outputs": [
    {
     "data": {
      "text/plain": [
       "<re.Match object; span=(0, 5), match='abbbc'>"
      ]
     },
     "execution_count": 85,
     "metadata": {},
     "output_type": "execute_result"
    }
   ],
   "source": [
    "r.search(\"abbbc\")"
   ]
  },
  {
   "cell_type": "code",
   "execution_count": 86,
   "id": "7370e8e8-b5ee-46a6-b444-bacf82121b0e",
   "metadata": {},
   "outputs": [],
   "source": [
    "r.search(\"abbbbbc\")"
   ]
  },
  {
   "cell_type": "markdown",
   "id": "c5605a6f-f7c9-45c4-8867-116b0d04eedd",
   "metadata": {},
   "source": [
    "### 기호 {숫자1, }\n",
    "* 붙은 문자열이 숫자1개 이상 있는 문자열을 찾아 반환"
   ]
  },
  {
   "cell_type": "code",
   "execution_count": 90,
   "id": "390114d6-8c1f-49b0-9ae3-c24354b050ce",
   "metadata": {},
   "outputs": [],
   "source": [
    "r = re.compile(\"ab{2,}c\")"
   ]
  },
  {
   "cell_type": "code",
   "execution_count": 91,
   "id": "8d58b805-3873-4e85-808d-24055540e190",
   "metadata": {},
   "outputs": [],
   "source": [
    "r.search(\"abc\")"
   ]
  },
  {
   "cell_type": "code",
   "execution_count": 92,
   "id": "36b9c79e-1db1-4c5a-b7f7-8267c95454c4",
   "metadata": {},
   "outputs": [
    {
     "data": {
      "text/plain": [
       "<re.Match object; span=(0, 4), match='abbc'>"
      ]
     },
     "execution_count": 92,
     "metadata": {},
     "output_type": "execute_result"
    }
   ],
   "source": [
    "r.search(\"abbc\")"
   ]
  },
  {
   "cell_type": "code",
   "execution_count": 93,
   "id": "76c93228-550e-4c1e-8471-36f9f66b0a63",
   "metadata": {},
   "outputs": [
    {
     "data": {
      "text/plain": [
       "<re.Match object; span=(0, 5), match='abbbc'>"
      ]
     },
     "execution_count": 93,
     "metadata": {},
     "output_type": "execute_result"
    }
   ],
   "source": [
    "r.search(\"abbbc\")"
   ]
  },
  {
   "cell_type": "code",
   "execution_count": 94,
   "id": "0f03ac5c-3c6c-41eb-b03f-99c405ecf0f9",
   "metadata": {},
   "outputs": [
    {
     "data": {
      "text/plain": [
       "<re.Match object; span=(0, 11), match='abbbbbbbbbc'>"
      ]
     },
     "execution_count": 94,
     "metadata": {},
     "output_type": "execute_result"
    }
   ],
   "source": [
    "r.search(\"abbbbbbbbbc\")"
   ]
  },
  {
   "cell_type": "code",
   "execution_count": 95,
   "id": "36d70383-3aee-4831-9201-c4be3d9289cd",
   "metadata": {},
   "outputs": [
    {
     "data": {
      "text/plain": [
       "<re.Match object; span=(0, 4), match='abbc'>"
      ]
     },
     "execution_count": 95,
     "metadata": {},
     "output_type": "execute_result"
    }
   ],
   "source": [
    "r.search(\"abbcabbbbc\")"
   ]
  },
  {
   "cell_type": "markdown",
   "id": "1ae2e531-7f08-435e-95fd-c1d03e106cd3",
   "metadata": {},
   "source": [
    "### 기호 마이너스 ([ - ])  \n",
    "* 마이너스 앞 문자열부터 뒷 문자열까지 사이에 있는 문자에 해당되는 문자열을 찾아 반환"
   ]
  },
  {
   "cell_type": "code",
   "execution_count": null,
   "id": "93345540-afd3-413d-b153-4f8ae7b928f1",
   "metadata": {},
   "outputs": [],
   "source": [
    "r = re.compile(\"[b-e]\")"
   ]
  },
  {
   "cell_type": "code",
   "execution_count": 97,
   "id": "4c35791a-0ad5-4ee3-adc3-3e5a25eaaaa2",
   "metadata": {},
   "outputs": [
    {
     "data": {
      "text/plain": [
       "<re.Match object; span=(0, 1), match='c'>"
      ]
     },
     "execution_count": 97,
     "metadata": {},
     "output_type": "execute_result"
    }
   ],
   "source": [
    "r.search(\"c\")"
   ]
  },
  {
   "cell_type": "code",
   "execution_count": 98,
   "id": "c1769235-2611-4f5d-9418-1b3134af487b",
   "metadata": {},
   "outputs": [
    {
     "data": {
      "text/plain": [
       "<re.Match object; span=(0, 1), match='b'>"
      ]
     },
     "execution_count": 98,
     "metadata": {},
     "output_type": "execute_result"
    }
   ],
   "source": [
    "r.search(\"bcd\")"
   ]
  },
  {
   "cell_type": "code",
   "execution_count": 99,
   "id": "888064c1-7da5-4130-850d-9548d4c60d94",
   "metadata": {},
   "outputs": [
    {
     "data": {
      "text/plain": [
       "<re.Match object; span=(0, 1), match='e'>"
      ]
     },
     "execution_count": 99,
     "metadata": {},
     "output_type": "execute_result"
    }
   ],
   "source": [
    "r.search(\"edc\")"
   ]
  },
  {
   "cell_type": "code",
   "execution_count": 100,
   "id": "389725b4-3f8b-46aa-8d8e-4f75fb6b77bc",
   "metadata": {},
   "outputs": [],
   "source": [
    "r.search(\"g\")"
   ]
  },
  {
   "cell_type": "markdown",
   "id": "748472e2-f49a-48fc-a1ae-78422acbadf0",
   "metadata": {},
   "source": [
    "### 기호 대괄호 안의 껙쇠 ([^])\n",
    "* 꺽쇠에 붙은 문자로 시작하지 않는 문자를 찾아 반환 "
   ]
  },
  {
   "cell_type": "code",
   "execution_count": 115,
   "id": "07c6dc41-1ace-4674-89ee-5396063495b4",
   "metadata": {},
   "outputs": [],
   "source": [
    "r = re.compile(\"[^bcd]\")"
   ]
  },
  {
   "cell_type": "code",
   "execution_count": 116,
   "id": "006a85b7-996a-4a81-a3e0-dc6fe6e9753a",
   "metadata": {},
   "outputs": [
    {
     "data": {
      "text/plain": [
       "<re.Match object; span=(0, 1), match='a'>"
      ]
     },
     "execution_count": 116,
     "metadata": {},
     "output_type": "execute_result"
    }
   ],
   "source": [
    "r.search(\"ab\")"
   ]
  },
  {
   "cell_type": "code",
   "execution_count": 117,
   "id": "af384e32-8855-45e1-9a5b-d0bb997dda47",
   "metadata": {},
   "outputs": [
    {
     "data": {
      "text/plain": [
       "<re.Match object; span=(0, 1), match='a'>"
      ]
     },
     "execution_count": 117,
     "metadata": {},
     "output_type": "execute_result"
    }
   ],
   "source": [
    "r.search(\"abc\")"
   ]
  },
  {
   "cell_type": "code",
   "execution_count": 118,
   "id": "07396e51-a0da-42ca-a410-2be1007b31cb",
   "metadata": {},
   "outputs": [],
   "source": [
    "r.search(\"bcd\")"
   ]
  },
  {
   "cell_type": "code",
   "execution_count": 119,
   "id": "814e4f13-c9d3-4fac-99ce-7ecb058b0f0f",
   "metadata": {},
   "outputs": [
    {
     "data": {
      "text/plain": [
       "<re.Match object; span=(0, 1), match='e'>"
      ]
     },
     "execution_count": 119,
     "metadata": {},
     "output_type": "execute_result"
    }
   ],
   "source": [
    "r.search(\"efg\")"
   ]
  },
  {
   "cell_type": "code",
   "execution_count": 120,
   "id": "42e3f9c9-44a3-421a-9e58-1d9e8c4df656",
   "metadata": {},
   "outputs": [
    {
     "data": {
      "text/plain": [
       "<re.Match object; span=(0, 1), match='e'>"
      ]
     },
     "execution_count": 120,
     "metadata": {},
     "output_type": "execute_result"
    }
   ],
   "source": [
    "r.search(\"eabc\")"
   ]
  },
  {
   "cell_type": "code",
   "execution_count": 121,
   "id": "fb35a1b4-2eb0-4a4e-b17f-d5b603ed98b1",
   "metadata": {},
   "outputs": [
    {
     "data": {
      "text/plain": [
       "<re.Match object; span=(3, 4), match='e'>"
      ]
     },
     "execution_count": 121,
     "metadata": {},
     "output_type": "execute_result"
    }
   ],
   "source": [
    "r.search(\"bcdefg\")"
   ]
  },
  {
   "cell_type": "markdown",
   "id": "4c5f6ab3-b9d3-4ec4-8c67-1e36601ea157",
   "metadata": {},
   "source": [
    "## compile, search, match"
   ]
  },
  {
   "cell_type": "markdown",
   "id": "e2d74165-8273-4b52-b9bf-280eeb10b64b",
   "metadata": {},
   "source": [
    "* re.compile : 특정 변수에 re패키지 문자열을 입력해둠  \n",
    "* RE.search : 문자열 전체 내에 특정 조건의 문자열(=정규식)이 있는지 여부와 위치를 반환  \n",
    "* RE.match : 문자열 시작부가 특정 조건에 맞는지 여부와 위치를 반환  "
   ]
  },
  {
   "cell_type": "markdown",
   "id": "03484616-06ce-4d38-9199-3862aa105ab6",
   "metadata": {},
   "source": [
    "### search"
   ]
  },
  {
   "cell_type": "code",
   "execution_count": 128,
   "id": "948e662f-0917-46d9-a79f-4b43fa621084",
   "metadata": {},
   "outputs": [],
   "source": [
    "r = re.compile(\"ab.\")"
   ]
  },
  {
   "cell_type": "code",
   "execution_count": 129,
   "id": "ebe199df-0cb3-4aad-af23-ba447185c295",
   "metadata": {},
   "outputs": [
    {
     "data": {
      "text/plain": [
       "<re.Match object; span=(3, 6), match='abc'>"
      ]
     },
     "execution_count": 129,
     "metadata": {},
     "output_type": "execute_result"
    }
   ],
   "source": [
    "r.search(\"tttabc\")"
   ]
  },
  {
   "cell_type": "code",
   "execution_count": 130,
   "id": "c0fd33f1-2ba0-403c-a5fb-39e7e45b3fe0",
   "metadata": {},
   "outputs": [
    {
     "data": {
      "text/plain": [
       "<re.Match object; span=(0, 3), match='abc'>"
      ]
     },
     "execution_count": 130,
     "metadata": {},
     "output_type": "execute_result"
    }
   ],
   "source": [
    "r.search(\"abcttt\")"
   ]
  },
  {
   "cell_type": "markdown",
   "id": "cf17a50a-92b2-4b5f-b747-e9a5fa02ce2b",
   "metadata": {},
   "source": [
    "### match"
   ]
  },
  {
   "cell_type": "code",
   "execution_count": 122,
   "id": "5e27c219-9e35-457a-a9c0-436ebcf2402d",
   "metadata": {},
   "outputs": [],
   "source": [
    "r = re.compile(\"ab.\")"
   ]
  },
  {
   "cell_type": "code",
   "execution_count": 123,
   "id": "6dc23ff5-fee1-45ec-887f-d7f91f7b28e2",
   "metadata": {},
   "outputs": [],
   "source": [
    "r.match(\"tttabc\")"
   ]
  },
  {
   "cell_type": "code",
   "execution_count": 124,
   "id": "03f5c931-e0f4-4bc5-abc4-4321ba964590",
   "metadata": {},
   "outputs": [
    {
     "data": {
      "text/plain": [
       "<re.Match object; span=(0, 3), match='abc'>"
      ]
     },
     "execution_count": 124,
     "metadata": {},
     "output_type": "execute_result"
    }
   ],
   "source": [
    "r.match(\"abcttt\")"
   ]
  },
  {
   "cell_type": "code",
   "execution_count": 125,
   "id": "7ef9384d-d433-4da3-95e8-7f8c1f3c0b54",
   "metadata": {},
   "outputs": [
    {
     "data": {
      "text/plain": [
       "<re.Match object; span=(3, 6), match='abc'>"
      ]
     },
     "execution_count": 125,
     "metadata": {},
     "output_type": "execute_result"
    }
   ],
   "source": [
    "r.search(\"tttabc\")"
   ]
  },
  {
   "cell_type": "code",
   "execution_count": 126,
   "id": "0fff42b3-549d-4fb2-a3f7-97227ab1ff18",
   "metadata": {},
   "outputs": [
    {
     "data": {
      "text/plain": [
       "<re.Match object; span=(0, 3), match='abc'>"
      ]
     },
     "execution_count": 126,
     "metadata": {},
     "output_type": "execute_result"
    }
   ],
   "source": [
    "r.search(\"abcttt\")"
   ]
  },
  {
   "cell_type": "markdown",
   "id": "cc112083-80d7-4947-a52d-32ef63017d5f",
   "metadata": {},
   "source": [
    "## 텍스트 분해\n",
    "* str 분해 : str.split() 함수를 사용  \n",
    "* re 정규표현식 사용 : re.split(\"구분자\", 텍스트)  "
   ]
  },
  {
   "cell_type": "markdown",
   "id": "da04a2dc-5b12-4312-909a-b921b83a8668",
   "metadata": {},
   "source": [
    "### str 기본기능 / re.split 사용"
   ]
  },
  {
   "cell_type": "code",
   "execution_count": 141,
   "id": "b55a2a70-39c5-4c31-8e12-136fc6768a7a",
   "metadata": {},
   "outputs": [],
   "source": [
    "r = \"북한은 지난달 26일 소형 무인기 5대를 군사분계선(MDL) 이남으로 침투시킴으로써 2018년 체결된 9·19 군사합의를 위반했습니다.남북은 '지상과 해상, 공중을 비롯한 모든 공간에서 군사적 긴장과 충돌의 근원으로 되는 상대방에 대한 일체의 적대행위를 전면 중지'하기로 했습니다.\""
   ]
  },
  {
   "cell_type": "code",
   "execution_count": 145,
   "id": "e4aaff01-3474-4988-9160-a293c3a83aad",
   "metadata": {},
   "outputs": [],
   "source": [
    "import time"
   ]
  },
  {
   "cell_type": "code",
   "execution_count": 147,
   "id": "4e113844-762f-4f86-874b-d83d8723d8c8",
   "metadata": {
    "tags": []
   },
   "outputs": [
    {
     "name": "stdout",
     "output_type": "stream",
     "text": [
      "Wall time: 0 ns\n"
     ]
    },
    {
     "data": {
      "text/plain": [
       "['북한은',\n",
       " '지난달',\n",
       " '26일',\n",
       " '소형',\n",
       " '무인기',\n",
       " '5대를',\n",
       " '군사분계선(MDL)',\n",
       " '이남으로',\n",
       " '침투시킴으로써',\n",
       " '2018년',\n",
       " '체결된',\n",
       " '9·19',\n",
       " '군사합의를',\n",
       " '위반했습니다.남북은',\n",
       " \"'지상과\",\n",
       " '해상,',\n",
       " '공중을',\n",
       " '비롯한',\n",
       " '모든',\n",
       " '공간에서',\n",
       " '군사적',\n",
       " '긴장과',\n",
       " '충돌의',\n",
       " '근원으로',\n",
       " '되는',\n",
       " '상대방에',\n",
       " '대한',\n",
       " '일체의',\n",
       " '적대행위를',\n",
       " '전면',\n",
       " \"중지'하기로\",\n",
       " '했습니다.']"
      ]
     },
     "execution_count": 147,
     "metadata": {},
     "output_type": "execute_result"
    }
   ],
   "source": [
    "%time\n",
    "r.split()"
   ]
  },
  {
   "cell_type": "code",
   "execution_count": 148,
   "id": "c9440097-310e-4c98-9fbc-c1983e0c784a",
   "metadata": {
    "tags": []
   },
   "outputs": [
    {
     "name": "stdout",
     "output_type": "stream",
     "text": [
      "Wall time: 0 ns\n"
     ]
    },
    {
     "data": {
      "text/plain": [
       "['북한은',\n",
       " '지난달',\n",
       " '26일',\n",
       " '소형',\n",
       " '무인기',\n",
       " '5대를',\n",
       " '군사분계선(MDL)',\n",
       " '이남으로',\n",
       " '침투시킴으로써',\n",
       " '2018년',\n",
       " '체결된',\n",
       " '9·19',\n",
       " '군사합의를',\n",
       " '위반했습니다.남북은',\n",
       " \"'지상과\",\n",
       " '해상,',\n",
       " '공중을',\n",
       " '비롯한',\n",
       " '모든',\n",
       " '공간에서',\n",
       " '군사적',\n",
       " '긴장과',\n",
       " '충돌의',\n",
       " '근원으로',\n",
       " '되는',\n",
       " '상대방에',\n",
       " '대한',\n",
       " '일체의',\n",
       " '적대행위를',\n",
       " '전면',\n",
       " \"중지'하기로\",\n",
       " '했습니다.']"
      ]
     },
     "execution_count": 148,
     "metadata": {},
     "output_type": "execute_result"
    }
   ],
   "source": [
    "%time\n",
    "re.split(\" \", r)"
   ]
  },
  {
   "cell_type": "markdown",
   "id": "f0b31a5f-a101-49f4-be87-9f89dbc93bfd",
   "metadata": {},
   "source": [
    "## 역슬래시 정규표현식\n",
    "* \\d : 숫자를 의미  \n",
    "* \\특수문자 : 해당 특수문자 자체를 '그냥 문자' 그대로 인식 \n",
    "* \\n : 줄바꿈  "
   ]
  },
  {
   "cell_type": "code",
   "execution_count": null,
   "id": "79365223-2a27-4879-8897-c9e83f5ad1a8",
   "metadata": {},
   "outputs": [
    {
     "data": {
      "text/plain": [
       "['안녕', '나는', '뽀로로야']"
      ]
     },
     "execution_count": 151,
     "metadata": {},
     "output_type": "execute_result"
    }
   ],
   "source": [
    "text2 = \"안녕+나는+뽀로로야\"\n",
    "re.split(\"\\+\", text2)"
   ]
  },
  {
   "cell_type": "code",
   "execution_count": null,
   "id": "2b4650ca-a762-426d-86c9-d95d22230bd7",
   "metadata": {},
   "outputs": [
    {
     "data": {
      "text/plain": [
       "['안녕', '나는', '뽀로로야']"
      ]
     },
     "execution_count": 155,
     "metadata": {},
     "output_type": "execute_result"
    }
   ],
   "source": [
    "text2.split(\"+\")"
   ]
  },
  {
   "cell_type": "code",
   "execution_count": null,
   "id": "3948c582-f94b-4989-af1e-06485944531b",
   "metadata": {
    "collapsed": true,
    "jupyter": {
     "outputs_hidden": true
    },
    "tags": []
   },
   "outputs": [
    {
     "ename": "error",
     "evalue": "nothing to repeat at position 0",
     "output_type": "error",
     "traceback": [
      "\u001b[1;31m---------------------------------------------------------------------------\u001b[0m",
      "\u001b[1;31merror\u001b[0m                                     Traceback (most recent call last)",
      "\u001b[1;32m~\\AppData\\Local\\Temp\\ipykernel_11452\\2587875935.py\u001b[0m in \u001b[0;36m<module>\u001b[1;34m\u001b[0m\n\u001b[1;32m----> 1\u001b[1;33m \u001b[0mre\u001b[0m\u001b[1;33m.\u001b[0m\u001b[0msplit\u001b[0m\u001b[1;33m(\u001b[0m\u001b[1;34m\"+\"\u001b[0m\u001b[1;33m,\u001b[0m \u001b[0mtext2\u001b[0m\u001b[1;33m)\u001b[0m\u001b[1;33m\u001b[0m\u001b[1;33m\u001b[0m\u001b[0m\n\u001b[0m",
      "\u001b[1;32m~\\anaconda3\\lib\\re.py\u001b[0m in \u001b[0;36msplit\u001b[1;34m(pattern, string, maxsplit, flags)\u001b[0m\n\u001b[0;32m    229\u001b[0m     \u001b[1;32mand\u001b[0m \u001b[0mthe\u001b[0m \u001b[0mremainder\u001b[0m \u001b[0mof\u001b[0m \u001b[0mthe\u001b[0m \u001b[0mstring\u001b[0m \u001b[1;32mis\u001b[0m \u001b[0mreturned\u001b[0m \u001b[1;32mas\u001b[0m \u001b[0mthe\u001b[0m \u001b[0mfinal\u001b[0m \u001b[0melement\u001b[0m\u001b[1;33m\u001b[0m\u001b[1;33m\u001b[0m\u001b[0m\n\u001b[0;32m    230\u001b[0m     of the list.\"\"\"\n\u001b[1;32m--> 231\u001b[1;33m     \u001b[1;32mreturn\u001b[0m \u001b[0m_compile\u001b[0m\u001b[1;33m(\u001b[0m\u001b[0mpattern\u001b[0m\u001b[1;33m,\u001b[0m \u001b[0mflags\u001b[0m\u001b[1;33m)\u001b[0m\u001b[1;33m.\u001b[0m\u001b[0msplit\u001b[0m\u001b[1;33m(\u001b[0m\u001b[0mstring\u001b[0m\u001b[1;33m,\u001b[0m \u001b[0mmaxsplit\u001b[0m\u001b[1;33m)\u001b[0m\u001b[1;33m\u001b[0m\u001b[1;33m\u001b[0m\u001b[0m\n\u001b[0m\u001b[0;32m    232\u001b[0m \u001b[1;33m\u001b[0m\u001b[0m\n\u001b[0;32m    233\u001b[0m \u001b[1;32mdef\u001b[0m \u001b[0mfindall\u001b[0m\u001b[1;33m(\u001b[0m\u001b[0mpattern\u001b[0m\u001b[1;33m,\u001b[0m \u001b[0mstring\u001b[0m\u001b[1;33m,\u001b[0m \u001b[0mflags\u001b[0m\u001b[1;33m=\u001b[0m\u001b[1;36m0\u001b[0m\u001b[1;33m)\u001b[0m\u001b[1;33m:\u001b[0m\u001b[1;33m\u001b[0m\u001b[1;33m\u001b[0m\u001b[0m\n",
      "\u001b[1;32m~\\anaconda3\\lib\\re.py\u001b[0m in \u001b[0;36m_compile\u001b[1;34m(pattern, flags)\u001b[0m\n\u001b[0;32m    302\u001b[0m     \u001b[1;32mif\u001b[0m \u001b[1;32mnot\u001b[0m \u001b[0msre_compile\u001b[0m\u001b[1;33m.\u001b[0m\u001b[0misstring\u001b[0m\u001b[1;33m(\u001b[0m\u001b[0mpattern\u001b[0m\u001b[1;33m)\u001b[0m\u001b[1;33m:\u001b[0m\u001b[1;33m\u001b[0m\u001b[1;33m\u001b[0m\u001b[0m\n\u001b[0;32m    303\u001b[0m         \u001b[1;32mraise\u001b[0m \u001b[0mTypeError\u001b[0m\u001b[1;33m(\u001b[0m\u001b[1;34m\"first argument must be string or compiled pattern\"\u001b[0m\u001b[1;33m)\u001b[0m\u001b[1;33m\u001b[0m\u001b[1;33m\u001b[0m\u001b[0m\n\u001b[1;32m--> 304\u001b[1;33m     \u001b[0mp\u001b[0m \u001b[1;33m=\u001b[0m \u001b[0msre_compile\u001b[0m\u001b[1;33m.\u001b[0m\u001b[0mcompile\u001b[0m\u001b[1;33m(\u001b[0m\u001b[0mpattern\u001b[0m\u001b[1;33m,\u001b[0m \u001b[0mflags\u001b[0m\u001b[1;33m)\u001b[0m\u001b[1;33m\u001b[0m\u001b[1;33m\u001b[0m\u001b[0m\n\u001b[0m\u001b[0;32m    305\u001b[0m     \u001b[1;32mif\u001b[0m \u001b[1;32mnot\u001b[0m \u001b[1;33m(\u001b[0m\u001b[0mflags\u001b[0m \u001b[1;33m&\u001b[0m \u001b[0mDEBUG\u001b[0m\u001b[1;33m)\u001b[0m\u001b[1;33m:\u001b[0m\u001b[1;33m\u001b[0m\u001b[1;33m\u001b[0m\u001b[0m\n\u001b[0;32m    306\u001b[0m         \u001b[1;32mif\u001b[0m \u001b[0mlen\u001b[0m\u001b[1;33m(\u001b[0m\u001b[0m_cache\u001b[0m\u001b[1;33m)\u001b[0m \u001b[1;33m>=\u001b[0m \u001b[0m_MAXCACHE\u001b[0m\u001b[1;33m:\u001b[0m\u001b[1;33m\u001b[0m\u001b[1;33m\u001b[0m\u001b[0m\n",
      "\u001b[1;32m~\\anaconda3\\lib\\sre_compile.py\u001b[0m in \u001b[0;36mcompile\u001b[1;34m(p, flags)\u001b[0m\n\u001b[0;32m    786\u001b[0m     \u001b[1;32mif\u001b[0m \u001b[0misstring\u001b[0m\u001b[1;33m(\u001b[0m\u001b[0mp\u001b[0m\u001b[1;33m)\u001b[0m\u001b[1;33m:\u001b[0m\u001b[1;33m\u001b[0m\u001b[1;33m\u001b[0m\u001b[0m\n\u001b[0;32m    787\u001b[0m         \u001b[0mpattern\u001b[0m \u001b[1;33m=\u001b[0m \u001b[0mp\u001b[0m\u001b[1;33m\u001b[0m\u001b[1;33m\u001b[0m\u001b[0m\n\u001b[1;32m--> 788\u001b[1;33m         \u001b[0mp\u001b[0m \u001b[1;33m=\u001b[0m \u001b[0msre_parse\u001b[0m\u001b[1;33m.\u001b[0m\u001b[0mparse\u001b[0m\u001b[1;33m(\u001b[0m\u001b[0mp\u001b[0m\u001b[1;33m,\u001b[0m \u001b[0mflags\u001b[0m\u001b[1;33m)\u001b[0m\u001b[1;33m\u001b[0m\u001b[1;33m\u001b[0m\u001b[0m\n\u001b[0m\u001b[0;32m    789\u001b[0m     \u001b[1;32melse\u001b[0m\u001b[1;33m:\u001b[0m\u001b[1;33m\u001b[0m\u001b[1;33m\u001b[0m\u001b[0m\n\u001b[0;32m    790\u001b[0m         \u001b[0mpattern\u001b[0m \u001b[1;33m=\u001b[0m \u001b[1;32mNone\u001b[0m\u001b[1;33m\u001b[0m\u001b[1;33m\u001b[0m\u001b[0m\n",
      "\u001b[1;32m~\\anaconda3\\lib\\sre_parse.py\u001b[0m in \u001b[0;36mparse\u001b[1;34m(str, flags, state)\u001b[0m\n\u001b[0;32m    953\u001b[0m \u001b[1;33m\u001b[0m\u001b[0m\n\u001b[0;32m    954\u001b[0m     \u001b[1;32mtry\u001b[0m\u001b[1;33m:\u001b[0m\u001b[1;33m\u001b[0m\u001b[1;33m\u001b[0m\u001b[0m\n\u001b[1;32m--> 955\u001b[1;33m         \u001b[0mp\u001b[0m \u001b[1;33m=\u001b[0m \u001b[0m_parse_sub\u001b[0m\u001b[1;33m(\u001b[0m\u001b[0msource\u001b[0m\u001b[1;33m,\u001b[0m \u001b[0mstate\u001b[0m\u001b[1;33m,\u001b[0m \u001b[0mflags\u001b[0m \u001b[1;33m&\u001b[0m \u001b[0mSRE_FLAG_VERBOSE\u001b[0m\u001b[1;33m,\u001b[0m \u001b[1;36m0\u001b[0m\u001b[1;33m)\u001b[0m\u001b[1;33m\u001b[0m\u001b[1;33m\u001b[0m\u001b[0m\n\u001b[0m\u001b[0;32m    956\u001b[0m     \u001b[1;32mexcept\u001b[0m \u001b[0mVerbose\u001b[0m\u001b[1;33m:\u001b[0m\u001b[1;33m\u001b[0m\u001b[1;33m\u001b[0m\u001b[0m\n\u001b[0;32m    957\u001b[0m         \u001b[1;31m# the VERBOSE flag was switched on inside the pattern.  to be\u001b[0m\u001b[1;33m\u001b[0m\u001b[1;33m\u001b[0m\u001b[0m\n",
      "\u001b[1;32m~\\anaconda3\\lib\\sre_parse.py\u001b[0m in \u001b[0;36m_parse_sub\u001b[1;34m(source, state, verbose, nested)\u001b[0m\n\u001b[0;32m    442\u001b[0m     \u001b[0mstart\u001b[0m \u001b[1;33m=\u001b[0m \u001b[0msource\u001b[0m\u001b[1;33m.\u001b[0m\u001b[0mtell\u001b[0m\u001b[1;33m(\u001b[0m\u001b[1;33m)\u001b[0m\u001b[1;33m\u001b[0m\u001b[1;33m\u001b[0m\u001b[0m\n\u001b[0;32m    443\u001b[0m     \u001b[1;32mwhile\u001b[0m \u001b[1;32mTrue\u001b[0m\u001b[1;33m:\u001b[0m\u001b[1;33m\u001b[0m\u001b[1;33m\u001b[0m\u001b[0m\n\u001b[1;32m--> 444\u001b[1;33m         itemsappend(_parse(source, state, verbose, nested + 1,\n\u001b[0m\u001b[0;32m    445\u001b[0m                            not nested and not items))\n\u001b[0;32m    446\u001b[0m         \u001b[1;32mif\u001b[0m \u001b[1;32mnot\u001b[0m \u001b[0msourcematch\u001b[0m\u001b[1;33m(\u001b[0m\u001b[1;34m\"|\"\u001b[0m\u001b[1;33m)\u001b[0m\u001b[1;33m:\u001b[0m\u001b[1;33m\u001b[0m\u001b[1;33m\u001b[0m\u001b[0m\n",
      "\u001b[1;32m~\\anaconda3\\lib\\sre_parse.py\u001b[0m in \u001b[0;36m_parse\u001b[1;34m(source, state, verbose, nested, first)\u001b[0m\n\u001b[0;32m    667\u001b[0m                 \u001b[0mitem\u001b[0m \u001b[1;33m=\u001b[0m \u001b[1;32mNone\u001b[0m\u001b[1;33m\u001b[0m\u001b[1;33m\u001b[0m\u001b[0m\n\u001b[0;32m    668\u001b[0m             \u001b[1;32mif\u001b[0m \u001b[1;32mnot\u001b[0m \u001b[0mitem\u001b[0m \u001b[1;32mor\u001b[0m \u001b[0mitem\u001b[0m\u001b[1;33m[\u001b[0m\u001b[1;36m0\u001b[0m\u001b[1;33m]\u001b[0m\u001b[1;33m[\u001b[0m\u001b[1;36m0\u001b[0m\u001b[1;33m]\u001b[0m \u001b[1;32mis\u001b[0m \u001b[0mAT\u001b[0m\u001b[1;33m:\u001b[0m\u001b[1;33m\u001b[0m\u001b[1;33m\u001b[0m\u001b[0m\n\u001b[1;32m--> 669\u001b[1;33m                 raise source.error(\"nothing to repeat\",\n\u001b[0m\u001b[0;32m    670\u001b[0m                                    source.tell() - here + len(this))\n\u001b[0;32m    671\u001b[0m             \u001b[1;32mif\u001b[0m \u001b[0mitem\u001b[0m\u001b[1;33m[\u001b[0m\u001b[1;36m0\u001b[0m\u001b[1;33m]\u001b[0m\u001b[1;33m[\u001b[0m\u001b[1;36m0\u001b[0m\u001b[1;33m]\u001b[0m \u001b[1;32min\u001b[0m \u001b[0m_REPEATCODES\u001b[0m\u001b[1;33m:\u001b[0m\u001b[1;33m\u001b[0m\u001b[1;33m\u001b[0m\u001b[0m\n",
      "\u001b[1;31merror\u001b[0m: nothing to repeat at position 0"
     ]
    }
   ],
   "source": [
    "re.split(\"+\", text2)\n",
    "# -> 안됨"
   ]
  },
  {
   "cell_type": "markdown",
   "id": "8594d02b-e841-4274-8b48-4746164ab02f",
   "metadata": {},
   "source": [
    "## 특정 텍스트 뽑아내기"
   ]
  },
  {
   "cell_type": "markdown",
   "id": "a3c95494-1560-43cd-bb7b-067c7249f83d",
   "metadata": {},
   "source": [
    "### 숫자만 뽑아내기"
   ]
  },
  {
   "cell_type": "code",
   "execution_count": 2,
   "id": "59ca8eed-487c-41b6-9f8b-5827e2c035f9",
   "metadata": {},
   "outputs": [
    {
     "data": {
      "text/plain": [
       "['010', '1234', '5678', '3']"
      ]
     },
     "execution_count": 2,
     "metadata": {},
     "output_type": "execute_result"
    }
   ],
   "source": [
    "text3 = '''\n",
    "이름 : 크롱\n",
    "전화번호 : 010-1234-5678\n",
    "나이 : 3\n",
    "성별 : 남아\n",
    "'''\n",
    "\n",
    "re.findall(\"\\d+\", text3)"
   ]
  },
  {
   "cell_type": "markdown",
   "id": "84ea0957-ea17-4469-985c-0f3ebf3a2ceb",
   "metadata": {},
   "source": [
    "### 영어만 뽑아내기"
   ]
  },
  {
   "cell_type": "code",
   "execution_count": 3,
   "id": "305be38c-649a-4dc5-be56-9e421d67859c",
   "metadata": {},
   "outputs": [
    {
     "data": {
      "text/plain": [
       "'      AP             YTN      sglim ytn co kr            YTN                                 social ytn co kr       c  YTN               '"
      ]
     },
     "execution_count": 3,
     "metadata": {},
     "output_type": "execute_result"
    }
   ],
   "source": [
    "text4 = '''않았다고  AP통신 등은 전했습니다. YTN 임수근 (sglim@ytn.co.kr) ※  [카카오톡] YTN 검색해 채널 추가 [전화] 02-398-8585 [메일] social@ytn.co.kr [저작권자(c) YTN 무단전재 및 재배포 금지]'''\n",
    "re_res = re.sub('[^a-zA-Z]',' ', text4)\n",
    "re_res"
   ]
  },
  {
   "cell_type": "code",
   "execution_count": 6,
   "id": "d81c5f78-4395-4530-b52a-d7f37a5688c7",
   "metadata": {
    "collapsed": true,
    "jupyter": {
     "outputs_hidden": true
    }
   },
   "outputs": [
    {
     "data": {
      "text/plain": [
       "['AP',\n",
       " 'YTN',\n",
       " 'sglim',\n",
       " 'ytn',\n",
       " 'co',\n",
       " 'kr',\n",
       " 'YTN',\n",
       " 'social',\n",
       " 'ytn',\n",
       " 'co',\n",
       " 'kr',\n",
       " 'c',\n",
       " 'YTN']"
      ]
     },
     "execution_count": 6,
     "metadata": {},
     "output_type": "execute_result"
    }
   ],
   "source": [
    "re_res.split()"
   ]
  },
  {
   "cell_type": "markdown",
   "id": "96e40662-f616-456a-b82c-85e000547e6a",
   "metadata": {},
   "source": [
    "### 한글만 뽑아내거나 없애기"
   ]
  },
  {
   "cell_type": "code",
   "execution_count": 23,
   "id": "074d95bf-d92b-4c3c-9663-4f64d4a636f2",
   "metadata": {},
   "outputs": [],
   "source": [
    "text5 = \"ㅋㅋㅋ so 이따가 시간 돼?\""
   ]
  },
  {
   "cell_type": "code",
   "execution_count": 30,
   "id": "802beb28-2c3e-4b12-a13f-aee49dc802ef",
   "metadata": {},
   "outputs": [
    {
     "data": {
      "text/plain": [
       "['이따가', '시간', '돼']"
      ]
     },
     "execution_count": 30,
     "metadata": {},
     "output_type": "execute_result"
    }
   ],
   "source": [
    "re.compile(\"[가-힣]+\").findall(text5)"
   ]
  },
  {
   "cell_type": "code",
   "execution_count": 31,
   "id": "0f3ce4d1-25e8-4647-9f86-4fa4efdd7fab",
   "metadata": {},
   "outputs": [
    {
     "data": {
      "text/plain": [
       "'ㅋㅋㅋ so   ?'"
      ]
     },
     "execution_count": 31,
     "metadata": {},
     "output_type": "execute_result"
    }
   ],
   "source": [
    "re.compile(\"[가-힣]+\").sub(\"\", text5)"
   ]
  },
  {
   "cell_type": "code",
   "execution_count": 32,
   "id": "a680c7a0-3e75-491f-aec9-90126f1e9a73",
   "metadata": {},
   "outputs": [
    {
     "data": {
      "text/plain": [
       "'ㅋㅋㅋso'"
      ]
     },
     "execution_count": 32,
     "metadata": {},
     "output_type": "execute_result"
    }
   ],
   "source": [
    "re.compile(\"[\\?| |가-힣]+\").sub(\"\", text5)\n",
    "# |는 or의 역할을 한다. (역슬래시 shift 안누른 것)"
   ]
  },
  {
   "cell_type": "code",
   "execution_count": 27,
   "id": "18c215e7-156f-4f70-bcc2-024934a45ea9",
   "metadata": {},
   "outputs": [
    {
     "data": {
      "text/plain": [
       "' so   ?'"
      ]
     },
     "execution_count": 27,
     "metadata": {},
     "output_type": "execute_result"
    }
   ],
   "source": [
    "re.compile(\"[ㄱ-힣]+\").sub(\"\", text5)"
   ]
  },
  {
   "cell_type": "code",
   "execution_count": null,
   "id": "fe531f61-bea6-4a3c-b4eb-24146b29e56b",
   "metadata": {},
   "outputs": [],
   "source": []
  }
 ],
 "metadata": {
  "kernelspec": {
   "display_name": "Python 3 (ipykernel)",
   "language": "python",
   "name": "python3"
  },
  "language_info": {
   "codemirror_mode": {
    "name": "ipython",
    "version": 3
   },
   "file_extension": ".py",
   "mimetype": "text/x-python",
   "name": "python",
   "nbconvert_exporter": "python",
   "pygments_lexer": "ipython3",
   "version": "3.8.15"
  }
 },
 "nbformat": 4,
 "nbformat_minor": 5
}
