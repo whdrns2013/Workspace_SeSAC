{
 "cells": [
  {
   "cell_type": "markdown",
   "id": "763d3bf7-befe-4755-bb5c-06f20ccf07fd",
   "metadata": {},
   "source": [
    "# Elastic search  \n",
    "\n",
    "ELK stack => Elastic search & Log stash & Kibana (*Beats)"
   ]
  },
  {
   "cell_type": "markdown",
   "id": "8827e112-d0bc-4152-a658-cb3abb4f927d",
   "metadata": {},
   "source": [
    "## 프로그래밍에서 기본적인 서치 메서드의 한계"
   ]
  },
  {
   "cell_type": "markdown",
   "id": "89490f38-cd5d-4066-ab3c-639adfd0494e",
   "metadata": {},
   "source": [
    "파이썬에서 기본적인 서치를 진행해보자.  \n",
    "우리가 알고 있는 서치는 .find 혹은 .find_all 이 기본적이다.  "
   ]
  },
  {
   "cell_type": "code",
   "execution_count": 3,
   "id": "ad845568-3b7d-4269-a22a-a590b77612d3",
   "metadata": {},
   "outputs": [
    {
     "name": "stdout",
     "output_type": "stream",
     "text": [
      "정확한 서치 :  11\n",
      "부정확한 서치 :  -1\n"
     ]
    }
   ],
   "source": [
    "str1 = 'This final class with HJ'\n",
    "print('정확한 서치 : ', str1.find('class'))\n",
    "print('부정확한 서치 : ', str1.find('cless'))"
   ]
  },
  {
   "cell_type": "markdown",
   "id": "a0b803c9-3400-4982-a885-e6281fc9a4d8",
   "metadata": {},
   "source": [
    "하지만 위와 같이 부정확한 서치는 결과물이 나오지 않게 된다.  "
   ]
  },
  {
   "cell_type": "markdown",
   "id": "19826d94-ac4a-4300-85a7-cd22e2157389",
   "metadata": {},
   "source": [
    "SQL에서는 비교적 유연한 서치가 가능하다.  "
   ]
  },
  {
   "cell_type": "markdown",
   "id": "6444ddc8-1e52-40cf-95cf-1f86a5cf0ddc",
   "metadata": {},
   "source": [
    "예를 들어 SQL에서..\n",
    "COL : kim, lee, park, bark ... 성씨\n",
    "\n",
    "* 정확한 Park씨 찾기 :  \n",
    "select * from ~ where col1 = 'park'  \n",
    "\n",
    "* 박씨는 여러 표기법이 있다. Park, Bark...:  \n",
    "* 이를 모두 찾기 위해 비교적 유연한 서치가 가능하다.  \n",
    "select * from ~ where col1 like '*ark'  \n",
    "\n",
    "* 하지만 이것은 ark가 들어가는 것을 찾을 뿐, 박씨를 찾는 게 아니다.  \n",
    "* 거기에 'ark 가 공통으로 들어간다' 라는 점을 미리 알고 있어야 서치가 가능하다.  \n"
   ]
  },
  {
   "cell_type": "markdown",
   "id": "5981f7a7-f405-4e02-b094-f930cfa141e3",
   "metadata": {},
   "source": [
    "여기서 참고  \n",
    "\n",
    "* DB의 종류  \n",
    "RDBMS : Mysql, Maria-DB, Oracle DB (table - based)  \n",
    "객체지향 DB : NoSQL : Json, MongoDB(non-table based)  \n",
    "\n",
    "* NoSQL이 되는 것은 무엇이 있을까?  \n",
    "Json 형태가 바로 NoSQL의 대표적인 형태이다.  \n",
    "Json 형태는 표가 정해져있지 않고, 키 - 밸류라는 형태만 정의되어 있다.  \n",
    "Mongo DB 또한 NoSQL이며, 이는 면접 전 살펴보기를 바란다.  \n",
    "\n",
    "* 예를 들어  \n",
    "어떤 사람을 표현한다고 했을 때, 사람들의 특성은 매우매우 다르다.  \n",
    "예로 어떤 사람은 전자공학, 어떤 사람은 환경공학, 어떤 사람은 음악 전공이라고 하면  \n",
    "각각의 전공에서 필요한 항목들은 매우매우 다를 것이다.  \n",
    "이 때문에 각각의 객체에 맞게끔 데이터베이스를 꾸리는 게 필요할 것이고,  \n",
    "\n",
    "이것이 바로 '객체지향 데이터베이스' 즉, NoSQL 의 형태인 것이다.  \n",
    "\n",
    "* 엘라스틱 서치는?  \n",
    "엘라스틱 서치는 자신만의 저장 방식을 가지고 있다.  \n",
    "그런데 이는, RDBMS도, NoSQL 형태도 아니다.  \n",
    "자신만의 애매한 저장 방식이 있다.  "
   ]
  },
  {
   "cell_type": "markdown",
   "id": "401e2add-ce94-4414-a4a1-eca66a4b1468",
   "metadata": {},
   "source": [
    "## 엘라스틱서치를 만든 엘라스틱.co  "
   ]
  },
  {
   "cell_type": "markdown",
   "id": "f859bc65-b28b-41bf-964a-dbe05ff45e2f",
   "metadata": {},
   "source": [
    "https://www.elastic.co/kr/\n",
    "\n",
    "원래는 오픈소스 진영에 있던 회사.  \n",
    "오픈소스로 배포하다가 수익화로 전환됨.  "
   ]
  },
  {
   "cell_type": "markdown",
   "id": "a7bd4e74-91aa-42cb-9d1e-c303f6c2a073",
   "metadata": {},
   "source": [
    "https://aws.amazon.com/ko/what-is/elasticsearch/\n",
    "\n",
    "아마존에서 바라보는 엘라스틱 서치  \n"
   ]
  },
  {
   "cell_type": "markdown",
   "id": "23e76c36-86f8-481a-8c26-19c031202247",
   "metadata": {},
   "source": [
    "https://blog.outsider.ne.kr/1533\n",
    "\n",
    "엘라스틱과 아마존의 분쟁  \n",
    "분쟁 이후 엘라스틱.co는 브랜치를 따로 하여 수익화를 진행  "
   ]
  },
  {
   "cell_type": "markdown",
   "id": "14d822fa-003a-472a-ba9c-b0a5314b779e",
   "metadata": {},
   "source": [
    "엘라스틱 서치에는 흐름상 변화가 있었는데..  \n",
    "엘라스틱 서치가 의미가 있는 것은 서버에서 잘 적용이 가능하기 때문이었는데...  \n",
    "기존 엘라스틱 서치와 아마존이 함께했다가 결별을 하면서 환경이 많이 바뀌었다.  \n",
    "\n",
    "엘라스틱.co가 제공하는 엘라스틱서치는 무료가 아닌 유료이다.  \n",
    "\n",
    "그러므로 나중에 일을 할 때에는 주의하도록 하자.  "
   ]
  },
  {
   "cell_type": "markdown",
   "id": "1fb67e87-a980-431a-800f-933b93f98e69",
   "metadata": {},
   "source": [
    "그리고 현재 엘라스틱.co는 수익화가 많이 아쉬운 상황.  \n",
    "그러므로 굳이 엘라스틱.co의 모델을 도입해야 하는가는 한 번 더 고민해봐야 할 문제  "
   ]
  },
  {
   "cell_type": "markdown",
   "id": "3f202b95-5bed-4aa9-8a08-29a136360ee5",
   "metadata": {},
   "source": [
    "## 프로그램 다운로드"
   ]
  },
  {
   "cell_type": "markdown",
   "id": "e8a3573c-a450-4742-8128-315f723929ab",
   "metadata": {},
   "source": [
    "키바나  \n",
    "키바나(Kibana)는 오픈서치의 자유-오픈 소스 후계자가 오픈서치 대시보드인 일래스틱서치용의 소스 이용이 가능한 데이터 시각화 대시보드 소프트웨어이다.  \n",
    "일래스틱서치 클러스터에 색인된 내용 기반의 시각화 기능을 제공한다. 사용자는 막대, 선, 산점도 플롯, 원 그래프, 지도를 다량의 데이터에 맞추어 만들 수 있다.  \n",
    "https://ko.wikipedia.org/wiki/%ED%82%A4%EB%B0%94%EB%82%98  \n",
    "\n",
    "현재는 엘라스틱 서치가 유료이기 때문에,  \n",
    "과거의 오픈소스 버전을 다운로드 받아야 무료로 사용이 가능하다.  \n",
    "https://www.elastic.co/kr/downloads/past-releases/kibana-7-16-3"
   ]
  },
  {
   "cell_type": "markdown",
   "id": "deb7a84c-7ace-4f75-9cfd-138b2ae5d261",
   "metadata": {},
   "source": [
    "엘라스틱 서치\n",
    "엘라스틱 서치 또한 오픈소스 버전을 다운로드 받는다.  \n",
    "https://www.elastic.co/kr/downloads/past-releases/elasticsearch-7-16-3"
   ]
  },
  {
   "cell_type": "markdown",
   "id": "52caad6f-5d79-4580-9177-4653840ca9f3",
   "metadata": {},
   "source": [
    "# 엘라스틱 서치 개념 이해하기"
   ]
  },
  {
   "cell_type": "markdown",
   "id": "c02d5be0-49bb-4e3b-80fc-17b0dc2457ad",
   "metadata": {},
   "source": [
    "ELK Stack  \n",
    "\n",
    "* Elastic Search  \n",
    "* Log Stash  \n",
    "* Kibana  \n",
    "* Beats  "
   ]
  },
  {
   "cell_type": "markdown",
   "id": "d9d0181d-fd09-4d66-87c5-abba7f8f3ac3",
   "metadata": {},
   "source": [
    "하지만, 데이터 흐름 상으로는  \n",
    "\n",
    "* Beats : 엣지 데이터 수집 - IOT 정보 수집을 위한 것. 예전엔 필요 없다가 IOT의 두각으로 인해 추가됨  \n",
    "* Log stash : 분산형 데이터 수집 - 서버 로그 수집 및 변환  \n",
    "* Elastic Search : 수집된 데이터 저장, 검색(불러오기). 검색에 대응할 준비  \n",
    "* Kibana : Elastic Search에서 불러올 수 있는 자료를 검색하는 것  "
   ]
  }
 ],
 "metadata": {
  "kernelspec": {
   "display_name": "Python 3 (ipykernel)",
   "language": "python",
   "name": "python3"
  },
  "language_info": {
   "codemirror_mode": {
    "name": "ipython",
    "version": 3
   },
   "file_extension": ".py",
   "mimetype": "text/x-python",
   "name": "python",
   "nbconvert_exporter": "python",
   "pygments_lexer": "ipython3",
   "version": "3.8.15"
  }
 },
 "nbformat": 4,
 "nbformat_minor": 5
}
