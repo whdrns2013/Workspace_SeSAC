{
 "cells": [
  {
   "cell_type": "markdown",
   "id": "39f46cea-c8c4-4b18-9705-5d89f4603893",
   "metadata": {},
   "source": [
    "# ■■■ 설치 파일 및 패키지 소개\n",
    "\n",
    "> <b>설치 파일 및 패키지</b>  \n",
    "> * jpype : [강사님이 배포한 설치파일](https://mybox.naver.com/share/list?shareKey=IV_zizC9cHRFLU_3DTGPI_O6ck2ITY63cAx9O4kwz9kA)  \n",
    "> * konlpy : `pip install konlpy`  \n",
    "  \n",
    "> <b>konlpy</b>  \n",
    "> 한국어 정보처리를 위한 파이썬 패키지  \n",
    "> 한글 형태소 분석기라고도 불린다.  \n",
    "> [https://konlpy.org/ko/latest/index.html](https://konlpy.org/ko/latest/index.html)  \n",
    "> - 자바 jdk가 설치되어있어야 함  \n",
    "\n",
    "> <b>jpype</b>  \n",
    "> - java와 파이썬이 서로 연동될 수 있게 해준다.  \n",
    "> - jpype는 사용중인 파이썬 버전에 맞는 버전으로 설치해야 함  "
   ]
  },
  {
   "cell_type": "markdown",
   "id": "15f4f94b-6abf-4b9b-b650-73eeab294894",
   "metadata": {},
   "source": [
    "# ■■■ 에러"
   ]
  },
  {
   "cell_type": "code",
   "execution_count": 63,
   "id": "2b95d20f-b755-4b0e-ad45-c6ba4f49c065",
   "metadata": {},
   "outputs": [],
   "source": [
    "# 1. jvm.dll 파일을 찾을 수 없음\n",
    "## 에러메세지 : No JVM shared library file (jvm.dll) found. Try setting up the JAVA_HOME environment variable properly.\n",
    "## 찾아보니, 자바 버전이 맞지 않아 나오는 문제\n",
    "## (1) java18버전을 새로 설치해준 후\n",
    "## (2) 환경변수에서 기존 자바 버전 폴더 삭제 후 새 자바 버전이 설치된 경로를 환경변수에 추가\n",
    "## (3) 위 Path에도 새로 설치된 자바 버전 경로를 추가함"
   ]
  },
  {
   "cell_type": "markdown",
   "id": "a6f0c6ed-d8e9-44d1-b08e-b53a7e273b16",
   "metadata": {},
   "source": [
    "# ■■■ 강사님의 생각"
   ]
  },
  {
   "cell_type": "markdown",
   "id": "90af7aa7-c62e-4191-ba8b-13a2705ef801",
   "metadata": {},
   "source": [
    "* 자신은 accuracy를 그렇게 중요하게 생각하지는 않는다.  \n",
    "* 예를 들어, fashion_mnist에서 샌들을 신발로 분류했다면, 그게 심각한 문제인가?  \n",
    "* 그럴 수도 있다라고 넘어갈 수 있는 문제라고 생각한다.  \n",
    "* accuracy를 높이는 작업은 결국 과적합으로 가는 길이 아닌가 라고 본인은 생각한다.  \n",
    "* 중요한 것은 실제 제공하는 서비스에 문제가 있는가, 기능에서 이게 문제가 되는 것인가 라고 생각한다.  \n",
    "* 오히려 데이터를 까보고, '실질적인 내용' 즉, 더 좋은 서비스가 되는 방향에 대해 생각하는 게 맞다고 생각한다.  \n",
    "\n",
    "june2it@kaist.ac.kr"
   ]
  },
  {
   "cell_type": "markdown",
   "id": "7a4cbc3d-d6d5-4498-92ed-fbd9ddf0e28a",
   "metadata": {},
   "source": [
    "# ■■■ 숙제\n",
    "* 맥북에 형태소 분석기 설치"
   ]
  },
  {
   "cell_type": "markdown",
   "id": "3902f77d-6254-4631-84b7-257bff3c49c8",
   "metadata": {},
   "source": [
    "# nltk 영문 형태소 분석기"
   ]
  },
  {
   "cell_type": "markdown",
   "id": "faa4ec0b-60c1-49a9-8abd-198be5a4321b",
   "metadata": {},
   "source": [
    "* 여러 방식의 형태소 분석기가 있으며, 상황에 맞게 사용하면 된다.  \n",
    "* 또한, 분석기에 따라 처리 속도가 다르므로 이 또한 상황에 맞게 사용해야 한다.  "
   ]
  },
  {
   "cell_type": "code",
   "execution_count": 5,
   "id": "a20ca1e9-05fc-4d57-b235-8f8e05ac7ebe",
   "metadata": {
    "collapsed": true,
    "jupyter": {
     "outputs_hidden": true
    },
    "tags": []
   },
   "outputs": [
    {
     "name": "stdout",
     "output_type": "stream",
     "text": [
      "Requirement already satisfied: nltk in c:\\users\\user\\anaconda3\\envs\\sesac_jh\\lib\\site-packages (3.8.1)\n",
      "Requirement already satisfied: click in c:\\users\\user\\anaconda3\\envs\\sesac_jh\\lib\\site-packages (from nltk) (8.0.4)\n",
      "Requirement already satisfied: tqdm in c:\\users\\user\\anaconda3\\envs\\sesac_jh\\lib\\site-packages (from nltk) (4.64.1)\n",
      "Requirement already satisfied: regex>=2021.8.3 in c:\\users\\user\\anaconda3\\envs\\sesac_jh\\lib\\site-packages (from nltk) (2022.10.31)\n",
      "Requirement already satisfied: joblib in c:\\users\\user\\anaconda3\\envs\\sesac_jh\\lib\\site-packages (from nltk) (1.2.0)\n",
      "Requirement already satisfied: colorama in c:\\users\\user\\anaconda3\\envs\\sesac_jh\\lib\\site-packages (from click->nltk) (0.4.6)\n",
      "Note: you may need to restart the kernel to use updated packages.\n"
     ]
    },
    {
     "name": "stderr",
     "output_type": "stream",
     "text": [
      "WARNING: Ignoring invalid distribution -pype1 (c:\\users\\user\\anaconda3\\envs\\sesac_jh\\lib\\site-packages)\n",
      "WARNING: Ignoring invalid distribution -pype1 (c:\\users\\user\\anaconda3\\envs\\sesac_jh\\lib\\site-packages)\n",
      "WARNING: Ignoring invalid distribution -pype1 (c:\\users\\user\\anaconda3\\envs\\sesac_jh\\lib\\site-packages)\n",
      "WARNING: Ignoring invalid distribution -pype1 (c:\\users\\user\\anaconda3\\envs\\sesac_jh\\lib\\site-packages)\n",
      "WARNING: Ignoring invalid distribution -pype1 (c:\\users\\user\\anaconda3\\envs\\sesac_jh\\lib\\site-packages)\n",
      "WARNING: Ignoring invalid distribution -pype1 (c:\\users\\user\\anaconda3\\envs\\sesac_jh\\lib\\site-packages)\n"
     ]
    }
   ],
   "source": [
    "pip install nltk"
   ]
  },
  {
   "cell_type": "code",
   "execution_count": 44,
   "id": "238fb22f-830d-437f-84a0-5da5ffb76dac",
   "metadata": {},
   "outputs": [],
   "source": [
    "from nltk.tokenize import word_tokenize\n",
    "from nltk.tokenize import WordPunctTokenizer\n",
    "from nltk.tokenize import sent_tokenize\n",
    "from tensorflow.keras.preprocessing.text import text_to_word_sequence\n",
    "import kss"
   ]
  },
  {
   "cell_type": "code",
   "execution_count": 17,
   "id": "5f2ce8e3-62c5-40f7-89af-a9d95f0bfaf9",
   "metadata": {},
   "outputs": [],
   "source": [
    "text = '''\"Don't This is the toughest operation I've ever seen. The enemy has thrown its strongest assault at Bakhmut.\n",
    "We haven't seen troops like this before,\" the Ukrainian commander tells us.'''"
   ]
  },
  {
   "cell_type": "code",
   "execution_count": 19,
   "id": "c81c78d3-9fc5-4645-bd97-42016dc69aa8",
   "metadata": {},
   "outputs": [
    {
     "name": "stdout",
     "output_type": "stream",
     "text": [
      "['``', 'Do', \"n't\", 'This', 'is', 'the', 'toughest', 'operation', 'I', \"'ve\", 'ever', 'seen', '.', 'The', 'enemy', 'has', 'thrown', 'its', 'strongest', 'assault', 'at', 'Bakhmut', '.', 'We', 'have', \"n't\", 'seen', 'troops', 'like', 'this', 'before', ',', \"''\", 'the', 'Ukrainian', 'commander', 'tells', 'us', '.']\n"
     ]
    }
   ],
   "source": [
    "# nltk 형태소 분석 다른유형 - 1\n",
    "print(word_tokenize(text))"
   ]
  },
  {
   "cell_type": "code",
   "execution_count": 21,
   "id": "280c1e2b-0534-4ce1-85c2-2c8ae4e93c34",
   "metadata": {},
   "outputs": [
    {
     "name": "stdout",
     "output_type": "stream",
     "text": [
      "['\"', 'Don', \"'\", 't', 'This', 'is', 'the', 'toughest', 'operation', 'I', \"'\", 've', 'ever', 'seen', '.', 'The', 'enemy', 'has', 'thrown', 'its', 'strongest', 'assault', 'at', 'Bakhmut', '.', 'We', 'haven', \"'\", 't', 'seen', 'troops', 'like', 'this', 'before', ',\"', 'the', 'Ukrainian', 'commander', 'tells', 'us', '.']\n"
     ]
    }
   ],
   "source": [
    "# nltk 형태소 분석 다른유형 - 2\n",
    "print(WordPunctTokenizer().tokenize(text))"
   ]
  },
  {
   "cell_type": "code",
   "execution_count": 32,
   "id": "217aa20b-99f3-4047-821d-849f9b4fa10a",
   "metadata": {},
   "outputs": [
    {
     "data": {
      "text/plain": [
       "['\"Don\\'t This is the toughest operation I\\'ve ever seen.',\n",
       " 'The enemy has thrown its strongest assault at Bakhmut.',\n",
       " 'We haven\\'t seen troops like this before,\" the Ukrainian commander tells us.']"
      ]
     },
     "execution_count": 32,
     "metadata": {},
     "output_type": "execute_result"
    }
   ],
   "source": [
    "# nltk 문장 단위로 끊기\n",
    "sent_tokenize(text)"
   ]
  },
  {
   "cell_type": "code",
   "execution_count": 22,
   "id": "4bde8b2d-e7a1-4596-b85e-5403e3fa3233",
   "metadata": {},
   "outputs": [
    {
     "name": "stdout",
     "output_type": "stream",
     "text": [
      "[\"don't\", 'this', 'is', 'the', 'toughest', 'operation', \"i've\", 'ever', 'seen', 'the', 'enemy', 'has', 'thrown', 'its', 'strongest', 'assault', 'at', 'bakhmut', 'we', \"haven't\", 'seen', 'troops', 'like', 'this', 'before', 'the', 'ukrainian', 'commander', 'tells', 'us']\n"
     ]
    }
   ],
   "source": [
    "# tensorflow 형태소 분석 - 문장 구분\n",
    "print(text_to_word_sequence(text))"
   ]
  },
  {
   "cell_type": "markdown",
   "id": "b6f4dc40-4801-4803-9908-3c6599a893e3",
   "metadata": {},
   "source": [
    "# konlpy 한글 형태소 분석기"
   ]
  },
  {
   "cell_type": "code",
   "execution_count": 2,
   "id": "dceaf96d-3105-49e8-a228-34e9057644d7",
   "metadata": {},
   "outputs": [
    {
     "data": {
      "text/plain": [
       "'0.6.0'"
      ]
     },
     "execution_count": 2,
     "metadata": {},
     "output_type": "execute_result"
    }
   ],
   "source": [
    "import konlpy\n",
    "konlpy.__version__"
   ]
  },
  {
   "cell_type": "code",
   "execution_count": 3,
   "id": "e0f5b39f-f274-43f5-b9f2-5eb46a47fa05",
   "metadata": {},
   "outputs": [
    {
     "data": {
      "text/plain": [
       "['나', '는', '자연어', '처리', '를', '배우고', '있어요', ',', '너무', '신기해요']"
      ]
     },
     "execution_count": 3,
     "metadata": {},
     "output_type": "execute_result"
    }
   ],
   "source": [
    "from konlpy.tag import Okt\n",
    "okt = Okt()\n",
    "tokens = okt.morphs(\"나는 자연어 처리를 배우고 있어요, 너무 신기해요\")\n",
    "tokens\n",
    "# 형태소 분석기는 조사 등을 제외한 단어만을 추출한다."
   ]
  },
  {
   "cell_type": "code",
   "execution_count": 4,
   "id": "2b3797c6-c9ec-4a52-b9c2-90a24973112b",
   "metadata": {},
   "outputs": [
    {
     "data": {
      "text/plain": [
       "['나는', '자연어', '처리를', '배우고', '있어요,', '너무', '신기해요']"
      ]
     },
     "execution_count": 4,
     "metadata": {},
     "output_type": "execute_result"
    }
   ],
   "source": [
    "\"나는 자연어 처리를 배우고 있어요, 너무 신기해요\".split()\n",
    "# 형태소 분석기와는 다른 결과를 내고 있다."
   ]
  },
  {
   "cell_type": "markdown",
   "id": "2317cd49-29c2-4b8b-9577-dff9f622e6cd",
   "metadata": {},
   "source": [
    "# kss 형태소 분석기"
   ]
  },
  {
   "cell_type": "code",
   "execution_count": 38,
   "id": "0f9cf2e3-f8cb-43bd-bc21-9a6692e3da3f",
   "metadata": {},
   "outputs": [],
   "source": [
    "text = '''딥러닝 자연어 처리는 흥미롭습니다. 그런데 재미는 없을 수도 있습니다.\n",
    "특히 일상 언어는 너무 복잡합니다.'''"
   ]
  },
  {
   "cell_type": "code",
   "execution_count": 40,
   "id": "7a2a664b-8dfe-4ce9-a444-d6da90cac17d",
   "metadata": {},
   "outputs": [
    {
     "name": "stdout",
     "output_type": "stream",
     "text": [
      "[('딥', 'NNG'), ('러닝', 'NNG'), ('자연어', 'NNG'), ('처리', 'NNG'), ('는', 'JX'), ('흥미', 'NNG'), ('롭', 'XSA'), ('습니다', 'EF'), ('.', 'SF'), ('그런데', 'MAJ'), ('재미', 'NNG'), ('는', 'JX'), ('없', 'VA'), ('을', 'ETM'), ('수', 'NNB'), ('도', 'JX'), ('있', 'VA'), ('습니다', 'EF'), ('.', 'SF'), ('특히', 'MAG'), ('일상', 'NNG'), ('언어', 'NNG'), ('는', 'JX'), ('너무', 'MAG'), ('복잡', 'XR'), ('합니다', 'XSA+EF'), ('.', 'SF')]\n"
     ]
    }
   ],
   "source": [
    "print(kss.split_morphemes(text))"
   ]
  },
  {
   "cell_type": "code",
   "execution_count": 42,
   "id": "4d3a0399-f142-4334-8f78-7f1886af80ff",
   "metadata": {},
   "outputs": [
    {
     "name": "stdout",
     "output_type": "stream",
     "text": [
      "['딥러닝 자연어 처리는 흥미롭습니다.', '그런데 재미는 없을 수도 있습니다.', '특히 일상 언어는 너무 복잡합니다.']\n"
     ]
    }
   ],
   "source": [
    "print(kss.split_sentences(text))"
   ]
  },
  {
   "cell_type": "code",
   "execution_count": 43,
   "id": "a16892c8-105a-4fca-8c94-ea780db8a9ae",
   "metadata": {},
   "outputs": [
    {
     "data": {
      "text/plain": [
       "['딥러닝 자연어 처리는 흥미롭습니다.', '그런데 재미는 없을 수도 있습니다.', '특히 일상 언어는 너무 복잡합니다.']"
      ]
     },
     "execution_count": 43,
     "metadata": {},
     "output_type": "execute_result"
    }
   ],
   "source": [
    "kss.summarize_sentences(text)"
   ]
  },
  {
   "cell_type": "markdown",
   "id": "39328300-ac2b-42d0-a107-2602812de026",
   "metadata": {},
   "source": [
    "# Kkma 꼬꼬마 형태소 분석기"
   ]
  },
  {
   "cell_type": "code",
   "execution_count": 55,
   "id": "5828e8c2-8017-440a-8d8b-1ffaa4a3da07",
   "metadata": {},
   "outputs": [],
   "source": [
    "from konlpy.tag import Kkma"
   ]
  },
  {
   "cell_type": "code",
   "execution_count": 56,
   "id": "a5847963-39d0-4884-a110-4aab66a2ce9a",
   "metadata": {},
   "outputs": [],
   "source": [
    "kkma = Kkma()"
   ]
  },
  {
   "cell_type": "code",
   "execution_count": 57,
   "id": "98a76488-5240-4444-b9a1-d0e0a5ee7283",
   "metadata": {},
   "outputs": [],
   "source": [
    "text = '''딥러닝 자연어 처리는 흥미롭습니다. 그런데 재미는 없을 수도 있습니다.\n",
    "특히 일상 언어는 너무 복잡합니다.'''"
   ]
  },
  {
   "cell_type": "code",
   "execution_count": 59,
   "id": "c70c2351-1e52-47d0-83d0-ffe442831147",
   "metadata": {},
   "outputs": [
    {
     "name": "stdout",
     "output_type": "stream",
     "text": [
      "['딥', '러닝', '자연어', '처리', '는', '흥미롭', '습니다', '.', '그런데', '재미', '는', '없', '을', '수', '도', '있', '습니다', '.', '특히', '일상', '언어', '는', '너무', '복잡', '하', 'ㅂ니다', '.']\n"
     ]
    }
   ],
   "source": [
    "print(kkma.morphs(text))"
   ]
  },
  {
   "cell_type": "code",
   "execution_count": 60,
   "id": "d6cf92cc-7346-416b-b57b-4e6e9c644b17",
   "metadata": {},
   "outputs": [
    {
     "name": "stdout",
     "output_type": "stream",
     "text": [
      "[('딥', 'NNG'), ('러닝', 'NNG'), ('자연어', 'NNG'), ('처리', 'NNG'), ('는', 'JX'), ('흥미롭', 'VA'), ('습니다', 'EFN'), ('.', 'SF'), ('그런데', 'MAG'), ('재미', 'NNG'), ('는', 'JX'), ('없', 'VA'), ('을', 'ETD'), ('수', 'NNB'), ('도', 'JX'), ('있', 'VV'), ('습니다', 'EFN'), ('.', 'SF'), ('특히', 'MAG'), ('일상', 'NNG'), ('언어', 'NNG'), ('는', 'JX'), ('너무', 'MAG'), ('복잡', 'XR'), ('하', 'XSA'), ('ㅂ니다', 'EFN'), ('.', 'SF')]\n"
     ]
    }
   ],
   "source": [
    "print(kkma.pos(text))"
   ]
  },
  {
   "cell_type": "code",
   "execution_count": 61,
   "id": "477c67b4-54c8-4d0e-99e1-c8fcdc81eeee",
   "metadata": {},
   "outputs": [
    {
     "name": "stdout",
     "output_type": "stream",
     "text": [
      "['딥', '딥러닝', '러닝', '자연어', '처리', '재미', '수', '일상', '언어']\n"
     ]
    }
   ],
   "source": [
    "print(kkma.nouns(text))"
   ]
  },
  {
   "cell_type": "markdown",
   "id": "2ba149ed-30aa-420e-b380-7898e0b005f0",
   "metadata": {},
   "source": [
    "# 형태소 분석기 비교해보기"
   ]
  },
  {
   "cell_type": "code",
   "execution_count": 46,
   "id": "72bf3f8e-cf10-4759-b836-d3e347f99b25",
   "metadata": {},
   "outputs": [],
   "source": [
    "from konlpy.tag import Okt, Kkma"
   ]
  },
  {
   "cell_type": "code",
   "execution_count": 47,
   "id": "acd247e3-774d-423d-bcc4-15d06d2ff838",
   "metadata": {},
   "outputs": [],
   "source": [
    "okt = Okt()\n",
    "kkma = Kkma()"
   ]
  },
  {
   "cell_type": "code",
   "execution_count": 54,
   "id": "5d271ddc-c479-4523-983f-ef18ca9e4b06",
   "metadata": {},
   "outputs": [
    {
     "name": "stdout",
     "output_type": "stream",
     "text": [
      "==== Okt ====\n",
      "형태소 분석 :  ['열심히', '코딩', '한', '당신', ',', '잠도', '잘', '자고', '일', '하세요', '.']\n",
      "품사 태깅 :  [('열심히', 'Adverb'), ('코딩', 'Noun'), ('한', 'Josa'), ('당신', 'Noun'), (',', 'Punctuation'), ('잠도', 'Noun'), ('잘', 'Verb'), ('자고', 'Noun'), ('일', 'Noun'), ('하세요', 'Verb'), ('.', 'Punctuation')]\n",
      "명사 분석 :  ['코딩', '당신', '잠도', '자고', '일']\n",
      "==== Kkma ====\n",
      "형태소 분석 :  ['열심히', '코딩', '하', 'ㄴ', '당신', ',', '잠', '도', '잘', '자', '고', '일하', '세요', '.']\n",
      "품사 태깅 :  [('열심히', 'MAG'), ('코딩', 'NNG'), ('하', 'XSV'), ('ㄴ', 'ETD'), ('당신', 'NP'), (',', 'SP'), ('잠', 'NNG'), ('도', 'JX'), ('잘', 'MAG'), ('자', 'VV'), ('고', 'ECE'), ('일하', 'VV'), ('세요', 'EFN'), ('.', 'SF')]\n",
      "명사 분석 :  ['코딩', '당신', '잠']\n"
     ]
    }
   ],
   "source": [
    "text = '열심히 코딩한 당신, 잠도 잘 자고 일하세요.'\n",
    "\n",
    "print('==== Okt ====')\n",
    "print('형태소 분석 : ', okt.morphs(text)) #단어들\n",
    "print('품사 태깅 : ', okt.pos(text)) #품사만\n",
    "print('명사 분석 : ', okt.nouns(text)) #명사만\n",
    "\n",
    "print('==== Kkma ====')\n",
    "print('형태소 분석 : ', kkma.morphs(text)) #단어들\n",
    "print('품사 태깅 : ', kkma.pos(text)) #품사만\n",
    "print('명사 분석 : ', kkma.nouns(text)) #명사만"
   ]
  },
  {
   "cell_type": "code",
   "execution_count": null,
   "id": "580cae0d-3d70-4faa-bb28-1e9ac877b6f3",
   "metadata": {},
   "outputs": [],
   "source": []
  }
 ],
 "metadata": {
  "kernelspec": {
   "display_name": "Python 3 (ipykernel)",
   "language": "python",
   "name": "python3"
  },
  "language_info": {
   "codemirror_mode": {
    "name": "ipython",
    "version": 3
   },
   "file_extension": ".py",
   "mimetype": "text/x-python",
   "name": "python",
   "nbconvert_exporter": "python",
   "pygments_lexer": "ipython3",
   "version": "3.8.15"
  }
 },
 "nbformat": 4,
 "nbformat_minor": 5
}
