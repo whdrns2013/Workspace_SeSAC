{
 "cells": [
  {
   "cell_type": "markdown",
   "id": "a86124e8-5e38-4e13-94ed-f0483afa33a5",
   "metadata": {},
   "source": [
    "# 개념"
   ]
  },
  {
   "cell_type": "code",
   "execution_count": null,
   "id": "bf8ea6d6-7f2f-4c26-b512-9bf20851f628",
   "metadata": {},
   "outputs": [],
   "source": [
    "한국에서는 웹 크롤링이라 하고, 해외에서는 웹 스"
   ]
  }
 ],
 "metadata": {
  "kernelspec": {
   "display_name": "Python 3 (ipykernel)",
   "language": "python",
   "name": "python3"
  },
  "language_info": {
   "codemirror_mode": {
    "name": "ipython",
    "version": 3
   },
   "file_extension": ".py",
   "mimetype": "text/x-python",
   "name": "python",
   "nbconvert_exporter": "python",
   "pygments_lexer": "ipython3",
   "version": "3.8.15"
  }
 },
 "nbformat": 4,
 "nbformat_minor": 5
}
