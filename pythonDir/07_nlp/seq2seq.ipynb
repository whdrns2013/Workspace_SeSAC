{
 "cells": [
  {
   "cell_type": "code",
   "execution_count": 1,
   "id": "71620e98-f189-4bba-a106-933d1f7b9f1c",
   "metadata": {},
   "outputs": [],
   "source": [
    "import tensorflow as tf\n",
    "import numpy as np\n",
    "import os\n",
    "\n",
    "from tensorflow.keras.callbacks import EarlyStopping, ModelCheckpoint\n",
    "import matplotlib.pyplot as plt\n",
    "# EarlyStopping : \n",
    "# Model Chechpoint : \n",
    "\n",
    "from preprocess import * "
   ]
  },
  {
   "cell_type": "code",
   "execution_count": 2,
   "id": "59b5efb4-6135-4565-8cc2-11f474a00219",
   "metadata": {},
   "outputs": [],
   "source": [
    "def plot_graphs(history, string):\n",
    "    plt.plot(history.history[string])\n",
    "    plt.plot(history.history['val_' + string])\n",
    "    plt.legend([string], 'val_' + string)"
   ]
  },
  {
   "cell_type": "code",
   "execution_count": 3,
   "id": "d838cff2-6fd0-4014-bdad-44aa5b2d1310",
   "metadata": {},
   "outputs": [],
   "source": [
    "# 데이터 저장\n",
    "\n",
    "DATA_IN_PATH = 'data_in/'\n",
    "DATA_OUT_PATH = 'data_out/'\n",
    "\n",
    "TRAIN_INPUTS = 'train_inputs.npy'\n",
    "TRAIN_OUTPUTS = 'train_outputs.npy'\n",
    "TRAIN_TARGETS = 'train_targets.npy'\n",
    "\n",
    "DATA_CONFIGS = 'data_config.json'"
   ]
  },
  {
   "cell_type": "code",
   "execution_count": 4,
   "id": "667382cb-f26e-4080-8946-19f806cdb7ec",
   "metadata": {},
   "outputs": [],
   "source": [
    "tf.random.set_seed(1234)"
   ]
  },
  {
   "cell_type": "code",
   "execution_count": 5,
   "id": "cd12894b-2f83-47f2-8fcf-439f3825babc",
   "metadata": {},
   "outputs": [],
   "source": [
    "index_inputs = np.load(open(DATA_IN_PATH + TRAIN_INPUTS, 'rb'))\n",
    "index_outputs = np.load(open(DATA_IN_PATH + TRAIN_OUTPUTS, 'rb'))\n",
    "index_targets = np.load(open(DATA_IN_PATH + TRAIN_TARGETS, 'rb'))\n",
    "\n",
    "prepro_configs = json.load(open(DATA_IN_PATH + DATA_CONFIGS, 'r'))"
   ]
  },
  {
   "cell_type": "code",
   "execution_count": 6,
   "id": "c10c53f5-9597-487e-918f-76e1dcea7cde",
   "metadata": {},
   "outputs": [
    {
     "name": "stdout",
     "output_type": "stream",
     "text": [
      "120 120 120\n"
     ]
    }
   ],
   "source": [
    "print(len(index_inputs), len(index_outputs), len(index_targets))"
   ]
  },
  {
   "cell_type": "code",
   "execution_count": 20,
   "id": "e9171be8-1207-43e8-9c4e-7537a6ed51ef",
   "metadata": {},
   "outputs": [],
   "source": [
    "MODEL_NAME = 'seq2seq_kor'\n",
    "BATCH_SIZE = 2\n",
    "MAX_SEQUENCE = 25\n",
    "EPOCH = 10\n",
    "UNITS = 1024\n",
    "EMBEDDING_DIM = 256\n",
    "VALIDATION_SPLIT = 0.1"
   ]
  },
  {
   "cell_type": "code",
   "execution_count": 8,
   "id": "0de3bce0-35df-452b-a3b0-69cb03a97c77",
   "metadata": {},
   "outputs": [
    {
     "data": {
      "text/plain": [
       "dict_keys(['char2idx', 'idx2char', 'vocab_size', 'pad_symbol', 'std_symbol', 'end_symbol', 'unk_symbol'])"
      ]
     },
     "execution_count": 8,
     "metadata": {},
     "output_type": "execute_result"
    }
   ],
   "source": [
    "prepro_configs.keys()"
   ]
  },
  {
   "cell_type": "code",
   "execution_count": 9,
   "id": "d2b1d53b-59a7-4bac-8405-9b70575cc487",
   "metadata": {},
   "outputs": [],
   "source": [
    "char2idx = prepro_configs['char2idx']\n",
    "idx2char = prepro_configs['idx2char']\n",
    "std_index = prepro_configs['std_symbol']\n",
    "end_index = prepro_configs['end_symbol']\n",
    "unk_index = prepro_configs['unk_symbol']\n",
    "\n",
    "vocab_size = prepro_configs['vocab_size']"
   ]
  },
  {
   "cell_type": "code",
   "execution_count": 10,
   "id": "6426870b-8cc5-40b2-bbdb-ca2e4c270488",
   "metadata": {},
   "outputs": [],
   "source": [
    "class Encoder(tf.keras.layers.Layer):\n",
    "    def __init__(self, vocab_size, embedding_dim, enc_units, batch_sz):\n",
    "        super(Encoder, self).__init__()        # 상속 와 이렇게 쓰는거구나...\n",
    "        self.batch_sz = batch_sz\n",
    "        self.enc_units = enc_units\n",
    "        self.embedding_dim = embedding_dim\n",
    "        self.vocab_size = vocab_size\n",
    "        \n",
    "        self.embedding = tf.keras.layers.Embedding(self.vocab_size, self.embedding_dim)\n",
    "        self.gru = tf.keras.layers.GRU(self.enc_units, return_sequences=True, return_state=True,\n",
    "                                      recurrent_initializer = 'glorot_uniform')\n",
    "    \n",
    "    \n",
    "    def call(self, x, hidden):\n",
    "        x = self.embedding(x)\n",
    "        output, state = self.gru(x, initial_state = hidden)\n",
    "        \n",
    "        return output, state\n",
    "    \n",
    "    def initialize_hidden_state(self, inp):\n",
    "        return tf.zeros((tf.shape(inp)[0], self.enc_units))\n",
    "        "
   ]
  },
  {
   "cell_type": "code",
   "execution_count": 11,
   "id": "723e5ad2-4075-45fd-bec1-8babe4e764a0",
   "metadata": {},
   "outputs": [],
   "source": [
    "class BahdanauAttention(tf.keras.layers.Layer):\n",
    "    def __init__(self, units):\n",
    "        super(BahdanauAttention, self).__init__()\n",
    "        self.W1 = tf.keras.layers.Dense(units)\n",
    "        self.W2 = tf.keras.layers.Dense(units)\n",
    "        self.V = tf.keras.layers.Dense(1)\n",
    "        \n",
    "    def call(self, query, values):\n",
    "        hidden_with_time_axis = tf.expand_dims(query, 1)\n",
    "        score = self.W1(values) + self.W2(hidden_with_time_axis) # W1 : value에 관련된.. W2 : 쿼리에 관련된 것\n",
    "        score = self.V(tf.nn.tanh(score))\n",
    "        \n",
    "        attention_weights = tf.nn.softmax(score, axis=1)\n",
    "        \n",
    "        context_vector = attention_weights * values\n",
    "        context_vector = tf.reduce_sum(context_vector, axis = 1)\n",
    "        \n",
    "        return context_vector, attention_weights\n",
    "        "
   ]
  },
  {
   "cell_type": "code",
   "execution_count": 12,
   "id": "9c251c93-b7b0-4761-87f3-df405c5110a1",
   "metadata": {},
   "outputs": [],
   "source": [
    "# 오... 층을 아래에서부터 쌓는 것도 좋네\n",
    "# 그러면 원하는 최종 결과물이 무엇인지를 보고, 그 결과가 나올 수 있게끔 필요한 것들과 양을 더 쉽게 정할 수 있을 듯\n",
    "\n",
    "class Decoder(tf.keras.layers.Layer):\n",
    "    def __init__(self, vocab_size, embedding_dim, dec_units, batch_sz):\n",
    "        super(Decoder, self).__init__()\n",
    "        \n",
    "        self.vocab_size = vocab_size\n",
    "        self.embedding_dim = embedding_dim\n",
    "        self.dec_units = dec_units\n",
    "        self.batch_sz = batch_sz\n",
    "        \n",
    "        self.embedding = tf.keras.layers.Embedding(self.vocab_size, self.embedding_dim)\n",
    "        self.gru = tf.keras.layers.GRU(self.dec_units, return_sequences = True, return_state = True,\n",
    "                                      recurrent_initializer = 'glorot_uniform')\n",
    "        self.fc = tf.keras.layers.Dense(self.vocab_size)\n",
    "        self.attention = BahdanauAttention(self.dec_units)\n",
    "        \n",
    "    def call(self, x, hidden, enc_output):\n",
    "        # 오류 : hidden 파라미터 안넣음\n",
    "        context_vector, attention_weights = self.attention(hidden, enc_output)\n",
    "        x = self.embedding(x)\n",
    "        tf.concat([tf.expand_dims(context_vector, 1), x], axis = -1)\n",
    "        output, state = self.gru(x)\n",
    "        \n",
    "        output = tf.reshape(output, (-1, output.shape[2]))\n",
    "        \n",
    "        x = self.fc(output)\n",
    "        \n",
    "        return x, state, attention_weights"
   ]
  },
  {
   "cell_type": "code",
   "execution_count": 13,
   "id": "1909648a-3f92-4b69-a43c-7e6605f5e546",
   "metadata": {},
   "outputs": [],
   "source": [
    "# mask를 쓰게 되는데..\n",
    "\n",
    "import tensorflow as tf\n",
    "\n",
    "optimizer = tf.keras.optimizers.Adam()\n",
    "loss_object = tf.keras.losses.SparseCategoricalCrossentropy(from_logits = True, reduction = 'none')\n",
    "# jh 오류 : 단순 오타\n",
    "train_accuracy = tf.keras.metrics.SparseCategoricalAccuracy(name='accuracy')\n",
    "                                                       \n",
    "def loss(real, pred):\n",
    "    mask = tf.math.logical_not(tf.math.equal(real, 0))\n",
    "    loss_ = loss_object(real, pred)\n",
    "    # real -> read 오타\n",
    "    mask = tf.cast(mask, dtype = loss_.dtype)\n",
    "    loss_ *= mask\n",
    "    return tf.reduce_mean(loss_)\n",
    "\n",
    "def accuracy(real, pred):\n",
    "    mask = tf.math.logical_not(tf.math.equal(real, 0))\n",
    "    mask = tf.expand_dims(tf.cast(mask, dtype = pred.dtype), axis = -1)\n",
    "    pred *= mask\n",
    "    acc = train_accuracy(real, pred)\n",
    "    # train_accurach -> train_accuracy 오타\n",
    "    return tf.reduce_mean(acc)"
   ]
  },
  {
   "cell_type": "code",
   "execution_count": 14,
   "id": "bb0bd9d6-3a20-4b5f-a591-d76b7279de64",
   "metadata": {},
   "outputs": [],
   "source": [
    "class seq2seq(tf.keras.Model):\n",
    "    def __init__(self, vocab_size, embedding_dim, enc_units, dec_units, batch_sz, end_token_idx=2):\n",
    "        super(seq2seq, self).__init__()\n",
    "        \n",
    "        self.end_token_idx = end_token_idx\n",
    "        \n",
    "        self.encoder = Encoder(vocab_size, embedding_dim, enc_units, batch_sz)\n",
    "        self.decoder = Decoder(vocab_size, embedding_dim, dec_units, batch_sz)\n",
    "        \n",
    "    # 어떤 값을 주면, 학습을 진행해라 라는 함수\n",
    "    def call(self, x):\n",
    "        inp, tar = x\n",
    "        enc_hidden = self.encoder.initialize_hidden_state(inp)\n",
    "        enc_output, enc_hidden = self.encoder(inp, enc_hidden)\n",
    "        \n",
    "        dec_hidden = enc_hidden\n",
    "        \n",
    "        predict_tokens = []\n",
    "        for t in range(0, tar.shape[1]): # tar.shape[1] -> 한 문장의 길이\n",
    "            dec_input = tf.dtypes.cast(tf.expand_dims(tar[:, t], 1), tf.float32) # float32 로 맞춤\n",
    "            predictions, dec_hidden, _ = self.decoder(dec_input, dec_hidden, enc_output) # _ : 출력값은 있으나, 쓰이지 않음\n",
    "            predictions = tf.dtypes.cast(predictions, tf.float32)\n",
    "            predict_tokens.append(predictions)\n",
    "        \n",
    "        return tf.stack(predict_tokens, axis=1)\n",
    "    \n",
    "    def inference(self, x):\n",
    "        inp = x\n",
    "        enc_hidden = self.encoder.initialize_hidden_state(inp)\n",
    "        enc_output, enc_hidden = self.encoder(inp, enc_hidden)\n",
    "        \n",
    "        dec_hidden = enc_hidden\n",
    "        \n",
    "        dec_input = tf.expand_dims([char2idx[std_index]], 1) # STD에 해당하는 index를 반환, 그리고 차원 1개 추가\n",
    "        \n",
    "        predict_tokens = []\n",
    "        for t in range(0, MAX_SEQUENCE):\n",
    "            predictions, dec_hidden, _ = self.decoder(dec_input, dec_hidden, enc_output)\n",
    "            predict_token = tf.argmax(predictions[0]) # 어떤 단어인지 추려내는 단계 중\n",
    "            \n",
    "            if predict_token == self.end_token_idx:\n",
    "                break # 중지 : predict_token이 end_token의 인덱스와 같아지면\n",
    "                \n",
    "            predict_tokens.append(predict_token)\n",
    "            dec_input = tf.dtypes.cast(tf.expand_dims([predict_token], 0), tf.float32)\n",
    "        \n",
    "        \n",
    "        return tf.stack(predict_tokens, axis = 0).numpy()"
   ]
  },
  {
   "cell_type": "code",
   "execution_count": 15,
   "id": "7042b339-d58f-4489-b95b-368011440f8b",
   "metadata": {},
   "outputs": [],
   "source": [
    "model = seq2seq(vocab_size, EMBEDDING_DIM, UNITS, UNITS, BATCH_SIZE, char2idx[end_index])\n",
    "model.compile(loss=loss, optimizer = tf.keras.optimizers.Adam(1e-3), metrics=[accuracy])"
   ]
  },
  {
   "cell_type": "code",
   "execution_count": 21,
   "id": "413aeeeb-5785-4042-a737-250d11b83a78",
   "metadata": {},
   "outputs": [
    {
     "name": "stdout",
     "output_type": "stream",
     "text": [
      "Epoch 1/10\n"
     ]
    },
    {
     "name": "stderr",
     "output_type": "stream",
     "text": [
      "2023-01-18 15:08:17.315995: W tensorflow/core/platform/profile_utils/cpu_utils.cc:128] Failed to get CPU frequency: 0 Hz\n"
     ]
    },
    {
     "name": "stdout",
     "output_type": "stream",
     "text": [
      "WARNING:tensorflow:Gradients do not exist for variables ['seq2seq/encoder/embedding/embeddings:0', 'seq2seq/encoder/gru/gru_cell/kernel:0', 'seq2seq/encoder/gru/gru_cell/recurrent_kernel:0', 'seq2seq/encoder/gru/gru_cell/bias:0', 'seq2seq/decoder/bahdanau_attention/dense_1/kernel:0', 'seq2seq/decoder/bahdanau_attention/dense_1/bias:0', 'seq2seq/decoder/bahdanau_attention/dense_2/kernel:0', 'seq2seq/decoder/bahdanau_attention/dense_2/bias:0', 'seq2seq/decoder/bahdanau_attention/dense_3/kernel:0', 'seq2seq/decoder/bahdanau_attention/dense_3/bias:0'] when minimizing the loss. If you're using `model.compile()`, did you forget to provide a `loss` argument?\n",
      "WARNING:tensorflow:Gradients do not exist for variables ['seq2seq/encoder/embedding/embeddings:0', 'seq2seq/encoder/gru/gru_cell/kernel:0', 'seq2seq/encoder/gru/gru_cell/recurrent_kernel:0', 'seq2seq/encoder/gru/gru_cell/bias:0', 'seq2seq/decoder/bahdanau_attention/dense_1/kernel:0', 'seq2seq/decoder/bahdanau_attention/dense_1/bias:0', 'seq2seq/decoder/bahdanau_attention/dense_2/kernel:0', 'seq2seq/decoder/bahdanau_attention/dense_2/bias:0', 'seq2seq/decoder/bahdanau_attention/dense_3/kernel:0', 'seq2seq/decoder/bahdanau_attention/dense_3/bias:0'] when minimizing the loss. If you're using `model.compile()`, did you forget to provide a `loss` argument?\n",
      "54/54 [==============================] - ETA: 0s - loss: 1.8248 - accuracy: 0.8502\n",
      "Epoch 1: val_accuracy improved from -inf to 0.84927, saving model to data_out/seq2seq_kor/weights.h5\n",
      "54/54 [==============================] - 36s 527ms/step - loss: 1.8248 - accuracy: 0.8502 - val_loss: 1.6508 - val_accuracy: 0.8493\n",
      "Epoch 2/10\n",
      "54/54 [==============================] - ETA: 0s - loss: 1.1424 - accuracy: 0.8536\n",
      "Epoch 2: val_accuracy improved from 0.84927 to 0.85033, saving model to data_out/seq2seq_kor/weights.h5\n",
      "54/54 [==============================] - 26s 481ms/step - loss: 1.1424 - accuracy: 0.8536 - val_loss: 1.3101 - val_accuracy: 0.8503\n",
      "Epoch 3/10\n",
      "54/54 [==============================] - ETA: 0s - loss: 0.8332 - accuracy: 0.8504\n",
      "Epoch 3: val_accuracy improved from 0.85033 to 0.85089, saving model to data_out/seq2seq_kor/weights.h5\n",
      "54/54 [==============================] - 26s 473ms/step - loss: 0.8332 - accuracy: 0.8504 - val_loss: 1.3554 - val_accuracy: 0.8509\n",
      "Epoch 4/10\n",
      "54/54 [==============================] - ETA: 0s - loss: 0.7660 - accuracy: 0.8508\n",
      "Epoch 4: val_accuracy improved from 0.85089 to 0.85109, saving model to data_out/seq2seq_kor/weights.h5\n",
      "54/54 [==============================] - 26s 473ms/step - loss: 0.7660 - accuracy: 0.8508 - val_loss: 1.3787 - val_accuracy: 0.8511\n",
      "Epoch 5/10\n",
      "54/54 [==============================] - ETA: 0s - loss: 0.7201 - accuracy: 0.8513\n",
      "Epoch 5: val_accuracy improved from 0.85109 to 0.85201, saving model to data_out/seq2seq_kor/weights.h5\n",
      "54/54 [==============================] - 26s 481ms/step - loss: 0.7201 - accuracy: 0.8513 - val_loss: 1.3815 - val_accuracy: 0.8520\n",
      "Epoch 6/10\n",
      "54/54 [==============================] - ETA: 0s - loss: 0.6681 - accuracy: 0.8533\n",
      "Epoch 6: val_accuracy improved from 0.85201 to 0.85441, saving model to data_out/seq2seq_kor/weights.h5\n",
      "54/54 [==============================] - 26s 486ms/step - loss: 0.6681 - accuracy: 0.8533 - val_loss: 1.3977 - val_accuracy: 0.8544\n",
      "Epoch 7/10\n",
      "54/54 [==============================] - ETA: 0s - loss: 0.5957 - accuracy: 0.8569\n",
      "Epoch 7: val_accuracy improved from 0.85441 to 0.85803, saving model to data_out/seq2seq_kor/weights.h5\n",
      "54/54 [==============================] - 26s 487ms/step - loss: 0.5957 - accuracy: 0.8569 - val_loss: 1.4665 - val_accuracy: 0.8580\n",
      "Epoch 8/10\n",
      "54/54 [==============================] - ETA: 0s - loss: 0.5196 - accuracy: 0.8599\n",
      "Epoch 8: val_accuracy improved from 0.85803 to 0.86188, saving model to data_out/seq2seq_kor/weights.h5\n",
      "54/54 [==============================] - 29s 538ms/step - loss: 0.5196 - accuracy: 0.8599 - val_loss: 1.4656 - val_accuracy: 0.8619\n",
      "Epoch 9/10\n",
      "54/54 [==============================] - ETA: 0s - loss: 0.4512 - accuracy: 0.8645\n",
      "Epoch 9: val_accuracy improved from 0.86188 to 0.86627, saving model to data_out/seq2seq_kor/weights.h5\n",
      "54/54 [==============================] - 30s 563ms/step - loss: 0.4512 - accuracy: 0.8645 - val_loss: 1.4876 - val_accuracy: 0.8663\n",
      "Epoch 10/10\n",
      "54/54 [==============================] - ETA: 0s - loss: 0.3888 - accuracy: 0.8688\n",
      "Epoch 10: val_accuracy improved from 0.86627 to 0.87069, saving model to data_out/seq2seq_kor/weights.h5\n",
      "54/54 [==============================] - 30s 564ms/step - loss: 0.3888 - accuracy: 0.8688 - val_loss: 1.5446 - val_accuracy: 0.8707\n"
     ]
    }
   ],
   "source": [
    "PATH = DATA_OUT_PATH + MODEL_NAME\n",
    "if not( os.path.isdir(PATH)):\n",
    "    os.makedirs(os.path.join(PATH))\n",
    "checkpoint_path = DATA_OUT_PATH + MODEL_NAME + '/weights.h5'\n",
    "cp_callback = ModelCheckpoint(checkpoint_path, monitor = 'val_accuracy', verbose = 1, save_best_only = True,\n",
    "                              save_weights_only = True)\n",
    "\n",
    "earlystop_callback = EarlyStopping(monitor='val_accuracy', min_delta=0.0001, patience=10)\n",
    "\n",
    "history = model.fit([index_inputs, index_outputs], index_targets,\n",
    "                    batch_size = BATCH_SIZE, epochs = EPOCH,\n",
    "                    validation_split = VALIDATION_SPLIT, callbacks = [earlystop_callback, cp_callback])"
   ]
  },
  {
   "cell_type": "code",
   "execution_count": 20,
   "id": "b1a38614-2da4-4d7d-8036-2a73c99a031a",
   "metadata": {},
   "outputs": [],
   "source": [
    "################ 이상 : 학습까지 ##################"
   ]
  },
  {
   "cell_type": "code",
   "execution_count": null,
   "id": "a24924a2-a364-4e8d-9372-4f8ea25b32f1",
   "metadata": {},
   "outputs": [],
   "source": [
    "# PATH = DATA_OUT_PATH + MODEL_NAME\n",
    "# if not(os.path.isdir(PATH)):\n",
    "#     os.makedirs(os.path.join(PATH))\n",
    "    \n",
    "# checkpoint_path = DATA_OUT_PATH + MODEL_NAME + 'weights.h5'\n",
    "\n",
    "# cp_callback = ModelCheckpoint(\n",
    "#     checkpoint_path, monitor = 'val_accuracy', verbose = 1, save_best_only = True,\n",
    "#     save_weights_only = True)\n",
    "\n",
    "# earlystop_callpack = EarlyStopping(monitor = 'val_accuracy', min_delta = 0.0001, patience = 10)\n",
    "\n",
    "# history = model.fit([index_inputs, index_outputs], index_targets,"
   ]
  },
  {
   "cell_type": "code",
   "execution_count": 22,
   "id": "0cf3d25f-a793-4968-b260-1593ccee474a",
   "metadata": {},
   "outputs": [
    {
     "name": "stderr",
     "output_type": "stream",
     "text": [
      "/var/folders/fn/b29w84gs71q01kp51x0ty8h80000gn/T/ipykernel_5872/598420532.py:4: UserWarning: Legend does not support handles for str instances.\n",
      "A proxy artist may be used instead.\n",
      "See: https://matplotlib.org/stable/tutorials/intermediate/legend_guide.html#controlling-the-legend-entries\n",
      "  plt.legend([string], 'val_' + string)\n"
     ]
    },
    {
     "data": {
      "image/png": "[encoded data removed]",
      "text/plain": [
       "<Figure size 640x480 with 1 Axes>"
      ]
     },
     "metadata": {},
     "output_type": "display_data"
    }
   ],
   "source": [
    "plot_graphs(history, 'accuracy')"
   ]
  },
  {
   "cell_type": "code",
   "execution_count": 23,
   "id": "e6b0ce49-3aa5-4c75-986d-3986bde0cd3f",
   "metadata": {},
   "outputs": [
    {
     "name": "stderr",
     "output_type": "stream",
     "text": [
      "/var/folders/fn/b29w84gs71q01kp51x0ty8h80000gn/T/ipykernel_5872/598420532.py:4: UserWarning: Legend does not support handles for str instances.\n",
      "A proxy artist may be used instead.\n",
      "See: https://matplotlib.org/stable/tutorials/intermediate/legend_guide.html#controlling-the-legend-entries\n",
      "  plt.legend([string], 'val_' + string)\n"
     ]
    },
    {
     "data": {
      "image/png": "[encoded data removed]",
      "text/plain": [
       "<Figure size 640x480 with 1 Axes>"
      ]
     },
     "metadata": {},
     "output_type": "display_data"
    }
   ],
   "source": [
    "plot_graphs(history, 'loss')"
   ]
  },
  {
   "cell_type": "code",
   "execution_count": 24,
   "id": "2a048323-6a3a-4c99-803a-87b1e7655f50",
   "metadata": {},
   "outputs": [],
   "source": [
    "SAVE_FILE_NM = '/weights.h5'\n",
    "model.load_weights(os.path.join(DATA_OUT_PATH + MODEL_NAME + SAVE_FILE_NM))"
   ]
  },
  {
   "cell_type": "code",
   "execution_count": 25,
   "id": "b56aac70-1cba-4f9d-8b94-8f7fb9adcbe9",
   "metadata": {},
   "outputs": [
    {
     "ename": "KeyError",
     "evalue": "4294",
     "output_type": "error",
     "traceback": [
      "\u001b[0;31m---------------------------------------------------------------------------\u001b[0m",
      "\u001b[0;31mKeyError\u001b[0m                                  Traceback (most recent call last)",
      "Cell \u001b[0;32mIn[26], line 6\u001b[0m\n\u001b[1;32m      3\u001b[0m test_index_inputs, _ \u001b[38;5;241m=\u001b[39m enc_processing([query], char2idx)\n\u001b[1;32m      4\u001b[0m predict_tokens \u001b[38;5;241m=\u001b[39m model\u001b[38;5;241m.\u001b[39minference(test_index_inputs)\n\u001b[0;32m----> 6\u001b[0m \u001b[38;5;28mprint\u001b[39m(\u001b[38;5;124m'\u001b[39m\u001b[38;5;124m \u001b[39m\u001b[38;5;124m'\u001b[39m\u001b[38;5;241m.\u001b[39mjoin([idx2char[t] \u001b[38;5;28;01mfor\u001b[39;00m t \u001b[38;5;129;01min\u001b[39;00m predict_tokens]))\n",
      "Cell \u001b[0;32mIn[26], line 6\u001b[0m, in \u001b[0;36m<listcomp>\u001b[0;34m(.0)\u001b[0m\n\u001b[1;32m      3\u001b[0m test_index_inputs, _ \u001b[38;5;241m=\u001b[39m enc_processing([query], char2idx)\n\u001b[1;32m      4\u001b[0m predict_tokens \u001b[38;5;241m=\u001b[39m model\u001b[38;5;241m.\u001b[39minference(test_index_inputs)\n\u001b[0;32m----> 6\u001b[0m \u001b[38;5;28mprint\u001b[39m(\u001b[38;5;124m'\u001b[39m\u001b[38;5;124m \u001b[39m\u001b[38;5;124m'\u001b[39m\u001b[38;5;241m.\u001b[39mjoin([\u001b[43midx2char\u001b[49m\u001b[43m[\u001b[49m\u001b[43mt\u001b[49m\u001b[43m]\u001b[49m \u001b[38;5;28;01mfor\u001b[39;00m t \u001b[38;5;129;01min\u001b[39;00m predict_tokens]))\n",
      "\u001b[0;31mKeyError\u001b[0m: 4294"
     ]
    }
   ],
   "source": [
    "query = '남자친구 승진 선물로 뭐가 좋을까?'\n",
    "\n",
    "test_index_inputs, _ = enc_processing([query], char2idx)\n",
    "predict_tokens = model.inference(test_index_inputs)\n",
    "\n",
    "print(' '.join([idx2char[t] for t in predict_tokens]))"
   ]
  },
  {
   "cell_type": "code",
   "execution_count": null,
   "id": "14b8a7d1-7c46-433b-929a-a80e7dd009bc",
   "metadata": {},
   "outputs": [],
   "source": []
  }
 ],
 "metadata": {
  "kernelspec": {
   "display_name": "Python 3 (ipykernel)",
   "language": "python",
   "name": "python3"
  },
  "language_info": {
   "codemirror_mode": {
    "name": "ipython",
    "version": 3
   },
   "file_extension": ".py",
   "mimetype": "text/x-python",
   "name": "python",
   "nbconvert_exporter": "python",
   "pygments_lexer": "ipython3",
   "version": "3.8.15"
  }
 },
 "nbformat": 4,
 "nbformat_minor": 5
}
