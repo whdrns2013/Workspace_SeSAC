{
 "cells": [
  {
   "cell_type": "code",
   "execution_count": 13,
   "id": "4cbf083a-394e-49f9-b2e7-552be5d272bb",
   "metadata": {},
   "outputs": [],
   "source": [
    "import datetime\n",
    "import time"
   ]
  },
  {
   "cell_type": "code",
   "execution_count": 12,
   "id": "0cab2419-1d58-4c15-9fc9-e860a0bf8c5a",
   "metadata": {},
   "outputs": [
    {
     "data": {
      "text/plain": [
       "datetime.datetime(2023, 3, 13, 0, 39, 9, 247532)"
      ]
     },
     "execution_count": 12,
     "metadata": {},
     "output_type": "execute_result"
    }
   ],
   "source": [
    "datetime.datetime.now()"
   ]
  },
  {
   "cell_type": "code",
   "execution_count": 15,
   "id": "4d1f2b7f-1148-46b8-9352-6ab9dd877b01",
   "metadata": {},
   "outputs": [
    {
     "data": {
      "text/plain": [
       "time.struct_time(tm_year=2023, tm_mon=3, tm_mday=13, tm_hour=0, tm_min=39, tm_sec=35, tm_wday=0, tm_yday=72, tm_isdst=0)"
      ]
     },
     "execution_count": 15,
     "metadata": {},
     "output_type": "execute_result"
    }
   ],
   "source": [
    "time.localtime()"
   ]
  },
  {
   "cell_type": "code",
   "execution_count": 16,
   "id": "8100b927-709f-4e30-9b35-5042fb4eccca",
   "metadata": {},
   "outputs": [
    {
     "data": {
      "text/plain": [
       "9999"
      ]
     },
     "execution_count": 16,
     "metadata": {},
     "output_type": "execute_result"
    }
   ],
   "source": [
    "datetime.MAXYEAR"
   ]
  },
  {
   "cell_type": "code",
   "execution_count": 17,
   "id": "d3bfcdd1-bef7-4d8e-9523-e915f03bae79",
   "metadata": {},
   "outputs": [
    {
     "data": {
      "text/plain": [
       "1"
      ]
     },
     "execution_count": 17,
     "metadata": {},
     "output_type": "execute_result"
    }
   ],
   "source": [
    "datetime.MINYEAR"
   ]
  },
  {
   "cell_type": "code",
   "execution_count": null,
   "id": "9984ccd4-eb5b-46e5-9f2d-c68c44264985",
   "metadata": {},
   "outputs": [],
   "source": [
    "time."
   ]
  },
  {
   "cell_type": "code",
   "execution_count": 2,
   "id": "774a3007-4860-4af9-a4e6-f25ed295b974",
   "metadata": {},
   "outputs": [],
   "source": [
    "import imageio\n",
    "import os"
   ]
  },
  {
   "cell_type": "code",
   "execution_count": 35,
   "id": "54f3448b-64b6-41f4-85c5-2e0285919c12",
   "metadata": {},
   "outputs": [
    {
     "data": {
      "text/plain": [
       "'/Users/jongya/Desktop/Workspace/lab/20230210_sesac_final/yolov5/runs/detect/exp 오전 1.56.03/test2'"
      ]
     },
     "execution_count": 35,
     "metadata": {},
     "output_type": "execute_result"
    }
   ],
   "source": [
    "path = '/Users/jongya/Desktop/Workspace/lab/20230210_sesac_final/yolov5/runs/detect/exp 오전 1.56.03/test2'\n",
    "os.chdir(path)\n",
    "os.getcwd()"
   ]
  },
  {
   "cell_type": "code",
   "execution_count": 36,
   "id": "37c29c3d-65e8-4ab3-a509-9864d4b88de6",
   "metadata": {
    "tags": []
   },
   "outputs": [
    {
     "data": {
      "text/plain": [
       "['/Users/jongya/Desktop/Workspace/lab/20230210_sesac_final/yolov5/runs/detect/exp 오전 1.56.03/test2/.DS_Store',\n",
       " '/Users/jongya/Desktop/Workspace/lab/20230210_sesac_final/yolov5/runs/detect/exp 오전 1.56.03/test2/8.png',\n",
       " '/Users/jongya/Desktop/Workspace/lab/20230210_sesac_final/yolov5/runs/detect/exp 오전 1.56.03/test2/9.png',\n",
       " '/Users/jongya/Desktop/Workspace/lab/20230210_sesac_final/yolov5/runs/detect/exp 오전 1.56.03/test2/4.png',\n",
       " '/Users/jongya/Desktop/Workspace/lab/20230210_sesac_final/yolov5/runs/detect/exp 오전 1.56.03/test2/5.png',\n",
       " '/Users/jongya/Desktop/Workspace/lab/20230210_sesac_final/yolov5/runs/detect/exp 오전 1.56.03/test2/7.png',\n",
       " '/Users/jongya/Desktop/Workspace/lab/20230210_sesac_final/yolov5/runs/detect/exp 오전 1.56.03/test2/6.png',\n",
       " '/Users/jongya/Desktop/Workspace/lab/20230210_sesac_final/yolov5/runs/detect/exp 오전 1.56.03/test2/2.png',\n",
       " '/Users/jongya/Desktop/Workspace/lab/20230210_sesac_final/yolov5/runs/detect/exp 오전 1.56.03/test2/3.png',\n",
       " '/Users/jongya/Desktop/Workspace/lab/20230210_sesac_final/yolov5/runs/detect/exp 오전 1.56.03/test2/1.png']"
      ]
     },
     "execution_count": 36,
     "metadata": {},
     "output_type": "execute_result"
    }
   ],
   "source": [
    "img_list = os.listdir(path)\n",
    "img_list = [ path + '/' + x for x in img_list]\n",
    "img_list"
   ]
  },
  {
   "cell_type": "code",
   "execution_count": 37,
   "id": "f99b0944-a091-4e95-ad67-717d84fddbdf",
   "metadata": {
    "collapsed": true,
    "jupyter": {
     "outputs_hidden": true
    },
    "tags": []
   },
   "outputs": [
    {
     "data": {
      "text/plain": [
       "array([[[212, 212, 212, 255],\n",
       "        [212, 212, 212, 255],\n",
       "        [212, 212, 212, 255],\n",
       "        ...,\n",
       "        [212, 212, 212, 255],\n",
       "        [212, 212, 212, 255],\n",
       "        [212, 212, 212, 255]],\n",
       "\n",
       "       [[212, 212, 212, 255],\n",
       "        [  0,   0,   0,   0],\n",
       "        [  0,   0,   0,   0],\n",
       "        ...,\n",
       "        [  0,   0,   0,   0],\n",
       "        [  0,   0,   0,   0],\n",
       "        [212, 212, 212, 255]],\n",
       "\n",
       "       [[212, 212, 212, 255],\n",
       "        [  0,   0,   0,   0],\n",
       "        [  0,   0,   0,   0],\n",
       "        ...,\n",
       "        [  0,   0,   0,   0],\n",
       "        [  0,   0,   0,   0],\n",
       "        [212, 212, 212, 255]],\n",
       "\n",
       "       ...,\n",
       "\n",
       "       [[212, 212, 212, 255],\n",
       "        [  0,   0,   0,   0],\n",
       "        [  0,   0,   0,   0],\n",
       "        ...,\n",
       "        [  0,   0,   0,   0],\n",
       "        [  0,   0,   0,   0],\n",
       "        [212, 212, 212, 255]],\n",
       "\n",
       "       [[212, 212, 212, 255],\n",
       "        [  0,   0,   0,   0],\n",
       "        [  0,   0,   0,   0],\n",
       "        ...,\n",
       "        [  0,   0,   0,   0],\n",
       "        [  0,   0,   0,   0],\n",
       "        [212, 212, 212, 255]],\n",
       "\n",
       "       [[212, 212, 212, 255],\n",
       "        [212, 212, 212, 255],\n",
       "        [212, 212, 212, 255],\n",
       "        ...,\n",
       "        [212, 212, 212, 255],\n",
       "        [212, 212, 212, 255],\n",
       "        [212, 212, 212, 255]]], dtype=uint8)"
      ]
     },
     "execution_count": 37,
     "metadata": {},
     "output_type": "execute_result"
    }
   ],
   "source": [
    "del img_list[0]\n",
    "image = imageio.v3.imread(img_list[0])"
   ]
  },
  {
   "cell_type": "code",
   "execution_count": 38,
   "id": "2f075749-7170-494d-9c14-c710ec07034d",
   "metadata": {
    "tags": []
   },
   "outputs": [],
   "source": [
    "img_list.sort()\n",
    "images = [ imageio.v3.imread(x, extension='.JPEG') for x in img_list ]"
   ]
  },
  {
   "cell_type": "code",
   "execution_count": 32,
   "id": "863a6c2c-6744-46bb-b4ba-5cc8a63b9afb",
   "metadata": {},
   "outputs": [],
   "source": [
    "imageio.v3.imwrite(path + '/' + 'test.gif', images, extension='.GIF', duration=0.5)"
   ]
  },
  {
   "cell_type": "code",
   "execution_count": 39,
   "id": "ca8da559-f94b-4b85-aaf0-884b1c4cd255",
   "metadata": {},
   "outputs": [],
   "source": [
    "for i in range(len(img_list)):\n",
    "    imageio.v3.imwrite(img_list[i].replace('.png', '.jpg'), images[i], extension='.JPG')"
   ]
  },
  {
   "cell_type": "code",
   "execution_count": null,
   "id": "84fcedc1-7cf3-46ba-a375-49e48f657797",
   "metadata": {},
   "outputs": [],
   "source": []
  }
 ],
 "metadata": {
  "kernelspec": {
   "display_name": "Python 3 (ipykernel)",
   "language": "python",
   "name": "python3"
  },
  "language_info": {
   "codemirror_mode": {
    "name": "ipython",
    "version": 3
   },
   "file_extension": ".py",
   "mimetype": "text/x-python",
   "name": "python",
   "nbconvert_exporter": "python",
   "pygments_lexer": "ipython3",
   "version": "3.8.16"
  }
 },
 "nbformat": 4,
 "nbformat_minor": 5
}
