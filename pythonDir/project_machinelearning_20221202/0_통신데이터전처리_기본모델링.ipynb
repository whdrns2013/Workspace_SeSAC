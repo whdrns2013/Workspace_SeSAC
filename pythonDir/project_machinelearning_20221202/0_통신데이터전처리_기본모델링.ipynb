{
 "cells": [
  {
   "cell_type": "code",
   "execution_count": 1,
   "id": "f06c1581-9296-4773-9b44-c72907c8ae8c",
   "metadata": {},
   "outputs": [],
   "source": [
    "import pandas as pd\n",
    "from tqdm.notebook import tqdm\n",
    "import warnings \n",
    "warnings.filterwarnings('ignore')\n",
    "from sklearn.preprocessing import LabelEncoder\n",
    "from sklearn.model_selection import train_test_split\n",
    "from sklearn.ensemble import RandomForestClassifier\n",
    "from sklearn.metrics import accuracy_score, f1_score\n",
    "from sklearn.tree import DecisionTreeClassifier\n",
    "from sklearn.linear_model import LogisticRegression\n",
    "from sklearn.metrics import classification_report\n",
    "from sklearn.metrics import log_loss"
   ]
  },
  {
   "cell_type": "markdown",
   "id": "1ac37eed-cb5e-4c75-95dc-66a66d092fd4",
   "metadata": {},
   "source": [
    "# 통신데이터 합치기 및 카테고리별로 데이터프레임 나누기"
   ]
  },
  {
   "cell_type": "code",
   "execution_count": 2,
   "id": "43980ca2-2f9d-415b-b0a3-36415ee9ada7",
   "metadata": {
    "tags": []
   },
   "outputs": [
    {
     "data": {
      "application/vnd.jupyter.widget-view+json": {
       "model_id": "ca6c2254b65a493db62765324b1f2a1b",
       "version_major": 2,
       "version_minor": 0
      },
      "text/plain": [
       "월단위 진행:   0%|          | 0/9 [00:00<?, ?it/s]"
      ]
     },
     "metadata": {},
     "output_type": "display_data"
    },
    {
     "data": {
      "application/vnd.jupyter.widget-view+json": {
       "model_id": "ebd8dc8a42794120967166edec5266b4",
       "version_major": 2,
       "version_minor": 0
      },
      "text/plain": [
       "1월:   0%|          | 0/20 [00:00<?, ?it/s]"
      ]
     },
     "metadata": {},
     "output_type": "display_data"
    },
    {
     "data": {
      "application/vnd.jupyter.widget-view+json": {
       "model_id": "24cd7bd554814d9086964a3eec88bfb9",
       "version_major": 2,
       "version_minor": 0
      },
      "text/plain": [
       "2월:   0%|          | 0/20 [00:00<?, ?it/s]"
      ]
     },
     "metadata": {},
     "output_type": "display_data"
    },
    {
     "data": {
      "application/vnd.jupyter.widget-view+json": {
       "model_id": "b8f4896fc3a743418ba98815514be233",
       "version_major": 2,
       "version_minor": 0
      },
      "text/plain": [
       "3월:   0%|          | 0/20 [00:00<?, ?it/s]"
      ]
     },
     "metadata": {},
     "output_type": "display_data"
    },
    {
     "data": {
      "application/vnd.jupyter.widget-view+json": {
       "model_id": "8d5655d98bc442539f7b6b7d9f36d4dd",
       "version_major": 2,
       "version_minor": 0
      },
      "text/plain": [
       "4월:   0%|          | 0/20 [00:00<?, ?it/s]"
      ]
     },
     "metadata": {},
     "output_type": "display_data"
    },
    {
     "data": {
      "application/vnd.jupyter.widget-view+json": {
       "model_id": "56d88b73ec3c4e1e8200431e34cbb2ac",
       "version_major": 2,
       "version_minor": 0
      },
      "text/plain": [
       "5월:   0%|          | 0/20 [00:00<?, ?it/s]"
      ]
     },
     "metadata": {},
     "output_type": "display_data"
    },
    {
     "data": {
      "application/vnd.jupyter.widget-view+json": {
       "model_id": "ee35af66aac943f4a1973d02865ec9ff",
       "version_major": 2,
       "version_minor": 0
      },
      "text/plain": [
       "6월:   0%|          | 0/20 [00:00<?, ?it/s]"
      ]
     },
     "metadata": {},
     "output_type": "display_data"
    },
    {
     "data": {
      "application/vnd.jupyter.widget-view+json": {
       "model_id": "cf60f35c6ead44a1a2d560edfd948b3b",
       "version_major": 2,
       "version_minor": 0
      },
      "text/plain": [
       "7월:   0%|          | 0/20 [00:00<?, ?it/s]"
      ]
     },
     "metadata": {},
     "output_type": "display_data"
    },
    {
     "data": {
      "application/vnd.jupyter.widget-view+json": {
       "model_id": "68691b4bc2a040c1b6f77b01f0adfd42",
       "version_major": 2,
       "version_minor": 0
      },
      "text/plain": [
       "8월:   0%|          | 0/20 [00:00<?, ?it/s]"
      ]
     },
     "metadata": {},
     "output_type": "display_data"
    },
    {
     "data": {
      "application/vnd.jupyter.widget-view+json": {
       "model_id": "aec4cc67971f4c209c242bc754a364d9",
       "version_major": 2,
       "version_minor": 0
      },
      "text/plain": [
       "9월:   0%|          | 0/20 [00:00<?, ?it/s]"
      ]
     },
     "metadata": {},
     "output_type": "display_data"
    },
    {
     "data": {
      "application/vnd.jupyter.widget-view+json": {
       "model_id": "8cb351f3e06b4bb2b584049ca35070c1",
       "version_major": 2,
       "version_minor": 0
      },
      "text/plain": [
       "카테고리별로 합치기:   0%|          | 0/20 [00:00<?, ?it/s]"
      ]
     },
     "metadata": {},
     "output_type": "display_data"
    }
   ],
   "source": [
    "for m in tqdm(range(1,10),desc='월단위 진행'):\n",
    "    globals()[\"ts{}\".format(m)] = pd.read_csv(f'./data/2022.{m}월_29개 통신정보.csv',encoding='cp949')\n",
    "    try : \n",
    "        globals()[\"ts{}\".format(m)].drop(columns=['행정동코드','총인구수','1인가구수'],inplace=True)    \n",
    "    except:\n",
    "        globals()[\"ts{}\".format(m)].drop(columns=['행정동코드','총인구','1인가구수'],inplace=True)  \n",
    "    globals()[\"ts{}\".format(m)].drop(columns=globals()[\"ts{}\".format(m)].filter(like='4분위수'),inplace=True) \n",
    "    # 데이터가 평균값을 제시하고 그 외 4분위 관련 수치를 따로 제공해주고 있음 -> 이미 전처리가 되어있는 거 같음..?\n",
    "    globals()[\"ts{}\".format(m)]['연령대_1'] = globals()[\"ts{}\".format(m)]['연령대']//10*10\n",
    "    globals()[\"ts{}\".format(m)]['월'] = int(m)\n",
    "    fix = globals()[\"ts{}\".format(m)][['월','연령대_1','자치구','성별']]\n",
    "    uni = ['상주지','출근','근무','소액결재','연체','카카오톡','SNS','통화','문자','데이터','이동','체류','지하철','게임','금융','쇼핑','동영상','유튜브','넷플릭스','배달']\n",
    "\n",
    "    for col in tqdm(uni,desc=f'{m}월'):\n",
    "        globals()[\"{}_{}\".format(col,m)] = pd.concat([fix,globals()[\"ts{}\".format(m)].filter(like=col)],axis=1)\n",
    "\n",
    "for col in tqdm(uni,desc='카테고리별로 합치기'):\n",
    "    globals()[\"{}\".format(col)] = pd.DataFrame()\n",
    "    for m in range(1,10):\n",
    "        globals()[\"{}\".format(col)]= pd.concat([globals()[\"{}\".format(col)],globals()[\"{}_{}\".format(col,m)]])\n"
   ]
  },
  {
   "cell_type": "code",
   "execution_count": 3,
   "id": "7396ee1d-4c99-461c-a9ca-6374fa101c77",
   "metadata": {},
   "outputs": [
    {
     "data": {
      "text/plain": [
       "20"
      ]
     },
     "execution_count": 3,
     "metadata": {},
     "output_type": "execute_result"
    }
   ],
   "source": [
    "len(uni)"
   ]
  },
  {
   "cell_type": "code",
   "execution_count": 39,
   "id": "24819904-2628-4c9d-8e72-63a62067cb56",
   "metadata": {},
   "outputs": [
    {
     "data": {
      "text/plain": [
       "[['상주지', '출근', '근무', '소액결재', '연체'],\n",
       " ['카카오톡', 'SNS', '통화', '문자', '데이터'],\n",
       " ['이동', '체류', '지하철', '게임', '금융'],\n",
       " ['쇼핑', '동영상', '유튜브', '넷플릭스', '배달']]"
      ]
     },
     "execution_count": 39,
     "metadata": {},
     "output_type": "execute_result"
    }
   ],
   "source": [
    "def lst_chunk(lst,n):\n",
    "    return [lst[i:i+n] for i in range(0,len(lst),n)]\n",
    "\n",
    "uni_dv = lst_chunk(uni,5)\n",
    "uni_dv"
   ]
  },
  {
   "cell_type": "code",
   "execution_count": 25,
   "id": "869424dd-cf15-4621-9e6a-ff2731af1b13",
   "metadata": {
    "tags": []
   },
   "outputs": [
    {
     "data": {
      "text/plain": [
       "(10176, 10176)"
      ]
     },
     "execution_count": 25,
     "metadata": {},
     "output_type": "execute_result"
    }
   ],
   "source": [
    "게임_8.shape[0], ts8.shape[0]"
   ]
  },
  {
   "cell_type": "code",
   "execution_count": 3,
   "id": "a05446a3-398a-4c02-a30d-90a620931e74",
   "metadata": {},
   "outputs": [
    {
     "data": {
      "text/html": [
       "<div>\n",
       "<style scoped>\n",
       "    .dataframe tbody tr th:only-of-type {\n",
       "        vertical-align: middle;\n",
       "    }\n",
       "\n",
       "    .dataframe tbody tr th {\n",
       "        vertical-align: top;\n",
       "    }\n",
       "\n",
       "    .dataframe thead th {\n",
       "        text-align: right;\n",
       "    }\n",
       "</style>\n",
       "<table border=\"1\" class=\"dataframe\">\n",
       "  <thead>\n",
       "    <tr style=\"text-align: right;\">\n",
       "      <th></th>\n",
       "      <th>최근 3개월 내 요금 연체 비율</th>\n",
       "    </tr>\n",
       "  </thead>\n",
       "  <tbody>\n",
       "    <tr>\n",
       "      <th>count</th>\n",
       "      <td>91584.000000</td>\n",
       "    </tr>\n",
       "    <tr>\n",
       "      <th>mean</th>\n",
       "      <td>11.044359</td>\n",
       "    </tr>\n",
       "    <tr>\n",
       "      <th>std</th>\n",
       "      <td>6.791881</td>\n",
       "    </tr>\n",
       "    <tr>\n",
       "      <th>min</th>\n",
       "      <td>0.000000</td>\n",
       "    </tr>\n",
       "    <tr>\n",
       "      <th>25%</th>\n",
       "      <td>5.580000</td>\n",
       "    </tr>\n",
       "    <tr>\n",
       "      <th>50%</th>\n",
       "      <td>9.020000</td>\n",
       "    </tr>\n",
       "    <tr>\n",
       "      <th>75%</th>\n",
       "      <td>16.400000</td>\n",
       "    </tr>\n",
       "    <tr>\n",
       "      <th>max</th>\n",
       "      <td>66.670000</td>\n",
       "    </tr>\n",
       "  </tbody>\n",
       "</table>\n",
       "</div>"
      ],
      "text/plain": [
       "       최근 3개월 내 요금 연체 비율\n",
       "count       91584.000000\n",
       "mean           11.044359\n",
       "std             6.791881\n",
       "min             0.000000\n",
       "25%             5.580000\n",
       "50%             9.020000\n",
       "75%            16.400000\n",
       "max            66.670000"
      ]
     },
     "execution_count": 3,
     "metadata": {},
     "output_type": "execute_result"
    }
   ],
   "source": [
    "연체.iloc[:,4:].describe()"
   ]
  },
  {
   "cell_type": "markdown",
   "id": "59316642-7a7b-4a5d-8b4a-eaf23ba43444",
   "metadata": {},
   "source": [
    "# 카테고리별로 분류 모델링 돌리고 평가지표 확인(전처리 아무것도 안한 데이터)"
   ]
  },
  {
   "cell_type": "code",
   "execution_count": 4,
   "id": "92ca9639-1559-4f95-a55a-efdd52720b42",
   "metadata": {},
   "outputs": [],
   "source": [
    "\n",
    "import xgboost as xgb\n",
    "from xgboost import XGBClassifier\n",
    "from xgboost import plot_importance"
   ]
  },
  {
   "cell_type": "code",
   "execution_count": 3,
   "id": "c7c3b632-b685-4530-99d9-c6fc9cb2cd84",
   "metadata": {
    "tags": []
   },
   "outputs": [
    {
     "data": {
      "application/vnd.jupyter.widget-view+json": {
       "model_id": "35a47acfb5dc4be18edee9125fb68502",
       "version_major": 2,
       "version_minor": 0
      },
      "text/plain": [
       "  0%|          | 0/20 [00:00<?, ?it/s]"
      ]
     },
     "metadata": {},
     "output_type": "display_data"
    }
   ],
   "source": [
    "uni_df = [상주지,출근,근무,소액결재,연체,카카오톡,SNS,통화,문자,데이터,이동,체류,지하철,게임,금융,쇼핑,동영상,유튜브,넷플릭스,배달]\n",
    "uni = ['상주지','출근','근무','소액결재','연체','카카오톡','SNS','통화','문자','데이터','이동','체류','지하철','게임','금융','쇼핑','동영상','유튜브','넷플릭스','배달']\n",
    "\n",
    "for name_df,name in zip(tqdm(uni_df),uni):\n",
    "    test = name_df.drop(columns=['자치구','월'])\n",
    "    y = test[['연령대_1']]\n",
    "    X=test.drop(columns='연령대_1')\n",
    "    \n",
    "    #연령 인코딩 해주기\n",
    "    le = LabelEncoder()\n",
    "    result = le.fit_transform(y['연령대_1'])\n",
    "    # print(le.classes_)\n",
    "    \n",
    "    # 성별 인코딩 해주기 \n",
    "    le = LabelEncoder()\n",
    "    X['성별'] = le.fit_transform(X['성별'])\n",
    "    # print(le.classes_)\n",
    "\n",
    "    X_train,X_test, y_train,y_test = train_test_split(X,result,test_size=0.2,random_state=11)\n",
    "#     dt = DecisionTreeClassifier()\n",
    "#     dt.fit(X_train,y_train)\n",
    "#     pred_dt = dt.predict(X_test)\n",
    "#     pred_proba_dt = dt.predict_proba(X_test)\n",
    "    \n",
    "#     rf = RandomForestClassifier()\n",
    "#     rf.fit(X_train,y_train)\n",
    "#     pred_rf = rf.predict(X_test)\n",
    "#     pred_proba_rf = rf.predict_proba(X_test)\n",
    "    \n",
    "    # xgb= XGBClassifier()\n",
    "    # xgb.fit(X_train,y_train)\n",
    "    # pred_xgb = xgb.predict(X_test)\n",
    "    # pred_proba_xgb = xgb.predict_proba(X_test)\n",
    "    \n",
    "    \n",
    "    # print(f'=== [{name}] 정보 분류 모형 성능 평가 ===')\n",
    "    # print(f'DT accuracy : {accuracy_score(y_test,pred_dt)} \\nDT f1(macro) : {f1_score(y_test,pred_dt,average=\"macro\")} \\nDT logloss : {log_loss(y_test,pred_proba_dt)}\\n')\n",
    "    # print(f'RF accuracy : {accuracy_score(y_test,pred_rf)} \\nRF f1(macro) : {f1_score(y_test,pred_rf,average=\"macro\")} \\nRF logloss : {log_loss(y_test,pred_proba_rf)}\\n')\n",
    "    # print(f'XGB accuracy : {accuracy_score(y_test,pred_xgb)} \\nRF f1(macro) : {f1_score(y_test,pred_xgb,average=\"macro\")} \\nRF logloss : {log_loss(y_test,pred_proba_xgb)}\\n')\n",
    "    \n",
    "    \n",
    "    # print(classification_report(y_test,pred_rf))"
   ]
  },
  {
   "cell_type": "markdown",
   "id": "5c6e465d-d886-4c4f-8add-fe871766b819",
   "metadata": {
    "jp-MarkdownHeadingCollapsed": true,
    "tags": []
   },
   "source": [
    "# Optuna test"
   ]
  },
  {
   "cell_type": "code",
   "execution_count": null,
   "id": "734b804d-c152-47b9-935f-41fca3dba2bc",
   "metadata": {},
   "outputs": [],
   "source": [
    "test = 배달.drop(columns=['자치구','월'])\n",
    "y = test[['연령대_1']]\n",
    "X=test.drop(columns='연령대_1')\n",
    "\n",
    "y = pd.get_dummies(test['연령대_1'])\n",
    "y\n",
    "\n",
    "X_train,X_test,y_train,y_test = train_test_split(X,y,test_size=0.2)\n",
    "\n",
    "import optuna\n",
    "from sklearn.metrics import roc_auc_score\n",
    "\n",
    "def tree_objective(trial,X_train,y_train):  \n",
    "    from sklearn.model_selection import cross_val_score\n",
    "    params = dict(\n",
    "        criterion = trial.suggest_categorical(\"criterion\",['gini']), # 'gini', 'entropy','log_loss'\n",
    "        splitter = trial.suggest_categorical(\"splitter\",['best']), # 'best', 'random'\n",
    "        max_depth = trial.suggest_int(\"max_depth\", 20, 30),\n",
    "        min_samples_split = trial.suggest_int(\"min_samples_split\", 20, 30),\n",
    "        min_samples_leaf = trial.suggest_int(\"min_samples_leaf\", 50, 100),\n",
    "        min_weight_fraction_leaf = trial.suggest_categorical(\"min_weight_fraction_leaf\", [0.02]),\n",
    "        # max_features = trial.suggest_categorical(\"max_features\", [None]),\n",
    "        max_leaf_nodes = trial.suggest_int(\"max_leaf_nodes\", 50, 100),\n",
    "        class_weight = trial.suggest_categorical(\"class_weight\",['balanced']), # 'balanced', None\n",
    "        ccp_alpha = trial.suggest_categorical(\"ccp_alpha\", [0.0012])\n",
    "    )     \n",
    "    classifier_obj = DecisionTreeClassifier(**params, random_state=0)\n",
    "\n",
    "    score = cross_val_score(classifier_obj, X_train, y_train, cv=5, scoring='roc_auc')\n",
    "    roc_auc = score.mean()\n",
    "    return roc_auc\n",
    "\n",
    "# Optuna는 Study 개체를 기반으로 한다. 이 개체에는 필요한 파라미터 공간에 대한 정보와 sampler 방법과 pruning에 대한 모든 정보가 포함되어 있다.\n",
    "\n",
    "tree_study = optuna.create_study(sampler=optuna.samplers.TPESampler(seed=100), direction=\"maximize\")\n",
    "tree_study.optimize(lambda trial :tree_objective(trial,X_train,y_train), n_trials=100)\n",
    "\n",
    "model = DecisionTreeClassifier(**tree_study.best_params, random_state=0)\n",
    "model.fit(X_train, y_train)\n",
    "ROC_AUC = roc_auc_score(y_test, model.predict_proba(X_test)[0][:,1].reshape(-1,1))\n",
    "print('ROC_AUC_score :', ROC_AUC)"
   ]
  },
  {
   "cell_type": "code",
   "execution_count": 40,
   "id": "f6e90deb-abf8-47d3-b694-9721094327b2",
   "metadata": {},
   "outputs": [],
   "source": [
    "pred_proba = model.predict_proba(X_test)"
   ]
  },
  {
   "cell_type": "code",
   "execution_count": 34,
   "id": "a7976ae4-3925-474d-b118-8668a206ccb2",
   "metadata": {},
   "outputs": [
    {
     "data": {
      "text/plain": [
       "array([[0, 1, 0, 0, 0, 0],\n",
       "       [0, 0, 0, 0, 1, 0],\n",
       "       [0, 0, 0, 0, 0, 0],\n",
       "       ...,\n",
       "       [0, 0, 0, 1, 0, 0],\n",
       "       [0, 0, 0, 0, 0, 0],\n",
       "       [1, 0, 0, 0, 0, 0]], dtype=uint8)"
      ]
     },
     "execution_count": 34,
     "metadata": {},
     "output_type": "execute_result"
    }
   ],
   "source": [
    "pred = model.predict(X_test)\n",
    "pred"
   ]
  },
  {
   "cell_type": "code",
   "execution_count": 41,
   "id": "b1418ae5-4b0f-4326-82ef-4259e8a28f09",
   "metadata": {},
   "outputs": [
    {
     "data": {
      "text/plain": [
       "[array([[0.91434423, 0.08565577],\n",
       "        [0.99749489, 0.00250511],\n",
       "        [0.89871966, 0.10128034],\n",
       "        ...,\n",
       "        [0.99802865, 0.00197135],\n",
       "        [1.        , 0.        ],\n",
       "        [0.39385854, 0.60614146]]),\n",
       " array([[0.35945322, 0.64054678],\n",
       "        [0.99765215, 0.00234785],\n",
       "        [0.96669395, 0.03330605],\n",
       "        ...,\n",
       "        [0.99690307, 0.00309693],\n",
       "        [1.        , 0.        ],\n",
       "        [0.68729709, 0.31270291]]),\n",
       " array([[0.8066026 , 0.1933974 ],\n",
       "        [0.99719172, 0.00280828],\n",
       "        [0.73076398, 0.26923602],\n",
       "        ...,\n",
       "        [0.63490601, 0.36509399],\n",
       "        [0.98417021, 0.01582979],\n",
       "        [0.95643605, 0.04356395]]),\n",
       " array([[0.99845571, 0.00154429],\n",
       "        [0.91123714, 0.08876286],\n",
       "        [0.72994079, 0.27005921],\n",
       "        ...,\n",
       "        [0.44847884, 0.55152116],\n",
       "        [0.54874451, 0.45125549],\n",
       "        [0.99697219, 0.00302781]]),\n",
       " array([[0.98950716, 0.01049284],\n",
       "        [0.48282961, 0.51717039],\n",
       "        [0.81417196, 0.18582804],\n",
       "        ...,\n",
       "        [0.93454918, 0.06545082],\n",
       "        [0.61854462, 0.38145538],\n",
       "        [0.99130259, 0.00869741]]),\n",
       " array([[0.93163708, 0.06836292],\n",
       "        [0.61359448, 0.38640552],\n",
       "        [0.85970967, 0.14029033],\n",
       "        ...,\n",
       "        [0.98713426, 0.01286574],\n",
       "        [0.84854067, 0.15145933],\n",
       "        [0.97413354, 0.02586646]])]"
      ]
     },
     "execution_count": 41,
     "metadata": {},
     "output_type": "execute_result"
    }
   ],
   "source": [
    "pred_proba"
   ]
  },
  {
   "cell_type": "code",
   "execution_count": 55,
   "id": "b3202c4b-9c12-4bd2-91e7-69a27096b38c",
   "metadata": {},
   "outputs": [
    {
     "data": {
      "text/plain": [
       "array([[0.64054678],\n",
       "       [0.00234785],\n",
       "       [0.03330605],\n",
       "       ...,\n",
       "       [0.00309693],\n",
       "       [0.        ],\n",
       "       [0.31270291]])"
      ]
     },
     "execution_count": 55,
     "metadata": {},
     "output_type": "execute_result"
    }
   ],
   "source": [
    "pred_proba[1][:,1].reshape(-1,1)"
   ]
  },
  {
   "cell_type": "code",
   "execution_count": null,
   "id": "e56f2679-2db0-471b-ac7f-e89bdfd1e2f6",
   "metadata": {},
   "outputs": [],
   "source": []
  }
 ],
 "metadata": {
  "kernelspec": {
   "display_name": "Python 3 (ipykernel)",
   "language": "python",
   "name": "python3"
  },
  "language_info": {
   "codemirror_mode": {
    "name": "ipython",
    "version": 3
   },
   "file_extension": ".py",
   "mimetype": "text/x-python",
   "name": "python",
   "nbconvert_exporter": "python",
   "pygments_lexer": "ipython3",
   "version": "3.9.13"
  },
  "vscode": {
   "interpreter": {
    "hash": "a077222d77dfe082b8f1dd562ad70e458ac2ab76993a0b248ab0476e32e9e8dd"
   }
  }
 },
 "nbformat": 4,
 "nbformat_minor": 5
}
