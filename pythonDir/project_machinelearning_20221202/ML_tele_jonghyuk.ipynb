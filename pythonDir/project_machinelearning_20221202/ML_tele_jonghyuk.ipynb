{
 "cells": [
  {
   "cell_type": "markdown",
   "id": "446ed50d-a9a5-48dd-9163-64df928b11db",
   "metadata": {},
   "source": [
    "# 자료 설명\n",
    "\n",
    "* 칼럼 제거 : 4분위수, 미추정인구, 총인구수\n",
    "* 이상치 제거 : IQR방식 (1.5) 이상치 제거\n",
    "\n",
    "\n",
    "# 진행 사항\n",
    "\n",
    "> 12월 4일  \n",
    "> * 데이터 파악  \n",
    "> * 데이터 전처리  \n",
    "> * EDA 탐색적 데이터 분석\n",
    "  \n",
    "> 12월 5일  \n",
    "> * 미추정 인구 칼럼 제거  \n",
    "> * 4분위수 기준 이상치 제거  \n",
    "> * 스케일링(Standard, MinMax, Robust)\n",
    "  \n",
    "> To Do  \n",
    "\n",
    "> 분류 : 기본적으로 분류모델  \n",
    "> 분류 : feature importance로 보며  \n",
    "> 분류 : 파라미터 튜닝 중시  \n",
    "> 회귀 : 시간 되면 로지스틱    \n",
    "> 옵튜나 : 하이퍼 파라미터 GridSearchCV 모델보다 더 나은 것 같음  \n",
    "> 데이터 전처리 - 분석 대상 선택(데이터, 칼럼) 부분 채우기\n",
    "  \n",
    "> 물어볼 것  \n",
    "> * 이상치 제거 : 왜 연령대별로 묶는거?  \n",
    "> * 이상치 제거 : 계속 진행하면 이상치 계속 나옴 -> 36,000대까지 데이터 수 떨어짐  \n",
    "  \n",
    "> 주제  \n",
    "> * 1인가구의 배달 서비스 사용일수 예측  \n",
    "> 넷플릭스 사용일수, 근무시간, 등등 배달 서비스 사용에 영향을 줄 만한 요소들을 가지고 예측"
   ]
  },
  {
   "cell_type": "markdown",
   "id": "a381a9d3-1ac1-4778-9426-a81fc5190a41",
   "metadata": {},
   "source": [
    "# 자료 불러오기 및 기본 전처리\n",
    "  \n",
    "<b>자료 변수</b>  \n",
    "* 통신정보 월별 : data_tele_{월}  \n",
    "* 통신정보 통합 : data_tele_ttl  \n",
    "* 관심집단 월별 : data_concern_{월}  \n",
    "* 관심집단 통합 : data_concern_ttl  \n",
    "* 화재정보     : data_fire  \n",
    "  \n",
    "<b>임시 변수</b>  \n",
    "* 통신정보 월별 -> 리스트 : data_tele_list  \n",
    "* 관심집단 월별 -> 리스트 : data_concern_list  \n",
    "  \n",
    "<b>column 탐색 및 수정 결과</b>  \n",
    "* 통신정보 7~9월 칼럼명 상이 : (행정동/행정동명), (총인구수/총인구) -> 1월에 맞춰 행정동, 총인구수로 통일    \n",
    "* 통신정보 7~9월 데이터타입 상이 : '총인구수', '1인가구수' : (int/object) -> int로 통일  \n",
    "* 관심집단 데이터는 이상 없음  "
   ]
  },
  {
   "cell_type": "markdown",
   "id": "95f7ad84-f14a-438c-8c59-3153fd7b7702",
   "metadata": {},
   "source": [
    "## 원천데이터 불러오기"
   ]
  },
  {
   "cell_type": "code",
   "execution_count": 6,
   "id": "a8b6e08a-7526-47df-8697-b48b94dedbf9",
   "metadata": {},
   "outputs": [],
   "source": [
    "# import\n",
    "import pandas as pd\n",
    "import openpyxl\n",
    "\n",
    "# 파일 읽어와 DataFrame화 : 통신정보, 관심집단수\n",
    "for i in range(1, 10):\n",
    "    globals()[f'data_tele_{i}'] = pd.read_csv(f'data/2022.{i}월_29개 통신정보.csv', encoding='cp949')\n",
    "    globals()[f'data_concern_{i}'] = pd.read_excel(f'data/2022.{i}월_10개 관심집단수.xlsx')\n",
    "\n",
    "# 파일 읽어와 DataFrame화 : 화재정보\n",
    "data_fire = pd.read_csv('data/소방청_화재발생 주소정보_20181231.csv', encoding='cp949')\n",
    "\n",
    "# 자료 이름 설명\n",
    "## * 통신정보 : data_tele_{월}  \n",
    "## * 관심집단 : data_concern_{월}  \n",
    "## * 화재정보 : data_fire"
   ]
  },
  {
   "cell_type": "code",
   "execution_count": 11,
   "id": "75686ac4-ff4e-468f-80d5-d75fe90d53ca",
   "metadata": {},
   "outputs": [
    {
     "data": {
      "text/plain": [
       "Index(['행정동코드', '자치구', '행정동', '성별', '연령대', '총인구수', '1인가구수',\n",
       "       '야간상주지 변경 미추정 인구 수', '야간상주지 변경횟수 평균', '야간상주지 변경횟수: 4분위수, 25%',\n",
       "       ...\n",
       "       '배달_브랜드 서비스 사용 미추정 인구수', '배달_브랜드 서비스 사용일수',\n",
       "       '배달_브랜드 서비스 사용일수: 4분위수, 25%', '배달_브랜드 서비스 사용일수: 4분위수, 50%',\n",
       "       '배달_브랜드 서비스 사용일수: 4분위수, 75%', '배달_식재료 서비스 사용 미추정 인구수',\n",
       "       '배달_식재료 서비스 사용일수', '배달_식재료 서비스 사용일수: 4분위수, 25%',\n",
       "       '배달_식재료 서비스 사용일수: 4분위수, 50%', '배달_식재료 서비스 사용일수: 4분위수, 75%'],\n",
       "      dtype='object', length=143)"
      ]
     },
     "execution_count": 11,
     "metadata": {},
     "output_type": "execute_result"
    }
   ],
   "source": [
    "# 데이터 리스트 한 바구니에 담기\n",
    "data_tele_list = [globals()[f'data_tele_{i}'] for i in range(1,10)]\n",
    "data_concern_list = [globals()[f'data_concern_{i}'] for i in range(1,10)]\n",
    "\n"
   ]
  },
  {
   "cell_type": "code",
   "execution_count": 28,
   "id": "93473c65-b4c0-4321-a6b2-e1a9c74078ee",
   "metadata": {},
   "outputs": [],
   "source": [
    "import pandas as pd\n",
    "import numpy as np\n",
    "\n",
    "dt = []\n",
    "\n",
    "for x in data_tele_1.columns:\n",
    "    dt.append(data_tele_1[x].dtype)\n",
    "\n",
    "df['칼럼명'] = pd.DataFrame(np.array(data_tele_1.columns))\n",
    "df['칼럼 데이터타입'] = pd.DataFrame(np.array(dt))\n",
    "df.to_csv('칼럼 리스트.csv', encoding='cp949')"
   ]
  },
  {
   "cell_type": "markdown",
   "id": "68297a75-9ea5-4409-9852-6f362a7da449",
   "metadata": {},
   "source": [
    "## 원천데이터 column 탐색 및 통합"
   ]
  },
  {
   "cell_type": "code",
   "execution_count": 5,
   "id": "cb52f8e7-9e7b-41a6-b119-cc19e44d53bd",
   "metadata": {
    "collapsed": true,
    "jupyter": {
     "outputs_hidden": true
    },
    "tags": []
   },
   "outputs": [
    {
     "name": "stdout",
     "output_type": "stream",
     "text": [
      "*** 통신정보 데이터 ***\n",
      "== 1월 데이터 ==\n",
      "이상 없음\n",
      "== 2월 데이터 ==\n",
      "이상 없음\n",
      "== 3월 데이터 ==\n",
      "이상 없음\n",
      "== 4월 데이터 ==\n",
      "이상 없음\n",
      "== 5월 데이터 ==\n",
      "이상 없음\n",
      "== 6월 데이터 ==\n",
      "이상 없음\n",
      "== 7월 데이터 ==\n",
      "칼럼 명이 다릅니다. 1월 : 행정동  /  7월 : 행정동명\n",
      "칼럼 명이 다릅니다. 1월 : 총인구수  /  7월 : 총인구\n",
      "데이터타입이 다릅니다. 1월 :  총인구수  int64 /  7월 : 총인구 object\n",
      "데이터타입이 다릅니다. 1월 :  1인가구수  int64 /  7월 : 1인가구수 object\n",
      "== 8월 데이터 ==\n",
      "칼럼 명이 다릅니다. 1월 : 행정동  /  8월 : 행정동명\n",
      "칼럼 명이 다릅니다. 1월 : 총인구수  /  8월 : 총인구\n",
      "데이터타입이 다릅니다. 1월 :  총인구수  int64 /  8월 : 총인구 object\n",
      "데이터타입이 다릅니다. 1월 :  1인가구수  int64 /  8월 : 1인가구수 object\n",
      "== 9월 데이터 ==\n",
      "칼럼 명이 다릅니다. 1월 : 행정동  /  9월 : 행정동명\n",
      "칼럼 명이 다릅니다. 1월 : 총인구수  /  9월 : 총인구\n",
      "데이터타입이 다릅니다. 1월 :  총인구수  int64 /  9월 : 총인구 object\n",
      "데이터타입이 다릅니다. 1월 :  1인가구수  int64 /  9월 : 1인가구수 object\n",
      "\n",
      "\n",
      "*** 관심집단 데이터 ***\n",
      "== 1월 데이터 ==\n",
      "이상 없음\n",
      "== 2월 데이터 ==\n",
      "이상 없음\n",
      "== 3월 데이터 ==\n",
      "이상 없음\n",
      "== 4월 데이터 ==\n",
      "이상 없음\n",
      "== 5월 데이터 ==\n",
      "이상 없음\n",
      "== 6월 데이터 ==\n",
      "이상 없음\n",
      "== 7월 데이터 ==\n",
      "이상 없음\n",
      "== 8월 데이터 ==\n",
      "이상 없음\n",
      "== 9월 데이터 ==\n",
      "이상 없음\n",
      "\n",
      "\n"
     ]
    },
    {
     "data": {
      "text/plain": [
       "(None, None)"
      ]
     },
     "execution_count": 5,
     "metadata": {},
     "output_type": "execute_result"
    }
   ],
   "source": [
    "# column 일치 여부 탐색 함수\n",
    "\n",
    "def exp_columns(data_list):\n",
    "    for (i, j) in enumerate(data_list):\n",
    "        count = 0\n",
    "        print(f'== {i+1}월 데이터 ==')\n",
    "        ## 칼럼 수 확인\n",
    "        if len(data_list[0].columns) != len(j.columns):\n",
    "            print('칼럼 수가 다릅니다.', f'1월 {len(data_list[0].columns)}개, {i+1}월 {len(j.columns)}개')\n",
    "        # 칼럼 명, 데이터타입 확인\n",
    "        for n, m in enumerate(j.columns):\n",
    "            if data_list[0].columns[n] != m:\n",
    "                print('칼럼 명이 다릅니다.', '1월 :', data_list[0].columns[n], ' / ', f'{i+1}월 : {m}')\n",
    "                count += 1\n",
    "            if data_list[0][data_list[0].columns[n]].dtype != j[m].dtype:\n",
    "                print('데이터타입이 다릅니다.', '1월 : ',\n",
    "                      f'{data_list[0].columns[n]} ',\n",
    "                      f'{data_list[0][data_list[0].columns[n]].dtype} / ',\n",
    "                      f'{i+1}월 : {m} {j[m].dtype}')\n",
    "                count += 1\n",
    "        ## 이상 없을 경우 \"이상 없음\" 메세지 출력\n",
    "        if count == 0 : print(\"이상 없음\")\n",
    "\n",
    "    \n",
    "# 관심집단 리스트 columns 탐색\n",
    "print(\"*** 통신정보 데이터 ***\")\n",
    "exp_columns(data_tele_list), print(\"\\n\")\n",
    "print(\"*** 관심집단 데이터 ***\")\n",
    "exp_columns(data_concern_list), print(\"\\n\")"
   ]
  },
  {
   "cell_type": "code",
   "execution_count": 6,
   "id": "e279cfaa-aacd-4fa9-a690-e92a882ae867",
   "metadata": {
    "tags": []
   },
   "outputs": [],
   "source": [
    "# 원천데이터 column 통합\n",
    "\n",
    "# column 명 통합\n",
    "for i in range(7, 10):\n",
    "    globals()[f'data_tele_{i}'].columns = data_tele_1.columns\n",
    "    \n",
    "# column 데이터타입 통합\n",
    "for i in range(7, 10):\n",
    "    dt = globals()[f'data_tele_{i}']\n",
    "    dt['총인구수'] = dt['총인구수'].str.replace(',','').astype('int64')\n",
    "    dt['1인가구수'] = dt['1인가구수'].str.replace(',','').astype('int64')"
   ]
  },
  {
   "cell_type": "code",
   "execution_count": 7,
   "id": "9d1fecae-3094-4804-b4b1-c288e41d42c2",
   "metadata": {
    "collapsed": true,
    "jupyter": {
     "outputs_hidden": true
    },
    "tags": []
   },
   "outputs": [
    {
     "name": "stdout",
     "output_type": "stream",
     "text": [
      "*** 통신정보 데이터 ***\n",
      "== 1월 데이터 ==\n",
      "이상 없음\n",
      "== 2월 데이터 ==\n",
      "이상 없음\n",
      "== 3월 데이터 ==\n",
      "이상 없음\n",
      "== 4월 데이터 ==\n",
      "이상 없음\n",
      "== 5월 데이터 ==\n",
      "이상 없음\n",
      "== 6월 데이터 ==\n",
      "이상 없음\n",
      "== 7월 데이터 ==\n",
      "이상 없음\n",
      "== 8월 데이터 ==\n",
      "이상 없음\n",
      "== 9월 데이터 ==\n",
      "이상 없음\n",
      "\n",
      "\n",
      "*** 관심집단 데이터 ***\n",
      "== 1월 데이터 ==\n",
      "이상 없음\n",
      "== 2월 데이터 ==\n",
      "이상 없음\n",
      "== 3월 데이터 ==\n",
      "이상 없음\n",
      "== 4월 데이터 ==\n",
      "이상 없음\n",
      "== 5월 데이터 ==\n",
      "이상 없음\n",
      "== 6월 데이터 ==\n",
      "이상 없음\n",
      "== 7월 데이터 ==\n",
      "이상 없음\n",
      "== 8월 데이터 ==\n",
      "이상 없음\n",
      "== 9월 데이터 ==\n",
      "이상 없음\n",
      "\n",
      "\n"
     ]
    },
    {
     "data": {
      "text/plain": [
       "(None, None)"
      ]
     },
     "execution_count": 7,
     "metadata": {},
     "output_type": "execute_result"
    }
   ],
   "source": [
    "# 관심집단 리스트 columns 재확인\n",
    "print(\"*** 통신정보 데이터 ***\")\n",
    "exp_columns(data_tele_list), print(\"\\n\")\n",
    "print(\"*** 관심집단 데이터 ***\")\n",
    "exp_columns(data_concern_list), print(\"\\n\")"
   ]
  },
  {
   "cell_type": "markdown",
   "id": "5eab1dab-5ef3-44a4-9b51-d3754f6efca7",
   "metadata": {},
   "source": [
    "## 원천데이터에 '월' 칼럼 만들기"
   ]
  },
  {
   "cell_type": "code",
   "execution_count": 8,
   "id": "ea602fea-930f-4743-9195-e54530693b0b",
   "metadata": {},
   "outputs": [
    {
     "ename": "NameError",
     "evalue": "name 'data_tele_list' is not defined",
     "output_type": "error",
     "traceback": [
      "\u001b[0;31m---------------------------------------------------------------------------\u001b[0m",
      "\u001b[0;31mNameError\u001b[0m                                 Traceback (most recent call last)",
      "Input \u001b[0;32mIn [8]\u001b[0m, in \u001b[0;36m<cell line: 1>\u001b[0;34m()\u001b[0m\n\u001b[1;32m      1\u001b[0m \u001b[38;5;28;01mfor\u001b[39;00m i \u001b[38;5;129;01min\u001b[39;00m \u001b[38;5;28mrange\u001b[39m(\u001b[38;5;241m1\u001b[39m, \u001b[38;5;241m10\u001b[39m):\n\u001b[0;32m----> 2\u001b[0m     \u001b[43mdata_tele_list\u001b[49m[i\u001b[38;5;241m-\u001b[39m\u001b[38;5;241m1\u001b[39m][\u001b[38;5;124m'\u001b[39m\u001b[38;5;124m월\u001b[39m\u001b[38;5;124m'\u001b[39m] \u001b[38;5;241m=\u001b[39m \u001b[38;5;28mint\u001b[39m(i)\n\u001b[1;32m      3\u001b[0m     data_concern_list[i\u001b[38;5;241m-\u001b[39m\u001b[38;5;241m1\u001b[39m][\u001b[38;5;124m'\u001b[39m\u001b[38;5;124m월\u001b[39m\u001b[38;5;124m'\u001b[39m] \u001b[38;5;241m=\u001b[39m \u001b[38;5;28mint\u001b[39m(i)\n",
      "\u001b[0;31mNameError\u001b[0m: name 'data_tele_list' is not defined"
     ]
    }
   ],
   "source": [
    "for i in range(1, 10):\n",
    "    data_tele_list[i-1]['월'] = int(i)\n",
    "    data_concern_list[i-1]['월'] = int(i)"
   ]
  },
  {
   "cell_type": "markdown",
   "id": "45f25b22-569c-48dd-9327-acb03c3dc469",
   "metadata": {},
   "source": [
    "## 원천데이터 하나로 통합"
   ]
  },
  {
   "cell_type": "code",
   "execution_count": 7,
   "id": "896967e1-ac42-473c-a17a-95da171fafd0",
   "metadata": {},
   "outputs": [
    {
     "ename": "NameError",
     "evalue": "name 'data_tele_list' is not defined",
     "output_type": "error",
     "traceback": [
      "\u001b[0;31m---------------------------------------------------------------------------\u001b[0m",
      "\u001b[0;31mNameError\u001b[0m                                 Traceback (most recent call last)",
      "Input \u001b[0;32mIn [7]\u001b[0m, in \u001b[0;36m<cell line: 1>\u001b[0;34m()\u001b[0m\n\u001b[0;32m----> 1\u001b[0m data_tele_ttl \u001b[38;5;241m=\u001b[39m pd\u001b[38;5;241m.\u001b[39mconcat([x \u001b[38;5;28;01mfor\u001b[39;00m x \u001b[38;5;129;01min\u001b[39;00m \u001b[43mdata_tele_list\u001b[49m])\n\u001b[1;32m      2\u001b[0m data_concern_ttl \u001b[38;5;241m=\u001b[39m pd\u001b[38;5;241m.\u001b[39mconcat([x \u001b[38;5;28;01mfor\u001b[39;00m x \u001b[38;5;129;01min\u001b[39;00m data_concern_list])\n",
      "\u001b[0;31mNameError\u001b[0m: name 'data_tele_list' is not defined"
     ]
    }
   ],
   "source": [
    "data_tele_ttl = pd.concat([x for x in data_tele_list])\n",
    "data_concern_ttl = pd.concat([x for x in data_concern_list])"
   ]
  },
  {
   "cell_type": "markdown",
   "id": "c1ca3ac5-d1c0-40d6-aacf-5f0a4659f6da",
   "metadata": {},
   "source": [
    "## 불필요 칼럼 제거\n",
    "* 4분위수,미추정인구,총인구수 등"
   ]
  },
  {
   "cell_type": "code",
   "execution_count": 11,
   "id": "9a8be5c7-3a82-4fac-93c7-d9385dbc50c1",
   "metadata": {},
   "outputs": [],
   "source": [
    "for (i, j) in enumerate(data_tele_ttl.columns):\n",
    "    if j.find('4분위수') != -1:\n",
    "        data_tele_ttl.drop(columns=j, inplace=True)\n",
    "    if j.find('미추정') != -1:\n",
    "        data_tele_ttl.drop(columns=j, inplace=True)\n",
    "    if j.find('행정동') != -1:\n",
    "        data_tele_ttl.drop(columns=j, inplace=True)\n",
    "    if j.find('자치구') != -1:\n",
    "        data_tele_ttl.drop(columns=j, inplace=True)"
   ]
  },
  {
   "cell_type": "markdown",
   "id": "74772f1a-a44e-4034-9a17-b7d7ea580afd",
   "metadata": {},
   "source": [
    "## 통합파일 파일로 저장"
   ]
  },
  {
   "cell_type": "code",
   "execution_count": 12,
   "id": "6f8cc03c-4797-4bb1-b1c5-d1dccd374a36",
   "metadata": {},
   "outputs": [],
   "source": [
    "data_tele_ttl.to_csv('data_tele_ttl.csv', index = False)\n",
    "data_concern_ttl.to_csv('data_concern_ttl.csv', index = False)"
   ]
  },
  {
   "attachments": {
    "0265028f-0fa2-448d-8abf-0d4b531aa92c.png": {
     "image/png": "[encoded data removed]"
    },
    "2225906b-837f-4920-a4b3-07f66547bafa.png": {
     "image/png": "[encoded data removed]"
    }
   },
   "cell_type": "markdown",
   "id": "e6dbc613-f447-4a12-a2a4-0f51fd2e9728",
   "metadata": {},
   "source": [
    "# EDA 탐색적 데이터 분석\n",
    "  \n",
    "<b>null 값 탐색</b>  \n",
    "* 통신정보 : null값 없음. 자치구명, 행정동명 외는 int, float형으로 분석 용이  \n",
    "* 관심집단 : null값 없음. 자치구명, 행정동명 외는 int, float형으로 분석 용이  \n",
    "\n",
    "<b>데이터 이상치 탐색</b>  \n",
    "* IQR 방법 : 다수개의 이상치 데이터가 나왔으나, 생활패턴상 이상치가 충분히 나올 수 있다고 보여짐.  \n",
    "* 자세한 내용은 하단 이상치 탐색 부분 참고 바라며,  \n",
    "* 그럼에도 상세 데이터를 살펴 볼 필요 있음.  \n",
    "![image.png](attachment:2225906b-837f-4920-a4b3-07f66547bafa.png)  \n",
    "  \n",
    "<b>데이터 상관성 분석</b>  \n",
    "* 연령대와 아래 칼럼들은 상관계수 abs 0.5 이상으로, 유의미한 상관성을 보임  \n",
    "![image.png](attachment:0265028f-0fa2-448d-8abf-0d4b531aa92c.png)  "
   ]
  },
  {
   "cell_type": "markdown",
   "id": "53b9130f-4846-4da4-999e-d844a9363d84",
   "metadata": {},
   "source": [
    "## 통합파일 불러오기"
   ]
  },
  {
   "cell_type": "code",
   "execution_count": 4,
   "id": "c8e67daa-d3b8-46c6-940f-bcd152fbe287",
   "metadata": {},
   "outputs": [],
   "source": [
    "import pandas as pd\n",
    "\n",
    "data_tele_ttl = pd.read_csv('data_tele_ttl.csv')\n",
    "data_concern_ttl = pd.read_csv('data_concern_ttl.csv')"
   ]
  },
  {
   "cell_type": "markdown",
   "id": "808f8143-f013-4102-afd5-98d3e23f4ba5",
   "metadata": {},
   "source": [
    "## 데이터 Info, Describe"
   ]
  },
  {
   "cell_type": "code",
   "execution_count": 11,
   "id": "8d6d293a-0b2c-40df-9c04-116c5c0934a7",
   "metadata": {
    "collapsed": true,
    "jupyter": {
     "outputs_hidden": true
    },
    "tags": []
   },
   "outputs": [
    {
     "name": "stdout",
     "output_type": "stream",
     "text": [
      "<class 'pandas.core.frame.DataFrame'>\n",
      "RangeIndex: 91584 entries, 0 to 91583\n",
      "Data columns (total 40 columns):\n",
      " #   Column             Non-Null Count  Dtype  \n",
      "---  ------             --------------  -----  \n",
      " 0   행정동코드              91584 non-null  int64  \n",
      " 1   자치구                91584 non-null  object \n",
      " 2   행정동                91584 non-null  object \n",
      " 3   성별                 91584 non-null  int64  \n",
      " 4   연령대                91584 non-null  int64  \n",
      " 5   총인구수               91584 non-null  int64  \n",
      " 6   1인가구수              91584 non-null  int64  \n",
      " 7   야간상주지 변경횟수 평균      91584 non-null  float64\n",
      " 8   주간상주지 변경횟수 평균      91584 non-null  float64\n",
      " 9   평균 출근 소요시간 평균      91584 non-null  float64\n",
      " 10  평균 근무시간 평균         91584 non-null  float64\n",
      " 11  소액결재 비사용 인구수       91584 non-null  int64  \n",
      " 12  소액결재 사용횟수 평균       91584 non-null  float64\n",
      " 13  소액결재 사용 금액 없는 인구수  91584 non-null  int64  \n",
      " 14  소액결재 사용금액 평균       91584 non-null  float64\n",
      " 15  최근 3개월 내 요금 연체 비율  91584 non-null  float64\n",
      " 16  카카오톡 비사용 인구수       91584 non-null  int64  \n",
      " 17  SNS 사용횟수           91584 non-null  float64\n",
      " 18  평균 통화량             91584 non-null  float64\n",
      " 19  평균 문자량             91584 non-null  float64\n",
      " 20  평균 통화대상자 수         91584 non-null  float64\n",
      " 21  평균 문자대상자 수         91584 non-null  float64\n",
      " 22  데이터 사용량            91584 non-null  float64\n",
      " 23  평일 총 이동 횟수         91584 non-null  float64\n",
      " 24  휴일 총 이동 횟수 평균      91584 non-null  float64\n",
      " 25  집 추정 위치 평일 총 체류시간  91584 non-null  float64\n",
      " 26  집 추정 위치 휴일 총 체류시간  91584 non-null  float64\n",
      " 27  평일 총 이동 거리 합계      91584 non-null  float64\n",
      " 28  휴일 총 이동 거리 합계      91584 non-null  float64\n",
      " 29  지하철이동일수 합계         91584 non-null  float64\n",
      " 30  게임 서비스 사용일수        91584 non-null  float64\n",
      " 31  금융 서비스 사용일수        91584 non-null  float64\n",
      " 32  쇼핑 서비스 사용일수        91584 non-null  float64\n",
      " 33  동영상/방송 서비스 사용일수    91584 non-null  float64\n",
      " 34  유튜브 사용일수           91584 non-null  float64\n",
      " 35  넷플릭스 사용일수          91584 non-null  float64\n",
      " 36  배달 서비스 사용일수        91584 non-null  float64\n",
      " 37  배달_브랜드 서비스 사용일수    91584 non-null  float64\n",
      " 38  배달_식재료 서비스 사용일수    91584 non-null  float64\n",
      " 39  월                  91584 non-null  int64  \n",
      "dtypes: float64(29), int64(9), object(2)\n",
      "memory usage: 27.9+ MB\n",
      "None\n",
      "<class 'pandas.core.frame.DataFrame'>\n",
      "RangeIndex: 91584 entries, 0 to 91583\n",
      "Data columns (total 18 columns):\n",
      " #   Column                   Non-Null Count  Dtype  \n",
      "---  ------                   --------------  -----  \n",
      " 0   행정동코드                    91584 non-null  int64  \n",
      " 1   자치구                      91584 non-null  object \n",
      " 2   행정동명                     91584 non-null  object \n",
      " 3   성별                       91584 non-null  int64  \n",
      " 4   연령대                      91584 non-null  int64  \n",
      " 5   총인구                      91584 non-null  float64\n",
      " 6   1인가구수                    91584 non-null  float64\n",
      " 7   커뮤니케이션이 적은 집단            91584 non-null  float64\n",
      " 8   평일 외출이 적은 집단             91584 non-null  float64\n",
      " 9   휴일 외출이 적은 집단             91584 non-null  float64\n",
      " 10  출근소요시간 및 근무시간이 많은 집단     91584 non-null  float64\n",
      " 11  외출이 매우 적은 집단(전체)         91584 non-null  float64\n",
      " 12  외출이 매우 많은 집단             91584 non-null  float64\n",
      " 13  동영상서비스 이용이 많은 집단         91584 non-null  float64\n",
      " 14  생활서비스 이용이 많은 집단          91584 non-null  float64\n",
      " 15  재정상태에 대한 관심집단            91584 non-null  float64\n",
      " 16  외출-커뮤니케이션이 모두 적은 집단(전체)  91584 non-null  float64\n",
      " 17  월                        91584 non-null  int64  \n",
      "dtypes: float64(12), int64(4), object(2)\n",
      "memory usage: 12.6+ MB\n",
      "None\n"
     ]
    }
   ],
   "source": [
    "print(data_tele_ttl.info())\n",
    "print(data_concern_ttl.info())"
   ]
  },
  {
   "cell_type": "code",
   "execution_count": 36,
   "id": "836e799b-0f33-4756-b48a-2a55b419ba2e",
   "metadata": {
    "collapsed": true,
    "jupyter": {
     "outputs_hidden": true
    },
    "tags": []
   },
   "outputs": [
    {
     "name": "stdout",
     "output_type": "stream",
     "text": [
      "              행정동코드            성별           연령대          총인구수         1인가구수  \\\n",
      "count  9.158400e+04  91584.000000  91584.000000  91584.000000  91584.000000   \n",
      "mean   1.113664e+06      1.500000     47.500000    806.456674    151.575341   \n",
      "std    7.402783e+03      0.500003     17.260357    425.916910    172.004528   \n",
      "min    1.101053e+06      1.000000     20.000000     17.000000      2.000000   \n",
      "25%    1.107070e+06      1.000000     33.750000    494.000000     66.000000   \n",
      "50%    1.114068e+06      1.500000     47.500000    750.000000    107.000000   \n",
      "75%    1.120318e+06      2.000000     61.250000   1039.000000    174.000000   \n",
      "max    1.125074e+06      2.000000     75.000000   4978.000000   3003.000000   \n",
      "\n",
      "       야간상주지 변경 미추정 인구 수  야간상주지 변경횟수 평균  주간상주지 변경 미추정 인구수  주간상주지 변경횟수 평균  \\\n",
      "count            91584.0   91584.000000           91584.0   91584.000000   \n",
      "mean                 0.0       1.741244               0.0       2.450123   \n",
      "std                  0.0       0.296786               0.0       0.730751   \n",
      "min                  0.0       1.000000               0.0       1.000000   \n",
      "25%                  0.0       1.500000               0.0       2.200000   \n",
      "50%                  0.0       1.700000               0.0       2.500000   \n",
      "75%                  0.0       1.900000               0.0       2.800000   \n",
      "max                  0.0       3.800000               0.0       5.100000   \n",
      "\n",
      "       출근 소요시간 미추정 인구수  ...      유튜브 사용일수  넷플릭스 사용 미추정 인구수     넷플릭스 사용일수  \\\n",
      "count     91584.000000  ...  91584.000000     91584.000000  91584.000000   \n",
      "mean        367.985030  ...     -0.060178       423.532211     -0.385541   \n",
      "std         191.400138  ...      0.211317       253.359411      0.214404   \n",
      "min           0.000000  ...     -0.700000         0.000000     -0.700000   \n",
      "25%         240.000000  ...     -0.200000       231.000000     -0.600000   \n",
      "50%         338.000000  ...     -0.100000       376.000000     -0.400000   \n",
      "75%         458.000000  ...      0.100000       568.000000     -0.200000   \n",
      "max        2957.000000  ...      0.400000      1945.000000      0.300000   \n",
      "\n",
      "       배달 서비스 사용 미추정 인구수   배달 서비스 사용일수  배달_브랜드 서비스 사용 미추정 인구수  \\\n",
      "count       91584.000000  91584.000000           91584.000000   \n",
      "mean          417.700723     10.851049             745.961882   \n",
      "std           283.060312      4.161685             380.621874   \n",
      "min             0.000000      0.000000              15.000000   \n",
      "25%           192.000000      7.800000             471.000000   \n",
      "50%           357.000000     10.600000             696.000000   \n",
      "75%           583.000000     14.000000             955.000000   \n",
      "max          2019.000000     36.700000            4706.000000   \n",
      "\n",
      "       배달_브랜드 서비스 사용일수  배달_식재료 서비스 사용 미추정 인구수  배달_식재료 서비스 사용일수             월  \n",
      "count     91584.000000           91584.000000     91584.000000  91584.000000  \n",
      "mean          3.185183             789.995436         1.403822      5.000000  \n",
      "std           1.638814             413.541242         0.644815      2.582003  \n",
      "min           0.000000               0.000000         0.000000      1.000000  \n",
      "25%           2.500000             488.000000         1.700000      3.000000  \n",
      "50%           3.300000             735.000000         1.700000      5.000000  \n",
      "75%           4.100000            1017.000000         1.700000      7.000000  \n",
      "max          10.000000            4791.000000         1.700000      9.000000  \n",
      "\n",
      "[8 rows x 58 columns]\n",
      "              행정동코드            성별           연령대           총인구         1인가구수  \\\n",
      "count  9.158400e+04  91584.000000  91584.000000  91584.000000  91584.000000   \n",
      "mean   1.113664e+06      1.500000     47.500000    806.453988    151.570635   \n",
      "std    7.402783e+03      0.500003     17.260357    425.917576    172.004087   \n",
      "min    1.101053e+06      1.000000     20.000000     17.000000      1.570000   \n",
      "25%    1.107070e+06      1.000000     33.750000    494.297500     66.117500   \n",
      "50%    1.114068e+06      1.500000     47.500000    749.945000    106.830000   \n",
      "75%    1.120318e+06      2.000000     61.250000   1039.002500    174.420000   \n",
      "max    1.125074e+06      2.000000     75.000000   4978.270000   3002.980000   \n",
      "\n",
      "       커뮤니케이션이 적은 집단  평일 외출이 적은 집단  휴일 외출이 적은 집단  출근소요시간 및 근무시간이 많은 집단  \\\n",
      "count   91584.000000  91584.000000  91584.000000          91584.000000   \n",
      "mean       15.157064     15.157064     15.157064             15.157064   \n",
      "std        17.898267     20.907612     20.433001             20.955565   \n",
      "min         0.000000      0.000000      0.000000              0.000000   \n",
      "25%         5.772860      4.709000      5.039952              5.200138   \n",
      "50%        10.272155      9.737332     10.033111              9.920649   \n",
      "75%        17.980024     18.195914     17.999011             17.923409   \n",
      "max       381.388573    510.799173    537.826881            493.711542   \n",
      "\n",
      "       외출이 매우 적은 집단(전체)  외출이 매우 많은 집단  동영상서비스 이용이 많은 집단  생활서비스 이용이 많은 집단  \\\n",
      "count      91584.000000  91584.000000      91584.000000     91584.000000   \n",
      "mean          16.129089     16.605923         15.157064        15.157064   \n",
      "std           12.461447     19.441106         19.547847        20.879048   \n",
      "min            0.000000      0.020000          0.000000         0.000000   \n",
      "25%            7.329825      2.190000          5.541084         4.990533   \n",
      "50%           13.357201      9.800000         10.097787         9.655268   \n",
      "75%           21.916053     23.350000         17.890185        17.743569   \n",
      "max          222.293192    195.210000        465.788912       498.150391   \n",
      "\n",
      "       재정상태에 대한 관심집단  외출-커뮤니케이션이 모두 적은 집단(전체)             월  \n",
      "count   91584.000000             91584.000000  91584.000000  \n",
      "mean       15.157064                16.129077      5.000000  \n",
      "std        21.503015                14.566910      2.582003  \n",
      "min         0.000000                 0.000000      1.000000  \n",
      "25%         4.980414                 6.611627      3.000000  \n",
      "50%         9.533832                13.000005      5.000000  \n",
      "75%        17.496621                21.984919      7.000000  \n",
      "max       512.028815               544.279555      9.000000  \n"
     ]
    }
   ],
   "source": [
    "print(data_tele_ttl.describe())\n",
    "print(data_concern_ttl.describe())"
   ]
  },
  {
   "cell_type": "markdown",
   "id": "d5846f12-af44-430c-a35f-4ee86776ef0a",
   "metadata": {},
   "source": [
    "## 데이터 상관계수 corr"
   ]
  },
  {
   "cell_type": "code",
   "execution_count": 3,
   "id": "08110d50-3f7e-44ad-9f72-3c42b81f42e7",
   "metadata": {},
   "outputs": [],
   "source": [
    "# 연령과 타 칼럼 상관계수 구하기 함수 정의\n",
    "def corr_of_age_and_other(df, target='연령대', percent=50):\n",
    "    '''\n",
    "    데이터프레임의 연령대 칼럼과 각 칼럼 간 상관계수를 출력합니다.\n",
    "    percent : 상관계수가 x%이상인 칼럼간 상관계수만 출력합니다.\n",
    "    '''\n",
    "    for i in df.columns:\n",
    "        if df[i].dtype == 'object':\n",
    "            continue\n",
    "        else:\n",
    "            try:\n",
    "                if df[target].corr(df[i]) > percent/100 or df[target].corr(df[i]) < (-1)*percent/100:\n",
    "                    print(f'{target}과/와 {i}의 상관계수 : ', df[target].corr(df[i]))\n",
    "            except:\n",
    "                continue"
   ]
  },
  {
   "cell_type": "code",
   "execution_count": 4,
   "id": "411c232e-3b56-4bae-b978-843b9d000803",
   "metadata": {},
   "outputs": [
    {
     "name": "stdout",
     "output_type": "stream",
     "text": [
      "1인가구수과/와 1인가구수의 상관계수 :  1.0\n",
      "1인가구수과/와 소액결재 비사용 인구수의 상관계수 :  0.5310116805533346\n",
      "1인가구수과/와 소액결재 사용 금액 없는 인구수의 상관계수 :  0.511961817325725\n"
     ]
    }
   ],
   "source": [
    "# 함수 실행\n",
    "corr_of_age_and_other(data_tele_ttl, '1인가구수', 50)"
   ]
  },
  {
   "cell_type": "code",
   "execution_count": 2,
   "id": "7c45080f-28f2-4da7-9c76-e014077696de",
   "metadata": {
    "tags": []
   },
   "outputs": [],
   "source": [
    "# 전체 칼럼 상관계수 구하기 함수 정의\n",
    "def corr_of_two_columns(df, percent, age=[20, 25, 30, 35, 40, 45, 50, 55, 60, 65, 70]):\n",
    "    '''\n",
    "    데이터프레임의 각 칼럼 간 상관계수를 출력합니다.\n",
    "    percent : 상관계수가 x%이상인 칼럼간 상관계수만 출력합니다.\n",
    "    age : 대상 연령대를 선택합니다. 선택하지 않으면 모든 연령대가 선택됩니다.\n",
    "    '''\n",
    "    if age == [20, 25, 30, 35, 40, 45, 50, 55, 60, 65, 70]:\n",
    "        pass\n",
    "    else:\n",
    "        df = df.loc[df['연령대'] == age]\n",
    "    \n",
    "    for i in df.columns:\n",
    "        print(f'■■■ {i} 관련 상관계수 ■■■')\n",
    "        for j in df.columns:\n",
    "            if df[i].dtype == 'object' or df[j].dtype == 'object':\n",
    "                continue\n",
    "            else:\n",
    "                try:\n",
    "                    if df[i].corr(df[j]) > percent/100 or df[i].corr(df[j]) < (-1)*percent/100:\n",
    "                        print(f'{i}와 {j}의 상관계수 : ', df[i].corr(df[j]))\n",
    "                except:\n",
    "                    continue"
   ]
  },
  {
   "cell_type": "code",
   "execution_count": 5,
   "id": "8d5fd5d9-23f1-4538-b27f-c6348d1f8b3b",
   "metadata": {
    "tags": []
   },
   "outputs": [
    {
     "name": "stdout",
     "output_type": "stream",
     "text": [
      "■■■ 성별 관련 상관계수 ■■■\n",
      "성별와 성별의 상관계수 :  0.9999999999999998\n",
      "성별와 평균 통화대상자 수의 상관계수 :  -0.4643202629318013\n",
      "성별와 평일 총 이동 거리 합계의 상관계수 :  -0.6051422679487533\n",
      "성별와 게임 서비스 사용일수의 상관계수 :  -0.5574406641424641\n",
      "■■■ 연령대 관련 상관계수 ■■■\n",
      "연령대와 연령대의 상관계수 :  1.0\n",
      "연령대와 야간상주지 변경횟수 평균의 상관계수 :  -0.6491113994499464\n",
      "연령대와 주간상주지 변경횟수 평균의 상관계수 :  -0.8366770438972835\n",
      "연령대와 평균 출근 소요시간 평균의 상관계수 :  -0.538982156801231\n",
      "연령대와 평균 근무시간 평균의 상관계수 :  -0.632033944374968\n",
      "연령대와 카카오톡 비사용 인구수의 상관계수 :  0.4558326342510188\n",
      "연령대와 SNS 사용횟수의 상관계수 :  -0.7895811128923226\n",
      "연령대와 평균 통화량의 상관계수 :  -0.4393773038883442\n",
      "연령대와 데이터 사용량의 상관계수 :  -0.8749692376170912\n",
      "연령대와 평일 총 이동 횟수의 상관계수 :  -0.45393007181714795\n",
      "연령대와 휴일 총 이동 횟수 평균의 상관계수 :  -0.5001677985879871\n",
      "연령대와 집 추정 위치 평일 총 체류시간의 상관계수 :  0.4712974043219991\n",
      "연령대와 집 추정 위치 휴일 총 체류시간의 상관계수 :  0.42605727528562753\n",
      "연령대와 휴일 총 이동 거리 합계의 상관계수 :  -0.41944184386373423\n",
      "연령대와 지하철이동일수 합계의 상관계수 :  -0.4880320113915491\n",
      "연령대와 게임 서비스 사용일수의 상관계수 :  -0.6695070934024627\n",
      "연령대와 금융 서비스 사용일수의 상관계수 :  -0.803360551774718\n",
      "연령대와 쇼핑 서비스 사용일수의 상관계수 :  -0.7624372751801264\n",
      "연령대와 동영상/방송 서비스 사용일수의 상관계수 :  -0.8354352121655493\n",
      "연령대와 유튜브 사용일수의 상관계수 :  -0.89669154844047\n",
      "연령대와 넷플릭스 사용일수의 상관계수 :  -0.9575031268266848\n",
      "연령대와 배달 서비스 사용일수의 상관계수 :  -0.6783170749809524\n",
      "연령대와 배달_식재료 서비스 사용일수의 상관계수 :  -0.46737330719570386\n",
      "■■■ 1인가구수 관련 상관계수 ■■■\n",
      "1인가구수와 1인가구수의 상관계수 :  1.0\n",
      "1인가구수와 소액결재 비사용 인구수의 상관계수 :  0.5310116805533346\n",
      "1인가구수와 소액결재 사용 금액 없는 인구수의 상관계수 :  0.511961817325725\n",
      "■■■ 야간상주지 변경횟수 평균 관련 상관계수 ■■■\n",
      "야간상주지 변경횟수 평균와 연령대의 상관계수 :  -0.6491113994499464\n",
      "야간상주지 변경횟수 평균와 야간상주지 변경횟수 평균의 상관계수 :  1.0\n",
      "야간상주지 변경횟수 평균와 주간상주지 변경횟수 평균의 상관계수 :  0.657954351114307\n",
      "야간상주지 변경횟수 평균와 SNS 사용횟수의 상관계수 :  0.5483159747065384\n",
      "야간상주지 변경횟수 평균와 데이터 사용량의 상관계수 :  0.6668464017253452\n",
      "야간상주지 변경횟수 평균와 게임 서비스 사용일수의 상관계수 :  0.5122748169841852\n",
      "야간상주지 변경횟수 평균와 금융 서비스 사용일수의 상관계수 :  0.45134179571090866\n",
      "야간상주지 변경횟수 평균와 동영상/방송 서비스 사용일수의 상관계수 :  0.5429217638847322\n",
      "야간상주지 변경횟수 평균와 유튜브 사용일수의 상관계수 :  0.6256897513956505\n",
      "야간상주지 변경횟수 평균와 넷플릭스 사용일수의 상관계수 :  0.6277055092557855\n",
      "야간상주지 변경횟수 평균와 배달 서비스 사용일수의 상관계수 :  0.4643845656941073\n",
      "■■■ 주간상주지 변경횟수 평균 관련 상관계수 ■■■\n",
      "주간상주지 변경횟수 평균와 연령대의 상관계수 :  -0.8366770438972835\n",
      "주간상주지 변경횟수 평균와 야간상주지 변경횟수 평균의 상관계수 :  0.657954351114307\n",
      "주간상주지 변경횟수 평균와 주간상주지 변경횟수 평균의 상관계수 :  1.0\n",
      "주간상주지 변경횟수 평균와 평균 출근 소요시간 평균의 상관계수 :  0.646855681742676\n",
      "주간상주지 변경횟수 평균와 평균 근무시간 평균의 상관계수 :  0.7194443817553573\n",
      "주간상주지 변경횟수 평균와 카카오톡 비사용 인구수의 상관계수 :  -0.5275266523663399\n",
      "주간상주지 변경횟수 평균와 SNS 사용횟수의 상관계수 :  0.6843806119618108\n",
      "주간상주지 변경횟수 평균와 평균 통화량의 상관계수 :  0.44666796270128956\n",
      "주간상주지 변경횟수 평균와 데이터 사용량의 상관계수 :  0.7242696722151464\n",
      "주간상주지 변경횟수 평균와 휴일 총 이동 횟수 평균의 상관계수 :  0.4395019790984149\n",
      "주간상주지 변경횟수 평균와 집 추정 위치 평일 총 체류시간의 상관계수 :  -0.40393870872878423\n",
      "주간상주지 변경횟수 평균와 게임 서비스 사용일수의 상관계수 :  0.6078470905460475\n",
      "주간상주지 변경횟수 평균와 금융 서비스 사용일수의 상관계수 :  0.5776383245997525\n",
      "주간상주지 변경횟수 평균와 쇼핑 서비스 사용일수의 상관계수 :  0.5256444324633672\n",
      "주간상주지 변경횟수 평균와 동영상/방송 서비스 사용일수의 상관계수 :  0.6472478160247831\n",
      "주간상주지 변경횟수 평균와 유튜브 사용일수의 상관계수 :  0.8343503042891371\n",
      "주간상주지 변경횟수 평균와 넷플릭스 사용일수의 상관계수 :  0.7255742755550041\n",
      "주간상주지 변경횟수 평균와 배달 서비스 사용일수의 상관계수 :  0.5040544662278575\n",
      "주간상주지 변경횟수 평균와 배달_식재료 서비스 사용일수의 상관계수 :  0.431784184357115\n",
      "■■■ 평균 출근 소요시간 평균 관련 상관계수 ■■■\n",
      "평균 출근 소요시간 평균와 연령대의 상관계수 :  -0.5389821568012308\n",
      "평균 출근 소요시간 평균와 주간상주지 변경횟수 평균의 상관계수 :  0.646855681742676\n",
      "평균 출근 소요시간 평균와 평균 출근 소요시간 평균의 상관계수 :  0.9999999999999999\n",
      "평균 출근 소요시간 평균와 평균 근무시간 평균의 상관계수 :  0.9023357491415036\n",
      "평균 출근 소요시간 평균와 카카오톡 비사용 인구수의 상관계수 :  -0.401334541956875\n",
      "평균 출근 소요시간 평균와 SNS 사용횟수의 상관계수 :  0.582164551182238\n",
      "평균 출근 소요시간 평균와 평균 통화량의 상관계수 :  0.41290331817132875\n",
      "평균 출근 소요시간 평균와 평균 통화대상자 수의 상관계수 :  0.43174770997935186\n",
      "평균 출근 소요시간 평균와 평균 문자대상자 수의 상관계수 :  0.5546984693337824\n",
      "평균 출근 소요시간 평균와 데이터 사용량의 상관계수 :  0.41038775148216516\n",
      "평균 출근 소요시간 평균와 평일 총 이동 횟수의 상관계수 :  0.5825050228956826\n",
      "평균 출근 소요시간 평균와 휴일 총 이동 횟수 평균의 상관계수 :  0.5352924241416527\n",
      "평균 출근 소요시간 평균와 집 추정 위치 평일 총 체류시간의 상관계수 :  -0.5477056484908637\n",
      "평균 출근 소요시간 평균와 집 추정 위치 휴일 총 체류시간의 상관계수 :  -0.47563171831739404\n",
      "평균 출근 소요시간 평균와 평일 총 이동 거리 합계의 상관계수 :  0.5213961720859933\n",
      "평균 출근 소요시간 평균와 휴일 총 이동 거리 합계의 상관계수 :  0.5487049159884875\n",
      "평균 출근 소요시간 평균와 지하철이동일수 합계의 상관계수 :  0.5174781767394407\n",
      "평균 출근 소요시간 평균와 게임 서비스 사용일수의 상관계수 :  0.4898104726123807\n",
      "평균 출근 소요시간 평균와 금융 서비스 사용일수의 상관계수 :  0.5533477824713545\n",
      "평균 출근 소요시간 평균와 쇼핑 서비스 사용일수의 상관계수 :  0.5037163608002914\n",
      "평균 출근 소요시간 평균와 동영상/방송 서비스 사용일수의 상관계수 :  0.5267610849300572\n",
      "평균 출근 소요시간 평균와 유튜브 사용일수의 상관계수 :  0.621033014964712\n",
      "평균 출근 소요시간 평균와 넷플릭스 사용일수의 상관계수 :  0.4459886073969705\n",
      "평균 출근 소요시간 평균와 배달_식재료 서비스 사용일수의 상관계수 :  0.41925182395076727\n",
      "■■■ 평균 근무시간 평균 관련 상관계수 ■■■\n",
      "평균 근무시간 평균와 연령대의 상관계수 :  -0.6320339443749678\n",
      "평균 근무시간 평균와 주간상주지 변경횟수 평균의 상관계수 :  0.7194443817553572\n",
      "평균 근무시간 평균와 평균 출근 소요시간 평균의 상관계수 :  0.9023357491415037\n",
      "평균 근무시간 평균와 평균 근무시간 평균의 상관계수 :  1.0\n",
      "평균 근무시간 평균와 카카오톡 비사용 인구수의 상관계수 :  -0.45116159460632005\n",
      "평균 근무시간 평균와 SNS 사용횟수의 상관계수 :  0.6565728748899086\n",
      "평균 근무시간 평균와 평균 통화량의 상관계수 :  0.5045036116655734\n",
      "평균 근무시간 평균와 평균 통화대상자 수의 상관계수 :  0.43528596411623227\n",
      "평균 근무시간 평균와 평균 문자대상자 수의 상관계수 :  0.6265539293548504\n",
      "평균 근무시간 평균와 데이터 사용량의 상관계수 :  0.47967544296000947\n",
      "평균 근무시간 평균와 평일 총 이동 횟수의 상관계수 :  0.6243597589447742\n",
      "평균 근무시간 평균와 휴일 총 이동 횟수 평균의 상관계수 :  0.589141264300522\n",
      "평균 근무시간 평균와 집 추정 위치 평일 총 체류시간의 상관계수 :  -0.5637197963644419\n",
      "평균 근무시간 평균와 집 추정 위치 휴일 총 체류시간의 상관계수 :  -0.48622739578338453\n",
      "평균 근무시간 평균와 평일 총 이동 거리 합계의 상관계수 :  0.5058280995936932\n",
      "평균 근무시간 평균와 휴일 총 이동 거리 합계의 상관계수 :  0.5988326759651306\n",
      "평균 근무시간 평균와 지하철이동일수 합계의 상관계수 :  0.5577633969684358\n",
      "평균 근무시간 평균와 게임 서비스 사용일수의 상관계수 :  0.5056440015119931\n",
      "평균 근무시간 평균와 금융 서비스 사용일수의 상관계수 :  0.6518949418341828\n",
      "평균 근무시간 평균와 쇼핑 서비스 사용일수의 상관계수 :  0.6190507738936716\n",
      "평균 근무시간 평균와 동영상/방송 서비스 사용일수의 상관계수 :  0.6059966193920527\n",
      "평균 근무시간 평균와 유튜브 사용일수의 상관계수 :  0.6930884586676058\n",
      "평균 근무시간 평균와 넷플릭스 사용일수의 상관계수 :  0.5444197565211425\n",
      "평균 근무시간 평균와 배달_식재료 서비스 사용일수의 상관계수 :  0.48799070810459866\n",
      "■■■ 소액결재 비사용 인구수 관련 상관계수 ■■■\n",
      "소액결재 비사용 인구수와 1인가구수의 상관계수 :  0.5310116805533346\n",
      "소액결재 비사용 인구수와 소액결재 비사용 인구수의 상관계수 :  0.9999999999999999\n",
      "소액결재 비사용 인구수와 소액결재 사용 금액 없는 인구수의 상관계수 :  0.9794816033412135\n",
      "■■■ 소액결재 사용횟수 평균 관련 상관계수 ■■■\n",
      "소액결재 사용횟수 평균와 소액결재 사용횟수 평균의 상관계수 :  1.0\n",
      "■■■ 소액결재 사용 금액 없는 인구수 관련 상관계수 ■■■\n",
      "소액결재 사용 금액 없는 인구수와 1인가구수의 상관계수 :  0.511961817325725\n",
      "소액결재 사용 금액 없는 인구수와 소액결재 비사용 인구수의 상관계수 :  0.9794816033412135\n",
      "소액결재 사용 금액 없는 인구수와 소액결재 사용 금액 없는 인구수의 상관계수 :  1.0\n",
      "■■■ 소액결재 사용금액 평균 관련 상관계수 ■■■\n",
      "소액결재 사용금액 평균와 소액결재 사용금액 평균의 상관계수 :  1.0\n",
      "■■■ 최근 3개월 내 요금 연체 비율 관련 상관계수 ■■■\n",
      "최근 3개월 내 요금 연체 비율와 최근 3개월 내 요금 연체 비율의 상관계수 :  1.0\n",
      "최근 3개월 내 요금 연체 비율와 월의 상관계수 :  -0.4778834506316183\n",
      "■■■ 카카오톡 비사용 인구수 관련 상관계수 ■■■\n",
      "카카오톡 비사용 인구수와 연령대의 상관계수 :  0.4558326342510187\n",
      "카카오톡 비사용 인구수와 주간상주지 변경횟수 평균의 상관계수 :  -0.52752665236634\n",
      "카카오톡 비사용 인구수와 평균 출근 소요시간 평균의 상관계수 :  -0.401334541956875\n",
      "카카오톡 비사용 인구수와 평균 근무시간 평균의 상관계수 :  -0.45116159460632005\n",
      "카카오톡 비사용 인구수와 카카오톡 비사용 인구수의 상관계수 :  1.0\n",
      "카카오톡 비사용 인구수와 SNS 사용횟수의 상관계수 :  -0.4546783319059866\n",
      "카카오톡 비사용 인구수와 유튜브 사용일수의 상관계수 :  -0.6201011614510382\n",
      "카카오톡 비사용 인구수와 넷플릭스 사용일수의 상관계수 :  -0.40792778265294705\n",
      "■■■ SNS 사용횟수 관련 상관계수 ■■■\n",
      "SNS 사용횟수와 연령대의 상관계수 :  -0.7895811128923227\n",
      "SNS 사용횟수와 야간상주지 변경횟수 평균의 상관계수 :  0.5483159747065384\n",
      "SNS 사용횟수와 주간상주지 변경횟수 평균의 상관계수 :  0.6843806119618108\n",
      "SNS 사용횟수와 평균 출근 소요시간 평균의 상관계수 :  0.582164551182238\n",
      "SNS 사용횟수와 평균 근무시간 평균의 상관계수 :  0.6565728748899086\n",
      "SNS 사용횟수와 카카오톡 비사용 인구수의 상관계수 :  -0.45467833190598667\n",
      "SNS 사용횟수와 SNS 사용횟수의 상관계수 :  0.9999999999999998\n",
      "SNS 사용횟수와 평균 문자대상자 수의 상관계수 :  0.4908407016514919\n",
      "SNS 사용횟수와 데이터 사용량의 상관계수 :  0.8424742075954487\n",
      "SNS 사용횟수와 평일 총 이동 횟수의 상관계수 :  0.6772670714531376\n",
      "SNS 사용횟수와 휴일 총 이동 횟수 평균의 상관계수 :  0.6616975601623375\n",
      "SNS 사용횟수와 집 추정 위치 평일 총 체류시간의 상관계수 :  -0.6398157565273815\n",
      "SNS 사용횟수와 집 추정 위치 휴일 총 체류시간의 상관계수 :  -0.5322434466034017\n",
      "SNS 사용횟수와 평일 총 이동 거리 합계의 상관계수 :  0.6348491754357896\n",
      "SNS 사용횟수와 휴일 총 이동 거리 합계의 상관계수 :  0.6490123058262378\n",
      "SNS 사용횟수와 지하철이동일수 합계의 상관계수 :  0.6901275586030998\n",
      "SNS 사용횟수와 게임 서비스 사용일수의 상관계수 :  0.8038332359796663\n",
      "SNS 사용횟수와 금융 서비스 사용일수의 상관계수 :  0.8580535136052146\n",
      "SNS 사용횟수와 쇼핑 서비스 사용일수의 상관계수 :  0.6916229964094066\n",
      "SNS 사용횟수와 동영상/방송 서비스 사용일수의 상관계수 :  0.8983490746282564\n",
      "SNS 사용횟수와 유튜브 사용일수의 상관계수 :  0.8833063344835339\n",
      "SNS 사용횟수와 넷플릭스 사용일수의 상관계수 :  0.7890428045133941\n",
      "SNS 사용횟수와 배달 서비스 사용일수의 상관계수 :  0.6143784708119107\n",
      "SNS 사용횟수와 배달_식재료 서비스 사용일수의 상관계수 :  0.40719300414709253\n",
      "■■■ 평균 통화량 관련 상관계수 ■■■\n",
      "평균 통화량와 연령대의 상관계수 :  -0.43937730388834423\n",
      "평균 통화량와 주간상주지 변경횟수 평균의 상관계수 :  0.4466679627012895\n",
      "평균 통화량와 평균 출근 소요시간 평균의 상관계수 :  0.4129033181713287\n",
      "평균 통화량와 평균 근무시간 평균의 상관계수 :  0.5045036116655734\n",
      "평균 통화량와 평균 통화량의 상관계수 :  1.0\n",
      "평균 통화량와 평균 문자대상자 수의 상관계수 :  0.45354238106902606\n",
      "평균 통화량와 평일 총 이동 횟수의 상관계수 :  0.4872774624841069\n",
      "평균 통화량와 휴일 총 이동 횟수 평균의 상관계수 :  0.48780916379583733\n",
      "평균 통화량와 금융 서비스 사용일수의 상관계수 :  0.4205991021170994\n",
      "평균 통화량와 쇼핑 서비스 사용일수의 상관계수 :  0.4034630311734923\n",
      "평균 통화량와 유튜브 사용일수의 상관계수 :  0.4460931807461656\n",
      "평균 통화량와 배달_식재료 서비스 사용일수의 상관계수 :  0.4193220551256054\n",
      "■■■ 평균 문자량 관련 상관계수 ■■■\n",
      "평균 문자량와 평균 문자량의 상관계수 :  1.0\n",
      "평균 문자량와 평균 문자대상자 수의 상관계수 :  0.43214666417669073\n",
      "■■■ 평균 통화대상자 수 관련 상관계수 ■■■\n",
      "평균 통화대상자 수와 성별의 상관계수 :  -0.4643202629318013\n",
      "평균 통화대상자 수와 평균 출근 소요시간 평균의 상관계수 :  0.43174770997935186\n",
      "평균 통화대상자 수와 평균 근무시간 평균의 상관계수 :  0.43528596411623227\n",
      "평균 통화대상자 수와 평균 통화대상자 수의 상관계수 :  1.0\n",
      "평균 통화대상자 수와 평균 문자대상자 수의 상관계수 :  0.8111047925331398\n",
      "평균 통화대상자 수와 평일 총 이동 횟수의 상관계수 :  0.6722056025935741\n",
      "평균 통화대상자 수와 휴일 총 이동 횟수 평균의 상관계수 :  0.5023126702748916\n",
      "평균 통화대상자 수와 집 추정 위치 평일 총 체류시간의 상관계수 :  -0.4464505616259854\n",
      "평균 통화대상자 수와 평일 총 이동 거리 합계의 상관계수 :  0.6989299127264227\n",
      "평균 통화대상자 수와 휴일 총 이동 거리 합계의 상관계수 :  0.6008462499070241\n",
      "평균 통화대상자 수와 지하철이동일수 합계의 상관계수 :  0.5248206886444745\n",
      "■■■ 평균 문자대상자 수 관련 상관계수 ■■■\n",
      "평균 문자대상자 수와 평균 출근 소요시간 평균의 상관계수 :  0.5546984693337824\n",
      "평균 문자대상자 수와 평균 근무시간 평균의 상관계수 :  0.6265539293548504\n",
      "평균 문자대상자 수와 SNS 사용횟수의 상관계수 :  0.49084070165149196\n",
      "평균 문자대상자 수와 평균 통화량의 상관계수 :  0.453542381069026\n",
      "평균 문자대상자 수와 평균 문자량의 상관계수 :  0.43214666417669073\n",
      "평균 문자대상자 수와 평균 통화대상자 수의 상관계수 :  0.8111047925331399\n",
      "평균 문자대상자 수와 평균 문자대상자 수의 상관계수 :  1.0\n",
      "평균 문자대상자 수와 평일 총 이동 횟수의 상관계수 :  0.7110600985874133\n",
      "평균 문자대상자 수와 휴일 총 이동 횟수 평균의 상관계수 :  0.5764544388160742\n",
      "평균 문자대상자 수와 집 추정 위치 평일 총 체류시간의 상관계수 :  -0.5278337318328024\n",
      "평균 문자대상자 수와 집 추정 위치 휴일 총 체류시간의 상관계수 :  -0.4351623077335809\n",
      "평균 문자대상자 수와 평일 총 이동 거리 합계의 상관계수 :  0.6138829954151456\n",
      "평균 문자대상자 수와 휴일 총 이동 거리 합계의 상관계수 :  0.6338361396162934\n",
      "평균 문자대상자 수와 지하철이동일수 합계의 상관계수 :  0.5586918994341392\n",
      "평균 문자대상자 수와 금융 서비스 사용일수의 상관계수 :  0.6322853818819999\n",
      "평균 문자대상자 수와 쇼핑 서비스 사용일수의 상관계수 :  0.6154276344462565\n",
      "평균 문자대상자 수와 동영상/방송 서비스 사용일수의 상관계수 :  0.47703450920744744\n",
      "평균 문자대상자 수와 유튜브 사용일수의 상관계수 :  0.4219585611896157\n",
      "■■■ 데이터 사용량 관련 상관계수 ■■■\n",
      "데이터 사용량와 연령대의 상관계수 :  -0.8749692376170911\n",
      "데이터 사용량와 야간상주지 변경횟수 평균의 상관계수 :  0.6668464017253452\n",
      "데이터 사용량와 주간상주지 변경횟수 평균의 상관계수 :  0.7242696722151464\n",
      "데이터 사용량와 평균 출근 소요시간 평균의 상관계수 :  0.41038775148216516\n",
      "데이터 사용량와 평균 근무시간 평균의 상관계수 :  0.4796754429600094\n",
      "데이터 사용량와 SNS 사용횟수의 상관계수 :  0.8424742075954488\n",
      "데이터 사용량와 데이터 사용량의 상관계수 :  1.0\n",
      "데이터 사용량와 평일 총 이동 횟수의 상관계수 :  0.4799167022864064\n",
      "데이터 사용량와 휴일 총 이동 횟수 평균의 상관계수 :  0.5319689266236043\n",
      "데이터 사용량와 평일 총 이동 거리 합계의 상관계수 :  0.42859452792637176\n",
      "데이터 사용량와 휴일 총 이동 거리 합계의 상관계수 :  0.4510945882123156\n",
      "데이터 사용량와 지하철이동일수 합계의 상관계수 :  0.5461808742236213\n",
      "데이터 사용량와 게임 서비스 사용일수의 상관계수 :  0.834731247118238\n",
      "데이터 사용량와 금융 서비스 사용일수의 상관계수 :  0.7867300225321646\n",
      "데이터 사용량와 쇼핑 서비스 사용일수의 상관계수 :  0.6216308365415423\n",
      "데이터 사용량와 동영상/방송 서비스 사용일수의 상관계수 :  0.8874665554442742\n",
      "데이터 사용량와 유튜브 사용일수의 상관계수 :  0.8492572887090682\n",
      "데이터 사용량와 넷플릭스 사용일수의 상관계수 :  0.8707511944572485\n",
      "데이터 사용량와 배달 서비스 사용일수의 상관계수 :  0.6994186167418385\n",
      "■■■ 평일 총 이동 횟수 관련 상관계수 ■■■\n",
      "평일 총 이동 횟수와 연령대의 상관계수 :  -0.453930071817148\n",
      "평일 총 이동 횟수와 평균 출근 소요시간 평균의 상관계수 :  0.5825050228956826\n",
      "평일 총 이동 횟수와 평균 근무시간 평균의 상관계수 :  0.6243597589447742\n",
      "평일 총 이동 횟수와 SNS 사용횟수의 상관계수 :  0.6772670714531377\n",
      "평일 총 이동 횟수와 평균 통화량의 상관계수 :  0.4872774624841069\n",
      "평일 총 이동 횟수와 평균 통화대상자 수의 상관계수 :  0.6722056025935741\n",
      "평일 총 이동 횟수와 평균 문자대상자 수의 상관계수 :  0.7110600985874134\n",
      "평일 총 이동 횟수와 데이터 사용량의 상관계수 :  0.4799167022864065\n",
      "평일 총 이동 횟수와 평일 총 이동 횟수의 상관계수 :  1.0\n",
      "평일 총 이동 횟수와 휴일 총 이동 횟수 평균의 상관계수 :  0.9011768395291317\n",
      "평일 총 이동 횟수와 집 추정 위치 평일 총 체류시간의 상관계수 :  -0.4590492577540964\n",
      "평일 총 이동 횟수와 평일 총 이동 거리 합계의 상관계수 :  0.8944773593410408\n",
      "평일 총 이동 횟수와 휴일 총 이동 거리 합계의 상관계수 :  0.8552390077477487\n",
      "평일 총 이동 횟수와 지하철이동일수 합계의 상관계수 :  0.9024212492276042\n",
      "평일 총 이동 횟수와 게임 서비스 사용일수의 상관계수 :  0.5382322829487637\n",
      "평일 총 이동 횟수와 금융 서비스 사용일수의 상관계수 :  0.6561165186811221\n",
      "평일 총 이동 횟수와 쇼핑 서비스 사용일수의 상관계수 :  0.5102533308410729\n",
      "평일 총 이동 횟수와 동영상/방송 서비스 사용일수의 상관계수 :  0.5959038207799969\n",
      "평일 총 이동 횟수와 유튜브 사용일수의 상관계수 :  0.6061395034760997\n",
      "평일 총 이동 횟수와 넷플릭스 사용일수의 상관계수 :  0.4321453185694408\n",
      "■■■ 휴일 총 이동 횟수 평균 관련 상관계수 ■■■\n",
      "휴일 총 이동 횟수 평균와 연령대의 상관계수 :  -0.5001677985879871\n",
      "휴일 총 이동 횟수 평균와 주간상주지 변경횟수 평균의 상관계수 :  0.4395019790984148\n",
      "휴일 총 이동 횟수 평균와 평균 출근 소요시간 평균의 상관계수 :  0.5352924241416527\n",
      "휴일 총 이동 횟수 평균와 평균 근무시간 평균의 상관계수 :  0.5891412643005222\n",
      "휴일 총 이동 횟수 평균와 SNS 사용횟수의 상관계수 :  0.6616975601623375\n",
      "휴일 총 이동 횟수 평균와 평균 통화량의 상관계수 :  0.4878091637958373\n",
      "휴일 총 이동 횟수 평균와 평균 통화대상자 수의 상관계수 :  0.5023126702748916\n",
      "휴일 총 이동 횟수 평균와 평균 문자대상자 수의 상관계수 :  0.5764544388160742\n",
      "휴일 총 이동 횟수 평균와 데이터 사용량의 상관계수 :  0.5319689266236044\n",
      "휴일 총 이동 횟수 평균와 평일 총 이동 횟수의 상관계수 :  0.9011768395291317\n",
      "휴일 총 이동 횟수 평균와 휴일 총 이동 횟수 평균의 상관계수 :  0.9999999999999998\n",
      "휴일 총 이동 횟수 평균와 평일 총 이동 거리 합계의 상관계수 :  0.7977158684977375\n",
      "휴일 총 이동 횟수 평균와 휴일 총 이동 거리 합계의 상관계수 :  0.9119890163645128\n",
      "휴일 총 이동 횟수 평균와 지하철이동일수 합계의 상관계수 :  0.8425128603091641\n",
      "휴일 총 이동 횟수 평균와 게임 서비스 사용일수의 상관계수 :  0.5068106171148541\n",
      "휴일 총 이동 횟수 평균와 금융 서비스 사용일수의 상관계수 :  0.60513446223138\n",
      "휴일 총 이동 횟수 평균와 쇼핑 서비스 사용일수의 상관계수 :  0.4947358832450514\n",
      "휴일 총 이동 횟수 평균와 동영상/방송 서비스 사용일수의 상관계수 :  0.589303757459931\n",
      "휴일 총 이동 횟수 평균와 유튜브 사용일수의 상관계수 :  0.6206819965156739\n",
      "휴일 총 이동 횟수 평균와 넷플릭스 사용일수의 상관계수 :  0.4792381117852721\n",
      "■■■ 집 추정 위치 평일 총 체류시간 관련 상관계수 ■■■\n",
      "집 추정 위치 평일 총 체류시간와 연령대의 상관계수 :  0.4712974043219991\n",
      "집 추정 위치 평일 총 체류시간와 주간상주지 변경횟수 평균의 상관계수 :  -0.4039387087287843\n",
      "집 추정 위치 평일 총 체류시간와 평균 출근 소요시간 평균의 상관계수 :  -0.5477056484908636\n",
      "집 추정 위치 평일 총 체류시간와 평균 근무시간 평균의 상관계수 :  -0.5637197963644419\n",
      "집 추정 위치 평일 총 체류시간와 SNS 사용횟수의 상관계수 :  -0.6398157565273815\n",
      "집 추정 위치 평일 총 체류시간와 평균 통화대상자 수의 상관계수 :  -0.44645056162598534\n",
      "집 추정 위치 평일 총 체류시간와 평균 문자대상자 수의 상관계수 :  -0.5278337318328025\n",
      "집 추정 위치 평일 총 체류시간와 평일 총 이동 횟수의 상관계수 :  -0.45904925775409644\n",
      "집 추정 위치 평일 총 체류시간와 집 추정 위치 평일 총 체류시간의 상관계수 :  0.9999999999999999\n",
      "집 추정 위치 평일 총 체류시간와 집 추정 위치 휴일 총 체류시간의 상관계수 :  0.854456525110034\n",
      "집 추정 위치 평일 총 체류시간와 평일 총 이동 거리 합계의 상관계수 :  -0.5330689823797372\n",
      "집 추정 위치 평일 총 체류시간와 휴일 총 이동 거리 합계의 상관계수 :  -0.48495834479649663\n",
      "집 추정 위치 평일 총 체류시간와 지하철이동일수 합계의 상관계수 :  -0.4225422192749892\n",
      "집 추정 위치 평일 총 체류시간와 게임 서비스 사용일수의 상관계수 :  -0.5353214353847482\n",
      "집 추정 위치 평일 총 체류시간와 금융 서비스 사용일수의 상관계수 :  -0.6274007525723385\n",
      "집 추정 위치 평일 총 체류시간와 쇼핑 서비스 사용일수의 상관계수 :  -0.5487195581686315\n",
      "집 추정 위치 평일 총 체류시간와 동영상/방송 서비스 사용일수의 상관계수 :  -0.6082200057386892\n",
      "집 추정 위치 평일 총 체류시간와 유튜브 사용일수의 상관계수 :  -0.5845000052680295\n",
      "집 추정 위치 평일 총 체류시간와 넷플릭스 사용일수의 상관계수 :  -0.4690559795717175\n",
      "■■■ 집 추정 위치 휴일 총 체류시간 관련 상관계수 ■■■\n",
      "집 추정 위치 휴일 총 체류시간와 연령대의 상관계수 :  0.42605727528562753\n",
      "집 추정 위치 휴일 총 체류시간와 평균 출근 소요시간 평균의 상관계수 :  -0.47563171831739404\n",
      "집 추정 위치 휴일 총 체류시간와 평균 근무시간 평균의 상관계수 :  -0.48622739578338453\n",
      "집 추정 위치 휴일 총 체류시간와 SNS 사용횟수의 상관계수 :  -0.5322434466034016\n",
      "집 추정 위치 휴일 총 체류시간와 평균 문자대상자 수의 상관계수 :  -0.4351623077335809\n",
      "집 추정 위치 휴일 총 체류시간와 집 추정 위치 평일 총 체류시간의 상관계수 :  0.854456525110034\n",
      "집 추정 위치 휴일 총 체류시간와 집 추정 위치 휴일 총 체류시간의 상관계수 :  0.9999999999999998\n",
      "집 추정 위치 휴일 총 체류시간와 평일 총 이동 거리 합계의 상관계수 :  -0.4422431602901806\n",
      "집 추정 위치 휴일 총 체류시간와 게임 서비스 사용일수의 상관계수 :  -0.40795209353667833\n",
      "집 추정 위치 휴일 총 체류시간와 금융 서비스 사용일수의 상관계수 :  -0.5217578501472785\n",
      "집 추정 위치 휴일 총 체류시간와 쇼핑 서비스 사용일수의 상관계수 :  -0.457511141309074\n",
      "집 추정 위치 휴일 총 체류시간와 동영상/방송 서비스 사용일수의 상관계수 :  -0.4961285061682968\n",
      "집 추정 위치 휴일 총 체류시간와 유튜브 사용일수의 상관계수 :  -0.5165600273574967\n",
      "집 추정 위치 휴일 총 체류시간와 넷플릭스 사용일수의 상관계수 :  -0.43522179546463446\n",
      "■■■ 평일 총 이동 거리 합계 관련 상관계수 ■■■\n",
      "평일 총 이동 거리 합계와 성별의 상관계수 :  -0.6051422679487534\n",
      "평일 총 이동 거리 합계와 평균 출근 소요시간 평균의 상관계수 :  0.5213961720859933\n",
      "평일 총 이동 거리 합계와 평균 근무시간 평균의 상관계수 :  0.5058280995936933\n",
      "평일 총 이동 거리 합계와 SNS 사용횟수의 상관계수 :  0.6348491754357896\n",
      "평일 총 이동 거리 합계와 평균 통화대상자 수의 상관계수 :  0.6989299127264227\n",
      "평일 총 이동 거리 합계와 평균 문자대상자 수의 상관계수 :  0.6138829954151456\n",
      "평일 총 이동 거리 합계와 데이터 사용량의 상관계수 :  0.42859452792637176\n",
      "평일 총 이동 거리 합계와 평일 총 이동 횟수의 상관계수 :  0.8944773593410408\n",
      "평일 총 이동 거리 합계와 휴일 총 이동 횟수 평균의 상관계수 :  0.7977158684977375\n",
      "평일 총 이동 거리 합계와 집 추정 위치 평일 총 체류시간의 상관계수 :  -0.5330689823797372\n",
      "평일 총 이동 거리 합계와 집 추정 위치 휴일 총 체류시간의 상관계수 :  -0.4422431602901806\n",
      "평일 총 이동 거리 합계와 평일 총 이동 거리 합계의 상관계수 :  1.0\n",
      "평일 총 이동 거리 합계와 휴일 총 이동 거리 합계의 상관계수 :  0.8597215264108409\n",
      "평일 총 이동 거리 합계와 지하철이동일수 합계의 상관계수 :  0.8265852606988343\n",
      "평일 총 이동 거리 합계와 게임 서비스 사용일수의 상관계수 :  0.5863754993692633\n",
      "평일 총 이동 거리 합계와 금융 서비스 사용일수의 상관계수 :  0.5872471464456905\n",
      "평일 총 이동 거리 합계와 동영상/방송 서비스 사용일수의 상관계수 :  0.5640285003982579\n",
      "평일 총 이동 거리 합계와 유튜브 사용일수의 상관계수 :  0.5108279185420825\n",
      "■■■ 휴일 총 이동 거리 합계 관련 상관계수 ■■■\n",
      "휴일 총 이동 거리 합계와 연령대의 상관계수 :  -0.41944184386373423\n",
      "휴일 총 이동 거리 합계와 평균 출근 소요시간 평균의 상관계수 :  0.5487049159884875\n",
      "휴일 총 이동 거리 합계와 평균 근무시간 평균의 상관계수 :  0.5988326759651306\n",
      "휴일 총 이동 거리 합계와 SNS 사용횟수의 상관계수 :  0.6490123058262379\n",
      "휴일 총 이동 거리 합계와 평균 통화대상자 수의 상관계수 :  0.6008462499070241\n",
      "휴일 총 이동 거리 합계와 평균 문자대상자 수의 상관계수 :  0.6338361396162935\n",
      "휴일 총 이동 거리 합계와 데이터 사용량의 상관계수 :  0.4510945882123155\n",
      "휴일 총 이동 거리 합계와 평일 총 이동 횟수의 상관계수 :  0.8552390077477489\n",
      "휴일 총 이동 거리 합계와 휴일 총 이동 횟수 평균의 상관계수 :  0.9119890163645129\n",
      "휴일 총 이동 거리 합계와 집 추정 위치 평일 총 체류시간의 상관계수 :  -0.48495834479649663\n",
      "휴일 총 이동 거리 합계와 평일 총 이동 거리 합계의 상관계수 :  0.8597215264108409\n",
      "휴일 총 이동 거리 합계와 휴일 총 이동 거리 합계의 상관계수 :  0.9999999999999999\n",
      "휴일 총 이동 거리 합계와 지하철이동일수 합계의 상관계수 :  0.8081422096555363\n",
      "휴일 총 이동 거리 합계와 게임 서비스 사용일수의 상관계수 :  0.5080848131997712\n",
      "휴일 총 이동 거리 합계와 금융 서비스 사용일수의 상관계수 :  0.6251026382980515\n",
      "휴일 총 이동 거리 합계와 쇼핑 서비스 사용일수의 상관계수 :  0.5122816468906486\n",
      "휴일 총 이동 거리 합계와 동영상/방송 서비스 사용일수의 상관계수 :  0.5864679089467051\n",
      "휴일 총 이동 거리 합계와 유튜브 사용일수의 상관계수 :  0.557601138538437\n",
      "휴일 총 이동 거리 합계와 넷플릭스 사용일수의 상관계수 :  0.41077502214772105\n",
      "휴일 총 이동 거리 합계와 배달_브랜드 서비스 사용일수의 상관계수 :  0.4099997376858224\n",
      "■■■ 지하철이동일수 합계 관련 상관계수 ■■■\n",
      "지하철이동일수 합계와 연령대의 상관계수 :  -0.48803201139154906\n",
      "지하철이동일수 합계와 평균 출근 소요시간 평균의 상관계수 :  0.5174781767394409\n",
      "지하철이동일수 합계와 평균 근무시간 평균의 상관계수 :  0.5577633969684358\n",
      "지하철이동일수 합계와 SNS 사용횟수의 상관계수 :  0.6901275586030997\n",
      "지하철이동일수 합계와 평균 통화대상자 수의 상관계수 :  0.5248206886444744\n",
      "지하철이동일수 합계와 평균 문자대상자 수의 상관계수 :  0.5586918994341392\n",
      "지하철이동일수 합계와 데이터 사용량의 상관계수 :  0.5461808742236213\n",
      "지하철이동일수 합계와 평일 총 이동 횟수의 상관계수 :  0.9024212492276042\n",
      "지하철이동일수 합계와 휴일 총 이동 횟수 평균의 상관계수 :  0.8425128603091642\n",
      "지하철이동일수 합계와 집 추정 위치 평일 총 체류시간의 상관계수 :  -0.4225422192749892\n",
      "지하철이동일수 합계와 평일 총 이동 거리 합계의 상관계수 :  0.8265852606988343\n",
      "지하철이동일수 합계와 휴일 총 이동 거리 합계의 상관계수 :  0.8081422096555363\n",
      "지하철이동일수 합계와 지하철이동일수 합계의 상관계수 :  0.9999999999999999\n",
      "지하철이동일수 합계와 게임 서비스 사용일수의 상관계수 :  0.5583328354531767\n",
      "지하철이동일수 합계와 금융 서비스 사용일수의 상관계수 :  0.6475136025697829\n",
      "지하철이동일수 합계와 쇼핑 서비스 사용일수의 상관계수 :  0.49974351495358577\n",
      "지하철이동일수 합계와 동영상/방송 서비스 사용일수의 상관계수 :  0.6227521757580242\n",
      "지하철이동일수 합계와 유튜브 사용일수의 상관계수 :  0.6036029904905428\n",
      "지하철이동일수 합계와 넷플릭스 사용일수의 상관계수 :  0.46929921757706916\n",
      "■■■ 게임 서비스 사용일수 관련 상관계수 ■■■\n",
      "게임 서비스 사용일수와 성별의 상관계수 :  -0.5574406641424641\n",
      "게임 서비스 사용일수와 연령대의 상관계수 :  -0.6695070934024627\n",
      "게임 서비스 사용일수와 야간상주지 변경횟수 평균의 상관계수 :  0.5122748169841852\n",
      "게임 서비스 사용일수와 주간상주지 변경횟수 평균의 상관계수 :  0.6078470905460475\n",
      "게임 서비스 사용일수와 평균 출근 소요시간 평균의 상관계수 :  0.48981047261238064\n",
      "게임 서비스 사용일수와 평균 근무시간 평균의 상관계수 :  0.5056440015119931\n",
      "게임 서비스 사용일수와 SNS 사용횟수의 상관계수 :  0.8038332359796663\n",
      "게임 서비스 사용일수와 데이터 사용량의 상관계수 :  0.8347312471182381\n",
      "게임 서비스 사용일수와 평일 총 이동 횟수의 상관계수 :  0.5382322829487637\n",
      "게임 서비스 사용일수와 휴일 총 이동 횟수 평균의 상관계수 :  0.5068106171148541\n",
      "게임 서비스 사용일수와 집 추정 위치 평일 총 체류시간의 상관계수 :  -0.5353214353847482\n",
      "게임 서비스 사용일수와 집 추정 위치 휴일 총 체류시간의 상관계수 :  -0.40795209353667833\n",
      "게임 서비스 사용일수와 평일 총 이동 거리 합계의 상관계수 :  0.5863754993692631\n",
      "게임 서비스 사용일수와 휴일 총 이동 거리 합계의 상관계수 :  0.5080848131997712\n",
      "게임 서비스 사용일수와 지하철이동일수 합계의 상관계수 :  0.5583328354531767\n",
      "게임 서비스 사용일수와 게임 서비스 사용일수의 상관계수 :  1.0\n",
      "게임 서비스 사용일수와 금융 서비스 사용일수의 상관계수 :  0.7766241722389895\n",
      "게임 서비스 사용일수와 쇼핑 서비스 사용일수의 상관계수 :  0.5599626074170707\n",
      "게임 서비스 사용일수와 동영상/방송 서비스 사용일수의 상관계수 :  0.8504791731127522\n",
      "게임 서비스 사용일수와 유튜브 사용일수의 상관계수 :  0.7560070736886594\n",
      "게임 서비스 사용일수와 넷플릭스 사용일수의 상관계수 :  0.6383242019958727\n",
      "게임 서비스 사용일수와 배달 서비스 사용일수의 상관계수 :  0.5486439125121318\n",
      "■■■ 금융 서비스 사용일수 관련 상관계수 ■■■\n",
      "금융 서비스 사용일수와 연령대의 상관계수 :  -0.803360551774718\n",
      "금융 서비스 사용일수와 야간상주지 변경횟수 평균의 상관계수 :  0.45134179571090866\n",
      "금융 서비스 사용일수와 주간상주지 변경횟수 평균의 상관계수 :  0.5776383245997525\n",
      "금융 서비스 사용일수와 평균 출근 소요시간 평균의 상관계수 :  0.5533477824713545\n",
      "금융 서비스 사용일수와 평균 근무시간 평균의 상관계수 :  0.6518949418341828\n",
      "금융 서비스 사용일수와 SNS 사용횟수의 상관계수 :  0.8580535136052146\n",
      "금융 서비스 사용일수와 평균 통화량의 상관계수 :  0.4205991021170994\n",
      "금융 서비스 사용일수와 평균 문자대상자 수의 상관계수 :  0.632285381882\n",
      "금융 서비스 사용일수와 데이터 사용량의 상관계수 :  0.7867300225321647\n",
      "금융 서비스 사용일수와 평일 총 이동 횟수의 상관계수 :  0.6561165186811221\n",
      "금융 서비스 사용일수와 휴일 총 이동 횟수 평균의 상관계수 :  0.60513446223138\n",
      "금융 서비스 사용일수와 집 추정 위치 평일 총 체류시간의 상관계수 :  -0.6274007525723384\n",
      "금융 서비스 사용일수와 집 추정 위치 휴일 총 체류시간의 상관계수 :  -0.5217578501472785\n",
      "금융 서비스 사용일수와 평일 총 이동 거리 합계의 상관계수 :  0.5872471464456905\n",
      "금융 서비스 사용일수와 휴일 총 이동 거리 합계의 상관계수 :  0.6251026382980513\n",
      "금융 서비스 사용일수와 지하철이동일수 합계의 상관계수 :  0.6475136025697829\n",
      "금융 서비스 사용일수와 게임 서비스 사용일수의 상관계수 :  0.7766241722389895\n",
      "금융 서비스 사용일수와 금융 서비스 사용일수의 상관계수 :  1.0\n",
      "금융 서비스 사용일수와 쇼핑 서비스 사용일수의 상관계수 :  0.9099822921959503\n",
      "금융 서비스 사용일수와 동영상/방송 서비스 사용일수의 상관계수 :  0.9410926820319812\n",
      "금융 서비스 사용일수와 유튜브 사용일수의 상관계수 :  0.7839225606999665\n",
      "금융 서비스 사용일수와 넷플릭스 사용일수의 상관계수 :  0.8239593226324207\n",
      "금융 서비스 사용일수와 배달 서비스 사용일수의 상관계수 :  0.6530128370872665\n",
      "금융 서비스 사용일수와 배달_브랜드 서비스 사용일수의 상관계수 :  0.4548095424723223\n",
      "금융 서비스 사용일수와 배달_식재료 서비스 사용일수의 상관계수 :  0.4688897836325312\n",
      "■■■ 쇼핑 서비스 사용일수 관련 상관계수 ■■■\n",
      "쇼핑 서비스 사용일수와 연령대의 상관계수 :  -0.7624372751801265\n",
      "쇼핑 서비스 사용일수와 주간상주지 변경횟수 평균의 상관계수 :  0.5256444324633672\n",
      "쇼핑 서비스 사용일수와 평균 출근 소요시간 평균의 상관계수 :  0.5037163608002914\n",
      "쇼핑 서비스 사용일수와 평균 근무시간 평균의 상관계수 :  0.6190507738936715\n",
      "쇼핑 서비스 사용일수와 SNS 사용횟수의 상관계수 :  0.6916229964094067\n",
      "쇼핑 서비스 사용일수와 평균 통화량의 상관계수 :  0.40346303117349236\n",
      "쇼핑 서비스 사용일수와 평균 문자대상자 수의 상관계수 :  0.6154276344462565\n",
      "쇼핑 서비스 사용일수와 데이터 사용량의 상관계수 :  0.6216308365415423\n",
      "쇼핑 서비스 사용일수와 평일 총 이동 횟수의 상관계수 :  0.5102533308410729\n",
      "쇼핑 서비스 사용일수와 휴일 총 이동 횟수 평균의 상관계수 :  0.4947358832450514\n",
      "쇼핑 서비스 사용일수와 집 추정 위치 평일 총 체류시간의 상관계수 :  -0.5487195581686315\n",
      "쇼핑 서비스 사용일수와 집 추정 위치 휴일 총 체류시간의 상관계수 :  -0.457511141309074\n",
      "쇼핑 서비스 사용일수와 휴일 총 이동 거리 합계의 상관계수 :  0.5122816468906486\n",
      "쇼핑 서비스 사용일수와 지하철이동일수 합계의 상관계수 :  0.49974351495358577\n",
      "쇼핑 서비스 사용일수와 게임 서비스 사용일수의 상관계수 :  0.5599626074170707\n",
      "쇼핑 서비스 사용일수와 금융 서비스 사용일수의 상관계수 :  0.9099822921959502\n",
      "쇼핑 서비스 사용일수와 쇼핑 서비스 사용일수의 상관계수 :  1.0\n",
      "쇼핑 서비스 사용일수와 동영상/방송 서비스 사용일수의 상관계수 :  0.8132392752232886\n",
      "쇼핑 서비스 사용일수와 유튜브 사용일수의 상관계수 :  0.6687946978987058\n",
      "쇼핑 서비스 사용일수와 넷플릭스 사용일수의 상관계수 :  0.7825433617267714\n",
      "쇼핑 서비스 사용일수와 배달 서비스 사용일수의 상관계수 :  0.6382151143944635\n",
      "쇼핑 서비스 사용일수와 배달_브랜드 서비스 사용일수의 상관계수 :  0.43271972794516994\n",
      "쇼핑 서비스 사용일수와 배달_식재료 서비스 사용일수의 상관계수 :  0.4857827570214942\n",
      "■■■ 동영상/방송 서비스 사용일수 관련 상관계수 ■■■\n",
      "동영상/방송 서비스 사용일수와 연령대의 상관계수 :  -0.8354352121655493\n",
      "동영상/방송 서비스 사용일수와 야간상주지 변경횟수 평균의 상관계수 :  0.5429217638847323\n",
      "동영상/방송 서비스 사용일수와 주간상주지 변경횟수 평균의 상관계수 :  0.6472478160247831\n",
      "동영상/방송 서비스 사용일수와 평균 출근 소요시간 평균의 상관계수 :  0.5267610849300572\n",
      "동영상/방송 서비스 사용일수와 평균 근무시간 평균의 상관계수 :  0.6059966193920527\n",
      "동영상/방송 서비스 사용일수와 SNS 사용횟수의 상관계수 :  0.8983490746282564\n",
      "동영상/방송 서비스 사용일수와 평균 문자대상자 수의 상관계수 :  0.47703450920744744\n",
      "동영상/방송 서비스 사용일수와 데이터 사용량의 상관계수 :  0.8874665554442742\n",
      "동영상/방송 서비스 사용일수와 평일 총 이동 횟수의 상관계수 :  0.5959038207799969\n",
      "동영상/방송 서비스 사용일수와 휴일 총 이동 횟수 평균의 상관계수 :  0.5893037574599309\n",
      "동영상/방송 서비스 사용일수와 집 추정 위치 평일 총 체류시간의 상관계수 :  -0.6082200057386892\n",
      "동영상/방송 서비스 사용일수와 집 추정 위치 휴일 총 체류시간의 상관계수 :  -0.49612850616829673\n",
      "동영상/방송 서비스 사용일수와 평일 총 이동 거리 합계의 상관계수 :  0.5640285003982579\n",
      "동영상/방송 서비스 사용일수와 휴일 총 이동 거리 합계의 상관계수 :  0.5864679089467051\n",
      "동영상/방송 서비스 사용일수와 지하철이동일수 합계의 상관계수 :  0.6227521757580242\n",
      "동영상/방송 서비스 사용일수와 게임 서비스 사용일수의 상관계수 :  0.8504791731127522\n",
      "동영상/방송 서비스 사용일수와 금융 서비스 사용일수의 상관계수 :  0.941092682031981\n",
      "동영상/방송 서비스 사용일수와 쇼핑 서비스 사용일수의 상관계수 :  0.8132392752232886\n",
      "동영상/방송 서비스 사용일수와 동영상/방송 서비스 사용일수의 상관계수 :  1.0\n",
      "동영상/방송 서비스 사용일수와 유튜브 사용일수의 상관계수 :  0.8321074250171617\n",
      "동영상/방송 서비스 사용일수와 넷플릭스 사용일수의 상관계수 :  0.8485516679575142\n",
      "동영상/방송 서비스 사용일수와 배달 서비스 사용일수의 상관계수 :  0.6921885775775575\n",
      "동영상/방송 서비스 사용일수와 배달_브랜드 서비스 사용일수의 상관계수 :  0.424219867531137\n",
      "동영상/방송 서비스 사용일수와 배달_식재료 서비스 사용일수의 상관계수 :  0.40984453770359885\n",
      "■■■ 유튜브 사용일수 관련 상관계수 ■■■\n",
      "유튜브 사용일수와 연령대의 상관계수 :  -0.8966915484404699\n",
      "유튜브 사용일수와 야간상주지 변경횟수 평균의 상관계수 :  0.6256897513956506\n",
      "유튜브 사용일수와 주간상주지 변경횟수 평균의 상관계수 :  0.834350304289137\n",
      "유튜브 사용일수와 평균 출근 소요시간 평균의 상관계수 :  0.621033014964712\n",
      "유튜브 사용일수와 평균 근무시간 평균의 상관계수 :  0.6930884586676057\n",
      "유튜브 사용일수와 카카오톡 비사용 인구수의 상관계수 :  -0.6201011614510381\n",
      "유튜브 사용일수와 SNS 사용횟수의 상관계수 :  0.8833063344835339\n",
      "유튜브 사용일수와 평균 통화량의 상관계수 :  0.4460931807461656\n",
      "유튜브 사용일수와 평균 문자대상자 수의 상관계수 :  0.4219585611896157\n",
      "유튜브 사용일수와 데이터 사용량의 상관계수 :  0.8492572887090684\n",
      "유튜브 사용일수와 평일 총 이동 횟수의 상관계수 :  0.6061395034760997\n",
      "유튜브 사용일수와 휴일 총 이동 횟수 평균의 상관계수 :  0.6206819965156739\n",
      "유튜브 사용일수와 집 추정 위치 평일 총 체류시간의 상관계수 :  -0.5845000052680295\n",
      "유튜브 사용일수와 집 추정 위치 휴일 총 체류시간의 상관계수 :  -0.5165600273574967\n",
      "유튜브 사용일수와 평일 총 이동 거리 합계의 상관계수 :  0.5108279185420825\n",
      "유튜브 사용일수와 휴일 총 이동 거리 합계의 상관계수 :  0.557601138538437\n",
      "유튜브 사용일수와 지하철이동일수 합계의 상관계수 :  0.6036029904905429\n",
      "유튜브 사용일수와 게임 서비스 사용일수의 상관계수 :  0.7560070736886594\n",
      "유튜브 사용일수와 금융 서비스 사용일수의 상관계수 :  0.7839225606999665\n",
      "유튜브 사용일수와 쇼핑 서비스 사용일수의 상관계수 :  0.6687946978987058\n",
      "유튜브 사용일수와 동영상/방송 서비스 사용일수의 상관계수 :  0.8321074250171617\n",
      "유튜브 사용일수와 유튜브 사용일수의 상관계수 :  0.9999999999999999\n",
      "유튜브 사용일수와 넷플릭스 사용일수의 상관계수 :  0.8538114576948772\n",
      "유튜브 사용일수와 배달 서비스 사용일수의 상관계수 :  0.5754613696122248\n",
      "유튜브 사용일수와 배달_식재료 서비스 사용일수의 상관계수 :  0.4612951302725978\n",
      "■■■ 넷플릭스 사용일수 관련 상관계수 ■■■\n",
      "넷플릭스 사용일수와 연령대의 상관계수 :  -0.9575031268266847\n",
      "넷플릭스 사용일수와 야간상주지 변경횟수 평균의 상관계수 :  0.6277055092557855\n",
      "넷플릭스 사용일수와 주간상주지 변경횟수 평균의 상관계수 :  0.7255742755550041\n",
      "넷플릭스 사용일수와 평균 출근 소요시간 평균의 상관계수 :  0.4459886073969705\n",
      "넷플릭스 사용일수와 평균 근무시간 평균의 상관계수 :  0.5444197565211425\n",
      "넷플릭스 사용일수와 카카오톡 비사용 인구수의 상관계수 :  -0.40792778265294705\n",
      "넷플릭스 사용일수와 SNS 사용횟수의 상관계수 :  0.7890428045133941\n",
      "넷플릭스 사용일수와 데이터 사용량의 상관계수 :  0.8707511944572485\n",
      "넷플릭스 사용일수와 평일 총 이동 횟수의 상관계수 :  0.43214531856944083\n",
      "넷플릭스 사용일수와 휴일 총 이동 횟수 평균의 상관계수 :  0.4792381117852721\n",
      "넷플릭스 사용일수와 집 추정 위치 평일 총 체류시간의 상관계수 :  -0.4690559795717176\n",
      "넷플릭스 사용일수와 집 추정 위치 휴일 총 체류시간의 상관계수 :  -0.43522179546463446\n",
      "넷플릭스 사용일수와 휴일 총 이동 거리 합계의 상관계수 :  0.41077502214772105\n",
      "넷플릭스 사용일수와 지하철이동일수 합계의 상관계수 :  0.46929921757706916\n",
      "넷플릭스 사용일수와 게임 서비스 사용일수의 상관계수 :  0.6383242019958728\n",
      "넷플릭스 사용일수와 금융 서비스 사용일수의 상관계수 :  0.8239593226324207\n",
      "넷플릭스 사용일수와 쇼핑 서비스 사용일수의 상관계수 :  0.7825433617267714\n",
      "넷플릭스 사용일수와 동영상/방송 서비스 사용일수의 상관계수 :  0.8485516679575142\n",
      "넷플릭스 사용일수와 유튜브 사용일수의 상관계수 :  0.8538114576948771\n",
      "넷플릭스 사용일수와 넷플릭스 사용일수의 상관계수 :  1.0\n",
      "넷플릭스 사용일수와 배달 서비스 사용일수의 상관계수 :  0.7136427279892608\n",
      "넷플릭스 사용일수와 배달_식재료 서비스 사용일수의 상관계수 :  0.43020215037028114\n",
      "■■■ 배달 서비스 사용일수 관련 상관계수 ■■■\n",
      "배달 서비스 사용일수와 연령대의 상관계수 :  -0.6783170749809524\n",
      "배달 서비스 사용일수와 야간상주지 변경횟수 평균의 상관계수 :  0.4643845656941073\n",
      "배달 서비스 사용일수와 주간상주지 변경횟수 평균의 상관계수 :  0.5040544662278575\n",
      "배달 서비스 사용일수와 SNS 사용횟수의 상관계수 :  0.6143784708119107\n",
      "배달 서비스 사용일수와 데이터 사용량의 상관계수 :  0.6994186167418385\n",
      "배달 서비스 사용일수와 게임 서비스 사용일수의 상관계수 :  0.548643912512132\n",
      "배달 서비스 사용일수와 금융 서비스 사용일수의 상관계수 :  0.6530128370872665\n",
      "배달 서비스 사용일수와 쇼핑 서비스 사용일수의 상관계수 :  0.6382151143944634\n",
      "배달 서비스 사용일수와 동영상/방송 서비스 사용일수의 상관계수 :  0.6921885775775575\n",
      "배달 서비스 사용일수와 유튜브 사용일수의 상관계수 :  0.5754613696122248\n",
      "배달 서비스 사용일수와 넷플릭스 사용일수의 상관계수 :  0.7136427279892609\n",
      "배달 서비스 사용일수와 배달 서비스 사용일수의 상관계수 :  1.0\n",
      "■■■ 배달_브랜드 서비스 사용일수 관련 상관계수 ■■■\n",
      "배달_브랜드 서비스 사용일수와 휴일 총 이동 거리 합계의 상관계수 :  0.4099997376858224\n",
      "배달_브랜드 서비스 사용일수와 금융 서비스 사용일수의 상관계수 :  0.4548095424723223\n",
      "배달_브랜드 서비스 사용일수와 쇼핑 서비스 사용일수의 상관계수 :  0.43271972794516994\n",
      "배달_브랜드 서비스 사용일수와 동영상/방송 서비스 사용일수의 상관계수 :  0.42421986753113705\n",
      "배달_브랜드 서비스 사용일수와 배달_브랜드 서비스 사용일수의 상관계수 :  1.0\n",
      "■■■ 배달_식재료 서비스 사용일수 관련 상관계수 ■■■\n",
      "배달_식재료 서비스 사용일수와 연령대의 상관계수 :  -0.4673733071957038\n",
      "배달_식재료 서비스 사용일수와 주간상주지 변경횟수 평균의 상관계수 :  0.431784184357115\n",
      "배달_식재료 서비스 사용일수와 평균 출근 소요시간 평균의 상관계수 :  0.4192518239507672\n",
      "배달_식재료 서비스 사용일수와 평균 근무시간 평균의 상관계수 :  0.4879907081045986\n",
      "배달_식재료 서비스 사용일수와 SNS 사용횟수의 상관계수 :  0.4071930041470925\n",
      "배달_식재료 서비스 사용일수와 평균 통화량의 상관계수 :  0.41932205512560533\n",
      "배달_식재료 서비스 사용일수와 금융 서비스 사용일수의 상관계수 :  0.46888978363253114\n",
      "배달_식재료 서비스 사용일수와 쇼핑 서비스 사용일수의 상관계수 :  0.48578275702149415\n",
      "배달_식재료 서비스 사용일수와 동영상/방송 서비스 사용일수의 상관계수 :  0.40984453770359885\n",
      "배달_식재료 서비스 사용일수와 유튜브 사용일수의 상관계수 :  0.4612951302725978\n",
      "배달_식재료 서비스 사용일수와 넷플릭스 사용일수의 상관계수 :  0.4302021503702812\n",
      "배달_식재료 서비스 사용일수와 배달_식재료 서비스 사용일수의 상관계수 :  0.9999999999999998\n",
      "■■■ 월 관련 상관계수 ■■■\n",
      "월와 최근 3개월 내 요금 연체 비율의 상관계수 :  -0.4778834506316183\n",
      "월와 월의 상관계수 :  1.0\n"
     ]
    }
   ],
   "source": [
    "# 함수 실행\n",
    "## 연령대 선택\n",
    "age = 20\n",
    "## 상관계수 산출 함수 실행\n",
    "corr_of_two_columns(data_tele_ttl, 40)"
   ]
  },
  {
   "cell_type": "markdown",
   "id": "45c6d6a5-39e5-4eb4-8f46-b1441f6651bc",
   "metadata": {},
   "source": [
    "# 데이터 전처리"
   ]
  },
  {
   "cell_type": "markdown",
   "id": "47fc0ebf-ac75-416d-b7fb-45ffaa5fa4dd",
   "metadata": {},
   "source": [
    "## 이상치 제거 : 4분위수 기준  \n",
    "https://jimmy-ai.tistory.com/260"
   ]
  },
  {
   "cell_type": "code",
   "execution_count": 90,
   "id": "e3aac914-cd7f-4d35-b303-0c41680888bf",
   "metadata": {
    "collapsed": true,
    "jupyter": {
     "outputs_hidden": true
    },
    "tags": []
   },
   "outputs": [
    {
     "name": "stdin",
     "output_type": "stream",
     "text": [
      "칼럼 번호를 입력해주세요 ffff\n"
     ]
    },
    {
     "ename": "ValueError",
     "evalue": "invalid literal for int() with base 10: 'ffff'",
     "output_type": "error",
     "traceback": [
      "\u001b[1;31m---------------------------------------------------------------------------\u001b[0m",
      "\u001b[1;31mValueError\u001b[0m                                Traceback (most recent call last)",
      "\u001b[1;32m~\\AppData\\Local\\Temp\\ipykernel_8840\\1304753594.py\u001b[0m in \u001b[0;36m<module>\u001b[1;34m\u001b[0m\n\u001b[0;32m      3\u001b[0m \u001b[1;32mimport\u001b[0m \u001b[0mmatplotlib\u001b[0m\u001b[1;33m.\u001b[0m\u001b[0mpyplot\u001b[0m \u001b[1;32mas\u001b[0m \u001b[0mplt\u001b[0m\u001b[1;33m\u001b[0m\u001b[1;33m\u001b[0m\u001b[0m\n\u001b[0;32m      4\u001b[0m \u001b[1;33m\u001b[0m\u001b[0m\n\u001b[1;32m----> 5\u001b[1;33m \u001b[0mcolname\u001b[0m \u001b[1;33m=\u001b[0m \u001b[0mdata_tele_ttl\u001b[0m\u001b[1;33m.\u001b[0m\u001b[0mcolumns\u001b[0m\u001b[1;33m[\u001b[0m\u001b[0mint\u001b[0m\u001b[1;33m(\u001b[0m\u001b[0minput\u001b[0m\u001b[1;33m(\u001b[0m\u001b[1;34m'칼럼 번호를 입력해주세요'\u001b[0m\u001b[1;33m)\u001b[0m\u001b[1;33m)\u001b[0m\u001b[1;33m+\u001b[0m\u001b[1;36m1\u001b[0m\u001b[1;33m]\u001b[0m\u001b[1;33m\u001b[0m\u001b[1;33m\u001b[0m\u001b[0m\n\u001b[0m\u001b[0;32m      6\u001b[0m \u001b[0mprint\u001b[0m\u001b[1;33m(\u001b[0m\u001b[1;34mf'칼럼명 : {colname}'\u001b[0m\u001b[1;33m)\u001b[0m\u001b[1;33m\u001b[0m\u001b[1;33m\u001b[0m\u001b[0m\n\u001b[0;32m      7\u001b[0m \u001b[1;33m\u001b[0m\u001b[0m\n",
      "\u001b[1;31mValueError\u001b[0m: invalid literal for int() with base 10: 'ffff'"
     ]
    }
   ],
   "source": [
    "# BOXPLOT 사용한 이상치 탐색\n",
    "import matplotlib as mlt\n",
    "import matplotlib.pyplot as plt\n",
    "\n",
    "colname = data_tele_ttl.columns[int(input('칼럼 번호를 입력해주세요'))+1]\n",
    "print(f'칼럼명 : {colname}')\n",
    "\n",
    "fig, ax = plt.subplots()\n",
    "ax.boxplot(data_tele_ttl[colname])\n",
    "ax.get_xlabel = colname\n",
    "plt.show()"
   ]
  },
  {
   "cell_type": "code",
   "execution_count": 83,
   "id": "63f214b4-f09e-421b-9740-be4469bb0c24",
   "metadata": {
    "tags": []
   },
   "outputs": [],
   "source": [
    "# IQR 방식 적용한 이상치 탐색\n",
    "# 반환값 : 이상치 인덱스\n",
    "\n",
    "def outlier_iqr_exp(df, weight=1.5, columns=None):\n",
    "    '''\n",
    "    함수 설명\n",
    "    * IQR 기법을 통한 이상치 탐색\n",
    "    * 이상치 값이 있는 인덱스를 반환합니다.\n",
    "    \n",
    "    파라미터 설명\n",
    "    * df : 이상치를 탐색할 데이터프레임\n",
    "    * weight : float, default:1.5\n",
    "    '''\n",
    "    \n",
    "    outlier_index_set = set()\n",
    "    \n",
    "    for i in columns:\n",
    "        try:\n",
    "            if df[i].dtype == 'object':\n",
    "                continue\n",
    "            else:\n",
    "                q3 = df[i].quantile(0.75)\n",
    "                q1 = df[i].quantile(0.25)\n",
    "                iqr = q3 - q1\n",
    "                outlier_q1_under = df[i][df[i] < q1 - (weight * iqr)]\n",
    "                outlier_q3_over = df[i][df[i] > q3 + (weight * iqr)]\n",
    "                count = int(outlier_q1_under.count()) + int(outlier_q3_over.count())\n",
    "                if count > 0:\n",
    "                    print(f'{i} 이상치 개수 : {count}')\n",
    "                    outlier_index_set = outlier_index_set.union(set(outlier_q1_under.index))\n",
    "                    outlier_index_set = outlier_index_set.union(set(outlier_q3_over.index))\n",
    "        except:\n",
    "            continue\n",
    "        \n",
    "    return list(outlier_index_set)"
   ]
  },
  {
   "cell_type": "code",
   "execution_count": 85,
   "id": "e3fb7b39-203b-444b-a90c-c27fdb6429a3",
   "metadata": {},
   "outputs": [],
   "source": [
    "# IQR 방식의 이상치 제거 방식\n",
    "def outlier_iqr_remove(df, weight=1.5, columns=None):\n",
    "    outlier_index_list = outlier_iqr_exp(df, 0, columns=None)\n",
    "    print(f'== 제거 전 index 수 : {df[df.columns[0]].count()} ==')\n",
    "    df2 = df.drop(outlier_index_list)\n",
    "    print(f'== 제거된 index 수 : {len(outlier_index_list)} ==')\n",
    "    print(f'== 제거 후 index 수 : {df2[df2.columns[0]].count()} ==')\n",
    "    return df2"
   ]
  },
  {
   "cell_type": "code",
   "execution_count": 86,
   "id": "f76453c9-7f7c-497f-81c9-98ad620ff7a0",
   "metadata": {
    "collapsed": true,
    "jupyter": {
     "outputs_hidden": true
    },
    "tags": []
   },
   "outputs": [
    {
     "ename": "TypeError",
     "evalue": "'NoneType' object is not iterable",
     "output_type": "error",
     "traceback": [
      "\u001b[1;31m---------------------------------------------------------------------------\u001b[0m",
      "\u001b[1;31mTypeError\u001b[0m                                 Traceback (most recent call last)",
      "\u001b[1;32m~\\AppData\\Local\\Temp\\ipykernel_8840\\1559044471.py\u001b[0m in \u001b[0;36m<module>\u001b[1;34m\u001b[0m\n\u001b[0;32m      2\u001b[0m \u001b[1;31m## 근데.. 계속 진행하면 계속 이상치가 나오는데?\u001b[0m\u001b[1;33m\u001b[0m\u001b[1;33m\u001b[0m\u001b[0m\n\u001b[0;32m      3\u001b[0m \u001b[0mcolumns\u001b[0m \u001b[1;33m=\u001b[0m \u001b[1;33m[\u001b[0m\u001b[1;34m'데이터 사용량'\u001b[0m\u001b[1;33m]\u001b[0m\u001b[1;33m\u001b[0m\u001b[1;33m\u001b[0m\u001b[0m\n\u001b[1;32m----> 4\u001b[1;33m \u001b[0mdata_tele_iqred\u001b[0m \u001b[1;33m=\u001b[0m \u001b[0moutlier_iqr_remove\u001b[0m\u001b[1;33m(\u001b[0m\u001b[0mdata_tele_ttl\u001b[0m\u001b[1;33m,\u001b[0m \u001b[1;36m0\u001b[0m\u001b[1;33m,\u001b[0m \u001b[0mcolumns\u001b[0m\u001b[1;33m)\u001b[0m\u001b[1;33m\u001b[0m\u001b[1;33m\u001b[0m\u001b[0m\n\u001b[0m\u001b[0;32m      5\u001b[0m \u001b[0mdata_tele_iqred\u001b[0m\u001b[1;33m.\u001b[0m\u001b[0mreset_index\u001b[0m\u001b[1;33m(\u001b[0m\u001b[0mdrop\u001b[0m\u001b[1;33m=\u001b[0m\u001b[1;32mTrue\u001b[0m\u001b[1;33m,\u001b[0m \u001b[0minplace\u001b[0m\u001b[1;33m=\u001b[0m\u001b[1;32mTrue\u001b[0m\u001b[1;33m)\u001b[0m\u001b[1;33m\u001b[0m\u001b[1;33m\u001b[0m\u001b[0m\n\u001b[0;32m      6\u001b[0m \u001b[0mdata_tele_iqred\u001b[0m\u001b[1;33m\u001b[0m\u001b[1;33m\u001b[0m\u001b[0m\n",
      "\u001b[1;32m~\\AppData\\Local\\Temp\\ipykernel_8840\\1914890512.py\u001b[0m in \u001b[0;36moutlier_iqr_remove\u001b[1;34m(df, weight, columns)\u001b[0m\n\u001b[0;32m      1\u001b[0m \u001b[1;31m# IQR 방식의 이상치 제거 방식\u001b[0m\u001b[1;33m\u001b[0m\u001b[1;33m\u001b[0m\u001b[0m\n\u001b[0;32m      2\u001b[0m \u001b[1;32mdef\u001b[0m \u001b[0moutlier_iqr_remove\u001b[0m\u001b[1;33m(\u001b[0m\u001b[0mdf\u001b[0m\u001b[1;33m,\u001b[0m \u001b[0mweight\u001b[0m\u001b[1;33m=\u001b[0m\u001b[1;36m1.5\u001b[0m\u001b[1;33m,\u001b[0m \u001b[0mcolumns\u001b[0m\u001b[1;33m=\u001b[0m\u001b[1;32mNone\u001b[0m\u001b[1;33m)\u001b[0m\u001b[1;33m:\u001b[0m\u001b[1;33m\u001b[0m\u001b[1;33m\u001b[0m\u001b[0m\n\u001b[1;32m----> 3\u001b[1;33m     \u001b[0moutlier_index_list\u001b[0m \u001b[1;33m=\u001b[0m \u001b[0moutlier_iqr_exp\u001b[0m\u001b[1;33m(\u001b[0m\u001b[0mdf\u001b[0m\u001b[1;33m,\u001b[0m \u001b[1;36m0\u001b[0m\u001b[1;33m,\u001b[0m \u001b[0mcolumns\u001b[0m\u001b[1;33m=\u001b[0m\u001b[1;32mNone\u001b[0m\u001b[1;33m)\u001b[0m\u001b[1;33m\u001b[0m\u001b[1;33m\u001b[0m\u001b[0m\n\u001b[0m\u001b[0;32m      4\u001b[0m     \u001b[0mprint\u001b[0m\u001b[1;33m(\u001b[0m\u001b[1;34mf'== 제거 전 index 수 : {df[df.columns[0]].count()} =='\u001b[0m\u001b[1;33m)\u001b[0m\u001b[1;33m\u001b[0m\u001b[1;33m\u001b[0m\u001b[0m\n\u001b[0;32m      5\u001b[0m     \u001b[0mdf2\u001b[0m \u001b[1;33m=\u001b[0m \u001b[0mdf\u001b[0m\u001b[1;33m.\u001b[0m\u001b[0mdrop\u001b[0m\u001b[1;33m(\u001b[0m\u001b[0moutlier_index_list\u001b[0m\u001b[1;33m)\u001b[0m\u001b[1;33m\u001b[0m\u001b[1;33m\u001b[0m\u001b[0m\n",
      "\u001b[1;32m~\\AppData\\Local\\Temp\\ipykernel_8840\\2916936335.py\u001b[0m in \u001b[0;36moutlier_iqr_exp\u001b[1;34m(df, weight, columns)\u001b[0m\n\u001b[0;32m     15\u001b[0m     \u001b[0moutlier_index_set\u001b[0m \u001b[1;33m=\u001b[0m \u001b[0mset\u001b[0m\u001b[1;33m(\u001b[0m\u001b[1;33m)\u001b[0m\u001b[1;33m\u001b[0m\u001b[1;33m\u001b[0m\u001b[0m\n\u001b[0;32m     16\u001b[0m \u001b[1;33m\u001b[0m\u001b[0m\n\u001b[1;32m---> 17\u001b[1;33m     \u001b[1;32mfor\u001b[0m \u001b[0mi\u001b[0m \u001b[1;32min\u001b[0m \u001b[0mcolumns\u001b[0m\u001b[1;33m:\u001b[0m\u001b[1;33m\u001b[0m\u001b[1;33m\u001b[0m\u001b[0m\n\u001b[0m\u001b[0;32m     18\u001b[0m         \u001b[1;32mtry\u001b[0m\u001b[1;33m:\u001b[0m\u001b[1;33m\u001b[0m\u001b[1;33m\u001b[0m\u001b[0m\n\u001b[0;32m     19\u001b[0m             \u001b[1;32mif\u001b[0m \u001b[0mdf\u001b[0m\u001b[1;33m[\u001b[0m\u001b[0mi\u001b[0m\u001b[1;33m]\u001b[0m\u001b[1;33m.\u001b[0m\u001b[0mdtype\u001b[0m \u001b[1;33m==\u001b[0m \u001b[1;34m'object'\u001b[0m\u001b[1;33m:\u001b[0m\u001b[1;33m\u001b[0m\u001b[1;33m\u001b[0m\u001b[0m\n",
      "\u001b[1;31mTypeError\u001b[0m: 'NoneType' object is not iterable"
     ]
    }
   ],
   "source": [
    "# IQR 방식의 이상치 제거 진행, 인덱스 초기화\n",
    "## 근데.. 계속 진행하면 계속 이상치가 나오는데?\n",
    "columns = ['데이터 사용량']\n",
    "data_tele_iqred = outlier_iqr_remove(data_tele_ttl, 0, columns)\n",
    "data_tele_iqred.reset_index(drop=True, inplace=True)\n",
    "data_tele_iqred"
   ]
  },
  {
   "cell_type": "code",
   "execution_count": 2,
   "id": "954167a6-16a8-407d-b802-2f02b4beb3fb",
   "metadata": {
    "tags": []
   },
   "outputs": [
    {
     "name": "stdout",
     "output_type": "stream",
     "text": [
      "== 제거 전 index 수 : 91584 ==\n",
      "== 제거된 index 수 : 21369 ==\n",
      "== 제거 후 index 수 : 70215 ==\n",
      "이상치 제거 전 : 91584, 이상치 제거 후 : 70215\n"
     ]
    }
   ],
   "source": [
    "# IQR 방식 이상치 제거 (기현)\n",
    "# 백분위 75%  ~백분위 25% 만 (weight로 조절 가능)\n",
    "def get_outlier(df=None, column=None, weight=1.5):\n",
    "    import numpy as np\n",
    "    age_group_list = [20,30,40,50,60,70]\n",
    "    outlier_index_set = set()\n",
    "    \n",
    "    # 인덱스 리셋\n",
    "    data_tele_ttl.reset_index(drop=True, inplace=True)\n",
    "    \n",
    "    for age_group in age_group_list:\n",
    "        # fraud에 해당하는 column 데이터만 추출, 1/4 분위와 3/4 분위 지점을 np.percentile로 구함. \n",
    "        fraud = df[df['연령대']==age_group][column]\n",
    "        quantile_25 = np.percentile(fraud.values, 25)\n",
    "        quantile_75 = np.percentile(fraud.values, 75)\n",
    "        iqr = quantile_75 - quantile_25\n",
    "        iqr_weight = iqr * weight\n",
    "        lowest_val = quantile_25 - iqr_weight\n",
    "        highest_val = quantile_75 + iqr_weight\n",
    "        # 최대값 보다 크거나, 최소값 보다 작은 값을 아웃라이어로 설정하고 DataFrame index 반환. \n",
    "        outlier_index_set = outlier_index_set | set(fraud[(fraud < lowest_val) | (fraud > highest_val)].index)\n",
    "        \n",
    "    return outlier_index_set\n",
    "\n",
    "def remove_outlier(df_in=None,column_list=None, weight=1.5):\n",
    "    outlier_index_set = set()\n",
    "    df = df_in.copy() # 원본데이터 보존\n",
    "    print(f'== 제거 전 index 수 : {df[df.columns[0]].count()} ==')\n",
    "    for column_name in column_list:\n",
    "        outlier_index = get_outlier(df=df, column=column_name, weight=weight)\n",
    "        outlier_index_set = outlier_index_set | outlier_index\n",
    "        print(f'== 제거된 index 수 : {len(list(outlier_index))} ==')\n",
    "        \n",
    "    df.drop(list(outlier_index_set), inplace=True)\n",
    "    print(f'== 제거 후 index 수 : {df[df.columns[0]].count()} ==')\n",
    "    \n",
    "    data_tele_iqred = df\n",
    "    \n",
    "    return data_tele_iqred\n",
    "\n",
    "list_col = list(data_tele_ttl.columns).copy()\n",
    "data_tele_iqred = remove_outlier(data_tele_ttl, ['데이터 사용량'], 0.0)\n",
    "print(f'이상치 제거 전 : {data_tele_ttl[\"연령대\"].count()}, 이상치 제거 후 : {data_tele_iqred[\"연령대\"].count()}')"
   ]
  },
  {
   "cell_type": "code",
   "execution_count": 98,
   "id": "530cccd6-b9cf-41d8-a7c0-840564d36170",
   "metadata": {},
   "outputs": [
    {
     "data": {
      "text/plain": [
       "Index(['성별', '연령대', '1인가구수', '야간상주지 변경횟수 평균', '주간상주지 변경횟수 평균', '평균 출근 소요시간 평균',\n",
       "       '평균 근무시간 평균', '소액결재 비사용 인구수', '소액결재 사용횟수 평균', '소액결재 사용 금액 없는 인구수',\n",
       "       '소액결재 사용금액 평균', '최근 3개월 내 요금 연체 비율', '카카오톡 비사용 인구수', 'SNS 사용횟수',\n",
       "       '평균 통화량', '평균 문자량', '평균 통화대상자 수', '평균 문자대상자 수', '데이터 사용량', '평일 총 이동 횟수',\n",
       "       '휴일 총 이동 횟수 평균', '집 추정 위치 평일 총 체류시간', '집 추정 위치 휴일 총 체류시간',\n",
       "       '평일 총 이동 거리 합계', '휴일 총 이동 거리 합계', '지하철이동일수 합계', '게임 서비스 사용일수',\n",
       "       '금융 서비스 사용일수', '쇼핑 서비스 사용일수', '동영상/방송 서비스 사용일수', '유튜브 사용일수',\n",
       "       '넷플릭스 사용일수', '배달 서비스 사용일수', '배달_브랜드 서비스 사용일수', '배달_식재료 서비스 사용일수', '월'],\n",
       "      dtype='object')"
      ]
     },
     "execution_count": 98,
     "metadata": {},
     "output_type": "execute_result"
    }
   ],
   "source": [
    "data_tele_ttl.columns"
   ]
  },
  {
   "cell_type": "code",
   "execution_count": 95,
   "id": "063d6510-3a15-40e6-97c7-bce11b109ee0",
   "metadata": {},
   "outputs": [
    {
     "ename": "NameError",
     "evalue": "name 'data_tele_ttel' is not defined",
     "output_type": "error",
     "traceback": [
      "\u001b[1;31m---------------------------------------------------------------------------\u001b[0m",
      "\u001b[1;31mNameError\u001b[0m                                 Traceback (most recent call last)",
      "\u001b[1;32m~\\AppData\\Local\\Temp\\ipykernel_1432\\50248873.py\u001b[0m in \u001b[0;36m<module>\u001b[1;34m\u001b[0m\n\u001b[1;32m----> 1\u001b[1;33m \u001b[0mdata_tele_ttel\u001b[0m\u001b[1;33m.\u001b[0m\u001b[0mcolumns\u001b[0m\u001b[1;33m\u001b[0m\u001b[1;33m\u001b[0m\u001b[0m\n\u001b[0m",
      "\u001b[1;31mNameError\u001b[0m: name 'data_tele_ttel' is not defined"
     ]
    }
   ],
   "source": [
    "data_tele_ttel.columns"
   ]
  },
  {
   "cell_type": "markdown",
   "id": "6d9e5c21-ea22-4bed-8a56-2c90ee30c1f7",
   "metadata": {},
   "source": [
    "## 데이터 인코딩"
   ]
  },
  {
   "cell_type": "code",
   "execution_count": 8,
   "id": "2d7f1f42-7020-4a87-8ec1-071410440524",
   "metadata": {},
   "outputs": [],
   "source": [
    "# 원 핫 인코더  \n",
    "  \n",
    "def one_hot_encoder(target):\n",
    "    from sklearn.preprocessing import OneHotEncoder\n",
    "    import numpy as np\n",
    "    '''target:범주형 칼럼 등'''\n",
    "    target_v_list = target.to_list()\n",
    "    target_ohe = OneHotEncoder().fit_transform(np.array(target).reshape(-1, 1)).toarray().astype(int)\n",
    "    target_ohe = pd.DataFrame(target_ohe).rename(columns = {'title' : target_v_list})\n",
    "    \n",
    "    return target_ohe"
   ]
  },
  {
   "cell_type": "code",
   "execution_count": 9,
   "id": "0a8de3c3-de6a-4652-82b3-eb03a7d3003b",
   "metadata": {},
   "outputs": [],
   "source": [
    "# 라벨 인코더\n",
    "\n",
    "def label_encoder(target):\n",
    "    from sklearn.preprocessing import LabelEncoder\n",
    "    import numpy as np\n",
    "    import pandas as pd\n",
    "    '''target:범주형 칼럼 등'''\n",
    "    target = pd.DataFrame(LabelEncoder().fit_transform(target))\n",
    "    \n",
    "    return target"
   ]
  },
  {
   "cell_type": "code",
   "execution_count": null,
   "id": "a1b5863e-e8ea-49c2-bb58-faa830434fb5",
   "metadata": {},
   "outputs": [],
   "source": [
    "# # 레이블 인코딩\n",
    "\n",
    "# from sklearn.preprocessing import LabelEncoder\n",
    "# encoder = LabelEncoder()\n",
    "\n",
    "# for i in data_tele_iqred[['행정동'], ['자치구']]:\n",
    "#     encoder.fit_transform\n",
    "    "
   ]
  },
  {
   "cell_type": "markdown",
   "id": "6fb516da-ca95-4629-b532-18a60ded2659",
   "metadata": {},
   "source": [
    "## 분석 대상 선택(데이터, 칼럼)"
   ]
  },
  {
   "cell_type": "markdown",
   "id": "8a8d45f0-8b42-469a-afe9-3419fb3b878d",
   "metadata": {},
   "source": [
    "## 데이터셋 분리 (훈련, 테스트)"
   ]
  },
  {
   "cell_type": "code",
   "execution_count": 4,
   "id": "9b88e158-1b5a-430a-8d2b-a25fb972350e",
   "metadata": {},
   "outputs": [],
   "source": [
    "def train_test_sp(dataset, target='연령대'):\n",
    "    '''\n",
    "    * dataset : 분리할 데이터셋을 입력합니다.\n",
    "    세 가지 스케일링을 함을 고려해, 향후 for (i, j) in enumerate(scaled_df_list) 후 반환값은 i_X 식으로 받음\n",
    "    \n",
    "    * target : target 칼럼명. 기본값은 연령대.\n",
    "    '''\n",
    "    from sklearn.model_selection import train_test_split\n",
    "    \n",
    "    X = dataset.copy().drop(columns=target, axis=1)\n",
    "    y = dataset[target]\n",
    "    \n",
    "    X_train, X_test, y_train, y_test = train_test_split(X, y, test_size=0.2)\n",
    "    \n",
    "    return X_train, X_test, y_train, y_test"
   ]
  },
  {
   "cell_type": "markdown",
   "id": "30d05c09-4022-422d-8160-49e423146bc3",
   "metadata": {},
   "source": [
    "## 스케일링\n",
    "  \n",
    "* Standard Scaling : 평균이 0이고 분산이 1인 값으로 변환, SVM, LinearR, LogisticR에 중요  \n",
    "* MinMax Scaling : 데이터값을 0과 1 사이의 범위 값으로 변환 (음수는 -1 ~ 1)  \n",
    "* Robust Scaling : 평균과 분산 대신에 중앙값(median)과 IQR(interquartile range) 사용해 아웃라이어의 영향을 최소화  "
   ]
  },
  {
   "cell_type": "code",
   "execution_count": 7,
   "id": "e674e0e7-f96b-473a-90fa-30e200021687",
   "metadata": {},
   "outputs": [],
   "source": [
    "import pandas as pd"
   ]
  },
  {
   "cell_type": "code",
   "execution_count": 5,
   "id": "c2204d13-bd44-4586-b4f3-68f2b6601cb4",
   "metadata": {},
   "outputs": [],
   "source": [
    "# Standard Scaling\n",
    "def standard_scaling(df):\n",
    "    from sklearn.preprocessing import StandardScaler\n",
    "    import pandas as pd\n",
    "    \n",
    "    scaler = StandardScaler()    \n",
    "    drop_column_list = []\n",
    "    \n",
    "    for i in df.columns:\n",
    "        if df[i].dtype == 'object':\n",
    "            drop_column_list.append(i)\n",
    "    \n",
    "    df_object = df[drop_column_list]\n",
    "    df_not_object = df.drop(columns = drop_column_list)\n",
    "    columns = df_not_object.columns\n",
    "    \n",
    "    df_not_object = pd.DataFrame(scaler.fit_transform(df_not_object), columns=columns)\n",
    "    df_not_object.reset_index(drop=True, inplace=True)\n",
    "    df_object.reset_index(drop=True, inplace=True)\n",
    "    df_stand_scaled = pd.concat([df_object, df_not_object], axis=1)\n",
    "    \n",
    "    return df_stand_scaled"
   ]
  },
  {
   "cell_type": "code",
   "execution_count": 6,
   "id": "57fd4565-eecb-4b6d-b610-fa45d51fe64e",
   "metadata": {},
   "outputs": [],
   "source": [
    "# MinMax Scaling\n",
    "def minmax_scaling(df):\n",
    "    from sklearn.preprocessing import MinMaxScaler\n",
    "    import pandas as pd\n",
    "    \n",
    "    scaler = MinMaxScaler()\n",
    "    drop_column_list = []\n",
    "    \n",
    "    for i in df.columns:\n",
    "        if df[i].dtype == 'object':\n",
    "            drop_column_list.append(i)\n",
    "            \n",
    "    df_object = df[drop_column_list]\n",
    "    df_not_object = df.drop(columns = drop_column_list)\n",
    "    columns = df_not_object.columns\n",
    "    \n",
    "    df_not_object = pd.DataFrame(scaler.fit_transform(df_not_object), columns=columns)\n",
    "    df_not_object.reset_index(drop=True, inplace=True)\n",
    "    df_object.reset_index(drop=True, inplace=True)\n",
    "    df_minmax_scaled = pd.concat([df_object, df_not_object], axis=1)     \n",
    "    \n",
    "    return df_minmax_scaled"
   ]
  },
  {
   "cell_type": "code",
   "execution_count": 7,
   "id": "e32d0178-5f4f-44b6-9487-00e852031264",
   "metadata": {},
   "outputs": [],
   "source": [
    "# Robust Scaling\n",
    "def robust_scaling(df):\n",
    "    from sklearn.preprocessing import RobustScaler\n",
    "    import pandas as pd\n",
    "    \n",
    "    scaler = RobustScaler()\n",
    "    drop_column_list = []\n",
    "    \n",
    "    for i in df.columns:\n",
    "        if df[i].dtype == 'object':\n",
    "            drop_column_list.append(i)\n",
    "            \n",
    "    df_object = df[drop_column_list]\n",
    "    df_not_object = df.drop(columns = drop_column_list)\n",
    "    columns = df_not_object.columns\n",
    "    \n",
    "    df_not_object = pd.DataFrame(scaler.fit_transform(df_not_object), columns=columns)\n",
    "    df_not_object.reset_index(drop=True, inplace=True)\n",
    "    df_object.reset_index(drop=True, inplace=True)\n",
    "    df_robust_scaled = pd.concat([df_object, df_not_object], axis=1)     \n",
    "    \n",
    "    return df_robust_scaled"
   ]
  },
  {
   "cell_type": "code",
   "execution_count": 49,
   "id": "5ed9c421-8033-420d-bb0c-7f754dfbac72",
   "metadata": {
    "tags": []
   },
   "outputs": [],
   "source": [
    "# Standard Scaling\n",
    "\n",
    "# def standard_scaling(X_train, X_test):\n",
    "#     from sklearn.preprocessing import StandardScaler\n",
    "#     import pandas as pd\n",
    "    \n",
    "#     scaler = StandardScaler()    \n",
    "    \n",
    "#     X_train = scaler.fit_transform(X_train)\n",
    "#     X_test = scaler.transform(X_test)\n",
    "    \n",
    "#     return X_train, X_test"
   ]
  },
  {
   "cell_type": "code",
   "execution_count": 50,
   "id": "788f59d7-e24d-4093-8ac0-a8f2b5f630c8",
   "metadata": {
    "tags": []
   },
   "outputs": [],
   "source": [
    "# MinMax Scaling\n",
    "\n",
    "# def minmax_scaling(X_train, X_test):\n",
    "#     from sklearn.preprocessing import MinMaxScaler\n",
    "#     import pandas as pd\n",
    "    \n",
    "#     scaler = MinMaxScaler()\n",
    "    \n",
    "#     X_train = scaler.fit_transform(X_train)\n",
    "#     X_test = scaler.transform(X_test)\n",
    "    \n",
    "#     return X_train, X_test"
   ]
  },
  {
   "cell_type": "code",
   "execution_count": 51,
   "id": "cbba662e-0483-41a4-8a3b-f4d940421ed7",
   "metadata": {
    "tags": []
   },
   "outputs": [],
   "source": [
    "# Robust Scaling\n",
    "\n",
    "# def robust_scaling(X_train, X_test):\n",
    "#     from sklearn.preprocessing import RobustScaler\n",
    "#     import pandas as pd\n",
    "    \n",
    "#     scaler = RobustScaler()\n",
    "    \n",
    "#     X_train = scaler.fit_transform(X_train)\n",
    "#     X_test = scaler.transform(X_test)\n",
    "    \n",
    "#     return X_train, X_test"
   ]
  },
  {
   "attachments": {
    "486d6674-0952-4197-a615-a8a7ac82ff40.png": {
     "image/png": "[encoded data removed]"
    }
   },
   "cell_type": "markdown",
   "id": "25e02f3d-acf7-40d9-a043-fd7d0d7ad358",
   "metadata": {},
   "source": [
    "# 머신러닝 - 분류  \n",
    "    \n",
    "><b> 상관성</b>  \n",
    ">연령대와 <u><b>상관성 높은 feature들은 다수</b></u> 있으며, 그 종류는 아래와 같음  \n",
    ">피어슨 상관계수 (-1 ~ 1)  \n",
    ">![image.png](attachment:486d6674-0952-4197-a615-a8a7ac82ff40.png)  \n",
    "\n",
    "\n",
    "<b>머신러닝 예정</b>  \n",
    "> 개요  \n",
    "> * 분류와 회귀 모델 모두 적용 가능한 모델로 보이며\n",
    "> * <u><b>상관성 높은 feature들이 많아, 유의미한 분석 모델</b></u>이 나올 것으로 예상된다.  \n",
    "> * 단, 독립변수가 많고, 변수간 상관성이 높은 경우가 있어, 다중공선성 방지를 위해 주성분 분석이 필요함.  \n",
    "> * (참고) 종속변수인 연령대가 범주형 변수이긴 하나, 임의로 연속형 변수로 보고 예상 나이를 추출하는 회귀 가능  "
   ]
  },
  {
   "cell_type": "markdown",
   "id": "4123d2e5-c0ed-4993-ac2b-88f30ea072c5",
   "metadata": {},
   "source": [
    "## 평가 모델 생성"
   ]
  },
  {
   "cell_type": "code",
   "execution_count": 3,
   "id": "46963302-40a0-4e68-a9d5-16c10e15b441",
   "metadata": {},
   "outputs": [],
   "source": [
    "def evaluate(target, pred, pred_proba):\n",
    "    \n",
    "    from sklearn.metrics import accuracy_score\n",
    "    from sklearn.metrics import precision_score\n",
    "    from sklearn.metrics import recall_score\n",
    "    from sklearn.metrics import f1_score\n",
    "    from sklearn.metrics import roc_auc_score\n",
    "    \n",
    "    print(f'정확도 : {accuracy_score(target, pred):.2f} \\n',\n",
    "          f'정밀도 : {precision_score(target, pred, average=\"micro\"):.2f} \\n',\n",
    "          f'재현율 : {recall_score(target, pred, average=\"micro\"):.2f} \\n',\n",
    "          f'f1 score : {f1_score(target, pred, average=\"micro\"):.2f} \\n')\n",
    "    try:\n",
    "        print(f'AUC score : {roc_auc_score(target, pred, pred_broba, average=\"micro\", multi_class=\"ovo\"):.2f} \\n')\n",
    "    except:\n",
    "        print('AUC score 출력 실패')"
   ]
  },
  {
   "cell_type": "markdown",
   "id": "2a95c97d-c42f-4fd9-8b48-aff735dd1b6d",
   "metadata": {},
   "source": [
    "## 결정 트리"
   ]
  },
  {
   "cell_type": "code",
   "execution_count": 133,
   "id": "c27e5c45-bdbe-4ebb-b32a-15711b931d4e",
   "metadata": {},
   "outputs": [],
   "source": [
    "# 평가 모델 함수\n",
    "def dtc(X_train, X_test, y_train, y_test):\n",
    "    from sklearn.tree import DecisionTreeClassifier\n",
    "    import pandas as pd\n",
    "    import warnings\n",
    "    warnings.filterwarnings('ignore')\n",
    "    \n",
    "    print('진행1/2.. 학습중')\n",
    "    # 모델 학습\n",
    "    dtc = DecisionTreeClassifier(max_depth=8, min_samples_split=100, min_samples_leaf=50)\n",
    "    dtc.fit(X_train, y_train)\n",
    "    feature_impt = dtc.fit(X_train, y_train).feature_importances_\n",
    "    \n",
    "    print('진행2/2.. 예측중')\n",
    "    # 예측\n",
    "    pred = dtc.predict(X_test)\n",
    "    pred_proba = dtc.predict_proba(X_test)\n",
    "    \n",
    "    print('진행 완료')\n",
    "    \n",
    "    return pred, y_test, pred_proba, feature_impt"
   ]
  },
  {
   "cell_type": "code",
   "execution_count": 134,
   "id": "0667e2d5-935b-43ff-b1b3-461c7e8b4fcb",
   "metadata": {
    "tags": []
   },
   "outputs": [
    {
     "name": "stdout",
     "output_type": "stream",
     "text": [
      "진행1/2.. 학습중\n",
      "진행2/2.. 예측중\n",
      "진행 완료\n",
      "정확도 : 0.87 \n",
      " 정밀도 : 0.88 \n",
      " 재현율 : 0.87 \n",
      " f1 score : 0.88 \n",
      "\n",
      "AUC score 출력 실패\n"
     ]
    },
    {
     "data": {
      "text/plain": [
       "array([0.11551375, 0.07692783, 0.14079259, 0.22686615, 0.08870706,\n",
       "       0.12067691, 0.0245326 , 0.04351552, 0.15861527, 0.0038523 ])"
      ]
     },
     "execution_count": 134,
     "metadata": {},
     "output_type": "execute_result"
    }
   ],
   "source": [
    "# 결정 트리 진행 및 평가\n",
    "\n",
    "# 분석 대상 칼럼 결정\n",
    "columns = ['연령대', '데이터 사용량', '평균 출근 소요시간 평균', '유튜브 사용일수', '넷플릭스 사용일수', '쇼핑 서비스 사용일수',\n",
    "           '평균 문자대상자 수', '평일 총 이동 거리 합계', '평균 통화대상자 수', '금융 서비스 사용일수', '평균 문자량']\n",
    "\n",
    "## 훈련 - 테스트 데이터 나누기\n",
    "X_train, X_test, y_train, y_test = train_test_sp(data_tele_iqred[columns])\n",
    "\n",
    "## 스케일링\n",
    "X_train = standard_scaling(X_train)\n",
    "X_test = standard_scaling(X_test) \n",
    "\n",
    "## 원 핫 인코딩\n",
    "y_train = one_hot_encoder(y_train)\n",
    "y_test = one_hot_encoder(y_test)\n",
    "\n",
    "## 파라미터\n",
    "param = {\n",
    "    'max_depth' : 8,\n",
    "    'min_samples_split' : 100,\n",
    "    'min_samples_leaf' : 50\n",
    "}\n",
    "\n",
    "## 학습 및 예측\n",
    "pred, y_test, pred_proba, feature_impt = dtc(X_train, X_test, y_train, y_test)\n",
    "\n",
    "## 평가\n",
    "evaluate(y_test, pred, pred_proba)\n",
    "feature_impt\n"
   ]
  },
  {
   "cell_type": "code",
   "execution_count": 64,
   "id": "0b774d09-0441-4feb-8f57-98797e2f9e01",
   "metadata": {
    "collapsed": true,
    "jupyter": {
     "outputs_hidden": true
    },
    "tags": []
   },
   "outputs": [
    {
     "ename": "TypeError",
     "evalue": "__init__() takes 1 positional argument but 2 were given",
     "output_type": "error",
     "traceback": [
      "\u001b[1;31m---------------------------------------------------------------------------\u001b[0m",
      "\u001b[1;31mTypeError\u001b[0m                                 Traceback (most recent call last)",
      "\u001b[1;32m~\\AppData\\Local\\Temp\\ipykernel_1432\\3031881309.py\u001b[0m in \u001b[0;36m<module>\u001b[1;34m\u001b[0m\n\u001b[0;32m      1\u001b[0m \u001b[1;32mfrom\u001b[0m \u001b[0msklearn\u001b[0m\u001b[1;33m.\u001b[0m\u001b[0mtree\u001b[0m \u001b[1;32mimport\u001b[0m \u001b[0mDecisionTreeClassifier\u001b[0m\u001b[1;33m\u001b[0m\u001b[1;33m\u001b[0m\u001b[0m\n\u001b[0;32m      2\u001b[0m \u001b[1;33m\u001b[0m\u001b[0m\n\u001b[1;32m----> 3\u001b[1;33m \u001b[0mdtc\u001b[0m \u001b[1;33m=\u001b[0m \u001b[0mDecisionTreeClassifier\u001b[0m\u001b[1;33m(\u001b[0m\u001b[0mparam\u001b[0m\u001b[1;33m)\u001b[0m\u001b[1;33m\u001b[0m\u001b[1;33m\u001b[0m\u001b[0m\n\u001b[0m\u001b[0;32m      4\u001b[0m \u001b[1;33m\u001b[0m\u001b[0m\n\u001b[0;32m      5\u001b[0m \u001b[0mdtc\u001b[0m\u001b[1;33m.\u001b[0m\u001b[0mfit\u001b[0m\u001b[1;33m(\u001b[0m\u001b[0mX_train\u001b[0m\u001b[1;33m,\u001b[0m \u001b[0my_train\u001b[0m\u001b[1;33m)\u001b[0m     \u001b[1;31m# 학습 시키기\u001b[0m\u001b[1;33m\u001b[0m\u001b[1;33m\u001b[0m\u001b[0m\n",
      "\u001b[1;31mTypeError\u001b[0m: __init__() takes 1 positional argument but 2 were given"
     ]
    }
   ],
   "source": [
    "from sklearn.tree import DecisionTreeClassifier\n",
    "\n",
    "dtc = DecisionTreeClassifier(param)\n",
    "\n",
    "dtc.fit(X_train, y_train)     # 학습 시키기\n",
    "dtc_pred = dtc.predict(X_test)\n",
    "\n",
    "from sklearn.tree import export_graphviz\n",
    "\n",
    "export_graphviz(dtc, out_file='dct.dot',\n",
    "                class_names = ['20', '25', '30', '35', '40', '45', '50', '55', '60', '65', '70'],\n",
    "                feature_names = columns.remove('연령대'))\n",
    "                \n",
    "import graphviz\n",
    "\n",
    "\n",
    "with open('dct.dot', encoding='utf-8') as f:\n",
    "    dot_graph = f.read()\n",
    "graphviz.Source(dot_graph)"
   ]
  },
  {
   "cell_type": "code",
   "execution_count": 1,
   "id": "c6d6df5c-2f4b-4747-950f-b3c5dad28d86",
   "metadata": {},
   "outputs": [],
   "source": [
    "from sklearn.tree import DecisionTreeClassifier\n",
    "\n",
    "DecisionTreeClassifier().predict_proba()"
   ]
  },
  {
   "cell_type": "markdown",
   "id": "faf4dd47-47c2-47c6-b4f9-6db6c2ec227f",
   "metadata": {},
   "source": [
    "## 랜덤 포레스트"
   ]
  },
  {
   "cell_type": "code",
   "execution_count": null,
   "id": "df8faa11-b83f-4b21-878c-c432bd73b6a5",
   "metadata": {},
   "outputs": [],
   "source": [
    "def rf_clf(X_train, X_test, y_train, y_test):\n",
    "    from sklearn.ensemble import RandomForestClassifier\n",
    "    import pandas as pd\n",
    "    import warnings\n",
    "    warnings.filterwarnings('ignore')\n",
    "    \n",
    "    print('진행1/2.. 학습중')\n",
    "    # 모델 학습\n",
    "    rf_clf = RandomForestClassifier()\n",
    "    rf_clf.fit(X_train, y_train)\n",
    "    print('진행2/2.. 예측중')\n",
    "    \n",
    "    # 예측\n",
    "    pred = rf_clf.predict(X_test)\n",
    "    pred_proba = rf_clf.predict_proba(X_test)\n",
    "    print('진행 완료')\n",
    "    \n",
    "    # feature importrance\n",
    "    feature_impt = rf_clf.fit().feature_importances_\n",
    "    \n",
    "    return pred, y_test, pred_proba, feature_impt"
   ]
  },
  {
   "cell_type": "code",
   "execution_count": null,
   "id": "b7dca11b-6508-4307-bf52-165a6f524257",
   "metadata": {
    "tags": []
   },
   "outputs": [],
   "source": [
    "# 랜덤포레스트 진행 및 평가\n",
    "\n",
    "## 훈련 - 테스트 데이터 나누기\n",
    "X_train, X_test, y_train, y_test = train_test_sp(data_tele_iqred)\n",
    "\n",
    "## 스케일링\n",
    "X_train = standard_scaling(X_train)\n",
    "X_test = standard_scaling(X_test)\n",
    "\n",
    "## 원 핫 인코딩\n",
    "y_train = one_hot_encoder(y_train)\n",
    "y_test = one_hot_encoder(y_test)\n",
    "\n",
    "## 학습 및 예측\n",
    "pred, y_test, pred_proba, feture_impta= rf_clf(X_train, X_test, y_train, y_test)\n",
    "\n",
    "## 평가\n",
    "evaluate(y_test, pred)\n",
    "feature_impt"
   ]
  },
  {
   "cell_type": "markdown",
   "id": "0790786a-c8c0-4439-9456-5312e79bea96",
   "metadata": {},
   "source": [
    "## GBM"
   ]
  },
  {
   "cell_type": "code",
   "execution_count": 48,
   "id": "7dfc73e7-79cb-4b8e-b8ad-9d7f3ed9e13c",
   "metadata": {},
   "outputs": [],
   "source": [
    "def gbm(X_train, X_test, y_train, y_test):\n",
    "    from sklearn.ensemble import GradientBoostingClassifier\n",
    "    import pandas as pd\n",
    "    import warnings\n",
    "    warnings.filterwarnings('ignore')\n",
    "    \n",
    "    print('진행1/2.. 학습중')\n",
    "    # 모델 학습\n",
    "    gbm = GradientBoostingClassifier()\n",
    "    gbm.fit(X_train, y_train)\n",
    "    print('진행2/2.. 예측중')\n",
    "    \n",
    "    # 예측\n",
    "    pred = gbm.predict(X_test)\n",
    "    print('진행 완료')\n",
    "    \n",
    "    return pred, y_test"
   ]
  },
  {
   "cell_type": "code",
   "execution_count": 55,
   "id": "f0859d17-cd7c-441a-b813-3c50ab20211c",
   "metadata": {
    "collapsed": true,
    "jupyter": {
     "outputs_hidden": true
    },
    "tags": []
   },
   "outputs": [
    {
     "name": "stdout",
     "output_type": "stream",
     "text": [
      "진행1/2.. 학습중\n",
      "진행2/2.. 예측중\n",
      "진행 완료\n",
      "정확도 : 0.97 \n",
      " 정밀도 : 0.97 \n",
      " 재현율 : 0.97 \n",
      " f1 score : 0.97 \n",
      "\n"
     ]
    }
   ],
   "source": [
    "# GBM 진행 및 평가\n",
    "\n",
    "## 훈련 - 테스트 데이터 나누기\n",
    "X_train, X_test, y_train, y_test = train_test_sp(data_tele_iqred)\n",
    "\n",
    "## 스케일링\n",
    "X_train = standard_scaling(X_train)\n",
    "X_test = standard_scaling(X_test)\n",
    "\n",
    "## 원 핫 인코딩\n",
    "y_train = label_encoder(y_train)\n",
    "y_test = label_encoder(y_test)\n",
    "\n",
    "## 학습 및 예측\n",
    "pred, y_test = gbm(X_train, X_test, y_train, y_test)\n",
    "\n",
    "## 평가\n",
    "evaluate(y_test, pred)"
   ]
  },
  {
   "cell_type": "markdown",
   "id": "6d9a7d5a-8f5a-468b-b97a-2ee0d2a5770b",
   "metadata": {},
   "source": [
    "## XGBoost"
   ]
  },
  {
   "cell_type": "code",
   "execution_count": 92,
   "id": "92e70c7c-1227-4fbf-a5e5-0b29c055f56e",
   "metadata": {},
   "outputs": [],
   "source": [
    "def xgb(X_train, X_test, y_train, y_test):\n",
    "    import XGBoost \n",
    "    import pandas as pd\n",
    "    import warnings\n",
    "    warnings.filterwarnings('ignore')\n",
    "    \n",
    "    print('진행1/2.. 학습중')\n",
    "    # 모델 학습\n",
    "    xgb = XGBClassifier()\n",
    "    xgb.fit(X_train, y_train, early_stopping_round=50)\n",
    "    print('진행2/2.. 예측중')\n",
    "    \n",
    "    # 예측\n",
    "    pred = xgb.predict(X_test)\n",
    "    print('진행 완료')\n",
    "    \n",
    "    return pred, y_test"
   ]
  },
  {
   "cell_type": "code",
   "execution_count": 93,
   "id": "f953d451-cc1a-4f84-b113-f29e9a500fb6",
   "metadata": {
    "collapsed": true,
    "jupyter": {
     "outputs_hidden": true
    },
    "tags": []
   },
   "outputs": [
    {
     "ename": "ModuleNotFoundError",
     "evalue": "No module named 'XGBoost'",
     "output_type": "error",
     "traceback": [
      "\u001b[1;31m---------------------------------------------------------------------------\u001b[0m",
      "\u001b[1;31mModuleNotFoundError\u001b[0m                       Traceback (most recent call last)",
      "\u001b[1;32m~\\AppData\\Local\\Temp\\ipykernel_1432\\1630631304.py\u001b[0m in \u001b[0;36m<module>\u001b[1;34m\u001b[0m\n\u001b[0;32m     13\u001b[0m \u001b[1;33m\u001b[0m\u001b[0m\n\u001b[0;32m     14\u001b[0m \u001b[1;31m## 학습 및 예측\u001b[0m\u001b[1;33m\u001b[0m\u001b[1;33m\u001b[0m\u001b[0m\n\u001b[1;32m---> 15\u001b[1;33m \u001b[0mpred\u001b[0m\u001b[1;33m,\u001b[0m \u001b[0my_test\u001b[0m \u001b[1;33m=\u001b[0m \u001b[0mxgb\u001b[0m\u001b[1;33m(\u001b[0m\u001b[0mX_train\u001b[0m\u001b[1;33m,\u001b[0m \u001b[0mX_test\u001b[0m\u001b[1;33m,\u001b[0m \u001b[0my_train\u001b[0m\u001b[1;33m,\u001b[0m \u001b[0my_test\u001b[0m\u001b[1;33m)\u001b[0m\u001b[1;33m\u001b[0m\u001b[1;33m\u001b[0m\u001b[0m\n\u001b[0m\u001b[0;32m     16\u001b[0m \u001b[1;33m\u001b[0m\u001b[0m\n\u001b[0;32m     17\u001b[0m \u001b[1;31m## 평가\u001b[0m\u001b[1;33m\u001b[0m\u001b[1;33m\u001b[0m\u001b[0m\n",
      "\u001b[1;32m~\\AppData\\Local\\Temp\\ipykernel_1432\\3932801693.py\u001b[0m in \u001b[0;36mxgb\u001b[1;34m(X_train, X_test, y_train, y_test)\u001b[0m\n\u001b[0;32m      1\u001b[0m \u001b[1;32mdef\u001b[0m \u001b[0mxgb\u001b[0m\u001b[1;33m(\u001b[0m\u001b[0mX_train\u001b[0m\u001b[1;33m,\u001b[0m \u001b[0mX_test\u001b[0m\u001b[1;33m,\u001b[0m \u001b[0my_train\u001b[0m\u001b[1;33m,\u001b[0m \u001b[0my_test\u001b[0m\u001b[1;33m)\u001b[0m\u001b[1;33m:\u001b[0m\u001b[1;33m\u001b[0m\u001b[1;33m\u001b[0m\u001b[0m\n\u001b[1;32m----> 2\u001b[1;33m     \u001b[1;32mimport\u001b[0m \u001b[0mXGBoost\u001b[0m\u001b[1;33m\u001b[0m\u001b[1;33m\u001b[0m\u001b[0m\n\u001b[0m\u001b[0;32m      3\u001b[0m     \u001b[1;32mimport\u001b[0m \u001b[0mpandas\u001b[0m \u001b[1;32mas\u001b[0m \u001b[0mpd\u001b[0m\u001b[1;33m\u001b[0m\u001b[1;33m\u001b[0m\u001b[0m\n\u001b[0;32m      4\u001b[0m     \u001b[1;32mimport\u001b[0m \u001b[0mwarnings\u001b[0m\u001b[1;33m\u001b[0m\u001b[1;33m\u001b[0m\u001b[0m\n\u001b[0;32m      5\u001b[0m     \u001b[0mwarnings\u001b[0m\u001b[1;33m.\u001b[0m\u001b[0mfilterwarnings\u001b[0m\u001b[1;33m(\u001b[0m\u001b[1;34m'ignore'\u001b[0m\u001b[1;33m)\u001b[0m\u001b[1;33m\u001b[0m\u001b[1;33m\u001b[0m\u001b[0m\n",
      "\u001b[1;31mModuleNotFoundError\u001b[0m: No module named 'XGBoost'"
     ]
    }
   ],
   "source": [
    "# XGBoost 진행 및 평가\n",
    "\n",
    "## 훈련 - 테스트 데이터 나누기\n",
    "X_train, X_test, y_train, y_test = train_test_sp(data_tele_iqred)\n",
    "\n",
    "## 스케일링\n",
    "X_train = standard_scaling(X_train)\n",
    "X_test = standard_scaling(X_test)\n",
    "\n",
    "## 원 핫 인코딩\n",
    "y_train = label_encoder(y_train)\n",
    "y_test = label_encoder(y_test)\n",
    "\n",
    "## 학습 및 예측\n",
    "pred, y_test = xgb(X_train, X_test, y_train, y_test)\n",
    "\n",
    "## 평가\n",
    "evaluate(y_test, pred)"
   ]
  },
  {
   "cell_type": "code",
   "execution_count": null,
   "id": "892a836f-ed72-48bb-94a0-a3372ee549af",
   "metadata": {},
   "outputs": [],
   "source": []
  },
  {
   "cell_type": "markdown",
   "id": "55155c2a-e696-4d79-928d-4a09be03d121",
   "metadata": {},
   "source": [
    "## LightGBM"
   ]
  },
  {
   "cell_type": "code",
   "execution_count": 58,
   "id": "44a3f367-5016-48f1-a994-839fdd72218a",
   "metadata": {},
   "outputs": [],
   "source": [
    "def xgb(X_train, X_test, y_train, y_test):\n",
    "    from lightgbm import LGBMClassifier\n",
    "    import pandas as pd\n",
    "    import warnings\n",
    "    warnings.filterwarnings('ignore')\n",
    "    \n",
    "    print('진행1/2.. 학습중')\n",
    "    # 모델 학습\n",
    "    lgbm = LGBMClassifier()\n",
    "    lgbm.fit(X_train, y_train)\n",
    "    print('진행2/2.. 예측중')\n",
    "    \n",
    "    # 예측\n",
    "    pred = lgbm.predict(X_test)\n",
    "    print('진행 완료')\n",
    "    \n",
    "    return pred, y_test"
   ]
  },
  {
   "cell_type": "code",
   "execution_count": null,
   "id": "720c6789-c922-48f7-a810-bb7659466f33",
   "metadata": {},
   "outputs": [],
   "source": [
    "# LightGBM 진행 및 평가\n",
    "\n",
    "## 훈련 - 테스트 데이터 나누기\n",
    "X_train, X_test, y_train, y_test = train_test_sp(data_tele_iqred)\n",
    "\n",
    "## 스케일링\n",
    "X_train = standard_scaling(X_train)\n",
    "X_test = standard_scaling(X_test)\n",
    "\n",
    "## 원 핫 인코딩\n",
    "y_train = label_encoder(y_train)\n",
    "y_test = label_encoder(y_test)\n",
    "\n",
    "## 학습 및 예측\n",
    "pred, y_test = lgbm(X_train, X_test, y_train, y_test)\n",
    "\n",
    "## 평가\n",
    "evaluate(y_test, pred)"
   ]
  },
  {
   "cell_type": "markdown",
   "id": "dafbbdd6-79e7-454e-8057-a669900b2c8d",
   "metadata": {},
   "source": [
    "# 머신러닝 - 회귀"
   ]
  },
  {
   "cell_type": "markdown",
   "id": "7d6037a4-cc60-4efa-8bc4-df5635cef639",
   "metadata": {},
   "source": [
    "## 평가 모델"
   ]
  },
  {
   "cell_type": "code",
   "execution_count": null,
   "id": "0c80ec09-4ae8-4def-a303-b58431db3741",
   "metadata": {},
   "outputs": [],
   "source": [
    "def evaluation_reg(pred, y_test):\n",
    "    from sklearn.metrics import mean_absolute_error\n",
    "    mse = mean_absolute_error(y_tert,y_pred)\n",
    "    from sklearn.metrics import mean_squared_error\n",
    "    mse = mean_squared_error(y_test, y_pred)\n",
    "    import numpy as np\n",
    "    rmse = np.sqrt(MSE)\n",
    "    from sklearn.metrics import r2_score\n",
    "    r2 = r2_score(y, lr.predict(x_2))\n",
    "    \n",
    "    print(f'mse\n",
    "    "
   ]
  },
  {
   "cell_type": "markdown",
   "id": "b62b7126-7fc1-4ae0-9583-3e2997d13379",
   "metadata": {},
   "source": [
    "## 의사결정나무 회귀"
   ]
  },
  {
   "cell_type": "code",
   "execution_count": 8,
   "id": "015e15d7-b3cf-49f3-8435-f4fe471a65cf",
   "metadata": {},
   "outputs": [],
   "source": [
    "def dtr(X_train, X_test, y_train, y_test, param=None):\n",
    "\n",
    "    from sklearn.tree import DecisionTreeRegressor\n",
    "\n",
    "    md = param.get('max_depth')\n",
    "    mss = param.get('min_samples_split') \n",
    "    msl = param.get('min_samples_leaf')\n",
    "    \n",
    "    print('1/2.. 모델링')\n",
    "    dtr = DecisionTreeRegressor(max_depth=md, min_samples_split = mss, min_samples_leaf = msl)\n",
    "    \n",
    "    print('2/2.. 학습중')\n",
    "\n",
    "    dtr.fit(X_train, y_train)\n",
    "    pred = dtr.predict(X_test)\n",
    "    print('진행 완료')\n",
    "\n",
    "    return pred, y_test\n",
    "\n"
   ]
  },
  {
   "cell_type": "code",
   "execution_count": 10,
   "id": "6407f301-6be6-4d54-80d9-189d1cad4fcc",
   "metadata": {},
   "outputs": [
    {
     "name": "stdout",
     "output_type": "stream",
     "text": [
      "1/2.. 모델링\n",
      "2/2.. 학습중\n",
      "진행 완료\n"
     ]
    },
    {
     "data": {
      "text/plain": [
       "-1.7836681361036377"
      ]
     },
     "execution_count": 10,
     "metadata": {},
     "output_type": "execute_result"
    }
   ],
   "source": [
    "# 모델 진행\n",
    "all_feature = ['성별', '연령대', '1인가구수', '야간상주지 변경횟수 평균', '주간상주지 변경횟수 평균', '평균 출근 소요시간 평균',\n",
    "               '평균 근무시간 평균', '소액결재 비사용 인구수', '소액결재 사용횟수 평균', '소액결재 사용 금액 없는 인구수',\n",
    "               '소액결재 사용금액 평균', '최근 3개월 내 요금 연체 비율', '카카오톡 비사용 인구수', 'SNS 사용횟수',\n",
    "               '평균 통화량', '평균 문자량', '평균 통화대상자 수', '평균 문자대상자 수', '데이터 사용량', '평일 총 이동 횟수',\n",
    "               '휴일 총 이동 횟수 평균', '집 추정 위치 평일 총 체류시간', '집 추정 위치 휴일 총 체류시간',\n",
    "               '평일 총 이동 거리 합계', '휴일 총 이동 거리 합계', '지하철이동일수 합계', '게임 서비스 사용일수',\n",
    "               '금융 서비스 사용일수', '쇼핑 서비스 사용일수', '동영상/방송 서비스 사용일수', '유튜브 사용일수',\n",
    "               '넷플릭스 사용일수', '배달 서비스 사용일수', '배달_브랜드 서비스 사용일수', '배달_식재료 서비스 사용일수', '월']\n",
    "\n",
    "## 데이터 칼럼 선택\n",
    "feature = ['배달 서비스 사용일수', '평균 근무시간 평균', '평균 출근 소요시간 평균'] # 사용할 변수명\n",
    "target = '배달 서비스 사용일수' # 타겟 변수명\n",
    "\n",
    "data = data_tele_iqred[feature]\n",
    "X_train, X_test, y_train, y_test = train_test_sp(data, target)\n",
    "\n",
    "\n",
    "## 파라미터\n",
    "param = {\n",
    "    'max_depth' : 200,\n",
    "    'min_samples_split' : 40,\n",
    "    'min_samples_leaf' : 40\n",
    "}\n",
    "\n",
    "## 학습 및 예측\n",
    "pred, y_test = dtr(X_train, X_test, y_train, y_test, param)\n",
    "\n",
    "## 평가\n",
    "from sklearn.tree import DecisionTreeRegressor\n",
    "dtrr = DecisionTreeRegressor(max_depth = param.get('max_depth'),\n",
    "                   min_samples_split = param.get('min_samples_split'),\n",
    "                   min_samples_leaf = param.get('min_samples_leaf'))\n",
    "model = dtrr.fit(X_train, y_train)\n",
    "\n",
    "\n",
    "from sklearn.metrics import r2_score\n",
    "r2 = r2_score(pred, y_test)\n",
    "r2"
   ]
  },
  {
   "cell_type": "code",
   "execution_count": null,
   "id": "9cfbe96b-8487-414f-a835-598b9284630b",
   "metadata": {},
   "outputs": [],
   "source": [
    "from sklearn.tree import DecisionTreeRegressor\n"
   ]
  },
  {
   "cell_type": "code",
   "execution_count": null,
   "id": "364abf80-b06d-41c8-926a-e33f7917e108",
   "metadata": {},
   "outputs": [],
   "source": [
    "from sklearn.linear_model import LinearRegression"
   ]
  },
  {
   "cell_type": "markdown",
   "id": "ea7a6bc1-1d1b-493c-8c65-78ad2bd80e9b",
   "metadata": {},
   "source": [
    "## 랜덤포레스트 회귀"
   ]
  },
  {
   "cell_type": "code",
   "execution_count": 128,
   "id": "c153f7d4-4849-4c75-841f-16065cdde966",
   "metadata": {},
   "outputs": [],
   "source": [
    "def rfr(X_train, X_test, y_train, y_test, param):\n",
    "\n",
    "    from sklearn.ensemble import RandomForestRegressor\n",
    "\n",
    "    md = param.get('max_depth')\n",
    "    mss = param.get('min_samples_split') \n",
    "    msl = param.get('min_samples_leaf')\n",
    "    \n",
    "    print('1/2.. 모델링')\n",
    "    rfr = RandomForestRegressor(max_depth=md, min_samples_split = mss, min_samples_leaf = msl)\n",
    "    \n",
    "    print('2/2.. 학습중')\n",
    "\n",
    "    rfr.fit(X_train, y_train)\n",
    "    pred = rfr.predict(X_test)\n",
    "    print('진행 완료')\n",
    "\n",
    "    return pred, y_test\n",
    "\n"
   ]
  },
  {
   "cell_type": "code",
   "execution_count": 129,
   "id": "4dbae4cc-c69f-41d2-986a-e8b130d39898",
   "metadata": {},
   "outputs": [
    {
     "ename": "KeyboardInterrupt",
     "evalue": "",
     "output_type": "error",
     "traceback": [
      "\u001b[1;31m---------------------------------------------------------------------------\u001b[0m",
      "\u001b[1;31mKeyboardInterrupt\u001b[0m                         Traceback (most recent call last)",
      "\u001b[1;32m~\\AppData\\Local\\Temp\\ipykernel_1432\\1813406066.py\u001b[0m in \u001b[0;36m<module>\u001b[1;34m\u001b[0m\n\u001b[0;32m     19\u001b[0m                    \u001b[0mmin_samples_split\u001b[0m \u001b[1;33m=\u001b[0m \u001b[0mparam\u001b[0m\u001b[1;33m.\u001b[0m\u001b[0mget\u001b[0m\u001b[1;33m(\u001b[0m\u001b[1;34m'min_samples_split'\u001b[0m\u001b[1;33m)\u001b[0m\u001b[1;33m,\u001b[0m\u001b[1;33m\u001b[0m\u001b[1;33m\u001b[0m\u001b[0m\n\u001b[0;32m     20\u001b[0m                    min_samples_leaf = param.get('min_samples_leaf'))\n\u001b[1;32m---> 21\u001b[1;33m \u001b[0mmodel\u001b[0m \u001b[1;33m=\u001b[0m \u001b[0mrfrr\u001b[0m\u001b[1;33m.\u001b[0m\u001b[0mfit\u001b[0m\u001b[1;33m(\u001b[0m\u001b[0mX_train\u001b[0m\u001b[1;33m,\u001b[0m \u001b[0my_train\u001b[0m\u001b[1;33m)\u001b[0m\u001b[1;33m\u001b[0m\u001b[1;33m\u001b[0m\u001b[0m\n\u001b[0m",
      "\u001b[1;32m~\\anaconda3\\lib\\site-packages\\sklearn\\ensemble\\_forest.py\u001b[0m in \u001b[0;36mfit\u001b[1;34m(self, X, y, sample_weight)\u001b[0m\n\u001b[0;32m    448\u001b[0m             \u001b[1;31m# parallel_backend contexts set at a higher level,\u001b[0m\u001b[1;33m\u001b[0m\u001b[1;33m\u001b[0m\u001b[0m\n\u001b[0;32m    449\u001b[0m             \u001b[1;31m# since correctness does not rely on using threads.\u001b[0m\u001b[1;33m\u001b[0m\u001b[1;33m\u001b[0m\u001b[0m\n\u001b[1;32m--> 450\u001b[1;33m             trees = Parallel(\n\u001b[0m\u001b[0;32m    451\u001b[0m                 \u001b[0mn_jobs\u001b[0m\u001b[1;33m=\u001b[0m\u001b[0mself\u001b[0m\u001b[1;33m.\u001b[0m\u001b[0mn_jobs\u001b[0m\u001b[1;33m,\u001b[0m\u001b[1;33m\u001b[0m\u001b[1;33m\u001b[0m\u001b[0m\n\u001b[0;32m    452\u001b[0m                 \u001b[0mverbose\u001b[0m\u001b[1;33m=\u001b[0m\u001b[0mself\u001b[0m\u001b[1;33m.\u001b[0m\u001b[0mverbose\u001b[0m\u001b[1;33m,\u001b[0m\u001b[1;33m\u001b[0m\u001b[1;33m\u001b[0m\u001b[0m\n",
      "\u001b[1;32m~\\anaconda3\\lib\\site-packages\\joblib\\parallel.py\u001b[0m in \u001b[0;36m__call__\u001b[1;34m(self, iterable)\u001b[0m\n\u001b[0;32m   1044\u001b[0m                 \u001b[0mself\u001b[0m\u001b[1;33m.\u001b[0m\u001b[0m_iterating\u001b[0m \u001b[1;33m=\u001b[0m \u001b[0mself\u001b[0m\u001b[1;33m.\u001b[0m\u001b[0m_original_iterator\u001b[0m \u001b[1;32mis\u001b[0m \u001b[1;32mnot\u001b[0m \u001b[1;32mNone\u001b[0m\u001b[1;33m\u001b[0m\u001b[1;33m\u001b[0m\u001b[0m\n\u001b[0;32m   1045\u001b[0m \u001b[1;33m\u001b[0m\u001b[0m\n\u001b[1;32m-> 1046\u001b[1;33m             \u001b[1;32mwhile\u001b[0m \u001b[0mself\u001b[0m\u001b[1;33m.\u001b[0m\u001b[0mdispatch_one_batch\u001b[0m\u001b[1;33m(\u001b[0m\u001b[0miterator\u001b[0m\u001b[1;33m)\u001b[0m\u001b[1;33m:\u001b[0m\u001b[1;33m\u001b[0m\u001b[1;33m\u001b[0m\u001b[0m\n\u001b[0m\u001b[0;32m   1047\u001b[0m                 \u001b[1;32mpass\u001b[0m\u001b[1;33m\u001b[0m\u001b[1;33m\u001b[0m\u001b[0m\n\u001b[0;32m   1048\u001b[0m \u001b[1;33m\u001b[0m\u001b[0m\n",
      "\u001b[1;32m~\\anaconda3\\lib\\site-packages\\joblib\\parallel.py\u001b[0m in \u001b[0;36mdispatch_one_batch\u001b[1;34m(self, iterator)\u001b[0m\n\u001b[0;32m    859\u001b[0m                 \u001b[1;32mreturn\u001b[0m \u001b[1;32mFalse\u001b[0m\u001b[1;33m\u001b[0m\u001b[1;33m\u001b[0m\u001b[0m\n\u001b[0;32m    860\u001b[0m             \u001b[1;32melse\u001b[0m\u001b[1;33m:\u001b[0m\u001b[1;33m\u001b[0m\u001b[1;33m\u001b[0m\u001b[0m\n\u001b[1;32m--> 861\u001b[1;33m                 \u001b[0mself\u001b[0m\u001b[1;33m.\u001b[0m\u001b[0m_dispatch\u001b[0m\u001b[1;33m(\u001b[0m\u001b[0mtasks\u001b[0m\u001b[1;33m)\u001b[0m\u001b[1;33m\u001b[0m\u001b[1;33m\u001b[0m\u001b[0m\n\u001b[0m\u001b[0;32m    862\u001b[0m                 \u001b[1;32mreturn\u001b[0m \u001b[1;32mTrue\u001b[0m\u001b[1;33m\u001b[0m\u001b[1;33m\u001b[0m\u001b[0m\n\u001b[0;32m    863\u001b[0m \u001b[1;33m\u001b[0m\u001b[0m\n",
      "\u001b[1;32m~\\anaconda3\\lib\\site-packages\\joblib\\parallel.py\u001b[0m in \u001b[0;36m_dispatch\u001b[1;34m(self, batch)\u001b[0m\n\u001b[0;32m    777\u001b[0m         \u001b[1;32mwith\u001b[0m \u001b[0mself\u001b[0m\u001b[1;33m.\u001b[0m\u001b[0m_lock\u001b[0m\u001b[1;33m:\u001b[0m\u001b[1;33m\u001b[0m\u001b[1;33m\u001b[0m\u001b[0m\n\u001b[0;32m    778\u001b[0m             \u001b[0mjob_idx\u001b[0m \u001b[1;33m=\u001b[0m \u001b[0mlen\u001b[0m\u001b[1;33m(\u001b[0m\u001b[0mself\u001b[0m\u001b[1;33m.\u001b[0m\u001b[0m_jobs\u001b[0m\u001b[1;33m)\u001b[0m\u001b[1;33m\u001b[0m\u001b[1;33m\u001b[0m\u001b[0m\n\u001b[1;32m--> 779\u001b[1;33m             \u001b[0mjob\u001b[0m \u001b[1;33m=\u001b[0m \u001b[0mself\u001b[0m\u001b[1;33m.\u001b[0m\u001b[0m_backend\u001b[0m\u001b[1;33m.\u001b[0m\u001b[0mapply_async\u001b[0m\u001b[1;33m(\u001b[0m\u001b[0mbatch\u001b[0m\u001b[1;33m,\u001b[0m \u001b[0mcallback\u001b[0m\u001b[1;33m=\u001b[0m\u001b[0mcb\u001b[0m\u001b[1;33m)\u001b[0m\u001b[1;33m\u001b[0m\u001b[1;33m\u001b[0m\u001b[0m\n\u001b[0m\u001b[0;32m    780\u001b[0m             \u001b[1;31m# A job can complete so quickly than its callback is\u001b[0m\u001b[1;33m\u001b[0m\u001b[1;33m\u001b[0m\u001b[0m\n\u001b[0;32m    781\u001b[0m             \u001b[1;31m# called before we get here, causing self._jobs to\u001b[0m\u001b[1;33m\u001b[0m\u001b[1;33m\u001b[0m\u001b[0m\n",
      "\u001b[1;32m~\\anaconda3\\lib\\site-packages\\joblib\\_parallel_backends.py\u001b[0m in \u001b[0;36mapply_async\u001b[1;34m(self, func, callback)\u001b[0m\n\u001b[0;32m    206\u001b[0m     \u001b[1;32mdef\u001b[0m \u001b[0mapply_async\u001b[0m\u001b[1;33m(\u001b[0m\u001b[0mself\u001b[0m\u001b[1;33m,\u001b[0m \u001b[0mfunc\u001b[0m\u001b[1;33m,\u001b[0m \u001b[0mcallback\u001b[0m\u001b[1;33m=\u001b[0m\u001b[1;32mNone\u001b[0m\u001b[1;33m)\u001b[0m\u001b[1;33m:\u001b[0m\u001b[1;33m\u001b[0m\u001b[1;33m\u001b[0m\u001b[0m\n\u001b[0;32m    207\u001b[0m         \u001b[1;34m\"\"\"Schedule a func to be run\"\"\"\u001b[0m\u001b[1;33m\u001b[0m\u001b[1;33m\u001b[0m\u001b[0m\n\u001b[1;32m--> 208\u001b[1;33m         \u001b[0mresult\u001b[0m \u001b[1;33m=\u001b[0m \u001b[0mImmediateResult\u001b[0m\u001b[1;33m(\u001b[0m\u001b[0mfunc\u001b[0m\u001b[1;33m)\u001b[0m\u001b[1;33m\u001b[0m\u001b[1;33m\u001b[0m\u001b[0m\n\u001b[0m\u001b[0;32m    209\u001b[0m         \u001b[1;32mif\u001b[0m \u001b[0mcallback\u001b[0m\u001b[1;33m:\u001b[0m\u001b[1;33m\u001b[0m\u001b[1;33m\u001b[0m\u001b[0m\n\u001b[0;32m    210\u001b[0m             \u001b[0mcallback\u001b[0m\u001b[1;33m(\u001b[0m\u001b[0mresult\u001b[0m\u001b[1;33m)\u001b[0m\u001b[1;33m\u001b[0m\u001b[1;33m\u001b[0m\u001b[0m\n",
      "\u001b[1;32m~\\anaconda3\\lib\\site-packages\\joblib\\_parallel_backends.py\u001b[0m in \u001b[0;36m__init__\u001b[1;34m(self, batch)\u001b[0m\n\u001b[0;32m    570\u001b[0m         \u001b[1;31m# Don't delay the application, to avoid keeping the input\u001b[0m\u001b[1;33m\u001b[0m\u001b[1;33m\u001b[0m\u001b[0m\n\u001b[0;32m    571\u001b[0m         \u001b[1;31m# arguments in memory\u001b[0m\u001b[1;33m\u001b[0m\u001b[1;33m\u001b[0m\u001b[0m\n\u001b[1;32m--> 572\u001b[1;33m         \u001b[0mself\u001b[0m\u001b[1;33m.\u001b[0m\u001b[0mresults\u001b[0m \u001b[1;33m=\u001b[0m \u001b[0mbatch\u001b[0m\u001b[1;33m(\u001b[0m\u001b[1;33m)\u001b[0m\u001b[1;33m\u001b[0m\u001b[1;33m\u001b[0m\u001b[0m\n\u001b[0m\u001b[0;32m    573\u001b[0m \u001b[1;33m\u001b[0m\u001b[0m\n\u001b[0;32m    574\u001b[0m     \u001b[1;32mdef\u001b[0m \u001b[0mget\u001b[0m\u001b[1;33m(\u001b[0m\u001b[0mself\u001b[0m\u001b[1;33m)\u001b[0m\u001b[1;33m:\u001b[0m\u001b[1;33m\u001b[0m\u001b[1;33m\u001b[0m\u001b[0m\n",
      "\u001b[1;32m~\\anaconda3\\lib\\site-packages\\joblib\\parallel.py\u001b[0m in \u001b[0;36m__call__\u001b[1;34m(self)\u001b[0m\n\u001b[0;32m    260\u001b[0m         \u001b[1;31m# change the default number of processes to -1\u001b[0m\u001b[1;33m\u001b[0m\u001b[1;33m\u001b[0m\u001b[0m\n\u001b[0;32m    261\u001b[0m         \u001b[1;32mwith\u001b[0m \u001b[0mparallel_backend\u001b[0m\u001b[1;33m(\u001b[0m\u001b[0mself\u001b[0m\u001b[1;33m.\u001b[0m\u001b[0m_backend\u001b[0m\u001b[1;33m,\u001b[0m \u001b[0mn_jobs\u001b[0m\u001b[1;33m=\u001b[0m\u001b[0mself\u001b[0m\u001b[1;33m.\u001b[0m\u001b[0m_n_jobs\u001b[0m\u001b[1;33m)\u001b[0m\u001b[1;33m:\u001b[0m\u001b[1;33m\u001b[0m\u001b[1;33m\u001b[0m\u001b[0m\n\u001b[1;32m--> 262\u001b[1;33m             return [func(*args, **kwargs)\n\u001b[0m\u001b[0;32m    263\u001b[0m                     for func, args, kwargs in self.items]\n\u001b[0;32m    264\u001b[0m \u001b[1;33m\u001b[0m\u001b[0m\n",
      "\u001b[1;32m~\\anaconda3\\lib\\site-packages\\joblib\\parallel.py\u001b[0m in \u001b[0;36m<listcomp>\u001b[1;34m(.0)\u001b[0m\n\u001b[0;32m    260\u001b[0m         \u001b[1;31m# change the default number of processes to -1\u001b[0m\u001b[1;33m\u001b[0m\u001b[1;33m\u001b[0m\u001b[0m\n\u001b[0;32m    261\u001b[0m         \u001b[1;32mwith\u001b[0m \u001b[0mparallel_backend\u001b[0m\u001b[1;33m(\u001b[0m\u001b[0mself\u001b[0m\u001b[1;33m.\u001b[0m\u001b[0m_backend\u001b[0m\u001b[1;33m,\u001b[0m \u001b[0mn_jobs\u001b[0m\u001b[1;33m=\u001b[0m\u001b[0mself\u001b[0m\u001b[1;33m.\u001b[0m\u001b[0m_n_jobs\u001b[0m\u001b[1;33m)\u001b[0m\u001b[1;33m:\u001b[0m\u001b[1;33m\u001b[0m\u001b[1;33m\u001b[0m\u001b[0m\n\u001b[1;32m--> 262\u001b[1;33m             return [func(*args, **kwargs)\n\u001b[0m\u001b[0;32m    263\u001b[0m                     for func, args, kwargs in self.items]\n\u001b[0;32m    264\u001b[0m \u001b[1;33m\u001b[0m\u001b[0m\n",
      "\u001b[1;32m~\\anaconda3\\lib\\site-packages\\sklearn\\utils\\fixes.py\u001b[0m in \u001b[0;36m__call__\u001b[1;34m(self, *args, **kwargs)\u001b[0m\n\u001b[0;32m    214\u001b[0m     \u001b[1;32mdef\u001b[0m \u001b[0m__call__\u001b[0m\u001b[1;33m(\u001b[0m\u001b[0mself\u001b[0m\u001b[1;33m,\u001b[0m \u001b[1;33m*\u001b[0m\u001b[0margs\u001b[0m\u001b[1;33m,\u001b[0m \u001b[1;33m**\u001b[0m\u001b[0mkwargs\u001b[0m\u001b[1;33m)\u001b[0m\u001b[1;33m:\u001b[0m\u001b[1;33m\u001b[0m\u001b[1;33m\u001b[0m\u001b[0m\n\u001b[0;32m    215\u001b[0m         \u001b[1;32mwith\u001b[0m \u001b[0mconfig_context\u001b[0m\u001b[1;33m(\u001b[0m\u001b[1;33m**\u001b[0m\u001b[0mself\u001b[0m\u001b[1;33m.\u001b[0m\u001b[0mconfig\u001b[0m\u001b[1;33m)\u001b[0m\u001b[1;33m:\u001b[0m\u001b[1;33m\u001b[0m\u001b[1;33m\u001b[0m\u001b[0m\n\u001b[1;32m--> 216\u001b[1;33m             \u001b[1;32mreturn\u001b[0m \u001b[0mself\u001b[0m\u001b[1;33m.\u001b[0m\u001b[0mfunction\u001b[0m\u001b[1;33m(\u001b[0m\u001b[1;33m*\u001b[0m\u001b[0margs\u001b[0m\u001b[1;33m,\u001b[0m \u001b[1;33m**\u001b[0m\u001b[0mkwargs\u001b[0m\u001b[1;33m)\u001b[0m\u001b[1;33m\u001b[0m\u001b[1;33m\u001b[0m\u001b[0m\n\u001b[0m\u001b[0;32m    217\u001b[0m \u001b[1;33m\u001b[0m\u001b[0m\n\u001b[0;32m    218\u001b[0m \u001b[1;33m\u001b[0m\u001b[0m\n",
      "\u001b[1;32m~\\anaconda3\\lib\\site-packages\\sklearn\\ensemble\\_forest.py\u001b[0m in \u001b[0;36m_parallel_build_trees\u001b[1;34m(tree, forest, X, y, sample_weight, tree_idx, n_trees, verbose, class_weight, n_samples_bootstrap)\u001b[0m\n\u001b[0;32m    183\u001b[0m             \u001b[0mcurr_sample_weight\u001b[0m \u001b[1;33m*=\u001b[0m \u001b[0mcompute_sample_weight\u001b[0m\u001b[1;33m(\u001b[0m\u001b[1;34m\"balanced\"\u001b[0m\u001b[1;33m,\u001b[0m \u001b[0my\u001b[0m\u001b[1;33m,\u001b[0m \u001b[0mindices\u001b[0m\u001b[1;33m=\u001b[0m\u001b[0mindices\u001b[0m\u001b[1;33m)\u001b[0m\u001b[1;33m\u001b[0m\u001b[1;33m\u001b[0m\u001b[0m\n\u001b[0;32m    184\u001b[0m \u001b[1;33m\u001b[0m\u001b[0m\n\u001b[1;32m--> 185\u001b[1;33m         \u001b[0mtree\u001b[0m\u001b[1;33m.\u001b[0m\u001b[0mfit\u001b[0m\u001b[1;33m(\u001b[0m\u001b[0mX\u001b[0m\u001b[1;33m,\u001b[0m \u001b[0my\u001b[0m\u001b[1;33m,\u001b[0m \u001b[0msample_weight\u001b[0m\u001b[1;33m=\u001b[0m\u001b[0mcurr_sample_weight\u001b[0m\u001b[1;33m,\u001b[0m \u001b[0mcheck_input\u001b[0m\u001b[1;33m=\u001b[0m\u001b[1;32mFalse\u001b[0m\u001b[1;33m)\u001b[0m\u001b[1;33m\u001b[0m\u001b[1;33m\u001b[0m\u001b[0m\n\u001b[0m\u001b[0;32m    186\u001b[0m     \u001b[1;32melse\u001b[0m\u001b[1;33m:\u001b[0m\u001b[1;33m\u001b[0m\u001b[1;33m\u001b[0m\u001b[0m\n\u001b[0;32m    187\u001b[0m         \u001b[0mtree\u001b[0m\u001b[1;33m.\u001b[0m\u001b[0mfit\u001b[0m\u001b[1;33m(\u001b[0m\u001b[0mX\u001b[0m\u001b[1;33m,\u001b[0m \u001b[0my\u001b[0m\u001b[1;33m,\u001b[0m \u001b[0msample_weight\u001b[0m\u001b[1;33m=\u001b[0m\u001b[0msample_weight\u001b[0m\u001b[1;33m,\u001b[0m \u001b[0mcheck_input\u001b[0m\u001b[1;33m=\u001b[0m\u001b[1;32mFalse\u001b[0m\u001b[1;33m)\u001b[0m\u001b[1;33m\u001b[0m\u001b[1;33m\u001b[0m\u001b[0m\n",
      "\u001b[1;32m~\\anaconda3\\lib\\site-packages\\sklearn\\tree\\_classes.py\u001b[0m in \u001b[0;36mfit\u001b[1;34m(self, X, y, sample_weight, check_input, X_idx_sorted)\u001b[0m\n\u001b[0;32m   1313\u001b[0m         \"\"\"\n\u001b[0;32m   1314\u001b[0m \u001b[1;33m\u001b[0m\u001b[0m\n\u001b[1;32m-> 1315\u001b[1;33m         super().fit(\n\u001b[0m\u001b[0;32m   1316\u001b[0m             \u001b[0mX\u001b[0m\u001b[1;33m,\u001b[0m\u001b[1;33m\u001b[0m\u001b[1;33m\u001b[0m\u001b[0m\n\u001b[0;32m   1317\u001b[0m             \u001b[0my\u001b[0m\u001b[1;33m,\u001b[0m\u001b[1;33m\u001b[0m\u001b[1;33m\u001b[0m\u001b[0m\n",
      "\u001b[1;32m~\\anaconda3\\lib\\site-packages\\sklearn\\tree\\_classes.py\u001b[0m in \u001b[0;36mfit\u001b[1;34m(self, X, y, sample_weight, check_input, X_idx_sorted)\u001b[0m\n\u001b[0;32m    418\u001b[0m             )\n\u001b[0;32m    419\u001b[0m \u001b[1;33m\u001b[0m\u001b[0m\n\u001b[1;32m--> 420\u001b[1;33m         \u001b[0mbuilder\u001b[0m\u001b[1;33m.\u001b[0m\u001b[0mbuild\u001b[0m\u001b[1;33m(\u001b[0m\u001b[0mself\u001b[0m\u001b[1;33m.\u001b[0m\u001b[0mtree_\u001b[0m\u001b[1;33m,\u001b[0m \u001b[0mX\u001b[0m\u001b[1;33m,\u001b[0m \u001b[0my\u001b[0m\u001b[1;33m,\u001b[0m \u001b[0msample_weight\u001b[0m\u001b[1;33m)\u001b[0m\u001b[1;33m\u001b[0m\u001b[1;33m\u001b[0m\u001b[0m\n\u001b[0m\u001b[0;32m    421\u001b[0m \u001b[1;33m\u001b[0m\u001b[0m\n\u001b[0;32m    422\u001b[0m         \u001b[1;32mif\u001b[0m \u001b[0mself\u001b[0m\u001b[1;33m.\u001b[0m\u001b[0mn_outputs_\u001b[0m \u001b[1;33m==\u001b[0m \u001b[1;36m1\u001b[0m \u001b[1;32mand\u001b[0m \u001b[0mis_classifier\u001b[0m\u001b[1;33m(\u001b[0m\u001b[0mself\u001b[0m\u001b[1;33m)\u001b[0m\u001b[1;33m:\u001b[0m\u001b[1;33m\u001b[0m\u001b[1;33m\u001b[0m\u001b[0m\n",
      "\u001b[1;31mKeyboardInterrupt\u001b[0m: "
     ]
    }
   ],
   "source": [
    "# 모델 진행\n",
    "\n",
    "## 훈련 - 테스트 데이터 나누기\n",
    "X_train, X_test, y_train, y_test = train_test_sp(data_tele_iqred)\n",
    "\n",
    "## 파라미터\n",
    "param = {\n",
    "    'max_depth' : 200,\n",
    "    'min_samples_split' : 20,\n",
    "    'min_samples_leaf' : 40\n",
    "}\n",
    "\n",
    "## 학습 및 예측\n",
    "# pred, y_test = rfr(X_train, X_test, y_train, y_test)\n",
    "\n",
    "## 평가\n",
    "from sklearn.ensemble import RandomForestRegressor\n",
    "rfrr = RandomForestRegressor(max_depth = param.get('max_depth'),\n",
    "                   min_samples_split = param.get('min_samples_split'),\n",
    "                   min_samples_leaf = param.get('min_samples_leaf'))\n",
    "model = rfrr.fit(X_train, y_train)\n"
   ]
  },
  {
   "cell_type": "markdown",
   "id": "e176dd1f-db8e-4fa7-aeb4-8f78555f07aa",
   "metadata": {},
   "source": [
    "## 로지스틱 회귀 "
   ]
  },
  {
   "cell_type": "markdown",
   "id": "966a9dd5-da60-4c53-a709-b0dfff5c6064",
   "metadata": {},
   "source": [
    "## 다항회귀"
   ]
  },
  {
   "cell_type": "markdown",
   "id": "f0a6d331-1691-459a-a741-5de8f4e382aa",
   "metadata": {},
   "source": [
    "## 주성분 분석"
   ]
  },
  {
   "cell_type": "code",
   "execution_count": 71,
   "id": "a98744b5-9558-495a-9feb-8dc6c4bbc502",
   "metadata": {},
   "outputs": [],
   "source": [
    "from sklearn.decomposition import PCA\n",
    "\n",
    "pca = PCA()"
   ]
  },
  {
   "cell_type": "code",
   "execution_count": null,
   "id": "3fda30d4-d35c-4018-9479-2c34a423d4c9",
   "metadata": {},
   "outputs": [],
   "source": []
  }
 ],
 "metadata": {
  "kernelspec": {
   "display_name": "Python 3 (ipykernel)",
   "language": "python",
   "name": "python3"
  },
  "language_info": {
   "codemirror_mode": {
    "name": "ipython",
    "version": 3
   },
   "file_extension": ".py",
   "mimetype": "text/x-python",
   "name": "python",
   "nbconvert_exporter": "python",
   "pygments_lexer": "ipython3",
   "version": "3.8.15"
  }
 },
 "nbformat": 4,
 "nbformat_minor": 5
}
