{
 "cells": [
  {
   "cell_type": "code",
   "execution_count": 1,
   "id": "f06c1581-9296-4773-9b44-c72907c8ae8c",
   "metadata": {},
   "outputs": [],
   "source": [
    "import pandas as pd\n",
    "from tqdm.notebook import tqdm\n",
    "import warnings \n",
    "warnings.filterwarnings('ignore')\n",
    "\n",
    "from sklearn.preprocessing import LabelEncoder\n",
    "from sklearn.model_selection import train_test_split\n",
    "from sklearn.ensemble import RandomForestClassifier\n",
    "from sklearn.metrics import accuracy_score, f1_score\n",
    "from sklearn.tree import DecisionTreeClassifier\n",
    "from sklearn.linear_model import LogisticRegression\n",
    "from sklearn.metrics import classification_report\n",
    "from sklearn.metrics import log_loss"
   ]
  },
  {
   "cell_type": "markdown",
   "id": "1ac37eed-cb5e-4c75-95dc-66a66d092fd4",
   "metadata": {},
   "source": [
    "# 통신데이터 합치기 및 카테고리별로 데이터프레임 나누기"
   ]
  },
  {
   "cell_type": "code",
   "execution_count": 38,
   "id": "43980ca2-2f9d-415b-b0a3-36415ee9ada7",
   "metadata": {
    "tags": []
   },
   "outputs": [
    {
     "data": {
      "application/vnd.jupyter.widget-view+json": {
       "model_id": "c5e0fab2251c46f68c36529871b3d53e",
       "version_major": 2,
       "version_minor": 0
      },
      "text/plain": [
       "월단위 진행:   0%|          | 0/9 [00:00<?, ?it/s]"
      ]
     },
     "metadata": {},
     "output_type": "display_data"
    },
    {
     "data": {
      "application/vnd.jupyter.widget-view+json": {
       "model_id": "39eaf6ac99634c039c5fdb1e6621f98b",
       "version_major": 2,
       "version_minor": 0
      },
      "text/plain": [
       "1월:   0%|          | 0/20 [00:00<?, ?it/s]"
      ]
     },
     "metadata": {},
     "output_type": "display_data"
    },
    {
     "data": {
      "application/vnd.jupyter.widget-view+json": {
       "model_id": "a78e3598b29b4aada3da52992e9ad0d1",
       "version_major": 2,
       "version_minor": 0
      },
      "text/plain": [
       "2월:   0%|          | 0/20 [00:00<?, ?it/s]"
      ]
     },
     "metadata": {},
     "output_type": "display_data"
    },
    {
     "data": {
      "application/vnd.jupyter.widget-view+json": {
       "model_id": "a444bfceb88a45fa861f805d8e485b36",
       "version_major": 2,
       "version_minor": 0
      },
      "text/plain": [
       "3월:   0%|          | 0/20 [00:00<?, ?it/s]"
      ]
     },
     "metadata": {},
     "output_type": "display_data"
    },
    {
     "data": {
      "application/vnd.jupyter.widget-view+json": {
       "model_id": "aab0ad2c8bc0401496eabc4fa3f8a19f",
       "version_major": 2,
       "version_minor": 0
      },
      "text/plain": [
       "4월:   0%|          | 0/20 [00:00<?, ?it/s]"
      ]
     },
     "metadata": {},
     "output_type": "display_data"
    },
    {
     "data": {
      "application/vnd.jupyter.widget-view+json": {
       "model_id": "0b555273b673438fb703e043d715234c",
       "version_major": 2,
       "version_minor": 0
      },
      "text/plain": [
       "5월:   0%|          | 0/20 [00:00<?, ?it/s]"
      ]
     },
     "metadata": {},
     "output_type": "display_data"
    },
    {
     "data": {
      "application/vnd.jupyter.widget-view+json": {
       "model_id": "ee2ead1f48e34d9bb197e31513d49d6f",
       "version_major": 2,
       "version_minor": 0
      },
      "text/plain": [
       "6월:   0%|          | 0/20 [00:00<?, ?it/s]"
      ]
     },
     "metadata": {},
     "output_type": "display_data"
    },
    {
     "data": {
      "application/vnd.jupyter.widget-view+json": {
       "model_id": "3e7ec782d8b141cfbdbdb39183967b35",
       "version_major": 2,
       "version_minor": 0
      },
      "text/plain": [
       "7월:   0%|          | 0/20 [00:00<?, ?it/s]"
      ]
     },
     "metadata": {},
     "output_type": "display_data"
    },
    {
     "data": {
      "application/vnd.jupyter.widget-view+json": {
       "model_id": "1612c82ace4a40d58cca9d36b5f888ba",
       "version_major": 2,
       "version_minor": 0
      },
      "text/plain": [
       "8월:   0%|          | 0/20 [00:00<?, ?it/s]"
      ]
     },
     "metadata": {},
     "output_type": "display_data"
    },
    {
     "data": {
      "application/vnd.jupyter.widget-view+json": {
       "model_id": "ccdeffe75402411f88e6a11a56d6713d",
       "version_major": 2,
       "version_minor": 0
      },
      "text/plain": [
       "9월:   0%|          | 0/20 [00:00<?, ?it/s]"
      ]
     },
     "metadata": {},
     "output_type": "display_data"
    },
    {
     "data": {
      "application/vnd.jupyter.widget-view+json": {
       "model_id": "2c873f156b9f43648dcee6a1bb19250d",
       "version_major": 2,
       "version_minor": 0
      },
      "text/plain": [
       "카테고리별로 합치기:   0%|          | 0/20 [00:00<?, ?it/s]"
      ]
     },
     "metadata": {},
     "output_type": "display_data"
    }
   ],
   "source": [
    "for m in tqdm(range(1,10),desc='월단위 진행'):\n",
    "    globals()[\"ts{}\".format(m)] = pd.read_csv(f'./data/2022.{m}월_29개 통신정보.csv',encoding='cp949')\n",
    "    try : \n",
    "        globals()[\"ts{}\".format(m)].drop(columns=['행정동코드','총인구수','1인가구수'],inplace=True)    \n",
    "    except:\n",
    "        globals()[\"ts{}\".format(m)].drop(columns=['행정동코드','총인구','1인가구수'],inplace=True)  \n",
    "    # globals()[\"ts{}\".format(m)].drop(columns=globals()[\"ts{}\".format(m)].filter(like='4분위수'),inplace=True) \n",
    "    # 데이터가 평균값을 제시하고 그 외 4분위 관련 수치를 따로 제공해주고 있음 -> 이미 전처리가 되어있는 거 같음..?\n",
    "    globals()[\"ts{}\".format(m)]['연령대_1'] = globals()[\"ts{}\".format(m)]['연령대']//10*10\n",
    "    globals()[\"ts{}\".format(m)]['월'] = int(m)\n",
    "    fix = globals()[\"ts{}\".format(m)][['월','연령대_1','자치구','성별']]\n",
    "    uni = ['상주지','출근','근무','소액결재','연체','카카오톡','SNS','통화','문자','데이터','이동','체류','지하철','게임','금융','쇼핑','동영상','유튜브','넷플릭스','배달']\n",
    "\n",
    "    for col in tqdm(uni,desc=f'{m}월'):\n",
    "        globals()[\"{}_{}\".format(col,m)] = pd.concat([fix,globals()[\"ts{}\".format(m)].filter(like=col)],axis=1)\n",
    "\n",
    "for col in tqdm(uni,desc='카테고리별로 합치기'):\n",
    "    globals()[\"{}\".format(col)] = pd.DataFrame()\n",
    "    for m in range(1,10):\n",
    "        globals()[\"{}\".format(col)]= pd.concat([globals()[\"{}\".format(col)],globals()[\"{}_{}\".format(col,m)]])\n"
   ]
  },
  {
   "cell_type": "code",
   "execution_count": 3,
   "id": "7396ee1d-4c99-461c-a9ca-6374fa101c77",
   "metadata": {},
   "outputs": [
    {
     "data": {
      "text/plain": [
       "20"
      ]
     },
     "execution_count": 3,
     "metadata": {},
     "output_type": "execute_result"
    }
   ],
   "source": [
    "len(uni)"
   ]
  },
  {
   "cell_type": "code",
   "execution_count": 39,
   "id": "24819904-2628-4c9d-8e72-63a62067cb56",
   "metadata": {},
   "outputs": [
    {
     "data": {
      "text/plain": [
       "[['상주지', '출근', '근무', '소액결재', '연체'],\n",
       " ['카카오톡', 'SNS', '통화', '문자', '데이터'],\n",
       " ['이동', '체류', '지하철', '게임', '금융'],\n",
       " ['쇼핑', '동영상', '유튜브', '넷플릭스', '배달']]"
      ]
     },
     "execution_count": 39,
     "metadata": {},
     "output_type": "execute_result"
    }
   ],
   "source": [
    "def lst_chunk(lst,n):\n",
    "    return [lst[i:i+n] for i in range(0,len(lst),n)]\n",
    "\n",
    "uni_dv = lst_chunk(uni,5)\n",
    "uni_dv"
   ]
  },
  {
   "cell_type": "code",
   "execution_count": 25,
   "id": "869424dd-cf15-4621-9e6a-ff2731af1b13",
   "metadata": {
    "tags": []
   },
   "outputs": [
    {
     "data": {
      "text/plain": [
       "(10176, 10176)"
      ]
     },
     "execution_count": 25,
     "metadata": {},
     "output_type": "execute_result"
    }
   ],
   "source": [
    "게임_8.shape[0], ts8.shape[0]"
   ]
  },
  {
   "cell_type": "code",
   "execution_count": 43,
   "id": "a05446a3-398a-4c02-a30d-90a620931e74",
   "metadata": {},
   "outputs": [
    {
     "data": {
      "text/html": [
       "<div>\n",
       "<style scoped>\n",
       "    .dataframe tbody tr th:only-of-type {\n",
       "        vertical-align: middle;\n",
       "    }\n",
       "\n",
       "    .dataframe tbody tr th {\n",
       "        vertical-align: top;\n",
       "    }\n",
       "\n",
       "    .dataframe thead th {\n",
       "        text-align: right;\n",
       "    }\n",
       "</style>\n",
       "<table border=\"1\" class=\"dataframe\">\n",
       "  <thead>\n",
       "    <tr style=\"text-align: right;\">\n",
       "      <th></th>\n",
       "      <th>월</th>\n",
       "      <th>연령대_1</th>\n",
       "      <th>성별</th>\n",
       "      <th>게임 서비스 사용 미추정 인구수</th>\n",
       "      <th>게임 서비스 사용일수</th>\n",
       "      <th>게임 서비스 사용일수: 4분위수, 25%</th>\n",
       "      <th>게임 서비스 사용일수: 4분위수, 50%</th>\n",
       "      <th>게임 서비스 사용일수: 4분위수, 75%</th>\n",
       "    </tr>\n",
       "  </thead>\n",
       "  <tbody>\n",
       "    <tr>\n",
       "      <th>count</th>\n",
       "      <td>91584.000000</td>\n",
       "      <td>91584.000000</td>\n",
       "      <td>91584.000000</td>\n",
       "      <td>91584.000000</td>\n",
       "      <td>91584.000000</td>\n",
       "      <td>91584.000000</td>\n",
       "      <td>91584.000000</td>\n",
       "      <td>91584.000000</td>\n",
       "    </tr>\n",
       "    <tr>\n",
       "      <th>mean</th>\n",
       "      <td>5.000000</td>\n",
       "      <td>45.000000</td>\n",
       "      <td>1.500000</td>\n",
       "      <td>38.540935</td>\n",
       "      <td>45.815114</td>\n",
       "      <td>27.190345</td>\n",
       "      <td>38.436058</td>\n",
       "      <td>58.063953</td>\n",
       "    </tr>\n",
       "    <tr>\n",
       "      <th>std</th>\n",
       "      <td>2.582003</td>\n",
       "      <td>17.078345</td>\n",
       "      <td>0.500003</td>\n",
       "      <td>38.883687</td>\n",
       "      <td>13.939530</td>\n",
       "      <td>5.945774</td>\n",
       "      <td>10.658400</td>\n",
       "      <td>25.049529</td>\n",
       "    </tr>\n",
       "    <tr>\n",
       "      <th>min</th>\n",
       "      <td>1.000000</td>\n",
       "      <td>20.000000</td>\n",
       "      <td>1.000000</td>\n",
       "      <td>0.000000</td>\n",
       "      <td>20.400000</td>\n",
       "      <td>3.300000</td>\n",
       "      <td>18.300000</td>\n",
       "      <td>23.300000</td>\n",
       "    </tr>\n",
       "    <tr>\n",
       "      <th>25%</th>\n",
       "      <td>3.000000</td>\n",
       "      <td>30.000000</td>\n",
       "      <td>1.000000</td>\n",
       "      <td>17.000000</td>\n",
       "      <td>35.700000</td>\n",
       "      <td>23.300000</td>\n",
       "      <td>31.700000</td>\n",
       "      <td>40.000000</td>\n",
       "    </tr>\n",
       "    <tr>\n",
       "      <th>50%</th>\n",
       "      <td>5.000000</td>\n",
       "      <td>45.000000</td>\n",
       "      <td>1.500000</td>\n",
       "      <td>30.000000</td>\n",
       "      <td>41.400000</td>\n",
       "      <td>26.700000</td>\n",
       "      <td>33.300000</td>\n",
       "      <td>48.300000</td>\n",
       "    </tr>\n",
       "    <tr>\n",
       "      <th>75%</th>\n",
       "      <td>7.000000</td>\n",
       "      <td>60.000000</td>\n",
       "      <td>2.000000</td>\n",
       "      <td>46.000000</td>\n",
       "      <td>55.400000</td>\n",
       "      <td>31.700000</td>\n",
       "      <td>43.300000</td>\n",
       "      <td>70.000000</td>\n",
       "    </tr>\n",
       "    <tr>\n",
       "      <th>max</th>\n",
       "      <td>9.000000</td>\n",
       "      <td>70.000000</td>\n",
       "      <td>2.000000</td>\n",
       "      <td>542.000000</td>\n",
       "      <td>109.800000</td>\n",
       "      <td>73.300000</td>\n",
       "      <td>131.700000</td>\n",
       "      <td>150.000000</td>\n",
       "    </tr>\n",
       "  </tbody>\n",
       "</table>\n",
       "</div>"
      ],
      "text/plain": [
       "                  월         연령대_1            성별  게임 서비스 사용 미추정 인구수  \\\n",
       "count  91584.000000  91584.000000  91584.000000       91584.000000   \n",
       "mean       5.000000     45.000000      1.500000          38.540935   \n",
       "std        2.582003     17.078345      0.500003          38.883687   \n",
       "min        1.000000     20.000000      1.000000           0.000000   \n",
       "25%        3.000000     30.000000      1.000000          17.000000   \n",
       "50%        5.000000     45.000000      1.500000          30.000000   \n",
       "75%        7.000000     60.000000      2.000000          46.000000   \n",
       "max        9.000000     70.000000      2.000000         542.000000   \n",
       "\n",
       "        게임 서비스 사용일수  게임 서비스 사용일수: 4분위수, 25%  게임 서비스 사용일수: 4분위수, 50%  \\\n",
       "count  91584.000000            91584.000000            91584.000000   \n",
       "mean      45.815114               27.190345               38.436058   \n",
       "std       13.939530                5.945774               10.658400   \n",
       "min       20.400000                3.300000               18.300000   \n",
       "25%       35.700000               23.300000               31.700000   \n",
       "50%       41.400000               26.700000               33.300000   \n",
       "75%       55.400000               31.700000               43.300000   \n",
       "max      109.800000               73.300000              131.700000   \n",
       "\n",
       "       게임 서비스 사용일수: 4분위수, 75%  \n",
       "count            91584.000000  \n",
       "mean                58.063953  \n",
       "std                 25.049529  \n",
       "min                 23.300000  \n",
       "25%                 40.000000  \n",
       "50%                 48.300000  \n",
       "75%                 70.000000  \n",
       "max                150.000000  "
      ]
     },
     "execution_count": 43,
     "metadata": {},
     "output_type": "execute_result"
    }
   ],
   "source": [
    "게임.describe()"
   ]
  },
  {
   "cell_type": "markdown",
   "id": "59316642-7a7b-4a5d-8b4a-eaf23ba43444",
   "metadata": {},
   "source": [
    "# 카테고리별로 분류 모델링 돌리고 평가지표 확인(전처리 아무것도 안한 데이터)"
   ]
  },
  {
   "cell_type": "code",
   "execution_count": null,
   "id": "c7c3b632-b685-4530-99d9-c6fc9cb2cd84",
   "metadata": {
    "tags": []
   },
   "outputs": [],
   "source": [
    "uni_df = [상주지,출근,근무,소액결재,연체,카카오톡,SNS,통화,문자,데이터,이동,체류,지하철,게임,금융,쇼핑,동영상,유튜브,넷플릭스,배달]\n",
    "uni = ['상주지','출근','근무','소액결재','연체','카카오톡','SNS','통화','문자','데이터','이동','체류','지하철','게임','금융','쇼핑','동영상','유튜브','넷플릭스','배달']\n",
    "\n",
    "for name_df,name in zip(tqdm(uni_df),uni):\n",
    "    test = name_df.drop(columns=['자치구','월'])\n",
    "    y = test[['연령대_1']]\n",
    "    X=test.drop(columns='연령대_1')\n",
    "    \n",
    "    #연령 인코딩 해주기\n",
    "    le = LabelEncoder()\n",
    "    result = le.fit_transform(y['연령대_1'])\n",
    "    # print(le.classes_)\n",
    "    \n",
    "    # 성별 인코딩 해주기 \n",
    "    le = LabelEncoder()\n",
    "    X['성별'] = le.fit_transform(X['성별'])\n",
    "    # print(le.classes_)\n",
    "\n",
    "    X_train,X_test, y_train,y_test = train_test_split(X,result,test_size=0.2,random_state=11)\n",
    "    dt = DecisionTreeClassifier()\n",
    "    dt.fit(X_train,y_train)\n",
    "    pred_dt = dt.predict(X_test)\n",
    "    pred_proba_dt = dt.predict_proba(X_test)\n",
    "    \n",
    "    rf = RandomForestClassifier()\n",
    "    rf.fit(X_train,y_train)\n",
    "    pred_rf = rf.predict(X_test)\n",
    "    pred_proba_rf = rf.predict_proba(X_test)\n",
    "    \n",
    "    print(f'=== [{name}] 정보 분류 모형 성능 평가 ===')\n",
    "    print(f'DT accuracy : {accuracy_score(y_test,pred_dt)} \\nDT f1(macro) : {f1_score(y_test,pred_dt,average=\"macro\")} \\nDT logloss : {log_loss(y_test,pred_proba_dt)}\\n')\n",
    "    print(f'RF accuracy : {accuracy_score(y_test,pred_rf)} \\nRF f1(macro) : {f1_score(y_test,pred_rf,average=\"macro\")} \\nRF logloss : {log_loss(y_test,pred_proba_rf)}\\n')\n",
    "    \n",
    "    # print(classification_report(y_test,pred))"
   ]
  },
  {
   "cell_type": "code",
   "execution_count": null,
   "id": "bc719cb6-8b86-47f1-b9c5-e13b2a3e905f",
   "metadata": {},
   "outputs": [],
   "source": []
  }
 ],
 "metadata": {
  "kernelspec": {
   "display_name": "Python 3 (ipykernel)",
   "language": "python",
   "name": "python3"
  },
  "language_info": {
   "codemirror_mode": {
    "name": "ipython",
    "version": 3
   },
   "file_extension": ".py",
   "mimetype": "text/x-python",
   "name": "python",
   "nbconvert_exporter": "python",
   "pygments_lexer": "ipython3",
   "version": "3.9.12"
  }
 },
 "nbformat": 4,
 "nbformat_minor": 5
}
