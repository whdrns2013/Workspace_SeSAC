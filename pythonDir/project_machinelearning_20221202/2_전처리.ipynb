{
 "cells": [
  {
   "cell_type": "code",
   "execution_count": 218,
   "id": "cb774fb7-aab7-4b4e-9d05-c8b83937265b",
   "metadata": {},
   "outputs": [],
   "source": [
    "import pandas as pd\n",
    "import numpy as np\n",
    "import matplotlib.pyplot as plt\n",
    "import seaborn as sns\n",
    "from tqdm.notebook import tqdm\n",
    "import warnings \n",
    "warnings.filterwarnings('ignore')\n",
    "\n",
    "import scale\n",
    "from sklearn.preprocessing import StandardScaler\n",
    "from sklearn.preprocessing import LabelEncoder\n",
    "from sklearn.model_selection import train_test_split\n",
    "from sklearn.ensemble import RandomForestClassifier\n",
    "from sklearn.metrics import accuracy_score, f1_score\n",
    "from sklearn.tree import DecisionTreeClassifier\n",
    "from sklearn.linear_model import LogisticRegression\n",
    "from sklearn.metrics import classification_report\n",
    "from sklearn.metrics import log_loss\n",
    "from xgboost import XGBClassifier"
   ]
  },
  {
   "cell_type": "markdown",
   "id": "0b6e25e7-4350-43e6-9f45-58280d3f2e56",
   "metadata": {
    "tags": []
   },
   "source": [
    "# 이상치 제거 함수"
   ]
  },
  {
   "cell_type": "code",
   "execution_count": 219,
   "id": "1111a28c-7ca0-414d-92ea-056e34bac707",
   "metadata": {},
   "outputs": [],
   "source": [
    "def get_outlier(df=None, column=None, weight=1.5):\n",
    "    import numpy as np\n",
    "    age_group_list = [20,30,40,50,60,70]\n",
    "    outlier_index_set = set()\n",
    "    \n",
    "    \n",
    "    for age_group in age_group_list:\n",
    "        # fraud에 해당하는 column 데이터만 추출, 1/4 분위와 3/4 분위 지점을 np.percentile로 구함. \n",
    "        fraud = df[df['연령대_1']==age_group][column]\n",
    "        quantile_25 = np.percentile(fraud.values, 25)\n",
    "        quantile_75 = np.percentile(fraud.values, 75)\n",
    "        iqr = quantile_75 - quantile_25\n",
    "        iqr_weight = iqr * weight\n",
    "        lowest_val = quantile_25 - iqr_weight\n",
    "        highest_val = quantile_75 + iqr_weight\n",
    "        # 최대값 보다 크거나, 최소값 보다 작은 값을 아웃라이어로 설정하고 DataFrame index 반환. \n",
    "        outlier_index_set = outlier_index_set | set(fraud[(fraud < lowest_val) | (fraud > highest_val)].index)\n",
    "        \n",
    "    return outlier_index_set\n",
    "\n",
    "def remove_outlier(df=None,column_list=None,weight=1.5):\n",
    "    outlier_index_set = set()\n",
    "    \n",
    "    for column_name in column_list:\n",
    "        outlier_index = get_outlier(df=df, column=column_name, weight=weight)\n",
    "        outlier_index_set = outlier_index_set | outlier_index\n",
    "        \n",
    "    df.drop(list(outlier_index_set), inplace=True)\n",
    "    df.reset_index(drop=True, inplace=True)\n"
   ]
  },
  {
   "cell_type": "markdown",
   "id": "f0a0fa96-247f-4096-b4bc-7bea23a9fd9d",
   "metadata": {
    "tags": []
   },
   "source": [
    "# 통신데이터 컬럼 드랍 및 데이터 프레임 만들기"
   ]
  },
  {
   "cell_type": "code",
   "execution_count": 220,
   "id": "8f06056f-3a2a-4bbe-b99e-abaea695c303",
   "metadata": {
    "tags": []
   },
   "outputs": [
    {
     "data": {
      "application/vnd.jupyter.widget-view+json": {
       "model_id": "ba7c22d52aa0430285bd45ec8e0d9198",
       "version_major": 2,
       "version_minor": 0
      },
      "text/plain": [
       "월단위 진행:   0%|          | 0/9 [00:00<?, ?it/s]"
      ]
     },
     "metadata": {},
     "output_type": "display_data"
    },
    {
     "data": {
      "application/vnd.jupyter.widget-view+json": {
       "model_id": "f660878c164046adafd72a88ffa9d44a",
       "version_major": 2,
       "version_minor": 0
      },
      "text/plain": [
       "1월:   0%|          | 0/20 [00:00<?, ?it/s]"
      ]
     },
     "metadata": {},
     "output_type": "display_data"
    },
    {
     "data": {
      "application/vnd.jupyter.widget-view+json": {
       "model_id": "f127ab98f5cd498baf7c7113ef46faa8",
       "version_major": 2,
       "version_minor": 0
      },
      "text/plain": [
       "2월:   0%|          | 0/20 [00:00<?, ?it/s]"
      ]
     },
     "metadata": {},
     "output_type": "display_data"
    },
    {
     "data": {
      "application/vnd.jupyter.widget-view+json": {
       "model_id": "475ab8d828e94f5883783dc9771b12ba",
       "version_major": 2,
       "version_minor": 0
      },
      "text/plain": [
       "3월:   0%|          | 0/20 [00:00<?, ?it/s]"
      ]
     },
     "metadata": {},
     "output_type": "display_data"
    },
    {
     "data": {
      "application/vnd.jupyter.widget-view+json": {
       "model_id": "89cc450dce4a44f4b0dc9c40bafd8cad",
       "version_major": 2,
       "version_minor": 0
      },
      "text/plain": [
       "4월:   0%|          | 0/20 [00:00<?, ?it/s]"
      ]
     },
     "metadata": {},
     "output_type": "display_data"
    },
    {
     "data": {
      "application/vnd.jupyter.widget-view+json": {
       "model_id": "7e569d67eb4e41cba11f6d24895e05b0",
       "version_major": 2,
       "version_minor": 0
      },
      "text/plain": [
       "5월:   0%|          | 0/20 [00:00<?, ?it/s]"
      ]
     },
     "metadata": {},
     "output_type": "display_data"
    },
    {
     "data": {
      "application/vnd.jupyter.widget-view+json": {
       "model_id": "cdc194d2597c4b4ea2f6215bf7ae0b5b",
       "version_major": 2,
       "version_minor": 0
      },
      "text/plain": [
       "6월:   0%|          | 0/20 [00:00<?, ?it/s]"
      ]
     },
     "metadata": {},
     "output_type": "display_data"
    },
    {
     "data": {
      "application/vnd.jupyter.widget-view+json": {
       "model_id": "05736042d59b47eaa74070da1d8ad339",
       "version_major": 2,
       "version_minor": 0
      },
      "text/plain": [
       "7월:   0%|          | 0/20 [00:00<?, ?it/s]"
      ]
     },
     "metadata": {},
     "output_type": "display_data"
    },
    {
     "data": {
      "application/vnd.jupyter.widget-view+json": {
       "model_id": "4bdfdbf70bde42f1be33c969681f2c26",
       "version_major": 2,
       "version_minor": 0
      },
      "text/plain": [
       "8월:   0%|          | 0/20 [00:00<?, ?it/s]"
      ]
     },
     "metadata": {},
     "output_type": "display_data"
    },
    {
     "data": {
      "application/vnd.jupyter.widget-view+json": {
       "model_id": "3721e4385b0c4f7dbfba822fb87b337a",
       "version_major": 2,
       "version_minor": 0
      },
      "text/plain": [
       "9월:   0%|          | 0/20 [00:00<?, ?it/s]"
      ]
     },
     "metadata": {},
     "output_type": "display_data"
    },
    {
     "data": {
      "application/vnd.jupyter.widget-view+json": {
       "model_id": "0e26df8a8b7e49fa83189de8f259f307",
       "version_major": 2,
       "version_minor": 0
      },
      "text/plain": [
       "카테고리별로 합치기:   0%|          | 0/20 [00:00<?, ?it/s]"
      ]
     },
     "metadata": {},
     "output_type": "display_data"
    }
   ],
   "source": [
    "for m in tqdm(range(1,10),desc='월단위 진행'):\n",
    "    globals()[\"ts{}\".format(m)] = pd.read_csv(f'./data/2022.{m}월_29개 통신정보.csv',encoding='cp949')\n",
    "    try : \n",
    "        globals()[\"ts{}\".format(m)].drop(columns=['행정동코드','행정동','총인구수','1인가구수'],inplace=True)    \n",
    "    except:\n",
    "        globals()[\"ts{}\".format(m)].drop(columns=['행정동코드','행정동명','총인구','1인가구수'],inplace=True)  \n",
    "    globals()[\"ts{}\".format(m)].drop(columns=globals()[\"ts{}\".format(m)].filter(like='4분위수'),inplace=True)\n",
    "    globals()[\"ts{}\".format(m)].drop(columns=globals()[\"ts{}\".format(m)].filter(like='인구'),inplace=True) #미추정\n",
    "    \n",
    "    # 데이터가 평균값을 제시하고 그 외 4분위 관련 수치를 따로 제공해주고 있음 -> 이미 전처리가 되어있는 거 같음..?\n",
    "    globals()[\"ts{}\".format(m)]['연령대_1'] = globals()[\"ts{}\".format(m)]['연령대']//10*10\n",
    "    globals()[\"ts{}\".format(m)]['월'] = int(m)\n",
    "    fix = globals()[\"ts{}\".format(m)][['월','연령대','연령대_1','자치구','성별']]\n",
    "    uni = ['상주지','출근','근무','소액결재','연체','카카오톡','SNS','통화','문자','데이터','이동','체류','지하철','게임','금융','쇼핑','동영상','유튜브','넷플릭스','배달']\n",
    "    \n",
    "    for col in tqdm(uni,desc=f'{m}월'):\n",
    "        globals()[\"{}_{}\".format(col,m)] = pd.concat([fix,globals()[\"ts{}\".format(m)].filter(like=col)],axis=1)    \n",
    "        \n",
    "        \n",
    "for col in tqdm(uni,desc='카테고리별로 합치기'):\n",
    "    globals()[\"{}\".format(col)] = pd.DataFrame()\n",
    "    for m in range(1,10):\n",
    "        globals()[\"이동_{}\".format(m)].drop(columns= globals()[\"이동_{}\".format(m)].filter(like='지하철'),inplace=True)\n",
    "        globals()[\"{}\".format(col)]= pd.concat([globals()[\"{}\".format(col)],globals()[\"{}_{}\".format(col,m)]])"
   ]
  },
  {
   "cell_type": "code",
   "execution_count": 221,
   "id": "c10ca0e0-d5fe-4d85-9917-9297c98d107b",
   "metadata": {},
   "outputs": [],
   "source": [
    "df = pd.concat([ts1,ts2,ts3,ts4,ts5,ts6,ts7,ts8,ts9],axis=0,ignore_index=True)\n",
    "df258 = pd.concat([ts2,ts5,ts8],ignore_index=True)\n",
    "# df"
   ]
  },
  {
   "cell_type": "code",
   "execution_count": 210,
   "id": "3f502621-aff7-44a8-96bd-3b5caf859908",
   "metadata": {},
   "outputs": [],
   "source": [
    "df = df[['자치구', '성별', '연령대', '연령대_1', '월', '야간상주지 변경횟수 평균',\n",
    "       '주간상주지 변경횟수 평균', '평균 출근 소요시간 평균', '평균 근무시간 평균', '소액결재 사용횟수 평균',\n",
    "       '소액결재 사용금액 평균', '최근 3개월 내 요금 연체 비율', 'SNS 사용횟수', '평균 통화량', '평균 문자량',\n",
    "       '평균 통화대상자 수', '평균 문자대상자 수', '데이터 사용량', '평일 총 이동 횟수', '휴일 총 이동 횟수 평균',\n",
    "       '집 추정 위치 평일 총 체류시간', '집 추정 위치 휴일 총 체류시간', '평일 총 이동 거리 합계',\n",
    "       '휴일 총 이동 거리 합계', '지하철이동일수 합계', '게임 서비스 사용일수', '금융 서비스 사용일수',\n",
    "       '쇼핑 서비스 사용일수', '동영상/방송 서비스 사용일수', '유튜브 사용일수', '넷플릭스 사용일수',\n",
    "       '배달 서비스 사용일수', '배달_브랜드 서비스 사용일수', '배달_식재료 서비스 사용일수']]"
   ]
  },
  {
   "cell_type": "code",
   "execution_count": 222,
   "id": "d2a74382-a0de-462d-96f2-ee3a5d355d03",
   "metadata": {},
   "outputs": [],
   "source": [
    "# df.to_csv('./data_2/ts_all.csv',index=False)\n",
    "df258.to_csv('./data_2/ts_258.csv',index=False)"
   ]
  },
  {
   "cell_type": "code",
   "execution_count": 212,
   "id": "80557b58-b7a1-41e2-b74c-4722e3c520c5",
   "metadata": {},
   "outputs": [
    {
     "data": {
      "text/plain": [
       "(91584, 34)"
      ]
     },
     "execution_count": 212,
     "metadata": {},
     "output_type": "execute_result"
    }
   ],
   "source": [
    "df.shape"
   ]
  },
  {
   "cell_type": "markdown",
   "id": "0c626ca1-dae4-4343-a1cc-2ee12c924ff1",
   "metadata": {},
   "source": [
    "# 전처리"
   ]
  },
  {
   "cell_type": "markdown",
   "id": "3079a31c-3b28-4a6e-87a0-44c45d6b9358",
   "metadata": {},
   "source": [
    "## 이상치 제거"
   ]
  },
  {
   "cell_type": "code",
   "execution_count": 224,
   "id": "57623a17-496e-45b9-ac3b-79c0a78ea752",
   "metadata": {
    "tags": []
   },
   "outputs": [],
   "source": [
    "col_lst = df.columns[5:]\n",
    "col_= [x for x in col_lst ]\n",
    "# col_\n",
    "\n",
    "# remove_outlier(df,col_)\n",
    "remove_outlier(df258,col_)\n",
    "\n",
    "# df"
   ]
  },
  {
   "cell_type": "code",
   "execution_count": 215,
   "id": "7f04a433-1e81-490d-9dce-e42a9aca6807",
   "metadata": {
    "tags": []
   },
   "outputs": [
    {
     "data": {
      "text/plain": [
       "40    12037\n",
       "30    12019\n",
       "60    11333\n",
       "70    10427\n",
       "20     7963\n",
       "50     7709\n",
       "Name: 연령대_1, dtype: int64"
      ]
     },
     "execution_count": 215,
     "metadata": {},
     "output_type": "execute_result"
    }
   ],
   "source": [
    "df['연령대_1'].value_counts()"
   ]
  },
  {
   "cell_type": "code",
   "execution_count": 225,
   "id": "40b2a758-277f-4001-afc9-5366c9727fab",
   "metadata": {},
   "outputs": [],
   "source": [
    "# df.to_csv('./data_2/ts_outlier_done.csv',index=False)\n",
    "df258.to_csv('./data_2/ts258_outlier_done.csv',index=False)"
   ]
  },
  {
   "cell_type": "markdown",
   "id": "1e60fc4b-d49b-407b-a8a9-e2b4e5f56a5f",
   "metadata": {},
   "source": [
    "## 인코딩"
   ]
  },
  {
   "cell_type": "code",
   "execution_count": 174,
   "id": "ff592e28-b4c5-4873-985c-3f4f0d6c5735",
   "metadata": {},
   "outputs": [],
   "source": [
    "X_num = ['야간상주지 변경횟수 평균', '주간상주지 변경횟수 평균', '평균 출근 소요시간 평균', '평균 근무시간 평균',\n",
    "       '소액결재 사용횟수 평균', '소액결재 사용금액 평균', '최근 3개월 내 요금 연체 비율', 'SNS 사용횟수',\n",
    "       '평균 통화량', '평균 문자량', '평균 통화대상자 수', '평균 문자대상자 수', '데이터 사용량', '평일 총 이동 횟수',\n",
    "       '휴일 총 이동 횟수 평균', '집 추정 위치 평일 총 체류시간', '집 추정 위치 휴일 총 체류시간',\n",
    "       '평일 총 이동 거리 합계', '휴일 총 이동 거리 합계', '지하철이동일수 합계', '게임 서비스 사용일수',\n",
    "       '금융 서비스 사용일수', '쇼핑 서비스 사용일수', '동영상/방송 서비스 사용일수',\n",
    "        '배달 서비스 사용일수', '배달_브랜드 서비스 사용일수', '배달_식재료 서비스 사용일수']\n",
    "X_cat = ['성별']\n"
   ]
  },
  {
   "cell_type": "code",
   "execution_count": 147,
   "id": "5808d1e2-3cb8-40aa-89fc-a3215552b670",
   "metadata": {},
   "outputs": [],
   "source": [
    "# from sklearn.preprocessing import label_binarize\n",
    "# test = df.drop(columns=['자치구','월','연령대'])\n",
    "# X=test.drop(columns='연령대_1')\n",
    "# y = test['연령대_1']\n",
    "# y = label_binarize(y, classes=[0, 1, 2, 3, 4, 5])\n",
    "# n_classes = y.shape[1]"
   ]
  },
  {
   "cell_type": "code",
   "execution_count": 192,
   "id": "84c6cbe2-1e81-41d5-9acb-d609f109206c",
   "metadata": {},
   "outputs": [],
   "source": [
    "test = df.drop(columns=['자치구','월','연령대'])\n",
    "X=test.drop(columns='연령대_1')\n",
    "y = test[['연령대_1']]\n",
    "\n",
    "\n",
    "# #연령 인코딩 해주기\n",
    "# le = LabelEncoder()\n",
    "# y = le.fit_transform(y['연령대_1'])\n",
    "# # print(le.classes_)\n",
    "\n",
    "# # 성별 인코딩 해주기 \n",
    "# le = LabelEncoder()\n",
    "# X['성별'] = le.fit_transform(X['성별'])\n",
    "# # print(le.classes_)"
   ]
  },
  {
   "cell_type": "code",
   "execution_count": 148,
   "id": "7f5e05d8-8fa5-4cc2-81d1-e947a477fec9",
   "metadata": {},
   "outputs": [],
   "source": [
    "# test = df.drop(columns=['자치구','월','연령대'])\n",
    "# y = test[['연령대_1']]\n",
    "# X = test.drop(columns='연령대_1')\n",
    "# X = pd.get_dummies(X,columns=['성별'])\n",
    "# X\n",
    "\n",
    "# y = test[['연령대_1']]\n",
    "# y = pd.get_dummies(y['연령대_1'])\n",
    "# y"
   ]
  },
  {
   "cell_type": "markdown",
   "id": "2ddb8c30-b6c2-43ed-84f9-a16178b4c7f6",
   "metadata": {},
   "source": [
    "## 스케일링"
   ]
  },
  {
   "cell_type": "code",
   "execution_count": 185,
   "id": "6c30b6ed-10d8-4fec-b6db-c197bb5fd614",
   "metadata": {},
   "outputs": [],
   "source": [
    "X_train,X_test, y_train,y_test = train_test_split(X,y,test_size=0.2,random_state=11)"
   ]
  },
  {
   "cell_type": "code",
   "execution_count": 186,
   "id": "3e0e6cab-bbf8-4aa8-936c-423b6b995a46",
   "metadata": {},
   "outputs": [],
   "source": [
    "scaler = StandardScaler()\n",
    "X_train[X_num] = scaler.fit_transform(X_train[X_num])\n",
    "X_test[X_num] = scaler.transform(X_test[X_num])\n"
   ]
  },
  {
   "cell_type": "markdown",
   "id": "c509df1c-4fd0-4ae7-990a-8252eb09d909",
   "metadata": {
    "tags": []
   },
   "source": [
    "# 변수 선정"
   ]
  },
  {
   "cell_type": "code",
   "execution_count": 213,
   "id": "19b87125-b87f-48ce-96d6-9490d14bf0ad",
   "metadata": {},
   "outputs": [
    {
     "name": "stdout",
     "output_type": "stream",
     "text": [
      "Fitting 5 folds for each of 108 candidates, totalling 540 fits\n"
     ]
    },
    {
     "data": {
      "text/html": [
       "<style>#sk-container-id-3 {color: black;background-color: white;}#sk-container-id-3 pre{padding: 0;}#sk-container-id-3 div.sk-toggleable {background-color: white;}#sk-container-id-3 label.sk-toggleable__label {cursor: pointer;display: block;width: 100%;margin-bottom: 0;padding: 0.3em;box-sizing: border-box;text-align: center;}#sk-container-id-3 label.sk-toggleable__label-arrow:before {content: \"▸\";float: left;margin-right: 0.25em;color: #696969;}#sk-container-id-3 label.sk-toggleable__label-arrow:hover:before {color: black;}#sk-container-id-3 div.sk-estimator:hover label.sk-toggleable__label-arrow:before {color: black;}#sk-container-id-3 div.sk-toggleable__content {max-height: 0;max-width: 0;overflow: hidden;text-align: left;background-color: #f0f8ff;}#sk-container-id-3 div.sk-toggleable__content pre {margin: 0.2em;color: black;border-radius: 0.25em;background-color: #f0f8ff;}#sk-container-id-3 input.sk-toggleable__control:checked~div.sk-toggleable__content {max-height: 200px;max-width: 100%;overflow: auto;}#sk-container-id-3 input.sk-toggleable__control:checked~label.sk-toggleable__label-arrow:before {content: \"▾\";}#sk-container-id-3 div.sk-estimator input.sk-toggleable__control:checked~label.sk-toggleable__label {background-color: #d4ebff;}#sk-container-id-3 div.sk-label input.sk-toggleable__control:checked~label.sk-toggleable__label {background-color: #d4ebff;}#sk-container-id-3 input.sk-hidden--visually {border: 0;clip: rect(1px 1px 1px 1px);clip: rect(1px, 1px, 1px, 1px);height: 1px;margin: -1px;overflow: hidden;padding: 0;position: absolute;width: 1px;}#sk-container-id-3 div.sk-estimator {font-family: monospace;background-color: #f0f8ff;border: 1px dotted black;border-radius: 0.25em;box-sizing: border-box;margin-bottom: 0.5em;}#sk-container-id-3 div.sk-estimator:hover {background-color: #d4ebff;}#sk-container-id-3 div.sk-parallel-item::after {content: \"\";width: 100%;border-bottom: 1px solid gray;flex-grow: 1;}#sk-container-id-3 div.sk-label:hover label.sk-toggleable__label {background-color: #d4ebff;}#sk-container-id-3 div.sk-serial::before {content: \"\";position: absolute;border-left: 1px solid gray;box-sizing: border-box;top: 0;bottom: 0;left: 50%;z-index: 0;}#sk-container-id-3 div.sk-serial {display: flex;flex-direction: column;align-items: center;background-color: white;padding-right: 0.2em;padding-left: 0.2em;position: relative;}#sk-container-id-3 div.sk-item {position: relative;z-index: 1;}#sk-container-id-3 div.sk-parallel {display: flex;align-items: stretch;justify-content: center;background-color: white;position: relative;}#sk-container-id-3 div.sk-item::before, #sk-container-id-3 div.sk-parallel-item::before {content: \"\";position: absolute;border-left: 1px solid gray;box-sizing: border-box;top: 0;bottom: 0;left: 50%;z-index: -1;}#sk-container-id-3 div.sk-parallel-item {display: flex;flex-direction: column;z-index: 1;position: relative;background-color: white;}#sk-container-id-3 div.sk-parallel-item:first-child::after {align-self: flex-end;width: 50%;}#sk-container-id-3 div.sk-parallel-item:last-child::after {align-self: flex-start;width: 50%;}#sk-container-id-3 div.sk-parallel-item:only-child::after {width: 0;}#sk-container-id-3 div.sk-dashed-wrapped {border: 1px dashed gray;margin: 0 0.4em 0.5em 0.4em;box-sizing: border-box;padding-bottom: 0.4em;background-color: white;}#sk-container-id-3 div.sk-label label {font-family: monospace;font-weight: bold;display: inline-block;line-height: 1.2em;}#sk-container-id-3 div.sk-label-container {text-align: center;}#sk-container-id-3 div.sk-container {/* jupyter's `normalize.less` sets `[hidden] { display: none; }` but bootstrap.min.css set `[hidden] { display: none !important; }` so we also need the `!important` here to be able to override the default hidden behavior on the sphinx rendered scikit-learn.org. See: https://github.com/scikit-learn/scikit-learn/issues/21755 */display: inline-block !important;position: relative;}#sk-container-id-3 div.sk-text-repr-fallback {display: none;}</style><div id=\"sk-container-id-3\" class=\"sk-top-container\"><div class=\"sk-text-repr-fallback\"><pre>DecisionTreeClassifier(ccp_alpha=0.001, criterion=&#x27;entropy&#x27;, max_depth=15,\n",
       "                       max_features=&#x27;auto&#x27;, random_state=1024)</pre><b>In a Jupyter environment, please rerun this cell to show the HTML representation or trust the notebook. <br />On GitHub, the HTML representation is unable to render, please try loading this page with nbviewer.org.</b></div><div class=\"sk-container\" hidden><div class=\"sk-item\"><div class=\"sk-estimator sk-toggleable\"><input class=\"sk-toggleable__control sk-hidden--visually\" id=\"sk-estimator-id-3\" type=\"checkbox\" checked><label for=\"sk-estimator-id-3\" class=\"sk-toggleable__label sk-toggleable__label-arrow\">DecisionTreeClassifier</label><div class=\"sk-toggleable__content\"><pre>DecisionTreeClassifier(ccp_alpha=0.001, criterion=&#x27;entropy&#x27;, max_depth=15,\n",
       "                       max_features=&#x27;auto&#x27;, random_state=1024)</pre></div></div></div></div></div>"
      ],
      "text/plain": [
       "DecisionTreeClassifier(ccp_alpha=0.001, criterion='entropy', max_depth=15,\n",
       "                       max_features='auto', random_state=1024)"
      ]
     },
     "execution_count": 213,
     "metadata": {},
     "output_type": "execute_result"
    }
   ],
   "source": [
    "from sklearn.metrics import f1_score\n",
    "from sklearn.model_selection import GridSearchCV\n",
    "\n",
    "param_grid = {'max_features': ['auto', 'sqrt', 'log2'],\n",
    "              'ccp_alpha': [0.1, .01, .001],\n",
    "              'max_depth' : [5, 6, 7, 8, 9,15],\n",
    "              'criterion' :['gini', 'entropy']\n",
    "             }\n",
    "tree_clas = DecisionTreeClassifier(random_state=1024)\n",
    "grid_search = GridSearchCV(estimator=tree_clas, param_grid=param_grid, cv=5, verbose=True)\n",
    "grid_search.fit(X_train, y_train)\n",
    "final_model = grid_search.best_estimator_\n",
    "final_model\n"
   ]
  },
  {
   "cell_type": "code",
   "execution_count": 12,
   "id": "c5a2f075-523f-477b-8bff-4ecc154e87e9",
   "metadata": {},
   "outputs": [
    {
     "name": "stdout",
     "output_type": "stream",
     "text": [
      "0.947\n",
      "0.942\n"
     ]
    },
    {
     "data": {
      "image/png": "[encoded data removed]",
      "text/plain": [
       "<Figure size 800x600 with 1 Axes>"
      ]
     },
     "metadata": {},
     "output_type": "display_data"
    }
   ],
   "source": [
    "tree = DecisionTreeClassifier(ccp_alpha=0.001, criterion='entropy', max_depth=15,\n",
    "                       max_features='auto', random_state=1024)\n",
    "# tree = DecisionTreeClassifier(random_state=1024)\n",
    "tree.fit(X_train,y_train)\n",
    "score_tr = tree.score(X_train,y_train)\n",
    "score_te = tree.score(X_test,y_test)\n",
    "\n",
    "print('{:.3f}'.format(score_tr))\n",
    "# 1.000\n",
    "print('{:.3f}'.format(score_te))\n",
    "\n",
    "feature_imp = tree.feature_importances_\n",
    "\n",
    "dt_seires= pd.Series(feature_imp,index=X_train.columns)\n",
    "dt_top10=dt_seires.sort_values(ascending=False)[:10]\n",
    "\n",
    "plt.figure(figsize=(8,6))\n",
    "plt.title('DT Feature Importance')\n",
    "sns.barplot(x=dt_top10,y=dt_top10.index,palette='Set1')\n",
    "plt.show()\n"
   ]
  },
  {
   "cell_type": "code",
   "execution_count": 14,
   "id": "72aed00a-a486-4fb0-88f4-de5758f0e6c8",
   "metadata": {},
   "outputs": [
    {
     "data": {
      "text/html": [
       "<div>\n",
       "<style scoped>\n",
       "    .dataframe tbody tr th:only-of-type {\n",
       "        vertical-align: middle;\n",
       "    }\n",
       "\n",
       "    .dataframe tbody tr th {\n",
       "        vertical-align: top;\n",
       "    }\n",
       "\n",
       "    .dataframe thead th {\n",
       "        text-align: right;\n",
       "    }\n",
       "</style>\n",
       "<table border=\"1\" class=\"dataframe\">\n",
       "  <thead>\n",
       "    <tr style=\"text-align: right;\">\n",
       "      <th></th>\n",
       "      <th>Top10 DT Feature Importances</th>\n",
       "    </tr>\n",
       "  </thead>\n",
       "  <tbody>\n",
       "    <tr>\n",
       "      <th>데이터 사용량</th>\n",
       "      <td>0.393190</td>\n",
       "    </tr>\n",
       "    <tr>\n",
       "      <th>평균 출근 소요시간 평균</th>\n",
       "      <td>0.182879</td>\n",
       "    </tr>\n",
       "    <tr>\n",
       "      <th>유튜브 사용일수</th>\n",
       "      <td>0.112275</td>\n",
       "    </tr>\n",
       "    <tr>\n",
       "      <th>넷플릭스 사용일수</th>\n",
       "      <td>0.090908</td>\n",
       "    </tr>\n",
       "    <tr>\n",
       "      <th>쇼핑 서비스 사용일수</th>\n",
       "      <td>0.061768</td>\n",
       "    </tr>\n",
       "    <tr>\n",
       "      <th>평균 문자대상자 수</th>\n",
       "      <td>0.044545</td>\n",
       "    </tr>\n",
       "    <tr>\n",
       "      <th>평일 총 이동 거리 합계</th>\n",
       "      <td>0.034319</td>\n",
       "    </tr>\n",
       "    <tr>\n",
       "      <th>평균 통화대상자 수</th>\n",
       "      <td>0.021578</td>\n",
       "    </tr>\n",
       "    <tr>\n",
       "      <th>금융 서비스 사용일수</th>\n",
       "      <td>0.014697</td>\n",
       "    </tr>\n",
       "    <tr>\n",
       "      <th>평균 문자량</th>\n",
       "      <td>0.007000</td>\n",
       "    </tr>\n",
       "  </tbody>\n",
       "</table>\n",
       "</div>"
      ],
      "text/plain": [
       "               Top10 DT Feature Importances\n",
       "데이터 사용량                            0.393190\n",
       "평균 출근 소요시간 평균                      0.182879\n",
       "유튜브 사용일수                           0.112275\n",
       "넷플릭스 사용일수                          0.090908\n",
       "쇼핑 서비스 사용일수                        0.061768\n",
       "평균 문자대상자 수                         0.044545\n",
       "평일 총 이동 거리 합계                      0.034319\n",
       "평균 통화대상자 수                         0.021578\n",
       "금융 서비스 사용일수                        0.014697\n",
       "평균 문자량                             0.007000"
      ]
     },
     "execution_count": 14,
     "metadata": {},
     "output_type": "execute_result"
    }
   ],
   "source": [
    "dt_feature = pd.DataFrame(dt_top10,columns=['Top10 DT Feature Importances'])\n",
    "dt_feature"
   ]
  },
  {
   "cell_type": "code",
   "execution_count": null,
   "id": "85750fc4-5d18-4518-8b7a-d92294078672",
   "metadata": {
    "tags": []
   },
   "outputs": [],
   "source": [
    "param_grid = {#'max_features': ['auto', 'sqrt', 'log2'],\n",
    "              'max_depth' : [5, 6, 7, 8, 9],\n",
    "              'criterion' :['gini', 'entropy'],\n",
    "              'n_estimators':[10,20,30,40]\n",
    "             }\n",
    "tree_clas = RandomForestClassifier(random_state=1024)\n",
    "grid_search = GridSearchCV(estimator=tree_clas, param_grid=param_grid, cv=5, verbose=True)\n",
    "grid_search.fit(X_train, y_train)\n",
    "final_model = grid_search.best_estimator_\n",
    "final_model\n"
   ]
  },
  {
   "cell_type": "code",
   "execution_count": 216,
   "id": "0ce08f68-152e-42e8-90f8-452e1f75340d",
   "metadata": {},
   "outputs": [
    {
     "name": "stdout",
     "output_type": "stream",
     "text": [
      "0.987\n",
      "0.984\n"
     ]
    },
    {
     "data": {
      "image/png": "[encoded data removed]",
      "text/plain": [
       "<Figure size 800x600 with 1 Axes>"
      ]
     },
     "metadata": {},
     "output_type": "display_data"
    }
   ],
   "source": [
    "# tree = RandomForestClassifier(max_depth=9, n_estimators=90, random_state=1024)\n",
    "tree = RandomForestClassifier(criterion='entropy', max_depth=9, n_estimators=40,\n",
    "                       random_state=1024)\n",
    "\n",
    "tree.fit(X_train,y_train)\n",
    "score_tr = tree.score(X_train,y_train)\n",
    "score_te = tree.score(X_test,y_test)\n",
    "\n",
    "print('{:.3f}'.format(score_tr))\n",
    "# 1.000\n",
    "print('{:.3f}'.format(score_te))\n",
    "\n",
    "\n",
    "feature_imp = tree.feature_importances_\n",
    "\n",
    "rf_seires= pd.Series(feature_imp,index=X_train.columns)\n",
    "rf_top10=dt_seires.sort_values(ascending=False)[:10]\n",
    "\n",
    "plt.figure(figsize=(8,6))\n",
    "plt.title('RF Feature Importance')\n",
    "sns.barplot(x=rf_top10,y=rf_top10.index,palette='Set3')\n",
    "plt.show()\n"
   ]
  },
  {
   "cell_type": "code",
   "execution_count": 217,
   "id": "38c945fd-1a66-490d-b8c0-6dea0e7ec961",
   "metadata": {},
   "outputs": [
    {
     "data": {
      "text/html": [
       "<div>\n",
       "<style scoped>\n",
       "    .dataframe tbody tr th:only-of-type {\n",
       "        vertical-align: middle;\n",
       "    }\n",
       "\n",
       "    .dataframe tbody tr th {\n",
       "        vertical-align: top;\n",
       "    }\n",
       "\n",
       "    .dataframe thead th {\n",
       "        text-align: right;\n",
       "    }\n",
       "</style>\n",
       "<table border=\"1\" class=\"dataframe\">\n",
       "  <thead>\n",
       "    <tr style=\"text-align: right;\">\n",
       "      <th></th>\n",
       "      <th>Top10 RF Feature Importances</th>\n",
       "    </tr>\n",
       "  </thead>\n",
       "  <tbody>\n",
       "    <tr>\n",
       "      <th>데이터 사용량</th>\n",
       "      <td>0.393190</td>\n",
       "    </tr>\n",
       "    <tr>\n",
       "      <th>평균 출근 소요시간 평균</th>\n",
       "      <td>0.182879</td>\n",
       "    </tr>\n",
       "    <tr>\n",
       "      <th>유튜브 사용일수</th>\n",
       "      <td>0.112275</td>\n",
       "    </tr>\n",
       "    <tr>\n",
       "      <th>넷플릭스 사용일수</th>\n",
       "      <td>0.090908</td>\n",
       "    </tr>\n",
       "    <tr>\n",
       "      <th>쇼핑 서비스 사용일수</th>\n",
       "      <td>0.061768</td>\n",
       "    </tr>\n",
       "    <tr>\n",
       "      <th>평균 문자대상자 수</th>\n",
       "      <td>0.044545</td>\n",
       "    </tr>\n",
       "    <tr>\n",
       "      <th>평일 총 이동 거리 합계</th>\n",
       "      <td>0.034319</td>\n",
       "    </tr>\n",
       "    <tr>\n",
       "      <th>평균 통화대상자 수</th>\n",
       "      <td>0.021578</td>\n",
       "    </tr>\n",
       "    <tr>\n",
       "      <th>금융 서비스 사용일수</th>\n",
       "      <td>0.014697</td>\n",
       "    </tr>\n",
       "    <tr>\n",
       "      <th>평균 문자량</th>\n",
       "      <td>0.007000</td>\n",
       "    </tr>\n",
       "  </tbody>\n",
       "</table>\n",
       "</div>"
      ],
      "text/plain": [
       "               Top10 RF Feature Importances\n",
       "데이터 사용량                            0.393190\n",
       "평균 출근 소요시간 평균                      0.182879\n",
       "유튜브 사용일수                           0.112275\n",
       "넷플릭스 사용일수                          0.090908\n",
       "쇼핑 서비스 사용일수                        0.061768\n",
       "평균 문자대상자 수                         0.044545\n",
       "평일 총 이동 거리 합계                      0.034319\n",
       "평균 통화대상자 수                         0.021578\n",
       "금융 서비스 사용일수                        0.014697\n",
       "평균 문자량                             0.007000"
      ]
     },
     "execution_count": 217,
     "metadata": {},
     "output_type": "execute_result"
    }
   ],
   "source": [
    "rf_feature = pd.DataFrame(rf_top10,columns=['Top10 RF Feature Importances'])\n",
    "rf_feature"
   ]
  },
  {
   "cell_type": "code",
   "execution_count": null,
   "id": "9a4d27b3-5aff-4a9d-8eb4-ce6414116abf",
   "metadata": {
    "tags": []
   },
   "outputs": [],
   "source": [
    "\n",
    "# xg_parameters ={'max_depth' : [3,4,5,6] , 'n_estimators': [12,24,32], 'learning_rate':[0.01, 0.1], 'gamma': [0.5, 1, 2]}\n",
    "# xg = XGBClassifier()\n",
    "# grid_search_xg = GridSearchCV ( estimator = xg, param_grid = xg_parameters, scoring = 'recall', cv = 10 )\n",
    "# grid_search_xg.fit(X_train, y_train)\n",
    "# best_xg = grid_search_xg.best_estimator_\n",
    "# best_xg\n"
   ]
  },
  {
   "cell_type": "code",
   "execution_count": 218,
   "id": "26a3373e-0798-4931-8a59-cf59d2f8eb9c",
   "metadata": {},
   "outputs": [
    {
     "name": "stdout",
     "output_type": "stream",
     "text": [
      "[09:30:39] WARNING: C:/buildkite-agent/builds/buildkite-windows-cpu-autoscaling-group-i-03de431ba26204c4d-1/xgboost/xgboost-ci-windows/src/learner.cc:767: \n",
      "Parameters: { \"scale_pos_weight\" } are not used.\n",
      "\n",
      "0.982\n",
      "0.979\n"
     ]
    },
    {
     "data": {
      "image/png": "[encoded data removed]",
      "text/plain": [
       "<Figure size 800x600 with 1 Axes>"
      ]
     },
     "metadata": {},
     "output_type": "display_data"
    }
   ],
   "source": [
    "import xgboost\n",
    "from xgboost import XGBClassifier\n",
    "xg = XGBClassifier(base_score=0.5, booster='gbtree', colsample_bylevel=1,\n",
    "              colsample_bynode=1, colsample_bytree=1, enable_categorical=False,\n",
    "              gamma=0.5, gpu_id=-1, importance_type=None,\n",
    "              interaction_constraints='', learning_rate=0.1, max_delta_step=0,\n",
    "              max_depth=6, min_child_weight=1,\n",
    "              monotone_constraints='()', n_estimators=24, n_jobs=8,\n",
    "              num_parallel_tree=1, predictor='auto', random_state=99,\n",
    "              reg_alpha=0, reg_lambda=1, scale_pos_weight=1, subsample=1,\n",
    "              tree_method='exact', validate_parameters=1, verbosity=None)\n",
    "\n",
    "# reg_alpha=1\n",
    "\n",
    "# xg = XGBClassifier()\n",
    "xg.fit(X_train,y_train)\n",
    "score_tr = xg.score(X_train,y_train)\n",
    "score_te = xg.score(X_test,y_test)\n",
    "print('{:.3f}'.format(score_tr))\n",
    "# 1.000\n",
    "print('{:.3f}'.format(score_te))\n",
    "feature_imp =xg.feature_importances_\n",
    "xgb_seires= pd.Series(feature_imp,index=X_train.columns)\n",
    "xgb_top10=dt_seires.sort_values(ascending=False)[:10]\n",
    "plt.figure(figsize=(8,6))\n",
    "plt.title('XGB Feature Importance')\n",
    "sns.barplot(x=xgb_top10,y=xgb_top10.index,palette='Set2')\n",
    "plt.show()"
   ]
  },
  {
   "cell_type": "code",
   "execution_count": 219,
   "id": "3975e8b2-c07d-41d7-a620-1fa688226f75",
   "metadata": {},
   "outputs": [
    {
     "data": {
      "text/html": [
       "<div>\n",
       "<style scoped>\n",
       "    .dataframe tbody tr th:only-of-type {\n",
       "        vertical-align: middle;\n",
       "    }\n",
       "\n",
       "    .dataframe tbody tr th {\n",
       "        vertical-align: top;\n",
       "    }\n",
       "\n",
       "    .dataframe thead th {\n",
       "        text-align: right;\n",
       "    }\n",
       "</style>\n",
       "<table border=\"1\" class=\"dataframe\">\n",
       "  <thead>\n",
       "    <tr style=\"text-align: right;\">\n",
       "      <th></th>\n",
       "      <th>Top10 XGB Feature Importances</th>\n",
       "    </tr>\n",
       "  </thead>\n",
       "  <tbody>\n",
       "    <tr>\n",
       "      <th>데이터 사용량</th>\n",
       "      <td>0.393190</td>\n",
       "    </tr>\n",
       "    <tr>\n",
       "      <th>평균 출근 소요시간 평균</th>\n",
       "      <td>0.182879</td>\n",
       "    </tr>\n",
       "    <tr>\n",
       "      <th>유튜브 사용일수</th>\n",
       "      <td>0.112275</td>\n",
       "    </tr>\n",
       "    <tr>\n",
       "      <th>넷플릭스 사용일수</th>\n",
       "      <td>0.090908</td>\n",
       "    </tr>\n",
       "    <tr>\n",
       "      <th>쇼핑 서비스 사용일수</th>\n",
       "      <td>0.061768</td>\n",
       "    </tr>\n",
       "    <tr>\n",
       "      <th>평균 문자대상자 수</th>\n",
       "      <td>0.044545</td>\n",
       "    </tr>\n",
       "    <tr>\n",
       "      <th>평일 총 이동 거리 합계</th>\n",
       "      <td>0.034319</td>\n",
       "    </tr>\n",
       "    <tr>\n",
       "      <th>평균 통화대상자 수</th>\n",
       "      <td>0.021578</td>\n",
       "    </tr>\n",
       "    <tr>\n",
       "      <th>금융 서비스 사용일수</th>\n",
       "      <td>0.014697</td>\n",
       "    </tr>\n",
       "    <tr>\n",
       "      <th>평균 문자량</th>\n",
       "      <td>0.007000</td>\n",
       "    </tr>\n",
       "  </tbody>\n",
       "</table>\n",
       "</div>"
      ],
      "text/plain": [
       "               Top10 XGB Feature Importances\n",
       "데이터 사용량                             0.393190\n",
       "평균 출근 소요시간 평균                       0.182879\n",
       "유튜브 사용일수                            0.112275\n",
       "넷플릭스 사용일수                           0.090908\n",
       "쇼핑 서비스 사용일수                         0.061768\n",
       "평균 문자대상자 수                          0.044545\n",
       "평일 총 이동 거리 합계                       0.034319\n",
       "평균 통화대상자 수                          0.021578\n",
       "금융 서비스 사용일수                         0.014697\n",
       "평균 문자량                              0.007000"
      ]
     },
     "execution_count": 219,
     "metadata": {},
     "output_type": "execute_result"
    }
   ],
   "source": [
    "xgb_feature = pd.DataFrame(xgb_top10,columns=['Top10 XGB Feature Importances'])\n",
    "xgb_feature"
   ]
  },
  {
   "cell_type": "code",
   "execution_count": 220,
   "id": "801014f9-17fe-4491-9307-c378165cd6a7",
   "metadata": {},
   "outputs": [
    {
     "data": {
      "text/html": [
       "<div>\n",
       "<style scoped>\n",
       "    .dataframe tbody tr th:only-of-type {\n",
       "        vertical-align: middle;\n",
       "    }\n",
       "\n",
       "    .dataframe tbody tr th {\n",
       "        vertical-align: top;\n",
       "    }\n",
       "\n",
       "    .dataframe thead th {\n",
       "        text-align: right;\n",
       "    }\n",
       "</style>\n",
       "<table border=\"1\" class=\"dataframe\">\n",
       "  <thead>\n",
       "    <tr style=\"text-align: right;\">\n",
       "      <th></th>\n",
       "      <th>index</th>\n",
       "      <th>Top10 DT Feature Importances</th>\n",
       "      <th>index</th>\n",
       "      <th>Top10 RF Feature Importances</th>\n",
       "      <th>index</th>\n",
       "      <th>Top10 XGB Feature Importances</th>\n",
       "    </tr>\n",
       "  </thead>\n",
       "  <tbody>\n",
       "    <tr>\n",
       "      <th>0</th>\n",
       "      <td>데이터 사용량</td>\n",
       "      <td>0.393190</td>\n",
       "      <td>데이터 사용량</td>\n",
       "      <td>0.393190</td>\n",
       "      <td>데이터 사용량</td>\n",
       "      <td>0.393190</td>\n",
       "    </tr>\n",
       "    <tr>\n",
       "      <th>1</th>\n",
       "      <td>평균 출근 소요시간 평균</td>\n",
       "      <td>0.182879</td>\n",
       "      <td>평균 출근 소요시간 평균</td>\n",
       "      <td>0.182879</td>\n",
       "      <td>평균 출근 소요시간 평균</td>\n",
       "      <td>0.182879</td>\n",
       "    </tr>\n",
       "    <tr>\n",
       "      <th>2</th>\n",
       "      <td>유튜브 사용일수</td>\n",
       "      <td>0.112275</td>\n",
       "      <td>유튜브 사용일수</td>\n",
       "      <td>0.112275</td>\n",
       "      <td>유튜브 사용일수</td>\n",
       "      <td>0.112275</td>\n",
       "    </tr>\n",
       "    <tr>\n",
       "      <th>3</th>\n",
       "      <td>넷플릭스 사용일수</td>\n",
       "      <td>0.090908</td>\n",
       "      <td>넷플릭스 사용일수</td>\n",
       "      <td>0.090908</td>\n",
       "      <td>넷플릭스 사용일수</td>\n",
       "      <td>0.090908</td>\n",
       "    </tr>\n",
       "    <tr>\n",
       "      <th>4</th>\n",
       "      <td>쇼핑 서비스 사용일수</td>\n",
       "      <td>0.061768</td>\n",
       "      <td>쇼핑 서비스 사용일수</td>\n",
       "      <td>0.061768</td>\n",
       "      <td>쇼핑 서비스 사용일수</td>\n",
       "      <td>0.061768</td>\n",
       "    </tr>\n",
       "    <tr>\n",
       "      <th>5</th>\n",
       "      <td>평균 문자대상자 수</td>\n",
       "      <td>0.044545</td>\n",
       "      <td>평균 문자대상자 수</td>\n",
       "      <td>0.044545</td>\n",
       "      <td>평균 문자대상자 수</td>\n",
       "      <td>0.044545</td>\n",
       "    </tr>\n",
       "    <tr>\n",
       "      <th>6</th>\n",
       "      <td>평일 총 이동 거리 합계</td>\n",
       "      <td>0.034319</td>\n",
       "      <td>평일 총 이동 거리 합계</td>\n",
       "      <td>0.034319</td>\n",
       "      <td>평일 총 이동 거리 합계</td>\n",
       "      <td>0.034319</td>\n",
       "    </tr>\n",
       "    <tr>\n",
       "      <th>7</th>\n",
       "      <td>평균 통화대상자 수</td>\n",
       "      <td>0.021578</td>\n",
       "      <td>평균 통화대상자 수</td>\n",
       "      <td>0.021578</td>\n",
       "      <td>평균 통화대상자 수</td>\n",
       "      <td>0.021578</td>\n",
       "    </tr>\n",
       "    <tr>\n",
       "      <th>8</th>\n",
       "      <td>금융 서비스 사용일수</td>\n",
       "      <td>0.014697</td>\n",
       "      <td>금융 서비스 사용일수</td>\n",
       "      <td>0.014697</td>\n",
       "      <td>금융 서비스 사용일수</td>\n",
       "      <td>0.014697</td>\n",
       "    </tr>\n",
       "    <tr>\n",
       "      <th>9</th>\n",
       "      <td>평균 문자량</td>\n",
       "      <td>0.007000</td>\n",
       "      <td>평균 문자량</td>\n",
       "      <td>0.007000</td>\n",
       "      <td>평균 문자량</td>\n",
       "      <td>0.007000</td>\n",
       "    </tr>\n",
       "  </tbody>\n",
       "</table>\n",
       "</div>"
      ],
      "text/plain": [
       "           index  Top10 DT Feature Importances          index  \\\n",
       "0        데이터 사용량                      0.393190        데이터 사용량   \n",
       "1  평균 출근 소요시간 평균                      0.182879  평균 출근 소요시간 평균   \n",
       "2       유튜브 사용일수                      0.112275       유튜브 사용일수   \n",
       "3      넷플릭스 사용일수                      0.090908      넷플릭스 사용일수   \n",
       "4    쇼핑 서비스 사용일수                      0.061768    쇼핑 서비스 사용일수   \n",
       "5     평균 문자대상자 수                      0.044545     평균 문자대상자 수   \n",
       "6  평일 총 이동 거리 합계                      0.034319  평일 총 이동 거리 합계   \n",
       "7     평균 통화대상자 수                      0.021578     평균 통화대상자 수   \n",
       "8    금융 서비스 사용일수                      0.014697    금융 서비스 사용일수   \n",
       "9         평균 문자량                      0.007000         평균 문자량   \n",
       "\n",
       "   Top10 RF Feature Importances          index  Top10 XGB Feature Importances  \n",
       "0                      0.393190        데이터 사용량                       0.393190  \n",
       "1                      0.182879  평균 출근 소요시간 평균                       0.182879  \n",
       "2                      0.112275       유튜브 사용일수                       0.112275  \n",
       "3                      0.090908      넷플릭스 사용일수                       0.090908  \n",
       "4                      0.061768    쇼핑 서비스 사용일수                       0.061768  \n",
       "5                      0.044545     평균 문자대상자 수                       0.044545  \n",
       "6                      0.034319  평일 총 이동 거리 합계                       0.034319  \n",
       "7                      0.021578     평균 통화대상자 수                       0.021578  \n",
       "8                      0.014697    금융 서비스 사용일수                       0.014697  \n",
       "9                      0.007000         평균 문자량                       0.007000  "
      ]
     },
     "execution_count": 220,
     "metadata": {},
     "output_type": "execute_result"
    }
   ],
   "source": [
    "pd.concat([dt_feature.reset_index(),rf_feature.reset_index(),xgb_feature.reset_index()],axis=1)"
   ]
  },
  {
   "cell_type": "markdown",
   "id": "4a5f55c6-134d-44a6-a57e-c66d72bc9711",
   "metadata": {},
   "source": [
    "# 모델링\n",
    "[classification_repport](https://blog.naver.com/PostView.naver?blogId=hannaurora&logNo=222498671200&parentCategoryNo=&categoryNo=41&viewDate=&isShowPopularPosts=true&from=search)"
   ]
  },
  {
   "cell_type": "code",
   "execution_count": 193,
   "id": "8f490813-f48c-41c9-919c-b50366ad6389",
   "metadata": {},
   "outputs": [
    {
     "data": {
      "text/plain": [
       "['데이터 사용량',\n",
       " '평균 출근 소요시간 평균',\n",
       " '유튜브 사용일수',\n",
       " '넷플릭스 사용일수',\n",
       " '쇼핑 서비스 사용일수',\n",
       " '평균 문자대상자 수',\n",
       " '평일 총 이동 거리 합계',\n",
       " '평균 통화대상자 수',\n",
       " '금융 서비스 사용일수',\n",
       " '평균 문자량']"
      ]
     },
     "execution_count": 193,
     "metadata": {},
     "output_type": "execute_result"
    }
   ],
   "source": [
    "# col_select = dt_feature.index.tolist()\n",
    "col_select = ['데이터 사용량',\n",
    " '평균 출근 소요시간 평균',\n",
    " '유튜브 사용일수',\n",
    " '넷플릭스 사용일수',\n",
    " '쇼핑 서비스 사용일수',\n",
    " '평균 문자대상자 수',\n",
    " '평일 총 이동 거리 합계',\n",
    " '평균 통화대상자 수',\n",
    " '금융 서비스 사용일수',\n",
    " '평균 문자량']\n",
    "\n",
    "col_select"
   ]
  },
  {
   "cell_type": "code",
   "execution_count": 188,
   "id": "9555ba8b-bfb7-423d-9a64-5077809c1130",
   "metadata": {},
   "outputs": [],
   "source": [
    "X_train = X_train[col_select]\n",
    "X_test = X_test[col_select]"
   ]
  },
  {
   "cell_type": "code",
   "execution_count": 146,
   "id": "5d967af3-905d-480d-b75c-29e982afa656",
   "metadata": {},
   "outputs": [
    {
     "name": "stdout",
     "output_type": "stream",
     "text": [
      "최적 하이퍼 파라미터:  {'max_depth': 12, 'min_samples_leaf': 8, 'min_samples_split': 8}\n",
      "최고 예측 정확도: 0.9726\n"
     ]
    }
   ],
   "source": [
    "# params = { 'n_estimators' : [10, 100],\n",
    "#            'max_depth' : [6, 8, 10, 12],\n",
    "#            'min_samples_leaf' : [8, 12, 18],\n",
    "#            'min_samples_split' : [8, 16, 20]\n",
    "#             }\n",
    "\n",
    "# # RandomForestClassifier 객체 생성 후 GridSearchCV 수행\n",
    "# rf_clf = RandomForestClassifier(random_state = 0, n_jobs = -1)\n",
    "# grid_cv = GridSearchCV(rf_clf, param_grid = params, cv = 3, n_jobs = -1)\n",
    "# grid_cv.fit(X_train, y_train)\n",
    "\n",
    "# print('최적 하이퍼 파라미터: ', grid_cv.best_params_)\n",
    "# print('최고 예측 정확도: {:.4f}'.format(grid_cv.best_score_))\n",
    "\n",
    "params = { \n",
    "           'max_depth' : [6, 8, 10, 12],\n",
    "           'min_samples_leaf' : [8, 12, 18],\n",
    "           'min_samples_split' : [8, 16, 20]\n",
    "            }\n",
    "\n",
    "# RandomForestClassifier 객체 생성 후 GridSearchCV 수행\n",
    "rf_clf = RandomForestClassifier(random_state = 0)\n",
    "grid_cv = GridSearchCV(rf_clf, param_grid = params, cv = 3, n_jobs = -1)\n",
    "grid_cv.fit(X_train, y_train)\n",
    "\n",
    "print('최적 하이퍼 파라미터: ', grid_cv.best_params_)\n",
    "print('최고 예측 정확도: {:.4f}'.format(grid_cv.best_score_))"
   ]
  },
  {
   "cell_type": "code",
   "execution_count": 151,
   "id": "7b53ed74-50df-4acf-b59d-cb65ea1a85d9",
   "metadata": {},
   "outputs": [
    {
     "name": "stdout",
     "output_type": "stream",
     "text": [
      "DT accuracy : 0.9625955439908929 \n",
      "DT f1(macro) : 0.9633904670642801 \n",
      "DT logloss : 0.2512436998671298\n",
      "\n"
     ]
    }
   ],
   "source": [
    "\n",
    "dt = DecisionTreeClassifier(max_depth=12,min_samples_leaf=8,min_samples_split=8)\n",
    "dt.fit(X_train,y_train)\n",
    "pred_dt = dt.predict(X_test)\n",
    "pred_proba_dt = dt.predict_proba(X_test)\n",
    "\n",
    "# rf = RandomForestClassifier()\n",
    "# rf.fit(X_train,y_train)\n",
    "# pred_rf = rf.predict(X_test)\n",
    "# pred_proba_rf = rf.predict_proba(X_test)\n",
    "\n",
    "# xgb= XGBClassifier()\n",
    "# xgb.fit(X_train,y_train)\n",
    "# pred_xgb = xgb.predict(X_test)\n",
    "# pred_proba_xgb = xgb.predict_proba(X_test)\n",
    "\n",
    "\n",
    "# print(f'=== 분류 모형 성능 평가 ===')\n",
    "print(f'DT accuracy : {accuracy_score(y_test,pred_dt)} \\nDT f1(macro) : {f1_score(y_test,pred_dt,average=\"macro\")} \\nDT logloss : {log_loss(y_test,pred_proba_dt)}\\n')\n",
    "# print(f'RF accuracy : {accuracy_score(y_test,pred_rf)} \\nRF f1(macro) : {f1_score(y_test,pred_rf,average=\"macro\")} \\nRF logloss : {log_loss(y_test,pred_proba_rf)}\\n')\n",
    "# print(f'XGB accuracy : {accuracy_score(y_test,pred_xgb)} \\nRF f1(macro) : {f1_score(y_test,pred_xgb,average=\"macro\")} \\nRF logloss : {log_loss(y_test,pred_proba_xgb)}\\n')\n",
    "\n",
    "\n",
    "# print(classification_report(y_test,pred_rf))"
   ]
  },
  {
   "cell_type": "code",
   "execution_count": null,
   "id": "3fef2c68-a8d1-48bc-a66e-662df69da0f1",
   "metadata": {},
   "outputs": [],
   "source": []
  }
 ],
 "metadata": {
  "kernelspec": {
   "display_name": "Python 3 (ipykernel)",
   "language": "python",
   "name": "python3"
  },
  "language_info": {
   "codemirror_mode": {
    "name": "ipython",
    "version": 3
   },
   "file_extension": ".py",
   "mimetype": "text/x-python",
   "name": "python",
   "nbconvert_exporter": "python",
   "pygments_lexer": "ipython3",
   "version": "3.9.13"
  }
 },
 "nbformat": 4,
 "nbformat_minor": 5
}
