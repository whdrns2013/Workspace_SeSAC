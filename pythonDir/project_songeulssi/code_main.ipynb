{
 "cells": [
  {
   "cell_type": "markdown",
   "id": "f00b57af-8371-47e3-97a2-571fe9ba72de",
   "metadata": {},
   "source": [
    "# 정확도 높이기"
   ]
  },
  {
   "cell_type": "markdown",
   "id": "c80fd73d-4156-4f50-9c0a-8deb14a8b365",
   "metadata": {},
   "source": [
    "(1) 글자 섞기  \n",
    "- 원래 있는 글자들을 이어서 새로운 데이터처럼 만들기  \n",
    "- 당연히 label 도 이어야 하고  \n",
    "- 데이터 늘어남에 따라 학습수 많아짐  \n",
    "  \n",
    "(2-1) 흐린 글자 명확하게 만들기 - 제곱  \n",
    "- 흐린 글자 명료도 높이는 방법 확인  \n",
    "- 각 픽셀의 채널값을 제곱화하면 -> 낮은 수는 낮고, 높은 수는 상대적으로 상승폭이 늘어날 것.  \n",
    "- 그러면 명료도가 올라가겠지!  \n",
    "- 제곱 후 특정 수로 나눠주고, 최대값 제한하여 다시 한 번 처리하기  \n",
    "- 특정 값 이하인 경우에서는 자동으로 실행하도록 해야 할 듯.  \n",
    "  \n",
    "(2-2) 흐린 글자 명확하게 만들기 - PIL 패키지  \n",
    "- PIL 패키지 내 contour 메서드  \n",
    "- PIL 패키지 내 Sharpen 메서드  \n",
    "\n",
    "(3) 노이즈가 존재하는 이미지  \n",
    "- 노이즈는 색깔이 있는 걸로 인식되어.. 위 단계 명확하게 만들기에서 오히려 악영향을 받을 수 있음  \n",
    "- 반복되는 행렬의 흐름 (=노이즈)를 제거하는 방법 고민 필요  \n",
    "\n",
    "(4) 기울어진 글자 존재  \n",
    "- 기울어진 글자 -> 똑바로 조절 필요  \n",
    "- PIL.transpose.rotate 존재. 하지만 기울어졌는지에 대한 인지와 평가 기준은?  "
   ]
  },
  {
   "cell_type": "markdown",
   "id": "91cc48fa-f2a0-4986-9e41-aa2610363153",
   "metadata": {},
   "source": [
    "# 참고사항 / 읽을거리"
   ]
  },
  {
   "cell_type": "markdown",
   "id": "1824c39c-4cd7-4030-a7b4-23f8e88ffeb1",
   "metadata": {},
   "source": [
    "## 참고사항\n",
    "\n",
    "(1) 대회 페이지 : https://dacon.io/competitions/official/236042/overview/description  \n",
    "(2) PIL 패키지 : https://pillow.readthedocs.io/en/stable/reference/index.html  \n",
    "(3) text generator : https://github.com/Belval/TextRecognitionDataGenerator  "
   ]
  },
  {
   "cell_type": "markdown",
   "id": "f18aa6e1-bafe-4ccd-b480-6aaecbb2d4cf",
   "metadata": {},
   "source": [
    "(1) 한글 및 한국어 정보처리 학술대회 2019 : https://koreascience.kr/article/CFKO201930060791848.pdf  \n",
    "(2) 한글 및 한국어 정보처리 학술대회 : http://www.hclt.kr/symp/?lnb=conference  "
   ]
  }
 ],
 "metadata": {
  "kernelspec": {
   "display_name": "Python 3 (ipykernel)",
   "language": "python",
   "name": "python3"
  },
  "language_info": {
   "codemirror_mode": {
    "name": "ipython",
    "version": 3
   },
   "file_extension": ".py",
   "mimetype": "text/x-python",
   "name": "python",
   "nbconvert_exporter": "python",
   "pygments_lexer": "ipython3",
   "version": "3.8.15"
  }
 },
 "nbformat": 4,
 "nbformat_minor": 5
}
