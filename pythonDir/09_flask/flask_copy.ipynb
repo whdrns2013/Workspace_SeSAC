{
 "cells": [
  {
   "cell_type": "code",
   "execution_count": 1,
   "id": "40a90f1b-239b-42e3-a07a-7835ebdced33",
   "metadata": {},
   "outputs": [
    {
     "name": "stdout",
     "output_type": "stream",
     "text": [
      "Requirement already satisfied: flask in /Users/jongya/miniforge3/envs/jh/lib/python3.8/site-packages (2.2.2)\n",
      "Requirement already satisfied: Werkzeug>=2.2.2 in /Users/jongya/miniforge3/envs/jh/lib/python3.8/site-packages (from flask) (2.2.2)\n",
      "Requirement already satisfied: click>=8.0 in /Users/jongya/miniforge3/envs/jh/lib/python3.8/site-packages (from flask) (8.1.3)\n",
      "Requirement already satisfied: Jinja2>=3.0 in /Users/jongya/miniforge3/envs/jh/lib/python3.8/site-packages (from flask) (3.1.2)\n",
      "Requirement already satisfied: itsdangerous>=2.0 in /Users/jongya/miniforge3/envs/jh/lib/python3.8/site-packages (from flask) (2.1.2)\n",
      "Requirement already satisfied: importlib-metadata>=3.6.0 in /Users/jongya/miniforge3/envs/jh/lib/python3.8/site-packages (from flask) (5.2.0)\n",
      "Requirement already satisfied: zipp>=0.5 in /Users/jongya/miniforge3/envs/jh/lib/python3.8/site-packages (from importlib-metadata>=3.6.0->flask) (3.11.0)\n",
      "Requirement already satisfied: MarkupSafe>=2.0 in /Users/jongya/miniforge3/envs/jh/lib/python3.8/site-packages (from Jinja2>=3.0->flask) (2.1.1)\n"
     ]
    }
   ],
   "source": [
    "# !pip install flask"
   ]
  },
  {
   "cell_type": "markdown",
   "id": "34f77aec-d8a3-4c43-9abf-08c5b6736fba",
   "metadata": {},
   "source": [
    "# Flask"
   ]
  },
  {
   "cell_type": "code",
   "execution_count": 1,
   "id": "b34830fc-a4ad-4dec-88b5-f83a8d51510c",
   "metadata": {},
   "outputs": [],
   "source": [
    "from flask import Flask"
   ]
  },
  {
   "cell_type": "code",
   "execution_count": 3,
   "id": "aef5c930-731b-426f-8147-3dfcab334560",
   "metadata": {},
   "outputs": [
    {
     "name": "stdout",
     "output_type": "stream",
     "text": [
      " * Serving Flask app '__main__'\n",
      " * Debug mode: off\n"
     ]
    },
    {
     "name": "stderr",
     "output_type": "stream",
     "text": [
      "WARNING: This is a development server. Do not use it in a production deployment. Use a production WSGI server instead.\n",
      " * Running on http://localhost:5002\n",
      "Press CTRL+C to quit\n",
      "127.0.0.1 - - [03/Feb/2023 13:30:24] \"GET / HTTP/1.1\" 200 -\n",
      "127.0.0.1 - - [03/Feb/2023 13:30:24] \"GET /favicon.ico HTTP/1.1\" 404 -\n"
     ]
    }
   ],
   "source": [
    "app = Flask(__name__)\n",
    "\n",
    "@app.route(\"/\")\n",
    "def anyname():\n",
    "    return \"안녕하세요 아무개입니다.\"\n",
    "\n",
    "@app.route('/app1')\n",
    "def app1():\n",
    "    return 'hello, its app1'\n",
    "    \n",
    "@app.route('/app2')\n",
    "def app2():\n",
    "    return 'hello, its app2'\n",
    "\n",
    "# app.run(host = '192.168.10.25', port = 5000)\n",
    "app.run(host = 'localhost', port = 5002)"
   ]
  }
 ],
 "metadata": {
  "kernelspec": {
   "display_name": "jh",
   "language": "python",
   "name": "python3"
  },
  "language_info": {
   "codemirror_mode": {
    "name": "ipython",
    "version": 3
   },
   "file_extension": ".py",
   "mimetype": "text/x-python",
   "name": "python",
   "nbconvert_exporter": "python",
   "pygments_lexer": "ipython3",
   "version": "3.8.16"
  },
  "vscode": {
   "interpreter": {
    "hash": "37ab7feddc54c708c58b77a7c96b79453c4115c65d1a7a2130c39d2d288c0a1c"
   }
  }
 },
 "nbformat": 4,
 "nbformat_minor": 5
}
