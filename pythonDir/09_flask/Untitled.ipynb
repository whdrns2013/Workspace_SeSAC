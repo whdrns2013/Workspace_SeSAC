{
 "cells": [
  {
   "cell_type": "markdown",
   "id": "681432f3-2475-4636-8cf4-ec4a4bf37389",
   "metadata": {},
   "source": [
    "# flask와 Django"
   ]
  },
  {
   "cell_type": "markdown",
   "id": "6d80ebee-7d02-46ec-847a-6cd729cd214d",
   "metadata": {},
   "source": [
    "* 장고는 MVC 로 서비스를 짜기 쉽다.  \n",
    "* 하지만 플라스크는 그런 거 없다. 섞어서 쓴다.  \n",
    "* MVC 패턴을 사용하는 건 java에서 하는 게 맞긴 하다. 파이썬 서버를 쓸 필요가 없다.  \n",
    "* MVC는 뷰, 프론트가 필요할 때 사용하게 된다.  \n",
    "\n",
    "* 그러면 왜 장고를 사용하는가?  \n",
    "* 라는 질문에 다다를 수 있다..."
   ]
  },
  {
   "cell_type": "code",
   "execution_count": null,
   "id": "40a90f1b-239b-42e3-a07a-7835ebdced33",
   "metadata": {},
   "outputs": [],
   "source": []
  }
 ],
 "metadata": {
  "kernelspec": {
   "display_name": "Python 3 (ipykernel)",
   "language": "python",
   "name": "python3"
  },
  "language_info": {
   "codemirror_mode": {
    "name": "ipython",
    "version": 3
   },
   "file_extension": ".py",
   "mimetype": "text/x-python",
   "name": "python",
   "nbconvert_exporter": "python",
   "pygments_lexer": "ipython3",
   "version": "3.8.15"
  }
 },
 "nbformat": 4,
 "nbformat_minor": 5
}
