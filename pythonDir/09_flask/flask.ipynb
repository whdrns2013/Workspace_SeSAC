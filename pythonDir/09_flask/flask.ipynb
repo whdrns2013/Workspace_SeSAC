{
 "cells": [
  {
   "cell_type": "markdown",
   "id": "681432f3-2475-4636-8cf4-ec4a4bf37389",
   "metadata": {},
   "source": [
    "# flask와 Django"
   ]
  },
  {
   "cell_type": "markdown",
   "id": "6d80ebee-7d02-46ec-847a-6cd729cd214d",
   "metadata": {},
   "source": [
    "* 장고는 MVC 로 서비스를 짜기 쉽다.  \n",
    "* 하지만 플라스크는 그런 거 없다. 섞어서 쓴다.  \n",
    "* MVC 패턴을 사용하는 건 java에서 하는 게 맞긴 하다. 파이썬 서버를 쓸 필요가 없다.  \n",
    "* MVC는 뷰, 프론트가 필요할 때 사용하게 된다.  \n",
    "\n",
    "* 그러면 왜 장고를 사용하는가?  \n",
    "* 라는 질문에 다다를 수 있다..."
   ]
  },
  {
   "cell_type": "code",
   "execution_count": 1,
   "id": "40a90f1b-239b-42e3-a07a-7835ebdced33",
   "metadata": {},
   "outputs": [
    {
     "name": "stdout",
     "output_type": "stream",
     "text": [
      "Requirement already satisfied: flask in /Users/jongya/miniforge3/envs/jh/lib/python3.8/site-packages (2.2.2)\n",
      "Requirement already satisfied: Werkzeug>=2.2.2 in /Users/jongya/miniforge3/envs/jh/lib/python3.8/site-packages (from flask) (2.2.2)\n",
      "Requirement already satisfied: click>=8.0 in /Users/jongya/miniforge3/envs/jh/lib/python3.8/site-packages (from flask) (8.1.3)\n",
      "Requirement already satisfied: Jinja2>=3.0 in /Users/jongya/miniforge3/envs/jh/lib/python3.8/site-packages (from flask) (3.1.2)\n",
      "Requirement already satisfied: itsdangerous>=2.0 in /Users/jongya/miniforge3/envs/jh/lib/python3.8/site-packages (from flask) (2.1.2)\n",
      "Requirement already satisfied: importlib-metadata>=3.6.0 in /Users/jongya/miniforge3/envs/jh/lib/python3.8/site-packages (from flask) (5.2.0)\n",
      "Requirement already satisfied: zipp>=0.5 in /Users/jongya/miniforge3/envs/jh/lib/python3.8/site-packages (from importlib-metadata>=3.6.0->flask) (3.11.0)\n",
      "Requirement already satisfied: MarkupSafe>=2.0 in /Users/jongya/miniforge3/envs/jh/lib/python3.8/site-packages (from Jinja2>=3.0->flask) (2.1.1)\n"
     ]
    }
   ],
   "source": [
    "# !pip install flask"
   ]
  },
  {
   "cell_type": "code",
   "execution_count": 2,
   "id": "b34830fc-a4ad-4dec-88b5-f83a8d51510c",
   "metadata": {},
   "outputs": [],
   "source": [
    "from flask import Flask"
   ]
  },
  {
   "cell_type": "code",
   "execution_count": 3,
   "id": "aef5c930-731b-426f-8147-3dfcab334560",
   "metadata": {},
   "outputs": [
    {
     "name": "stdout",
     "output_type": "stream",
     "text": [
      " * Serving Flask app '__main__'\n",
      " * Debug mode: off\n"
     ]
    },
    {
     "name": "stderr",
     "output_type": "stream",
     "text": [
      "WARNING: This is a development server. Do not use it in a production deployment. Use a production WSGI server instead.\n",
      " * Running on http://192.168.10.25:5000\n",
      "Press CTRL+C to quit\n",
      "192.168.10.25 - - [02/Feb/2023 17:13:45] \"GET / HTTP/1.1\" 200 -\n",
      "192.168.10.25 - - [02/Feb/2023 17:13:45] \"GET /favicon.ico HTTP/1.1\" 404 -\n",
      "192.168.10.15 - - [02/Feb/2023 17:16:11] \"GET / HTTP/1.1\" 200 -\n",
      "192.168.10.15 - - [02/Feb/2023 17:16:11] \"GET /favicon.ico HTTP/1.1\" 404 -\n",
      "192.168.10.15 - - [02/Feb/2023 17:16:16] \"GET /app1 HTTP/1.1\" 200 -\n",
      "192.168.10.15 - - [02/Feb/2023 17:16:21] \"GET /app2 HTTP/1.1\" 200 -\n",
      "192.168.10.144 - - [02/Feb/2023 17:17:20] \"GET / HTTP/1.1\" 200 -\n",
      "192.168.10.144 - - [02/Feb/2023 17:17:20] \"GET /favicon.ico HTTP/1.1\" 404 -\n",
      "192.168.10.144 - - [02/Feb/2023 17:18:02] \"GET / HTTP/1.1\" 200 -\n"
     ]
    }
   ],
   "source": [
    "app = Flask(__name__)\n",
    "\n",
    "@app.route(\"/\")\n",
    "def anyname():\n",
    "    return \"안녕하세요 박종혁입니다.\"\n",
    "\n",
    "@app.route('/app1')\n",
    "def app1():\n",
    "    return 'hello, its app1'\n",
    "    \n",
    "@app.route('/app2')\n",
    "def app2():\n",
    "    return 'hello, its app2'\n",
    "\n",
    "@app.route('/service')\n",
    "def service():\n",
    "    \n",
    "    return\n",
    "    \n",
    "\n",
    "app.run(host = '192.168.10.25', port = 5000)"
   ]
  },
  {
   "cell_type": "markdown",
   "id": "565d05f5-e958-4760-a06a-e00b36eaa4fd",
   "metadata": {},
   "source": [
    "# 설명  \n",
    "  \n",
    "* Flask 는 페이지를 app 이라고 부른다.  \n",
    "* 위에서 보는 만큼 플라스크는 작성이 매우 간단하다.  \n",
    "* 그러나 구현할 수 있는 ui 가 많지 않고  \n",
    "* 사이트가 복잡해지면 복잡해질수록 관리가 어렵다는 단점이 있다.  "
   ]
  },
  {
   "attachments": {
    "69d977b3-0806-4b8b-b717-ba43e2c1cde3.png": {
     "image/png": "[encoded data removed]"
    }
   },
   "cell_type": "markdown",
   "id": "1b69e070-3603-46a6-8328-3005df6f08cb",
   "metadata": {},
   "source": [
    "![image.png](attachment:69d977b3-0806-4b8b-b717-ba43e2c1cde3.png)\n",
    "\n",
    "내 컴퓨터 호스트는 IPv4 주소가 IP주소임을 생각하면 된다.  "
   ]
  },
  {
   "cell_type": "code",
   "execution_count": null,
   "id": "2874e256-b58f-4016-bec1-b8f7e790f355",
   "metadata": {},
   "outputs": [],
   "source": []
  }
 ],
 "metadata": {
  "kernelspec": {
   "display_name": "Python 3 (ipykernel)",
   "language": "python",
   "name": "python3"
  },
  "language_info": {
   "codemirror_mode": {
    "name": "ipython",
    "version": 3
   },
   "file_extension": ".py",
   "mimetype": "text/x-python",
   "name": "python",
   "nbconvert_exporter": "python",
   "pygments_lexer": "ipython3",
   "version": "3.8.15"
  }
 },
 "nbformat": 4,
 "nbformat_minor": 5
}
