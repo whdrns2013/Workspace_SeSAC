{
 "cells": [
  {
   "cell_type": "markdown",
   "id": "0ee9373a-ce9e-46f8-ab16-b38b5b163919",
   "metadata": {},
   "source": [
    "# 저장과 불러오기의 의의"
   ]
  },
  {
   "cell_type": "markdown",
   "id": "79681d34-5ec9-49ab-8a01-bc9730fe5253",
   "metadata": {},
   "source": [
    "* 팀 프로젝트의 입장에서 '분업'이 필요하기 때문  \n",
    "* 모델을 모르는 사람도 모델을 사용할 수 있게 할 수 있음  \n",
    "* 또한, 다른 팀원이 사용한 모델을 내가 이어 이용하거나 발전시킬 수 있고  \n",
    "* 반대로 내가 만든 모델을 다른 사람이 이용하거나 발전시킬 수 있다.  "
   ]
  },
  {
   "cell_type": "markdown",
   "id": "1253491b-4fff-485a-a706-b60dab69e8c0",
   "metadata": {},
   "source": [
    "## Iris sklearn"
   ]
  },
  {
   "cell_type": "code",
   "execution_count": 2,
   "id": "fe72e370-31a6-481f-91cb-a301f2c6ac73",
   "metadata": {},
   "outputs": [],
   "source": [
    "import sklearn\n",
    "from sklearn.datasets import load_iris\n",
    "from sklearn.tree import DecisionTreeClassifier\n",
    "import pickle"
   ]
  },
  {
   "cell_type": "code",
   "execution_count": 4,
   "id": "5a47b3f1-0fb9-4f1a-8f88-105395d9ab91",
   "metadata": {},
   "outputs": [
    {
     "data": {
      "text/html": [
       "<style>#sk-container-id-1 {color: black;background-color: white;}#sk-container-id-1 pre{padding: 0;}#sk-container-id-1 div.sk-toggleable {background-color: white;}#sk-container-id-1 label.sk-toggleable__label {cursor: pointer;display: block;width: 100%;margin-bottom: 0;padding: 0.3em;box-sizing: border-box;text-align: center;}#sk-container-id-1 label.sk-toggleable__label-arrow:before {content: \"▸\";float: left;margin-right: 0.25em;color: #696969;}#sk-container-id-1 label.sk-toggleable__label-arrow:hover:before {color: black;}#sk-container-id-1 div.sk-estimator:hover label.sk-toggleable__label-arrow:before {color: black;}#sk-container-id-1 div.sk-toggleable__content {max-height: 0;max-width: 0;overflow: hidden;text-align: left;background-color: #f0f8ff;}#sk-container-id-1 div.sk-toggleable__content pre {margin: 0.2em;color: black;border-radius: 0.25em;background-color: #f0f8ff;}#sk-container-id-1 input.sk-toggleable__control:checked~div.sk-toggleable__content {max-height: 200px;max-width: 100%;overflow: auto;}#sk-container-id-1 input.sk-toggleable__control:checked~label.sk-toggleable__label-arrow:before {content: \"▾\";}#sk-container-id-1 div.sk-estimator input.sk-toggleable__control:checked~label.sk-toggleable__label {background-color: #d4ebff;}#sk-container-id-1 div.sk-label input.sk-toggleable__control:checked~label.sk-toggleable__label {background-color: #d4ebff;}#sk-container-id-1 input.sk-hidden--visually {border: 0;clip: rect(1px 1px 1px 1px);clip: rect(1px, 1px, 1px, 1px);height: 1px;margin: -1px;overflow: hidden;padding: 0;position: absolute;width: 1px;}#sk-container-id-1 div.sk-estimator {font-family: monospace;background-color: #f0f8ff;border: 1px dotted black;border-radius: 0.25em;box-sizing: border-box;margin-bottom: 0.5em;}#sk-container-id-1 div.sk-estimator:hover {background-color: #d4ebff;}#sk-container-id-1 div.sk-parallel-item::after {content: \"\";width: 100%;border-bottom: 1px solid gray;flex-grow: 1;}#sk-container-id-1 div.sk-label:hover label.sk-toggleable__label {background-color: #d4ebff;}#sk-container-id-1 div.sk-serial::before {content: \"\";position: absolute;border-left: 1px solid gray;box-sizing: border-box;top: 0;bottom: 0;left: 50%;z-index: 0;}#sk-container-id-1 div.sk-serial {display: flex;flex-direction: column;align-items: center;background-color: white;padding-right: 0.2em;padding-left: 0.2em;position: relative;}#sk-container-id-1 div.sk-item {position: relative;z-index: 1;}#sk-container-id-1 div.sk-parallel {display: flex;align-items: stretch;justify-content: center;background-color: white;position: relative;}#sk-container-id-1 div.sk-item::before, #sk-container-id-1 div.sk-parallel-item::before {content: \"\";position: absolute;border-left: 1px solid gray;box-sizing: border-box;top: 0;bottom: 0;left: 50%;z-index: -1;}#sk-container-id-1 div.sk-parallel-item {display: flex;flex-direction: column;z-index: 1;position: relative;background-color: white;}#sk-container-id-1 div.sk-parallel-item:first-child::after {align-self: flex-end;width: 50%;}#sk-container-id-1 div.sk-parallel-item:last-child::after {align-self: flex-start;width: 50%;}#sk-container-id-1 div.sk-parallel-item:only-child::after {width: 0;}#sk-container-id-1 div.sk-dashed-wrapped {border: 1px dashed gray;margin: 0 0.4em 0.5em 0.4em;box-sizing: border-box;padding-bottom: 0.4em;background-color: white;}#sk-container-id-1 div.sk-label label {font-family: monospace;font-weight: bold;display: inline-block;line-height: 1.2em;}#sk-container-id-1 div.sk-label-container {text-align: center;}#sk-container-id-1 div.sk-container {/* jupyter's `normalize.less` sets `[hidden] { display: none; }` but bootstrap.min.css set `[hidden] { display: none !important; }` so we also need the `!important` here to be able to override the default hidden behavior on the sphinx rendered scikit-learn.org. See: https://github.com/scikit-learn/scikit-learn/issues/21755 */display: inline-block !important;position: relative;}#sk-container-id-1 div.sk-text-repr-fallback {display: none;}</style><div id=\"sk-container-id-1\" class=\"sk-top-container\"><div class=\"sk-text-repr-fallback\"><pre>DecisionTreeClassifier(max_depth=3)</pre><b>In a Jupyter environment, please rerun this cell to show the HTML representation or trust the notebook. <br />On GitHub, the HTML representation is unable to render, please try loading this page with nbviewer.org.</b></div><div class=\"sk-container\" hidden><div class=\"sk-item\"><div class=\"sk-estimator sk-toggleable\"><input class=\"sk-toggleable__control sk-hidden--visually\" id=\"sk-estimator-id-1\" type=\"checkbox\" checked><label for=\"sk-estimator-id-1\" class=\"sk-toggleable__label sk-toggleable__label-arrow\">DecisionTreeClassifier</label><div class=\"sk-toggleable__content\"><pre>DecisionTreeClassifier(max_depth=3)</pre></div></div></div></div></div>"
      ],
      "text/plain": [
       "DecisionTreeClassifier(max_depth=3)"
      ]
     },
     "execution_count": 4,
     "metadata": {},
     "output_type": "execute_result"
    }
   ],
   "source": [
    "iris = load_iris()\n",
    "\n",
    "X = iris.data\n",
    "y = iris.target\n",
    "\n",
    "dt_model = DecisionTreeClassifier(max_depth=3)\n",
    "dt_model.fit(X, y)"
   ]
  },
  {
   "cell_type": "code",
   "execution_count": 14,
   "id": "cb625754-8628-4893-a15e-354f2bcd4d4b",
   "metadata": {},
   "outputs": [
    {
     "data": {
      "text/plain": [
       "(array([5.4, 3.7, 1.5, 0.2]),\n",
       " array([5.9, 3.2, 4.8, 1.8]),\n",
       " array([6.9, 3.2, 5.7, 2.3]))"
      ]
     },
     "execution_count": 14,
     "metadata": {},
     "output_type": "execute_result"
    }
   ],
   "source": [
    "a = X[10]\n",
    "b = X[60]\n",
    "c = X[120]\n",
    "\n",
    "X[10], X[70], X[120]"
   ]
  },
  {
   "cell_type": "code",
   "execution_count": 15,
   "id": "eaa1de86-17d1-4a0c-9475-2e6f59e98895",
   "metadata": {},
   "outputs": [
    {
     "data": {
      "text/plain": [
       "(array([0]), array([1]), array([2]))"
      ]
     },
     "execution_count": 15,
     "metadata": {},
     "output_type": "execute_result"
    }
   ],
   "source": [
    "dt_model.predict([a]), dt_model.predict([b]), dt_model.predict([c])"
   ]
  },
  {
   "cell_type": "markdown",
   "id": "71302226-8e56-44aa-824e-a05caeb618eb",
   "metadata": {},
   "source": [
    "## 모델 저장"
   ]
  },
  {
   "cell_type": "markdown",
   "id": "9caabd3c-c4ec-47de-b1c9-a0e9f5bc5f7b",
   "metadata": {},
   "source": [
    "### 피클 둘러보기"
   ]
  },
  {
   "cell_type": "code",
   "execution_count": 17,
   "id": "aadaab34-1aa7-432e-8df2-4ebf243ab968",
   "metadata": {},
   "outputs": [
    {
     "data": {
      "text/plain": [
       "b'\\x80\\x04\\x95\\xf1\\x06\\x00\\x00\\x00\\x00\\x00\\x00\\x8c\\x15sklearn.tree._classes\\x94\\x8c\\x16DecisionTreeClassifier\\x94\\x93\\x94)\\x81\\x94}\\x94(\\x8c\\tcriterion\\x94\\x8c\\x04gini\\x94\\x8c\\x08splitter\\x94\\x8c\\x04best\\x94\\x8c\\tmax_depth\\x94K\\x03\\x8c\\x11min_samples_split\\x94K\\x02\\x8c\\x10min_samples_leaf\\x94K\\x01\\x8c\\x18min_weight_fraction_leaf\\x94G\\x00\\x00\\x00\\x00\\x00\\x00\\x00\\x00\\x8c\\x0cmax_features\\x94N\\x8c\\x0emax_leaf_nodes\\x94N\\x8c\\x0crandom_state\\x94N\\x8c\\x15min_impurity_decrease\\x94G\\x00\\x00\\x00\\x00\\x00\\x00\\x00\\x00\\x8c\\x0cclass_weight\\x94N\\x8c\\tccp_alpha\\x94G\\x00\\x00\\x00\\x00\\x00\\x00\\x00\\x00\\x8c\\x0en_features_in_\\x94K\\x04\\x8c\\nn_outputs_\\x94K\\x01\\x8c\\x08classes_\\x94\\x8c\\x15numpy.core.multiarray\\x94\\x8c\\x0c_reconstruct\\x94\\x93\\x94\\x8c\\x05numpy\\x94\\x8c\\x07ndarray\\x94\\x93\\x94K\\x00\\x85\\x94C\\x01b\\x94\\x87\\x94R\\x94(K\\x01K\\x03\\x85\\x94h\\x19\\x8c\\x05dtype\\x94\\x93\\x94\\x8c\\x02i8\\x94\\x89\\x88\\x87\\x94R\\x94(K\\x03\\x8c\\x01<\\x94NNNJ\\xff\\xff\\xff\\xffJ\\xff\\xff\\xff\\xffK\\x00t\\x94b\\x89C\\x18\\x00\\x00\\x00\\x00\\x00\\x00\\x00\\x00\\x01\\x00\\x00\\x00\\x00\\x00\\x00\\x00\\x02\\x00\\x00\\x00\\x00\\x00\\x00\\x00\\x94t\\x94b\\x8c\\nn_classes_\\x94h\\x16\\x8c\\x06scalar\\x94\\x93\\x94h%C\\x08\\x03\\x00\\x00\\x00\\x00\\x00\\x00\\x00\\x94\\x86\\x94R\\x94\\x8c\\rmax_features_\\x94K\\x04\\x8c\\x05tree_\\x94\\x8c\\x12sklearn.tree._tree\\x94\\x8c\\x04Tree\\x94\\x93\\x94K\\x04h\\x18h\\x1bK\\x00\\x85\\x94h\\x1d\\x87\\x94R\\x94(K\\x01K\\x01\\x85\\x94h%\\x89C\\x08\\x03\\x00\\x00\\x00\\x00\\x00\\x00\\x00\\x94t\\x94bK\\x01\\x87\\x94R\\x94}\\x94(h\\tK\\x03\\x8c\\nnode_count\\x94K\\t\\x8c\\x05nodes\\x94h\\x18h\\x1bK\\x00\\x85\\x94h\\x1d\\x87\\x94R\\x94(K\\x01K\\t\\x85\\x94h\"\\x8c\\x03V56\\x94\\x89\\x88\\x87\\x94R\\x94(K\\x03\\x8c\\x01|\\x94N(\\x8c\\nleft_child\\x94\\x8c\\x0bright_child\\x94\\x8c\\x07feature\\x94\\x8c\\tthreshold\\x94\\x8c\\x08impurity\\x94\\x8c\\x0en_node_samples\\x94\\x8c\\x17weighted_n_node_samples\\x94t\\x94}\\x94(hHh\"\\x8c\\x02i8\\x94\\x89\\x88\\x87\\x94R\\x94(K\\x03h&NNNJ\\xff\\xff\\xff\\xffJ\\xff\\xff\\xff\\xffK\\x00t\\x94bK\\x00\\x86\\x94hIhSK\\x08\\x86\\x94hJhSK\\x10\\x86\\x94hKh\"\\x8c\\x02f8\\x94\\x89\\x88\\x87\\x94R\\x94(K\\x03h&NNNJ\\xff\\xff\\xff\\xffJ\\xff\\xff\\xff\\xffK\\x00t\\x94bK\\x18\\x86\\x94hLhZK \\x86\\x94hMhSK(\\x86\\x94hNhZK0\\x86\\x94uK8K\\x01K\\x10t\\x94b\\x89B\\xf8\\x01\\x00\\x00\\x01\\x00\\x00\\x00\\x00\\x00\\x00\\x00\\x02\\x00\\x00\\x00\\x00\\x00\\x00\\x00\\x02\\x00\\x00\\x00\\x00\\x00\\x00\\x00\\x00\\x00\\x00\\x98\\x99\\x99\\x03@VUUUUU\\xe5?\\x96\\x00\\x00\\x00\\x00\\x00\\x00\\x00\\x00\\x00\\x00\\x00\\x00\\xc0b@\\xff\\xff\\xff\\xff\\xff\\xff\\xff\\xff\\xff\\xff\\xff\\xff\\xff\\xff\\xff\\xff\\xfe\\xff\\xff\\xff\\xff\\xff\\xff\\xff\\x00\\x00\\x00\\x00\\x00\\x00\\x00\\xc0\\x00\\x00\\x00\\x00\\x00\\x00\\x00\\x002\\x00\\x00\\x00\\x00\\x00\\x00\\x00\\x00\\x00\\x00\\x00\\x00\\x00I@\\x03\\x00\\x00\\x00\\x00\\x00\\x00\\x00\\x06\\x00\\x00\\x00\\x00\\x00\\x00\\x00\\x03\\x00\\x00\\x00\\x00\\x00\\x00\\x00\\x00\\x00\\x00\\x00\\x00\\x00\\xfc?\\x00\\x00\\x00\\x00\\x00\\x00\\xe0?d\\x00\\x00\\x00\\x00\\x00\\x00\\x00\\x00\\x00\\x00\\x00\\x00\\x00Y@\\x04\\x00\\x00\\x00\\x00\\x00\\x00\\x00\\x05\\x00\\x00\\x00\\x00\\x00\\x00\\x00\\x02\\x00\\x00\\x00\\x00\\x00\\x00\\x00\\x00\\x00\\x00\\xd0\\xcc\\xcc\\x13@h\\xd3\\x16WH\\x82\\xc5?6\\x00\\x00\\x00\\x00\\x00\\x00\\x00\\x00\\x00\\x00\\x00\\x00\\x00K@\\xff\\xff\\xff\\xff\\xff\\xff\\xff\\xff\\xff\\xff\\xff\\xff\\xff\\xff\\xff\\xff\\xfe\\xff\\xff\\xff\\xff\\xff\\xff\\xff\\x00\\x00\\x00\\x00\\x00\\x00\\x00\\xc0@\\x8e\\xe38\\x8e\\xe3\\xa4?0\\x00\\x00\\x00\\x00\\x00\\x00\\x00\\x00\\x00\\x00\\x00\\x00\\x00H@\\xff\\xff\\xff\\xff\\xff\\xff\\xff\\xff\\xff\\xff\\xff\\xff\\xff\\xff\\xff\\xff\\xfe\\xff\\xff\\xff\\xff\\xff\\xff\\xff\\x00\\x00\\x00\\x00\\x00\\x00\\x00\\xc0\\x1c\\xc7q\\x1c\\xc7q\\xdc?\\x06\\x00\\x00\\x00\\x00\\x00\\x00\\x00\\x00\\x00\\x00\\x00\\x00\\x00\\x18@\\x07\\x00\\x00\\x00\\x00\\x00\\x00\\x00\\x08\\x00\\x00\\x00\\x00\\x00\\x00\\x00\\x02\\x00\\x00\\x00\\x00\\x00\\x00\\x00\\x00\\x00\\x00pff\\x13@\\xb0\\xf9<b\\xe5\\xc6\\xa5?.\\x00\\x00\\x00\\x00\\x00\\x00\\x00\\x00\\x00\\x00\\x00\\x00\\x00G@\\xff\\xff\\xff\\xff\\xff\\xff\\xff\\xff\\xff\\xff\\xff\\xff\\xff\\xff\\xff\\xff\\xfe\\xff\\xff\\xff\\xff\\xff\\xff\\xff\\x00\\x00\\x00\\x00\\x00\\x00\\x00\\xc0\\x1c\\xc7q\\x1c\\xc7q\\xdc?\\x03\\x00\\x00\\x00\\x00\\x00\\x00\\x00\\x00\\x00\\x00\\x00\\x00\\x00\\x08@\\xff\\xff\\xff\\xff\\xff\\xff\\xff\\xff\\xff\\xff\\xff\\xff\\xff\\xff\\xff\\xff\\xfe\\xff\\xff\\xff\\xff\\xff\\xff\\xff\\x00\\x00\\x00\\x00\\x00\\x00\\x00\\xc0\\x00\\x00\\x00\\x00\\x00\\x00\\x00\\x00+\\x00\\x00\\x00\\x00\\x00\\x00\\x00\\x00\\x00\\x00\\x00\\x00\\x80E@\\x94t\\x94b\\x8c\\x06values\\x94h\\x18h\\x1bK\\x00\\x85\\x94h\\x1d\\x87\\x94R\\x94(K\\x01K\\tK\\x01K\\x03\\x87\\x94hZ\\x89C\\xd8\\x00\\x00\\x00\\x00\\x00\\x00I@\\x00\\x00\\x00\\x00\\x00\\x00I@\\x00\\x00\\x00\\x00\\x00\\x00I@\\x00\\x00\\x00\\x00\\x00\\x00I@\\x00\\x00\\x00\\x00\\x00\\x00\\x00\\x00\\x00\\x00\\x00\\x00\\x00\\x00\\x00\\x00\\x00\\x00\\x00\\x00\\x00\\x00\\x00\\x00\\x00\\x00\\x00\\x00\\x00\\x00I@\\x00\\x00\\x00\\x00\\x00\\x00I@\\x00\\x00\\x00\\x00\\x00\\x00\\x00\\x00\\x00\\x00\\x00\\x00\\x00\\x80H@\\x00\\x00\\x00\\x00\\x00\\x00\\x14@\\x00\\x00\\x00\\x00\\x00\\x00\\x00\\x00\\x00\\x00\\x00\\x00\\x00\\x80G@\\x00\\x00\\x00\\x00\\x00\\x00\\xf0?\\x00\\x00\\x00\\x00\\x00\\x00\\x00\\x00\\x00\\x00\\x00\\x00\\x00\\x00\\x00@\\x00\\x00\\x00\\x00\\x00\\x00\\x10@\\x00\\x00\\x00\\x00\\x00\\x00\\x00\\x00\\x00\\x00\\x00\\x00\\x00\\x00\\xf0?\\x00\\x00\\x00\\x00\\x00\\x80F@\\x00\\x00\\x00\\x00\\x00\\x00\\x00\\x00\\x00\\x00\\x00\\x00\\x00\\x00\\xf0?\\x00\\x00\\x00\\x00\\x00\\x00\\x00@\\x00\\x00\\x00\\x00\\x00\\x00\\x00\\x00\\x00\\x00\\x00\\x00\\x00\\x00\\x00\\x00\\x00\\x00\\x00\\x00\\x00\\x80E@\\x94t\\x94bub\\x8c\\x10_sklearn_version\\x94\\x8c\\x051.2.0\\x94ub.'"
      ]
     },
     "execution_count": 17,
     "metadata": {},
     "output_type": "execute_result"
    }
   ],
   "source": [
    "pickled_model = pickle.dumps(dt_model)\n",
    "pickled_model"
   ]
  },
  {
   "cell_type": "markdown",
   "id": "5afe4531-ecd3-41bb-bc9c-b0a2dfb05234",
   "metadata": {},
   "source": [
    "### 위에서 만든 DT 모델 저장"
   ]
  },
  {
   "cell_type": "code",
   "execution_count": 16,
   "id": "72a8f5a9-fda6-43bd-942a-7ce4e28f5072",
   "metadata": {},
   "outputs": [],
   "source": [
    "with open('pickled_model_iris.bin', 'wb') as f:\n",
    "    pickle.dump(dt_model, f)"
   ]
  },
  {
   "cell_type": "markdown",
   "id": "f7417ea1-b972-4ef8-88a2-13fb6a1b6746",
   "metadata": {},
   "source": [
    "## 모델 불러오기"
   ]
  },
  {
   "cell_type": "code",
   "execution_count": null,
   "id": "e9cc448b-a7aa-43eb-9638-ed534c286169",
   "metadata": {},
   "outputs": [],
   "source": [
    "# 커널 리스타트"
   ]
  },
  {
   "cell_type": "code",
   "execution_count": 3,
   "id": "ca5a0e15-3950-4ce7-9a30-4c4dca26e4b0",
   "metadata": {},
   "outputs": [],
   "source": [
    "import sklearn\n",
    "from sklearn.datasets import load_iris\n",
    "from sklearn.tree import DecisionTreeClassifier\n",
    "import pickle"
   ]
  },
  {
   "cell_type": "code",
   "execution_count": null,
   "id": "46502401-94f7-4efa-ab42-c422d3d673ac",
   "metadata": {},
   "outputs": [],
   "source": [
    "# dt 모델을 실행시키면 : 커널 리스타트했기 때문에 이전 내용 없음"
   ]
  },
  {
   "cell_type": "code",
   "execution_count": 1,
   "id": "9ed2ee5d-7124-4e17-a84b-ad90d24b418d",
   "metadata": {},
   "outputs": [
    {
     "ename": "NameError",
     "evalue": "name 'dt_model' is not defined",
     "output_type": "error",
     "traceback": [
      "\u001b[0;31m---------------------------------------------------------------------------\u001b[0m",
      "\u001b[0;31mNameError\u001b[0m                                 Traceback (most recent call last)",
      "Cell \u001b[0;32mIn[1], line 1\u001b[0m\n\u001b[0;32m----> 1\u001b[0m \u001b[43mdt_model\u001b[49m\n",
      "\u001b[0;31mNameError\u001b[0m: name 'dt_model' is not defined"
     ]
    }
   ],
   "source": [
    "dt_model"
   ]
  },
  {
   "cell_type": "code",
   "execution_count": null,
   "id": "2816cffc-39e8-4728-aa0e-d30b9b9537d1",
   "metadata": {},
   "outputs": [],
   "source": [
    "# 피클 모델 불러오기"
   ]
  },
  {
   "cell_type": "code",
   "execution_count": 4,
   "id": "93eb9f44-7b77-47d0-b426-e6684c375f8a",
   "metadata": {},
   "outputs": [],
   "source": [
    "with open('pickled_model_iris.bin', 'rb') as f:\n",
    "    dt_model_loaded = pickle.load(f)"
   ]
  },
  {
   "cell_type": "code",
   "execution_count": 5,
   "id": "b2fd78c0-3c91-43da-bc44-fffcdbd14f5e",
   "metadata": {},
   "outputs": [
    {
     "data": {
      "text/plain": [
       "array([2])"
      ]
     },
     "execution_count": 5,
     "metadata": {},
     "output_type": "execute_result"
    }
   ],
   "source": [
    "dt_model_loaded.predict([[6.9, 3.2, 5.7, 2.3]])"
   ]
  },
  {
   "cell_type": "markdown",
   "id": "6188c11e-b071-427b-ac76-4964acb3ee03",
   "metadata": {},
   "source": [
    "# 텐서플로 저장 및 불러오기"
   ]
  },
  {
   "cell_type": "code",
   "execution_count": 1,
   "id": "428861ce-1acf-4972-9440-cd07a8b6a5a9",
   "metadata": {},
   "outputs": [],
   "source": [
    "import tensorflow as tf"
   ]
  },
  {
   "cell_type": "code",
   "execution_count": 4,
   "id": "5d6e0232-b802-4717-823c-f504b6e8006f",
   "metadata": {},
   "outputs": [
    {
     "name": "stdout",
     "output_type": "stream",
     "text": [
      "Epoch 1/10\n",
      " 25/125 [=====>........................] - ETA: 0s - loss: 1.4935 - acc: 0.4600 "
     ]
    },
    {
     "name": "stderr",
     "output_type": "stream",
     "text": [
      "2023-02-03 11:19:05.907090: W tensorflow/core/platform/profile_utils/cpu_utils.cc:128] Failed to get CPU frequency: 0 Hz\n"
     ]
    },
    {
     "name": "stdout",
     "output_type": "stream",
     "text": [
      "125/125 [==============================] - 0s 3ms/step - loss: 0.8608 - acc: 0.6977 - val_loss: 0.4709 - val_acc: 0.8400\n",
      "Epoch 2/10\n",
      "125/125 [==============================] - 0s 2ms/step - loss: 0.5383 - acc: 0.8120 - val_loss: 0.4435 - val_acc: 0.8430\n",
      "Epoch 3/10\n",
      "125/125 [==============================] - 0s 2ms/step - loss: 0.4709 - acc: 0.8388 - val_loss: 0.3790 - val_acc: 0.8720\n",
      "Epoch 4/10\n",
      "125/125 [==============================] - 0s 2ms/step - loss: 0.4340 - acc: 0.8522 - val_loss: 0.3583 - val_acc: 0.8750\n",
      "Epoch 5/10\n",
      "125/125 [==============================] - 0s 2ms/step - loss: 0.3931 - acc: 0.8692 - val_loss: 0.3345 - val_acc: 0.8760\n",
      "Epoch 6/10\n",
      "125/125 [==============================] - 0s 2ms/step - loss: 0.3652 - acc: 0.8763 - val_loss: 0.3431 - val_acc: 0.8750\n",
      "Epoch 7/10\n",
      "125/125 [==============================] - 0s 2ms/step - loss: 0.3313 - acc: 0.8945 - val_loss: 0.3560 - val_acc: 0.8730\n",
      "Epoch 8/10\n",
      "125/125 [==============================] - 0s 2ms/step - loss: 0.3116 - acc: 0.8945 - val_loss: 0.3331 - val_acc: 0.8820\n",
      "Epoch 9/10\n",
      "125/125 [==============================] - 0s 2ms/step - loss: 0.3085 - acc: 0.8957 - val_loss: 0.3232 - val_acc: 0.8870\n",
      "Epoch 10/10\n",
      "125/125 [==============================] - 0s 2ms/step - loss: 0.2823 - acc: 0.9050 - val_loss: 0.3185 - val_acc: 0.8910\n"
     ]
    },
    {
     "data": {
      "text/plain": [
       "<keras.callbacks.History at 0x292c77d60>"
      ]
     },
     "execution_count": 4,
     "metadata": {},
     "output_type": "execute_result"
    }
   ],
   "source": [
    "fashion_mnist = tf.keras.datasets.fashion_mnist\n",
    "(X_train, y_train), (X_test, y_test) = fashion_mnist.load_data()\n",
    "X_train = X_train[:5000, :]\n",
    "y_train = y_train[:5000]\n",
    "X_test = X_test[:1000, :]\n",
    "y_test = y_test[:1000]\n",
    "\n",
    "X_train = X_train/255.0\n",
    "X_test = X_test/255.0\n",
    "\n",
    "model = tf.keras.Sequential([\n",
    "    tf.keras.layers.Conv2D(32, (3, 3), input_shape=(28, 28, 1), padding = 'same'),\n",
    "    tf.keras.layers.MaxPooling2D( (2, 2) ),\n",
    "    tf.keras.layers.Flatten(),\n",
    "    tf.keras.layers.Dense(10, activation = 'softmax')\n",
    "])\n",
    "\n",
    "model.compile(optimizer = 'adam', loss = 'sparse_categorical_crossentropy',\n",
    "             metrics = ['acc'])\n",
    "\n",
    "model.fit(X_train, y_train,\n",
    "          validation_split = 0.2,\n",
    "          epochs = 10)"
   ]
  },
  {
   "cell_type": "code",
   "execution_count": 5,
   "id": "5ecbc351-7e5f-4efd-b720-76306b2cbdd2",
   "metadata": {},
   "outputs": [
    {
     "name": "stdout",
     "output_type": "stream",
     "text": [
      "32/32 [==============================] - 0s 2ms/step - loss: 0.4355 - acc: 0.8600\n"
     ]
    },
    {
     "data": {
      "text/plain": [
       "[0.4355009198188782, 0.8600000143051147]"
      ]
     },
     "execution_count": 5,
     "metadata": {},
     "output_type": "execute_result"
    }
   ],
   "source": [
    "model.evaluate(X_test, y_test)"
   ]
  },
  {
   "cell_type": "code",
   "execution_count": null,
   "id": "48dacc54-cfa6-4f52-a53e-3d5b12a63624",
   "metadata": {},
   "outputs": [],
   "source": []
  }
 ],
 "metadata": {
  "kernelspec": {
   "display_name": "Python 3 (ipykernel)",
   "language": "python",
   "name": "python3"
  },
  "language_info": {
   "codemirror_mode": {
    "name": "ipython",
    "version": 3
   },
   "file_extension": ".py",
   "mimetype": "text/x-python",
   "name": "python",
   "nbconvert_exporter": "python",
   "pygments_lexer": "ipython3",
   "version": "3.8.15"
  }
 },
 "nbformat": 4,
 "nbformat_minor": 5
}
