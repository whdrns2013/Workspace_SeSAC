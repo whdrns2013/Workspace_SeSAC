{
 "cells": [
  {
   "cell_type": "markdown",
   "id": "6351fcef-9610-4ed3-907d-cfc2fa563914",
   "metadata": {},
   "source": [
    "# 선생님 말씀"
   ]
  },
  {
   "cell_type": "markdown",
   "id": "6ad5bde7-7a95-49cb-9460-fda1ea8c4976",
   "metadata": {},
   "source": [
    "* 최종 프로젝트는 아래와 같이 진행되면 좋겠다.  \n",
    "\n",
    "1. 데이터 수집, 전처리  \n",
    "2. 모델링, python 서버 만들어보기  \n",
    "3. spring web 서버 (UI) - 버전 1 완성, test 및 평가 -> 추가 설계 문서 도출 (미니 릴리즈 발표 - 전체 집합)  \n",
    "4. \n",
    "5. \n",
    "6. 최종 발표 준비 (동영상 작업)  "
   ]
  },
  {
   "cell_type": "markdown",
   "id": "8f40adc8-8b2e-43ac-bacf-8ef84355f398",
   "metadata": {},
   "source": [
    "* 프로젝트 드롭은 없다.  \n",
    "* 현장에서 프로젝트 드롭은 절대 있으면 안된다.  \n",
    "* 피벗팅 등등 고려하지 말고 끝가지 해나가야 한다.  "
   ]
  },
  {
   "cell_type": "markdown",
   "id": "681432f3-2475-4636-8cf4-ec4a4bf37389",
   "metadata": {},
   "source": [
    "# flask와 Django"
   ]
  },
  {
   "cell_type": "markdown",
   "id": "6d80ebee-7d02-46ec-847a-6cd729cd214d",
   "metadata": {},
   "source": [
    "* 장고는 MVC 로 서비스를 짜기 쉽다.  \n",
    "* 하지만 플라스크는 그런 거 없다. 섞어서 쓴다.  \n",
    "* MVC 패턴을 사용하는 건 java에서 하는 게 맞긴 하다. 파이썬 서버를 쓸 필요가 없다.  \n",
    "* MVC는 뷰, 프론트가 필요할 때 사용하게 된다.  \n",
    "\n",
    "* 그러면 왜 장고를 사용하는가?  \n",
    "* 라는 질문에 다다를 수 있다..."
   ]
  },
  {
   "cell_type": "code",
   "execution_count": 1,
   "id": "40a90f1b-239b-42e3-a07a-7835ebdced33",
   "metadata": {},
   "outputs": [
    {
     "name": "stdout",
     "output_type": "stream",
     "text": [
      "Requirement already satisfied: flask in /Users/jongya/miniforge3/envs/jh/lib/python3.8/site-packages (2.2.2)\n",
      "Requirement already satisfied: Werkzeug>=2.2.2 in /Users/jongya/miniforge3/envs/jh/lib/python3.8/site-packages (from flask) (2.2.2)\n",
      "Requirement already satisfied: click>=8.0 in /Users/jongya/miniforge3/envs/jh/lib/python3.8/site-packages (from flask) (8.1.3)\n",
      "Requirement already satisfied: Jinja2>=3.0 in /Users/jongya/miniforge3/envs/jh/lib/python3.8/site-packages (from flask) (3.1.2)\n",
      "Requirement already satisfied: itsdangerous>=2.0 in /Users/jongya/miniforge3/envs/jh/lib/python3.8/site-packages (from flask) (2.1.2)\n",
      "Requirement already satisfied: importlib-metadata>=3.6.0 in /Users/jongya/miniforge3/envs/jh/lib/python3.8/site-packages (from flask) (5.2.0)\n",
      "Requirement already satisfied: zipp>=0.5 in /Users/jongya/miniforge3/envs/jh/lib/python3.8/site-packages (from importlib-metadata>=3.6.0->flask) (3.11.0)\n",
      "Requirement already satisfied: MarkupSafe>=2.0 in /Users/jongya/miniforge3/envs/jh/lib/python3.8/site-packages (from Jinja2>=3.0->flask) (2.1.1)\n"
     ]
    }
   ],
   "source": [
    "# !pip install flask"
   ]
  },
  {
   "cell_type": "markdown",
   "id": "34f77aec-d8a3-4c43-9abf-08c5b6736fba",
   "metadata": {},
   "source": [
    "# Flask"
   ]
  },
  {
   "cell_type": "code",
   "execution_count": 1,
   "id": "b34830fc-a4ad-4dec-88b5-f83a8d51510c",
   "metadata": {},
   "outputs": [],
   "source": [
    "from flask import Flask"
   ]
  },
  {
   "cell_type": "code",
   "execution_count": 3,
   "id": "aef5c930-731b-426f-8147-3dfcab334560",
   "metadata": {},
   "outputs": [
    {
     "name": "stdout",
     "output_type": "stream",
     "text": [
      " * Serving Flask app '__main__'\n",
      " * Debug mode: off\n"
     ]
    },
    {
     "name": "stderr",
     "output_type": "stream",
     "text": [
      "WARNING: This is a development server. Do not use it in a production deployment. Use a production WSGI server instead.\n",
      " * Running on http://localhost:5002\n",
      "Press CTRL+C to quit\n",
      "127.0.0.1 - - [03/Feb/2023 13:30:24] \"GET / HTTP/1.1\" 200 -\n",
      "127.0.0.1 - - [03/Feb/2023 13:30:24] \"GET /favicon.ico HTTP/1.1\" 404 -\n"
     ]
    }
   ],
   "source": [
    "app = Flask(__name__)\n",
    "\n",
    "@app.route(\"/\")\n",
    "def anyname():\n",
    "    return \"안녕하세요 박종혁입니다.\"\n",
    "\n",
    "@app.route('/app1')\n",
    "def app1():\n",
    "    return 'hello, its app1'\n",
    "    \n",
    "@app.route('/app2')\n",
    "def app2():\n",
    "    return 'hello, its app2'\n",
    "\n",
    "@app.route('/service')\n",
    "def service():\n",
    "    \n",
    "    return\n",
    "    \n",
    "\n",
    "# app.run(host = '192.168.10.25', port = 5000)\n",
    "app.run(host = 'localhost', port = 5002)"
   ]
  },
  {
   "cell_type": "markdown",
   "id": "565d05f5-e958-4760-a06a-e00b36eaa4fd",
   "metadata": {},
   "source": [
    "## 설명  \n",
    "  \n",
    "* Flask 는 페이지를 app 이라고 부른다.  \n",
    "* 위에서 보는 만큼 플라스크는 작성이 매우 간단하다.  \n",
    "* 그러나 구현할 수 있는 ui 가 많지 않고  \n",
    "* 사이트가 복잡해지면 복잡해질수록 관리가 어렵다는 단점이 있다.  "
   ]
  },
  {
   "attachments": {
    "69d977b3-0806-4b8b-b717-ba43e2c1cde3.png": {
     "image/png": "[encoded data removed]"
    }
   },
   "cell_type": "markdown",
   "id": "1b69e070-3603-46a6-8328-3005df6f08cb",
   "metadata": {},
   "source": [
    "![image.png](attachment:69d977b3-0806-4b8b-b717-ba43e2c1cde3.png)\n",
    "\n",
    "내 컴퓨터 호스트는 IPv4 주소가 IP주소임을 생각하면 된다.  "
   ]
  },
  {
   "cell_type": "markdown",
   "id": "fab9b311-ca50-4794-a172-c8d6c509bd64",
   "metadata": {},
   "source": [
    "## 데코레이터"
   ]
  },
  {
   "cell_type": "markdown",
   "id": "a5ed81a4-57c7-4d38-a053-f2eaf4d6c4db",
   "metadata": {},
   "source": [
    "at 특수문자 (@) 로 쓰여진 것이 데코레이터"
   ]
  },
  {
   "cell_type": "markdown",
   "id": "8d161aee-a73c-4f2c-b6f1-8e09de95d0a2",
   "metadata": {},
   "source": [
    "# 피클로 불러온 모델 사이트에 띄워보기"
   ]
  },
  {
   "cell_type": "code",
   "execution_count": 1,
   "id": "6c5bbfad-9831-40dc-ac90-93bd55d8630d",
   "metadata": {},
   "outputs": [
    {
     "name": "stdout",
     "output_type": "stream",
     "text": [
      " * Serving Flask app '__main__'\n",
      " * Debug mode: off\n"
     ]
    },
    {
     "name": "stderr",
     "output_type": "stream",
     "text": [
      "WARNING: This is a development server. Do not use it in a production deployment. Use a production WSGI server instead.\n",
      " * Running on http://localhost:5002\n",
      "Press CTRL+C to quit\n",
      "127.0.0.1 - - [03/Feb/2023 13:32:28] \"GET / HTTP/1.1\" 200 -\n",
      "127.0.0.1 - - [03/Feb/2023 13:32:33] \"GET /ML HTTP/1.1\" 200 -\n",
      "127.0.0.1 - - [03/Feb/2023 13:42:23] \"GET / HTTP/1.1\" 200 -\n",
      "127.0.0.1 - - [03/Feb/2023 13:42:30] \"GET /MLtest HTTP/1.1\" 404 -\n",
      "127.0.0.1 - - [03/Feb/2023 13:42:59] \"GET /ML HTTP/1.1\" 200 -\n"
     ]
    }
   ],
   "source": [
    "import pickle\n",
    "with open('pickled_model_iris.bin', 'rb') as f:\n",
    "    dt_model_loaded = pickle.load(f)\n",
    "from flask import Flask\n",
    "\n",
    "app = Flask(__name__)\n",
    "\n",
    "@app.route(\"/\")\n",
    "def anyname():\n",
    "    return \"안녕하세요 박종혁입니다.\"\n",
    "\n",
    "@app.route('/ML')\n",
    "def app1():\n",
    "    label_names = ['setosa', 'versicolor', 'virginica']\n",
    "    \n",
    "    data = [[6.9, 3.2, 5.7, 2.3]]\n",
    "    ind = dt_model_loaded.predict(data)\n",
    "    \n",
    "    if (6.0 < data[0] <7.0) and (2.0 < data[3] < 3.0):\n",
    "        ind = 2\n",
    "    \n",
    "    return f'이 꽃은 {label_names[int(ind)]} 입니다.'\n",
    "    \n",
    "@app.route('/app2')\n",
    "def app2():\n",
    "    return 'hello, its app2'\n",
    "\n",
    "@app.route('/service')\n",
    "def service():\n",
    "    return '서비스 페이지입니다'\n",
    "    \n",
    "\n",
    "app.run(host = 'localhost', port = 5002)"
   ]
  },
  {
   "cell_type": "markdown",
   "id": "667333c8-7209-43e7-a570-b797df988714",
   "metadata": {},
   "source": [
    "# Flask에서 HTML 코드 사용"
   ]
  },
  {
   "cell_type": "code",
   "execution_count": 1,
   "id": "7b784bbd-dfce-4b28-9b5d-9c46cab6f70a",
   "metadata": {},
   "outputs": [
    {
     "name": "stdout",
     "output_type": "stream",
     "text": [
      " * Serving Flask app '__main__'\n",
      " * Debug mode: off\n"
     ]
    },
    {
     "name": "stderr",
     "output_type": "stream",
     "text": [
      "WARNING: This is a development server. Do not use it in a production deployment. Use a production WSGI server instead.\n",
      " * Running on http://localhost:5002\n",
      "Press CTRL+C to quit\n",
      "127.0.0.1 - - [03/Feb/2023 14:15:08] \"GET / HTTP/1.1\" 200 -\n",
      "127.0.0.1 - - [03/Feb/2023 14:15:11] \"GET / HTTP/1.1\" 200 -\n",
      "127.0.0.1 - - [03/Feb/2023 14:15:12] \"GET / HTTP/1.1\" 200 -\n",
      "127.0.0.1 - - [03/Feb/2023 14:15:12] \"GET / HTTP/1.1\" 200 -\n",
      "127.0.0.1 - - [03/Feb/2023 14:15:12] \"GET / HTTP/1.1\" 200 -\n",
      "127.0.0.1 - - [03/Feb/2023 14:15:12] \"GET / HTTP/1.1\" 200 -\n",
      "127.0.0.1 - - [03/Feb/2023 14:15:12] \"GET / HTTP/1.1\" 200 -\n",
      "127.0.0.1 - - [03/Feb/2023 14:15:13] \"GET / HTTP/1.1\" 200 -\n",
      "127.0.0.1 - - [03/Feb/2023 14:15:13] \"GET / HTTP/1.1\" 200 -\n"
     ]
    }
   ],
   "source": [
    "from flask import Flask\n",
    "\n",
    "app = Flask(__name__)    \n",
    "mycount = 0\n",
    "\n",
    "@app.route('/')\n",
    "def anyname():\n",
    "    global mycount\n",
    "    mycount += 1\n",
    "    return f'''\n",
    "    <html>\n",
    "    <head><title> 박종혁입니다. </title></head>\n",
    "    <body>\n",
    "    <p>안녕하세요. 박종혁입니다.</p>\n",
    "    <p>{mycount}회 방문입니다.</p>\n",
    "    </body>\n",
    "    </html>\n",
    "    '''\n",
    "\n",
    "@app.route('/input')\n",
    "def app_input():\n",
    "    page = build_input_page()\n",
    "    return page\n",
    "\n",
    "\n",
    "app.run(host = 'localhost', port = 5002)"
   ]
  },
  {
   "cell_type": "code",
   "execution_count": 2,
   "id": "c7ba0877-d8d9-4e52-ab2a-e2e35d00a828",
   "metadata": {},
   "outputs": [],
   "source": [
    "# 프론트엔드 : html 부\n",
    "# 백엔드 부 : 위의 코드 같이 서버, 그리고 모델 부"
   ]
  },
  {
   "cell_type": "markdown",
   "id": "d8673533-bb2c-4cde-8e72-68d6df1683ee",
   "metadata": {},
   "source": [
    "# 여러 페이지 만들어보기"
   ]
  },
  {
   "cell_type": "code",
   "execution_count": 1,
   "id": "94342010-bea9-4850-88a1-7e12a7d99c07",
   "metadata": {},
   "outputs": [
    {
     "name": "stdout",
     "output_type": "stream",
     "text": [
      " * Serving Flask app '__main__'\n",
      " * Debug mode: off\n"
     ]
    },
    {
     "name": "stderr",
     "output_type": "stream",
     "text": [
      "WARNING: This is a development server. Do not use it in a production deployment. Use a production WSGI server instead.\n",
      " * Running on http://localhost:5002\n",
      "Press CTRL+C to quit\n",
      "127.0.0.1 - - [03/Feb/2023 14:27:02] \"GET / HTTP/1.1\" 200 -\n",
      "127.0.0.1 - - [03/Feb/2023 14:27:04] \"GET /input HTTP/1.1\" 200 -\n",
      "127.0.0.1 - - [03/Feb/2023 14:27:06] \"GET /input HTTP/1.1\" 200 -\n",
      "127.0.0.1 - - [03/Feb/2023 14:27:06] \"GET /input HTTP/1.1\" 200 -\n",
      "127.0.0.1 - - [03/Feb/2023 14:27:06] \"GET /input HTTP/1.1\" 200 -\n",
      "127.0.0.1 - - [03/Feb/2023 14:27:06] \"GET /input HTTP/1.1\" 200 -\n",
      "127.0.0.1 - - [03/Feb/2023 14:27:06] \"GET /input HTTP/1.1\" 200 -\n",
      "127.0.0.1 - - [03/Feb/2023 14:27:07] \"GET /input HTTP/1.1\" 200 -\n"
     ]
    }
   ],
   "source": [
    "from flask import Flask\n",
    "\n",
    "app = Flask(__name__)    \n",
    "mycount = 0\n",
    "\n",
    "def build_input_page(my_count):\n",
    "    page = f'''\n",
    "    <html>\n",
    "    <head><title> 박종혁입니다. </title></head>\n",
    "    <body>\n",
    "    <p>안녕하세요. 박종혁입니다.</p>\n",
    "    <p>{mycount}회 방문입니다.</p>\n",
    "    </body>\n",
    "    </html>\n",
    "    '''\n",
    "    return page\n",
    "\n",
    "@app.route('/input')\n",
    "def app_input():\n",
    "    global mycount\n",
    "    mycount += 1\n",
    "    page = build_input_page(mycount)\n",
    "    return page\n",
    "\n",
    "@app.route('/')\n",
    "def root():\n",
    "    return'''\n",
    "    <html>\n",
    "    <body>\n",
    "    <a href='/input'> 이 곳을 누르면 방문 횟수로 count 됩니다. </a>\n",
    "    </body>\n",
    "    </html>\n",
    "    '''\n",
    "\n",
    "\n",
    "app.run(host = 'localhost', port = 5002)"
   ]
  },
  {
   "cell_type": "markdown",
   "id": "1ca03dcc-ea80-4dc4-9c36-d3d9043afb75",
   "metadata": {},
   "source": [
    "# 상호작용 페이지 만들어보기"
   ]
  },
  {
   "cell_type": "code",
   "execution_count": null,
   "id": "aa234769-6ff0-4f0a-a58c-9f1c5f4e3fd9",
   "metadata": {},
   "outputs": [
    {
     "name": "stdout",
     "output_type": "stream",
     "text": [
      " * Serving Flask app '__main__'\n",
      " * Debug mode: off\n"
     ]
    },
    {
     "name": "stderr",
     "output_type": "stream",
     "text": [
      "WARNING: This is a development server. Do not use it in a production deployment. Use a production WSGI server instead.\n",
      " * Running on http://localhost:5002\n",
      "Press CTRL+C to quit\n",
      "127.0.0.1 - - [03/Feb/2023 15:54:56] \"GET / HTTP/1.1\" 200 -\n",
      "127.0.0.1 - - [03/Feb/2023 15:54:58] \"GET /input HTTP/1.1\" 200 -\n",
      "127.0.0.1 - - [03/Feb/2023 15:55:02] \"GET /result?sepal_length=1&sepal_width=2&petal_length=3&petal_width=4 HTTP/1.1\" 200 -\n"
     ]
    }
   ],
   "source": [
    "from flask import Flask\n",
    "from flask import request\n",
    "    # 수신 결과를 받는 모듈 flask.request\n",
    "\n",
    "app = Flask(__name__)\n",
    "\n",
    "def build_input_page():\n",
    "    page = f'''\n",
    "    <html>\n",
    "    <body>\n",
    "    꽃 측정원 님 안녕하세요. <br>\n",
    "    지금 입고된 꽃의 치수를 cm 단위로 입력해 주세요. <br>\n",
    "    저희 [나만돈벌어tm] 회사의 머신러닝 분류기가 꽃의 종류를 판단해 줍니다. <br>\n",
    "    그러면 그 결과에 맞춰 창고에 넣어 주세요. <br>\n",
    "    \n",
    "    <form action='http://localhost:5002/result' method='get'>\n",
    "    sepal_length : <input type='text' name='sepal_length'></input>cm<br>\n",
    "    sepal_width : <input type='text' name='sepal_width'></input>cm<br>\n",
    "    petal_length : <input type='text' name='petal_length'></input>cm<br>\n",
    "    petal_width : <input type='text' name='petal_width'></input>cm<br>\n",
    "    <input type='submit'></input><br>\n",
    "    </form>\n",
    "    \n",
    "    </body>\n",
    "    </html>\n",
    "    '''\n",
    "    return page\n",
    "\n",
    "\n",
    "def build_result_page():\n",
    "    \n",
    "    import tensorflow as tf\n",
    "    import sklearn\n",
    "    from sklearn.tree import DecisionTreeClassifier\n",
    "    import pickle\n",
    "    \n",
    "    sepal_length = request.args.get('sepal_length')\n",
    "    sepal_width = request.args.get('sepal_width')\n",
    "    petal_length = request.args.get('petal_length')\n",
    "    petal_width = request.args.get('petal_width')\n",
    "    \n",
    "    sepal_length = float(sepal_length)\n",
    "    sepal_width = float(sepal_width)\n",
    "    petal_length = float(petal_length)\n",
    "    petal_width = float(petal_width)\n",
    "    \n",
    "    with open('pickled_model_iris.bin', 'rb') as f:\n",
    "        dt_model_loaded = pickle.load(f)\n",
    "    \n",
    "    \n",
    "    multiple = (int(sepal_length) * int(sepal_width) * int(petal_length) * int(petal_width))\n",
    "    label_names = ['setosa', 'versicolor', 'virginica']\n",
    "    result = dt_model_loaded.predict([[sepal_length, sepal_width, petal_length, petal_width]])\n",
    "    result_class = label_names[int(result)]\n",
    "    \n",
    "    page = f'''\n",
    "    수신 내용이 맞는지 확인해주세요 <br>\n",
    "    * sepal_length : {sepal_length} <br>\n",
    "    * sepal_width : {sepal_width} <br>\n",
    "    * petal_length : {petal_length} <br>\n",
    "    * petal_width : {petal_width} <br>\n",
    "\n",
    "    모든 값 곱하기 : {multiple}<br>\n",
    "    꽃 분류 : {result_class}\n",
    "    '''\n",
    "    return page\n",
    "\n",
    "def build_home_page():\n",
    "    page = '''\n",
    "    <html>\n",
    "    <body>\n",
    "    \n",
    "    <h1> Iris 분류기 </h1>\n",
    "    <p> Iris 분류 시스템 입니다. </p>\n",
    "    <a href = 'http://localhost:5002/input'> 입력 페이지로 이동합니다.</a>\n",
    "    \n",
    "    </body>\n",
    "    </html>\n",
    "    '''\n",
    "    return page\n",
    "\n",
    "@app.route('/')\n",
    "def home_page():\n",
    "    page = build_home_page()\n",
    "    return page\n",
    "\n",
    "\n",
    "@app.route('/input')\n",
    "def app_input():\n",
    "    page = build_input_page()\n",
    "    return page\n",
    "\n",
    "@app.route('/result', methods=['POST', 'GET'])\n",
    "def app_result():\n",
    "    page = build_result_page()\n",
    "    return page\n",
    "\n",
    "\n",
    "app.run(host = 'localhost', port = 5002)"
   ]
  },
  {
   "cell_type": "code",
   "execution_count": null,
   "id": "78d9329f-ecb2-4d74-b5ed-a1fecfcb0156",
   "metadata": {},
   "outputs": [],
   "source": []
  }
 ],
 "metadata": {
  "kernelspec": {
   "display_name": "Python 3 (ipykernel)",
   "language": "python",
   "name": "python3"
  },
  "language_info": {
   "codemirror_mode": {
    "name": "ipython",
    "version": 3
   },
   "file_extension": ".py",
   "mimetype": "text/x-python",
   "name": "python",
   "nbconvert_exporter": "python",
   "pygments_lexer": "ipython3",
   "version": "3.8.15"
  }
 },
 "nbformat": 4,
 "nbformat_minor": 5
}
