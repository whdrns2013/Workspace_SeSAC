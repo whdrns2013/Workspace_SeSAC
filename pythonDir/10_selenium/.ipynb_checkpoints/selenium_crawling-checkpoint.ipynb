{
 "cells": [
  {
   "cell_type": "code",
   "execution_count": 10,
   "id": "907da5aa-c3a8-48c9-9546-9ec74e496fa6",
   "metadata": {},
   "outputs": [
    {
     "name": "stdin",
     "output_type": "stream",
     "text": [
      "검색하고 싶은 키워드 :  banana\n",
      "원하는 이미지 수집 개수 :  100\n"
     ]
    },
    {
     "name": "stderr",
     "output_type": "stream",
     "text": [
      "C:\\Users\\user\\AppData\\Local\\Temp\\ipykernel_15900\\3796914825.py:7: DeprecationWarning: executable_path has been deprecated, please pass in a Service object\n",
      "  browser = webdriver.Chrome('c:/chromedriver.exe')\n"
     ]
    },
    {
     "ename": "AttributeError",
     "evalue": "'WebDriver' object has no attribute 'find_elements_by_tag_name'",
     "output_type": "error",
     "traceback": [
      "\u001b[1;31m---------------------------------------------------------------------------\u001b[0m",
      "\u001b[1;31mAttributeError\u001b[0m                            Traceback (most recent call last)",
      "\u001b[1;32m~\\AppData\\Local\\Temp\\ipykernel_15900\\3796914825.py\u001b[0m in \u001b[0;36m<module>\u001b[1;34m\u001b[0m\n\u001b[0;32m     26\u001b[0m     \u001b[0msearch_path\u001b[0m \u001b[1;33m=\u001b[0m \u001b[1;34m\"Your Path\"\u001b[0m\u001b[1;33m\u001b[0m\u001b[1;33m\u001b[0m\u001b[0m\n\u001b[0;32m     27\u001b[0m     \u001b[1;31m# search_maybe(search_name, search_limit, search_path)\u001b[0m\u001b[1;33m\u001b[0m\u001b[1;33m\u001b[0m\u001b[0m\n\u001b[1;32m---> 28\u001b[1;33m     \u001b[0msearch_selenium\u001b[0m\u001b[1;33m(\u001b[0m\u001b[0msearch_name\u001b[0m\u001b[1;33m,\u001b[0m \u001b[0msearch_path\u001b[0m\u001b[1;33m,\u001b[0m \u001b[0msearch_limit\u001b[0m\u001b[1;33m)\u001b[0m\u001b[1;33m\u001b[0m\u001b[1;33m\u001b[0m\u001b[0m\n\u001b[0m",
      "\u001b[1;32m~\\AppData\\Local\\Temp\\ipykernel_15900\\3796914825.py\u001b[0m in \u001b[0;36msearch_selenium\u001b[1;34m(search_name, search_path, search_limit)\u001b[0m\n\u001b[0;32m      8\u001b[0m     \u001b[0mbrowser\u001b[0m\u001b[1;33m.\u001b[0m\u001b[0mget\u001b[0m\u001b[1;33m(\u001b[0m\u001b[0msearch_url\u001b[0m\u001b[1;33m)\u001b[0m\u001b[1;33m\u001b[0m\u001b[1;33m\u001b[0m\u001b[0m\n\u001b[0;32m      9\u001b[0m \u001b[1;33m\u001b[0m\u001b[0m\n\u001b[1;32m---> 10\u001b[1;33m     \u001b[0mimage_count\u001b[0m \u001b[1;33m=\u001b[0m \u001b[0mlen\u001b[0m\u001b[1;33m(\u001b[0m\u001b[0mbrowser\u001b[0m\u001b[1;33m.\u001b[0m\u001b[0mfind_elements_by_tag_name\u001b[0m\u001b[1;33m(\u001b[0m\u001b[1;34m\"img\"\u001b[0m\u001b[1;33m)\u001b[0m\u001b[1;33m)\u001b[0m\u001b[1;33m\u001b[0m\u001b[1;33m\u001b[0m\u001b[0m\n\u001b[0m\u001b[0;32m     11\u001b[0m \u001b[1;33m\u001b[0m\u001b[0m\n\u001b[0;32m     12\u001b[0m     \u001b[0mprint\u001b[0m\u001b[1;33m(\u001b[0m\u001b[1;34m\"로드된 이미지 개수 : \"\u001b[0m\u001b[1;33m,\u001b[0m \u001b[0mimage_count\u001b[0m\u001b[1;33m)\u001b[0m\u001b[1;33m\u001b[0m\u001b[1;33m\u001b[0m\u001b[0m\n",
      "\u001b[1;31mAttributeError\u001b[0m: 'WebDriver' object has no attribute 'find_elements_by_tag_name'"
     ]
    }
   ],
   "source": [
    "from selenium import webdriver\n",
    "from bs4 import BeautifulSoup as soups\n",
    "\n",
    "def search_selenium(search_name, search_path, search_limit) :\n",
    "    search_url = \"https://www.google.com/search?q=\" + str(search_name) + \"&hl=ko&tbm=isch\"\n",
    "    \n",
    "    browser = webdriver.Chrome('c:/chromedriver.exe')\n",
    "    browser.get(search_url)\n",
    "    \n",
    "    image_count = len(browser.find_elements_by_tag_name(\"img\"))\n",
    "    \n",
    "    print(\"로드된 이미지 개수 : \", image_count)\n",
    "\n",
    "    browser.implicitly_wait(2)\n",
    "\n",
    "    for i in range( search_limit ) :\n",
    "        image = browser.find_elements_by_tag_name(\"img\")[i]\n",
    "        image.screenshot(\"c:/project_deeplearning_20221221/data\" + str(i) + \".png\")\n",
    "\n",
    "    browser.close()\n",
    "\n",
    "if __name__ == \"__main__\" :\n",
    "\n",
    "    search_name = input(\"검색하고 싶은 키워드 : \")\n",
    "    search_limit = int(input(\"원하는 이미지 수집 개수 : \"))\n",
    "    search_path = \"Your Path\"\n",
    "    # search_maybe(search_name, search_limit, search_path)\n",
    "    search_selenium(search_name, search_path, search_limit)"
   ]
  },
  {
   "cell_type": "code",
   "execution_count": null,
   "id": "c159569c-fc1a-49f6-b18e-b08f07f9543f",
   "metadata": {},
   "outputs": [],
   "source": []
  },
  {
   "cell_type": "code",
   "execution_count": null,
   "id": "fd683a7d-90a8-4743-931d-fdb1afb50c98",
   "metadata": {},
   "outputs": [],
   "source": []
  },
  {
   "cell_type": "code",
   "execution_count": null,
   "id": "49bd5a3e-3e46-42ee-9ff4-a7d32bd3c7ab",
   "metadata": {},
   "outputs": [],
   "source": []
  },
  {
   "cell_type": "code",
   "execution_count": null,
   "id": "ecec6b1d-1470-41fa-a30c-3c7dd7ffca87",
   "metadata": {},
   "outputs": [],
   "source": []
  }
 ],
 "metadata": {
  "kernelspec": {
   "display_name": "Python 3 (ipykernel)",
   "language": "python",
   "name": "python3"
  },
  "language_info": {
   "codemirror_mode": {
    "name": "ipython",
    "version": 3
   },
   "file_extension": ".py",
   "mimetype": "text/x-python",
   "name": "python",
   "nbconvert_exporter": "python",
   "pygments_lexer": "ipython3",
   "version": "3.8.15"
  }
 },
 "nbformat": 4,
 "nbformat_minor": 5
}
