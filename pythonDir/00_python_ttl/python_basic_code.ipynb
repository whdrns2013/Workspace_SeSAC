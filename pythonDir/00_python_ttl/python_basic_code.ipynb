{
 "cells": [
  {
   "cell_type": "markdown",
   "id": "374430a4-9811-409a-8b2e-b579e25d57f5",
   "metadata": {
    "jp-MarkdownHeadingCollapsed": true,
    "tags": []
   },
   "source": [
    "# 함수/코드명\n",
    "  \n",
    "> <b>기본 문법</b>  \n",
    "> \n",
    "  \n",
    "> <b>기본 설명/라이브러리</b>  \n",
    "> \n",
    "  \n",
    "> <b>주요 parameters</b>  \n",
    ">\n",
    "  \n",
    "> <b>주요 attributes</b>  \n",
    "> "
   ]
  },
  {
   "cell_type": "markdown",
   "id": "b46381b5-e621-4e59-a1e6-74d93cbb1d53",
   "metadata": {
    "jp-MarkdownHeadingCollapsed": true,
    "tags": []
   },
   "source": [
    "# enumerate()"
   ]
  },
  {
   "cell_type": "markdown",
   "id": "3fd5c42a-95b6-456d-af6f-81df3d60195f",
   "metadata": {},
   "source": [
    "> <b>기본 문법</b>  \n",
    "> enumerate(sequence)\n",
    "  \n",
    "> <b>기본 설명</b>  \n",
    "> 시퀀스형 자료에 대해 (index, 원소값)의 튜플 형태로 반환한다.  \n",
    "  \n",
    "> <b>주요 parameters</b>  \n",
    "> * sequence : 시퀀스형 자료  \n",
    "  \n",
    "> <b>주요 attributes</b>  \n",
    "> "
   ]
  },
  {
   "cell_type": "code",
   "execution_count": 15,
   "id": "fa8b7e7b-6158-4ffd-acda-d3e626b83ff6",
   "metadata": {},
   "outputs": [
    {
     "name": "stdout",
     "output_type": "stream",
     "text": [
      "== 비교 ==\n",
      "[1, 2, 3, 4, 5]\n",
      "<enumerate object at 0x7f9038400480>\n",
      "== 그냥 출력시 ==\n",
      "1\n",
      "2\n",
      "3\n",
      "4\n",
      "5\n",
      "== enumerate 사용시 ==\n",
      "(0, 1)\n",
      "(1, 2)\n",
      "(2, 3)\n",
      "(3, 4)\n",
      "(4, 5)\n",
      "== enumerate 분리 ==\n",
      "index=0, value=1\n",
      "index=1, value=2\n",
      "index=2, value=3\n",
      "index=3, value=4\n",
      "index=4, value=5\n"
     ]
    }
   ],
   "source": [
    "list_example = [1, 2, 3, 4, 5]\n",
    "\n",
    "print(\"== 비교 ==\")\n",
    "print(list_example)\n",
    "print(enumerate(list_example))\n",
    "\n",
    "print(\"== 그냥 출력시 ==\")\n",
    "for i in list_example:\n",
    "    print(i)\n",
    "    \n",
    "print(\"== enumerate 사용시 ==\")\n",
    "for i in enumerate(list_example):\n",
    "    print(i)\n",
    "\n",
    "print(\"== enumerate 분리 ==\")\n",
    "for i, j in enumerate(list_example):\n",
    "    print(f\"index={i}, value={j}\")\n",
    "    \n"
   ]
  },
  {
   "cell_type": "markdown",
   "id": "577813a4-4190-4f1f-ae6a-a885df3c96e8",
   "metadata": {
    "jp-MarkdownHeadingCollapsed": true,
    "tags": []
   },
   "source": [
    "# globals()"
   ]
  },
  {
   "cell_type": "markdown",
   "id": "99e8a60c-0027-4c04-9234-cce85ad80b4e",
   "metadata": {},
   "source": [
    "> <b>기본 문법</b>  \n",
    "> globals()[변수규칙 formatting] = 변수의 값  \n",
    "  \n",
    "> <b>기본 설명</b>  \n",
    "> 변수명을 자동화해주는 함수  \n",
    "  \n",
    "> <b>주요 parameters</b>  \n",
    "> 없음  \n",
    "  \n",
    "> <b>주요 attributes</b>  \n",
    "> "
   ]
  },
  {
   "cell_type": "code",
   "execution_count": 17,
   "id": "cd31d907-71a8-4bb9-8b7b-15110c1899e4",
   "metadata": {},
   "outputs": [
    {
     "name": "stdout",
     "output_type": "stream",
     "text": [
      "data_0 :  1\n",
      "data_1 :  2\n",
      "data_2 :  3\n",
      "data_3 :  4\n",
      "data_4 :  5\n",
      "data_5 :  6\n",
      "data_6 :  7\n",
      "data_7 :  8\n",
      "data_8 :  9\n",
      "data_9 :  10\n",
      "data_0 :  1\n",
      "data_1 :  2\n",
      "data_2 :  3\n",
      "data_3 :  4\n",
      "data_4 :  5\n",
      "data_5 :  6\n",
      "data_6 :  7\n"
     ]
    }
   ],
   "source": [
    "for i in range(10):\n",
    "    globals()[f'data_{i}'] = i + 1\n",
    "\n",
    "# 출력\n",
    "for i in range(10):\n",
    "    print(f'data_{i} : ', globals()[f'data_{i}'])\n",
    "    \n",
    "# 출력 다른 방법(초급)\n",
    "print('data_0 : ', data_0)\n",
    "print('data_1 : ', data_1)\n",
    "print('data_2 : ', data_2)\n",
    "print('data_3 : ', data_3)\n",
    "print('data_4 : ', data_4)\n",
    "print('data_5 : ', data_5)\n",
    "print('data_6 : ', data_6)"
   ]
  },
  {
   "cell_type": "markdown",
   "id": "0af4116e-a92d-4e55-808d-58e9516512b6",
   "metadata": {},
   "source": [
    "#"
   ]
  },
  {
   "cell_type": "markdown",
   "id": "80610f55-8448-4f0c-8e5f-01c90114b882",
   "metadata": {},
   "source": [
    "#"
   ]
  },
  {
   "cell_type": "markdown",
   "id": "87bffb55-3ed2-4ec0-b326-d78a32c0df18",
   "metadata": {},
   "source": [
    "#"
   ]
  },
  {
   "cell_type": "markdown",
   "id": "85a4ac5a-cdff-45ac-b9ac-1d5cb8b55bb9",
   "metadata": {},
   "source": [
    "#"
   ]
  },
  {
   "cell_type": "markdown",
   "id": "5b140551-21e8-4f5e-a92d-b67eb801b4a8",
   "metadata": {},
   "source": [
    "#"
   ]
  },
  {
   "cell_type": "markdown",
   "id": "491a3bc7-3389-4379-a705-815f64ba305c",
   "metadata": {},
   "source": [
    "#"
   ]
  },
  {
   "cell_type": "markdown",
   "id": "5ce10d3d-385e-4990-8c73-a759396c8944",
   "metadata": {},
   "source": [
    "#"
   ]
  },
  {
   "cell_type": "markdown",
   "id": "aa0709d2-7c1c-443f-912b-34a5cc0b04e8",
   "metadata": {},
   "source": [
    "#"
   ]
  },
  {
   "cell_type": "markdown",
   "id": "0622b2d1-5ad9-41a5-9000-5e1a2ca52249",
   "metadata": {},
   "source": [
    "#"
   ]
  },
  {
   "cell_type": "markdown",
   "id": "9311524f-642e-4520-9f94-8c6328482773",
   "metadata": {},
   "source": [
    "#"
   ]
  },
  {
   "cell_type": "markdown",
   "id": "6dffff8f-60ef-4cf2-9eb1-1695c31df1d8",
   "metadata": {},
   "source": [
    "#"
   ]
  },
  {
   "cell_type": "markdown",
   "id": "2237d401-6162-4e0f-bb81-cea40d8502c0",
   "metadata": {},
   "source": [
    "#"
   ]
  }
 ],
 "metadata": {
  "kernelspec": {
   "display_name": "Python 3 (ipykernel)",
   "language": "python",
   "name": "python3"
  },
  "language_info": {
   "codemirror_mode": {
    "name": "ipython",
    "version": 3
   },
   "file_extension": ".py",
   "mimetype": "text/x-python",
   "name": "python",
   "nbconvert_exporter": "python",
   "pygments_lexer": "ipython3",
   "version": "3.9.12"
  }
 },
 "nbformat": 4,
 "nbformat_minor": 5
}
