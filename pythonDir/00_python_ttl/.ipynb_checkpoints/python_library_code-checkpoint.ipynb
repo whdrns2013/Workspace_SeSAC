{
 "cells": [
  {
   "cell_type": "markdown",
   "id": "cda4403f-9222-4f83-acf5-437021726fd5",
   "metadata": {},
   "source": [
    "# 라이브러리명\n",
    "> <b>라이브러리 설명</b>  \n",
    "> \n",
    "  \n",
    "> <b>import 방법</b>  \n",
    ">"
   ]
  },
  {
   "cell_type": "markdown",
   "id": "0bd48d5d-9150-458e-a01b-1b9e349d0c2b",
   "metadata": {},
   "source": [
    "# time\n",
    "> <b>라이브러리 설명</b>  \n",
    "> \n",
    "  \n",
    "> <b>import 방법</b>  \n",
    ">"
   ]
  },
  {
   "cell_type": "code",
   "execution_count": null,
   "id": "8d993add-0852-427a-9be6-4d11b7dfd241",
   "metadata": {},
   "outputs": [],
   "source": []
  },
  {
   "cell_type": "markdown",
   "id": "01df786c-2175-4054-97ed-257f91fe0bd1",
   "metadata": {},
   "source": [
    "#"
   ]
  },
  {
   "cell_type": "markdown",
   "id": "ca5538ac-e28b-4bb7-b30b-aa9b776f95f2",
   "metadata": {},
   "source": [
    "#"
   ]
  },
  {
   "cell_type": "markdown",
   "id": "e84ee3c7-bbcf-490e-be71-58b9531921fd",
   "metadata": {},
   "source": [
    "#"
   ]
  },
  {
   "cell_type": "markdown",
   "id": "1721f71b-7f78-4794-b422-6872c56b38a8",
   "metadata": {},
   "source": [
    "#"
   ]
  },
  {
   "cell_type": "markdown",
   "id": "20137587-a5cb-4752-b86d-fc003bdac43f",
   "metadata": {},
   "source": [
    "#"
   ]
  },
  {
   "cell_type": "markdown",
   "id": "0f0840b8-71ad-4dc3-8e1c-0b4302fc223c",
   "metadata": {},
   "source": [
    "#"
   ]
  },
  {
   "cell_type": "markdown",
   "id": "100afa4a-1ee6-4358-92ac-1fe03d5cba32",
   "metadata": {},
   "source": [
    "#"
   ]
  },
  {
   "cell_type": "markdown",
   "id": "cffd7857-6d22-4414-8f10-28add003013b",
   "metadata": {},
   "source": [
    "#"
   ]
  },
  {
   "cell_type": "markdown",
   "id": "8cd8ca8e-16e4-491d-96e1-139b02644f28",
   "metadata": {},
   "source": [
    "#"
   ]
  },
  {
   "cell_type": "markdown",
   "id": "50468375-5b76-4e73-a68b-503ffa32c0ac",
   "metadata": {},
   "source": [
    "#"
   ]
  },
  {
   "cell_type": "markdown",
   "id": "91d9e096-0e19-4b68-863f-2b697de02714",
   "metadata": {},
   "source": [
    "#"
   ]
  },
  {
   "cell_type": "markdown",
   "id": "94553085-56d1-47bf-9285-d88050ae94b9",
   "metadata": {},
   "source": [
    "#"
   ]
  },
  {
   "cell_type": "markdown",
   "id": "e5e9fc10-8f12-433e-b3dc-71765025063b",
   "metadata": {},
   "source": [
    "#"
   ]
  },
  {
   "cell_type": "markdown",
   "id": "7522b954-bfc9-4a8d-b61d-6feaae2ec805",
   "metadata": {},
   "source": [
    "#"
   ]
  },
  {
   "cell_type": "markdown",
   "id": "f385167f-bdd4-45e7-8d32-fee4fa3e8751",
   "metadata": {},
   "source": [
    "#"
   ]
  },
  {
   "cell_type": "markdown",
   "id": "74797afa-cebc-4681-914e-ff2080a90462",
   "metadata": {},
   "source": [
    "#"
   ]
  }
 ],
 "metadata": {
  "kernelspec": {
   "display_name": "Python 3 (ipykernel)",
   "language": "python",
   "name": "python3"
  },
  "language_info": {
   "codemirror_mode": {
    "name": "ipython",
    "version": 3
   },
   "file_extension": ".py",
   "mimetype": "text/x-python",
   "name": "python",
   "nbconvert_exporter": "python",
   "pygments_lexer": "ipython3",
   "version": "3.9.12"
  }
 },
 "nbformat": 4,
 "nbformat_minor": 5
}
