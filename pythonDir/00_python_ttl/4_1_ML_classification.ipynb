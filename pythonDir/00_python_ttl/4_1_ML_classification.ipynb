{
 "cells": [
  {
   "cell_type": "markdown",
   "id": "a81f750c-c1d5-4730-80e6-8754d77aac08",
   "metadata": {},
   "source": [
    "# To Do  \n",
    "* 각 모델 별 보충 설명 (지금은 대략 알기 때문에, 파라미터와 사용방법에 집중해 정리함)"
   ]
  },
  {
   "cell_type": "markdown",
   "id": "ed30ed6e-dd50-4c50-92ae-f6f3d89f4486",
   "metadata": {},
   "source": [
    "# 분류 (Classification)"
   ]
  },
  {
   "cell_type": "markdown",
   "id": "83ba658c-acb5-4046-a763-83a3024f597e",
   "metadata": {},
   "source": [
    "## 분류의 개요  \n",
    "  \n"
   ]
  },
  {
   "cell_type": "markdown",
   "id": "a374a87c-377b-4e91-9c6e-8ec129f25b16",
   "metadata": {},
   "source": [
    "|모델명|설명|방법론|라이브러리|\n",
    "|--|--|--|--|\n",
    "|의사결정나무|--|데이터 균일도|--|\n",
    "|로지스틱 회귀|--|독립-종속간 선형 관계성|--|\n",
    "|앙상블|--|서로 다른 알고리즘을 결합|--|\n",
    "|나이브 베이즈|--|베이즈 통계와 생성 모델에 기반|--|\n",
    "|서포트 벡터 머신|--|개별 클래스 간 최대 분류 마진을 효과적으로 찾아줌|--|\n",
    "|최소 근접 알고리즘(KNN)|--|근접 거리 기준|--|\n",
    "|신경망|--|--|--|"
   ]
  },
  {
   "cell_type": "markdown",
   "id": "ec7b6889-6b64-48ab-8488-d3b20fb6ea1d",
   "metadata": {},
   "source": [
    "## 결정 트리 Decision Tree  \n",
    "  \n",
    "* 데이터의 규칙을 학습해 Tree 기반의 분류 규칙을 만드는 방법  \n",
    "* "
   ]
  },
  {
   "cell_type": "markdown",
   "id": "f66b52c3-8793-493e-b759-ebb5f76f5c51",
   "metadata": {},
   "source": [
    "### Decision Tree의 파라미터  \n",
    "  \n",
    "(1) min_samples_split  \n",
    "- 노드를 분할하기 위한 최소한의 샘플 수. 디폴트 2  \n",
    "- 작게 설정할 수록 분할되는 노드가 많다. -> 과적합 가능성 높아짐  \n",
    "  \n",
    "(2) min_samples_leaf  \n",
    "- 분할이 일어난 후 자식 노드가 가져야 할 최소한의 데이터 수  \n",
    "- 작게 설정할 수록 분할되는 노드가 많다. -> 과적합 가능성 높아짐  \n",
    "- 크게 설정할 수록 분할되는 노드가 적다 -> ㅇ"
   ]
  }
 ],
 "metadata": {
  "kernelspec": {
   "display_name": "Python 3 (ipykernel)",
   "language": "python",
   "name": "python3"
  },
  "language_info": {
   "codemirror_mode": {
    "name": "ipython",
    "version": 3
   },
   "file_extension": ".py",
   "mimetype": "text/x-python",
   "name": "python",
   "nbconvert_exporter": "python",
   "pygments_lexer": "ipython3",
   "version": "3.9.12"
  }
 },
 "nbformat": 4,
 "nbformat_minor": 5
}
