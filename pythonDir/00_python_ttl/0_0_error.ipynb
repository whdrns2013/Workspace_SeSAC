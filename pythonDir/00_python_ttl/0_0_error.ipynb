{
 "cells": [
  {
   "cell_type": "markdown",
   "id": "f6fe21da-ad85-4dc4-a300-b0a0c326ae2d",
   "metadata": {},
   "source": [
    "# 페이지 설명"
   ]
  },
  {
   "cell_type": "markdown",
   "id": "0323905e-f7fb-4181-a72a-713cc17d842b",
   "metadata": {},
   "source": [
    "## 에러 : \n",
    "  \n",
    "(1) 에러 내용 :   \n",
    "(2) 발생 지점 : \n",
    "(3) 에러 해석 :   \n",
    "(4) 에러 원인 :   \n",
    "(5) 해결 방법 :   "
   ]
  },
  {
   "cell_type": "markdown",
   "id": "9784aa94-a2bb-456a-a6c1-f0bd0c4b725b",
   "metadata": {},
   "source": [
    "# 에러 리스트"
   ]
  },
  {
   "cell_type": "code",
   "execution_count": null,
   "id": "28edf92b-8dd0-4ce2-9d9a-44c139103252",
   "metadata": {},
   "outputs": [],
   "source": [
    "## 에러 : \n",
    "  \n",
    "(1) 에러 내용 : multi_class must be in ('ovo', 'ovr')\n",
    "(2) 발생 지점 : sklearn.metrics.roc_auc_score\n",
    "(2) 에러 설명 : 다중분류에서만 나타나는 에러로, ovo와 ovr 중 모드를 선택해야 한다.  \n",
    "ovo (One vs One) : 일대일. 가능한 모든 쌍 조합의 auc 평균을 구한다. average=macro로 설정하면 불균형에 민감하지 않다.\n",
    "ovr (One vs Rest) : 일대다. 나머지에 대한 각 클래스 auc를 구한다. average=macro로 설정해도 불균형에 민감하다.\n",
    "(3) 에러 원인 : \n",
    "(4) 해결 방법 : "
   ]
  }
 ],
 "metadata": {
  "kernelspec": {
   "display_name": "Python 3 (ipykernel)",
   "language": "python",
   "name": "python3"
  },
  "language_info": {
   "codemirror_mode": {
    "name": "ipython",
    "version": 3
   },
   "file_extension": ".py",
   "mimetype": "text/x-python",
   "name": "python",
   "nbconvert_exporter": "python",
   "pygments_lexer": "ipython3",
   "version": "3.9.12"
  }
 },
 "nbformat": 4,
 "nbformat_minor": 5
}
