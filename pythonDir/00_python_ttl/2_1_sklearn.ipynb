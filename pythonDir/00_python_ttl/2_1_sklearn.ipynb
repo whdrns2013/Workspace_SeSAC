{
 "cells": [
  {
   "cell_type": "code",
   "execution_count": null,
   "id": "0ddf7308-b3cf-4376-91f9-56a721e433f9",
   "metadata": {},
   "outputs": [],
   "source": []
  }
 ],
 "metadata": {
  "kernelspec": {
   "display_name": "Python 3 (ipykernel)",
   "language": "python",
   "name": "python3"
  },
  "language_info": {
   "codemirror_mode": {
    "name": "ipython",
    "version": 3
   },
   "file_extension": ".py",
   "mimetype": "text/x-python",
   "name": "python",
   "nbconvert_exporter": "python",
   "pygments_lexer": "ipython3",
   "version": "3.9.12"
  }
 },
 "nbformat": 4,
 "nbformat_minor": 5
}
