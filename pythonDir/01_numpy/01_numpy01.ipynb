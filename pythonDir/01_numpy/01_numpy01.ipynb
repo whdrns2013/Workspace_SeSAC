{
 "cells": [
  {
   "cell_type": "markdown",
   "id": "38d7bb93-e1bd-4b94-a2a9-d0eb55a5363a",
   "metadata": {
    "tags": []
   },
   "source": [
    "# Jupyter Notebook 단축키\n",
    "* `shift + enter` : 실행 후 다음에 셀 하나 추가\n",
    "* `control + enter` : 실행 후 그대로 있음\n",
    "* `Tab` : 자동완성 기능 / 기능 탐색 기능\n",
    "* `Shift + Tab` : 해당 기능, 함수에 대한 설명서 (help 기능)"
   ]
  },
  {
   "cell_type": "markdown",
   "id": "4ba4f629-b5b0-4d55-851d-8046e9267911",
   "metadata": {},
   "source": [
    "# 기타 참고\n",
    "* Jupyter Notebook / Colab / 파이참 IDE 비교\n",
    "https://blog.naver.com/0910243/222668318602\n",
    "* 변수.~~~ 에서, 괄호가 붙는 경우와 붙지 않는 경우\n",
    "(1) 괄호가 붙는 경우 : 함수\n",
    "(2) 괄호가 붙지 않는 경우 : 속성\n",
    "* 메서드 체이닝 method chaining : 마침표(.)로 연결 연결 해서 속성이나 함수를 끌어 쓰는 방법\n",
    "* 함수에 대한 설명 기재 방법 : 아래 참고 (독스트링)\n",
    "* numpy doc : https://numpy.org/devdocs/user/absolute_beginners.html#broadcasting"
   ]
  },
  {
   "cell_type": "code",
   "execution_count": 157,
   "id": "45a27ac8-4cd1-47c6-ad7c-2a1619beadd5",
   "metadata": {},
   "outputs": [],
   "source": [
    "def func1(a) :\n",
    "    '''\n",
    "    함수에 대한 설명은 이러이러 합니다.\n",
    "    '''\n",
    "    return a * 2"
   ]
  },
  {
   "cell_type": "code",
   "execution_count": null,
   "id": "95f7de9f-0add-41d4-848f-2c9fa4cd32fd",
   "metadata": {},
   "outputs": [],
   "source": [
    "func1"
   ]
  },
  {
   "cell_type": "markdown",
   "id": "3a1f7e4e-7afd-4db6-a30d-7a339c7371e0",
   "metadata": {},
   "source": [
    "# 숙제\n",
    "*  sort.axis 이해\n",
    "* zip 함수 이해\n",
    "* 코테 방법 공유\n",
    "* firebase : https://console.firebase.google.com/\n",
    "* 프로그레시브 웹 앱 : https://blog.naver.com/varkiry05/222785838173\n",
    "* 농수산물 분야에서의 AI 적용 분야 : https://www.irsglobal.com/bbs/rwdboard/14816\n",
    "* 깃허브 블로그 만들기 : https://ahnslab.com/21-how-to-start-github-blog/\n",
    "* 디스콰이엇 가입 : https://disquiet.io/"
   ]
  },
  {
   "cell_type": "markdown",
   "id": "8fbd8d36-d04b-4a70-a677-77a5470feb70",
   "metadata": {},
   "source": [
    "# 파이썬 기본 속성과 함수\n",
    "\n",
    "## 파이썬 설명\n",
    "* 파이썬은 인터프리터 언어 -> 줄 단위 실행이 가능\n",
    "* 이에 반해, 자바는 통으로 컴파일 후 클래스파일을 실행하는 방법\n",
    "\n",
    "## Numpy 속성\n",
    "* `변수.dtype` : 변수의 데이터 타입을 반환. 행렬이라면, 행렬 안 원소의 데이터 타입을 반환\n",
    "* `변수.ndim` : 변수의 차원 수를 반환\n",
    "* `변수.shape` : 각 축이 몇 개인지 반환. 2x2행렬이면 (2, 2) / 3차원 2x2x3 행렬이면 (2, 2, 3)\n",
    "* `배열.size` : 배열의 사이즈(len)를 반환\n",
    "\n",
    "## Numpy 함수\n",
    "* `np.arange(시작값, 종료값, 공차)` : 해당 범위만큼의 행렬을 생성. 파이썬의 range 와 비슷 \n",
    "* `np.array(넣을 원소)` : 행렬의 원소값을 직접 넣어서 행렬 생성\n",
    "* `np.zeros(shape, dtype=float)` : 원소 값이 0인 shape(n,m) 행렬을 만드는 것 (디폴트 자료값 = float / 지정 가능)\n",
    "* `np.ones(shape, dtype=float)` : 원소 값이 1인 shape(n,m) 행렬을 만드는 것 (디폴트 자료값 = float / 지정 가능)\n",
    "* `np.empty(shape, dtype=float)` : 원소 값이 'Trash Value'인 shape(n,m) 행렬을 만드는 것 (디폴트 자료값 = float / 지정 가능) - 메모리상의 쓰레기값을 원소값으로 사용하기 때문에 zeros, ones보다 속도가 조금 더 빠름. 그리 큰 차이는 아님.\n",
    "* `np.linspace(start값, stop값, 몇 개를 뽑을지, endpoint = 마지막 값을 포함할 것인지 d=true)` : 특정 구간을 균등 분할한 수를 추출한다. \n",
    "* `np.sort(배열, axis=정렬기준 행)` : 배열을 정렬한다.\n",
    "* `np.argsort(배열, axis=정렬기준 행)` : 배열을 정렬했을 때의 index 값을 return 한다. 즉, 정렬했을 때 작은 값이 되는 순서대로의 index 를 return.\n",
    "* `np.argmax(배열)` : 배열에서 가장 큰 값의 index 값을 return 한다.\n",
    "* `배열.reshape(바꿀 배열 shape)` : 배열을 특정 shape 으로 바꿈\n",
    "* `np.conctenate(배열들 .. )` : 다수의 배열을 합친다(연산이 아닌 합침)  , axis = 디폴트 0. 0 = x축으로 합침 / 1 = y축으로 합침 / 2 = 3차원시 z축으로 합침\n",
    "* `np.vstack((붙일 배열들))` : 수직으로 배열들을 붙임\n",
    "* `np.hstack((붙일 배열들))` : 수평으로 배열들을 붙임\n",
    "* `np.vsplit((나눌 배열))` : 수직으로 배열을 분리시킴 (등분)\n",
    "* `np.hsplit((나눌 매열))` : 수평으로 배열을 분리시킴 (등분)\n",
    "* `np.unique(배열)` : 해당 배열의 유니크 값을 반환\n",
    "* `배열.transpose()` : 배열의 행과 열을 바꾸는 함수. 예로 2x3 행렬이었다면, 3x2 행렬로 바꾼다.\n",
    "* `np.flip(배열)` : 배열 내 원소의 순서를 뒤집어줌. 정렬의 개념이 아님. 뒤집는 것 뿐. axis 에 따라 axis = 0이면 0축을 뒤집기, axis = 1이면 1축을 뒤집기\n",
    "* `배열.flatten()` : 배열을 1차원으로 바꿔줌. 깊은 복사 (.copy 후 변경 진행)\n",
    "* `배열.ravel()` : 배열을 1차원으로 바꿔줌. 깊은 복사 (원본에까지 변경이 적용됨)\n",
    "\n",
    "\n",
    "\n",
    "## Numpy 설명\n",
    "* Numpy 튜토리얼 : https://numpy.org/devdocs/user/absolute_beginners.html\n",
    "* 행렬[행,열] 의 구조를 가지고 있다. (2차원 행렬시)\n",
    "* 행렬은 동일한 데이터타입의 원소만을 가짐\n",
    "\n",
    "## Numpy의 자료형\n",
    "* int8, int16, int32, int64의 차이점 : 담을 수 있는 데이터의 크기이다. int8 = 8비트 int / int64 = 64비트 int = 8바이트 int \n",
    "\n",
    "\n",
    "## Numpy 배열 구조에 대한 설명\n",
    "|지칭|설명|\n",
    "|---|---|\n",
    "|스칼라|하나의 열만 있는 배열 (1차원)|\n",
    "|어레이|2차원 배열 = 행렬 / (행,열) 구조|\n",
    "|매트릭스|3차원 배열|\n",
    "|텐서|4차원 이상의 배열|"
   ]
  },
  {
   "cell_type": "code",
   "execution_count": 28,
   "id": "6c4a6219-a359-41a7-8a82-871ab50358b9",
   "metadata": {},
   "outputs": [
    {
     "data": {
      "text/plain": [
       "'1.21.5'"
      ]
     },
     "execution_count": 28,
     "metadata": {},
     "output_type": "execute_result"
    }
   ],
   "source": [
    "import pandas as pd\n",
    "import numpy as np\n",
    "np.__version__"
   ]
  },
  {
   "cell_type": "code",
   "execution_count": 41,
   "id": "11b20dd5-f1a9-41b2-ae18-88f310e05122",
   "metadata": {},
   "outputs": [
    {
     "name": "stdout",
     "output_type": "stream",
     "text": [
      "[0 1 2 3 4 5]\n"
     ]
    },
    {
     "ename": "TypeError",
     "evalue": "unsupported operand type(s) for -: 'str' and 'str'",
     "output_type": "error",
     "traceback": [
      "\u001b[1;31m---------------------------------------------------------------------------\u001b[0m",
      "\u001b[1;31mTypeError\u001b[0m                                 Traceback (most recent call last)",
      "\u001b[1;32m~\\AppData\\Local\\Temp\\ipykernel_14536\\2607910218.py\u001b[0m in \u001b[0;36m<module>\u001b[1;34m\u001b[0m\n\u001b[0;32m      2\u001b[0m \u001b[0ma\u001b[0m \u001b[1;33m=\u001b[0m \u001b[0mnp\u001b[0m\u001b[1;33m.\u001b[0m\u001b[0marange\u001b[0m\u001b[1;33m(\u001b[0m\u001b[1;36m6\u001b[0m\u001b[1;33m)\u001b[0m\u001b[1;33m\u001b[0m\u001b[1;33m\u001b[0m\u001b[0m\n\u001b[0;32m      3\u001b[0m \u001b[0mprint\u001b[0m\u001b[1;33m(\u001b[0m\u001b[0ma\u001b[0m\u001b[1;33m)\u001b[0m\u001b[1;33m\u001b[0m\u001b[1;33m\u001b[0m\u001b[0m\n\u001b[1;32m----> 4\u001b[1;33m \u001b[0ma\u001b[0m \u001b[1;33m=\u001b[0m \u001b[0mnp\u001b[0m\u001b[1;33m.\u001b[0m\u001b[0marange\u001b[0m\u001b[1;33m(\u001b[0m\u001b[1;34m'a'\u001b[0m\u001b[1;33m,\u001b[0m \u001b[1;34m'z'\u001b[0m\u001b[1;33m,\u001b[0m \u001b[0mstr\u001b[0m\u001b[1;33m)\u001b[0m\u001b[1;33m\u001b[0m\u001b[1;33m\u001b[0m\u001b[0m\n\u001b[0m\u001b[0;32m      5\u001b[0m \u001b[0mprint\u001b[0m\u001b[1;33m(\u001b[0m\u001b[0ma\u001b[0m\u001b[1;33m)\u001b[0m\u001b[1;33m\u001b[0m\u001b[1;33m\u001b[0m\u001b[0m\n\u001b[0;32m      6\u001b[0m \u001b[1;33m\u001b[0m\u001b[0m\n",
      "\u001b[1;31mTypeError\u001b[0m: unsupported operand type(s) for -: 'str' and 'str'"
     ]
    }
   ],
   "source": [
    "# 범위 생성 arange\n",
    "a = np.arange(6)\n",
    "print(a)\n",
    "a = np.arange('a', 'z', str)\n",
    "print(a)\n",
    "\n",
    "# n차원 배열 생성\n",
    "a2 = a[np.newaxis,:]\n",
    "print(a2)\n",
    "a2.shape"
   ]
  },
  {
   "cell_type": "code",
   "execution_count": 155,
   "id": "1bb8f10c-8e0e-40e0-bbc8-1a0ed2fcde86",
   "metadata": {},
   "outputs": [
    {
     "data": {
      "text/plain": [
       "array([[1, 2, 3],\n",
       "       [4, 5, 6]])"
      ]
     },
     "execution_count": 155,
     "metadata": {},
     "output_type": "execute_result"
    }
   ],
   "source": [
    "# 범위 생성 + reshape\n",
    "a = np.arange(1, 7).reshape(2,3)\n",
    "a"
   ]
  },
  {
   "cell_type": "code",
   "execution_count": 27,
   "id": "80281bce-63e9-4a9b-b1c6-84a40b03d6a1",
   "metadata": {},
   "outputs": [
    {
     "name": "stdout",
     "output_type": "stream",
     "text": [
      "============================\n",
      "int32\n",
      "============================\n",
      "float64\n",
      "============================\n",
      "<U11\n",
      "1\n",
      "(6,)\n"
     ]
    }
   ],
   "source": [
    "print(\"============================\")\n",
    "a = np.array([1, 2, 3, 4, 5, 6])\n",
    "print(a.dtype)\n",
    "print(\"============================\")\n",
    "a = np.array([1., 2, 3, 4, 5, 6])\n",
    "print(a.dtype)\n",
    "print(\"============================\")\n",
    "a = np.array(['1', 2, 3, 4, 5, 6])\n",
    "print(a.dtype)\n",
    "\n",
    "\n",
    "print(a.ndim)\n",
    "print(a.shape)"
   ]
  },
  {
   "cell_type": "code",
   "execution_count": 26,
   "id": "42949f87-24f9-42ad-85bc-06ae993e4ccc",
   "metadata": {},
   "outputs": [
    {
     "name": "stdout",
     "output_type": "stream",
     "text": [
      "[[ 1  2  3  4]\n",
      " [ 5  6  7  8]\n",
      " [ 9 10 11 12]]\n",
      "2\n",
      "(3, 4)\n",
      "[1 2 3 4]\n",
      "4\n",
      "[ 4  8 12]\n"
     ]
    }
   ],
   "source": [
    "a = np.array([[1, 2, 3, 4], [5, 6, 7, 8], [9, 10, 11, 12]])\n",
    "print(a)\n",
    "print(a.ndim)\n",
    "print(a.shape)\n",
    "print(a[0])\n",
    "print(a[0,3])\n",
    "print(a[:,3])"
   ]
  },
  {
   "cell_type": "code",
   "execution_count": 29,
   "id": "5cf7d0ac-f50d-413a-9168-ab60b4f1b63f",
   "metadata": {},
   "outputs": [
    {
     "name": "stdout",
     "output_type": "stream",
     "text": [
      "[[1 2]\n",
      " [3 4]\n",
      " [5 6]]\n",
      "[[[1 2]\n",
      "  [3 4]\n",
      "  [5 6]]\n",
      "\n",
      " [[1 2]\n",
      "  [3 4]\n",
      "  [5 6]]]\n"
     ]
    }
   ],
   "source": [
    "a2 = np.array([[1, 2], [3, 4], [5, 6]]) # 2차원 배열\n",
    "a3 = np.array([[[1, 2], [3, 4], [5, 6]],[[1, 2], [3, 4], [5, 6]]])\n",
    "\n",
    "print(a2)\n",
    "print(a3)"
   ]
  },
  {
   "cell_type": "code",
   "execution_count": 32,
   "id": "c25fa2e5-9bec-4dcd-a45e-cfa04d71651d",
   "metadata": {},
   "outputs": [
    {
     "name": "stdout",
     "output_type": "stream",
     "text": [
      "int32\n"
     ]
    },
    {
     "data": {
      "text/plain": [
       "array([[1, 2],\n",
       "       [3, 4],\n",
       "       [5, 6]])"
      ]
     },
     "execution_count": 32,
     "metadata": {},
     "output_type": "execute_result"
    }
   ],
   "source": [
    "print(a2.dtype)\n",
    "a2"
   ]
  },
  {
   "cell_type": "code",
   "execution_count": 33,
   "id": "7824527b-b34f-4f6f-a4a8-8e437758a1d8",
   "metadata": {},
   "outputs": [
    {
     "name": "stdout",
     "output_type": "stream",
     "text": [
      "int32\n"
     ]
    },
    {
     "data": {
      "text/plain": [
       "array([[[1, 2],\n",
       "        [3, 4],\n",
       "        [5, 6]],\n",
       "\n",
       "       [[1, 2],\n",
       "        [3, 4],\n",
       "        [5, 6]]])"
      ]
     },
     "execution_count": 33,
     "metadata": {},
     "output_type": "execute_result"
    }
   ],
   "source": [
    "print(a3.dtype)\n",
    "a3"
   ]
  },
  {
   "cell_type": "code",
   "execution_count": 42,
   "id": "44d76ae5-5598-418b-ab22-ba58723b6db0",
   "metadata": {},
   "outputs": [
    {
     "data": {
      "text/plain": [
       "(array([[0., 0., 0., 0., 0.],\n",
       "        [0., 0., 0., 0., 0.],\n",
       "        [0., 0., 0., 0., 0.],\n",
       "        [0., 0., 0., 0., 0.],\n",
       "        [0., 0., 0., 0., 0.]]),\n",
       " array([[0, 0, 0, 0],\n",
       "        [0, 0, 0, 0],\n",
       "        [0, 0, 0, 0],\n",
       "        [0, 0, 0, 0]]),\n",
       " array([[0., 0., 0.],\n",
       "        [0., 0., 0.],\n",
       "        [0., 0., 0.]]))"
      ]
     },
     "execution_count": 42,
     "metadata": {},
     "output_type": "execute_result"
    }
   ],
   "source": [
    "# np.zeros\n",
    "z1 = np.zeros((5, 5), dtype=float)\n",
    "z2 = np.zeros((4, 4), dtype=int)\n",
    "z3 = np.zeros((3, 3))\n",
    "\n",
    "z1, z2, z3"
   ]
  },
  {
   "cell_type": "code",
   "execution_count": 38,
   "id": "890b1929-2c7b-4ba1-89d9-ef98b71cd413",
   "metadata": {},
   "outputs": [
    {
     "data": {
      "text/plain": [
       "(array([[1., 1., 1., 1., 1.],\n",
       "        [1., 1., 1., 1., 1.],\n",
       "        [1., 1., 1., 1., 1.],\n",
       "        [1., 1., 1., 1., 1.],\n",
       "        [1., 1., 1., 1., 1.]]),\n",
       " array([[1, 1, 1, 1],\n",
       "        [1, 1, 1, 1],\n",
       "        [1, 1, 1, 1],\n",
       "        [1, 1, 1, 1]]))"
      ]
     },
     "execution_count": 38,
     "metadata": {},
     "output_type": "execute_result"
    }
   ],
   "source": [
    "# np.ones\n",
    "o1 = np.ones((5, 5), dtype=float)\n",
    "o2 = np.ones((4, 4), dtype=int)\n",
    "\n",
    "o1, o2"
   ]
  },
  {
   "cell_type": "code",
   "execution_count": 39,
   "id": "6e4db1d7-d7a7-45a4-b6a4-994a19dca0e2",
   "metadata": {},
   "outputs": [
    {
     "data": {
      "text/plain": [
       "(array([[2.12199579e-314, 4.67296746e-307],\n",
       "        [2.09483834e-321, 8.21212371e-312]]),\n",
       " array([['', '', ''],\n",
       "        ['', '', ''],\n",
       "        ['', '', '']], dtype='<U1'))"
      ]
     },
     "execution_count": 39,
     "metadata": {},
     "output_type": "execute_result"
    }
   ],
   "source": [
    "# np.empty\n",
    "\n",
    "n1 = np.empty((2, 2), dtype=float)\n",
    "n2 = np.empty((3, 3), dtype=str)\n",
    "\n",
    "n1, n2"
   ]
  },
  {
   "cell_type": "code",
   "execution_count": 62,
   "id": "7c237e29-2bef-482e-a06b-354ed51f9dcd",
   "metadata": {},
   "outputs": [
    {
     "name": "stdout",
     "output_type": "stream",
     "text": [
      "sort 전 : \n",
      "[[1 3]\n",
      " [4 1]]\n",
      "sort 후 : \n",
      "[[1 3]\n",
      " [4 1]]\n",
      "sort - axis=0 : \n",
      "[[1 1]\n",
      " [4 3]]\n",
      "sort - axis=1 : \n",
      "[[1 3]\n",
      " [1 4]]\n",
      "sort - axis=-1 : \n",
      "[[1 3]\n",
      " [1 4]]\n"
     ]
    }
   ],
   "source": [
    "# sort\n",
    "\n",
    "a = np.array([[1, 3], [4, 1]])\n",
    "print(\"sort 전 : \")\n",
    "print(a)\n",
    "\n",
    "np.sort(a)\n",
    "print(\"sort 후 : \")\n",
    "print(a)\n",
    "\n",
    "a = np.array([[1, 3], [4, 1]])\n",
    "print(\"sort - axis=0 : \")\n",
    "print(np.sort(a, axis=0))\n",
    "\n",
    "a = np.array([[1, 3], [4, 1]])\n",
    "print(\"sort - axis=1 : \")\n",
    "print(np.sort(a, axis=1))\n",
    "\n",
    "a = np.array([[1, 3], [4, 1]])\n",
    "print(\"sort - axis=-1 : \")\n",
    "print(np.sort(a, axis=-1))"
   ]
  },
  {
   "cell_type": "code",
   "execution_count": 59,
   "id": "4ef50bf4-1ea6-49c7-bd83-e94b72f7cd6a",
   "metadata": {},
   "outputs": [
    {
     "name": "stdout",
     "output_type": "stream",
     "text": [
      "====== argsort ======\n",
      "[1 2 0]\n",
      "====== argsort axis ======\n",
      "== axis=0 ==\n",
      "[[0 1]\n",
      " [1 0]]\n",
      "== axis=-1 ==\n",
      "[[0 1]\n",
      " [1 0]]\n",
      "== axis=1 ==\n",
      "[[0 1]\n",
      " [1 0]]\n"
     ]
    }
   ],
   "source": [
    "# argsort\n",
    "# 각 값을 정렬했을 때의 index 값을 return 한다.\n",
    "\n",
    "print(\"====== argsort ======\")\n",
    "a = np.array([3, 1, 2])\n",
    "print(np.argsort(a))\n",
    "\n",
    "# argsort 2차원배열 axis 사용\n",
    "\n",
    "print(\"====== argsort axis ======\")\n",
    "\n",
    "a = np.array([[1, 3], [4, 1]])\n",
    "print(\"== axis=0 ==\")\n",
    "print(np.argsort(a, axis=0))\n",
    "print(\"== axis=-1 ==\")\n",
    "print(np.argsort(a, axis=-1))\n",
    "print(\"== axis=1 ==\")\n",
    "print(np.argsort(a, axis=1))"
   ]
  },
  {
   "cell_type": "code",
   "execution_count": 53,
   "id": "a17af637-0f7c-4a1d-b63a-5b995474d530",
   "metadata": {},
   "outputs": [
    {
     "data": {
      "text/plain": [
       "0"
      ]
     },
     "execution_count": 53,
     "metadata": {},
     "output_type": "execute_result"
    }
   ],
   "source": [
    "np.argmax(a)"
   ]
  },
  {
   "cell_type": "markdown",
   "id": "65ceb947-7ee7-4fec-8408-13f9d0128f9d",
   "metadata": {
    "tags": []
   },
   "source": [
    "## Sort axis\n",
    "\n",
    "* 예를 들어 [[3, 0], [4,2]] 행렬\n",
    "* 이의 shape = (2, 2)\n",
    "\n",
    "* axis = 0 : (2, :) = 첫 번째 축으로 정렬 (x축) 행 내 정렬 (내 기준으로는 열 내 정렬 = 행 간 정렬)\n",
    "* axis = 1 : (:, 2) = 두 번째 축으로 정렬 (y축) 열 내 정렬 (내 기준으로는 행 내 정렬 = 행 간 정렬)\n",
    "* axis = 2 : (:, 2) = 세 번째 축으로 정렬 (z축) 3차원시\n",
    "...\n",
    "* axis = -1 : (:, 2) = 마지막 축으로 정렬 (내 기준으로는 행 내 정렬 = 열 간 정렬))\n",
    "\n",
    "\n",
    "* axis = 축"
   ]
  },
  {
   "cell_type": "code",
   "execution_count": 71,
   "id": "8ab99b69-d210-4395-bbcf-7a4b003ddd49",
   "metadata": {},
   "outputs": [
    {
     "name": "stdout",
     "output_type": "stream",
     "text": [
      "== 원본 ==\n",
      "[[3 0]\n",
      " [2 4]]\n",
      "== axis=-1 ==\n",
      "[[0 3]\n",
      " [2 4]]\n",
      "== axis=1 ==\n",
      "[[0 3]\n",
      " [2 4]]\n",
      "== axis=0 ==\n",
      "[[2 0]\n",
      " [3 4]]\n"
     ]
    }
   ],
   "source": [
    "print(\"== 원본 ==\")\n",
    "a = np.array([[3, 0], [2, 4]])\n",
    "print(a)\n",
    "print(\"== axis=-1 ==\")\n",
    "print(np.sort(a, axis=-1))\n",
    "print(\"== axis=1 ==\")\n",
    "print(np.sort(a, axis=1))\n",
    "print(\"== axis=0 ==\")\n",
    "print(np.sort(a, axis=0))"
   ]
  },
  {
   "cell_type": "markdown",
   "id": "e5af8b71-dee6-4d0b-9571-2bf8b76a8eeb",
   "metadata": {},
   "source": [
    "## Concatenate, Stack\n"
   ]
  },
  {
   "cell_type": "code",
   "execution_count": 72,
   "id": "6da25949-8e5c-4adc-a995-1905847d68d1",
   "metadata": {},
   "outputs": [
    {
     "data": {
      "text/plain": [
       "array([1, 2, 3, 4, 5, 6, 7, 8])"
      ]
     },
     "execution_count": 72,
     "metadata": {},
     "output_type": "execute_result"
    }
   ],
   "source": [
    "a = np.array([1, 2, 3, 4])\n",
    "b = np.array([5, 6, 7, 8])\n",
    "\n",
    "np.concatenate((a, b), axis = 0)\n",
    "# np.concatenate((a, b), axis = 1) # 이건 오류, a와 b는 1차원 행렬 (1,) 형식이기 때문"
   ]
  },
  {
   "cell_type": "code",
   "execution_count": 77,
   "id": "f09fef2e-2ddb-45f0-9f18-641fd4c172e8",
   "metadata": {},
   "outputs": [
    {
     "data": {
      "text/plain": [
       "array([[1, 2, 5, 6],\n",
       "       [3, 4, 7, 8]])"
      ]
     },
     "execution_count": 77,
     "metadata": {},
     "output_type": "execute_result"
    }
   ],
   "source": [
    "# 2차원 concatenate\n",
    "a = np.array([[1, 2],[3, 4]])\n",
    "b = np.array([[5, 6],[7, 8]])\n",
    "\n",
    "np.concatenate((a, b), axis = 1)"
   ]
  },
  {
   "cell_type": "code",
   "execution_count": 81,
   "id": "1f53a13b-481e-4442-ab2a-fd3b119009d6",
   "metadata": {},
   "outputs": [
    {
     "name": "stdout",
     "output_type": "stream",
     "text": [
      "====a====\n",
      "[[[1 2]\n",
      "  [3 4]]\n",
      "\n",
      " [[5 6]\n",
      "  [7 8]]]\n",
      "====b====\n",
      "[[[8 7]\n",
      "  [6 5]]\n",
      "\n",
      " [[4 3]\n",
      "  [2 1]]]\n",
      "====concatenate (z축) ====\n",
      "[[[1 2 8 7]\n",
      "  [3 4 6 5]]\n",
      "\n",
      " [[5 6 4 3]\n",
      "  [7 8 2 1]]]\n",
      "====concatenate (y축) ====\n",
      "[[[1 2]\n",
      "  [3 4]\n",
      "  [8 7]\n",
      "  [6 5]]\n",
      "\n",
      " [[5 6]\n",
      "  [7 8]\n",
      "  [4 3]\n",
      "  [2 1]]]\n",
      "====concatenate (x축) ====\n",
      "[[[1 2]\n",
      "  [3 4]]\n",
      "\n",
      " [[5 6]\n",
      "  [7 8]]\n",
      "\n",
      " [[8 7]\n",
      "  [6 5]]\n",
      "\n",
      " [[4 3]\n",
      "  [2 1]]]\n"
     ]
    }
   ],
   "source": [
    "# 3차원 concatenate\n",
    "a = np.array([[[1, 2], [3, 4]], [[5, 6], [7, 8]]])\n",
    "b = np.array([[[8, 7], [6, 5]], [[4, 3], [2, 1]]])\n",
    "\n",
    "print(\"====a====\")\n",
    "print(a)\n",
    "print(\"====b====\")\n",
    "print(b)\n",
    "\n",
    "print(\"====concatenate (z축) ====\")\n",
    "print(np.concatenate((a, b), axis = 2))\n",
    "\n",
    "print(\"====concatenate (y축) ====\")\n",
    "print(np.concatenate((a, b), axis = 1))\n",
    "\n",
    "print(\"====concatenate (x축) ====\")\n",
    "print(np.concatenate((a, b), axis = 0))"
   ]
  },
  {
   "cell_type": "code",
   "execution_count": 117,
   "id": "985bf16f-8958-4781-8f92-3a0cb60b399d",
   "metadata": {},
   "outputs": [
    {
     "name": "stdout",
     "output_type": "stream",
     "text": [
      "vstack : \n",
      "[[1 2]\n",
      " [3 4]\n",
      " [5 6]\n",
      " [7 8]]\n",
      "hstack : \n",
      "[[1 2 5 6]\n",
      " [3 4 7 8]]\n"
     ]
    },
    {
     "data": {
      "text/plain": [
       "(None, None)"
      ]
     },
     "execution_count": 117,
     "metadata": {},
     "output_type": "execute_result"
    }
   ],
   "source": [
    "# Stack : 특정 방향으로 배열을 붙임\n",
    "\n",
    "a = np.array([[1, 2],[3, 4]])\n",
    "b = np.array([[5, 6],[7, 8]])\n",
    "\n",
    "c = np.vstack((a, b))\n",
    "d = np.hstack((a, b))\n",
    "\n",
    "print(\"vstack : \"), print(c)\n",
    "print(\"hstack : \"), print(d)"
   ]
  },
  {
   "cell_type": "markdown",
   "id": "f56137d3-f93b-4857-b7b0-faa534110139",
   "metadata": {},
   "source": [
    "## Split"
   ]
  },
  {
   "cell_type": "code",
   "execution_count": 119,
   "id": "660129ea-501d-4f36-b06a-dcd1c5350423",
   "metadata": {},
   "outputs": [
    {
     "name": "stdout",
     "output_type": "stream",
     "text": [
      "vstack : \n",
      "[[1 2]\n",
      " [3 4]\n",
      " [5 6]\n",
      " [7 8]]\n",
      "hstack : \n",
      "[[1 2 5 6]\n",
      " [3 4 7 8]]\n"
     ]
    },
    {
     "ename": "ZeroDivisionError",
     "evalue": "integer division or modulo by zero",
     "output_type": "error",
     "traceback": [
      "\u001b[1;31m---------------------------------------------------------------------------\u001b[0m",
      "\u001b[1;31mTypeError\u001b[0m                                 Traceback (most recent call last)",
      "\u001b[1;32m~\\anaconda3\\lib\\site-packages\\numpy\\lib\\shape_base.py\u001b[0m in \u001b[0;36msplit\u001b[1;34m(ary, indices_or_sections, axis)\u001b[0m\n\u001b[0;32m    866\u001b[0m     \u001b[1;32mtry\u001b[0m\u001b[1;33m:\u001b[0m\u001b[1;33m\u001b[0m\u001b[1;33m\u001b[0m\u001b[0m\n\u001b[1;32m--> 867\u001b[1;33m         \u001b[0mlen\u001b[0m\u001b[1;33m(\u001b[0m\u001b[0mindices_or_sections\u001b[0m\u001b[1;33m)\u001b[0m\u001b[1;33m\u001b[0m\u001b[1;33m\u001b[0m\u001b[0m\n\u001b[0m\u001b[0;32m    868\u001b[0m     \u001b[1;32mexcept\u001b[0m \u001b[0mTypeError\u001b[0m\u001b[1;33m:\u001b[0m\u001b[1;33m\u001b[0m\u001b[1;33m\u001b[0m\u001b[0m\n",
      "\u001b[1;31mTypeError\u001b[0m: object of type 'int' has no len()",
      "\nDuring handling of the above exception, another exception occurred:\n",
      "\u001b[1;31mZeroDivisionError\u001b[0m                         Traceback (most recent call last)",
      "\u001b[1;32m~\\AppData\\Local\\Temp\\ipykernel_14536\\294120002.py\u001b[0m in \u001b[0;36m<module>\u001b[1;34m\u001b[0m\n\u001b[0;32m     10\u001b[0m \u001b[0mprint\u001b[0m\u001b[1;33m(\u001b[0m\u001b[1;34m\"hstack : \"\u001b[0m\u001b[1;33m)\u001b[0m\u001b[1;33m,\u001b[0m \u001b[0mprint\u001b[0m\u001b[1;33m(\u001b[0m\u001b[0md\u001b[0m\u001b[1;33m)\u001b[0m\u001b[1;33m\u001b[0m\u001b[1;33m\u001b[0m\u001b[0m\n\u001b[0;32m     11\u001b[0m \u001b[1;33m\u001b[0m\u001b[0m\n\u001b[1;32m---> 12\u001b[1;33m \u001b[0me\u001b[0m \u001b[1;33m=\u001b[0m \u001b[0mnp\u001b[0m\u001b[1;33m.\u001b[0m\u001b[0mvsplit\u001b[0m\u001b[1;33m(\u001b[0m\u001b[0mc\u001b[0m\u001b[1;33m,\u001b[0m \u001b[1;36m0\u001b[0m\u001b[1;33m)\u001b[0m\u001b[1;33m\u001b[0m\u001b[1;33m\u001b[0m\u001b[0m\n\u001b[0m\u001b[0;32m     13\u001b[0m \u001b[0mf\u001b[0m \u001b[1;33m=\u001b[0m \u001b[0mnp\u001b[0m\u001b[1;33m.\u001b[0m\u001b[0mhsplit\u001b[0m\u001b[1;33m(\u001b[0m\u001b[0md\u001b[0m\u001b[1;33m,\u001b[0m \u001b[1;36m0\u001b[0m\u001b[1;33m)\u001b[0m\u001b[1;33m\u001b[0m\u001b[1;33m\u001b[0m\u001b[0m\n\u001b[0;32m     14\u001b[0m \u001b[1;33m\u001b[0m\u001b[0m\n",
      "\u001b[1;32m<__array_function__ internals>\u001b[0m in \u001b[0;36mvsplit\u001b[1;34m(*args, **kwargs)\u001b[0m\n",
      "\u001b[1;32m~\\anaconda3\\lib\\site-packages\\numpy\\lib\\shape_base.py\u001b[0m in \u001b[0;36mvsplit\u001b[1;34m(ary, indices_or_sections)\u001b[0m\n\u001b[0;32m    989\u001b[0m     \u001b[1;32mif\u001b[0m \u001b[0m_nx\u001b[0m\u001b[1;33m.\u001b[0m\u001b[0mndim\u001b[0m\u001b[1;33m(\u001b[0m\u001b[0mary\u001b[0m\u001b[1;33m)\u001b[0m \u001b[1;33m<\u001b[0m \u001b[1;36m2\u001b[0m\u001b[1;33m:\u001b[0m\u001b[1;33m\u001b[0m\u001b[1;33m\u001b[0m\u001b[0m\n\u001b[0;32m    990\u001b[0m         \u001b[1;32mraise\u001b[0m \u001b[0mValueError\u001b[0m\u001b[1;33m(\u001b[0m\u001b[1;34m'vsplit only works on arrays of 2 or more dimensions'\u001b[0m\u001b[1;33m)\u001b[0m\u001b[1;33m\u001b[0m\u001b[1;33m\u001b[0m\u001b[0m\n\u001b[1;32m--> 991\u001b[1;33m     \u001b[1;32mreturn\u001b[0m \u001b[0msplit\u001b[0m\u001b[1;33m(\u001b[0m\u001b[0mary\u001b[0m\u001b[1;33m,\u001b[0m \u001b[0mindices_or_sections\u001b[0m\u001b[1;33m,\u001b[0m \u001b[1;36m0\u001b[0m\u001b[1;33m)\u001b[0m\u001b[1;33m\u001b[0m\u001b[1;33m\u001b[0m\u001b[0m\n\u001b[0m\u001b[0;32m    992\u001b[0m \u001b[1;33m\u001b[0m\u001b[0m\n\u001b[0;32m    993\u001b[0m \u001b[1;33m\u001b[0m\u001b[0m\n",
      "\u001b[1;32m<__array_function__ internals>\u001b[0m in \u001b[0;36msplit\u001b[1;34m(*args, **kwargs)\u001b[0m\n",
      "\u001b[1;32m~\\anaconda3\\lib\\site-packages\\numpy\\lib\\shape_base.py\u001b[0m in \u001b[0;36msplit\u001b[1;34m(ary, indices_or_sections, axis)\u001b[0m\n\u001b[0;32m    869\u001b[0m         \u001b[0msections\u001b[0m \u001b[1;33m=\u001b[0m \u001b[0mindices_or_sections\u001b[0m\u001b[1;33m\u001b[0m\u001b[1;33m\u001b[0m\u001b[0m\n\u001b[0;32m    870\u001b[0m         \u001b[0mN\u001b[0m \u001b[1;33m=\u001b[0m \u001b[0mary\u001b[0m\u001b[1;33m.\u001b[0m\u001b[0mshape\u001b[0m\u001b[1;33m[\u001b[0m\u001b[0maxis\u001b[0m\u001b[1;33m]\u001b[0m\u001b[1;33m\u001b[0m\u001b[1;33m\u001b[0m\u001b[0m\n\u001b[1;32m--> 871\u001b[1;33m         \u001b[1;32mif\u001b[0m \u001b[0mN\u001b[0m \u001b[1;33m%\u001b[0m \u001b[0msections\u001b[0m\u001b[1;33m:\u001b[0m\u001b[1;33m\u001b[0m\u001b[1;33m\u001b[0m\u001b[0m\n\u001b[0m\u001b[0;32m    872\u001b[0m             raise ValueError(\n\u001b[0;32m    873\u001b[0m                 'array split does not result in an equal division') from None\n",
      "\u001b[1;31mZeroDivisionError\u001b[0m: integer division or modulo by zero"
     ]
    }
   ],
   "source": [
    "# split 나눌 때 사용\n",
    "\n",
    "a = np.array([[1, 2],[3, 4]])\n",
    "b = np.array([[5, 6],[7, 8]])\n",
    "\n",
    "c = np.vstack((a, b))\n",
    "d = np.hstack((a, b))\n",
    "\n",
    "print(\"vstack : \"), print(c)\n",
    "print(\"hstack : \"), print(d)\n",
    "\n",
    "e = np.vsplit(c, 0)\n",
    "f = np.hsplit(d, 0)\n",
    "\n",
    "print(\"vsplit : \"), print(e)\n",
    "print(\"hsplit : \"), print(f)"
   ]
  },
  {
   "cell_type": "markdown",
   "id": "49425bc6-e526-474a-bdf2-8ab123fce011",
   "metadata": {},
   "source": [
    "## Size, Shape"
   ]
  },
  {
   "cell_type": "code",
   "execution_count": 82,
   "id": "3f09531f-6c04-453b-bac0-188924daa59f",
   "metadata": {},
   "outputs": [
    {
     "name": "stdout",
     "output_type": "stream",
     "text": [
      "(2, 2, 2)\n",
      "8\n",
      "(2, 4)\n",
      "8\n",
      "16\n",
      "(4, 2, 2)\n",
      "16\n",
      "(2, 4, 2)\n"
     ]
    }
   ],
   "source": [
    "a = np.array([[[1, 2], [3, 4]], [[5, 6], [7, 8]]])\n",
    "b = np.array([[1, 2, 3, 4], [5, 6, 7, 8]])\n",
    "c = np.array([[[8, 7], [6, 5]], [[4, 3], [2, 1]]])\n",
    "\n",
    "print(a.shape)\n",
    "print(a.size)\n",
    "\n",
    "print(b.shape)\n",
    "print(b.size)\n",
    "\n",
    "print(np.concatenate((a,c), axis=0).size)\n",
    "print(np.concatenate((a,c), axis=0).shape)\n",
    "print(np.concatenate((a,c), axis=1).size)\n",
    "print(np.concatenate((a,c), axis=1).shape)"
   ]
  },
  {
   "cell_type": "markdown",
   "id": "4270350c-9464-45fd-a484-a22d7069f8e8",
   "metadata": {},
   "source": [
    "## Reshape\n",
    "\n",
    "* 모양을 바꾸는 함수로, 인공지능 학습 과정에서 많이 쓰인다.\n",
    "* 예를 들어, 3차원인 자료형을 2차원으로 바꾼 후 학습기에 넣는다거나.. 하는 필요성 때문"
   ]
  },
  {
   "cell_type": "code",
   "execution_count": 87,
   "id": "1a0d7d75-5232-48f7-8e8d-56646e2cb64a",
   "metadata": {},
   "outputs": [
    {
     "name": "stdout",
     "output_type": "stream",
     "text": [
      "[[ 1  2  3  4  9 10]\n",
      " [ 5  6  7  8 11 12]]\n",
      "[[ 1  2]\n",
      " [ 3  4]\n",
      " [ 9 10]\n",
      " [ 5  6]\n",
      " [ 7  8]\n",
      " [11 12]]\n",
      "[[[ 1  2  3]\n",
      "  [ 4  9 10]]\n",
      "\n",
      " [[ 5  6  7]\n",
      "  [ 8 11 12]]]\n",
      "[ 1  2  3  4  9 10  5  6  7  8 11 12]\n"
     ]
    },
    {
     "data": {
      "text/plain": [
       "array([[ 1,  2],\n",
       "       [ 3,  4],\n",
       "       [ 9, 10],\n",
       "       [ 5,  6],\n",
       "       [ 7,  8],\n",
       "       [11, 12]])"
      ]
     },
     "execution_count": 87,
     "metadata": {},
     "output_type": "execute_result"
    }
   ],
   "source": [
    "# 2차원 배열의 reshape\n",
    "a = np.array([[1, 2, 3, 4, 9, 10], [5, 6, 7, 8, 11, 12]])\n",
    "print(a.reshape(2, 6))\n",
    "print(a.reshape(6, 2))\n",
    "# 2차원 배열을 3차원으로\n",
    "print(a.reshape(2, 2, 3))\n",
    "# 2차원 배열을 1차원으로\n",
    "print(a.reshape(12))\n",
    "\n",
    "\n",
    "# 다른 방식으로 표현 (정석 방식)\n",
    "np.reshape(a, (6, 2))"
   ]
  },
  {
   "cell_type": "markdown",
   "id": "3fead7e4-f35b-4091-bef5-9e51316f4fea",
   "metadata": {},
   "source": [
    "## new axis\n",
    "* 새로운 축을 추가하는 것"
   ]
  },
  {
   "cell_type": "code",
   "execution_count": 94,
   "id": "065a828c-43ad-4936-80ee-52b04870eda0",
   "metadata": {},
   "outputs": [
    {
     "name": "stdout",
     "output_type": "stream",
     "text": [
      "a의 shape : \n",
      "(3,)\n",
      "\n",
      "\n",
      "a2의 shape : \n",
      "(3, 1)\n",
      "\n",
      "\n"
     ]
    },
    {
     "data": {
      "text/plain": [
       "(None, None, None)"
      ]
     },
     "execution_count": 94,
     "metadata": {},
     "output_type": "execute_result"
    }
   ],
   "source": [
    "a = np.array([1, 2, 3])\n",
    "b = np.array([4, 5, 6])\n",
    "\n",
    "print(\"a의 shape : \"), print(a.shape), print(\"\\n\")\n",
    "\n",
    "a2 = a[:,np.newaxis]\n",
    "print(\"a2의 shape : \"), print(a2.shape), print(\"\\n\")"
   ]
  },
  {
   "cell_type": "markdown",
   "id": "47461319-f5e7-45ec-ba04-bc15d2f4ab83",
   "metadata": {},
   "source": [
    "## expand_dims\n",
    "* 차원을 늘리는 것\n",
    "* `np.expand_dims(원본 배열, 추가할 축 번호)` : 축 번호가 0이면 가장 앞 축으로 추가, 축 번호가 1이면 두 번째 축으로 추가"
   ]
  },
  {
   "cell_type": "code",
   "execution_count": 107,
   "id": "250f611f-0c56-4351-8a6b-282ef4507137",
   "metadata": {},
   "outputs": [
    {
     "name": "stdout",
     "output_type": "stream",
     "text": [
      "a의 shape 원본 : \n",
      "(3,)\n",
      "\n",
      "\n",
      "b의 shape 원본 : \n",
      "(3,)\n",
      "\n",
      "\n",
      "a의 shape 0축 추가: \n",
      "(1, 3)\n",
      "\n",
      "\n",
      "a에 shape 0축 추가 + 1축 추가 : \n",
      "(1, 1, 3)\n",
      "\n",
      "\n",
      "a, b 배열 생성 shape : \n",
      "(2, 3)\n",
      "\n",
      "\n",
      "a, b 배열 + 0축 추가 shape : \n",
      "(1, 2, 3)\n",
      "\n",
      "\n",
      "a, b 배열 + 1축 추가 shape : \n",
      "(2, 1, 3)\n",
      "\n",
      "\n",
      "a, b 배열 + 2축 추가 shape : \n",
      "(2, 3, 1)\n",
      "\n",
      "\n"
     ]
    },
    {
     "data": {
      "text/plain": [
       "(None, None, None)"
      ]
     },
     "execution_count": 107,
     "metadata": {},
     "output_type": "execute_result"
    }
   ],
   "source": [
    "a = np.array([1, 2, 3])\n",
    "b = np.array([4, 5, 6])\n",
    "print(\"a의 shape 원본 : \"), print(a.shape), print(\"\\n\")\n",
    "print(\"b의 shape 원본 : \"), print(b.shape), print(\"\\n\")\n",
    "\n",
    "c1 = np.expand_dims(a, axis=0)\n",
    "print(\"a의 shape 0축 추가: \"), print(c1.shape), print(\"\\n\")\n",
    "\n",
    "c2 = np.expand_dims(c1, axis=1)\n",
    "print(\"a에 shape 0축 추가 + 1축 추가 : \"), print(c2.shape), print(\"\\n\")\n",
    "\n",
    "\n",
    "d = np.array([a, b])\n",
    "e = np.expand_dims(d, axis=0)\n",
    "f = np.expand_dims(d, axis=1)\n",
    "g = np.expand_dims(d, axis=2)\n",
    "print(\"a, b 배열 생성 shape : \"), print(d.shape), print(\"\\n\")\n",
    "print(\"a, b 배열 + 0축 추가 shape : \"), print(e.shape), print(\"\\n\")\n",
    "print(\"a, b 배열 + 1축 추가 shape : \"), print(f.shape), print(\"\\n\")\n",
    "print(\"a, b 배열 + 2축 추가 shape : \"), print(g.shape), print(\"\\n\")\n"
   ]
  },
  {
   "cell_type": "markdown",
   "id": "1eb61c4b-a34f-42a4-a068-b993afd44cac",
   "metadata": {},
   "source": [
    "## Unique 값"
   ]
  },
  {
   "cell_type": "code",
   "execution_count": 153,
   "id": "3aaea60e-760c-4656-95b1-1184a39f4e48",
   "metadata": {},
   "outputs": [
    {
     "name": "stdout",
     "output_type": "stream",
     "text": [
      "a의 유니크값\n",
      "[11 12 13 14 15 16 17 18]\n",
      "\n",
      "\n",
      "a의 유니크값 + return index=True\n",
      "(array([11, 12, 13, 14, 15, 16, 17, 18]), array([3, 5, 6, 7, 8, 0, 1, 2], dtype=int64))\n",
      "\n",
      "\n",
      "a의 유니크값 + return inverse=True\n",
      "(array([11, 12, 13, 14, 15, 16, 17, 18]), array([5, 6, 7, 0, 0, 1, 2, 3, 4, 5, 5], dtype=int64))\n",
      "\n",
      "\n",
      "a의 유니크값 + return index + return inverse=True\n",
      "(array([11, 12, 13, 14, 15, 16, 17, 18]), array([3, 5, 6, 7, 8, 0, 1, 2], dtype=int64), array([5, 6, 7, 0, 0, 1, 2, 3, 4, 5, 5], dtype=int64))\n",
      "\n",
      "\n",
      "a의 유니크값 + return counts=True\n",
      "(array([11, 12, 13, 14, 15, 16, 17, 18]), array([2, 1, 1, 1, 1, 3, 1, 1], dtype=int64))\n",
      "\n",
      "\n"
     ]
    },
    {
     "data": {
      "text/plain": [
       "(None, None, None)"
      ]
     },
     "execution_count": 153,
     "metadata": {},
     "output_type": "execute_result"
    }
   ],
   "source": [
    "a = np.array([16, 17, 18, 11, 11, 12, 13, 14, 15, 16, 16])\n",
    "print(\"a의 유니크값\"), print(np.unique(a)), print('\\n')\n",
    "\n",
    "print(\"a의 유니크값 + return index=True\"), print(np.unique(a, return_index=True)), print('\\n')\n",
    "\n",
    "print(\"a의 유니크값 + return inverse=True\"), print(np.unique(a, return_inverse=True)), print('\\n')\n",
    "\n",
    "print(\"a의 유니크값 + return index + return inverse=True\"), print(np.unique(a, return_index=True, return_inverse=True)), print('\\n')\n",
    "\n",
    "print(\"a의 유니크값 + return counts=True\"), print(np.unique(a, return_counts=True)), print('\\n')"
   ]
  },
  {
   "cell_type": "markdown",
   "id": "90b65874-9a9a-49fa-b335-0319e4ab3aea",
   "metadata": {},
   "source": [
    "# 슬라이싱\n",
    "\n",
    "## 슬라이싱과 주소 참조\n",
    "* 슬라이싱은 원 배열의 '주소값'을 참조한다.\n",
    "* 그러므로 슬라이싱한 후의 배열의 원소의 값을 변경해주면\n",
    "* 원 배열의 원소값도 변경된다.\n",
    "\n",
    "## .copy : 주소참조가 아닌 배열 자체를 복사\n",
    "* 주소 참조가 아닌, 동일한 값을 가진 배열을 복사하고 싶다면\n",
    "* `배열 = 원배열.copy` 함수를 이용한다. "
   ]
  },
  {
   "cell_type": "code",
   "execution_count": 116,
   "id": "21f57c5b-a12e-4e33-b5c0-c407a9ff767b",
   "metadata": {},
   "outputs": [
    {
     "name": "stdout",
     "output_type": "stream",
     "text": [
      "a 배열 : \n",
      "[ 1  2  3  4  5  6  7  8  9 10]\n",
      "a에서 슬라이싱한 arr1 : \n",
      "[4 5 6 7 8]\n",
      "a 배열 + arr1의 0번 원소 값 변경시 : \n",
      "[ 1  2  3 14  5  6  7  8  9 10]\n",
      "arr1의 0번 원소 값 변경 후 arr1 : \n",
      "[14  5  6  7  8]\n"
     ]
    },
    {
     "data": {
      "text/plain": [
       "(None, None)"
      ]
     },
     "execution_count": 116,
     "metadata": {},
     "output_type": "execute_result"
    }
   ],
   "source": [
    "# 슬라이싱은 원 배열의 '주소값'을 참조한다.\n",
    "# 그러므로 슬라이싱한 후의 배열의 원소의 값을 변경해주면\n",
    "# 원 배열의 원소값도 변경된다.\n",
    "\n",
    "a = np.array([1, 2, 3, 4, 5, 6, 7, 8, 9, 10])\n",
    "arr1 = a[3:8]\n",
    "\n",
    "print(\"a 배열 : \"), print(a)\n",
    "print(\"a에서 슬라이싱한 arr1 : \"), print(arr1)\n",
    "\n",
    "arr1[0] = 14\n",
    "print(\"a 배열 + arr1의 0번 원소 값 변경시 : \"), print(a)\n",
    "print(\"arr1의 0번 원소 값 변경 후 arr1 : \"), print(arr1)\n"
   ]
  },
  {
   "cell_type": "markdown",
   "id": "6dbd6d1d-06d0-4b33-97dc-bedd4f54577a",
   "metadata": {},
   "source": [
    "# Numpy 의 연산과 비교연산, 통계\n",
    "\n",
    "## Numpy의 비교연산\n",
    "* `>, <, <=, >=` : 원소값 중 조건에 맞는 원소값을 반환한다.\n",
    "* `==, !=` : 원소값이 특정 값과 같거나 같지 않은 원소값을 반환한다.\n",
    "* `|` : or 의 뜻\n",
    "* `&` : and 의 뜻\n",
    "\n",
    "## Numpy의 연산\n",
    "* `+, -, *, /` : 기본적인 사칙연산 가능\n",
    "* `%, //` : 나누기 관련 몫, 나머지도 구할 수 있다.\n",
    "* `배열.sum()` : 배열 내의 원소 값을 모두 더한 값을 반환\n",
    "\n",
    "## Broad Case : 크기가 다른 배열 간 연산\n",
    "* 크기가 다른 배열 간 연산은 행렬의 연산과 그 방식이 같다.\n",
    "* 즉, 마지막 축의 값이 같거나, 어느 한 쪽이 1이면 연산이 가능하다.\n",
    "\n",
    "\n",
    "## Numpy 연산과 관련된 함수\n",
    "* `np.nonzero(조건)` : 조건에 맞는 데이터가 위치한 축값을 반환한다.\n",
    "* `zip`\n",
    "\n",
    "## Numpy 통계 함수\n",
    "* `min, max, sum` : 최소값, 최대값, 합계를 구할 수 있다.\n",
    "* `배열.max()` : 최대값\n",
    "* `배열.min()` : 최소값\n",
    "\n",
    "## 난수 함수\n",
    "* `np.random` : 난수값을 생성\n",
    "* `np.rangom.default_rngo(시드값)` : 난수값을 생성 (난수 생성 표에 따름 - 시드값에 따라 연산 결과는 다르나, 시드값이 같다면 동일한 난수값이 반환됨)\n"
   ]
  },
  {
   "cell_type": "code",
   "execution_count": 108,
   "id": "9ae109f5-d863-48ae-b7be-496f5a683474",
   "metadata": {},
   "outputs": [
    {
     "name": "stdout",
     "output_type": "stream",
     "text": [
      "[3 4]\n"
     ]
    }
   ],
   "source": [
    "a = np.array([[1, 2], [3, 4]])\n",
    "\n",
    "up2 = a[a>2]\n",
    "print(up2)"
   ]
  },
  {
   "cell_type": "code",
   "execution_count": 112,
   "id": "7fb183d0-3d9d-4f73-b5b9-1ae22226c387",
   "metadata": {},
   "outputs": [
    {
     "ename": "TypeError",
     "evalue": "'<' not supported between instances of 'tuple' and 'int'",
     "output_type": "error",
     "traceback": [
      "\u001b[1;31m---------------------------------------------------------------------------\u001b[0m",
      "\u001b[1;31mTypeError\u001b[0m                                 Traceback (most recent call last)",
      "\u001b[1;32m~\\AppData\\Local\\Temp\\ipykernel_14536\\3043053317.py\u001b[0m in \u001b[0;36m<module>\u001b[1;34m\u001b[0m\n\u001b[1;32m----> 1\u001b[1;33m \u001b[0ma\u001b[0m \u001b[1;33m=\u001b[0m \u001b[0mnp\u001b[0m\u001b[1;33m.\u001b[0m\u001b[0mnonzero\u001b[0m\u001b[1;33m(\u001b[0m\u001b[0ma\u001b[0m\u001b[1;33m<\u001b[0m\u001b[1;36m5\u001b[0m\u001b[1;33m)\u001b[0m\u001b[1;33m\u001b[0m\u001b[1;33m\u001b[0m\u001b[0m\n\u001b[0m\u001b[0;32m      2\u001b[0m \u001b[0ma\u001b[0m\u001b[1;33m\u001b[0m\u001b[1;33m\u001b[0m\u001b[0m\n",
      "\u001b[1;31mTypeError\u001b[0m: '<' not supported between instances of 'tuple' and 'int'"
     ]
    }
   ],
   "source": [
    "a = np.nonzero(a<5)\n",
    "a"
   ]
  },
  {
   "cell_type": "markdown",
   "id": "1ed72649-c64c-4b2f-a6cd-105855b443e5",
   "metadata": {},
   "source": [
    "## 예시"
   ]
  },
  {
   "cell_type": "markdown",
   "id": "b80d22bf-6032-44af-b5ae-a87fa43de14f",
   "metadata": {},
   "source": [
    "### 연산"
   ]
  },
  {
   "cell_type": "code",
   "execution_count": 130,
   "id": "424519a2-167d-401c-b048-1557422d65e7",
   "metadata": {},
   "outputs": [
    {
     "name": "stdout",
     "output_type": "stream",
     "text": [
      "a, b 값\n",
      "[1 2]\n",
      "[1 1]\n",
      "\n",
      "\n",
      "a + b\n",
      "[2 3]\n",
      "\n",
      "\n",
      "sum_a\n",
      "3\n",
      "sum_b\n",
      "2\n",
      "\n",
      "\n",
      "c = a, b 배열\n",
      "[[1 2]\n",
      " [1 1]]\n",
      "\n",
      "\n",
      "c의 축간 sum)\n",
      "c의 0축 sum)\n",
      "[2 3]\n",
      "c의 1축 sum)\n",
      "[3 2]\n"
     ]
    },
    {
     "data": {
      "text/plain": [
       "(None, None, None, None, None)"
      ]
     },
     "execution_count": 130,
     "metadata": {},
     "output_type": "execute_result"
    }
   ],
   "source": [
    "a = np.array([1, 2])\n",
    "b = np.array([1, 1])\n",
    "\n",
    "print(\"a, b 값\"), print(a), print(b), print('\\n')\n",
    "\n",
    "\n",
    "plus_v = a + b\n",
    "print(\"a + b\"), print(plus_v), print('\\n')\n",
    "\n",
    "sum_a = a.sum()\n",
    "sum_b = b.sum()\n",
    "print(\"sum_a\"), print(sum_a), print(\"sum_b\"), print(sum_b), print('\\n')\n",
    "\n",
    "c = np.array([a, b])\n",
    "print(\"c = a, b 배열\"), print(c), print('\\n')\n",
    "\n",
    "\n",
    "d = c.sum(0)\n",
    "e = c.sum(1)\n",
    "print(\"c의 축간 sum\") , print(\"c의 0축 sum)\") , print(d), print(\"c의 1축 sum)\") , print(e)\n"
   ]
  },
  {
   "cell_type": "markdown",
   "id": "67949873-1816-4f33-8e4e-3f1e7df484b5",
   "metadata": {},
   "source": [
    "### BroadCast : 크기가 다른 배열 간 연산"
   ]
  },
  {
   "cell_type": "code",
   "execution_count": 136,
   "id": "48654a30-42eb-4e68-b95b-b96f50dd0c28",
   "metadata": {},
   "outputs": [
    {
     "name": "stdout",
     "output_type": "stream",
     "text": [
      "a : \n",
      "[1 2]\n",
      "(2,)\n",
      "\n",
      "\n",
      "b : \n",
      "[[1 2]\n",
      " [3 4]]\n",
      "(2, 2)\n",
      "\n",
      "\n",
      "c : \n",
      "[[1 2 3 4]\n",
      " [5 6 7 8]]\n",
      "(2, 4)\n",
      "\n",
      "\n",
      "[[1 4]\n",
      " [3 8]]\n"
     ]
    }
   ],
   "source": [
    "a = np.array([1, 2])\n",
    "b = np.array([[1, 2], [3, 4]])\n",
    "c = np.array([[1, 2, 3, 4], [5, 6, 7, 8]])\n",
    "\n",
    "print(\"a : \"), print(a), print(a.shape), print(\"\\n\")\n",
    "print(\"b : \"), print(b), print(b.shape), print(\"\\n\")\n",
    "print(\"c : \"), print(c), print(c.shape), print(\"\\n\")\n",
    "\n",
    "d = a * b\n",
    "# e = a * c   축에서의 원소 개수가 달라 연산 불가\n",
    "\n",
    "print(d)\n",
    "# print(e)"
   ]
  },
  {
   "cell_type": "markdown",
   "id": "f2b4f58e-b7eb-4908-b5df-f46fd12da83a",
   "metadata": {},
   "source": [
    "### 난수값 생성"
   ]
  },
  {
   "cell_type": "code",
   "execution_count": 144,
   "id": "6a7534c6-d5d9-4064-9bf4-e12b4c9b7f1d",
   "metadata": {},
   "outputs": [
    {
     "name": "stdout",
     "output_type": "stream",
     "text": [
      "난수값 생성\n",
      "[0.51182162 0.9504637  0.14415961]\n",
      "\n",
      "\n",
      "난수값 생성 + integer로 제한\n",
      "[8 9 2 3 8 4 2]\n",
      "\n",
      "\n"
     ]
    },
    {
     "data": {
      "text/plain": [
       "(None, None, None)"
      ]
     },
     "execution_count": 144,
     "metadata": {},
     "output_type": "execute_result"
    }
   ],
   "source": [
    "rng = np.random.default_rng(1)\n",
    "print(\"난수값 생성\"), print(rng.random(3)), print('\\n')\n",
    "\n",
    "print(\"난수값 생성 + integer로 제한\"), print(rng.integers(0, 10, 7)), print('\\n')"
   ]
  },
  {
   "cell_type": "code",
   "execution_count": null,
   "id": "2ca7412a-4023-416f-9ffd-30dcb1206e14",
   "metadata": {},
   "outputs": [],
   "source": []
  },
  {
   "cell_type": "markdown",
   "id": "cde8f8ca-111e-4c18-847f-e147158688f3",
   "metadata": {},
   "source": [
    "# 헤드1\n",
    "## 헤드2\n",
    "### 헤드3\n",
    "\n",
    "|표 제목|표 내용|\n",
    "|-----|-----|\n",
    "|1.손원준|화이팅|\n",
    "|2.김해민|대박|\n",
    "|3.고준호|화이팅하자|\n",
    "\n",
    "* 항목\n",
    "* 항목\n",
    "\n",
    "`코드는 이렇게 작성합니다.`"
   ]
  },
  {
   "cell_type": "code",
   "execution_count": null,
   "id": "97189e61-b6d2-4c2f-a32e-89564fbf4d86",
   "metadata": {},
   "outputs": [],
   "source": []
  }
 ],
 "metadata": {
  "kernelspec": {
   "display_name": "Python 3 (ipykernel)",
   "language": "python",
   "name": "python3"
  },
  "language_info": {
   "codemirror_mode": {
    "name": "ipython",
    "version": 3
   },
   "file_extension": ".py",
   "mimetype": "text/x-python",
   "name": "python",
   "nbconvert_exporter": "python",
   "pygments_lexer": "ipython3",
   "version": "3.9.12"
  },
  "toc-autonumbering": true
 },
 "nbformat": 4,
 "nbformat_minor": 5
}
