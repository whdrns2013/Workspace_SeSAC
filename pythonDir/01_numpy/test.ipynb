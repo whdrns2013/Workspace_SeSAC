{
 "cells": [
  {
   "cell_type": "code",
   "execution_count": 16,
   "id": "82212669-a853-425a-8e42-050d251b6ca3",
   "metadata": {},
   "outputs": [],
   "source": [
    "babbling = [\"aya\", \"ye\", \"woo\", \"ma\"]\n",
    "babbling_list = [\"ayaye\", \"uuuma\", \"ye\", \"yemawoo\", \"ayaa\"]"
   ]
  },
  {
   "cell_type": "code",
   "execution_count": 29,
   "id": "97ce2e13-b69b-4c29-bc2f-4b41dd6c6fe2",
   "metadata": {},
   "outputs": [
    {
     "name": "stdout",
     "output_type": "stream",
     "text": [
      "['aya', 'ye', 'woo', 'ma']\n",
      "['ye', 'woo', 'ma']\n"
     ]
    }
   ],
   "source": [
    "\n",
    "babbling2 = babbling.copy()\n",
    "print(babbling2)\n",
    "babbling2.remove('aya')\n",
    "print(babbling2)\n",
    "\n",
    "\n",
    "# print(babbling2)\n",
    "\n",
    "# for i in babbling:\n",
    "    # babbling2 = babbling.copy().remove(i)\n",
    "    # for j in babbling2:\n",
    "        # i + j\n"
   ]
  },
  {
   "cell_type": "code",
   "execution_count": 31,
   "id": "7ad347aa-8636-49c5-97a4-6ee12f576614",
   "metadata": {},
   "outputs": [
    {
     "name": "stdout",
     "output_type": "stream",
     "text": [
      "['ayaye', 'ayawoo', 'ayama', 'yeaya', 'yewoo', 'yema', 'wooaya', 'wooye', 'wooma', 'maaya', 'maye', 'mawoo']\n"
     ]
    }
   ],
   "source": [
    "bab2 = []\n",
    "\n",
    "for i in babbling:\n",
    "    babbling2 = babbling.copy()\n",
    "    babbling2.remove(i)\n",
    "    for j in babbling2:\n",
    "        bab2.append(i+j)\n",
    "\n",
    "print(bab2)"
   ]
  },
  {
   "cell_type": "code",
   "execution_count": 33,
   "id": "84634b6c-0a6d-49a5-94a2-ed41610df540",
   "metadata": {},
   "outputs": [
    {
     "name": "stdout",
     "output_type": "stream",
     "text": [
      "['ayayewoo', 'ayayema', 'ayawooye', 'ayawooma', 'ayamaye', 'ayamawoo', 'yeayawoo', 'yeayama', 'yewooaya', 'yewooma', 'yemaaya', 'yemawoo', 'wooayaye', 'wooayama', 'wooyeaya', 'wooyema', 'woomaaya', 'woomaye', 'maayaye', 'maayawoo', 'mayeaya', 'mayewoo', 'mawooaya', 'mawooye']\n"
     ]
    }
   ],
   "source": [
    "bab3 = []\n",
    "\n",
    "for i in babbling:\n",
    "    babbling2 = babbling.copy()\n",
    "    babbling2.remove(i)\n",
    "    for j in babbling2:\n",
    "        babbling3 = babbling2.copy()\n",
    "        babbling3.remove(j)\n",
    "        for k in babbling3:\n",
    "            bab3.append(i+j+k)\n",
    "\n",
    "print(bab3)"
   ]
  },
  {
   "cell_type": "code",
   "execution_count": 34,
   "id": "8e38db45-6a04-4f76-9102-b0f40d9ded43",
   "metadata": {},
   "outputs": [
    {
     "name": "stdout",
     "output_type": "stream",
     "text": [
      "['ayayewooaya', 'ayayewooye', 'ayayewoowoo', 'ayayewooma', 'ayayemaaya', 'ayayemaye', 'ayayemawoo', 'ayayemama', 'ayawooyeaya', 'ayawooyeye', 'ayawooyewoo', 'ayawooyema', 'ayawoomaaya', 'ayawoomaye', 'ayawoomawoo', 'ayawoomama', 'ayamayeaya', 'ayamayeye', 'ayamayewoo', 'ayamayema', 'ayamawooaya', 'ayamawooye', 'ayamawoowoo', 'ayamawooma', 'yeayawooaya', 'yeayawooye', 'yeayawoowoo', 'yeayawooma', 'yeayamaaya', 'yeayamaye', 'yeayamawoo', 'yeayamama', 'yewooayaaya', 'yewooayaye', 'yewooayawoo', 'yewooayama', 'yewoomaaya', 'yewoomaye', 'yewoomawoo', 'yewoomama', 'yemaayaaya', 'yemaayaye', 'yemaayawoo', 'yemaayama', 'yemawooaya', 'yemawooye', 'yemawoowoo', 'yemawooma', 'wooayayeaya', 'wooayayeye', 'wooayayewoo', 'wooayayema', 'wooayamaaya', 'wooayamaye', 'wooayamawoo', 'wooayamama', 'wooyeayaaya', 'wooyeayaye', 'wooyeayawoo', 'wooyeayama', 'wooyemaaya', 'wooyemaye', 'wooyemawoo', 'wooyemama', 'woomaayaaya', 'woomaayaye', 'woomaayawoo', 'woomaayama', 'woomayeaya', 'woomayeye', 'woomayewoo', 'woomayema', 'maayayeaya', 'maayayeye', 'maayayewoo', 'maayayema', 'maayawooaya', 'maayawooye', 'maayawoowoo', 'maayawooma', 'mayeayaaya', 'mayeayaye', 'mayeayawoo', 'mayeayama', 'mayewooaya', 'mayewooye', 'mayewoowoo', 'mayewooma', 'mawooayaaya', 'mawooayaye', 'mawooayawoo', 'mawooayama', 'mawooyeaya', 'mawooyeye', 'mawooyewoo', 'mawooyema']\n"
     ]
    }
   ],
   "source": [
    "bab4 = []\n",
    "\n",
    "for i in babbling:\n",
    "    babbling2 = babbling.copy()\n",
    "    babbling2.remove(i)\n",
    "    for j in babbling2:\n",
    "        babbling3 = babbling2.copy()\n",
    "        babbling3.remove(j)\n",
    "        for k in babbling3:\n",
    "            babbling4 = babbling3.copy()\n",
    "            babbling4.remove(k)\n",
    "            for l in babbling:\n",
    "                bab4.append(i+j+k+l)\n",
    "\n",
    "print(bab4)"
   ]
  },
  {
   "cell_type": "code",
   "execution_count": null,
   "id": "b3eee3ab-678f-47cd-bf2a-810b4ec13b5a",
   "metadata": {},
   "outputs": [],
   "source": []
  }
 ],
 "metadata": {
  "kernelspec": {
   "display_name": "Python 3 (ipykernel)",
   "language": "python",
   "name": "python3"
  },
  "language_info": {
   "codemirror_mode": {
    "name": "ipython",
    "version": 3
   },
   "file_extension": ".py",
   "mimetype": "text/x-python",
   "name": "python",
   "nbconvert_exporter": "python",
   "pygments_lexer": "ipython3",
   "version": "3.9.13"
  }
 },
 "nbformat": 4,
 "nbformat_minor": 5
}
