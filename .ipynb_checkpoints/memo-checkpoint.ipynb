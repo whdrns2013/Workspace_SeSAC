{
 "cells": [
  {
   "cell_type": "code",
   "execution_count": 2,
   "id": "b271c0f5-7240-4903-b0c3-7790d4d33453",
   "metadata": {},
   "outputs": [],
   "source": [
    "import pandas\n",
    "import random"
   ]
  },
  {
   "cell_type": "code",
   "execution_count": 4,
   "id": "5e17daee-5085-431b-9328-a1bf473cd20b",
   "metadata": {
    "tags": []
   },
   "outputs": [
    {
     "data": {
      "text/plain": [
       "7"
      ]
     },
     "execution_count": 4,
     "metadata": {},
     "output_type": "execute_result"
    }
   ],
   "source": [
    "ran = random.randint(0, 10)\n",
    "ran"
   ]
  },
  {
   "cell_type": "code",
   "execution_count": 5,
   "id": "115addc4-c150-4ceb-83f2-031284dc41f8",
   "metadata": {
    "tags": []
   },
   "outputs": [],
   "source": [
    "df = pandas.DataFrame()"
   ]
  },
  {
   "cell_type": "code",
   "execution_count": 16,
   "id": "806e9a38-3b29-4cb6-82b7-cd0b2322e6f2",
   "metadata": {
    "tags": []
   },
   "outputs": [
    {
     "name": "stdout",
     "output_type": "stream",
     "text": [
      "[[9, 10, 5], [5, 7, 3], [9, 6, 0], [2, 10, 1], [4, 9, 1]]\n",
      "       1열    2열   3열\n",
      "첫번째   9.0  10.0  5.0\n",
      "두번째   5.0   7.0  3.0\n",
      "세번째   9.0   6.0  0.0\n",
      "네번째   2.0  10.0  1.0\n",
      "다섯번째  4.0   9.0  1.0\n"
     ]
    }
   ],
   "source": [
    "import pandas as pd\n",
    "import random\n",
    "\n",
    "ls_list = []\n",
    "\n",
    "for i in range(5):\n",
    "    ls = []\n",
    "    for j in range(3):\n",
    "        ls.append(random.randint(0, 10))\n",
    "    ls_list.append(ls)\n",
    "\n",
    "print(ls_list)\n",
    "\n",
    "\n",
    "df = pd.DataFrame(data = ls_list, index = [\"첫번째\",\"두번째\",\"세번째\",\"네번째\",\"다섯번째\"],\n",
    "                 columns=[\"1열\",\"2열\",\"3열\"],\n",
    "                 dtype=float,\n",
    "                 copy=)\n",
    "print(df)"
   ]
  },
  {
   "cell_type": "code",
   "execution_count": 23,
   "id": "fd4f5e0a-f503-4d54-8695-cec0220d9df6",
   "metadata": {
    "tags": []
   },
   "outputs": [
    {
     "name": "stdout",
     "output_type": "stream",
     "text": [
      "[[1000, 10, 5], [5, 7, 3], [9, 6, 0]]\n",
      "   0   1  2\n",
      "0  9  10  5\n",
      "1  5   7  3\n",
      "2  9   6  0\n",
      "   0   1  2\n",
      "0  9  10  5\n",
      "1  5   7  3\n",
      "2  9   6  0\n"
     ]
    }
   ],
   "source": [
    "ls_list = [[9, 10, 5], [5, 7, 3], [9, 6, 0]]\n",
    "\n",
    "df_copy = pd.DataFrame(ls_list, copy=True)\n",
    "df_nocopy = pd.DataFrame(ls_list, copy=False)\n",
    "\n",
    "ls_list[0][0] = 1000\n",
    "print(ls_list)\n",
    "\n",
    "print(df_copy)\n",
    "print(df_nocopy)"
   ]
  },
  {
   "cell_type": "code",
   "execution_count": 3,
   "id": "507861b3-7342-45a5-ad27-3cbf4d7b79f9",
   "metadata": {
    "tags": []
   },
   "outputs": [
    {
     "name": "stdout",
     "output_type": "stream",
     "text": [
      "      0  1\n",
      "0  1000  6\n",
      "1     0  0\n",
      "   0  1\n",
      "0  0  6\n",
      "1  0  0\n",
      "      0  1\n",
      "0  1000  6\n",
      "1     0  0\n"
     ]
    }
   ],
   "source": [
    "import pandas as pd\n",
    "import numpy as np\n",
    "\n",
    "arr = np.random.randint(10, size=(2, 2))\n",
    "\n",
    "df_nocopy = pd.DataFrame(arr, copy=False)\n",
    "df_copy = pd.DataFrame(arr, copy=True)\n",
    "df_default = pd.DataFrame(arr)\n",
    "\n",
    "arr[0,0] = 1000\n",
    "print(df_nocopy)\n",
    "print(df_copy)\n",
    "print(df_default)\n"
   ]
  },
  {
   "cell_type": "code",
   "execution_count": 2,
   "id": "62ae4431-e779-4d2e-9dfa-60f7f2216895",
   "metadata": {
    "tags": []
   },
   "outputs": [
    {
     "name": "stdout",
     "output_type": "stream",
     "text": [
      "   번호   자동차명  연비    가격  판매량\n",
      "0   1  1번자동차  15  1500  900\n",
      "1   2  2번자동차  14  2100  800\n",
      "2   3  3번자동차   2  3500  100\n",
      "3   4  4번자동차   8  2000  200\n",
      "4   5  5번자동차   8  1200  100\n",
      "5   6  6번자동차   5  1000  300\n",
      "6   7  7번자동차  10  1100  400\n"
     ]
    }
   ],
   "source": [
    "import pandas as pd\n",
    "import openpyxl\n",
    "\n",
    "path = \"./car.xlsx\"\n",
    "df = pd.read_excel(path)\n",
    "\n",
    "print(df)"
   ]
  },
  {
   "cell_type": "code",
   "execution_count": 5,
   "id": "96e8c184-0070-466a-b98f-39e64e6994f5",
   "metadata": {
    "tags": []
   },
   "outputs": [
    {
     "name": "stdout",
     "output_type": "stream",
     "text": [
      "Collecting openpyxl\n",
      "  Downloading openpyxl-3.1.2-py2.py3-none-any.whl (249 kB)\n",
      "\u001b[2K     \u001b[90m━━━━━━━━━━━━━━━━━━━━━━━━━━━━━━━━━━━━━━━\u001b[0m \u001b[32m250.0/250.0 kB\u001b[0m \u001b[31m7.7 MB/s\u001b[0m eta \u001b[36m0:00:00\u001b[0m\n",
      "\u001b[?25hCollecting et-xmlfile\n",
      "  Downloading et_xmlfile-1.1.0-py3-none-any.whl (4.7 kB)\n",
      "Installing collected packages: et-xmlfile, openpyxl\n",
      "Successfully installed et-xmlfile-1.1.0 openpyxl-3.1.2\n",
      "Note: you may need to restart the kernel to use updated packages.\n"
     ]
    }
   ],
   "source": [
    "print(df.head(2))\n",
    "print(df.tail(2))\n",
    "print(df.sample(2))"
   ]
  },
  {
   "cell_type": "code",
   "execution_count": null,
   "id": "f2c6cb49-10b3-4b44-a980-d4977a4c5cd7",
   "metadata": {},
   "outputs": [],
   "source": []
  }
 ],
 "metadata": {
  "kernelspec": {
   "display_name": "Python 3 (ipykernel)",
   "language": "python",
   "name": "python3"
  },
  "language_info": {
   "codemirror_mode": {
    "name": "ipython",
    "version": 3
   },
   "file_extension": ".py",
   "mimetype": "text/x-python",
   "name": "python",
   "nbconvert_exporter": "python",
   "pygments_lexer": "ipython3",
   "version": "3.10.0"
  }
 },
 "nbformat": 4,
 "nbformat_minor": 5
}
